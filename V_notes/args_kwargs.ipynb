{
 "cells": [
  {
   "cell_type": "markdown",
   "id": "fa5abd0f-ac3c-46cc-95e8-bae00ef6207c",
   "metadata": {},
   "source": [
    "## arbitrary number of positional arguments\n",
    "\n",
    "\n",
    "- we use asterisk (`*`) symbol to denote arbitrary number of positional params\n",
    "- conventionally we use variable name as `*args`"
   ]
  },
  {
   "cell_type": "code",
   "execution_count": 1,
   "id": "b00d1e10-94ad-47dc-8c6d-14bdbe93f9a4",
   "metadata": {},
   "outputs": [],
   "source": [
    "def item_operation(*items):\n",
    "    for item in items:\n",
    "        print(item, end=\" \")\n"
   ]
  },
  {
   "cell_type": "code",
   "execution_count": 2,
   "id": "50b8bd62-f779-4933-af89-4e33ec1d73a9",
   "metadata": {},
   "outputs": [
    {
     "name": "stdout",
     "output_type": "stream",
     "text": [
      "apple banana orange "
     ]
    }
   ],
   "source": [
    "item_operation(\"apple\", \"banana\", \"orange\")"
   ]
  },
  {
   "cell_type": "code",
   "execution_count": 10,
   "id": "5ebab9d7-dd36-4d82-a8cc-6a8c828c2c8b",
   "metadata": {},
   "outputs": [],
   "source": [
    "def languages(*langs):\n",
    "    for lang in langs:\n",
    "        print(lang.upper())\n",
    "    \n",
    "    "
   ]
  },
  {
   "cell_type": "code",
   "execution_count": 19,
   "id": "2d03993a-8c58-4e25-958b-a33a4c159a21",
   "metadata": {},
   "outputs": [],
   "source": [
    "def languages(lang1, lang2):\n",
    "    print(lang1.upper())\n",
    "    print(lang2.upper())"
   ]
  },
  {
   "cell_type": "code",
   "execution_count": 20,
   "id": "a25e4985-14df-43ba-b488-4322066168a4",
   "metadata": {},
   "outputs": [
    {
     "name": "stdout",
     "output_type": "stream",
     "text": [
      "PYTHON\n",
      "JAVA\n"
     ]
    }
   ],
   "source": [
    "languages(\"python\", \"java\")"
   ]
  },
  {
   "cell_type": "code",
   "execution_count": 17,
   "id": "55482605-9a81-44be-9113-221409534a30",
   "metadata": {},
   "outputs": [
    {
     "name": "stdout",
     "output_type": "stream",
     "text": [
      "PYTHON\n",
      "JAVA\n",
      "C\n",
      "CPP\n"
     ]
    }
   ],
   "source": [
    "languages(\"python\", \"java\", \"c\", \"cpp\")\n"
   ]
  },
  {
   "cell_type": "code",
   "execution_count": 16,
   "id": "9aff5349-4b34-471a-ac61-ef498f53360e",
   "metadata": {},
   "outputs": [],
   "source": [
    "languages()\n"
   ]
  },
  {
   "cell_type": "code",
   "execution_count": 18,
   "id": "13ef1360-7130-4d3e-a981-26b8b686176f",
   "metadata": {},
   "outputs": [
    {
     "name": "stdout",
     "output_type": "stream",
     "text": [
      "PYTHON\n",
      "JAVA\n"
     ]
    }
   ],
   "source": [
    "languages(\"python\", \"java\")"
   ]
  },
  {
   "cell_type": "code",
   "execution_count": 6,
   "id": "4af948bf-d6f0-42ca-8dd2-63d0cf846f72",
   "metadata": {},
   "outputs": [
    {
     "name": "stdout",
     "output_type": "stream",
     "text": [
      "()\n",
      "<class 'tuple'>\n"
     ]
    }
   ],
   "source": [
    "languages()"
   ]
  },
  {
   "cell_type": "code",
   "execution_count": 8,
   "id": "a2024daf-06c4-4a86-a9cc-69ef1602d476",
   "metadata": {},
   "outputs": [
    {
     "name": "stdout",
     "output_type": "stream",
     "text": [
      "python java\n",
      "<class 'tuple'>\n"
     ]
    }
   ],
   "source": [
    "languages(\"python\", \"java\")"
   ]
  },
  {
   "cell_type": "code",
   "execution_count": null,
   "id": "0a5f9edd-f8f0-4d99-8d2c-d5da10d65363",
   "metadata": {},
   "outputs": [],
   "source": [
    "### use case of *"
   ]
  },
  {
   "cell_type": "code",
   "execution_count": null,
   "id": "1d793956-43ec-4434-8f24-2b77d8beaf2a",
   "metadata": {},
   "outputs": [],
   "source": [
    "def account_deposit(saving, student, pensioner, *args):\n",
    "    # saving logic\n",
    "    # student logic\n",
    "    # pensioner logic"
   ]
  },
  {
   "cell_type": "code",
   "execution_count": 6,
   "id": "8f336f22-6bc5-4607-a837-d595fc5c526a",
   "metadata": {},
   "outputs": [],
   "source": [
    "def languages(lang1, lang2, *args):\n",
    "    print(lang1.upper())\n",
    "    print(lang2.upper())\n",
    "    \n",
    "    for arg in args:\n",
    "        print(arg.upper())\n",
    "    "
   ]
  },
  {
   "cell_type": "code",
   "execution_count": 8,
   "id": "74d9883d-a450-4229-b262-ac08c31a5d02",
   "metadata": {},
   "outputs": [
    {
     "name": "stdout",
     "output_type": "stream",
     "text": [
      "PYTHON\n",
      "JAVA\n"
     ]
    }
   ],
   "source": [
    "languages(\"python\", \"java\")"
   ]
  },
  {
   "cell_type": "code",
   "execution_count": 23,
   "id": "9e45f949-435d-4cd9-ad95-67ca2a523d9f",
   "metadata": {},
   "outputs": [
    {
     "name": "stdout",
     "output_type": "stream",
     "text": [
      "PYTHON\n",
      "JAVA\n",
      "C\n",
      "JAVASCRIPT\n"
     ]
    }
   ],
   "source": [
    "languages(\"python\", \"java\", \"c\", \"javascript\")"
   ]
  },
  {
   "cell_type": "code",
   "execution_count": 24,
   "id": "e00eb772-c7a3-44b7-8cfc-a2fb0ba7553e",
   "metadata": {},
   "outputs": [
    {
     "ename": "TypeError",
     "evalue": "languages() missing 1 required positional argument: 'lang2'",
     "output_type": "error",
     "traceback": [
      "\u001b[0;31m---------------------------------------------------------------------------\u001b[0m",
      "\u001b[0;31mTypeError\u001b[0m                                 Traceback (most recent call last)",
      "Cell \u001b[0;32mIn [24], line 1\u001b[0m\n\u001b[0;32m----> 1\u001b[0m \u001b[43mlanguages\u001b[49m\u001b[43m(\u001b[49m\u001b[38;5;124;43m\"\u001b[39;49m\u001b[38;5;124;43mpython\u001b[39;49m\u001b[38;5;124;43m\"\u001b[39;49m\u001b[43m)\u001b[49m\n",
      "\u001b[0;31mTypeError\u001b[0m: languages() missing 1 required positional argument: 'lang2'"
     ]
    }
   ],
   "source": [
    "languages(\"python\")"
   ]
  },
  {
   "cell_type": "code",
   "execution_count": 26,
   "id": "e6dc73d0-6e64-4e86-9149-b53f12487fb7",
   "metadata": {},
   "outputs": [
    {
     "ename": "TypeError",
     "evalue": "languages() missing 2 required keyword-only arguments: 'lang1' and 'lang2'",
     "output_type": "error",
     "traceback": [
      "\u001b[0;31m---------------------------------------------------------------------------\u001b[0m",
      "\u001b[0;31mTypeError\u001b[0m                                 Traceback (most recent call last)",
      "Cell \u001b[0;32mIn [26], line 1\u001b[0m\n\u001b[0;32m----> 1\u001b[0m \u001b[43mlanguages\u001b[49m\u001b[43m(\u001b[49m\u001b[38;5;124;43m\"\u001b[39;49m\u001b[38;5;124;43mpython\u001b[39;49m\u001b[38;5;124;43m\"\u001b[39;49m\u001b[43m,\u001b[49m\u001b[43m \u001b[49m\u001b[38;5;124;43m\"\u001b[39;49m\u001b[38;5;124;43mjava\u001b[39;49m\u001b[38;5;124;43m\"\u001b[39;49m\u001b[43m,\u001b[49m\u001b[43m \u001b[49m\u001b[38;5;124;43m\"\u001b[39;49m\u001b[38;5;124;43mc\u001b[39;49m\u001b[38;5;124;43m\"\u001b[39;49m\u001b[43m,\u001b[49m\u001b[43m \u001b[49m\u001b[38;5;124;43m\"\u001b[39;49m\u001b[38;5;124;43mjavascript\u001b[39;49m\u001b[38;5;124;43m\"\u001b[39;49m\u001b[43m)\u001b[49m\n",
      "\u001b[0;31mTypeError\u001b[0m: languages() missing 2 required keyword-only arguments: 'lang1' and 'lang2'"
     ]
    }
   ],
   "source": [
    "languages(\"python\", \"java\", \"c\", \"javascript\")"
   ]
  },
  {
   "cell_type": "markdown",
   "id": "8a1f4cb4-91d5-42d2-92a8-bea561a46edb",
   "metadata": {},
   "source": [
    "## passing arbitrary (random) number of keyword arguments\n",
    "\n",
    "- to give arbitrary number of keyword arguments we use double asterisk (*)\n",
    "- the varibale name used as convenetion is `**kwargs`"
   ]
  },
  {
   "cell_type": "code",
   "execution_count": 32,
   "id": "cec26ad7-a590-408e-b024-1be907e229bf",
   "metadata": {},
   "outputs": [],
   "source": [
    "def get_brands(**kwargs):\n",
    "    print(kwargs)\n",
    "    print(type(kwargs))\n",
    "    for brand, feature in kwargs.items():\n",
    "        print(f\"{brand} => {feature}\")\n",
    "    "
   ]
  },
  {
   "cell_type": "code",
   "execution_count": 33,
   "id": "f8e7e243-7d71-4eaf-bbf4-4aef1efb2287",
   "metadata": {},
   "outputs": [
    {
     "name": "stdout",
     "output_type": "stream",
     "text": [
      "{}\n",
      "<class 'dict'>\n"
     ]
    }
   ],
   "source": [
    "get_brands()"
   ]
  },
  {
   "cell_type": "code",
   "execution_count": 28,
   "id": "7f48cc4c-e6c2-4525-a20d-2804c8fa149b",
   "metadata": {},
   "outputs": [
    {
     "name": "stdout",
     "output_type": "stream",
     "text": [
      "apple => camera\n",
      "battery => oneplus\n",
      "gaming => vivo\n"
     ]
    }
   ],
   "source": [
    "get_brands(apple=\"camera\", battery=\"oneplus\", gaming=\"vivo\")"
   ]
  },
  {
   "cell_type": "code",
   "execution_count": 29,
   "id": "cbaba580-f63e-42ff-8746-f35ae7c62c93",
   "metadata": {},
   "outputs": [
    {
     "name": "stdout",
     "output_type": "stream",
     "text": [
      "apple => camera\n"
     ]
    }
   ],
   "source": [
    "get_brands(apple=\"camera\")"
   ]
  },
  {
   "cell_type": "code",
   "execution_count": 30,
   "id": "bb2f513d-6d91-42d0-b04a-395450e29370",
   "metadata": {},
   "outputs": [],
   "source": [
    "get_brands()"
   ]
  },
  {
   "cell_type": "code",
   "execution_count": 35,
   "id": "e213c163-26da-429c-9822-dba79651819f",
   "metadata": {},
   "outputs": [],
   "source": [
    "def get_project_info(frontend=\"\", backend=\"\"):\n",
    "    print(f\"frontend => {frontend}\")\n",
    "    print(f\"backend => {backend}\")\n",
    "    \n",
    "    "
   ]
  },
  {
   "cell_type": "code",
   "execution_count": 38,
   "id": "f60a5518-a35e-4ff5-9bf2-0df1d047bdb1",
   "metadata": {},
   "outputs": [
    {
     "name": "stdout",
     "output_type": "stream",
     "text": [
      "frontend => html\n",
      "backend => python\n"
     ]
    }
   ],
   "source": [
    "get_project_info(frontend=\"html\", backend=\"python\")"
   ]
  },
  {
   "cell_type": "code",
   "execution_count": 37,
   "id": "b5c25eb9-6ae5-47c7-9c4d-4b90e105ad25",
   "metadata": {},
   "outputs": [
    {
     "ename": "TypeError",
     "evalue": "get_project_info() got an unexpected keyword argument 'database'",
     "output_type": "error",
     "traceback": [
      "\u001b[0;31m---------------------------------------------------------------------------\u001b[0m",
      "\u001b[0;31mTypeError\u001b[0m                                 Traceback (most recent call last)",
      "Cell \u001b[0;32mIn [37], line 1\u001b[0m\n\u001b[0;32m----> 1\u001b[0m \u001b[43mget_project_info\u001b[49m\u001b[43m(\u001b[49m\u001b[43mfrontend\u001b[49m\u001b[38;5;241;43m=\u001b[39;49m\u001b[38;5;124;43m\"\u001b[39;49m\u001b[38;5;124;43mhtml\u001b[39;49m\u001b[38;5;124;43m\"\u001b[39;49m\u001b[43m,\u001b[49m\u001b[43m \u001b[49m\u001b[43mbackend\u001b[49m\u001b[38;5;241;43m=\u001b[39;49m\u001b[38;5;124;43m\"\u001b[39;49m\u001b[38;5;124;43mpython\u001b[39;49m\u001b[38;5;124;43m\"\u001b[39;49m\u001b[43m,\u001b[49m\u001b[43m \u001b[49m\u001b[43mdatabase\u001b[49m\u001b[38;5;241;43m=\u001b[39;49m\u001b[38;5;124;43m\"\u001b[39;49m\u001b[38;5;124;43mmysql\u001b[39;49m\u001b[38;5;124;43m\"\u001b[39;49m\u001b[43m)\u001b[49m\n",
      "\u001b[0;31mTypeError\u001b[0m: get_project_info() got an unexpected keyword argument 'database'"
     ]
    }
   ],
   "source": [
    "get_project_info(frontend=\"html\", backend=\"python\", database=\"mysql\")"
   ]
  },
  {
   "cell_type": "code",
   "execution_count": 39,
   "id": "774d0a73-7936-4ef4-b4d1-2a866d8cbfbc",
   "metadata": {},
   "outputs": [
    {
     "name": "stdout",
     "output_type": "stream",
     "text": [
      "mumbai - 10 M\n",
      "pune - 5 M\n",
      "latur - 1 M\n",
      "nanded - 0.7 M\n"
     ]
    }
   ],
   "source": [
    "cities = {\"mumbai\": \"10 M\", \"Pune\": \"5 M\", \"Latur\": \"1 M\"}\n",
    "\n",
    "def get_city_data(mumbai, pune, **kwargs):\n",
    "    print(f\"mumbai - {mumbai}\")\n",
    "    print(f\"pune - {pune}\")\n",
    "    \n",
    "    for city, pops in kwargs.items():\n",
    "        print(f\"{city} - {pops}\")\n",
    "        \n",
    "        \n",
    "\n",
    "get_city_data(\"10 M\", \"5 M\", latur=\"1 M\", nanded=\"0.7 M\")"
   ]
  },
  {
   "cell_type": "markdown",
   "id": "e6058704-fa96-42aa-b5aa-bf03cc594532",
   "metadata": {},
   "source": [
    "## unpacking dictionary into keyword arguments"
   ]
  },
  {
   "cell_type": "code",
   "execution_count": 43,
   "id": "106a2ffc-27ab-4740-b3f0-4a4d401a3513",
   "metadata": {},
   "outputs": [],
   "source": [
    "def get_db_connection(host=\"\", port=\"\", user=\"\", password=\"\"):\n",
    "    print(f\"host => {host}\")\n",
    "    print(f\"port => {port}\")\n",
    "    print(f\"user => {user}\")\n",
    "    print(f\"password => {password}\")\n",
    "    "
   ]
  },
  {
   "cell_type": "code",
   "execution_count": 44,
   "id": "bc07a3df-73d4-4592-9365-cd57cc68697b",
   "metadata": {},
   "outputs": [
    {
     "name": "stdout",
     "output_type": "stream",
     "text": [
      "host => localhost\n",
      "port => 5000\n",
      "user => prashant\n",
      "password => qwerty@123\n"
     ]
    }
   ],
   "source": [
    "simple = {\"host\": \"localhost\", \"port\": 5000, \"user\": \"prashant\", \"password\": \"qwerty@123\"}\n",
    "\n",
    "get_db_connection(**simple)"
   ]
  },
  {
   "cell_type": "markdown",
   "id": "c300f6bd-9ca3-47a0-a289-c9ee04014a28",
   "metadata": {},
   "source": [
    "## defining function with arbitrary of number of keyword arguments"
   ]
  },
  {
   "cell_type": "code",
   "execution_count": 45,
   "id": "5ef235f5-bb0b-404e-86bc-47828c1b62e8",
   "metadata": {},
   "outputs": [
    {
     "name": "stdout",
     "output_type": "stream",
     "text": [
      "host => localhost\n",
      "port => 8080\n",
      "user => rahul\n",
      "password => rahul@123\n"
     ]
    }
   ],
   "source": [
    "def get_db_connection(**kwargs):\n",
    "    for key_, val_ in kwargs.items():\n",
    "        print(f\"{key_} => {val_}\")\n",
    "        \n",
    "get_db_connection(host=\"localhost\", port=\"8080\", user=\"rahul\", password=\"rahul@123\")"
   ]
  },
  {
   "cell_type": "code",
   "execution_count": 50,
   "id": "5b0d014f-34c4-4fce-8721-2912e75490b2",
   "metadata": {},
   "outputs": [],
   "source": [
    "def books_n_authors(**libs):\n",
    "    for book, author in libs.items():\n",
    "        print(f\"{book} == {author}\")\n",
    "        "
   ]
  },
  {
   "cell_type": "code",
   "execution_count": 51,
   "id": "0fb472c5-e482-43ad-a37f-03f78becaff5",
   "metadata": {},
   "outputs": [
    {
     "name": "stdout",
     "output_type": "stream",
     "text": [
      "abc == prashant\n",
      "xyz == rahul\n"
     ]
    }
   ],
   "source": [
    "books_n_authors(abc=\"prashant\", xyz=\"rahul\")"
   ]
  },
  {
   "cell_type": "code",
   "execution_count": 52,
   "id": "c03fac92-1e6a-433e-80cc-2a64bf6aa3fc",
   "metadata": {},
   "outputs": [
    {
     "name": "stdout",
     "output_type": "stream",
     "text": [
      "abc == prashant\n"
     ]
    }
   ],
   "source": [
    "books_n_authors(abc=\"prashant\")"
   ]
  },
  {
   "cell_type": "code",
   "execution_count": 53,
   "id": "f310ce76-eee9-4306-a6b5-6b892e271c45",
   "metadata": {},
   "outputs": [
    {
     "name": "stdout",
     "output_type": "stream",
     "text": [
      "abc == prashant\n",
      "xyz == rahul\n",
      "randombook == random author\n"
     ]
    }
   ],
   "source": [
    "books_n_authors(abc=\"prashant\", xyz=\"rahul\", randombook=\"random author\")"
   ]
  },
  {
   "cell_type": "code",
   "execution_count": 56,
   "id": "467f9857-e2fe-4e61-952d-c7591b1d1842",
   "metadata": {},
   "outputs": [
    {
     "name": "stdout",
     "output_type": "stream",
     "text": [
      "abc == prashant\n",
      "abc1 == prashant1\n",
      "abc2 == prashant3\n"
     ]
    }
   ],
   "source": [
    "dict1 = {\"abc\": \"prashant\", \"abc1\": \"prashant1\", \"abc2\": \"prashant3\"}\n",
    "\n",
    "books_n_authors(**dict1)"
   ]
  },
  {
   "cell_type": "markdown",
   "id": "5a37f3c3-fe65-48f8-8c4c-953dae0c4420",
   "metadata": {},
   "source": [
    "# combination"
   ]
  },
  {
   "cell_type": "code",
   "execution_count": 57,
   "id": "d4844f0c-6128-46e0-8bb5-992ae98630c4",
   "metadata": {},
   "outputs": [],
   "source": [
    "def random(*args, **kwargs):\n",
    "    for arg in args:\n",
    "        print(arg)\n",
    "        \n",
    "    for key_, val_ in kwargs.items():\n",
    "        print(key_, val_)\n",
    "        "
   ]
  },
  {
   "cell_type": "code",
   "execution_count": 61,
   "id": "c3ea8616-cd05-4e78-8b70-84459ac279ef",
   "metadata": {},
   "outputs": [],
   "source": [
    "random()"
   ]
  },
  {
   "cell_type": "code",
   "execution_count": 58,
   "id": "314fa5b6-8ff1-4647-8b44-e17ad6351a2f",
   "metadata": {},
   "outputs": [
    {
     "name": "stdout",
     "output_type": "stream",
     "text": [
      "prashant\n",
      "rahul\n",
      "name velocity\n",
      "course python\n"
     ]
    }
   ],
   "source": [
    "random(\"prashant\", \"rahul\", name=\"velocity\", course=\"python\")"
   ]
  },
  {
   "cell_type": "code",
   "execution_count": 59,
   "id": "ba32fba2-b24d-44b1-91ff-5d6bc1844a6e",
   "metadata": {},
   "outputs": [
    {
     "name": "stdout",
     "output_type": "stream",
     "text": [
      "prashant\n",
      "rahul\n"
     ]
    }
   ],
   "source": [
    "random(\"prashant\", \"rahul\")"
   ]
  },
  {
   "cell_type": "code",
   "execution_count": 60,
   "id": "985b7f63-27ea-4c3a-aaf3-17251116bbc0",
   "metadata": {},
   "outputs": [
    {
     "name": "stdout",
     "output_type": "stream",
     "text": [
      "name velocity\n",
      "course python\n"
     ]
    }
   ],
   "source": [
    "random(name=\"velocity\", course=\"python\")"
   ]
  },
  {
   "cell_type": "markdown",
   "id": "7bb35dbe-0d0b-4a87-80c6-8a14f21e19d1",
   "metadata": {},
   "source": [
    "### how to get time for execution of a function"
   ]
  },
  {
   "cell_type": "code",
   "execution_count": 62,
   "id": "99105537-cf18-445d-b37c-f5e2cac3acb3",
   "metadata": {},
   "outputs": [
    {
     "data": {
      "text/plain": [
       "1671814485.9792929"
      ]
     },
     "execution_count": 62,
     "metadata": {},
     "output_type": "execute_result"
    }
   ],
   "source": [
    "import time\n",
    "time.time()"
   ]
  },
  {
   "cell_type": "code",
   "execution_count": 63,
   "id": "400513e9-c1a7-4c68-adf3-acaf396a3a8d",
   "metadata": {},
   "outputs": [
    {
     "data": {
      "text/plain": [
       "1671814501.229686"
      ]
     },
     "execution_count": 63,
     "metadata": {},
     "output_type": "execute_result"
    }
   ],
   "source": [
    "time.time()"
   ]
  },
  {
   "cell_type": "code",
   "execution_count": 64,
   "id": "ded3e4c3-99f5-47a7-b444-e2902c9286df",
   "metadata": {},
   "outputs": [
    {
     "data": {
      "text/plain": [
       "1671814549.5878222"
      ]
     },
     "execution_count": 64,
     "metadata": {},
     "output_type": "execute_result"
    }
   ],
   "source": [
    "time.time()"
   ]
  },
  {
   "cell_type": "markdown",
   "id": "d30cc8f2-fe4d-4602-bd2d-89eface2a73a",
   "metadata": {},
   "source": [
    "## higher order function use case\n",
    "\n"
   ]
  },
  {
   "cell_type": "code",
   "execution_count": 102,
   "id": "a679a180-512c-40ad-b1b0-9cd19efeebcf",
   "metadata": {},
   "outputs": [],
   "source": [
    "def create_a_wisher(core_msg):\n",
    "    def template(poem):\n",
    "        print(f\"{poem} --> {core_msg}\")\n",
    "    return template"
   ]
  },
  {
   "cell_type": "code",
   "execution_count": 107,
   "id": "fd22bb97-174f-4430-bb4b-bcf1a9c4d9ed",
   "metadata": {},
   "outputs": [],
   "source": [
    "birth_wisher = create_a_wisher(\"dear so n so - happy birthday\")"
   ]
  },
  {
   "cell_type": "code",
   "execution_count": 108,
   "id": "4d613196-4d1e-4844-9626-d387e1661b36",
   "metadata": {},
   "outputs": [
    {
     "name": "stdout",
     "output_type": "stream",
     "text": [
      "\n",
      "safafsafas\n",
      "afasfasgas\n",
      "aasfasga\n",
      " --> dear so n so - happy birthday\n"
     ]
    }
   ],
   "source": [
    "poem = \"\"\"\n",
    "safafsafas\n",
    "afasfasgas\n",
    "aasfasga\n",
    "\"\"\"\n",
    "\n",
    "birth_wisher(poem)"
   ]
  },
  {
   "cell_type": "code",
   "execution_count": 110,
   "id": "195aad66-4f67-4e19-8384-9f9751f23f94",
   "metadata": {},
   "outputs": [],
   "source": [
    "anniversary_wisher = create_a_wisher(\"happy anniversary to sweet couple!!\")"
   ]
  },
  {
   "cell_type": "code",
   "execution_count": 111,
   "id": "5809521c-7be8-414a-8b09-dd13b21e55fe",
   "metadata": {},
   "outputs": [
    {
     "name": "stdout",
     "output_type": "stream",
     "text": [
      "\n",
      "sfasgasgasga\n",
      "asgasgtsgas\n",
      "ashqjwafshnadvaknn\n",
      "sfaksjlnslkfN\n",
      " --> happy anniversary to sweet couple!!\n"
     ]
    }
   ],
   "source": [
    "\n",
    "anniversary_poem = \"\"\"\n",
    "sfasgasgasga\n",
    "asgasgtsgas\n",
    "ashqjwafshnadvaknn\n",
    "sfaksjlnslkfN\n",
    "\"\"\"\n",
    "\n",
    "\n",
    "anniversary_wisher(anniversary_poem)"
   ]
  },
  {
   "cell_type": "markdown",
   "id": "e3895a0b-9ec2-490b-b08d-f52e224b6ffb",
   "metadata": {},
   "source": [
    "## decorator (not for Immediate understanding)"
   ]
  },
  {
   "cell_type": "code",
   "execution_count": 93,
   "id": "f5dafcf5-3518-4532-9bb1-3e68ca7e29e5",
   "metadata": {},
   "outputs": [],
   "source": [
    "def timeit(func):\n",
    "    def internal(*args, **kwargs):\n",
    "        start = time.time()\n",
    "        result = func(*args, **kwargs)\n",
    "        end = time.time()\n",
    "        print(f\"total exec time :: {end - start}\")\n",
    "        return result\n",
    "    return internal"
   ]
  },
  {
   "cell_type": "code",
   "execution_count": 94,
   "id": "e1b031b9-88c1-4b34-b996-d9a14015e444",
   "metadata": {},
   "outputs": [],
   "source": [
    "@timeit\n",
    "def get_squares():\n",
    "    [x**2 for x in range(1, 10)]"
   ]
  },
  {
   "cell_type": "code",
   "execution_count": 96,
   "id": "4cb07205-2f5b-450c-b5fb-ccd91b30c11f",
   "metadata": {},
   "outputs": [
    {
     "name": "stdout",
     "output_type": "stream",
     "text": [
      "total exec time :: 7.867813110351562e-06\n"
     ]
    }
   ],
   "source": [
    "get_squares()"
   ]
  },
  {
   "cell_type": "code",
   "execution_count": null,
   "id": "17a47d22-2c85-4555-a58d-9113336e560e",
   "metadata": {},
   "outputs": [],
   "source": []
  }
 ],
 "metadata": {
  "kernelspec": {
   "display_name": "Python 3 (ipykernel)",
   "language": "python",
   "name": "python3"
  },
  "language_info": {
   "codemirror_mode": {
    "name": "ipython",
    "version": 3
   },
   "file_extension": ".py",
   "mimetype": "text/x-python",
   "name": "python",
   "nbconvert_exporter": "python",
   "pygments_lexer": "ipython3",
   "version": "3.9.7"
  }
 },
 "nbformat": 4,
 "nbformat_minor": 5
}
