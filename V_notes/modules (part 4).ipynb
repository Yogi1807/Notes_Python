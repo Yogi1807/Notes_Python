{
 "cells": [
  {
   "cell_type": "markdown",
   "id": "26766b6e-6a55-4abf-8c5c-bdd9fcea50e5",
   "metadata": {},
   "source": [
    "### doubt clearing \n",
    "\n",
    "Problem 17 - \n",
    "\n",
    "Write a Python program to select all the Sundays of a specified year"
   ]
  },
  {
   "cell_type": "code",
   "execution_count": 18,
   "id": "7f03331d-895e-4c10-9500-03a4f9ac9bba",
   "metadata": {},
   "outputs": [],
   "source": [
    "from datetime import date, timedelta\n",
    "\n",
    "\n",
    "def get_all_sundays(year):\n",
    "\n",
    "    first = date(year, 1, 1)\n",
    "    last = date(year, 12, 31)\n",
    "\n",
    "    day = first\n",
    "    sundays = []\n",
    "\n",
    "    while day != last:\n",
    "        day += timedelta(days=1)\n",
    "        if day.strftime(\"%A\") == \"Sunday\":\n",
    "            sundays.append(day)\n",
    "        \n",
    "    return sundays"
   ]
  },
  {
   "cell_type": "code",
   "execution_count": 19,
   "id": "f6830b23-d1e5-459f-9472-9907100ed0f0",
   "metadata": {},
   "outputs": [
    {
     "data": {
      "text/plain": [
       "[datetime.date(2012, 1, 8),\n",
       " datetime.date(2012, 1, 15),\n",
       " datetime.date(2012, 1, 22),\n",
       " datetime.date(2012, 1, 29),\n",
       " datetime.date(2012, 2, 5),\n",
       " datetime.date(2012, 2, 12),\n",
       " datetime.date(2012, 2, 19),\n",
       " datetime.date(2012, 2, 26),\n",
       " datetime.date(2012, 3, 4),\n",
       " datetime.date(2012, 3, 11),\n",
       " datetime.date(2012, 3, 18),\n",
       " datetime.date(2012, 3, 25),\n",
       " datetime.date(2012, 4, 1),\n",
       " datetime.date(2012, 4, 8),\n",
       " datetime.date(2012, 4, 15),\n",
       " datetime.date(2012, 4, 22),\n",
       " datetime.date(2012, 4, 29),\n",
       " datetime.date(2012, 5, 6),\n",
       " datetime.date(2012, 5, 13),\n",
       " datetime.date(2012, 5, 20),\n",
       " datetime.date(2012, 5, 27),\n",
       " datetime.date(2012, 6, 3),\n",
       " datetime.date(2012, 6, 10),\n",
       " datetime.date(2012, 6, 17),\n",
       " datetime.date(2012, 6, 24),\n",
       " datetime.date(2012, 7, 1),\n",
       " datetime.date(2012, 7, 8),\n",
       " datetime.date(2012, 7, 15),\n",
       " datetime.date(2012, 7, 22),\n",
       " datetime.date(2012, 7, 29),\n",
       " datetime.date(2012, 8, 5),\n",
       " datetime.date(2012, 8, 12),\n",
       " datetime.date(2012, 8, 19),\n",
       " datetime.date(2012, 8, 26),\n",
       " datetime.date(2012, 9, 2),\n",
       " datetime.date(2012, 9, 9),\n",
       " datetime.date(2012, 9, 16),\n",
       " datetime.date(2012, 9, 23),\n",
       " datetime.date(2012, 9, 30),\n",
       " datetime.date(2012, 10, 7),\n",
       " datetime.date(2012, 10, 14),\n",
       " datetime.date(2012, 10, 21),\n",
       " datetime.date(2012, 10, 28),\n",
       " datetime.date(2012, 11, 4),\n",
       " datetime.date(2012, 11, 11),\n",
       " datetime.date(2012, 11, 18),\n",
       " datetime.date(2012, 11, 25),\n",
       " datetime.date(2012, 12, 2),\n",
       " datetime.date(2012, 12, 9),\n",
       " datetime.date(2012, 12, 16),\n",
       " datetime.date(2012, 12, 23),\n",
       " datetime.date(2012, 12, 30)]"
      ]
     },
     "execution_count": 19,
     "metadata": {},
     "output_type": "execute_result"
    }
   ],
   "source": []
  },
  {
   "cell_type": "markdown",
   "id": "d84af413-ad9f-4b0f-a86b-637357bdb82a",
   "metadata": {},
   "source": [
    "\n",
    "## what are 3 types of modules?\n",
    "\n",
    "- in-built (os, time, datetime, maths, re, abc, random)\n",
    "- user-defined \n",
    "- third party modules (https://pypi.org/ authorized by python org)"
   ]
  },
  {
   "cell_type": "markdown",
   "id": "cec0d57d-9449-49ae-b53a-c37c725d72f9",
   "metadata": {},
   "source": [
    "## Terminology"
   ]
  },
  {
   "cell_type": "markdown",
   "id": "6a5a6071-40d6-49bb-8902-a30e9ad9e69e",
   "metadata": {},
   "source": [
    "- `pip` :: package manager\n",
    "\n",
    "- package manager has following operations - \n",
    "    - install\n",
    "    - uninstall\n",
    "    - To list installed packages\n",
    "  "
   ]
  },
  {
   "cell_type": "markdown",
   "id": "79b14e05-b83d-4be3-8628-60f93eb84635",
   "metadata": {},
   "source": [
    "- To install any library (module) we go to pypi.org\n",
    "- and search for package\n",
    "\n",
    "\n",
    "requests  :: To send HTTP request to servers\n",
    "\n",
    "\n",
    "\n",
    "requests 2.28.2\n",
    "\n",
    "- `requests` is the package name\n",
    "- `2.28.2` is version\n",
    "\n",
    "\n",
    "To install `requests` package, we need to run following command in \"CMD/ terminal\"\n",
    "\n",
    "`pip install requests`\n",
    "\n",
    "\n",
    "NOTE -\n",
    "\n",
    "- `pip` is package manager\n",
    "- `pip` is also a command line software\n",
    "- all command line softwares need to be run in terminal / CMD\n",
    "- when we do `pip install <package-name>`, pip downloads library files from pypi.org (internet)\n",
    "- To run `pip install` successfully you need to be connected with internet\n",
    "\n"
   ]
  },
  {
   "cell_type": "markdown",
   "id": "6f6502b5-3b9f-4de8-9839-091b6a94f27b",
   "metadata": {},
   "source": [
    "\n",
    "### `import requests`\n",
    "\n",
    "- `requests` library is used to communicate with web servers in HTTP protocol\n",
    "\n"
   ]
  },
  {
   "cell_type": "markdown",
   "id": "5a8e6c99-7e00-4601-9784-2cc9ddffc921",
   "metadata": {},
   "source": [
    "HTTP : HyperText Transfer Protocol\n",
    "Protocol : rules and regulations"
   ]
  },
  {
   "cell_type": "code",
   "execution_count": null,
   "id": "85afcd6c-5b5c-49b0-aa34-1330e3ca3864",
   "metadata": {},
   "outputs": [],
   "source": [
    "https://duckduckgo.com/"
   ]
  },
  {
   "cell_type": "markdown",
   "id": "0e5596cc-933b-4aa0-802d-0d2b35961c01",
   "metadata": {},
   "source": [
    "- how to download `google.com` front page?"
   ]
  },
  {
   "cell_type": "code",
   "execution_count": 13,
   "id": "2be190ca-9f05-4f4a-ab04-76485145e736",
   "metadata": {},
   "outputs": [
    {
     "data": {
      "text/plain": [
       "'<!doctype html><html itemscope=\"\" itemtype=\"http://schema.org/WebPage\" lang=\"en-IN\"><head><meta content=\"text/html; charset=UTF-8\" http-equiv=\"Content-Type\"><meta content=\"/images/branding/googleg/1x/googleg_standard_color_128dp.png\" itemprop=\"image\"><title>Google</title><script nonce=\"V3RumB5mF73YA-wA6Huh1Q\">(function(){window.google={kEI:\\'o_rYY6T0OPDL1sQPxYGF6As\\',kEXPI:\\'0,1359409,6059,206,4804,2316,383,246,5,1129120,1197698,380793,16114,28684,22431,1361,12319,17580,4998,13228,3847,10622,22741,5081,1593,1279,2742,149,1103,840,2197,4100,3514,606,2024,2296,14670,3227,2845,7,29075,3041,1654,1850,15757,3,346,230,1014,1,5445,148,11325,2650,4,1528,2304,7039,20309,1714,13065,13658,4437,9358,7428,5812,2545,4094,4052,3,3541,1,42154,2,14022,2715,21269,1755,5679,1020,31123,4568,6255,23422,1251,5835,14968,4332,8,7476,445,2,2,1,10956,13670,2006,8155,7381,2,15968,873,19633,7,1922,5784,3995,19130,1509,752,1511,8420,4832,6305,2006,18192,20137,14,82,4641,8692,6873,1622,1778,3166,1,685,1125,3787,5203,702,5199,1742,2355,2278,976,565,2,563,991,1388,1147,495,427,1033,42,3683,444,482,1410,20,3,867,135,97,693,1760,55,3899,766,947,353,504,74,29,3569,2248,605,1028,181,937,544,1252,5,445,1204,88,20,360,102,218,85,8,20,335,446,174,113,119,2603,3905,7,2,286,60,1123,678,12,108,594,658,117,641,308,2,3,17,2,3,482,588,426,2452,3189,4,29,212,2,375,176,1215,193,313,275,1523,441,637,57,956,538,122,1,187,88,5,692,240,921,203,2095,80,273,540,806,746,300,636,657,262,59,56,118,380,551,1107,746,70,61,77,83,297,186,3,382,425,692,39,5254667,5844,86,51,48,182,22,40,6,43,37,5995463,2803300,3452,795,2,19733,1,1,346,4016,23647274,299195,2738463,1303679,1964,5417,11255,3406,16339,901,955,1478122\\',kBL:\\'p59Q\\'};google.sn=\\'webhp\\';google.kHL=\\'en-IN\\';})();(function(){\\nvar f=this||self;var h,k=[];function l(a){for(var b;a&&(!a.getAttribute||!(b=a.getAttribute(\"eid\")));)a=a.parentNode;return b||h}function m(a){for(var b=null;a&&(!a.getAttribute||!(b=a.getAttribute(\"leid\")));)a=a.parentNode;return b}\\nfunction n(a,b,c,d,g){var e=\"\";c||-1!==b.search(\"&ei=\")||(e=\"&ei=\"+l(d),-1===b.search(\"&lei=\")&&(d=m(d))&&(e+=\"&lei=\"+d));d=\"\";!c&&f._cshid&&-1===b.search(\"&cshid=\")&&\"slh\"!==a&&(d=\"&cshid=\"+f._cshid);c=c||\"/\"+(g||\"gen_204\")+\"?atyp=i&ct=\"+a+\"&cad=\"+b+e+\"&zx=\"+Date.now()+d;/^http:/i.test(c)&&\"https:\"===window.location.protocol&&(google.ml&&google.ml(Error(\"a\"),!1,{src:c,glmm:1}),c=\"\");return c};h=google.kEI;google.getEI=l;google.getLEI=m;google.ml=function(){return null};google.log=function(a,b,c,d,g){if(c=n(a,b,c,d,g)){a=new Image;var e=k.length;k[e]=a;a.onerror=a.onload=a.onabort=function(){delete k[e]};a.src=c}};google.logUrl=n;}).call(this);(function(){google.y={};google.sy=[];google.x=function(a,b){if(a)var c=a.id;else{do c=Math.random();while(google.y[c])}google.y[c]=[a,b];return!1};google.sx=function(a){google.sy.push(a)};google.lm=[];google.plm=function(a){google.lm.push.apply(google.lm,a)};google.lq=[];google.load=function(a,b,c){google.lq.push([[a],b,c])};google.loadAll=function(a,b){google.lq.push([a,b])};google.bx=!1;google.lx=function(){};}).call(this);google.f={};(function(){\\ndocument.documentElement.addEventListener(\"submit\",function(b){var a;if(a=b.target){var c=a.getAttribute(\"data-submitfalse\");a=\"1\"===c||\"q\"===c&&!a.elements.q.value?!0:!1}else a=!1;a&&(b.preventDefault(),b.stopPropagation())},!0);document.documentElement.addEventListener(\"click\",function(b){var a;a:{for(a=b.target;a&&a!==document.documentElement;a=a.parentElement)if(\"A\"===a.tagName){a=\"1\"===a.getAttribute(\"data-nohref\");break a}a=!1}a&&b.preventDefault()},!0);}).call(this);</script><style>#gbar,#guser{font-size:13px;padding-top:1px !important;}#gbar{height:22px}#guser{padding-bottom:7px !important;text-align:right}.gbh,.gbd{border-top:1px solid #c9d7f1;font-size:1px}.gbh{height:0;position:absolute;top:24px;width:100%}@media all{.gb1{height:22px;margin-right:.5em;vertical-align:top}#gbar{float:left}}a.gb1,a.gb4{text-decoration:underline !important}a.gb1,a.gb4{color:#00c !important}.gbi .gb4{color:#dd8e27 !important}.gbf .gb4{color:#900 !important}\\n</style><style>body,td,a,p,.h{font-family:arial,sans-serif}body{margin:0;overflow-y:scroll}#gog{padding:3px 8px 0}td{line-height:.8em}.gac_m td{line-height:17px}form{margin-bottom:20px}.h{color:#1558d6}em{font-weight:bold;font-style:normal}.lst{height:25px;width:496px}.gsfi,.lst{font:18px arial,sans-serif}.gsfs{font:17px arial,sans-serif}.ds{display:inline-box;display:inline-block;margin:3px 0 4px;margin-left:4px}input{font-family:inherit}body{background:#fff;color:#000}a{color:#4b11a8;text-decoration:none}a:hover,a:active{text-decoration:underline}.fl a{color:#1558d6}a:visited{color:#4b11a8}.sblc{padding-top:5px}.sblc a{display:block;margin:2px 0;margin-left:13px;font-size:11px}.lsbb{background:#f8f9fa;border:solid 1px;border-color:#dadce0 #70757a #70757a #dadce0;height:30px}.lsbb{display:block}#WqQANb a{display:inline-block;margin:0 12px}.lsb{background:url(/images/nav_logo229.png) 0 -261px repeat-x;border:none;color:#000;cursor:pointer;height:30px;margin:0;outline:0;font:15px arial,sans-serif;vertical-align:top}.lsb:active{background:#dadce0}.lst:focus{outline:none}</style><script nonce=\"V3RumB5mF73YA-wA6Huh1Q\">(function(){window.google.erd={jsr:1,bv:1734,de:true};\\nvar h=this||self;var k,l=null!=(k=h.mei)?k:1,n,p=null!=(n=h.sdo)?n:!0,q=0,r,t=google.erd,v=t.jsr;google.ml=function(a,b,d,m,e){e=void 0===e?2:e;b&&(r=a&&a.message);if(google.dl)return google.dl(a,e,d),null;if(0>v){window.console&&console.error(a,d);if(-2===v)throw a;b=!1}else b=!a||!a.message||\"Error loading script\"===a.message||q>=l&&!m?!1:!0;if(!b)return null;q++;d=d||{};b=encodeURIComponent;var c=\"/gen_204?atyp=i&ei=\"+b(google.kEI);google.kEXPI&&(c+=\"&jexpid=\"+b(google.kEXPI));c+=\"&srcpg=\"+b(google.sn)+\"&jsr=\"+b(t.jsr)+\"&bver=\"+b(t.bv);var f=a.lineNumber;void 0!==f&&(c+=\"&line=\"+f);var g=\\na.fileName;g&&(0<g.indexOf(\"-extension:/\")&&(e=3),c+=\"&script=\"+b(g),f&&g===window.location.href&&(f=document.documentElement.outerHTML.split(\"\\\\n\")[f],c+=\"&cad=\"+b(f?f.substring(0,300):\"No script found.\")));c+=\"&jsel=\"+e;for(var u in d)c+=\"&\",c+=b(u),c+=\"=\",c+=b(d[u]);c=c+\"&emsg=\"+b(a.name+\": \"+a.message);c=c+\"&jsst=\"+b(a.stack||\"N/A\");12288<=c.length&&(c=c.substr(0,12288));a=c;m||google.log(0,\"\",a);return a};window.onerror=function(a,b,d,m,e){r!==a&&(a=e instanceof Error?e:Error(a),void 0===d||\"lineNumber\"in a||(a.lineNumber=d),void 0===b||\"fileName\"in a||(a.fileName=b),google.ml(a,!1,void 0,!1,\"SyntaxError\"===a.name||\"SyntaxError\"===a.message.substring(0,11)||-1!==a.message.indexOf(\"Script error\")?3:0));r=null;p&&q>=l&&(window.onerror=null)};})();</script></head><body bgcolor=\"#fff\"><script nonce=\"V3RumB5mF73YA-wA6Huh1Q\">(function(){var src=\\'/images/nav_logo229.png\\';var iesg=false;document.body.onload = function(){window.n && window.n();if (document.images){new Image().src=src;}\\nif (!iesg){document.f&&document.f.q.focus();document.gbqf&&document.gbqf.q.focus();}\\n}\\n})();</script><div id=\"mngb\"><div id=gbar><nobr><b class=gb1>Search</b> <a class=gb1 href=\"https://www.google.co.in/imghp?hl=en&tab=wi\">Images</a> <a class=gb1 href=\"https://maps.google.co.in/maps?hl=en&tab=wl\">Maps</a> <a class=gb1 href=\"https://play.google.com/?hl=en&tab=w8\">Play</a> <a class=gb1 href=\"https://www.youtube.com/?tab=w1\">YouTube</a> <a class=gb1 href=\"https://news.google.com/?tab=wn\">News</a> <a class=gb1 href=\"https://mail.google.com/mail/?tab=wm\">Gmail</a> <a class=gb1 href=\"https://drive.google.com/?tab=wo\">Drive</a> <a class=gb1 style=\"text-decoration:none\" href=\"https://www.google.co.in/intl/en/about/products?tab=wh\"><u>More</u> &raquo;</a></nobr></div><div id=guser width=100%><nobr><span id=gbn class=gbi></span><span id=gbf class=gbf></span><span id=gbe></span><a href=\"http://www.google.co.in/history/optout?hl=en\" class=gb4>Web History</a> | <a  href=\"/preferences?hl=en\" class=gb4>Settings</a> | <a target=_top id=gb_70 href=\"https://accounts.google.com/ServiceLogin?hl=en&passive=true&continue=https://www.google.com/&ec=GAZAAQ\" class=gb4>Sign in</a></nobr></div><div class=gbh style=left:0></div><div class=gbh style=right:0></div></div><center><br clear=\"all\" id=\"lgpd\"><div id=\"lga\"><img alt=\"Google\" height=\"92\" src=\"/images/branding/googlelogo/1x/googlelogo_white_background_color_272x92dp.png\" style=\"padding:28px 0 14px\" width=\"272\" id=\"hplogo\"><br><br></div><form action=\"/search\" name=\"f\"><table cellpadding=\"0\" cellspacing=\"0\"><tr valign=\"top\"><td width=\"25%\">&nbsp;</td><td align=\"center\" nowrap=\"\"><input name=\"ie\" value=\"ISO-8859-1\" type=\"hidden\"><input value=\"en-IN\" name=\"hl\" type=\"hidden\"><input name=\"source\" type=\"hidden\" value=\"hp\"><input name=\"biw\" type=\"hidden\"><input name=\"bih\" type=\"hidden\"><div class=\"ds\" style=\"height:32px;margin:4px 0\"><input class=\"lst\" style=\"margin:0;padding:5px 8px 0 6px;vertical-align:top;color:#000\" autocomplete=\"off\" value=\"\" title=\"Google Search\" maxlength=\"2048\" name=\"q\" size=\"57\"></div><br style=\"line-height:0\"><span class=\"ds\"><span class=\"lsbb\"><input class=\"lsb\" value=\"Google Search\" name=\"btnG\" type=\"submit\"></span></span><span class=\"ds\"><span class=\"lsbb\"><input class=\"lsb\" id=\"tsuid_1\" value=\"I\\'m Feeling Lucky\" name=\"btnI\" type=\"submit\"><script nonce=\"V3RumB5mF73YA-wA6Huh1Q\">(function(){var id=\\'tsuid_1\\';document.getElementById(id).onclick = function(){if (this.form.q.value){this.checked = 1;if (this.form.iflsig)this.form.iflsig.disabled = false;}\\nelse top.location=\\'/doodles/\\';};})();</script><input value=\"AK50M_UAAAAAY9kIsxyAkBHQvFDS9AI7ovNoZuqzB50i\" name=\"iflsig\" type=\"hidden\"></span></span></td><td class=\"fl sblc\" align=\"left\" nowrap=\"\" width=\"25%\"><a href=\"/advanced_search?hl=en-IN&amp;authuser=0\">Advanced search</a></td></tr></table><input id=\"gbv\" name=\"gbv\" type=\"hidden\" value=\"1\"><script nonce=\"V3RumB5mF73YA-wA6Huh1Q\">(function(){var a,b=\"1\";if(document&&document.getElementById)if(\"undefined\"!=typeof XMLHttpRequest)b=\"2\";else if(\"undefined\"!=typeof ActiveXObject){var c,d,e=[\"MSXML2.XMLHTTP.6.0\",\"MSXML2.XMLHTTP.3.0\",\"MSXML2.XMLHTTP\",\"Microsoft.XMLHTTP\"];for(c=0;d=e[c++];)try{new ActiveXObject(d),b=\"2\"}catch(h){}}a=b;if(\"2\"==a&&-1==location.search.indexOf(\"&gbv=2\")){var f=google.gbvu,g=document.getElementById(\"gbv\");g&&(g.value=a);f&&window.setTimeout(function(){location.href=f},0)};}).call(this);</script></form><div id=\"gac_scont\"></div><div style=\"font-size:83%;min-height:3.5em\"><br><div id=\"gws-output-pages-elements-homepage_additional_languages__als\"><style>#gws-output-pages-elements-homepage_additional_languages__als{font-size:small;margin-bottom:24px}#SIvCob{color:#3c4043;display:inline-block;line-height:28px;}#SIvCob a{padding:0 3px;}.H6sW5{display:inline-block;margin:0 2px;white-space:nowrap}.z4hgWe{display:inline-block;margin:0 2px}</style><div id=\"SIvCob\">Google offered in:  <a href=\"https://www.google.com/setprefs?sig=0_UaOXRZqua2k2fCf183ZqHS0UgJg%3D&amp;hl=hi&amp;source=homepage&amp;sa=X&amp;ved=0ahUKEwjk0d-z2fH8AhXwpZUCHcVAAb0Q2ZgBCAU\">&#2361;&#2367;&#2344;&#2381;&#2342;&#2368;</a>    <a href=\"https://www.google.com/setprefs?sig=0_UaOXRZqua2k2fCf183ZqHS0UgJg%3D&amp;hl=bn&amp;source=homepage&amp;sa=X&amp;ved=0ahUKEwjk0d-z2fH8AhXwpZUCHcVAAb0Q2ZgBCAY\">&#2476;&#2494;&#2434;&#2482;&#2494;</a>    <a href=\"https://www.google.com/setprefs?sig=0_UaOXRZqua2k2fCf183ZqHS0UgJg%3D&amp;hl=te&amp;source=homepage&amp;sa=X&amp;ved=0ahUKEwjk0d-z2fH8AhXwpZUCHcVAAb0Q2ZgBCAc\">&#3108;&#3142;&#3122;&#3137;&#3095;&#3137;</a>    <a href=\"https://www.google.com/setprefs?sig=0_UaOXRZqua2k2fCf183ZqHS0UgJg%3D&amp;hl=mr&amp;source=homepage&amp;sa=X&amp;ved=0ahUKEwjk0d-z2fH8AhXwpZUCHcVAAb0Q2ZgBCAg\">&#2350;&#2352;&#2366;&#2336;&#2368;</a>    <a href=\"https://www.google.com/setprefs?sig=0_UaOXRZqua2k2fCf183ZqHS0UgJg%3D&amp;hl=ta&amp;source=homepage&amp;sa=X&amp;ved=0ahUKEwjk0d-z2fH8AhXwpZUCHcVAAb0Q2ZgBCAk\">&#2980;&#2990;&#3007;&#2996;&#3021;</a>    <a href=\"https://www.google.com/setprefs?sig=0_UaOXRZqua2k2fCf183ZqHS0UgJg%3D&amp;hl=gu&amp;source=homepage&amp;sa=X&amp;ved=0ahUKEwjk0d-z2fH8AhXwpZUCHcVAAb0Q2ZgBCAo\">&#2711;&#2753;&#2716;&#2736;&#2750;&#2724;&#2752;</a>    <a href=\"https://www.google.com/setprefs?sig=0_UaOXRZqua2k2fCf183ZqHS0UgJg%3D&amp;hl=kn&amp;source=homepage&amp;sa=X&amp;ved=0ahUKEwjk0d-z2fH8AhXwpZUCHcVAAb0Q2ZgBCAs\">&#3221;&#3240;&#3277;&#3240;&#3233;</a>    <a href=\"https://www.google.com/setprefs?sig=0_UaOXRZqua2k2fCf183ZqHS0UgJg%3D&amp;hl=ml&amp;source=homepage&amp;sa=X&amp;ved=0ahUKEwjk0d-z2fH8AhXwpZUCHcVAAb0Q2ZgBCAw\">&#3374;&#3378;&#3375;&#3390;&#3379;&#3330;</a>    <a href=\"https://www.google.com/setprefs?sig=0_UaOXRZqua2k2fCf183ZqHS0UgJg%3D&amp;hl=pa&amp;source=homepage&amp;sa=X&amp;ved=0ahUKEwjk0d-z2fH8AhXwpZUCHcVAAb0Q2ZgBCA0\">&#2602;&#2672;&#2588;&#2622;&#2604;&#2624;</a>  </div></div></div><span id=\"footer\"><div style=\"font-size:10pt\"><div style=\"margin:19px auto;text-align:center\" id=\"WqQANb\"><a href=\"/intl/en/ads/\">Advertising</a><a href=\"http://www.google.co.in/services/\">Business Solutions</a><a href=\"/intl/en/about.html\">About Google</a><a href=\"https://www.google.com/setprefdomain?prefdom=IN&amp;prev=https://www.google.co.in/&amp;sig=K_EnnLBx7tNJ5-H4f64NVx5E73T2g%3D\">Google.co.in</a></div></div><p style=\"font-size:8pt;color:#70757a\">&copy; 2023 - <a href=\"/intl/en/policies/privacy/\">Privacy</a> - <a href=\"/intl/en/policies/terms/\">Terms</a></p></span></center><script nonce=\"V3RumB5mF73YA-wA6Huh1Q\">(function(){window.google.cdo={height:757,width:1440};(function(){var a=window.innerWidth,b=window.innerHeight;if(!a||!b){var c=window.document,d=\"CSS1Compat\"==c.compatMode?c.documentElement:c.body;a=d.clientWidth;b=d.clientHeight}a&&b&&(a!=google.cdo.width||b!=google.cdo.height)&&google.log(\"\",\"\",\"/client_204?&atyp=i&biw=\"+a+\"&bih=\"+b+\"&ei=\"+google.kEI);}).call(this);})();</script> <script nonce=\"V3RumB5mF73YA-wA6Huh1Q\">(function(){google.xjs={ck:\\'xjs.hp.HLYI73ptMgw.L.X.O\\',cs:\\'ACT90oHgeeOfsQqJmhhy225KOFLBQ_IiyQ\\',excm:[]};})();</script>  <script nonce=\"V3RumB5mF73YA-wA6Huh1Q\">(function(){var u=\\'/xjs/_/js/k\\\\x3dxjs.hp.en.US_Zls-eqSM.O/am\\\\x3dAADoBABQAGAB/d\\\\x3d1/ed\\\\x3d1/rs\\\\x3dACT90oEoTzodoMrV54CB_5y3Rff20C699g/m\\\\x3dsb_he,d\\';var amd=0;\\nvar d=this||self,e=function(a){return a};var g;var l=function(a,b){this.g=b===h?a:\"\"};l.prototype.toString=function(){return this.g+\"\"};var h={};\\nfunction m(){var a=u;google.lx=function(){p(a);google.lx=function(){}};google.bx||google.lx()}\\nfunction p(a){google.timers&&google.timers.load&&google.tick&&google.tick(\"load\",\"xjsls\");var b=document;var c=\"SCRIPT\";\"application/xhtml+xml\"===b.contentType&&(c=c.toLowerCase());c=b.createElement(c);a=null===a?\"null\":void 0===a?\"undefined\":a;if(void 0===g){b=null;var k=d.trustedTypes;if(k&&k.createPolicy){try{b=k.createPolicy(\"goog#html\",{createHTML:e,createScript:e,createScriptURL:e})}catch(q){d.console&&d.console.error(q.message)}g=b}else g=b}a=(b=g)?b.createScriptURL(a):a;a=new l(a,h);c.src=\\na instanceof l&&a.constructor===l?a.g:\"type_error:TrustedResourceUrl\";var f,n;(f=(a=null==(n=(f=(c.ownerDocument&&c.ownerDocument.defaultView||window).document).querySelector)?void 0:n.call(f,\"script[nonce]\"))?a.nonce||a.getAttribute(\"nonce\")||\"\":\"\")&&c.setAttribute(\"nonce\",f);document.body.appendChild(c);google.psa=!0};google.xjsu=u;setTimeout(function(){0<amd?google.caft(function(){return m()},amd):m()},0);})();function _DumpException(e){throw e;}\\nfunction _F_installCss(c){}\\n(function(){google.jl={blt:\\'none\\',chnk:0,dw:false,dwu:true,emtn:0,end:0,ico:false,ikb:0,ine:false,injs:\\'none\\',injt:0,injth:0,injv2:false,lls:\\'default\\',pdt:0,rep:0,snet:true,strt:0,ubm:false,uwp:true};})();(function(){var pmc=\\'{\\\\x22d\\\\x22:{},\\\\x22sb_he\\\\x22:{\\\\x22agen\\\\x22:true,\\\\x22cgen\\\\x22:true,\\\\x22client\\\\x22:\\\\x22heirloom-hp\\\\x22,\\\\x22dh\\\\x22:true,\\\\x22ds\\\\x22:\\\\x22\\\\x22,\\\\x22fl\\\\x22:true,\\\\x22host\\\\x22:\\\\x22google.com\\\\x22,\\\\x22jsonp\\\\x22:true,\\\\x22msgs\\\\x22:{\\\\x22cibl\\\\x22:\\\\x22Clear Search\\\\x22,\\\\x22dym\\\\x22:\\\\x22Did you mean:\\\\x22,\\\\x22lcky\\\\x22:\\\\x22I\\\\\\\\u0026#39;m Feeling Lucky\\\\x22,\\\\x22lml\\\\x22:\\\\x22Learn more\\\\x22,\\\\x22psrc\\\\x22:\\\\x22This search was removed from your \\\\\\\\u003Ca href\\\\x3d\\\\\\\\\\\\x22/history\\\\\\\\\\\\x22\\\\\\\\u003EWeb History\\\\\\\\u003C/a\\\\\\\\u003E\\\\x22,\\\\x22psrl\\\\x22:\\\\x22Remove\\\\x22,\\\\x22sbit\\\\x22:\\\\x22Search by image\\\\x22,\\\\x22srch\\\\x22:\\\\x22Google Search\\\\x22},\\\\x22ovr\\\\x22:{},\\\\x22pq\\\\x22:\\\\x22\\\\x22,\\\\x22rfs\\\\x22:[],\\\\x22sbas\\\\x22:\\\\x220 3px 8px 0 rgba(0,0,0,0.2),0 0 0 1px rgba(0,0,0,0.08)\\\\x22,\\\\x22stok\\\\x22:\\\\x22MrBqqWhXepbhGCdmvRtpUN2nvlE\\\\x22}}\\';google.pmc=JSON.parse(pmc);})();</script>        </body></html>'"
      ]
     },
     "execution_count": 13,
     "metadata": {},
     "output_type": "execute_result"
    }
   ],
   "source": [
    "import requests\n",
    "\n",
    "response = requests.get(\"https://www.google.com/\")\n",
    "response.text\n",
    "# with open(\"google.html\", \"wb\") as foo:\n",
    "#     foo.write(response.content)\n"
   ]
  },
  {
   "cell_type": "code",
   "execution_count": 11,
   "id": "3d357321",
   "metadata": {},
   "outputs": [
    {
     "data": {
      "text/plain": [
       "['ConnectTimeout',\n",
       " 'ConnectionError',\n",
       " 'DependencyWarning',\n",
       " 'FileModeWarning',\n",
       " 'HTTPError',\n",
       " 'NullHandler',\n",
       " 'PreparedRequest',\n",
       " 'ReadTimeout',\n",
       " 'Request',\n",
       " 'RequestException',\n",
       " 'RequestsDependencyWarning',\n",
       " 'Response',\n",
       " 'Session',\n",
       " 'Timeout',\n",
       " 'TooManyRedirects',\n",
       " 'URLRequired',\n",
       " '__author__',\n",
       " '__author_email__',\n",
       " '__build__',\n",
       " '__builtins__',\n",
       " '__cached__',\n",
       " '__cake__',\n",
       " '__copyright__',\n",
       " '__description__',\n",
       " '__doc__',\n",
       " '__file__',\n",
       " '__license__',\n",
       " '__loader__',\n",
       " '__name__',\n",
       " '__package__',\n",
       " '__path__',\n",
       " '__spec__',\n",
       " '__title__',\n",
       " '__url__',\n",
       " '__version__',\n",
       " '_check_cryptography',\n",
       " '_internal_utils',\n",
       " 'adapters',\n",
       " 'api',\n",
       " 'auth',\n",
       " 'certs',\n",
       " 'chardet_version',\n",
       " 'charset_normalizer_version',\n",
       " 'check_compatibility',\n",
       " 'codes',\n",
       " 'compat',\n",
       " 'cookies',\n",
       " 'delete',\n",
       " 'exceptions',\n",
       " 'get',\n",
       " 'head',\n",
       " 'hooks',\n",
       " 'logging',\n",
       " 'models',\n",
       " 'options',\n",
       " 'packages',\n",
       " 'patch',\n",
       " 'post',\n",
       " 'put',\n",
       " 'request',\n",
       " 'session',\n",
       " 'sessions',\n",
       " 'ssl',\n",
       " 'status_codes',\n",
       " 'structures',\n",
       " 'urllib3',\n",
       " 'utils',\n",
       " 'warnings']"
      ]
     },
     "execution_count": 11,
     "metadata": {},
     "output_type": "execute_result"
    }
   ],
   "source": [
    "import requests\n",
    "dir(requests)"
   ]
  },
  {
   "cell_type": "code",
   "execution_count": 16,
   "id": "cb1e2c20",
   "metadata": {},
   "outputs": [],
   "source": [
    "import requests\n",
    "youtube= requests.get(\"https://www.google.com/search?q=youtube&oq=youtube&aqs=chrome.0.0i271j46i67i131i199i433i465j0i67l5j0i67i131i433j0i67j0i271.3575j0j15&sourceid=chrome&ie=UTF-8\")\n",
    "youtube.content\n",
    "with open (\"youtubefile.txt\",\"wb\") as bar:\n",
    "    bar.write(youtube.content)"
   ]
  },
  {
   "cell_type": "code",
   "execution_count": 5,
   "id": "7b42b92d",
   "metadata": {},
   "outputs": [],
   "source": [
    "import os\n",
    "os.remove(\"mygoogle.html\")"
   ]
  },
  {
   "cell_type": "code",
   "execution_count": 11,
   "id": "f17a98f2-3b67-4126-a799-7a64b2218fdd",
   "metadata": {},
   "outputs": [
    {
     "data": {
      "text/plain": [
       "bytes"
      ]
     },
     "execution_count": 11,
     "metadata": {},
     "output_type": "execute_result"
    }
   ],
   "source": [
    "type(b'prashant')"
   ]
  },
  {
   "cell_type": "code",
   "execution_count": 10,
   "id": "812d8ce7",
   "metadata": {},
   "outputs": [
    {
     "data": {
      "text/plain": [
       "['ConnectTimeout',\n",
       " 'ConnectionError',\n",
       " 'DependencyWarning',\n",
       " 'FileModeWarning',\n",
       " 'HTTPError',\n",
       " 'NullHandler',\n",
       " 'PreparedRequest',\n",
       " 'ReadTimeout',\n",
       " 'Request',\n",
       " 'RequestException',\n",
       " 'RequestsDependencyWarning',\n",
       " 'Response',\n",
       " 'Session',\n",
       " 'Timeout',\n",
       " 'TooManyRedirects',\n",
       " 'URLRequired',\n",
       " '__author__',\n",
       " '__author_email__',\n",
       " '__build__',\n",
       " '__builtins__',\n",
       " '__cached__',\n",
       " '__cake__',\n",
       " '__copyright__',\n",
       " '__description__',\n",
       " '__doc__',\n",
       " '__file__',\n",
       " '__license__',\n",
       " '__loader__',\n",
       " '__name__',\n",
       " '__package__',\n",
       " '__path__',\n",
       " '__spec__',\n",
       " '__title__',\n",
       " '__url__',\n",
       " '__version__',\n",
       " '_check_cryptography',\n",
       " '_internal_utils',\n",
       " 'adapters',\n",
       " 'api',\n",
       " 'auth',\n",
       " 'certs',\n",
       " 'chardet_version',\n",
       " 'charset_normalizer_version',\n",
       " 'check_compatibility',\n",
       " 'codes',\n",
       " 'compat',\n",
       " 'cookies',\n",
       " 'delete',\n",
       " 'exceptions',\n",
       " 'get',\n",
       " 'head',\n",
       " 'hooks',\n",
       " 'logging',\n",
       " 'models',\n",
       " 'options',\n",
       " 'packages',\n",
       " 'patch',\n",
       " 'post',\n",
       " 'put',\n",
       " 'request',\n",
       " 'session',\n",
       " 'sessions',\n",
       " 'ssl',\n",
       " 'status_codes',\n",
       " 'structures',\n",
       " 'urllib3',\n",
       " 'utils',\n",
       " 'warnings']"
      ]
     },
     "execution_count": 10,
     "metadata": {},
     "output_type": "execute_result"
    }
   ],
   "source": [
    "dir(requests)"
   ]
  },
  {
   "cell_type": "code",
   "execution_count": 12,
   "id": "ad7168c6-3207-4d95-9cd1-a6628a1cfdf8",
   "metadata": {},
   "outputs": [
    {
     "data": {
      "text/plain": [
       "str"
      ]
     },
     "execution_count": 12,
     "metadata": {},
     "output_type": "execute_result"
    }
   ],
   "source": [
    "type(\"prashant\")"
   ]
  },
  {
   "cell_type": "code",
   "execution_count": 13,
   "id": "ecec9648-321b-46fc-8ed4-7ded94dde2e7",
   "metadata": {},
   "outputs": [],
   "source": [
    "import os\n",
    "\n",
    "os.mkdir(\"deletelater\")"
   ]
  },
  {
   "cell_type": "code",
   "execution_count": 10,
   "id": "4e0f846c",
   "metadata": {},
   "outputs": [],
   "source": [
    "import requests\n",
    "show=requests.get(\"https://www.facebook.com/\")\n",
    "show.content\n",
    "with open(\"facebook.html\", \"wb\") as f:\n",
    "    f.write(show.content)"
   ]
  },
  {
   "cell_type": "code",
   "execution_count": null,
   "id": "cb6e899f",
   "metadata": {},
   "outputs": [],
   "source": []
  }
 ],
 "metadata": {
  "kernelspec": {
   "display_name": "Python 3 (ipykernel)",
   "language": "python",
   "name": "python3"
  },
  "language_info": {
   "codemirror_mode": {
    "name": "ipython",
    "version": 3
   },
   "file_extension": ".py",
   "mimetype": "text/x-python",
   "name": "python",
   "nbconvert_exporter": "python",
   "pygments_lexer": "ipython3",
   "version": "3.9.7"
  }
 },
 "nbformat": 4,
 "nbformat_minor": 5
}
