{
 "cells": [
  {
   "cell_type": "markdown",
   "id": "82b1e434-0a1f-4dac-a144-1bb9490e7eed",
   "metadata": {},
   "source": [
    "## Iterators"
   ]
  },
  {
   "cell_type": "code",
   "execution_count": 1,
   "id": "c5a4f776-29e1-497f-a139-a23f4272fb32",
   "metadata": {},
   "outputs": [
    {
     "name": "stdout",
     "output_type": "stream",
     "text": [
      "Pune\n",
      "Mumbai\n",
      "nashik\n",
      "Latur\n"
     ]
    }
   ],
   "source": [
    "cities = [\"Pune\", \"Mumbai\", \"nashik\", \"Latur\"]\n",
    "\n",
    "for city in cities:\n",
    "    print(city)"
   ]
  },
  {
   "cell_type": "markdown",
   "id": "23a5ebe7-e15d-47e2-9101-e7b5ce2399b7",
   "metadata": {},
   "source": [
    "NOTE \n",
    "\n",
    "- `iterators` are `iterables` and not vice versa"
   ]
  },
  {
   "cell_type": "markdown",
   "id": "c6e4a7e5-3d2a-4394-85c0-5a0439222bf7",
   "metadata": {},
   "source": [
    "### `iter()` in built in function"
   ]
  },
  {
   "cell_type": "code",
   "execution_count": 5,
   "id": "35e22514-5dc6-4293-8f8e-9380161f8f8f",
   "metadata": {},
   "outputs": [
    {
     "data": {
      "text/plain": [
       "['__class__',\n",
       " '__delattr__',\n",
       " '__dir__',\n",
       " '__doc__',\n",
       " '__eq__',\n",
       " '__format__',\n",
       " '__ge__',\n",
       " '__getattribute__',\n",
       " '__gt__',\n",
       " '__hash__',\n",
       " '__init__',\n",
       " '__init_subclass__',\n",
       " '__iter__',\n",
       " '__le__',\n",
       " '__length_hint__',\n",
       " '__lt__',\n",
       " '__ne__',\n",
       " '__new__',\n",
       " '__next__',\n",
       " '__reduce__',\n",
       " '__reduce_ex__',\n",
       " '__repr__',\n",
       " '__setattr__',\n",
       " '__setstate__',\n",
       " '__sizeof__',\n",
       " '__str__',\n",
       " '__subclasshook__']"
      ]
     },
     "execution_count": 5,
     "metadata": {},
     "output_type": "execute_result"
    }
   ],
   "source": [
    "city_iterator = iter(cities)\n",
    "\n",
    "type(city_iterator)\n",
    "dir(city_iterator)   # internal "
   ]
  },
  {
   "cell_type": "code",
   "execution_count": 6,
   "id": "54e8d811-795e-485f-8552-eb51286bbdda",
   "metadata": {},
   "outputs": [],
   "source": [
    "cities = [\"Pune\", \"Mumbai\", \"nashik\", \"Latur\"]\n",
    "city_iterator = iter(cities)"
   ]
  },
  {
   "cell_type": "code",
   "execution_count": 11,
   "id": "757dca04-4a4b-4f35-9d40-305947ae8454",
   "metadata": {},
   "outputs": [
    {
     "ename": "StopIteration",
     "evalue": "",
     "output_type": "error",
     "traceback": [
      "\u001b[0;31m---------------------------------------------------------------------------\u001b[0m",
      "\u001b[0;31mStopIteration\u001b[0m                             Traceback (most recent call last)",
      "Cell \u001b[0;32mIn [11], line 1\u001b[0m\n\u001b[0;32m----> 1\u001b[0m \u001b[38;5;28;43mnext\u001b[39;49m\u001b[43m(\u001b[49m\u001b[43mcity_iterator\u001b[49m\u001b[43m)\u001b[49m\n",
      "\u001b[0;31mStopIteration\u001b[0m: "
     ]
    }
   ],
   "source": [
    "next(city_iterator)"
   ]
  },
  {
   "cell_type": "markdown",
   "id": "05c4cc0e-27bc-452c-a648-51353837192e",
   "metadata": {},
   "source": [
    "## Itarable \n",
    "\n",
    "- objects on which we can apply for loop\n",
    "- iterators are implicitly used in for loops"
   ]
  },
  {
   "cell_type": "code",
   "execution_count": 15,
   "id": "bc465c59-7d04-430e-b3b5-38f82765cc08",
   "metadata": {},
   "outputs": [
    {
     "ename": "TypeError",
     "evalue": "'list' object is not an iterator",
     "output_type": "error",
     "traceback": [
      "\u001b[0;31m---------------------------------------------------------------------------\u001b[0m",
      "\u001b[0;31mTypeError\u001b[0m                                 Traceback (most recent call last)",
      "Cell \u001b[0;32mIn [15], line 8\u001b[0m\n\u001b[1;32m      3\u001b[0m companies \u001b[38;5;241m=\u001b[39m [\u001b[38;5;124m\"\u001b[39m\u001b[38;5;124maccenture\u001b[39m\u001b[38;5;124m\"\u001b[39m, \u001b[38;5;124m\"\u001b[39m\u001b[38;5;124mcogni\u001b[39m\u001b[38;5;124m\"\u001b[39m, \u001b[38;5;124m\"\u001b[39m\u001b[38;5;124mtcs\u001b[39m\u001b[38;5;124m\"\u001b[39m, \u001b[38;5;124m\"\u001b[39m\u001b[38;5;124mwipro\u001b[39m\u001b[38;5;124m\"\u001b[39m]\n\u001b[1;32m      5\u001b[0m \u001b[38;5;66;03m# for company in companies:\u001b[39;00m\n\u001b[1;32m      6\u001b[0m \u001b[38;5;66;03m#     print(company)\u001b[39;00m\n\u001b[0;32m----> 8\u001b[0m \u001b[38;5;28;43mnext\u001b[39;49m\u001b[43m(\u001b[49m\u001b[43mcompanies\u001b[49m\u001b[43m)\u001b[49m\n",
      "\u001b[0;31mTypeError\u001b[0m: 'list' object is not an iterator"
     ]
    }
   ],
   "source": [
    "### iterable example\n",
    "\n",
    "companies = [\"accenture\", \"cogni\", \"tcs\", \"wipro\"]\n",
    "\n",
    "for company in companies:\n",
    "    print(company)\n",
    "\n",
    "next(companies)  # TypeError: 'list' object is not an iterator"
   ]
  },
  {
   "cell_type": "code",
   "execution_count": null,
   "id": "bfccf95c-99a5-43c2-bd94-4bfc0048f517",
   "metadata": {},
   "outputs": [],
   "source": []
  },
  {
   "cell_type": "code",
   "execution_count": 13,
   "id": "c4f0a49f-e686-4ca7-8e67-5615e3743f7d",
   "metadata": {},
   "outputs": [
    {
     "name": "stdout",
     "output_type": "stream",
     "text": [
      "accenture\n",
      "cogni\n",
      "tcs\n",
      "wipro\n"
     ]
    }
   ],
   "source": [
    "## itarator example\n",
    "\n",
    "companies = [\"accenture\", \"cogni\", \"tcs\", \"wipro\"]\n",
    "\n",
    "companies_iter = iter(companies)\n",
    "\n",
    "for company in companies_iter:\n",
    "    print(company)\n"
   ]
  },
  {
   "cell_type": "code",
   "execution_count": 16,
   "id": "57b95b10-8b3b-4de8-a0ef-1b994e682bc1",
   "metadata": {},
   "outputs": [
    {
     "data": {
      "text/plain": [
       "<list_iterator at 0x110281150>"
      ]
     },
     "execution_count": 16,
     "metadata": {},
     "output_type": "execute_result"
    }
   ],
   "source": [
    "names = [\"Prashant\", \"rahul\", \"sachin\"]\n",
    "names_iter = iter(names)\n",
    "names_iter"
   ]
  },
  {
   "cell_type": "code",
   "execution_count": 20,
   "id": "70066552-aecf-42a1-9d83-c95919c34f61",
   "metadata": {},
   "outputs": [
    {
     "ename": "StopIteration",
     "evalue": "",
     "output_type": "error",
     "traceback": [
      "\u001b[0;31m---------------------------------------------------------------------------\u001b[0m",
      "\u001b[0;31mStopIteration\u001b[0m                             Traceback (most recent call last)",
      "Cell \u001b[0;32mIn [20], line 1\u001b[0m\n\u001b[0;32m----> 1\u001b[0m \u001b[38;5;28;43mnext\u001b[39;49m\u001b[43m(\u001b[49m\u001b[43mnames_iter\u001b[49m\u001b[43m)\u001b[49m\n",
      "\u001b[0;31mStopIteration\u001b[0m: "
     ]
    }
   ],
   "source": [
    "next(names_iter)\n",
    "\n"
   ]
  },
  {
   "cell_type": "code",
   "execution_count": 21,
   "id": "15c352bc-2a62-4230-b0fb-ed13cebf779a",
   "metadata": {},
   "outputs": [],
   "source": [
    "natural = [1, 2, 3, 4, 5, 6]\n",
    "obj = iter(natural)"
   ]
  },
  {
   "cell_type": "code",
   "execution_count": 28,
   "id": "0033f5d2-592d-453f-bbaa-158e358abf55",
   "metadata": {},
   "outputs": [
    {
     "ename": "StopIteration",
     "evalue": "",
     "output_type": "error",
     "traceback": [
      "\u001b[0;31m---------------------------------------------------------------------------\u001b[0m",
      "\u001b[0;31mStopIteration\u001b[0m                             Traceback (most recent call last)",
      "Cell \u001b[0;32mIn [28], line 1\u001b[0m\n\u001b[0;32m----> 1\u001b[0m \u001b[38;5;28;43mnext\u001b[39;49m\u001b[43m(\u001b[49m\u001b[43mobj\u001b[49m\u001b[43m)\u001b[49m\n",
      "\u001b[0;31mStopIteration\u001b[0m: "
     ]
    }
   ],
   "source": [
    "next(obj)"
   ]
  },
  {
   "cell_type": "code",
   "execution_count": null,
   "id": "9a379e6f-7bce-4bff-ad52-3d974fae6a5c",
   "metadata": {},
   "outputs": [],
   "source": []
  },
  {
   "cell_type": "markdown",
   "id": "62482076-ee68-4fee-a104-dace2a3b756f",
   "metadata": {},
   "source": [
    "##### NOTE:: when iteration on all elements is done we get `StopIteration` exception"
   ]
  },
  {
   "cell_type": "code",
   "execution_count": 32,
   "id": "f76fda67-3352-4a92-940e-6d1f5668f636",
   "metadata": {},
   "outputs": [
    {
     "name": "stdout",
     "output_type": "stream",
     "text": [
      "Sachin\n",
      "Hardik\n",
      "Rohit\n"
     ]
    }
   ],
   "source": [
    "scores = {\n",
    "    \"Sachin\" : 200,\n",
    "    \"Hardik\": 50,\n",
    "    \"Rohit\": 100\n",
    "}\n",
    "\n",
    "keys = scores.keys()\n",
    "\n",
    "type(keys)\n",
    "\n",
    "for key_ in keys:\n",
    "    print(key_)"
   ]
  },
  {
   "cell_type": "code",
   "execution_count": 36,
   "id": "3982c6c5-6ee0-4502-8a99-ceca3648f099",
   "metadata": {},
   "outputs": [
    {
     "data": {
      "text/plain": [
       "<dict_keyiterator at 0x111516340>"
      ]
     },
     "execution_count": 36,
     "metadata": {},
     "output_type": "execute_result"
    }
   ],
   "source": [
    "scores = {\n",
    "    \"Sachin\" : 200,\n",
    "    \"Hardik\": 50,\n",
    "    \"Rohit\": 100\n",
    "}\n",
    "\n",
    "keys = scores.keys()\n",
    "\n",
    "key_iter = iter(keys)\n",
    "key_iter"
   ]
  },
  {
   "cell_type": "code",
   "execution_count": 40,
   "id": "342639d3-7bb5-4a79-8b1b-5733c66ab89d",
   "metadata": {},
   "outputs": [
    {
     "ename": "StopIteration",
     "evalue": "",
     "output_type": "error",
     "traceback": [
      "\u001b[0;31m---------------------------------------------------------------------------\u001b[0m",
      "\u001b[0;31mStopIteration\u001b[0m                             Traceback (most recent call last)",
      "Cell \u001b[0;32mIn [40], line 1\u001b[0m\n\u001b[0;32m----> 1\u001b[0m \u001b[38;5;28;43mnext\u001b[39;49m\u001b[43m(\u001b[49m\u001b[43mkey_iter\u001b[49m\u001b[43m)\u001b[49m\n",
      "\u001b[0;31mStopIteration\u001b[0m: "
     ]
    }
   ],
   "source": [
    "next(key_iter)"
   ]
  },
  {
   "cell_type": "markdown",
   "id": "c6a642a1-4d21-49ac-b653-907f2f53fb84",
   "metadata": {},
   "source": [
    "### simulation of for loop internals"
   ]
  },
  {
   "cell_type": "code",
   "execution_count": 43,
   "id": "45117551-f011-482d-98bd-71258b8e854d",
   "metadata": {},
   "outputs": [
    {
     "name": "stdout",
     "output_type": "stream",
     "text": [
      "Ashwin\n",
      "Jadeja\n",
      "Sachin\n",
      "Rahul\n"
     ]
    }
   ],
   "source": [
    "names = [\"Ashwin\", \"Jadeja\", \"Sachin\", \"Rahul\"]\n",
    "\n",
    "names_itarator = iter(names)\n",
    "\n",
    "while names_itarator:\n",
    "    try:\n",
    "        value = next(names_itarator)\n",
    "        print(value)\n",
    "    except StopIteration:\n",
    "        break"
   ]
  },
  {
   "cell_type": "markdown",
   "id": "7650ee08-a1e3-4ca3-80f1-145d68394ff0",
   "metadata": {},
   "source": [
    "NOTE - \n",
    "\n",
    "We can apply `iter()` function on majority of sequnetial base data types available in Python"
   ]
  },
  {
   "cell_type": "code",
   "execution_count": 48,
   "id": "6c52b3bc-1afc-442c-8a85-a25c6927a751",
   "metadata": {},
   "outputs": [
    {
     "name": "stdout",
     "output_type": "stream",
     "text": [
      "<class 'set'>\n"
     ]
    },
    {
     "data": {
      "text/plain": [
       "<set_iterator at 0x11145ec80>"
      ]
     },
     "execution_count": 48,
     "metadata": {},
     "output_type": "execute_result"
    }
   ],
   "source": [
    "foo = set([1, 2, 3, 4])\n",
    "\n",
    "print(type(foo))\n",
    "\n",
    "iter_obj = iter(foo)\n",
    "iter_obj"
   ]
  },
  {
   "cell_type": "code",
   "execution_count": 53,
   "id": "d16b16e4-017f-453f-813b-1e4577aaa72c",
   "metadata": {},
   "outputs": [
    {
     "ename": "StopIteration",
     "evalue": "",
     "output_type": "error",
     "traceback": [
      "\u001b[0;31m---------------------------------------------------------------------------\u001b[0m",
      "\u001b[0;31mStopIteration\u001b[0m                             Traceback (most recent call last)",
      "Cell \u001b[0;32mIn [53], line 1\u001b[0m\n\u001b[0;32m----> 1\u001b[0m \u001b[38;5;28;43mnext\u001b[39;49m\u001b[43m(\u001b[49m\u001b[43miter_obj\u001b[49m\u001b[43m)\u001b[49m\n",
      "\u001b[0;31mStopIteration\u001b[0m: "
     ]
    }
   ],
   "source": [
    "next(iter_obj)"
   ]
  },
  {
   "cell_type": "markdown",
   "id": "f0dd0bf5-c2af-4bf4-ac35-cb99fb54fb3a",
   "metadata": {},
   "source": [
    "- iter()\n",
    "- next()"
   ]
  },
  {
   "cell_type": "code",
   "execution_count": null,
   "id": "da5b6d3c-96d9-44fc-9a83-827791bffa94",
   "metadata": {},
   "outputs": [],
   "source": []
  }
 ],
 "metadata": {
  "kernelspec": {
   "display_name": "Python 3 (ipykernel)",
   "language": "python",
   "name": "python3"
  },
  "language_info": {
   "codemirror_mode": {
    "name": "ipython",
    "version": 3
   },
   "file_extension": ".py",
   "mimetype": "text/x-python",
   "name": "python",
   "nbconvert_exporter": "python",
   "pygments_lexer": "ipython3",
   "version": "3.9.7"
  }
 },
 "nbformat": 4,
 "nbformat_minor": 5
}
