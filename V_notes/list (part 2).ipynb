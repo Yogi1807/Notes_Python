{
 "cells": [
  {
   "cell_type": "markdown",
   "id": "dc5adced",
   "metadata": {},
   "source": [
    "### `in` operator on list objects"
   ]
  },
  {
   "cell_type": "code",
   "execution_count": null,
   "id": "2345eaa0",
   "metadata": {},
   "outputs": [],
   "source": [
    "singers = [\"arjit\", \"shriya\", \"rehman\"]\n",
    "\n",
    "singer = \"arjit\"\n",
    "\n",
    "singer in singers"
   ]
  },
  {
   "cell_type": "markdown",
   "id": "ab0c394d",
   "metadata": {},
   "source": [
    "### `not in` operator"
   ]
  },
  {
   "cell_type": "code",
   "execution_count": null,
   "id": "637325e3",
   "metadata": {},
   "outputs": [],
   "source": [
    "singers = [\"arjit\", \"shriya\", \"rehman\"]\n",
    "\n",
    "actor = \"xyz\"\n",
    "\n",
    "actor not in singers"
   ]
  },
  {
   "cell_type": "markdown",
   "id": "159d22df",
   "metadata": {},
   "source": [
    "###  `len()` function"
   ]
  },
  {
   "cell_type": "code",
   "execution_count": 1,
   "id": "78bb1776",
   "metadata": {},
   "outputs": [
    {
     "data": {
      "text/plain": [
       "3"
      ]
     },
     "execution_count": 1,
     "metadata": {},
     "output_type": "execute_result"
    }
   ],
   "source": [
    "singers = [\"arjit\", \"shriya\", \"rehman\"]\n",
    "len(singers)"
   ]
  },
  {
   "cell_type": "markdown",
   "id": "cb205b4e",
   "metadata": {},
   "source": [
    "### `max()` function"
   ]
  },
  {
   "cell_type": "code",
   "execution_count": 1,
   "id": "f5a2f9a4",
   "metadata": {},
   "outputs": [
    {
     "data": {
      "text/plain": [
       "579670"
      ]
     },
     "execution_count": 1,
     "metadata": {},
     "output_type": "execute_result"
    }
   ],
   "source": [
    "foo = [1341, 4526, 585, 1431, 579670, 1341]\n",
    "max(foo)"
   ]
  },
  {
   "cell_type": "code",
   "execution_count": 2,
   "id": "da794842",
   "metadata": {},
   "outputs": [
    {
     "data": {
      "text/plain": [
       "'prashant'"
      ]
     },
     "execution_count": 2,
     "metadata": {},
     "output_type": "execute_result"
    }
   ],
   "source": [
    "bar = [\"b\", \"c\", \"prashant\"]\n",
    "max(bar)"
   ]
  },
  {
   "cell_type": "code",
   "execution_count": 3,
   "id": "05fb3c31",
   "metadata": {},
   "outputs": [
    {
     "name": "stdout",
     "output_type": "stream",
     "text": [
      "Help on built-in function max in module builtins:\n",
      "\n",
      "max(...)\n",
      "    max(iterable, *[, default=obj, key=func]) -> value\n",
      "    max(arg1, arg2, *args, *[, key=func]) -> value\n",
      "    \n",
      "    With a single iterable argument, return its biggest item. The\n",
      "    default keyword-only argument specifies an object to return if\n",
      "    the provided iterable is empty.\n",
      "    With two or more arguments, return the largest argument.\n",
      "\n"
     ]
    }
   ],
   "source": [
    "help(max)"
   ]
  },
  {
   "cell_type": "markdown",
   "id": "a549fe40",
   "metadata": {},
   "source": [
    "### `min()` function"
   ]
  },
  {
   "cell_type": "code",
   "execution_count": null,
   "id": "9d6ab0d8",
   "metadata": {},
   "outputs": [],
   "source": [
    "bar = [1341, 4526, 585, 1431, 579670, 1341]\n",
    "min(bar)"
   ]
  },
  {
   "cell_type": "markdown",
   "id": "642da588",
   "metadata": {},
   "source": [
    "### `sum()` function"
   ]
  },
  {
   "cell_type": "code",
   "execution_count": null,
   "id": "d329c627",
   "metadata": {},
   "outputs": [],
   "source": [
    "foo = [1, 2, 3, 4, 5, 6]\n",
    "sum(foo)"
   ]
  },
  {
   "cell_type": "markdown",
   "id": "f08185a1",
   "metadata": {},
   "source": [
    "#### Relational operators"
   ]
  },
  {
   "cell_type": "code",
   "execution_count": 2,
   "id": "4f68c5b0",
   "metadata": {},
   "outputs": [
    {
     "data": {
      "text/plain": [
       "False"
      ]
     },
     "execution_count": 2,
     "metadata": {},
     "output_type": "execute_result"
    }
   ],
   "source": [
    "bool(\"\")  # empty string is considered as `False`"
   ]
  },
  {
   "cell_type": "code",
   "execution_count": 3,
   "id": "03ffe7f7",
   "metadata": {},
   "outputs": [
    {
     "data": {
      "text/plain": [
       "False"
      ]
     },
     "execution_count": 3,
     "metadata": {},
     "output_type": "execute_result"
    }
   ],
   "source": [
    "bool([]) # empty list is also considered as `False`"
   ]
  },
  {
   "cell_type": "code",
   "execution_count": 1,
   "id": "44e33657",
   "metadata": {},
   "outputs": [
    {
     "name": "stdout",
     "output_type": "stream",
     "text": [
      "True\n"
     ]
    }
   ],
   "source": [
    "result = bool([1, 2])\n",
    "print(result) # `result` is an object of class `bool`"
   ]
  },
  {
   "cell_type": "code",
   "execution_count": 5,
   "id": "3ee65804",
   "metadata": {},
   "outputs": [
    {
     "data": {
      "text/plain": [
       "False"
      ]
     },
     "execution_count": 5,
     "metadata": {},
     "output_type": "execute_result"
    }
   ],
   "source": [
    "bool(0)"
   ]
  },
  {
   "cell_type": "markdown",
   "id": "06d03809",
   "metadata": {},
   "source": [
    "### `any()` \n",
    "\n",
    "Tells us if any of the value in a given is `True`"
   ]
  },
  {
   "cell_type": "code",
   "execution_count": 6,
   "id": "9208f94c",
   "metadata": {},
   "outputs": [
    {
     "data": {
      "text/plain": [
       "True"
      ]
     },
     "execution_count": 6,
     "metadata": {},
     "output_type": "execute_result"
    }
   ],
   "source": [
    "random = [[], \"\", False, 100]\n",
    "any(random)"
   ]
  },
  {
   "cell_type": "code",
   "execution_count": 7,
   "id": "1359c8f6",
   "metadata": {},
   "outputs": [
    {
     "data": {
      "text/plain": [
       "False"
      ]
     },
     "execution_count": 7,
     "metadata": {},
     "output_type": "execute_result"
    }
   ],
   "source": [
    "random = [[], \"\", False, 0]\n",
    "any(random)"
   ]
  },
  {
   "cell_type": "markdown",
   "id": "e8dfa032",
   "metadata": {},
   "source": [
    "### `all()`\n",
    "\n",
    "Tells us if all of the values in a given list are True"
   ]
  },
  {
   "cell_type": "code",
   "execution_count": 8,
   "id": "7b5e4aac",
   "metadata": {},
   "outputs": [
    {
     "data": {
      "text/plain": [
       "True"
      ]
     },
     "execution_count": 8,
     "metadata": {},
     "output_type": "execute_result"
    }
   ],
   "source": [
    "example1 = [[1, 2], 100, 30.20, True, \"prashant\"]\n",
    "all(example1)"
   ]
  },
  {
   "cell_type": "code",
   "execution_count": 9,
   "id": "fc21df40",
   "metadata": {},
   "outputs": [
    {
     "data": {
      "text/plain": [
       "False"
      ]
     },
     "execution_count": 9,
     "metadata": {},
     "output_type": "execute_result"
    }
   ],
   "source": [
    "example2 = [\"\", 100, 30.20, True, \"prashant\"]\n",
    "all(example2)"
   ]
  },
  {
   "cell_type": "markdown",
   "id": "126cea92",
   "metadata": {},
   "source": [
    "## `sort()`"
   ]
  },
  {
   "cell_type": "code",
   "execution_count": 10,
   "id": "d02981ac",
   "metadata": {},
   "outputs": [
    {
     "data": {
      "text/plain": [
       "[10, 20, 50, 80, 90]"
      ]
     },
     "execution_count": 10,
     "metadata": {},
     "output_type": "execute_result"
    }
   ],
   "source": [
    "example3 = [80, 90, 20, 10, 50]\n",
    "example3.sort()  # ascending\n",
    "example3"
   ]
  },
  {
   "cell_type": "code",
   "execution_count": 11,
   "id": "08268428",
   "metadata": {},
   "outputs": [
    {
     "data": {
      "text/plain": [
       "[90, 80, 50, 20, 10]"
      ]
     },
     "execution_count": 11,
     "metadata": {},
     "output_type": "execute_result"
    }
   ],
   "source": [
    "example3 = [80, 90, 20, 10, 50]\n",
    "example3.sort(reverse=True)  # descending\n",
    "example3"
   ]
  },
  {
   "cell_type": "markdown",
   "id": "128fe37d",
   "metadata": {},
   "source": [
    "### `sorted()` function\n",
    "\n",
    "- function returns a `list` object\n",
    "- function is return type function\n",
    "- by default gives output in ascending order\n",
    "- we can change default behaviour by passing additional argument as follows-\n",
    "\n",
    "`reverse=True`"
   ]
  },
  {
   "cell_type": "code",
   "execution_count": null,
   "id": "b4f46f69",
   "metadata": {
    "scrolled": true
   },
   "outputs": [],
   "source": [
    "example3 = [80, 90, 20, 10, 50]\n",
    "result = sorted(example3)  # ascending by default\n",
    "type(result)  # `result` is an object of class `list`"
   ]
  },
  {
   "cell_type": "code",
   "execution_count": null,
   "id": "57940dd8",
   "metadata": {},
   "outputs": [],
   "source": [
    "example4 = [80, 90, 20, 10, 50]\n",
    "result = sorted(example4, reverse=True) # changing default behaviour\n",
    "result  # `result` is an object of class `list`"
   ]
  },
  {
   "cell_type": "code",
   "execution_count": null,
   "id": "676d614c",
   "metadata": {},
   "outputs": [],
   "source": [
    "example3  # your original objects are intact in sorted function"
   ]
  },
  {
   "cell_type": "code",
   "execution_count": null,
   "id": "ba5a2bc6",
   "metadata": {},
   "outputs": [],
   "source": [
    "example4 # your original objects are intact in sorted function"
   ]
  },
  {
   "cell_type": "markdown",
   "id": "6536cea5",
   "metadata": {},
   "source": [
    "### `in built` funcs we learned today\n",
    "\n",
    "- len()\n",
    "- max()\n",
    "- min()\n",
    "- sum()\n",
    "- all()\n",
    "- any()\n",
    "- sorted()"
   ]
  },
  {
   "cell_type": "markdown",
   "id": "a258c2e5",
   "metadata": {},
   "source": [
    "## interview quesiton\n",
    "\n",
    "`sort` vs `sorted`\n"
   ]
  },
  {
   "cell_type": "markdown",
   "id": "259f6ff3",
   "metadata": {},
   "source": [
    "### slicing\n",
    "\n",
    "[start: end: step]"
   ]
  },
  {
   "cell_type": "markdown",
   "id": "8a207df9",
   "metadata": {},
   "source": [
    "### indexing\n",
    "\n",
    "singers = [\"arjit\", \"shriya\", \"rehman\"]\n",
    "\n",
    "         #.  0.         1.       2"
   ]
  },
  {
   "cell_type": "markdown",
   "id": "99d0ae41",
   "metadata": {},
   "source": [
    "##  `stack` implementation using `list` functions\n",
    "\n",
    "LIFO :: Last In First Out\n",
    "\n",
    "- append()\n",
    "- pop()"
   ]
  },
  {
   "cell_type": "markdown",
   "id": "31eca693",
   "metadata": {},
   "source": [
    "## `Queue` implementation using `list` functions\n",
    "\n",
    "🍿 movie ticket window ::  \"virat\", \"hardik\", \"rahul\", \"sachin\"\n",
    "\n",
    "\n",
    "FIFO : First In First Out\n",
    "\n",
    "\n",
    "- append()\n",
    "- pop(0)"
   ]
  },
  {
   "cell_type": "code",
   "execution_count": 12,
   "id": "305f10ab",
   "metadata": {},
   "outputs": [
    {
     "data": {
      "text/plain": [
       "'virat'"
      ]
     },
     "execution_count": 12,
     "metadata": {},
     "output_type": "execute_result"
    }
   ],
   "source": [
    "# Bank application\n",
    "\n",
    "cashier = [\"virat\", \"hardik\", \"rahul\", \"sachin\"]\n",
    "\n",
    "cashier.append(\"dhoni\")  # to add new member to queue at last\n",
    "\n",
    "cashier.pop(0)  # to remove member from queue"
   ]
  },
  {
   "cell_type": "code",
   "execution_count": 13,
   "id": "55a8c02a",
   "metadata": {},
   "outputs": [
    {
     "data": {
      "text/plain": [
       "['hardik', 'rahul', 'sachin', 'dhoni']"
      ]
     },
     "execution_count": 13,
     "metadata": {},
     "output_type": "execute_result"
    }
   ],
   "source": [
    "cashier"
   ]
  },
  {
   "cell_type": "markdown",
   "id": "97762e30",
   "metadata": {},
   "source": [
    "### `Operators` on  `str` object"
   ]
  },
  {
   "cell_type": "markdown",
   "id": "44451634",
   "metadata": {},
   "source": [
    "#### string concatenation"
   ]
  },
  {
   "cell_type": "code",
   "execution_count": 14,
   "id": "3e808f6c",
   "metadata": {},
   "outputs": [
    {
     "data": {
      "text/plain": [
       "'prashant is indian'"
      ]
     },
     "execution_count": 14,
     "metadata": {},
     "output_type": "execute_result"
    }
   ],
   "source": [
    "str1 = \"prashant\"\n",
    "str2 = \" \"\n",
    "str3 = \"is\"\n",
    "str4 = \" \"\n",
    "str5 = \"indian\"\n",
    "\n",
    "output = str1 + str2 + str3 + str4 + str5\n",
    "output"
   ]
  },
  {
   "cell_type": "code",
   "execution_count": 15,
   "id": "f495b3b0",
   "metadata": {},
   "outputs": [],
   "source": [
    "## problem statement\n",
    "# similar statement like above using `str1`, `str3`, `str5`"
   ]
  },
  {
   "cell_type": "code",
   "execution_count": 16,
   "id": "644840b4",
   "metadata": {},
   "outputs": [
    {
     "data": {
      "text/plain": [
       "'prashant is indian'"
      ]
     },
     "execution_count": 16,
     "metadata": {},
     "output_type": "execute_result"
    }
   ],
   "source": [
    "\" \".join([str1, str3, str5])"
   ]
  },
  {
   "cell_type": "markdown",
   "id": "87aee99c",
   "metadata": {},
   "source": [
    "#### string multiplication"
   ]
  },
  {
   "cell_type": "code",
   "execution_count": 17,
   "id": "e2f3cc07",
   "metadata": {},
   "outputs": [
    {
     "data": {
      "text/plain": [
       "'prashant-prashant-prashant-prashant-prashant-'"
      ]
     },
     "execution_count": 17,
     "metadata": {},
     "output_type": "execute_result"
    }
   ],
   "source": [
    "result = \"prashant-\" * 5\n",
    "result"
   ]
  },
  {
   "cell_type": "code",
   "execution_count": 18,
   "id": "44b3813b",
   "metadata": {},
   "outputs": [
    {
     "data": {
      "text/plain": [
       "['prashant', 'prashant', 'prashant', 'prashant', 'prashant', '']"
      ]
     },
     "execution_count": 18,
     "metadata": {},
     "output_type": "execute_result"
    }
   ],
   "source": [
    "result.split(\"-\")"
   ]
  },
  {
   "cell_type": "markdown",
   "id": "18d339f9",
   "metadata": {},
   "source": [
    "## `operators` on `list` objects"
   ]
  },
  {
   "cell_type": "markdown",
   "id": "f830da3f",
   "metadata": {},
   "source": [
    "`+` operator is not alternative of `extend()` function"
   ]
  },
  {
   "cell_type": "code",
   "execution_count": 19,
   "id": "e5cba6ba",
   "metadata": {},
   "outputs": [
    {
     "data": {
      "text/plain": [
       "[1, 2, 3, 4, 5, 6]"
      ]
     },
     "execution_count": 19,
     "metadata": {},
     "output_type": "execute_result"
    }
   ],
   "source": [
    "foo = [1, 2, 3]\n",
    "bar = [4, 5, 6]\n",
    "\n",
    "result = foo + bar\n",
    "result"
   ]
  },
  {
   "cell_type": "code",
   "execution_count": 20,
   "id": "313222fc",
   "metadata": {},
   "outputs": [
    {
     "data": {
      "text/plain": [
       "[1, 2, 3]"
      ]
     },
     "execution_count": 20,
     "metadata": {},
     "output_type": "execute_result"
    }
   ],
   "source": [
    "foo"
   ]
  },
  {
   "cell_type": "code",
   "execution_count": 21,
   "id": "4fe8ecbf",
   "metadata": {},
   "outputs": [
    {
     "data": {
      "text/plain": [
       "[4, 5, 6]"
      ]
     },
     "execution_count": 21,
     "metadata": {},
     "output_type": "execute_result"
    }
   ],
   "source": [
    "bar"
   ]
  },
  {
   "cell_type": "markdown",
   "id": "318425f6",
   "metadata": {},
   "source": [
    "`+=` : short-hand operator is alternative of `extend` function"
   ]
  },
  {
   "cell_type": "code",
   "execution_count": 22,
   "id": "997f35b2",
   "metadata": {},
   "outputs": [],
   "source": [
    "foo = [1, 2, 3]\n",
    "bar = [4, 5, 6]\n",
    "\n",
    "foo += bar"
   ]
  },
  {
   "cell_type": "code",
   "execution_count": 23,
   "id": "dc43f527",
   "metadata": {},
   "outputs": [
    {
     "data": {
      "text/plain": [
       "[1, 2, 3, 4, 5, 6]"
      ]
     },
     "execution_count": 23,
     "metadata": {},
     "output_type": "execute_result"
    }
   ],
   "source": [
    "foo"
   ]
  },
  {
   "cell_type": "code",
   "execution_count": 25,
   "id": "22b9b3e2",
   "metadata": {},
   "outputs": [
    {
     "data": {
      "text/plain": [
       "[4, 5, 6]"
      ]
     },
     "execution_count": 25,
     "metadata": {},
     "output_type": "execute_result"
    }
   ],
   "source": [
    "bar"
   ]
  },
  {
   "cell_type": "markdown",
   "id": "a755ba3a",
   "metadata": {},
   "source": [
    "### `*` operator on `list`"
   ]
  },
  {
   "cell_type": "code",
   "execution_count": 26,
   "id": "459c61f6",
   "metadata": {},
   "outputs": [],
   "source": [
    "foo = [10, 20, 30] * 3"
   ]
  },
  {
   "cell_type": "code",
   "execution_count": 27,
   "id": "33759c06",
   "metadata": {},
   "outputs": [
    {
     "data": {
      "text/plain": [
       "[10, 20, 30, 10, 20, 30, 10, 20, 30]"
      ]
     },
     "execution_count": 27,
     "metadata": {},
     "output_type": "execute_result"
    }
   ],
   "source": [
    "foo"
   ]
  },
  {
   "cell_type": "code",
   "execution_count": 28,
   "id": "f6c6ce92",
   "metadata": {},
   "outputs": [
    {
     "data": {
      "text/plain": [
       "'rohit'"
      ]
     },
     "execution_count": 28,
     "metadata": {},
     "output_type": "execute_result"
    }
   ],
   "source": [
    "team = [\"virat\", \"rohit\", \"dhoni\"]\n",
    "team[1]"
   ]
  },
  {
   "cell_type": "markdown",
   "id": "469a1962",
   "metadata": {},
   "source": [
    "### modifying an existing list"
   ]
  },
  {
   "cell_type": "code",
   "execution_count": 29,
   "id": "1ec5d505",
   "metadata": {},
   "outputs": [
    {
     "data": {
      "text/plain": [
       "['virat', 'hardik', 'dhoni']"
      ]
     },
     "execution_count": 29,
     "metadata": {},
     "output_type": "execute_result"
    }
   ],
   "source": [
    "team[1] = \"hardik\"\n",
    "team"
   ]
  },
  {
   "cell_type": "markdown",
   "id": "3f5747ac",
   "metadata": {},
   "source": [
    "# Nested list"
   ]
  },
  {
   "cell_type": "code",
   "execution_count": 30,
   "id": "a8c83f9f",
   "metadata": {},
   "outputs": [],
   "source": [
    "# application for `crickbuzz`\n",
    "\n",
    "cricketers = [[\"virat\", 100], [\"rohit\", 200], [\"hardik\", 50], [\"dhoni\", 60], [\"ashwin\", 0]]"
   ]
  },
  {
   "cell_type": "markdown",
   "id": "0b00565a",
   "metadata": {},
   "source": [
    "### acccessing elements in nested list"
   ]
  },
  {
   "cell_type": "code",
   "execution_count": 31,
   "id": "de6cec76",
   "metadata": {},
   "outputs": [
    {
     "data": {
      "text/plain": [
       "200"
      ]
     },
     "execution_count": 31,
     "metadata": {},
     "output_type": "execute_result"
    }
   ],
   "source": [
    "cricketers[1][1]"
   ]
  },
  {
   "cell_type": "code",
   "execution_count": 32,
   "id": "920ff1c0",
   "metadata": {},
   "outputs": [
    {
     "data": {
      "text/plain": [
       "60"
      ]
     },
     "execution_count": 32,
     "metadata": {},
     "output_type": "execute_result"
    }
   ],
   "source": [
    "cricketers[3][1]"
   ]
  },
  {
   "cell_type": "markdown",
   "id": "5d8c37c1",
   "metadata": {},
   "source": [
    "### acccessing elements in nested list"
   ]
  },
  {
   "cell_type": "code",
   "execution_count": 33,
   "id": "1d20b51b",
   "metadata": {},
   "outputs": [
    {
     "data": {
      "text/plain": [
       "[['virat', 100], ['rohit', 200], ['hardik', 50], ['dhoni', 66], ['ashwin', 0]]"
      ]
     },
     "execution_count": 33,
     "metadata": {},
     "output_type": "execute_result"
    }
   ],
   "source": [
    "# assume dhoni hits six\n",
    "\n",
    "cricketers[3][1] = cricketers[3][1] + 6\n",
    "cricketers"
   ]
  },
  {
   "cell_type": "code",
   "execution_count": 34,
   "id": "70fed880",
   "metadata": {},
   "outputs": [
    {
     "data": {
      "text/plain": [
       "[['virat', 100], ['rohit', 200], ['hardik', 50], ['dhoni', 66], ['ashwin', 0]]"
      ]
     },
     "execution_count": 34,
     "metadata": {},
     "output_type": "execute_result"
    }
   ],
   "source": [
    "# assume dhoni hits six (manual)\n",
    "\n",
    "cricketers[3][1] = 66\n",
    "cricketers"
   ]
  },
  {
   "cell_type": "code",
   "execution_count": 35,
   "id": "43d03461",
   "metadata": {},
   "outputs": [
    {
     "data": {
      "text/plain": [
       "[['virat', 100], ['rohit', 200], ['hardik', 50], ['dhoni', 72], ['ashwin', 0]]"
      ]
     },
     "execution_count": 35,
     "metadata": {},
     "output_type": "execute_result"
    }
   ],
   "source": [
    "# assume dhoni hits six\n",
    "\n",
    "cricketers[3][1] += 6\n",
    "cricketers"
   ]
  },
  {
   "cell_type": "code",
   "execution_count": 36,
   "id": "2702eb06",
   "metadata": {},
   "outputs": [],
   "source": [
    "# replace `dhoni` with `raina`\n",
    "\n",
    "cricketers[3][0] = \"raina\"\n"
   ]
  },
  {
   "cell_type": "code",
   "execution_count": 37,
   "id": "843edb6a",
   "metadata": {},
   "outputs": [
    {
     "data": {
      "text/plain": [
       "[['virat', 100], ['rohit', 200], ['hardik', 50], ['raina', 72], ['ashwin', 0]]"
      ]
     },
     "execution_count": 37,
     "metadata": {},
     "output_type": "execute_result"
    }
   ],
   "source": [
    "cricketers"
   ]
  },
  {
   "cell_type": "markdown",
   "id": "e433a4b0",
   "metadata": {},
   "source": [
    "#### Nesting multiple levels"
   ]
  },
  {
   "cell_type": "code",
   "execution_count": 38,
   "id": "0bc9350b",
   "metadata": {},
   "outputs": [],
   "source": [
    "world_cup = [\"virat\", 100]\n",
    "asia_cup = [\"virat\", 120]\n",
    "ashes = [\"virat\", 300]\n",
    "\n",
    "tournaments = [world_cup, asia_cup, ashes]\n",
    "\n",
    "cricketers = [tournaments, [\"virat\", 100], [\"rohit\", 200], [\"hardik\", 50]]"
   ]
  },
  {
   "cell_type": "code",
   "execution_count": 39,
   "id": "f3d5f90e",
   "metadata": {},
   "outputs": [
    {
     "data": {
      "text/plain": [
       "[[['virat', 100], ['virat', 120], ['virat', 300]],\n",
       " ['virat', 100],\n",
       " ['rohit', 200],\n",
       " ['hardik', 50]]"
      ]
     },
     "execution_count": 39,
     "metadata": {},
     "output_type": "execute_result"
    }
   ],
   "source": [
    "cricketers"
   ]
  },
  {
   "cell_type": "code",
   "execution_count": 40,
   "id": "d158ab27",
   "metadata": {},
   "outputs": [
    {
     "data": {
      "text/plain": [
       "120"
      ]
     },
     "execution_count": 40,
     "metadata": {},
     "output_type": "execute_result"
    }
   ],
   "source": [
    "cricketers[0][1][1]"
   ]
  },
  {
   "cell_type": "code",
   "execution_count": 44,
   "id": "15ab57ca",
   "metadata": {},
   "outputs": [],
   "source": [
    "countries = [\"india\", \"usa\"]\n",
    "india_states = [\"MH\", \"KA\"]\n",
    "mh_cities = [\"pune\", \"mumbai\"]\n",
    "\n",
    "\n",
    "world = [countries, india_states, mh_cities]\n",
    "\n"
   ]
  },
  {
   "cell_type": "code",
   "execution_count": 42,
   "id": "cf18842c",
   "metadata": {},
   "outputs": [
    {
     "data": {
      "text/plain": [
       "'KA'"
      ]
     },
     "execution_count": 42,
     "metadata": {},
     "output_type": "execute_result"
    }
   ],
   "source": [
    "world[1][1]"
   ]
  },
  {
   "cell_type": "code",
   "execution_count": 43,
   "id": "d316dc33",
   "metadata": {},
   "outputs": [
    {
     "data": {
      "text/plain": [
       "'mumbai'"
      ]
     },
     "execution_count": 43,
     "metadata": {},
     "output_type": "execute_result"
    }
   ],
   "source": [
    "world[2][1]"
   ]
  },
  {
   "cell_type": "markdown",
   "id": "847e612e",
   "metadata": {},
   "source": [
    "### type casting using `list` function"
   ]
  },
  {
   "cell_type": "code",
   "execution_count": 45,
   "id": "5063040c",
   "metadata": {},
   "outputs": [
    {
     "data": {
      "text/plain": [
       "['a', 'e', 'i', 'o', 'u']"
      ]
     },
     "execution_count": 45,
     "metadata": {},
     "output_type": "execute_result"
    }
   ],
   "source": [
    "vowels = \"aeiou\"\n",
    "list(vowels)"
   ]
  },
  {
   "cell_type": "code",
   "execution_count": 46,
   "id": "bca2b830",
   "metadata": {},
   "outputs": [
    {
     "data": {
      "text/plain": [
       "['1', '2', '3', '4', '5', '6']"
      ]
     },
     "execution_count": 46,
     "metadata": {},
     "output_type": "execute_result"
    }
   ],
   "source": [
    "nums = \"123456\"\n",
    "list(nums)"
   ]
  },
  {
   "cell_type": "code",
   "execution_count": 47,
   "id": "e105241b",
   "metadata": {},
   "outputs": [
    {
     "data": {
      "text/plain": [
       "['aeiou']"
      ]
     },
     "execution_count": 47,
     "metadata": {},
     "output_type": "execute_result"
    }
   ],
   "source": [
    "vowels = [\"aeiou\"]\n",
    "vowels"
   ]
  },
  {
   "cell_type": "code",
   "execution_count": 53,
   "id": "9bf629c2",
   "metadata": {},
   "outputs": [
    {
     "name": "stdout",
     "output_type": "stream",
     "text": [
      "enter value: 56789\n"
     ]
    },
    {
     "data": {
      "text/plain": [
       "['5', '6', '7', '8', '9']"
      ]
     },
     "execution_count": 53,
     "metadata": {},
     "output_type": "execute_result"
    }
   ],
   "source": [
    "list(input(\"enter value: \"))"
   ]
  },
  {
   "cell_type": "code",
   "execution_count": 49,
   "id": "9c0d23cc",
   "metadata": {},
   "outputs": [
    {
     "name": "stdout",
     "output_type": "stream",
     "text": [
      "hello world\n"
     ]
    }
   ],
   "source": [
    "print(\"hello world\")"
   ]
  },
  {
   "cell_type": "code",
   "execution_count": 50,
   "id": "1cc71fb9",
   "metadata": {},
   "outputs": [
    {
     "data": {
      "text/plain": [
       "1"
      ]
     },
     "execution_count": 50,
     "metadata": {},
     "output_type": "execute_result"
    }
   ],
   "source": [
    "bar = ['a', 'e', 'i', 'o', 'u']\n",
    "bar.count(\"a\")"
   ]
  },
  {
   "cell_type": "code",
   "execution_count": null,
   "id": "8d60b925",
   "metadata": {},
   "outputs": [],
   "source": []
  },
  {
   "cell_type": "markdown",
   "id": "961cbb32",
   "metadata": {},
   "source": [
    "#  features of list\n",
    "\n",
    "- list is an ordered data structure\n",
    "- we can access elements of list using indexing\n",
    "- list collection of heterogeneous elements\n",
    "- list is mutable"
   ]
  },
  {
   "cell_type": "markdown",
   "id": "3120dfd1",
   "metadata": {},
   "source": [
    "## mutable\n",
    "\n",
    "- We can change the object"
   ]
  }
 ],
 "metadata": {
  "kernelspec": {
   "display_name": "Python 3 (ipykernel)",
   "language": "python",
   "name": "python3"
  },
  "language_info": {
   "codemirror_mode": {
    "name": "ipython",
    "version": 3
   },
   "file_extension": ".py",
   "mimetype": "text/x-python",
   "name": "python",
   "nbconvert_exporter": "python",
   "pygments_lexer": "ipython3",
   "version": "3.9.7"
  }
 },
 "nbformat": 4,
 "nbformat_minor": 5
}
