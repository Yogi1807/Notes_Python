{
 "cells": [
  {
   "cell_type": "markdown",
   "id": "d9255c3b",
   "metadata": {},
   "source": [
    "## what is difference between `sort()` and `sorted()`?\n",
    "\n",
    "- `sorted()` is in built function\n",
    "- `sort()` can be used as attribute of objects `list`\n",
    "- `sorted()` is return type function\n",
    "- `sort()` is void function and it changes state of object itself."
   ]
  },
  {
   "cell_type": "markdown",
   "id": "fd17015a",
   "metadata": {},
   "source": [
    "## what is difference between `reverse()` and `reversed()`"
   ]
  },
  {
   "cell_type": "code",
   "execution_count": 3,
   "id": "93cc0834",
   "metadata": {},
   "outputs": [
    {
     "data": {
      "text/plain": [
       "[5, 3, 1]"
      ]
     },
     "execution_count": 3,
     "metadata": {},
     "output_type": "execute_result"
    }
   ],
   "source": [
    "foo = [1, 3, 5]\n",
    "foo.reverse()\n",
    "foo"
   ]
  },
  {
   "cell_type": "code",
   "execution_count": 6,
   "id": "124e12c6",
   "metadata": {},
   "outputs": [
    {
     "name": "stdout",
     "output_type": "stream",
     "text": [
      "<list_reverseiterator object at 0x105d71300>\n",
      "<class 'list_reverseiterator'>\n"
     ]
    },
    {
     "data": {
      "text/plain": [
       "[5, 3, 1]"
      ]
     },
     "execution_count": 6,
     "metadata": {},
     "output_type": "execute_result"
    }
   ],
   "source": [
    "result = reversed([1, 3, 5])\n",
    "\n",
    "print(result)\n",
    "\n",
    "print(type(result))  # `result` is an object of class `list_reverseiterator`\n",
    "\n",
    "\n",
    "list(result)   # type casting"
   ]
  },
  {
   "cell_type": "markdown",
   "id": "f099890e",
   "metadata": {},
   "source": [
    "### `reversed()` function returns an iterator object"
   ]
  }
 ],
 "metadata": {
  "kernelspec": {
   "display_name": "Python 3 (ipykernel)",
   "language": "python",
   "name": "python3"
  },
  "language_info": {
   "codemirror_mode": {
    "name": "ipython",
    "version": 3
   },
   "file_extension": ".py",
   "mimetype": "text/x-python",
   "name": "python",
   "nbconvert_exporter": "python",
   "pygments_lexer": "ipython3",
   "version": "3.10.0"
  }
 },
 "nbformat": 4,
 "nbformat_minor": 5
}
