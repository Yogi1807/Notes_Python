{
 "cells": [
  {
   "cell_type": "markdown",
   "id": "efc56ab2-9020-4abd-abac-03c1caa3b6e3",
   "metadata": {},
   "source": [
    "### programming is all about handling data\n",
    "\n",
    "- file system\n",
    "- databases\n",
    "- internet "
   ]
  },
  {
   "cell_type": "markdown",
   "id": "76b33155-a39c-4df1-81f8-3dc994ecbfd8",
   "metadata": {},
   "source": [
    "# `open()` function\n",
    "\n",
    "- `open()` function takes first argument as file-path\n",
    "- you can pass absolute file path or relative file-path based on which directory you are currently in\n",
    "- `open()` function optionally takes second argument called `mode`\n",
    "\n",
    "\n",
    "MODE\n",
    "\n",
    "- `r` (default)\n",
    "- `w`\n",
    "- `a`\n",
    "\n",
    "\n",
    "### additional modes\n",
    "\n",
    "- `r+` read and update\n",
    "\n",
    "- `w+` truncate first, write and read ( To write and read data. It will override existing data.)\n",
    "\n",
    "- `a+` append and read\n",
    "- `x` create a file\n",
    "\n",
    "\n",
    "\n",
    "\n",
    "\n",
    "syntax\n",
    "\n",
    "```\n",
    "\n",
    "open(<file-name>, mode)\n",
    "\n",
    "```"
   ]
  },
  {
   "cell_type": "markdown",
   "id": "52bde107-d33e-4cc5-833e-dc8cc5f4ab15",
   "metadata": {},
   "source": [
    "## modes copied from docs.python.org\n",
    "\n",
    "- 'r' open for reading (default)\n",
    "\n",
    "- 'w' open for writing, truncating the file first\n",
    "\n",
    "- 'x' open for exclusive creation, failing if the file already exists\n",
    "\n",
    "- 'a' open for writing, appending to the end of file if it exists\n",
    "\n",
    "- 'b' binary mode\n",
    "\n",
    "- 't' text mode (default)\n",
    "\n",
    "- '+' open for updating (reading and writing)"
   ]
  },
  {
   "cell_type": "markdown",
   "id": "c4662f57-d8a1-45a7-93eb-5f13b450a047",
   "metadata": {},
   "source": [
    "### operating systems\n",
    "\n",
    "- windows (microsoft)\n",
    "\n",
    "- unix (architecture)\n",
    "\n",
    "        - macos\n",
    "        - linux   (open source, FOSS movement)\n",
    "        \n",
    "            - mobile os\n",
    "                - android (kitkat, oreo, )\n",
    "            \n",
    "            \n",
    "            - desktop os\n",
    "                - kali linux (penetration testing, ethical hacking)\n",
    "                - parrot os\n",
    "                - ubuntu\n",
    "                - fedora\n",
    "                - debian\n",
    "                - arch\n",
    "                \n",
    "            \n",
    "            - server os\n",
    "                - RHEL\n",
    "                - centOS\n",
    "\n",
    "\n",
    "\n",
    "\n",
    "\n",
    "\n",
    "\n",
    "\n",
    "- mac\n",
    "- solaris\n",
    "- kali linux\n",
    "- windows 2000\n",
    "- unix\n",
    "- parrot os\n",
    "- ubuntu\n",
    "- android\n",
    "- symbion\n",
    "- arch\n"
   ]
  },
  {
   "cell_type": "markdown",
   "id": "1c655bd1-127e-425f-9e83-e19120683249",
   "metadata": {},
   "source": [
    "# GNU/Linux\n",
    "\n",
    "- name of \"kernel\"\n",
    "\n",
    "- GNU\n",
    "\n",
    "- 8 GB RAM, CPU, ROM"
   ]
  },
  {
   "cell_type": "markdown",
   "id": "7bc41e87-b86f-4d29-8569-b6d581f1b6ca",
   "metadata": {},
   "source": [
    "# categorization of softwares\n",
    "\n",
    "- system software\n",
    "- application software"
   ]
  },
  {
   "cell_type": "code",
   "execution_count": null,
   "id": "1c077287-48a5-4c34-8026-47b17bf1aea3",
   "metadata": {},
   "outputs": [],
   "source": [
    "command prompt ->\n",
    "        cwd (Current Working Directory)\n",
    "        dir (lists the files names of directory)"
   ]
  },
  {
   "cell_type": "markdown",
   "id": "8ea087d7-1538-4c21-993f-1aa0286c91bc",
   "metadata": {},
   "source": [
    "# linux\n",
    "\n",
    "/  (root)\n",
    "\n",
    "\n",
    "home bin etc \n",
    "\n",
    "\n",
    "\n",
    "\n",
    "\n"
   ]
  },
  {
   "cell_type": "markdown",
   "id": "210f0acf-be77-4f7c-8b1f-d3050d8d92a5",
   "metadata": {},
   "source": [
    "# file path\n",
    "\n",
    "- absolute file path :: path of file starting from root\n",
    "- relative file path :: path of file from current working directory"
   ]
  },
  {
   "cell_type": "code",
   "execution_count": null,
   "id": "3b3120b3-2a1e-44fe-a358-7a575cefaa29",
   "metadata": {},
   "outputs": [],
   "source": [
    "fobj = open(\"sample.txt\") \n",
    "\n",
    "# `fobj` is file pointer object\n",
    "\n",
    "fobj"
   ]
  },
  {
   "cell_type": "code",
   "execution_count": null,
   "id": "efbc0fee-9d40-4cc8-a668-bc21bc32545f",
   "metadata": {},
   "outputs": [],
   "source": [
    "fp = open(\"/Users/prashant/PICT/VELOCITY 5Nov/sample.txt\")\n",
    "fp.read()\n"
   ]
  },
  {
   "cell_type": "code",
   "execution_count": null,
   "id": "e03f3443-152b-4701-86c3-12ccf9fc334f",
   "metadata": {},
   "outputs": [],
   "source": [
    "fobj.read()"
   ]
  },
  {
   "cell_type": "markdown",
   "id": "0617e754-4db1-4c88-8e40-d061eedda25f",
   "metadata": {},
   "source": [
    "### reading file"
   ]
  },
  {
   "cell_type": "code",
   "execution_count": null,
   "id": "b5ceeea2-43b6-4411-8945-6b6015f2049f",
   "metadata": {},
   "outputs": [],
   "source": [
    "fp = open(\"sample.txt\", \"r\")\n",
    "fp.read()\n",
    "\n",
    "fp.close()"
   ]
  },
  {
   "cell_type": "markdown",
   "id": "6bc63b5e-442b-4aff-b18b-499a8c3909ad",
   "metadata": {},
   "source": [
    "## NOTE - whenever you open file make sure you're closing"
   ]
  },
  {
   "cell_type": "code",
   "execution_count": null,
   "id": "ef971a7c-ffa8-41ad-9de4-71d058d197e0",
   "metadata": {},
   "outputs": [],
   "source": [
    "fp1 = open(\"sample.txt\")\n",
    "\n",
    "for line in fp1.readlines():\n",
    "    print(line)\n",
    "    \n",
    "fp1.close()"
   ]
  },
  {
   "cell_type": "code",
   "execution_count": 2,
   "id": "9794f65b-6c79-4292-8e57-0d00a0795e2b",
   "metadata": {},
   "outputs": [],
   "source": [
    "fp2 = open(\"sample2.txt\", \"w\") # if files does not exist, it gets created\n",
    "\n",
    "fp2.write(\"Nashik\\n\")\n",
    "fp2.write(\"Latur\\n\")\n",
    "fp2.write(\"Goa\\n\")\n",
    "\n",
    "fp2.close()"
   ]
  },
  {
   "cell_type": "code",
   "execution_count": 5,
   "id": "aaa75188",
   "metadata": {},
   "outputs": [
    {
     "name": "stdout",
     "output_type": "stream",
     "text": [
      "Nashik\n",
      "\n",
      "Latur\n",
      "\n",
      "Goa\n",
      "\n"
     ]
    }
   ],
   "source": [
    "with open(\"sample2.txt\") as s:\n",
    "    for i in s.readlines():\n",
    "        print(i)"
   ]
  },
  {
   "cell_type": "code",
   "execution_count": null,
   "id": "08c5aea3",
   "metadata": {},
   "outputs": [],
   "source": []
  },
  {
   "cell_type": "markdown",
   "id": "5238ad05-466c-4eeb-9b37-cc75d7570dfb",
   "metadata": {},
   "source": [
    "# append mode"
   ]
  },
  {
   "cell_type": "code",
   "execution_count": 6,
   "id": "c1b9c863-5059-44bc-997b-61af7151f559",
   "metadata": {},
   "outputs": [],
   "source": [
    "fp2 = open(\"sample2.txt\", \"a\") # if files does not exist, it gets created\n",
    "\n",
    "fp2.write(\"Aurangabad\\n\")\n",
    "fp2.write(\"Patna\\n\")\n",
    "fp2.write(\"Kanpur\\n\")\n",
    "\n",
    "fp2.close()"
   ]
  },
  {
   "cell_type": "code",
   "execution_count": null,
   "id": "4d5ac619",
   "metadata": {},
   "outputs": [],
   "source": [
    "with open()"
   ]
  },
  {
   "cell_type": "markdown",
   "id": "9316baa7-020f-4b3f-a822-b0c1d8ea3d49",
   "metadata": {},
   "source": [
    "## copy content of file1.txt into file2.txt"
   ]
  },
  {
   "cell_type": "code",
   "execution_count": null,
   "id": "25e821e2-c533-4dc6-a99f-9139b9a1a5d5",
   "metadata": {},
   "outputs": [],
   "source": [
    "fp1 = open(\"file1.txt\", \"r\")\n",
    "content = fp1.read()\n",
    "fp1.close()\n",
    "\n",
    "fp2 = open(\"file2.txt\", \"w\")\n",
    "fp2.write(content)\n",
    "fp2.close()"
   ]
  },
  {
   "cell_type": "markdown",
   "id": "7d83a6e9-4f43-4a60-955d-8a4abb854beb",
   "metadata": {},
   "source": [
    "## Write a program to count number of spaces, new line characters and tab characters in a given file (file3.txt)"
   ]
  },
  {
   "cell_type": "code",
   "execution_count": null,
   "id": "b887edec-7a73-4b78-8eff-2d30c8d424dc",
   "metadata": {},
   "outputs": [],
   "source": [
    "fp3 = open(\"file3.txt\")\n",
    "\n",
    "content = fp3.read()\n",
    "new_lines = content.count(\"\\n\")\n",
    "spaces = content.count(\" \")\n",
    "tabs = content.count(\"\\t\")\n",
    "\n",
    "print(new_lines, spaces, tabs)\n",
    "\n",
    "fp3.close()"
   ]
  },
  {
   "cell_type": "markdown",
   "id": "520e9d69-ab76-403c-a134-ff0c81f57e8e",
   "metadata": {},
   "source": [
    "## `with` keyword as context-manager"
   ]
  },
  {
   "cell_type": "code",
   "execution_count": null,
   "id": "233807ec-ac18-4135-90f0-3ad9c4e10c9e",
   "metadata": {},
   "outputs": [],
   "source": [
    "with open(\"file3.txt\") as foo:\n",
    "    content = foo.read()\n",
    "    # file operations\n",
    "\n",
    "print()\n",
    "    \n"
   ]
  },
  {
   "cell_type": "markdown",
   "id": "2e829e46-ffc3-4362-9794-d2d9107e9dd4",
   "metadata": {},
   "source": [
    "## copy content of file1.txt into file2.txt"
   ]
  },
  {
   "cell_type": "code",
   "execution_count": null,
   "id": "2b08d3d1-db1a-4770-aa42-1383742d52b0",
   "metadata": {},
   "outputs": [],
   "source": [
    "with open(\"file1.txt\") as fp1:\n",
    "    content = fp1.read()\n",
    "    \n",
    "with open(\"file2.txt\", \"w\") as fp2:\n",
    "    fp2.write(content)"
   ]
  },
  {
   "cell_type": "markdown",
   "id": "dc415a2d-1a86-4b15-a593-4f2ec7ed12b1",
   "metadata": {},
   "source": [
    "## `final_world_cup_team.txt`\n",
    "## you want to alter few names from the file"
   ]
  },
  {
   "cell_type": "code",
   "execution_count": null,
   "id": "7df75fc1-5667-41f5-945a-d9cd9423bae0",
   "metadata": {},
   "outputs": [],
   "source": [
    "with open(\"final_world_cup_team.txt\", \"r+\") as foo:\n",
    "    content = foo.readlines()\n",
    "    content.remove('KL Rahul\\n')\n",
    "    content.append(\"Ishan Kishan\")\n",
    "    print(content)\n",
    "    output = \"\".join(content)\n",
    "    foo.write(output)\n",
    "    "
   ]
  },
  {
   "cell_type": "code",
   "execution_count": 31,
   "id": "f0d3ab67-c33b-4c96-ac4d-fa9cb8f014e3",
   "metadata": {},
   "outputs": [
    {
     "name": "stdout",
     "output_type": "stream",
     "text": [
      "\n"
     ]
    }
   ],
   "source": [
    "with open(\"final_world_cup_team.txt\", \"r+\") as foo:\n",
    "    print(foo.read())\n",
    "    # print(content)\n",
    "    # content.remove()\n",
    "    # content.append(\"Ishan Kishan\")\n",
    "    # print(content)\n",
    "    # output = \"\".join(content)\n",
    "    # foo.write(output)\n",
    "    "
   ]
  },
  {
   "cell_type": "code",
   "execution_count": 41,
   "id": "caa6b3be-f25d-4d80-8399-d8a9336701cc",
   "metadata": {},
   "outputs": [
    {
     "name": "stdout",
     "output_type": "stream",
     "text": [
      "\n"
     ]
    }
   ],
   "source": [
    "with open(\"final_world_cup_team.txt\") as foo:\n",
    "    print(foo.read())"
   ]
  },
  {
   "cell_type": "code",
   "execution_count": null,
   "id": "9760073f-49ee-4fd4-a0ed-9225683efa13",
   "metadata": {},
   "outputs": [],
   "source": [
    "fp1 = open(\"final_world_cup_team.txt\")\n",
    "fp1.read()"
   ]
  },
  {
   "cell_type": "code",
   "execution_count": 2,
   "id": "2cfed12b-c45c-4420-b483-408b0cd7e924",
   "metadata": {},
   "outputs": [
    {
     "ename": "UnsupportedOperation",
     "evalue": "not readable",
     "output_type": "error",
     "traceback": [
      "\u001b[0;31m---------------------------------------------------------------------------\u001b[0m",
      "\u001b[0;31mUnsupportedOperation\u001b[0m                      Traceback (most recent call last)",
      "Cell \u001b[0;32mIn [2], line 2\u001b[0m\n\u001b[1;32m      1\u001b[0m \u001b[38;5;28;01mwith\u001b[39;00m \u001b[38;5;28mopen\u001b[39m(\u001b[38;5;124m\"\u001b[39m\u001b[38;5;124msample.txt\u001b[39m\u001b[38;5;124m\"\u001b[39m, \u001b[38;5;124m\"\u001b[39m\u001b[38;5;124mw\u001b[39m\u001b[38;5;124m\"\u001b[39m) \u001b[38;5;28;01mas\u001b[39;00m foo:\n\u001b[0;32m----> 2\u001b[0m     \u001b[43mfoo\u001b[49m\u001b[38;5;241;43m.\u001b[39;49m\u001b[43mread\u001b[49m\u001b[43m(\u001b[49m\u001b[43m)\u001b[49m\n",
      "\u001b[0;31mUnsupportedOperation\u001b[0m: not readable"
     ]
    }
   ],
   "source": [
    "with open(\"sample.txt\", \"w\") as foo:\n",
    "    foo.read()"
   ]
  }
 ],
 "metadata": {
  "kernelspec": {
   "display_name": "Python 3 (ipykernel)",
   "language": "python",
   "name": "python3"
  },
  "language_info": {
   "codemirror_mode": {
    "name": "ipython",
    "version": 3
   },
   "file_extension": ".py",
   "mimetype": "text/x-python",
   "name": "python",
   "nbconvert_exporter": "python",
   "pygments_lexer": "ipython3",
   "version": "3.9.7"
  }
 },
 "nbformat": 4,
 "nbformat_minor": 5
}
