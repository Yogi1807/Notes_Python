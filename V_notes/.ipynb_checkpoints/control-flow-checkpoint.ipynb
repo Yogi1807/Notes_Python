{
 "cells": [
  {
   "cell_type": "markdown",
   "id": "51266580",
   "metadata": {},
   "source": [
    "### `if` syntax\n",
    "\n",
    "```\n",
    "if <expression1>:\n",
    "    <if-block>\n",
    "\n",
    "elif <expression2>:\n",
    "    <elif-block>\n",
    "    \n",
    "else:\n",
    "    <else-block>\n",
    "\n",
    "```"
   ]
  },
  {
   "cell_type": "markdown",
   "id": "9f43af60",
   "metadata": {},
   "source": [
    "4 BASIC RULES\n",
    "\n",
    "    - Always use 4 space indentation\n",
    "    - Never mix tabs and spaces\n",
    "    - One blank line between code blocks\n",
    "    - Two blank lines between class definitions"
   ]
  },
  {
   "cell_type": "code",
   "execution_count": null,
   "id": "1eccd6a1",
   "metadata": {},
   "outputs": [],
   "source": [
    "False or True"
   ]
  },
  {
   "cell_type": "code",
   "execution_count": null,
   "id": "222e4fa9",
   "metadata": {},
   "outputs": [],
   "source": [
    "if 10 > 1:\n",
    "    print(\"I am in if-block\")\n",
    "    print(\"10 is greater than 1\")\n",
    "\n",
    "print(\"I am out of if-block\")"
   ]
  },
  {
   "cell_type": "markdown",
   "id": "0fe7e3bd",
   "metadata": {},
   "source": [
    "## code for lamp"
   ]
  },
  {
   "cell_type": "code",
   "execution_count": 1,
   "id": "2a3c73bf",
   "metadata": {},
   "outputs": [
    {
     "name": "stdout",
     "output_type": "stream",
     "text": [
      "lamp is OFF!!!\n"
     ]
    }
   ],
   "source": [
    "lamp_status = False    # lamp does not work\n",
    "lamp_burned_out = False\n",
    "lamp_plug_status = False\n",
    "\n",
    "\n",
    "\n",
    "if lamp_status:\n",
    "    print(\"lamp is ON!!!\")\n",
    "    \n",
    "elif lamp_plug_status:\n",
    "    print(\"lamp is plugged in. Please check other issues.\")\n",
    "\n",
    "elif lamp_burned_out:\n",
    "    print(\"lamp is burned out. Please repair\")\n",
    "\n",
    "else: \n",
    "    print(\"lamp is OFF!!!\")"
   ]
  },
  {
   "cell_type": "markdown",
   "id": "5f092ce8",
   "metadata": {},
   "source": [
    "### how to find number is odd or not?"
   ]
  },
  {
   "cell_type": "code",
   "execution_count": 4,
   "id": "1dc23a6b",
   "metadata": {},
   "outputs": [
    {
     "name": "stdout",
     "output_type": "stream",
     "text": [
      "please tell me number : -99\n",
      "ODD NUMBER\n"
     ]
    }
   ],
   "source": [
    "num = int(input(\"please tell me number : \"))\n",
    "\n",
    "if num % 2 == 0:\n",
    "    print(\"EVEN NUMBER\")\n",
    "\n",
    "else:\n",
    "    print(\"ODD NUMBER\")\n",
    "    \n"
   ]
  },
  {
   "cell_type": "code",
   "execution_count": 2,
   "id": "b67c0032",
   "metadata": {},
   "outputs": [
    {
     "data": {
      "text/plain": [
       "1"
      ]
     },
     "execution_count": 2,
     "metadata": {},
     "output_type": "execute_result"
    }
   ],
   "source": [
    "5 % 2"
   ]
  },
  {
   "cell_type": "markdown",
   "id": "1623b7e0",
   "metadata": {},
   "source": [
    "### number system\n"
   ]
  },
  {
   "cell_type": "code",
   "execution_count": 7,
   "id": "bf57779b",
   "metadata": {},
   "outputs": [
    {
     "name": "stdout",
     "output_type": "stream",
     "text": [
      "please enter number : -314\n",
      "number is negative\n"
     ]
    }
   ],
   "source": [
    "x = int(input(\"please enter number : \"))\n",
    "\n",
    "if x < 0:\n",
    "    print(\"number is negative\")\n",
    "    \n",
    "elif x == 0:\n",
    "    print(\"number is zero\")\n",
    "    \n",
    "else:\n",
    "    print(\"number is positive\")"
   ]
  },
  {
   "cell_type": "code",
   "execution_count": 8,
   "id": "0b300d5f",
   "metadata": {},
   "outputs": [
    {
     "name": "stdout",
     "output_type": "stream",
     "text": [
      "please enter number : 300\n",
      "number is positive\n"
     ]
    }
   ],
   "source": [
    "x = int(input(\"please enter number : \"))\n",
    "\n",
    "if x < 0:\n",
    "    print(\"number is negative\")\n",
    "    \n",
    "if x == 0:\n",
    "    print(\"number is zero\")\n",
    "    \n",
    "if function():\n",
    "    print(\"number is positive\")"
   ]
  },
  {
   "cell_type": "markdown",
   "id": "7215a185",
   "metadata": {},
   "source": [
    "HTTP CODE\n",
    "\n",
    "Response      meaning\n",
    "\n",
    "  200         success\n",
    "  500         internal server error\n",
    "  201         created\n",
    "  301         moved permenently"
   ]
  },
  {
   "cell_type": "code",
   "execution_count": 12,
   "id": "3cf45b8e",
   "metadata": {},
   "outputs": [
    {
     "name": "stdout",
     "output_type": "stream",
     "text": [
      "give us status code : 99342\n",
      "The status is not known to me\n"
     ]
    }
   ],
   "source": [
    "status = int(input(\"give us status code : \"))\n",
    "\n",
    "if status == 200:\n",
    "    print(\"success\")\n",
    "elif status == 500:\n",
    "    print(\"internal server error\")\n",
    "elif status == 201:\n",
    "    print(\"created\")\n",
    "elif status == 301:\n",
    "    print(\"moved permenently\")\n",
    "else:\n",
    "    print(\"The status is not known to me\")"
   ]
  },
  {
   "cell_type": "code",
   "execution_count": 10,
   "id": "0f34f923",
   "metadata": {},
   "outputs": [
    {
     "name": "stdout",
     "output_type": "stream",
     "text": [
      "give us status code5432\n",
      "moved permenently\n"
     ]
    }
   ],
   "source": [
    "status = int(input(\"give us status code\"))\n",
    "\n",
    "if status == 200:\n",
    "    print(\"success\")\n",
    "elif status == 500:\n",
    "    print(\"internal server error\")\n",
    "elif status == 201:\n",
    "    print(\"created\")\n",
    "else:\n",
    "    print(\"moved permenently\")"
   ]
  },
  {
   "cell_type": "markdown",
   "id": "cdb61c7f",
   "metadata": {},
   "source": [
    "# match statement\n",
    "\n",
    "- this is a new addition in python 3.10+"
   ]
  },
  {
   "cell_type": "markdown",
   "id": "84d51fd2",
   "metadata": {},
   "source": [
    "## syntax\n",
    "\n",
    "```\n",
    "match code:\n",
    "    case <value>:\n",
    "        print(\"case block\")\n",
    "```"
   ]
  },
  {
   "cell_type": "code",
   "execution_count": 14,
   "id": "89c6279a",
   "metadata": {},
   "outputs": [
    {
     "name": "stdout",
     "output_type": "stream",
     "text": [
      "please tell me status code : 201\n",
      "created\n"
     ]
    }
   ],
   "source": [
    "# HTTP CODE\n",
    "\n",
    "# Response      meaning\n",
    "\n",
    "#   200         success\n",
    "#   500         internal server error\n",
    "#   201         created\n",
    "#   301         moved permenently\n",
    "\n",
    "status = int(input(\"please tell me status code : \"))\n",
    "\n",
    "match status:\n",
    "    case 200:\n",
    "        print(\"success\")\n",
    "    case 500:\n",
    "        print(\"internal server error\")\n",
    "    case 201:\n",
    "        print(\"created\")\n",
    "    case 301:\n",
    "        print(\"moved permenently\")"
   ]
  },
  {
   "cell_type": "code",
   "execution_count": 15,
   "id": "45725269",
   "metadata": {},
   "outputs": [
    {
     "name": "stdout",
     "output_type": "stream",
     "text": [
      "please tell me status code : 456765\n",
      "this status code is not known to me\n"
     ]
    }
   ],
   "source": [
    "# HTTP CODE\n",
    "\n",
    "# Response      meaning\n",
    "\n",
    "#   200         success\n",
    "#   500         internal server error\n",
    "#   201         created\n",
    "#   301         moved permenently\n",
    "\n",
    "status = int(input(\"please tell me status code : \"))\n",
    "\n",
    "match status:\n",
    "    case 200:\n",
    "        print(\"success\")\n",
    "    case 500:\n",
    "        print(\"internal server error\")\n",
    "    case 201:\n",
    "        print(\"created\")\n",
    "    case 301:\n",
    "        print(\"moved permenently\")\n",
    "    case _:\n",
    "        print(\"this status code is not known to me\")"
   ]
  }
 ],
 "metadata": {
  "kernelspec": {
   "display_name": "Python 3 (ipykernel)",
   "language": "python",
   "name": "python3"
  },
  "language_info": {
   "codemirror_mode": {
    "name": "ipython",
    "version": 3
   },
   "file_extension": ".py",
   "mimetype": "text/x-python",
   "name": "python",
   "nbconvert_exporter": "python",
   "pygments_lexer": "ipython3",
   "version": "3.10.0"
  }
 },
 "nbformat": 4,
 "nbformat_minor": 5
}
