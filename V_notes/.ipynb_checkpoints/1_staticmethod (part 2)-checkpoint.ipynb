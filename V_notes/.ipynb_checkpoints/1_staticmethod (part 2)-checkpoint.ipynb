{
 "cells": [
  {
   "cell_type": "code",
   "execution_count": 25,
   "id": "f89d197b-f418-443f-918d-98ba5d4786b7",
   "metadata": {},
   "outputs": [
    {
     "data": {
      "text/plain": [
       "3"
      ]
     },
     "execution_count": 25,
     "metadata": {},
     "output_type": "execute_result"
    }
   ],
   "source": [
    "class Player:\n",
    "    \n",
    "    height = \"\"\n",
    "    color = \"\"\n",
    "    \n",
    "    def __init__(self, team_name, team_count):\n",
    "        self.team_name = team_name\n",
    "        self.team_count = team_count\n",
    "        \n",
    "    @staticmethod\n",
    "    def get_hundreds(scores_list):\n",
    "        hundreds = []\n",
    "        for score_ in scores_list:\n",
    "            if score_ >= 100:\n",
    "                hundreds.append(score_)\n",
    "                \n",
    "        return len(hundreds)\n",
    "    \n",
    "    \n",
    "    def instance_method(self):\n",
    "        return self.get_hundreds([10, 200])\n",
    "    \n",
    "    \n",
    "    \n",
    "class IndianPlayer(Player):\n",
    "    def __init__(self, name, count):\n",
    "        super().__init__(name, count)\n",
    "    \n",
    "    def get_100_plus_scores(self):\n",
    "        return self.get_hundreds([100, 200, 300])\n",
    "        \n",
    "    \n",
    "    \n",
    "    \n",
    "class AUSplayer(Player):\n",
    "    def __init__(self):\n",
    "        pass\n",
    "                \n",
    "        \n",
    "        \n",
    "        \n",
    "p1 = Player(\"RCB\", 11)\n",
    "p1.instance_method()\n",
    "\n",
    "indian = IndianPlayer(\"MI\", 30)\n",
    "indian.get_100_plus_scores()"
   ]
  },
  {
   "cell_type": "code",
   "execution_count": null,
   "id": "5cafd1e9-fd59-4ddb-92da-8a17ca2f2f1c",
   "metadata": {},
   "outputs": [],
   "source": []
  }
 ],
 "metadata": {
  "kernelspec": {
   "display_name": "Python 3 (ipykernel)",
   "language": "python",
   "name": "python3"
  },
  "language_info": {
   "codemirror_mode": {
    "name": "ipython",
    "version": 3
   },
   "file_extension": ".py",
   "mimetype": "text/x-python",
   "name": "python",
   "nbconvert_exporter": "python",
   "pygments_lexer": "ipython3",
   "version": "3.10.0"
  }
 },
 "nbformat": 4,
 "nbformat_minor": 5
}
