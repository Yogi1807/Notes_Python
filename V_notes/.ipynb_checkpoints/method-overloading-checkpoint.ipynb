{
 "cells": [
  {
   "cell_type": "code",
   "execution_count": 4,
   "id": "81d34cfa-26e3-413b-be18-60e01cf4d8d0",
   "metadata": {},
   "outputs": [
    {
     "data": {
      "text/plain": [
       "'Employee :: prashant, 100, engineer'"
      ]
     },
     "execution_count": 4,
     "metadata": {},
     "output_type": "execute_result"
    }
   ],
   "source": [
    "class Manager:\n",
    "    \n",
    "    def get_details(self, name, salary):\n",
    "        return f\"Manager :: {name} - {salary}\"\n",
    "        \n",
    "    \n",
    "class Employee(Manager):\n",
    "    \n",
    "    # over-loading\n",
    "    def get_details(self, name, salary, designation):\n",
    "        return f\"Employee :: {name}, {salary}, {designation}\"\n",
    "    \n",
    "    \n",
    "    \n",
    "Employee().get_details(\"prashant\", 100, \"engineer\")"
   ]
  }
 ],
 "metadata": {
  "kernelspec": {
   "display_name": "Python 3 (ipykernel)",
   "language": "python",
   "name": "python3"
  },
  "language_info": {
   "codemirror_mode": {
    "name": "ipython",
    "version": 3
   },
   "file_extension": ".py",
   "mimetype": "text/x-python",
   "name": "python",
   "nbconvert_exporter": "python",
   "pygments_lexer": "ipython3",
   "version": "3.10.0"
  }
 },
 "nbformat": 4,
 "nbformat_minor": 5
}
