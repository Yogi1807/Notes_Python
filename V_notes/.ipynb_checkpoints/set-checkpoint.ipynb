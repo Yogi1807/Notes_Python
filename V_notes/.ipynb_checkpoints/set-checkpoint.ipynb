{
 "cells": [
  {
   "cell_type": "markdown",
   "id": "e7bf889e",
   "metadata": {},
   "source": [
    "# structured data types\n",
    "\n",
    "- list\n",
    "- tuple\n",
    "- set\n",
    "- dict\n",
    "- frozenset"
   ]
  },
  {
   "cell_type": "markdown",
   "id": "f3d0627e",
   "metadata": {},
   "source": [
    "# What is `set()`?\n",
    "\n",
    "- `set` is a data type which is un-ordered collection of unique elements\n",
    "- `set` can only contain `immutable` objects\n",
    "- however, set is `mutable`"
   ]
  },
  {
   "cell_type": "markdown",
   "id": "5000203e",
   "metadata": {},
   "source": [
    "# how to create a `set()`?"
   ]
  },
  {
   "cell_type": "code",
   "execution_count": 10,
   "id": "41c531be",
   "metadata": {},
   "outputs": [
    {
     "data": {
      "text/plain": [
       "set"
      ]
     },
     "execution_count": 10,
     "metadata": {},
     "output_type": "execute_result"
    }
   ],
   "source": [
    "# empty set\n",
    "\n",
    "foo = set()\n",
    "\n",
    "type(foo)  # `foo` is an object of class `set`"
   ]
  },
  {
   "cell_type": "code",
   "execution_count": 3,
   "id": "22775658",
   "metadata": {},
   "outputs": [
    {
     "data": {
      "text/plain": [
       "set"
      ]
     },
     "execution_count": 3,
     "metadata": {},
     "output_type": "execute_result"
    }
   ],
   "source": [
    "bar = {\"city\", \"sachin\", True, 90.50, 1000}\n",
    "type(bar) # `bar` is an object of class `set`"
   ]
  },
  {
   "cell_type": "code",
   "execution_count": 12,
   "id": "a622747b",
   "metadata": {},
   "outputs": [
    {
     "ename": "TypeError",
     "evalue": "unhashable type: 'list'",
     "output_type": "error",
     "traceback": [
      "\u001b[0;31m---------------------------------------------------------------------------\u001b[0m",
      "\u001b[0;31mTypeError\u001b[0m                                 Traceback (most recent call last)",
      "Cell \u001b[0;32mIn [12], line 1\u001b[0m\n\u001b[0;32m----> 1\u001b[0m example \u001b[38;5;241m=\u001b[39m {\u001b[38;5;124m\"\u001b[39m\u001b[38;5;124mcity\u001b[39m\u001b[38;5;124m\"\u001b[39m, [\u001b[38;5;124m\"\u001b[39m\u001b[38;5;124ma\u001b[39m\u001b[38;5;124m\"\u001b[39m, \u001b[38;5;124m\"\u001b[39m\u001b[38;5;124mb\u001b[39m\u001b[38;5;124m\"\u001b[39m]}\n",
      "\u001b[0;31mTypeError\u001b[0m: unhashable type: 'list'"
     ]
    }
   ],
   "source": [
    "example = {\"city\", [\"a\", \"b\"]}"
   ]
  },
  {
   "cell_type": "code",
   "execution_count": 13,
   "id": "ad181b9c",
   "metadata": {},
   "outputs": [
    {
     "ename": "TypeError",
     "evalue": "unhashable type: 'dict'",
     "output_type": "error",
     "traceback": [
      "\u001b[0;31m---------------------------------------------------------------------------\u001b[0m",
      "\u001b[0;31mTypeError\u001b[0m                                 Traceback (most recent call last)",
      "Cell \u001b[0;32mIn [13], line 3\u001b[0m\n\u001b[1;32m      1\u001b[0m states \u001b[38;5;241m=\u001b[39m {\u001b[38;5;124m\"\u001b[39m\u001b[38;5;124mMH\u001b[39m\u001b[38;5;124m\"\u001b[39m: [\u001b[38;5;124m\"\u001b[39m\u001b[38;5;124mPUNE\u001b[39m\u001b[38;5;124m\"\u001b[39m, \u001b[38;5;124m\"\u001b[39m\u001b[38;5;124mMUMBAI\u001b[39m\u001b[38;5;124m\"\u001b[39m]}\n\u001b[0;32m----> 3\u001b[0m example \u001b[38;5;241m=\u001b[39m {\u001b[38;5;241m1\u001b[39m, \u001b[38;5;241m2\u001b[39m, states}\n",
      "\u001b[0;31mTypeError\u001b[0m: unhashable type: 'dict'"
     ]
    }
   ],
   "source": [
    "states = {\"MH\": [\"PUNE\", \"MUMBAI\"]}\n",
    "\n",
    "example = {1, 2, states}"
   ]
  },
  {
   "cell_type": "markdown",
   "id": "662527b8",
   "metadata": {},
   "source": [
    "## type casting set"
   ]
  },
  {
   "cell_type": "code",
   "execution_count": 6,
   "id": "904c9541",
   "metadata": {},
   "outputs": [
    {
     "name": "stdout",
     "output_type": "stream",
     "text": [
      "{'hardik', 'dhoni'}\n"
     ]
    },
    {
     "data": {
      "text/plain": [
       "set"
      ]
     },
     "execution_count": 6,
     "metadata": {},
     "output_type": "execute_result"
    }
   ],
   "source": [
    "players = [\"hardik\", \"dhoni\"]\n",
    "\n",
    "result = set(players)\n",
    "print(result)\n",
    "type(result)\n"
   ]
  },
  {
   "cell_type": "code",
   "execution_count": 7,
   "id": "6a264b0f",
   "metadata": {},
   "outputs": [
    {
     "name": "stdout",
     "output_type": "stream",
     "text": [
      "{'hardik', 'dhoni'}\n"
     ]
    },
    {
     "data": {
      "text/plain": [
       "set"
      ]
     },
     "execution_count": 7,
     "metadata": {},
     "output_type": "execute_result"
    }
   ],
   "source": [
    "players = (\"hardik\", \"dhoni\")\n",
    "\n",
    "result = set(players)\n",
    "print(result)\n",
    "type(result)\n"
   ]
  },
  {
   "cell_type": "code",
   "execution_count": 8,
   "id": "5336658d",
   "metadata": {},
   "outputs": [
    {
     "data": {
      "text/plain": [
       "{' ', 'a', 'd', 'e', 'g', 'i', 'n', 'r', 's', 't'}"
      ]
     },
     "execution_count": 8,
     "metadata": {},
     "output_type": "execute_result"
    }
   ],
   "source": [
    "result = set(\"india is great\")\n",
    "result"
   ]
  },
  {
   "cell_type": "code",
   "execution_count": 9,
   "id": "839f98a9",
   "metadata": {},
   "outputs": [
    {
     "data": {
      "text/plain": [
       "{'a', 'h', 'n', 'p', 'r', 's', 't'}"
      ]
     },
     "execution_count": 9,
     "metadata": {},
     "output_type": "execute_result"
    }
   ],
   "source": [
    "set(\"prashant\")"
   ]
  },
  {
   "cell_type": "markdown",
   "id": "0197da27",
   "metadata": {},
   "source": [
    "## how to remove duplicates from a list?"
   ]
  },
  {
   "cell_type": "code",
   "execution_count": 11,
   "id": "6c659bd9",
   "metadata": {},
   "outputs": [
    {
     "data": {
      "text/plain": [
       "['pune', 'nashik', 'mumbai']"
      ]
     },
     "execution_count": 11,
     "metadata": {},
     "output_type": "execute_result"
    }
   ],
   "source": [
    "city_names = [\"pune\", \"nashik\", \"pune\", \"mumbai\", \"pune\"]\n",
    "city_names = list(set(city_names))\n",
    "city_names"
   ]
  },
  {
   "cell_type": "markdown",
   "id": "8657985e",
   "metadata": {},
   "source": [
    "# use cases of set\n",
    "\n",
    "- membership check fast\n",
    "- remove duplicates\n",
    "- to perform operations of set theory"
   ]
  },
  {
   "cell_type": "code",
   "execution_count": 14,
   "id": "052c1f0b",
   "metadata": {},
   "outputs": [
    {
     "data": {
      "text/plain": [
       "['__and__',\n",
       " '__class__',\n",
       " '__class_getitem__',\n",
       " '__contains__',\n",
       " '__delattr__',\n",
       " '__dir__',\n",
       " '__doc__',\n",
       " '__eq__',\n",
       " '__format__',\n",
       " '__ge__',\n",
       " '__getattribute__',\n",
       " '__gt__',\n",
       " '__hash__',\n",
       " '__iand__',\n",
       " '__init__',\n",
       " '__init_subclass__',\n",
       " '__ior__',\n",
       " '__isub__',\n",
       " '__iter__',\n",
       " '__ixor__',\n",
       " '__le__',\n",
       " '__len__',\n",
       " '__lt__',\n",
       " '__ne__',\n",
       " '__new__',\n",
       " '__or__',\n",
       " '__rand__',\n",
       " '__reduce__',\n",
       " '__reduce_ex__',\n",
       " '__repr__',\n",
       " '__ror__',\n",
       " '__rsub__',\n",
       " '__rxor__',\n",
       " '__setattr__',\n",
       " '__sizeof__',\n",
       " '__str__',\n",
       " '__sub__',\n",
       " '__subclasshook__',\n",
       " '__xor__',\n",
       " 'add',\n",
       " 'clear',\n",
       " 'copy',\n",
       " 'difference',\n",
       " 'difference_update',\n",
       " 'discard',\n",
       " 'intersection',\n",
       " 'intersection_update',\n",
       " 'isdisjoint',\n",
       " 'issubset',\n",
       " 'issuperset',\n",
       " 'pop',\n",
       " 'remove',\n",
       " 'symmetric_difference',\n",
       " 'symmetric_difference_update',\n",
       " 'union',\n",
       " 'update']"
      ]
     },
     "execution_count": 14,
     "metadata": {},
     "output_type": "execute_result"
    }
   ],
   "source": [
    "result = set(\"prashant\")\n",
    "dir(result)"
   ]
  }
 ],
 "metadata": {
  "kernelspec": {
   "display_name": "Python 3 (ipykernel)",
   "language": "python",
   "name": "python3"
  },
  "language_info": {
   "codemirror_mode": {
    "name": "ipython",
    "version": 3
   },
   "file_extension": ".py",
   "mimetype": "text/x-python",
   "name": "python",
   "nbconvert_exporter": "python",
   "pygments_lexer": "ipython3",
   "version": "3.10.0"
  }
 },
 "nbformat": 4,
 "nbformat_minor": 5
}
