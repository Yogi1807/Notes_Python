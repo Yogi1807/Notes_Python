{
 "cells": [
  {
   "cell_type": "code",
   "execution_count": 1,
   "id": "17005b30",
   "metadata": {},
   "outputs": [
    {
     "data": {
      "text/plain": [
       "'shivajinagar'"
      ]
     },
     "execution_count": 1,
     "metadata": {},
     "output_type": "execute_result"
    }
   ],
   "source": [
    "mumbai = {\n",
    "    \"population\": \"1 cr\",\n",
    "    \"area\": \"40 sqkm\",\n",
    "    \"mayor\": \"abc\",\n",
    "    \"suburbs\": [\"andheri\", \"dadar\", \"ghatkopar\"]\n",
    "}\n",
    "\n",
    "pune = {\n",
    "    \"population\": \"0.7 cr\",\n",
    "    \"area\": \"30 sqkm\",\n",
    "    \"mayor\": \"xyz\",\n",
    "    \"suburbs\": [\"kothrud\", \"wakad\", \"shivajinagar\", \"warje\"]\n",
    "}\n",
    "\n",
    "city_data = {\"capital city\": mumbai, \"education hub\": pune}\n",
    "\n",
    "city_data[\"education hub\"][\"suburbs\"][2]\n"
   ]
  },
  {
   "cell_type": "code",
   "execution_count": 2,
   "id": "53966804",
   "metadata": {},
   "outputs": [],
   "source": [
    "mumbai = {\n",
    "    \"population\": \"1 cr\",\n",
    "    \"area\": \"40 sqkm\",\n",
    "    \"mayor\": \"abc\",\n",
    "    \"suburbs\": [\"andheri\", \"dadar\", \"ghatkopar\"]\n",
    "}\n",
    "\n",
    "pune = {\n",
    "    \"population\": \"0.7 cr\",\n",
    "    \"area\": \"30 sqkm\",\n",
    "    \"mayor\": \"xyz\",\n",
    "    \"suburbs\": [\"kothrud\", \"wakad\", \"shivajinagar\", \"warje\"]\n",
    "}\n",
    "\n",
    "city_data = {\"capital city\": mumbai, \"education hub\": pune}\n",
    "\n",
    "city_data[\"education hub\"][\"suburbs\"].append(\"hadapsar\")\n"
   ]
  },
  {
   "cell_type": "code",
   "execution_count": 3,
   "id": "63756508",
   "metadata": {},
   "outputs": [
    {
     "data": {
      "text/plain": [
       "{'capital city': {'population': '1 cr',\n",
       "  'area': '40 sqkm',\n",
       "  'mayor': 'abc',\n",
       "  'suburbs': ['andheri', 'dadar', 'ghatkopar']},\n",
       " 'education hub': {'population': '0.7 cr',\n",
       "  'area': '30 sqkm',\n",
       "  'mayor': 'xyz',\n",
       "  'suburbs': ['kothrud', 'wakad', 'shivajinagar', 'warje', 'hadapsar']}}"
      ]
     },
     "execution_count": 3,
     "metadata": {},
     "output_type": "execute_result"
    }
   ],
   "source": [
    "city_data"
   ]
  },
  {
   "cell_type": "code",
   "execution_count": 4,
   "id": "13eb04ce",
   "metadata": {},
   "outputs": [
    {
     "data": {
      "text/plain": [
       "{'capital city': {'population': '1 cr',\n",
       "  'area': '40 sqkm',\n",
       "  'mayor': 'abc',\n",
       "  'suburbs': ['andheri', 'dadar', 'ghatkopar']},\n",
       " 'education hub': {'population': '0.7 cr',\n",
       "  'area': '30 sqkm',\n",
       "  'mayor': 'xyz',\n",
       "  'suburbs': ''}}"
      ]
     },
     "execution_count": 4,
     "metadata": {},
     "output_type": "execute_result"
    }
   ],
   "source": [
    "mumbai = {\n",
    "    \"population\": \"1 cr\",\n",
    "    \"area\": \"40 sqkm\",\n",
    "    \"mayor\": \"abc\",\n",
    "    \"suburbs\": [\"andheri\", \"dadar\", \"ghatkopar\"]\n",
    "}\n",
    "\n",
    "pune = {\n",
    "    \"population\": \"0.7 cr\",\n",
    "    \"area\": \"30 sqkm\",\n",
    "    \"mayor\": \"xyz\",\n",
    "    \"suburbs\": [\"kothrud\", \"wakad\", \"shivajinagar\", \"warje\"]\n",
    "}\n",
    "\n",
    "city_data = {\"capital city\": mumbai, \"education hub\": pune}\n",
    "\n",
    "city_data[\"education hub\"][\"suburbs\"] = \"\"\n",
    "\n",
    "city_data"
   ]
  },
  {
   "cell_type": "markdown",
   "id": "a6637ac0",
   "metadata": {},
   "source": [
    "# `dictionary` is an ordered data structure"
   ]
  },
  {
   "cell_type": "markdown",
   "id": "b468edb7",
   "metadata": {},
   "source": [
    "# `dictionary` is mutable data structure¶"
   ]
  },
  {
   "cell_type": "markdown",
   "id": "c7385ca5",
   "metadata": {},
   "source": [
    "# functions of `dict`\n",
    "\n",
    "'clear',\n",
    " 'copy',\n",
    " 'fromkeys',\n",
    " 'get',\n",
    " 'items',\n",
    " 'keys',\n",
    " 'pop',\n",
    " 'popitem',\n",
    " 'setdefault',\n",
    " 'update',\n",
    " 'values'"
   ]
  },
  {
   "cell_type": "markdown",
   "id": "c68fe645",
   "metadata": {},
   "source": [
    "## `clear()` function"
   ]
  },
  {
   "cell_type": "code",
   "execution_count": 6,
   "id": "bbb82da9",
   "metadata": {},
   "outputs": [
    {
     "data": {
      "text/plain": [
       "{'MH': 'mumbai', 'KA': 'bengaluru', 'GOA': 'Panji'}"
      ]
     },
     "execution_count": 6,
     "metadata": {},
     "output_type": "execute_result"
    }
   ],
   "source": [
    "states = dict(MH=\"mumbai\", KA=\"bengaluru\", GOA=\"Panji\")\n",
    "\n",
    "states"
   ]
  },
  {
   "cell_type": "code",
   "execution_count": 8,
   "id": "76700e47",
   "metadata": {},
   "outputs": [
    {
     "data": {
      "text/plain": [
       "{}"
      ]
     },
     "execution_count": 8,
     "metadata": {},
     "output_type": "execute_result"
    }
   ],
   "source": [
    "states.clear()\n",
    "states"
   ]
  },
  {
   "cell_type": "markdown",
   "id": "fa562626",
   "metadata": {},
   "source": [
    "## `copy()` function\n",
    "\n",
    "- It creates a shallow copy of an object"
   ]
  },
  {
   "cell_type": "code",
   "execution_count": 10,
   "id": "e35bab57",
   "metadata": {},
   "outputs": [
    {
     "data": {
      "text/plain": [
       "{'education': 'pune', 'capital': 'mumbai', 'historical': 'satara'}"
      ]
     },
     "execution_count": 10,
     "metadata": {},
     "output_type": "execute_result"
    }
   ],
   "source": [
    "foo = [\n",
    "    (\"education\", \"pune\"),\n",
    "    (\"capital\", \"mumbai\"),\n",
    "    (\"historical\", \"satara\")\n",
    "]\n",
    "state_data = dict(foo)\n",
    "\n",
    "state_data"
   ]
  },
  {
   "cell_type": "code",
   "execution_count": 11,
   "id": "900c2d66",
   "metadata": {},
   "outputs": [
    {
     "data": {
      "text/plain": [
       "{'education': 'pune', 'capital': 'mumbai', 'historical': 'satara'}"
      ]
     },
     "execution_count": 11,
     "metadata": {},
     "output_type": "execute_result"
    }
   ],
   "source": [
    "records = state_data.copy()\n",
    "records"
   ]
  },
  {
   "cell_type": "markdown",
   "id": "a4835bcf",
   "metadata": {},
   "source": [
    "## `fromkeys()` function\n",
    "\n",
    "- `fromkeys()` function takes 2 arguments\n",
    "- first argument is collection data-type (list, tuple)\n",
    "- second argument is optional. If you pass second argument, that will be default value against each key in the first argument\n",
    "\n",
    "\n",
    "#### syntax\n",
    "\n",
    "```\n",
    "dict.fromkeys(<collection>, <default_value>)\n",
    "```"
   ]
  },
  {
   "cell_type": "code",
   "execution_count": 14,
   "id": "5a678c53",
   "metadata": {},
   "outputs": [
    {
     "data": {
      "text/plain": [
       "{100: 0, 200: 0, 300: 0}"
      ]
     },
     "execution_count": 14,
     "metadata": {},
     "output_type": "execute_result"
    }
   ],
   "source": [
    "absent_student = [100, 200, 300]\n",
    "marks = 0\n",
    "\n",
    "result = {}.fromkeys(absent_student, marks)\n",
    "result"
   ]
  },
  {
   "cell_type": "code",
   "execution_count": 16,
   "id": "3e1a3d1d",
   "metadata": {},
   "outputs": [
    {
     "data": {
      "text/plain": [
       "{100: 0, 200: 0, 300: 0}"
      ]
     },
     "execution_count": 16,
     "metadata": {},
     "output_type": "execute_result"
    }
   ],
   "source": [
    "absent_student = [100, 200, 300]\n",
    "marks = 0\n",
    "\n",
    "result = dict.fromkeys(absent_student, marks)\n",
    "result"
   ]
  },
  {
   "cell_type": "code",
   "execution_count": 15,
   "id": "63cbc1aa",
   "metadata": {},
   "outputs": [
    {
     "data": {
      "text/plain": [
       "{100: None, 200: None, 300: None}"
      ]
     },
     "execution_count": 15,
     "metadata": {},
     "output_type": "execute_result"
    }
   ],
   "source": [
    "absent_student = [100, 200, 300]\n",
    "marks = 0\n",
    "\n",
    "result = {}.fromkeys(absent_student)\n",
    "result"
   ]
  },
  {
   "cell_type": "code",
   "execution_count": 17,
   "id": "46d9c8a8",
   "metadata": {},
   "outputs": [
    {
     "data": {
      "text/plain": [
       "{100: None, 200: None, 300: None}"
      ]
     },
     "execution_count": 17,
     "metadata": {},
     "output_type": "execute_result"
    }
   ],
   "source": [
    "absent_student = [100, 200, 300]\n",
    "marks = 0\n",
    "\n",
    "result = dict.fromkeys(absent_student)\n",
    "result"
   ]
  },
  {
   "cell_type": "code",
   "execution_count": 18,
   "id": "2e2a3450",
   "metadata": {},
   "outputs": [
    {
     "data": {
      "text/plain": [
       "{'hardik': 'NA', 'dhoni': 'NA', 'sachin': 'NA'}"
      ]
     },
     "execution_count": 18,
     "metadata": {},
     "output_type": "execute_result"
    }
   ],
   "source": [
    "cricket_scores = (\"hardik\", \"dhoni\", \"sachin\")\n",
    "\n",
    "score_ = \"NA\"\n",
    "\n",
    "_ind_pak_match = dict.fromkeys(cricket_scores, score_)\n",
    "_ind_pak_match"
   ]
  },
  {
   "cell_type": "code",
   "execution_count": 19,
   "id": "db45cc87",
   "metadata": {},
   "outputs": [
    {
     "data": {
      "text/plain": [
       "{'hardik': None, 'dhoni': None, 'sachin': None}"
      ]
     },
     "execution_count": 19,
     "metadata": {},
     "output_type": "execute_result"
    }
   ],
   "source": [
    "cricket_scores = (\"hardik\", \"dhoni\", \"sachin\")\n",
    "\n",
    "score_ = \"NA\"\n",
    "\n",
    "_ind_pak_match = dict.fromkeys(cricket_scores)\n",
    "_ind_pak_match"
   ]
  },
  {
   "cell_type": "markdown",
   "id": "e6953b17",
   "metadata": {},
   "source": [
    "## `get()` function\n",
    "\n",
    "\n",
    "- `get()` function takes 2 arguments\n",
    "- first argument is `key`\n",
    "- second argument is `value`\n",
    "\n",
    "\n",
    "- NOTE - it is recommended to use `get()` function to access data in `dict` objects\n",
    "\n",
    "#### syntax\n",
    "\n",
    "```\n",
    "foo = {\"key1\": \"value1\"}\n",
    "\n",
    ">>> foo.get(\"key1\")\n",
    "\n",
    ">>> foo.get(\"key2\", <default-value>)\n",
    "\n",
    "```"
   ]
  },
  {
   "cell_type": "code",
   "execution_count": 24,
   "id": "72cfa7ae",
   "metadata": {},
   "outputs": [
    {
     "ename": "KeyError",
     "evalue": "'sachin'",
     "output_type": "error",
     "traceback": [
      "\u001b[0;31m---------------------------------------------------------------------------\u001b[0m",
      "\u001b[0;31mKeyError\u001b[0m                                  Traceback (most recent call last)",
      "Cell \u001b[0;32mIn [24], line 3\u001b[0m\n\u001b[1;32m      1\u001b[0m match_scores \u001b[38;5;241m=\u001b[39m {\u001b[38;5;124m\"\u001b[39m\u001b[38;5;124mvirat\u001b[39m\u001b[38;5;124m\"\u001b[39m: \u001b[38;5;241m100\u001b[39m, \u001b[38;5;124m\"\u001b[39m\u001b[38;5;124mhardik\u001b[39m\u001b[38;5;124m\"\u001b[39m: \u001b[38;5;241m50\u001b[39m, \u001b[38;5;124m\"\u001b[39m\u001b[38;5;124mdhoni\u001b[39m\u001b[38;5;124m\"\u001b[39m: \u001b[38;5;241m90\u001b[39m}\n\u001b[0;32m----> 3\u001b[0m \u001b[43mmatch_scores\u001b[49m\u001b[43m[\u001b[49m\u001b[38;5;124;43m\"\u001b[39;49m\u001b[38;5;124;43msachin\u001b[39;49m\u001b[38;5;124;43m\"\u001b[39;49m\u001b[43m]\u001b[49m\n",
      "\u001b[0;31mKeyError\u001b[0m: 'sachin'"
     ]
    }
   ],
   "source": [
    "match_scores = {\"virat\": 100, \"hardik\": 50, \"dhoni\": 90}\n",
    "\n",
    "match_scores[\"sachin\"]"
   ]
  },
  {
   "cell_type": "code",
   "execution_count": 25,
   "id": "fb06d34a",
   "metadata": {},
   "outputs": [
    {
     "data": {
      "text/plain": [
       "NoneType"
      ]
     },
     "execution_count": 25,
     "metadata": {},
     "output_type": "execute_result"
    }
   ],
   "source": [
    "match_scores = {\"virat\": 100, \"hardik\": 50, \"dhoni\": 90}\n",
    "result = match_scores.get(\"sachin\")\n",
    "type(result)"
   ]
  },
  {
   "cell_type": "code",
   "execution_count": 26,
   "id": "028f27cd",
   "metadata": {},
   "outputs": [
    {
     "data": {
      "text/plain": [
       "\"this player wasn't in the game\""
      ]
     },
     "execution_count": 26,
     "metadata": {},
     "output_type": "execute_result"
    }
   ],
   "source": [
    "match_scores = {\"virat\": 100, \"hardik\": 50, \"dhoni\": 90}\n",
    "match_scores.get(\"sachin\", \"this player wasn't in the game\")\n"
   ]
  },
  {
   "cell_type": "code",
   "execution_count": 29,
   "id": "5795166a",
   "metadata": {},
   "outputs": [
    {
     "data": {
      "text/plain": [
       "'data unavailable'"
      ]
     },
     "execution_count": 29,
     "metadata": {},
     "output_type": "execute_result"
    }
   ],
   "source": [
    "mumbai = {\n",
    "    \"population\": \"1 cr\",\n",
    "    \"area\": \"40 sqkm\",\n",
    "    \"mayor\": \"abc\"\n",
    "}\n",
    "\n",
    "mumbai.get(\"suburbs\", \"data un-available\")"
   ]
  },
  {
   "cell_type": "markdown",
   "id": "b9e6efd3",
   "metadata": {},
   "source": [
    "## `keys()` function\n",
    "\n",
    "- `keys()` function returns a `dict_keys` object which is `list-like`"
   ]
  },
  {
   "cell_type": "code",
   "execution_count": 36,
   "id": "d02f0e1d",
   "metadata": {},
   "outputs": [
    {
     "name": "stdout",
     "output_type": "stream",
     "text": [
      "dict_keys(['population', 'area', 'mayor'])\n",
      "<class 'dict_keys'>\n"
     ]
    }
   ],
   "source": [
    "pune = {\n",
    "    \"population\": \"0.7 cr\",\n",
    "    \"area\": \"30 sqkm\",\n",
    "    \"mayor\": \"xyz\"\n",
    "}\n",
    "\n",
    "result = pune.keys()\n",
    "print(result)\n",
    "\n",
    "print(type(result))"
   ]
  },
  {
   "cell_type": "code",
   "execution_count": 39,
   "id": "e8695660",
   "metadata": {},
   "outputs": [
    {
     "data": {
      "text/plain": [
       "dict_keys(['education', 'capital', 'historical'])"
      ]
     },
     "execution_count": 39,
     "metadata": {},
     "output_type": "execute_result"
    }
   ],
   "source": [
    "foo = [\n",
    "    (\"education\", \"pune\"),\n",
    "    (\"capital\", \"mumbai\"),\n",
    "    (\"historical\", \"satara\")\n",
    "]\n",
    "example1 = dict(foo)\n",
    "\n",
    "\n",
    "example1.keys()"
   ]
  },
  {
   "cell_type": "markdown",
   "id": "c5e8a80c",
   "metadata": {},
   "source": [
    "## `values()` function\n",
    "\n",
    "- `values()` function returns a `dict_values` object which is `list-like`"
   ]
  },
  {
   "cell_type": "code",
   "execution_count": 41,
   "id": "3c47853f",
   "metadata": {},
   "outputs": [
    {
     "data": {
      "text/plain": [
       "dict_values"
      ]
     },
     "execution_count": 41,
     "metadata": {},
     "output_type": "execute_result"
    }
   ],
   "source": [
    "pune = {\n",
    "    \"population\": \"0.7 cr\",\n",
    "    \"area\": \"30 sqkm\",\n",
    "    \"mayor\": \"xyz\"\n",
    "}\n",
    "\n",
    "result = pune.values()\n",
    "type(result) # `result` is an object of class `dict_values`"
   ]
  }
 ],
 "metadata": {
  "kernelspec": {
   "display_name": "Python 3 (ipykernel)",
   "language": "python",
   "name": "python3"
  },
  "language_info": {
   "codemirror_mode": {
    "name": "ipython",
    "version": 3
   },
   "file_extension": ".py",
   "mimetype": "text/x-python",
   "name": "python",
   "nbconvert_exporter": "python",
   "pygments_lexer": "ipython3",
   "version": "3.10.0"
  }
 },
 "nbformat": 4,
 "nbformat_minor": 5
}
