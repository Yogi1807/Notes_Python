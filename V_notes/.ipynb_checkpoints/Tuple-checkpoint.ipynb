{
 "cells": [
  {
   "cell_type": "markdown",
   "id": "b31ed1e0",
   "metadata": {},
   "source": [
    "- Tuple\n",
    "- mutable data types vs immmutable data tpes\n",
    "- tuple functions\n",
    "- tuple packing and tuple unpacking"
   ]
  },
  {
   "cell_type": "code",
   "execution_count": 10,
   "id": "9c35e494",
   "metadata": {},
   "outputs": [
    {
     "data": {
      "text/plain": [
       "list"
      ]
     },
     "execution_count": 10,
     "metadata": {},
     "output_type": "execute_result"
    }
   ],
   "source": [
    "foo = [\"virat\", \"hardik\", \"dhoni\"]\n",
    "type(foo)"
   ]
  },
  {
   "cell_type": "code",
   "execution_count": 12,
   "id": "f7843129",
   "metadata": {},
   "outputs": [
    {
     "data": {
      "text/plain": [
       "tuple"
      ]
     },
     "execution_count": 12,
     "metadata": {},
     "output_type": "execute_result"
    }
   ],
   "source": [
    "foo = \"virat\", \"hardik\", \"dhoni\"\n",
    "type(foo)"
   ]
  },
  {
   "cell_type": "markdown",
   "id": "dbbfed8a",
   "metadata": {},
   "source": [
    "'append',\n",
    " 'clear',\n",
    " 'copy',\n",
    " 'count',\n",
    " 'extend',\n",
    " 'index',\n",
    " 'insert',\n",
    " 'pop',\n",
    " 'remove',\n",
    " 'reverse',\n",
    " 'sort']"
   ]
  },
  {
   "cell_type": "markdown",
   "id": "ebcbbe77",
   "metadata": {},
   "source": [
    "## what is `tuple`?\n",
    "\n",
    "\n",
    "- `tuple` is immutable data type that is collection of hetegeneous elements and seperated by comma"
   ]
  },
  {
   "cell_type": "markdown",
   "id": "57425fc5",
   "metadata": {},
   "source": [
    "## How to create a `tuple`?"
   ]
  },
  {
   "cell_type": "code",
   "execution_count": 3,
   "id": "0d26b2a9",
   "metadata": {},
   "outputs": [
    {
     "data": {
      "text/plain": [
       "tuple"
      ]
     },
     "execution_count": 3,
     "metadata": {},
     "output_type": "execute_result"
    }
   ],
   "source": [
    "# how to create an empty tuple? (option 1)\n",
    "\n",
    "foo = tuple()\n",
    "type(foo) # `foo` is an object of class `tuple`"
   ]
  },
  {
   "cell_type": "code",
   "execution_count": 4,
   "id": "4e1cffb8",
   "metadata": {},
   "outputs": [
    {
     "data": {
      "text/plain": [
       "tuple"
      ]
     },
     "execution_count": 4,
     "metadata": {},
     "output_type": "execute_result"
    }
   ],
   "source": [
    "# how to create an empty tuple? (option 2)\n",
    "\n",
    "foo = (\"virat\", \"hardik\", \"dhoni\")\n",
    "type(foo)"
   ]
  },
  {
   "cell_type": "code",
   "execution_count": 6,
   "id": "624222e2",
   "metadata": {},
   "outputs": [
    {
     "data": {
      "text/plain": [
       "tuple"
      ]
     },
     "execution_count": 6,
     "metadata": {},
     "output_type": "execute_result"
    }
   ],
   "source": [
    "# how to create an empty tuple? (option 3)\n",
    "\n",
    "bar = \"virat\", \"hardik\", \"dhoni\"\n",
    "type(bar)"
   ]
  },
  {
   "cell_type": "markdown",
   "id": "f4784744",
   "metadata": {},
   "source": [
    "##### survival functions\n",
    "- type()\n",
    "- help()\n",
    "- dir()"
   ]
  },
  {
   "cell_type": "code",
   "execution_count": null,
   "id": "521f999d",
   "metadata": {},
   "outputs": [],
   "source": [
    "dir(tuple())"
   ]
  },
  {
   "cell_type": "code",
   "execution_count": 13,
   "id": "827fd637",
   "metadata": {},
   "outputs": [
    {
     "data": {
      "text/plain": [
       "['__add__',\n",
       " '__class__',\n",
       " '__class_getitem__',\n",
       " '__contains__',\n",
       " '__delattr__',\n",
       " '__dir__',\n",
       " '__doc__',\n",
       " '__eq__',\n",
       " '__format__',\n",
       " '__ge__',\n",
       " '__getattribute__',\n",
       " '__getitem__',\n",
       " '__getnewargs__',\n",
       " '__gt__',\n",
       " '__hash__',\n",
       " '__init__',\n",
       " '__init_subclass__',\n",
       " '__iter__',\n",
       " '__le__',\n",
       " '__len__',\n",
       " '__lt__',\n",
       " '__mul__',\n",
       " '__ne__',\n",
       " '__new__',\n",
       " '__reduce__',\n",
       " '__reduce_ex__',\n",
       " '__repr__',\n",
       " '__rmul__',\n",
       " '__setattr__',\n",
       " '__sizeof__',\n",
       " '__str__',\n",
       " '__subclasshook__',\n",
       " 'count',\n",
       " 'index']"
      ]
     },
     "execution_count": 13,
     "metadata": {},
     "output_type": "execute_result"
    }
   ],
   "source": [
    "example = tuple()\n",
    "dir(example)   # attributes of tuple"
   ]
  },
  {
   "cell_type": "code",
   "execution_count": 19,
   "id": "a40d8edc",
   "metadata": {},
   "outputs": [
    {
     "data": {
      "text/plain": [
       "tuple"
      ]
     },
     "execution_count": 19,
     "metadata": {},
     "output_type": "execute_result"
    }
   ],
   "source": [
    "foo = ()\n",
    "type(foo)"
   ]
  },
  {
   "cell_type": "markdown",
   "id": "38dd0246",
   "metadata": {},
   "source": [
    "## functions of `tuple`"
   ]
  },
  {
   "cell_type": "markdown",
   "id": "c64bca70",
   "metadata": {},
   "source": [
    "'count',\n",
    " 'index'"
   ]
  },
  {
   "cell_type": "code",
   "execution_count": 16,
   "id": "14113349",
   "metadata": {},
   "outputs": [
    {
     "name": "stdout",
     "output_type": "stream",
     "text": [
      "Help on built-in function count:\n",
      "\n",
      "count(value, /) method of builtins.tuple instance\n",
      "    Return number of occurrences of value.\n",
      "\n"
     ]
    }
   ],
   "source": [
    "foo = tuple()\n",
    "help(foo.count)"
   ]
  },
  {
   "cell_type": "code",
   "execution_count": 17,
   "id": "f050351b",
   "metadata": {},
   "outputs": [
    {
     "data": {
      "text/plain": [
       "3"
      ]
     },
     "execution_count": 17,
     "metadata": {},
     "output_type": "execute_result"
    }
   ],
   "source": [
    "foo = (\"mumbai\", \"pune\", \"mumbai\", \"delhi\", 100, \"mumbai\", True, False)\n",
    "foo.count(\"mumbai\")"
   ]
  },
  {
   "cell_type": "code",
   "execution_count": 18,
   "id": "d9d4d7e7",
   "metadata": {},
   "outputs": [
    {
     "data": {
      "text/plain": [
       "4"
      ]
     },
     "execution_count": 18,
     "metadata": {},
     "output_type": "execute_result"
    }
   ],
   "source": [
    "bar = (100, 200, 300, 400, True, False, \"Prashant\")\n",
    "     #. 0.   1.   2.   3.   4.    5.      6\n",
    "bar.index(True)`"
   ]
  },
  {
   "cell_type": "markdown",
   "id": "2f92c7b7",
   "metadata": {},
   "source": [
    "nested tuple"
   ]
  },
  {
   "cell_type": "code",
   "execution_count": 21,
   "id": "18f00df6",
   "metadata": {},
   "outputs": [
    {
     "data": {
      "text/plain": [
       "tuple"
      ]
     },
     "execution_count": 21,
     "metadata": {},
     "output_type": "execute_result"
    }
   ],
   "source": [
    "random = (tuple(), 100, 200, 300)\n",
    "type(random)\n",
    "\n",
    "type(random[0])"
   ]
  },
  {
   "cell_type": "markdown",
   "id": "bc95f795",
   "metadata": {},
   "source": [
    "### how to access elements of tuple?"
   ]
  },
  {
   "cell_type": "code",
   "execution_count": 22,
   "id": "4403443d",
   "metadata": {},
   "outputs": [
    {
     "data": {
      "text/plain": [
       "tuple"
      ]
     },
     "execution_count": 22,
     "metadata": {},
     "output_type": "execute_result"
    }
   ],
   "source": [
    "random = (tuple(), 100, 200, 300)\n",
    "\n",
    "bar = random[0]\n",
    "type(bar)"
   ]
  },
  {
   "cell_type": "code",
   "execution_count": 25,
   "id": "ff2681d9",
   "metadata": {},
   "outputs": [
    {
     "data": {
      "text/plain": [
       "'bar'"
      ]
     },
     "execution_count": 25,
     "metadata": {},
     "output_type": "execute_result"
    }
   ],
   "source": [
    "random = ((\"foo\", \"bar\"), 100, 200, 300)\n",
    "\n",
    "bar = random[0][1]\n",
    "bar"
   ]
  },
  {
   "cell_type": "markdown",
   "id": "dbb8c5ea",
   "metadata": {},
   "source": [
    "## what is diff between list and tuple?"
   ]
  },
  {
   "cell_type": "markdown",
   "id": "23f8d38c",
   "metadata": {},
   "source": [
    "## Immutable objects\n",
    "\n",
    "- objects that cannot be changed"
   ]
  },
  {
   "cell_type": "markdown",
   "id": "26aecbe2",
   "metadata": {},
   "source": [
    "## Mutable objects\n",
    "\n",
    "- objects that can be changed"
   ]
  },
  {
   "cell_type": "markdown",
   "id": "26f31451",
   "metadata": {},
   "source": [
    "## What are use cases of tuple over list?\n",
    "\n",
    "- tuple is faster\n",
    "- sometimes we might an object that is `immutable`"
   ]
  },
  {
   "cell_type": "code",
   "execution_count": null,
   "id": "879d949d",
   "metadata": {},
   "outputs": [],
   "source": [
    "transaction = (\"saving_account_number\", \"balance\")"
   ]
  },
  {
   "cell_type": "markdown",
   "id": "cc0b2422",
   "metadata": {},
   "source": [
    "### when we have a list inside a tuple?"
   ]
  },
  {
   "cell_type": "code",
   "execution_count": 26,
   "id": "4dbe5785",
   "metadata": {},
   "outputs": [
    {
     "data": {
      "text/plain": [
       "(1, 2, 3, [])"
      ]
     },
     "execution_count": 26,
     "metadata": {},
     "output_type": "execute_result"
    }
   ],
   "source": [
    "foo = (1, 2, 3, [\"prashnat\", \"dhoni\"])\n",
    "foo[3].clear()\n",
    "foo"
   ]
  },
  {
   "cell_type": "code",
   "execution_count": 32,
   "id": "804cce84",
   "metadata": {},
   "outputs": [
    {
     "data": {
      "text/plain": [
       "[500, 200, 300]"
      ]
     },
     "execution_count": 32,
     "metadata": {},
     "output_type": "execute_result"
    }
   ],
   "source": [
    "bar = [100, 200, 300]\n",
    "bar[0] = 500\n",
    "bar"
   ]
  },
  {
   "cell_type": "code",
   "execution_count": 33,
   "id": "b993d727",
   "metadata": {},
   "outputs": [
    {
     "ename": "TypeError",
     "evalue": "'tuple' object does not support item assignment",
     "output_type": "error",
     "traceback": [
      "\u001b[0;31m---------------------------------------------------------------------------\u001b[0m",
      "\u001b[0;31mTypeError\u001b[0m                                 Traceback (most recent call last)",
      "Cell \u001b[0;32mIn [33], line 2\u001b[0m\n\u001b[1;32m      1\u001b[0m bar \u001b[38;5;241m=\u001b[39m (\u001b[38;5;241m100\u001b[39m, \u001b[38;5;241m200\u001b[39m, \u001b[38;5;241m300\u001b[39m)\n\u001b[0;32m----> 2\u001b[0m \u001b[43mbar\u001b[49m\u001b[43m[\u001b[49m\u001b[38;5;241;43m0\u001b[39;49m\u001b[43m]\u001b[49m \u001b[38;5;241m=\u001b[39m \u001b[38;5;241m1000\u001b[39m\n",
      "\u001b[0;31mTypeError\u001b[0m: 'tuple' object does not support item assignment"
     ]
    }
   ],
   "source": [
    "bar = (100, 200, 300)\n",
    "bar[0] = 1000"
   ]
  },
  {
   "cell_type": "code",
   "execution_count": 38,
   "id": "5d93d0d8",
   "metadata": {},
   "outputs": [
    {
     "data": {
      "text/plain": [
       "tuple"
      ]
     },
     "execution_count": 38,
     "metadata": {},
     "output_type": "execute_result"
    }
   ],
   "source": [
    "example = ([1],)\n",
    "type(example)"
   ]
  },
  {
   "cell_type": "code",
   "execution_count": 40,
   "id": "fb77bf37",
   "metadata": {},
   "outputs": [
    {
     "data": {
      "text/plain": [
       "tuple"
      ]
     },
     "execution_count": 40,
     "metadata": {},
     "output_type": "execute_result"
    }
   ],
   "source": [
    "example = (1,)\n",
    "type(example)"
   ]
  },
  {
   "cell_type": "markdown",
   "id": "5dabb983",
   "metadata": {},
   "source": [
    "[\"prashant\"][\"rahul\"]    <= list    <= tuple\n",
    "                         <= list"
   ]
  },
  {
   "cell_type": "code",
   "execution_count": 45,
   "id": "a76436d0",
   "metadata": {},
   "outputs": [
    {
     "data": {
      "text/plain": [
       "([],)"
      ]
     },
     "execution_count": 45,
     "metadata": {},
     "output_type": "execute_result"
    }
   ],
   "source": [
    "example1 = ([\"prashant\", \"rahul\"],)\n",
    "example1[0].clear()\n",
    "example1"
   ]
  },
  {
   "cell_type": "code",
   "execution_count": 46,
   "id": "6704ef55",
   "metadata": {},
   "outputs": [
    {
     "ename": "TypeError",
     "evalue": "'tuple' object does not support item assignment",
     "output_type": "error",
     "traceback": [
      "\u001b[0;31m---------------------------------------------------------------------------\u001b[0m",
      "\u001b[0;31mTypeError\u001b[0m                                 Traceback (most recent call last)",
      "Cell \u001b[0;32mIn [46], line 3\u001b[0m\n\u001b[1;32m      1\u001b[0m \u001b[38;5;66;03m# immutable\u001b[39;00m\n\u001b[1;32m      2\u001b[0m example2 \u001b[38;5;241m=\u001b[39m ([\u001b[38;5;124m\"\u001b[39m\u001b[38;5;124mprashant\u001b[39m\u001b[38;5;124m\"\u001b[39m, \u001b[38;5;124m\"\u001b[39m\u001b[38;5;124mrahul\u001b[39m\u001b[38;5;124m\"\u001b[39m],)\n\u001b[0;32m----> 3\u001b[0m \u001b[43mexample2\u001b[49m\u001b[43m[\u001b[49m\u001b[38;5;241;43m0\u001b[39;49m\u001b[43m]\u001b[49m \u001b[38;5;241m=\u001b[39m []\n\u001b[1;32m      4\u001b[0m example2\n",
      "\u001b[0;31mTypeError\u001b[0m: 'tuple' object does not support item assignment"
     ]
    }
   ],
   "source": [
    "# immutable\n",
    "example2 = ([\"prashant\", \"rahul\"],)\n",
    "example2[0] = []\n",
    "example2"
   ]
  },
  {
   "cell_type": "markdown",
   "id": "6fe3d775",
   "metadata": {},
   "source": [
    "basic data types\n",
    "\n",
    "- int\n",
    "- float\n",
    "- bool\n",
    "- string\n",
    "- None"
   ]
  },
  {
   "cell_type": "code",
   "execution_count": 28,
   "id": "beb5186d",
   "metadata": {},
   "outputs": [
    {
     "data": {
      "text/plain": [
       "'xxxxx'"
      ]
     },
     "execution_count": 28,
     "metadata": {},
     "output_type": "execute_result"
    }
   ],
   "source": [
    "\"ppppp\".replace(\"p\", \"x\")"
   ]
  },
  {
   "cell_type": "code",
   "execution_count": 31,
   "id": "e28a5c00",
   "metadata": {},
   "outputs": [
    {
     "name": "stdout",
     "output_type": "stream",
     "text": [
      "xxxxx\n",
      "ppppp\n"
     ]
    }
   ],
   "source": [
    "original = \"ppppp\"\n",
    "result = original.replace(\"p\", \"x\")\n",
    "print(result)\n",
    "print(original)"
   ]
  },
  {
   "cell_type": "code",
   "execution_count": 49,
   "id": "75a71ca0",
   "metadata": {},
   "outputs": [
    {
     "ename": "TypeError",
     "evalue": "'str' object does not support item assignment",
     "output_type": "error",
     "traceback": [
      "\u001b[0;31m---------------------------------------------------------------------------\u001b[0m",
      "\u001b[0;31mTypeError\u001b[0m                                 Traceback (most recent call last)",
      "Cell \u001b[0;32mIn [49], line 2\u001b[0m\n\u001b[1;32m      1\u001b[0m name \u001b[38;5;241m=\u001b[39m \u001b[38;5;124m\"\u001b[39m\u001b[38;5;124mprashant\u001b[39m\u001b[38;5;124m\"\u001b[39m\n\u001b[0;32m----> 2\u001b[0m \u001b[43mname\u001b[49m\u001b[43m[\u001b[49m\u001b[38;5;241;43m0\u001b[39;49m\u001b[43m]\u001b[49m \u001b[38;5;241m=\u001b[39m \u001b[38;5;124m\"\u001b[39m\u001b[38;5;124mABC\u001b[39m\u001b[38;5;124m\"\u001b[39m\n\u001b[1;32m      3\u001b[0m name\n",
      "\u001b[0;31mTypeError\u001b[0m: 'str' object does not support item assignment"
     ]
    }
   ],
   "source": [
    "name = \"prashant\"\n",
    "name[0] = \"ABC\"\n",
    "name"
   ]
  },
  {
   "cell_type": "code",
   "execution_count": 50,
   "id": "5040656b",
   "metadata": {},
   "outputs": [
    {
     "data": {
      "text/plain": [
       "'pythonvelocity'"
      ]
     },
     "execution_count": 50,
     "metadata": {},
     "output_type": "execute_result"
    }
   ],
   "source": [
    "name = \"python\" + \"velocity\"\n",
    "name"
   ]
  },
  {
   "cell_type": "code",
   "execution_count": 54,
   "id": "f4687149",
   "metadata": {},
   "outputs": [
    {
     "data": {
      "text/plain": [
       "'velocity'"
      ]
     },
     "execution_count": 54,
     "metadata": {},
     "output_type": "execute_result"
    }
   ],
   "source": [
    "insti = \"velocity\"\n",
    "result = insti.upper()\n",
    "insti"
   ]
  },
  {
   "cell_type": "code",
   "execution_count": null,
   "id": "e01d52fa",
   "metadata": {},
   "outputs": [],
   "source": []
  },
  {
   "cell_type": "code",
   "execution_count": 53,
   "id": "554fad03",
   "metadata": {},
   "outputs": [
    {
     "name": "stdout",
     "output_type": "stream",
     "text": [
      "Help on built-in function upper:\n",
      "\n",
      "upper() method of builtins.str instance\n",
      "    Return a copy of the string converted to uppercase.\n",
      "\n"
     ]
    }
   ],
   "source": [
    "help(\"\".upper)"
   ]
  },
  {
   "cell_type": "code",
   "execution_count": 57,
   "id": "08e0db72",
   "metadata": {},
   "outputs": [
    {
     "data": {
      "text/plain": [
       "'something stringagain kaitari'"
      ]
     },
     "execution_count": 57,
     "metadata": {},
     "output_type": "execute_result"
    }
   ],
   "source": [
    "a = \"something string\"\n",
    "b = \"again kaitari\"\n",
    "a = a + b  # re-label\n",
    "a"
   ]
  },
  {
   "cell_type": "code",
   "execution_count": 59,
   "id": "3bc8259b",
   "metadata": {},
   "outputs": [
    {
     "name": "stdout",
     "output_type": "stream",
     "text": [
      "4442310528\n",
      "4442320320\n"
     ]
    }
   ],
   "source": [
    "foo = (1, 2)   # [object] \n",
    "print(id(foo))\n",
    "foo = (1, 2, 3)  # [diff object]   <= foo\n",
    "print(id(foo))\n"
   ]
  },
  {
   "cell_type": "markdown",
   "id": "97798ca3",
   "metadata": {},
   "source": [
    "## type casting with tuple"
   ]
  },
  {
   "cell_type": "code",
   "execution_count": 61,
   "id": "b37db0d6",
   "metadata": {},
   "outputs": [
    {
     "name": "stdout",
     "output_type": "stream",
     "text": [
      "('prashant', 'rahul')\n"
     ]
    },
    {
     "data": {
      "text/plain": [
       "tuple"
      ]
     },
     "execution_count": 61,
     "metadata": {},
     "output_type": "execute_result"
    }
   ],
   "source": [
    "example = [\"prashant\", \"rahul\"]\n",
    "new_obj = tuple(example)\n",
    "print(new_obj)\n",
    "type(new_obj)"
   ]
  },
  {
   "cell_type": "code",
   "execution_count": 62,
   "id": "df1af863",
   "metadata": {},
   "outputs": [
    {
     "name": "stdout",
     "output_type": "stream",
     "text": [
      "['prashant', 'rahul']\n"
     ]
    },
    {
     "data": {
      "text/plain": [
       "list"
      ]
     },
     "execution_count": 62,
     "metadata": {},
     "output_type": "execute_result"
    }
   ],
   "source": [
    "example = (\"prashant\", \"rahul\")\n",
    "new_obj = list(example)\n",
    "print(new_obj)\n",
    "type(new_obj)"
   ]
  },
  {
   "cell_type": "code",
   "execution_count": 63,
   "id": "c3e5e8af",
   "metadata": {},
   "outputs": [
    {
     "data": {
      "text/plain": [
       "\"('prashant', 'rahul')\""
      ]
     },
     "execution_count": 63,
     "metadata": {},
     "output_type": "execute_result"
    }
   ],
   "source": [
    "example = (\"prashant\", \"rahul\")\n",
    "str(example)"
   ]
  },
  {
   "cell_type": "code",
   "execution_count": 65,
   "id": "e18b9bdb",
   "metadata": {},
   "outputs": [
    {
     "data": {
      "text/plain": [
       "'('"
      ]
     },
     "execution_count": 65,
     "metadata": {},
     "output_type": "execute_result"
    }
   ],
   "source": [
    "example = (\"prashant\", \"rahul\")\n",
    "bar = str(example)\n",
    "bar[0]"
   ]
  },
  {
   "cell_type": "code",
   "execution_count": 67,
   "id": "1a98d516",
   "metadata": {},
   "outputs": [
    {
     "ename": "TypeError",
     "evalue": "'tuple' object does not support item assignment",
     "output_type": "error",
     "traceback": [
      "\u001b[0;31m---------------------------------------------------------------------------\u001b[0m",
      "\u001b[0;31mTypeError\u001b[0m                                 Traceback (most recent call last)",
      "Cell \u001b[0;32mIn [67], line 2\u001b[0m\n\u001b[1;32m      1\u001b[0m languages \u001b[38;5;241m=\u001b[39m (\u001b[38;5;124m\"\u001b[39m\u001b[38;5;124mpython\u001b[39m\u001b[38;5;124m\"\u001b[39m, \u001b[38;5;124m\"\u001b[39m\u001b[38;5;124mjava\u001b[39m\u001b[38;5;124m\"\u001b[39m, \u001b[38;5;124m\"\u001b[39m\u001b[38;5;124mruby\u001b[39m\u001b[38;5;124m\"\u001b[39m)\n\u001b[0;32m----> 2\u001b[0m \u001b[43mlanguages\u001b[49m\u001b[43m[\u001b[49m\u001b[38;5;241;43m0\u001b[39;49m\u001b[43m]\u001b[49m \u001b[38;5;241m=\u001b[39m \u001b[38;5;124m\"\u001b[39m\u001b[38;5;124mjavascript\u001b[39m\u001b[38;5;124m\"\u001b[39m\n",
      "\u001b[0;31mTypeError\u001b[0m: 'tuple' object does not support item assignment"
     ]
    }
   ],
   "source": [
    "languages = (\"python\", \"java\", \"ruby\")\n",
    "languages[0] = \"javascript\""
   ]
  },
  {
   "cell_type": "code",
   "execution_count": 69,
   "id": "f8ef64ef",
   "metadata": {},
   "outputs": [
    {
     "data": {
      "text/plain": [
       "['javascript', 'java', 'ruby']"
      ]
     },
     "execution_count": 69,
     "metadata": {},
     "output_type": "execute_result"
    }
   ],
   "source": [
    "languages = (\"python\", \"java\", \"ruby\")\n",
    "my_languages = list(languages)\n",
    "my_languages[0] = \"javascript\"\n",
    "my_languages"
   ]
  }
 ],
 "metadata": {
  "kernelspec": {
   "display_name": "Python 3 (ipykernel)",
   "language": "python",
   "name": "python3"
  },
  "language_info": {
   "codemirror_mode": {
    "name": "ipython",
    "version": 3
   },
   "file_extension": ".py",
   "mimetype": "text/x-python",
   "name": "python",
   "nbconvert_exporter": "python",
   "pygments_lexer": "ipython3",
   "version": "3.10.0"
  }
 },
 "nbformat": 4,
 "nbformat_minor": 5
}
