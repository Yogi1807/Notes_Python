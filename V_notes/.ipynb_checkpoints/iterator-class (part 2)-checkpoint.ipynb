{
 "cells": [
  {
   "cell_type": "markdown",
   "id": "eda833e3-5a66-4875-9bc2-8b1e30f6967d",
   "metadata": {},
   "source": [
    "- `iterators`\n",
    "\n",
    "- iterators enable programmers to do lazy evaluate\n",
    "\n",
    "- iterators allow programmers to access elements of iterable objects without \n",
    "  any deeper understanding of data objects\n",
    "  \n",
    "- `generator` special kinds of functions that can \"generate\" iterators\n",
    "\n",
    "\n",
    "\n",
    "\n",
    "  \n"
   ]
  },
  {
   "cell_type": "code",
   "execution_count": 1,
   "id": "ce7a9fd6-a5c6-43d0-a8e7-833500522c83",
   "metadata": {},
   "outputs": [],
   "source": [
    "foo = [10, 20, 30]\n",
    "\n",
    "itarator = iter(foo)\n",
    "    "
   ]
  },
  {
   "cell_type": "code",
   "execution_count": 8,
   "id": "65c7f743-eef1-4c29-8da0-8ae3edbbd64f",
   "metadata": {},
   "outputs": [
    {
     "ename": "StopIteration",
     "evalue": "",
     "output_type": "error",
     "traceback": [
      "\u001b[0;31m---------------------------------------------------------------------------\u001b[0m",
      "\u001b[0;31mStopIteration\u001b[0m                             Traceback (most recent call last)",
      "Cell \u001b[0;32mIn [8], line 1\u001b[0m\n\u001b[0;32m----> 1\u001b[0m \u001b[38;5;28;43mnext\u001b[39;49m\u001b[43m(\u001b[49m\u001b[43mitarator\u001b[49m\u001b[43m)\u001b[49m\n",
      "\u001b[0;31mStopIteration\u001b[0m: "
     ]
    }
   ],
   "source": [
    "next(itarator)"
   ]
  },
  {
   "cell_type": "code",
   "execution_count": 9,
   "id": "122aa5d9-69ab-4e9a-9270-31f1ad711380",
   "metadata": {},
   "outputs": [],
   "source": [
    "bar = \"prashant\"\n",
    "\n",
    "iterator = iter(bar)"
   ]
  },
  {
   "cell_type": "code",
   "execution_count": 14,
   "id": "5c70f6fc-75b4-4c0d-9259-06f0fa37c526",
   "metadata": {},
   "outputs": [
    {
     "data": {
      "text/plain": [
       "'h'"
      ]
     },
     "execution_count": 14,
     "metadata": {},
     "output_type": "execute_result"
    }
   ],
   "source": [
    "next(iterator)"
   ]
  },
  {
   "cell_type": "markdown",
   "id": "9fa83573-e7ca-49cc-bfd2-1058cca0c04d",
   "metadata": {},
   "source": [
    "## why iterators?\n",
    "\n",
    "- saving memory space\n",
    "- lazy evaluation\n",
    "- when you're working with lots of data\n"
   ]
  },
  {
   "cell_type": "markdown",
   "id": "ef544eea-4d11-43f1-ae0c-502bcbe74603",
   "metadata": {},
   "source": [
    "### To implement function based iterators\n",
    "\n",
    "- iter() :: pass any iterable\n",
    "- next()\n",
    "\n"
   ]
  },
  {
   "cell_type": "markdown",
   "id": "8bc0eb6c-f8bd-4af6-ab23-3f2a68ea74ad",
   "metadata": {},
   "source": [
    "### Write an iterator to generate random 15 numbers within range 1 - 82"
   ]
  },
  {
   "cell_type": "code",
   "execution_count": 17,
   "id": "49a29ee7-d0e3-4293-adb6-2fecb52f651e",
   "metadata": {},
   "outputs": [
    {
     "data": {
      "text/plain": [
       "4"
      ]
     },
     "execution_count": 17,
     "metadata": {},
     "output_type": "execute_result"
    }
   ],
   "source": [
    "import random    # absolute import\n",
    "\n",
    "\n",
    "random.randint(1, 83)"
   ]
  },
  {
   "cell_type": "code",
   "execution_count": 18,
   "id": "eb9b7327-74b5-4257-abb4-48bcf155a2e7",
   "metadata": {},
   "outputs": [
    {
     "data": {
      "text/plain": [
       "11"
      ]
     },
     "execution_count": 18,
     "metadata": {},
     "output_type": "execute_result"
    }
   ],
   "source": [
    "from random import randint   # relative import\n",
    "\n",
    "randint(1, 83)"
   ]
  },
  {
   "cell_type": "markdown",
   "id": "a14dc68b-e449-489e-aa76-b0d735396cab",
   "metadata": {},
   "source": [
    "### writing class based iterator using iterator protocol\n",
    "\n",
    "- `__iter__` returns the object itself\n",
    "- `__next__` method returns the next value from the itartor\n",
    "\n",
    "If there are no more elements then `StopIteration`\n"
   ]
  },
  {
   "cell_type": "code",
   "execution_count": 19,
   "id": "90d887ba-b3ec-4ee1-9ade-392cb9bdedaa",
   "metadata": {},
   "outputs": [],
   "source": [
    "import random\n",
    "\n",
    "\n",
    "class MyIterator(object):\n",
    "    def __init__(self):\n",
    "        self.start = 1\n",
    "        \n",
    "    def __iter__(self):\n",
    "        return self\n",
    "    \n",
    "    def __next__(self):\n",
    "        if self.start <= 15:\n",
    "            self.start += 1\n",
    "            return random.randint(1, 83)\n",
    "        else:\n",
    "            raise StopIteration\n",
    "            \n",
    "            \n",
    "sample = MyIterator()"
   ]
  },
  {
   "cell_type": "code",
   "execution_count": 35,
   "id": "ed9a679b-d60e-412f-849c-d3728cca105c",
   "metadata": {},
   "outputs": [
    {
     "ename": "StopIteration",
     "evalue": "",
     "output_type": "error",
     "traceback": [
      "\u001b[0;31m---------------------------------------------------------------------------\u001b[0m",
      "\u001b[0;31mStopIteration\u001b[0m                             Traceback (most recent call last)",
      "Cell \u001b[0;32mIn [35], line 1\u001b[0m\n\u001b[0;32m----> 1\u001b[0m \u001b[38;5;28;43mnext\u001b[39;49m\u001b[43m(\u001b[49m\u001b[43msample\u001b[49m\u001b[43m)\u001b[49m\n",
      "Cell \u001b[0;32mIn [19], line 16\u001b[0m, in \u001b[0;36mMyIterator.__next__\u001b[0;34m(self)\u001b[0m\n\u001b[1;32m     14\u001b[0m     \u001b[38;5;28;01mreturn\u001b[39;00m random\u001b[38;5;241m.\u001b[39mrandint(\u001b[38;5;241m1\u001b[39m, \u001b[38;5;241m83\u001b[39m)\n\u001b[1;32m     15\u001b[0m \u001b[38;5;28;01melse\u001b[39;00m:\n\u001b[0;32m---> 16\u001b[0m     \u001b[38;5;28;01mraise\u001b[39;00m \u001b[38;5;167;01mStopIteration\u001b[39;00m\n",
      "\u001b[0;31mStopIteration\u001b[0m: "
     ]
    }
   ],
   "source": [
    "next(sample)"
   ]
  },
  {
   "cell_type": "code",
   "execution_count": 36,
   "id": "d28c4063-2624-4291-9d09-a2236234b6dc",
   "metadata": {},
   "outputs": [],
   "source": [
    "class Simple:\n",
    "    \n",
    "    def __repr__(self):\n",
    "        return \"whatever\""
   ]
  },
  {
   "cell_type": "code",
   "execution_count": 38,
   "id": "b3e84d4a-8b26-48fa-a886-ff8458b67ccb",
   "metadata": {},
   "outputs": [
    {
     "data": {
      "text/plain": [
       "'whatever'"
      ]
     },
     "execution_count": 38,
     "metadata": {},
     "output_type": "execute_result"
    }
   ],
   "source": [
    "repr(Simple())"
   ]
  }
 ],
 "metadata": {
  "kernelspec": {
   "display_name": "Python 3 (ipykernel)",
   "language": "python",
   "name": "python3"
  },
  "language_info": {
   "codemirror_mode": {
    "name": "ipython",
    "version": 3
   },
   "file_extension": ".py",
   "mimetype": "text/x-python",
   "name": "python",
   "nbconvert_exporter": "python",
   "pygments_lexer": "ipython3",
   "version": "3.10.0"
  }
 },
 "nbformat": 4,
 "nbformat_minor": 5
}
