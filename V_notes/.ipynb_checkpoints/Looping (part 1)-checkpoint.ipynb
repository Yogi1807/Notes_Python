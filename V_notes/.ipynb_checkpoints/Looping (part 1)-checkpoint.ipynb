{
 "cells": [
  {
   "cell_type": "markdown",
   "id": "9931c952",
   "metadata": {},
   "source": [
    "DRY - Do NOT repeat yourself"
   ]
  },
  {
   "cell_type": "markdown",
   "id": "0a30863a",
   "metadata": {},
   "source": [
    "There are 2 types of loops \n",
    "\n",
    "- indefinite loop\n",
    "- definite loop"
   ]
  },
  {
   "cell_type": "markdown",
   "id": "0bf5f707",
   "metadata": {},
   "source": [
    "There are 2 types of loops \n",
    "\n",
    "- while loop (`indefinite loop`)\n",
    "- for loop  (`definite loop`)"
   ]
  },
  {
   "cell_type": "markdown",
   "id": "dff20f75",
   "metadata": {},
   "source": [
    "General structure of loop\n",
    "\n",
    "- condition controlled loop  (`while loop`)\n",
    "- collection controlled loop  (`for loop`)"
   ]
  },
  {
   "cell_type": "markdown",
   "id": "12ad5ab2",
   "metadata": {},
   "source": [
    "# while loop\n",
    "\n",
    "#### syntax\n",
    "\n",
    "```\n",
    "counter = 0         # initilization of variable (used in condition)\n",
    "\n",
    "while <condition>:  # start of while loop\n",
    "    <statement 1>   # while loop body\n",
    "    <statement 2>\n",
    "    ...\n",
    "    ..\n",
    "    <statement n>   # end of while loop\n",
    "else:\n",
    "    <statement :: whenver condition in while loop is evaluated as `False`>\n",
    "    \n",
    "\n",
    "print(\"Hello world!!!\")\n",
    "```"
   ]
  },
  {
   "cell_type": "markdown",
   "id": "3c676c4a",
   "metadata": {},
   "source": [
    "RULES FOR ELSE BLOCK IN `WHILE` LOOP\n",
    "\n",
    "- `else` block will only execute when condition given in while statement is evaluated as `False`\n",
    "- `else` block will only execute when there is no break statement executed"
   ]
  },
  {
   "cell_type": "code",
   "execution_count": null,
   "id": "39e23e26",
   "metadata": {},
   "outputs": [],
   "source": [
    "## first example\n",
    "\n",
    "# PROBLEM - print first 10 natural numbers\n",
    "\n",
    "i = 1\n",
    "\n",
    "while i <= 10:\n",
    "    print(i)\n",
    "    i = i + 1\n",
    "else:\n",
    "    print(\"I am done with my job!!!\")"
   ]
  },
  {
   "cell_type": "code",
   "execution_count": null,
   "id": "e94c7a8d",
   "metadata": {},
   "outputs": [],
   "source": [
    "## first example\n",
    "\n",
    "# PROBLEM - print square of first 10 natural numbers\n",
    "\n",
    "i = 1\n",
    "\n",
    "while i <= 10:\n",
    "    print(i ** 2)\n",
    "    i = i + 1\n",
    "else:\n",
    "    print(\"I am done with my job!!!\")"
   ]
  },
  {
   "cell_type": "code",
   "execution_count": null,
   "id": "bbc92624",
   "metadata": {},
   "outputs": [],
   "source": [
    "## first example\n",
    "\n",
    "# PROBLEM - print numbers divisible by 3 and within range 1 to 100\n",
    "\n",
    "i = 1\n",
    "\n",
    "while i <= 100:\n",
    "    if i % 3 == 0:\n",
    "        print(i)\n",
    "    i = i + 1\n",
    "else:\n",
    "    print(\"I am done with my job!!!\")"
   ]
  },
  {
   "cell_type": "code",
   "execution_count": 11,
   "id": "04e4d10c",
   "metadata": {},
   "outputs": [
    {
     "name": "stdout",
     "output_type": "stream",
     "text": [
      "5\n",
      "10\n",
      "15\n",
      "20\n",
      "25\n",
      "30\n",
      "35\n",
      "40\n",
      "45\n",
      "50\n",
      "55\n",
      "60\n",
      "65\n",
      "70\n",
      "75\n",
      "80\n",
      "85\n",
      "90\n",
      "95\n",
      "100\n",
      "I am done with my job!!!\n"
     ]
    }
   ],
   "source": [
    "## first example\n",
    "\n",
    "# PROBLEM - print numbers divisible by 5 and within range 1 to 100\n",
    "\n",
    "i = 1\n",
    "\n",
    "while i <= 100:\n",
    "    if i % 5 == 0:\n",
    "        print(i)\n",
    "    i = i + 1\n",
    "else:\n",
    "    print(\"I am done with my job!!!\")"
   ]
  },
  {
   "cell_type": "code",
   "execution_count": 15,
   "id": "c8243c09",
   "metadata": {},
   "outputs": [
    {
     "name": "stdout",
     "output_type": "stream",
     "text": [
      "10\n",
      "9\n",
      "8\n",
      "7\n",
      "6\n",
      "5\n",
      "4\n",
      "3\n",
      "2\n",
      "1\n"
     ]
    }
   ],
   "source": [
    "high = 10\n",
    "\n",
    "i = 0\n",
    "\n",
    "while i < high:\n",
    "    print(high)\n",
    "    high -= 1"
   ]
  },
  {
   "cell_type": "code",
   "execution_count": 22,
   "id": "a900584f",
   "metadata": {},
   "outputs": [
    {
     "name": "stdout",
     "output_type": "stream",
     "text": [
      "9\n",
      "7\n",
      "5\n",
      "3\n",
      "1\n"
     ]
    }
   ],
   "source": [
    "# PROBLEM - print first 10 odd numbers in reverse order\n",
    "\n",
    "high = 10\n",
    "\n",
    "i = 0\n",
    "\n",
    "while i < high:\n",
    "    if high % 2 !=0:\n",
    "        print(high)\n",
    "    high -= 1"
   ]
  },
  {
   "cell_type": "code",
   "execution_count": null,
   "id": "0c29fcdc",
   "metadata": {},
   "outputs": [],
   "source": [
    "while False:\n",
    "    print(\"hello world!\")\n",
    "else:\n",
    "    print(\"DONE!!!\")"
   ]
  },
  {
   "cell_type": "code",
   "execution_count": null,
   "id": "13357308",
   "metadata": {},
   "outputs": [],
   "source": [
    "foo = True \n",
    "\n",
    "while foo:\n",
    "    print(\"hello world!!!\")\n",
    "    foo = False\n",
    "    \n",
    "else:\n",
    "    print(\"I AM ELSE BLOCK!!!\")"
   ]
  },
  {
   "cell_type": "code",
   "execution_count": null,
   "id": "bbca0e6e",
   "metadata": {},
   "outputs": [],
   "source": [
    "# PROBLEM - print odd numbers between 1 to 20\n",
    "\n",
    "\n",
    "i = 1\n",
    "\n",
    "while i <= 20:\n",
    "    if i % 2 != 0:\n",
    "        print(i)\n",
    "    i += 1\n",
    "    \n",
    "else:\n",
    "    print(\"All of the odd numbers have been printed!!!\")"
   ]
  },
  {
   "cell_type": "code",
   "execution_count": null,
   "id": "f0df43b2",
   "metadata": {},
   "outputs": [],
   "source": [
    "i = 1\n",
    "\n",
    "while i <= 20:\n",
    "    if i % 2 != 0:\n",
    "        print(i)\n",
    "    i += 1\n",
    "    \n",
    "print(\"simple message\")"
   ]
  },
  {
   "cell_type": "markdown",
   "id": "e796890c",
   "metadata": {},
   "source": [
    "# `break` keyword\n",
    "\n",
    "- If you want to break out of the loop\n",
    "\n",
    "- If you want to exit out the loop based on certain condition"
   ]
  },
  {
   "cell_type": "code",
   "execution_count": null,
   "id": "cf80cbb5",
   "metadata": {},
   "outputs": [],
   "source": [
    "## first example\n",
    "\n",
    "# PROBLEM - print first 10 natural numbers\n",
    "\n",
    "foo = []\n",
    "i = 1\n",
    "\n",
    "while True:\n",
    "    print(\"value of i - {0}\".format(i))\n",
    "    foo.append(i)\n",
    "    i = i + 1\n",
    "    \n",
    "    if i > 10:\n",
    "        break\n",
    "else:\n",
    "    print(\"I am done with my job!!!\")\n",
    "    \n",
    "print(\"\\n{0}\".format(foo))"
   ]
  },
  {
   "cell_type": "code",
   "execution_count": null,
   "id": "e3f101f4",
   "metadata": {},
   "outputs": [],
   "source": [
    "# first 10 natural numbers but break when 8 comes\n",
    "\n",
    "\n",
    "i = 1\n",
    "\n",
    "while i <= 120:\n",
    "    \n",
    "    if i == 11:\n",
    "        break\n",
    "    \n",
    "    print(i)\n",
    "    i = i + 1\n",
    "    \n",
    "else:\n",
    "    print(\"I am done with my job!!!\")\n"
   ]
  },
  {
   "cell_type": "code",
   "execution_count": null,
   "id": "00238dcf",
   "metadata": {},
   "outputs": [],
   "source": [
    "foo = True \n",
    "\n",
    "counter = 0\n",
    "\n",
    "while foo:\n",
    "    print(\"hello world!!!\")\n",
    "    counter += 1\n",
    "    \n",
    "    if counter == 10:\n",
    "        break\n",
    "    \n",
    "else:\n",
    "    print(\"I AM ELSE BLOCK!!!\")"
   ]
  },
  {
   "cell_type": "markdown",
   "id": "921a572a",
   "metadata": {},
   "source": [
    "# Fibonacci series\n",
    "\n",
    "- first 2 numbers are fixed\n",
    "- next number is addition of previous 2 numbers\n",
    "\n",
    "0, 1, 1, 2, 3, 5, 8, 13, 21, 34, 55,...."
   ]
  },
  {
   "cell_type": "code",
   "execution_count": 4,
   "id": "3fc812f4",
   "metadata": {},
   "outputs": [
    {
     "name": "stdout",
     "output_type": "stream",
     "text": [
      "1\n",
      "3\n",
      "6\n",
      "12\n",
      "24\n",
      "48\n",
      "96\n"
     ]
    }
   ],
   "source": [
    "# PROBLEM - print fibonacci series where last element is < 100\n",
    "\n",
    "\"\"\"\n",
    "\n",
    "  0.     1.     1.       2.      3.     5.    8.     13        \n",
    "\n",
    "  prev   curr                                # first iteration\n",
    "        prev   curr\n",
    "               prev      curr\n",
    "              \n",
    "                        prev   curr\n",
    "\"\"\"\n",
    "\n",
    "prev = 0\n",
    "curr = 1\n",
    "\n",
    "\n",
    "while curr < 100:\n",
    "    future = prev + curr\n",
    "    print(prev + curr)\n",
    "    prev = curr\n",
    "    curr = future\n",
    "    "
   ]
  },
  {
   "cell_type": "code",
   "execution_count": 1,
   "id": "28029990",
   "metadata": {},
   "outputs": [
    {
     "name": "stdout",
     "output_type": "stream",
     "text": [
      "1\n",
      "1\n",
      "2\n",
      "3\n",
      "5\n",
      "8\n",
      "13\n",
      "21\n",
      "34\n",
      "55\n",
      "89\n"
     ]
    }
   ],
   "source": [
    "prev = 0\n",
    "curr = 1\n",
    "\n",
    "\n",
    "print(0)\n",
    "while curr < 100:\n",
    "    print(curr)\n",
    "    prev, curr = curr, prev + curr "
   ]
  },
  {
   "cell_type": "code",
   "execution_count": 5,
   "id": "53914515",
   "metadata": {},
   "outputs": [
    {
     "name": "stdout",
     "output_type": "stream",
     "text": [
      "Please enter secret password: bhadlvkbnflka\n",
      "Please enter secret password: sfbasnfklf\n",
      "Please enter secret password: sbfjkasnfalf\n",
      "Please enter secret password: ndkjsabkfaj\n",
      "Please enter secret password: nfjsanfka\n",
      "Please enter secret password: nsfkasnfa\n",
      "Please enter secret password: qwerty@123\n",
      "you have signed into application successfully\n"
     ]
    }
   ],
   "source": [
    "# PROTECT YOUR SOFTWARE WITH PASSWORD\n",
    "\n",
    "secret = \"qwerty@123\"\n",
    "\n",
    "valid_ = \"\"\n",
    "\n",
    "while valid_ != secret:\n",
    "    # SOFTWARE SHOULD NOT RUN\n",
    "    valid_ = input(\"Please enter secret password: \")\n",
    "else:\n",
    "    print(\"you have signed into application successfully\")"
   ]
  },
  {
   "cell_type": "code",
   "execution_count": 9,
   "id": "660a0b30",
   "metadata": {},
   "outputs": [
    {
     "name": "stdout",
     "output_type": "stream",
     "text": [
      "Please enter secret password: qwerty@123\n",
      "######################################################################\n",
      "You have signed into application successfully. \n",
      "to logout, press `Q`\n",
      "######################################################################\n",
      "Do you want to generate new ticket? 174\n",
      "\n",
      "Please enter your height : 10\n",
      "CANNOT RIDE\n",
      "Do you want to generate new ticket? 392\n",
      "\n",
      "Please enter your height : 393\n",
      "Congratulations, you can ride!!!\n",
      "\n",
      "Please enter your age : 3932\n",
      "Item \t\t Price\n",
      "Do you want to take a photo? (Y/N)Y\n",
      "for photo ticket  - $3\n",
      "######################################################################\n",
      "\n",
      "Your total bill is ==> 3\n",
      "Do you want to generate new ticket? Q\n",
      "shutting down application\n"
     ]
    }
   ],
   "source": [
    "quit_key = \"Q\"\n",
    "\n",
    "secret = \"qwerty@123\"\n",
    "\n",
    "valid_ = \"\"\n",
    "\n",
    "while valid_ != secret:\n",
    "    # SOFTWARE SHOULD NOT RUN\n",
    "    valid_ = input(\"Please enter secret password: \")\n",
    "else:\n",
    "    print(\"#######\" * 10)\n",
    "    print(\"You have signed into application successfully. \")\n",
    "    print(\"to logout, press `Q`\")\n",
    "\n",
    "        \n",
    "    print(\"#######\" * 10)\n",
    "    \n",
    "    while True:\n",
    "        \n",
    "        foo = input(\"Do you want to generate new ticket? \")\n",
    "        if foo.upper() == \"Q\":\n",
    "            print(\"shutting down application\")\n",
    "            break\n",
    "\n",
    "        value = 0\n",
    "        photo_price = \"$3\"\n",
    "\n",
    "        height  = int(input(\"\\nPlease enter your height : \"))\n",
    "\n",
    "        if height > 120:\n",
    "            print(\"Congratulations, you can ride!!!\\n\")\n",
    "            age = int(input(\"Please enter your age : \"))\n",
    "\n",
    "            print(\"Item \\t\\t Price\")\n",
    "            if age < 12:\n",
    "                print(\"for `age < 12` ticket - {0}\".format(\"$5\"))\n",
    "                value += 5\n",
    "            elif age < 18 and age >= 12:\n",
    "                print(\"for `age < 18 and age >= 12` ticket - {0}\".format(\"$12\"))\n",
    "                value += 12\n",
    "            elif age >= 18 and age < 45:\n",
    "                print(\"for `age >= 18 and age < 45` ticket - {0}\".format(\"$7\"))\n",
    "                value += 7\n",
    "            elif age >= 45 and age <=55:\n",
    "                print(\"for `age >= 45 and age <=55` ticket - {0}\".format(\"$0\"))\n",
    "\n",
    "            choice = input(\"Do you want to take a photo? (Y/N)\")\n",
    "            if choice.upper() != \"N\":\n",
    "                print(\"for photo ticket  - {0}\".format(\"$3\"))\n",
    "                value += 3\n",
    "\n",
    "            print(\"#######\" * 10)\n",
    "            print(\"\\nYour total bill is ==> {bill}\".format(bill=value))\n",
    "\n",
    "        else:\n",
    "            print(\"CANNOT RIDE\")\n",
    "    \n"
   ]
  },
  {
   "cell_type": "markdown",
   "id": "baf491c2",
   "metadata": {},
   "source": [
    "# `Continue` keyword"
   ]
  },
  {
   "cell_type": "code",
   "execution_count": null,
   "id": "4e80699b",
   "metadata": {},
   "outputs": [],
   "source": []
  }
 ],
 "metadata": {
  "kernelspec": {
   "display_name": "Python 3 (ipykernel)",
   "language": "python",
   "name": "python3"
  },
  "language_info": {
   "codemirror_mode": {
    "name": "ipython",
    "version": 3
   },
   "file_extension": ".py",
   "mimetype": "text/x-python",
   "name": "python",
   "nbconvert_exporter": "python",
   "pygments_lexer": "ipython3",
   "version": "3.10.0"
  }
 },
 "nbformat": 4,
 "nbformat_minor": 5
}
