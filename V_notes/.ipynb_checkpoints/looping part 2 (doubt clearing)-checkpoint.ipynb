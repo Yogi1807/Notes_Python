{
 "cells": [
  {
   "cell_type": "markdown",
   "id": "51b7a390",
   "metadata": {},
   "source": [
    "2520 is the smallest number that can be divided by each of the numbers from\n",
    "1 to 10 without any remainder. What is the smallest positive number that is evenly divisible by all of the numbers from 1 to 20?"
   ]
  },
  {
   "cell_type": "code",
   "execution_count": null,
   "id": "85ebeb7d",
   "metadata": {},
   "outputs": [],
   "source": [
    "1, 2, 3, 4, ....10"
   ]
  },
  {
   "cell_type": "code",
   "execution_count": null,
   "id": "2045f277",
   "metadata": {
    "scrolled": false
   },
   "outputs": [],
   "source": [
    "num_10 = [x for x in range(10000) if x % 10 == 0]"
   ]
  },
  {
   "cell_type": "code",
   "execution_count": null,
   "id": "53a2809f",
   "metadata": {},
   "outputs": [],
   "source": [
    "# num_10 ::  10, 20, 30,......\n",
    "outlist = []\n",
    "\n",
    "for i_num10 in num_10:\n",
    "    flag = True\n",
    "    \n",
    "    for i in range(1, 10):    # 2520 % 5 != 0\n",
    "        if i_num10 % i != 0:\n",
    "            flag = False\n",
    "            break\n",
    "    if flag:\n",
    "        outlist.append(i_num10)\n",
    "        \n",
    "print(outlist)"
   ]
  },
  {
   "cell_type": "code",
   "execution_count": null,
   "id": "605a25c8",
   "metadata": {},
   "outputs": [],
   "source": [
    "num_20 = [x for x in range(100000000000) if x % 20 == 0]\n",
    "len(num_20)"
   ]
  },
  {
   "cell_type": "markdown",
   "id": "be018c49",
   "metadata": {},
   "source": [
    "final solution"
   ]
  },
  {
   "cell_type": "code",
   "execution_count": null,
   "id": "afcecfe0",
   "metadata": {},
   "outputs": [],
   "source": [
    "num_20 = [x for x in range(1000000000) if x % 20 == 0]\n",
    "print(len(num_20))\n",
    "\n",
    "\n",
    "outlist = []\n",
    "\n",
    "for number in num_20:\n",
    "    flag = True\n",
    "    for i in range(1, 20):\n",
    "        if number % i != 0:\n",
    "            flag = False\n",
    "            break\n",
    "    if flag:\n",
    "        outlist.append(number)\n",
    "        \n",
    "print(outlist)"
   ]
  },
  {
   "cell_type": "markdown",
   "id": "02d42e68",
   "metadata": {},
   "source": [
    "- problem 8\n",
    "\n",
    "\n",
    "The prime factors of 13195 are 5, 7, 13 and 29. What is the largest prime factor\n",
    "of the number 600851475143 ?"
   ]
  },
  {
   "cell_type": "markdown",
   "id": "f1a8e662",
   "metadata": {},
   "source": [
    "prime factor = the number should be prime and it should divide the given number\n",
    "\n",
    "mid = (13195/2)\n",
    "\n"
   ]
  },
  {
   "cell_type": "markdown",
   "id": "2ba2ea4e",
   "metadata": {},
   "source": [
    "## get factors"
   ]
  },
  {
   "cell_type": "code",
   "execution_count": null,
   "id": "e3c23571",
   "metadata": {},
   "outputs": [
    {
     "name": "stdout",
     "output_type": "stream",
     "text": [
      "Please enter number : 600851475143\n"
     ]
    }
   ],
   "source": [
    "factors = set()\n",
    "\n",
    "num = int(input(\"Please enter number : \"))\n",
    "\n",
    "mid = int(num / 2)\n",
    "\n",
    "for x in range(2, mid+1):\n",
    "    if num % x == 0:\n",
    "        factors.add(x)\n",
    "        \n",
    "factors"
   ]
  },
  {
   "cell_type": "code",
   "execution_count": 17,
   "id": "d2d71a9b",
   "metadata": {},
   "outputs": [
    {
     "name": "stdout",
     "output_type": "stream",
     "text": [
      "prime numbers upto which number? : 13195\n"
     ]
    }
   ],
   "source": [
    "# To get prime numbers\n",
    "# Prime number definition\n",
    "# The number can be **only** divisible by itself or by one.\n",
    "# [2, 3, 5, 7, 11, 13, 17, 19]\n",
    "\n",
    "num = int(input(\"prime numbers upto which number? : \"))\n",
    "\n",
    "prime_numbers = []\n",
    "\n",
    "for x in range(2, num):   # 6\n",
    "    flag = True\n",
    "    for y in range(2, x):   # 5 % 2, 5 % 3, 5 % 4 \n",
    "        if x % y == 0:\n",
    "            flag = False\n",
    "            \n",
    "    if flag:\n",
    "        prime_numbers.append(x)\n",
    "        \n",
    "# print(prime_numbers)"
   ]
  },
  {
   "cell_type": "code",
   "execution_count": 16,
   "id": "8fca0698",
   "metadata": {},
   "outputs": [
    {
     "name": "stdout",
     "output_type": "stream",
     "text": [
      "[5, 7, 13, 29]\n"
     ]
    }
   ],
   "source": [
    "prime_factors = []\n",
    "\n",
    "for factor in factors:\n",
    "    if factor in prime_numbers:\n",
    "        prime_factors.append(factor)\n",
    "        \n",
    "print(prime_factors)"
   ]
  }
 ],
 "metadata": {
  "kernelspec": {
   "display_name": "Python 3 (ipykernel)",
   "language": "python",
   "name": "python3"
  },
  "language_info": {
   "codemirror_mode": {
    "name": "ipython",
    "version": 3
   },
   "file_extension": ".py",
   "mimetype": "text/x-python",
   "name": "python",
   "nbconvert_exporter": "python",
   "pygments_lexer": "ipython3",
   "version": "3.10.0"
  }
 },
 "nbformat": 4,
 "nbformat_minor": 5
}
