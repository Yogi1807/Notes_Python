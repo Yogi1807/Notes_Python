{
 "cells": [
  {
   "cell_type": "markdown",
   "id": "9869ea5e",
   "metadata": {},
   "source": [
    "`id()` function"
   ]
  },
  {
   "cell_type": "code",
   "execution_count": 7,
   "id": "02862cf2",
   "metadata": {},
   "outputs": [
    {
     "name": "stdout",
     "output_type": "stream",
     "text": [
      "4388222352\n",
      "4388222384\n"
     ]
    },
    {
     "data": {
      "text/plain": [
       "False"
      ]
     },
     "execution_count": 7,
     "metadata": {},
     "output_type": "execute_result"
    }
   ],
   "source": [
    "foo = 7777777\n",
    "bar = 7896\n",
    "\n",
    "print(id(foo))\n",
    "print(id(bar))\n",
    "\n",
    "foo is bar"
   ]
  },
  {
   "cell_type": "markdown",
   "id": "d5609b6d",
   "metadata": {},
   "source": [
    "# Terminology\n",
    "\n",
    "script - file containing code"
   ]
  },
  {
   "cell_type": "markdown",
   "id": "d2f0e93d",
   "metadata": {},
   "source": [
    "# MODES\n",
    "\n",
    "- interpreter mode (-5 to 256)\n",
    "- script mode"
   ]
  },
  {
   "cell_type": "code",
   "execution_count": null,
   "id": "7580cacd",
   "metadata": {},
   "outputs": [],
   "source": [
    "python source code -> Cpython compiler -> byte code (.pyc) -> PVM -> machine code"
   ]
  },
  {
   "cell_type": "markdown",
   "id": "8386c9e6",
   "metadata": {},
   "source": [
    "# SLICING problem\n",
    "\n",
    "- What is slicing?\n",
    "\n",
    "Slicing is a way of accessing elements of a collection data type by using start and end index. \n",
    "Also we can specify step value.\n",
    "\n",
    "\n",
    "[start: end: step]\n",
    "\n",
    "NOTE - by using slicing, you always create copy of original object"
   ]
  },
  {
   "cell_type": "code",
   "execution_count": 6,
   "id": "b5ef8da0",
   "metadata": {},
   "outputs": [
    {
     "name": "stdout",
     "output_type": "stream",
     "text": [
      "4390552176\n",
      "4390552176\n"
     ]
    }
   ],
   "source": [
    "foo = \"india is great\"\n",
    "print(id(foo))\n",
    "\n",
    "bar = foo[:]\n",
    "\n",
    "print(id(bar))"
   ]
  },
  {
   "cell_type": "code",
   "execution_count": 9,
   "id": "6289f3f6",
   "metadata": {},
   "outputs": [
    {
     "name": "stdout",
     "output_type": "stream",
     "text": [
      "4388214640\n",
      "4388223344\n"
     ]
    },
    {
     "data": {
      "text/plain": [
       "False"
      ]
     },
     "execution_count": 9,
     "metadata": {},
     "output_type": "execute_result"
    }
   ],
   "source": [
    "foo = -6\n",
    "bar = -6\n",
    "\n",
    "print(id(foo))\n",
    "print(id(bar))\n",
    "\n",
    "foo is bar"
   ]
  }
 ],
 "metadata": {
  "kernelspec": {
   "display_name": "Python 3 (ipykernel)",
   "language": "python",
   "name": "python3"
  },
  "language_info": {
   "codemirror_mode": {
    "name": "ipython",
    "version": 3
   },
   "file_extension": ".py",
   "mimetype": "text/x-python",
   "name": "python",
   "nbconvert_exporter": "python",
   "pygments_lexer": "ipython3",
   "version": "3.10.0"
  }
 },
 "nbformat": 4,
 "nbformat_minor": 5
}
