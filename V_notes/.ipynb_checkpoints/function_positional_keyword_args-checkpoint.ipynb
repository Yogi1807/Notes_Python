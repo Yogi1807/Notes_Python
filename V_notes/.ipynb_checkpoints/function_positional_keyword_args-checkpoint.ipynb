{
 "cells": [
  {
   "cell_type": "code",
   "execution_count": 1,
   "id": "47edc945-a054-4552-b68a-1d0471b3682c",
   "metadata": {},
   "outputs": [],
   "source": [
    "employees=[\n",
    "  {\n",
    "    'first_name': 'Asabeneh',\n",
    "    'last_name': 'Yetayeh',\n",
    "    'age': 23,\n",
    "    'country': 'India',\n",
    "    'is_marred': True,\n",
    "    'skills': [\n",
    "      'JavaScript',\n",
    "      'golang',\n",
    "      'Node'\n",
    "    ],\n",
    "    'address': {\n",
    "      'street': 'Space street',\n",
    "      'zipcode': '02210'\n",
    "    }\n",
    "  },\n",
    "  {\n",
    "    'first_name': 'Rahul',\n",
    "    'last_name': 'Dravid',\n",
    "    'age': 56,\n",
    "    'country': 'Pakistan',\n",
    "    'is_marred': False,\n",
    "    'skills': [\n",
    "      'C#',\n",
    "      'React',\n",
    "      'Angular',\n",
    "      'MongoDB',\n",
    "      'Python'\n",
    "    ],\n",
    "    'address': {\n",
    "      'street': 'Space street',\n",
    "      'zipcode': '02210'\n",
    "    }\n",
    "  },\n",
    "  {\n",
    "    'first_name': 'Virat',\n",
    "    'last_name': 'Kohli',\n",
    "    'age': 67,\n",
    "    'country': 'Finland',\n",
    "    'is_marred': True,\n",
    "    'skills': [\n",
    "      'JavaScript',\n",
    "      'React',\n",
    "      'Node',\n",
    "      'MongoDB',\n",
    "      'Python'\n",
    "    ],\n",
    "    'address': {\n",
    "      'street': 'Space street',\n",
    "      'zipcode': '02210'\n",
    "    }\n",
    "  },\n",
    "  {\n",
    "    'first_name': 'Hardik',\n",
    "    'last_name': 'Pandya',\n",
    "    'age': 43,\n",
    "    'country': 'USA',\n",
    "    'is_marred': True,\n",
    "    'skills': [\n",
    "      'JavaScript',\n",
    "      'Azure',\n",
    "      'Snowflake',\n",
    "      'MongoDB'\n",
    "    ],\n",
    "    'address': {\n",
    "      'street': 'Space street',\n",
    "      'zipcode': '02210'\n",
    "    }\n",
    "  },\n",
    "  {\n",
    "    'first_name': 'Mohammad',\n",
    "    'last_name': 'Shami',\n",
    "    'age': 31,\n",
    "    'country': 'England',\n",
    "    'is_marred': False,\n",
    "    'skills': [\n",
    "      'AWS',\n",
    "      'GCP',\n",
    "      'Node',\n",
    "      'MongoDB',\n",
    "      'Python'\n",
    "    ],\n",
    "    'address': {\n",
    "      'street': 'Space street',\n",
    "      'zipcode': '02210'\n",
    "    }\n",
    "  }\n",
    "]"
   ]
  },
  {
   "cell_type": "markdown",
   "id": "bd7a2bf0-e777-4830-9c7d-44c84d4ab1c8",
   "metadata": {},
   "source": [
    "### first and last name of employees who's skill is `python`"
   ]
  },
  {
   "cell_type": "code",
   "execution_count": 19,
   "id": "367aea29-2e82-4e1a-921d-74dfe4ec1bfb",
   "metadata": {},
   "outputs": [
    {
     "ename": "TypeError",
     "evalue": "get_employee_names() takes 2 positional arguments but 3 were given",
     "output_type": "error",
     "traceback": [
      "\u001b[0;31m---------------------------------------------------------------------------\u001b[0m",
      "\u001b[0;31mTypeError\u001b[0m                                 Traceback (most recent call last)",
      "Cell \u001b[0;32mIn [19], line 6\u001b[0m\n\u001b[1;32m      3\u001b[0m         \u001b[38;5;28;01mif\u001b[39;00m skill \u001b[38;5;129;01min\u001b[39;00m emp\u001b[38;5;241m.\u001b[39mget(\u001b[38;5;124m\"\u001b[39m\u001b[38;5;124mskills\u001b[39m\u001b[38;5;124m\"\u001b[39m):\n\u001b[1;32m      4\u001b[0m             \u001b[38;5;28mprint\u001b[39m(emp\u001b[38;5;241m.\u001b[39mget(\u001b[38;5;124m\"\u001b[39m\u001b[38;5;124mfirst_name\u001b[39m\u001b[38;5;124m\"\u001b[39m), emp\u001b[38;5;241m.\u001b[39mget(\u001b[38;5;124m\"\u001b[39m\u001b[38;5;124mlast_name\u001b[39m\u001b[38;5;124m\"\u001b[39m))  \u001b[38;5;66;03m# func ends\u001b[39;00m\n\u001b[0;32m----> 6\u001b[0m \u001b[43mget_employee_names\u001b[49m\u001b[43m(\u001b[49m\u001b[43memployees\u001b[49m\u001b[43m,\u001b[49m\u001b[43m \u001b[49m\u001b[38;5;124;43m\"\u001b[39;49m\u001b[38;5;124;43mPython\u001b[39;49m\u001b[38;5;124;43m\"\u001b[39;49m\u001b[43m,\u001b[49m\u001b[43m \u001b[49m\u001b[38;5;124;43m\"\u001b[39;49m\u001b[38;5;124;43mnewinput\u001b[39;49m\u001b[38;5;124;43m\"\u001b[39;49m\u001b[43m)\u001b[49m\n",
      "\u001b[0;31mTypeError\u001b[0m: get_employee_names() takes 2 positional arguments but 3 were given"
     ]
    }
   ],
   "source": [
    "def get_employee_names(data, skill):   # func def starts here\n",
    "    for emp in data:\n",
    "        if skill in emp.get(\"skills\"):\n",
    "            print(emp.get(\"first_name\"), emp.get(\"last_name\"))  # func ends\n",
    "\n",
    "get_employee_names(employees, \"Python\")"
   ]
  },
  {
   "cell_type": "code",
   "execution_count": 10,
   "id": "f843500f-8803-4d60-8de6-aef0a3492401",
   "metadata": {},
   "outputs": [
    {
     "data": {
      "text/plain": [
       "314.0"
      ]
     },
     "execution_count": 10,
     "metadata": {},
     "output_type": "execute_result"
    }
   ],
   "source": [
    "### area of circle\n",
    "\n",
    "# function definition\n",
    "def circle_area(radius):\n",
    "    result = 3.14 * (radius ** 2)\n",
    "    return result\n",
    "    \n",
    "\n",
    "# function call\n",
    "final = circle_area(10)  \n",
    "final"
   ]
  },
  {
   "cell_type": "code",
   "execution_count": 16,
   "id": "8d9c8736-1f61-4da1-a6d9-35066fdc2c69",
   "metadata": {},
   "outputs": [
    {
     "ename": "TypeError",
     "evalue": "circle_area() missing 1 required positional argument: 'void'",
     "output_type": "error",
     "traceback": [
      "\u001b[0;31m---------------------------------------------------------------------------\u001b[0m",
      "\u001b[0;31mTypeError\u001b[0m                                 Traceback (most recent call last)",
      "Cell \u001b[0;32mIn [16], line 13\u001b[0m\n\u001b[1;32m      9\u001b[0m         \u001b[38;5;28mprint\u001b[39m(\u001b[38;5;124mf\u001b[39m\u001b[38;5;124m\"\u001b[39m\u001b[38;5;124mprint statement - \u001b[39m\u001b[38;5;132;01m{\u001b[39;00mresult\u001b[38;5;132;01m}\u001b[39;00m\u001b[38;5;124m\"\u001b[39m)\n\u001b[1;32m     12\u001b[0m \u001b[38;5;66;03m# function call\u001b[39;00m\n\u001b[0;32m---> 13\u001b[0m final \u001b[38;5;241m=\u001b[39m \u001b[43mcircle_area\u001b[49m\u001b[43m(\u001b[49m\u001b[38;5;241;43m10\u001b[39;49m\u001b[43m)\u001b[49m  \n\u001b[1;32m     14\u001b[0m final\n",
      "\u001b[0;31mTypeError\u001b[0m: circle_area() missing 1 required positional argument: 'void'"
     ]
    }
   ],
   "source": [
    "### area of circle\n",
    "\n",
    "# function definition\n",
    "def circle_area(radius, void):\n",
    "    result = 3.14 * (radius ** 2)\n",
    "    if not void:\n",
    "        return result\n",
    "    else:\n",
    "        print(f\"print statement - {result}\")\n",
    "    \n",
    "\n",
    "# function call\n",
    "final = circle_area(10)  \n",
    "final"
   ]
  },
  {
   "cell_type": "code",
   "execution_count": 8,
   "id": "1f28259e-dd0e-45fe-9684-f4284bca589c",
   "metadata": {},
   "outputs": [
    {
     "name": "stdin",
     "output_type": "stream",
     "text": [
      "Please enter radius ::  10\n"
     ]
    },
    {
     "name": "stdout",
     "output_type": "stream",
     "text": [
      "314.0\n"
     ]
    }
   ],
   "source": [
    "# function definition\n",
    "def circle_area():\n",
    "    radius = int(input(\"Please enter radius :: \"))\n",
    "    result = 3.14 * (radius ** 2)\n",
    "    print(result)\n",
    "    \n",
    "    \n",
    "circle_area()"
   ]
  },
  {
   "cell_type": "code",
   "execution_count": 22,
   "id": "78feb0eb-f5b1-40a8-b2d5-0af20bf81f8e",
   "metadata": {},
   "outputs": [
    {
     "data": {
      "text/plain": [
       "48000.0"
      ]
     },
     "execution_count": 22,
     "metadata": {},
     "output_type": "execute_result"
    }
   ],
   "source": [
    "def calculate_interest(principal, tenure, rate):\n",
    "    result = (principal * tenure * rate) / 100\n",
    "    return result\n",
    "\n",
    "calculate_interest(100000, 12, 4)"
   ]
  },
  {
   "cell_type": "markdown",
   "id": "ab149644-7f7d-4dae-9b6b-01b5d326f7ae",
   "metadata": {},
   "source": [
    "### 2 Types of parameters\n",
    "\n",
    "- Positional parameters\n",
    "- Keyword parameters\n",
    "\n",
    "\n",
    "\n",
    "\n",
    "Rules of function call based on types of parameters -\n",
    "\n",
    "- In case of Positional parameters\n",
    "    - The order of arguments (in function call) should match with order of parameters (in function def)\n",
    "    - The number of arguments should match number of parameters\n",
    "    - arguments in function call are un-packed into parameters in function definition\n",
    "    \n",
    "- In case of Keyword parameters\n",
    "    - We pass key and value in function definition \n",
    "    - keywords parameters are always after positional parameters\n",
    "    - you can call function with keyword parameters as positional arguments ( while calling function ) \n",
    "    - you can set default value against parameters\n",
    "    \n",
    "\n",
    "\n"
   ]
  },
  {
   "cell_type": "code",
   "execution_count": 23,
   "id": "450eb546-f3d7-4d08-b7a6-4780a7d4b8c3",
   "metadata": {},
   "outputs": [
    {
     "name": "stdout",
     "output_type": "stream",
     "text": [
      "good morning, prashant\n"
     ]
    }
   ],
   "source": [
    "def greeting(name):\n",
    "    print(f\"Good morning, {name}!\")\n",
    "    \n",
    "greeting(\"prashant\")  "
   ]
  },
  {
   "cell_type": "markdown",
   "id": "7c4172e5-117a-4d49-aea4-e80a6ab0dc58",
   "metadata": {},
   "source": [
    "### function with default parameter"
   ]
  },
  {
   "cell_type": "code",
   "execution_count": 25,
   "id": "e521c0cc-d875-4a0f-9241-7121ba9fec02",
   "metadata": {},
   "outputs": [
    {
     "name": "stdout",
     "output_type": "stream",
     "text": [
      "Good morning, prashant!\n"
     ]
    }
   ],
   "source": [
    "def greeting(name=\"world\"):\n",
    "    print(f\"Good morning, {name}!\")\n",
    "    \n",
    " "
   ]
  },
  {
   "cell_type": "code",
   "execution_count": 26,
   "id": "b909bcd0-76a6-4ddf-a1fb-eef698b1479a",
   "metadata": {},
   "outputs": [
    {
     "name": "stdout",
     "output_type": "stream",
     "text": [
      "Good morning, world!\n"
     ]
    }
   ],
   "source": [
    "greeting() "
   ]
  },
  {
   "cell_type": "code",
   "execution_count": 27,
   "id": "0c029d04-30f2-43c9-b575-84eb01e1ad9d",
   "metadata": {},
   "outputs": [
    {
     "name": "stdout",
     "output_type": "stream",
     "text": [
      "Hello, world!\n"
     ]
    }
   ],
   "source": [
    "def greeting(msg, name=\"world\"):\n",
    "    print(f\"{msg}, {name}!\")\n",
    "    \n"
   ]
  },
  {
   "cell_type": "code",
   "execution_count": 28,
   "id": "409fc20e-e281-49af-ae72-7a0e892d0786",
   "metadata": {},
   "outputs": [
    {
     "name": "stdout",
     "output_type": "stream",
     "text": [
      "Hello, world!\n"
     ]
    }
   ],
   "source": [
    "greeting(\"Hello\")"
   ]
  },
  {
   "cell_type": "code",
   "execution_count": 29,
   "id": "f811b026-869d-4257-9b3f-a8a852548d0f",
   "metadata": {},
   "outputs": [
    {
     "name": "stdout",
     "output_type": "stream",
     "text": [
      "Hello, Prashant!\n"
     ]
    }
   ],
   "source": [
    "greeting(\"Hello\", \"Prashant\")"
   ]
  },
  {
   "cell_type": "code",
   "execution_count": 30,
   "id": "aee7631e-846a-4114-9ec3-8c4a0612caea",
   "metadata": {},
   "outputs": [
    {
     "ename": "SyntaxError",
     "evalue": "non-default argument follows default argument (1072560601.py, line 1)",
     "output_type": "error",
     "traceback": [
      "\u001b[0;36m  Cell \u001b[0;32mIn [30], line 1\u001b[0;36m\u001b[0m\n\u001b[0;31m    def greeting(name=\"world\", msg):\u001b[0m\n\u001b[0m                               ^\u001b[0m\n\u001b[0;31mSyntaxError\u001b[0m\u001b[0;31m:\u001b[0m non-default argument follows default argument\n"
     ]
    }
   ],
   "source": [
    "def greeting(msg, name=\"world\"):\n",
    "    print(f\"{msg}, {name}!\")\n",
    "    \n"
   ]
  },
  {
   "cell_type": "code",
   "execution_count": 31,
   "id": "7f2f1e68-6d3e-4718-b534-935059007528",
   "metadata": {},
   "outputs": [
    {
     "data": {
      "text/plain": [
       "314.0"
      ]
     },
     "execution_count": 31,
     "metadata": {},
     "output_type": "execute_result"
    }
   ],
   "source": [
    "def circle_area(radius, pie=3.14):\n",
    "    return pie * radius ** 2\n",
    "\n",
    "circle_area(10)"
   ]
  },
  {
   "cell_type": "code",
   "execution_count": 33,
   "id": "7aadeb9c-c049-44df-8c9e-64ea7fd91106",
   "metadata": {},
   "outputs": [
    {
     "data": {
      "text/plain": [
       "'No employee found'"
      ]
     },
     "execution_count": 33,
     "metadata": {},
     "output_type": "execute_result"
    }
   ],
   "source": [
    "def get_employee_names(data, skill, default=\"No employee found\"):   # func def starts here\n",
    "    output = []\n",
    "    for emp in data:\n",
    "        if skill in emp.get(\"skills\"):\n",
    "            full_name = emp.get(\"first_name\"), emp.get(\"last_name\")\n",
    "            output.append(\" \".join(full_name))\n",
    "    if len(output):\n",
    "        return output\n",
    "    return default\n",
    "        \n",
    "\n"
   ]
  },
  {
   "cell_type": "code",
   "execution_count": 34,
   "id": "d913ff49-1c80-41ca-bc8a-304878414b2b",
   "metadata": {},
   "outputs": [
    {
     "data": {
      "text/plain": [
       "'No employee found'"
      ]
     },
     "execution_count": 34,
     "metadata": {},
     "output_type": "execute_result"
    }
   ],
   "source": [
    "get_employee_names(employees, \"Cloud\")"
   ]
  },
  {
   "cell_type": "code",
   "execution_count": 35,
   "id": "b7b88647-d66a-4c32-8e6c-2eec63fab54c",
   "metadata": {},
   "outputs": [
    {
     "data": {
      "text/plain": [
       "['Rahul Dravid', 'Virat Kohli', 'Mohammad Shami']"
      ]
     },
     "execution_count": 35,
     "metadata": {},
     "output_type": "execute_result"
    }
   ],
   "source": [
    "get_employee_names(employees, \"Python\")"
   ]
  },
  {
   "cell_type": "code",
   "execution_count": 36,
   "id": "c76c4db5-1c28-4c56-aa0b-e01957accdc2",
   "metadata": {},
   "outputs": [
    {
     "data": {
      "text/plain": [
       "{'Rahul Dravid': None, 'Virat Kohli': None, 'Mohammad Shami': None}"
      ]
     },
     "execution_count": 36,
     "metadata": {},
     "output_type": "execute_result"
    }
   ],
   "source": [
    "keys_ = ['Rahul Dravid', 'Virat Kohli', 'Mohammad Shami']\n",
    "latest = dict.fromkeys(keys_, None)\n",
    "latest\n"
   ]
  },
  {
   "cell_type": "code",
   "execution_count": 37,
   "id": "ae24f692-20e4-43b4-850c-2f42e1a67e95",
   "metadata": {},
   "outputs": [
    {
     "name": "stdout",
     "output_type": "stream",
     "text": [
      "{None: 'Mohammad Shami'}\n"
     ]
    }
   ],
   "source": [
    "output = {}\n",
    "for key_, val_ in latest.items():\n",
    "    output[val_] = key_\n",
    "    \n",
    "print(output)"
   ]
  },
  {
   "cell_type": "markdown",
   "id": "4b188e56-ee3d-4710-9843-8b5990fe0d14",
   "metadata": {},
   "source": [
    "### only keyword arguments"
   ]
  },
  {
   "cell_type": "code",
   "execution_count": 38,
   "id": "be3df71c-204b-4215-816b-ed07a656b6fc",
   "metadata": {},
   "outputs": [],
   "source": [
    "def greeting(msg=\"Good morning\", name=\"world!\"):\n",
    "    return msg + \" \" + name"
   ]
  },
  {
   "cell_type": "code",
   "execution_count": 39,
   "id": "abbde0c0-3e68-4c84-9bf8-edb2f1c2cc10",
   "metadata": {},
   "outputs": [
    {
     "data": {
      "text/plain": [
       "'Good morning world!'"
      ]
     },
     "execution_count": 39,
     "metadata": {},
     "output_type": "execute_result"
    }
   ],
   "source": [
    "greeting()"
   ]
  },
  {
   "cell_type": "code",
   "execution_count": 40,
   "id": "89be8311-5d0e-426e-9d2e-aa9e0c21480b",
   "metadata": {},
   "outputs": [
    {
     "data": {
      "text/plain": [
       "'Good evening world!'"
      ]
     },
     "execution_count": 40,
     "metadata": {},
     "output_type": "execute_result"
    }
   ],
   "source": [
    "greeting(msg=\"Good evening\")"
   ]
  },
  {
   "cell_type": "code",
   "execution_count": 41,
   "id": "994fa9a3-26c3-4a87-a6bc-ac0f368be0ee",
   "metadata": {},
   "outputs": [
    {
     "data": {
      "text/plain": [
       "'Good morning prashant'"
      ]
     },
     "execution_count": 41,
     "metadata": {},
     "output_type": "execute_result"
    }
   ],
   "source": [
    "greeting(name=\"prashant\")"
   ]
  },
  {
   "cell_type": "code",
   "execution_count": 42,
   "id": "f958c172-73f4-4072-96c5-3ad1bf4a2f64",
   "metadata": {},
   "outputs": [
    {
     "data": {
      "text/plain": [
       "'Good afternoon Rahul'"
      ]
     },
     "execution_count": 42,
     "metadata": {},
     "output_type": "execute_result"
    }
   ],
   "source": [
    "greeting(msg=\"Good afternoon\", name=\"Rahul\")"
   ]
  },
  {
   "cell_type": "code",
   "execution_count": 44,
   "id": "3bcfeb5a-e27f-4866-a3ec-1a9fba6d8d52",
   "metadata": {},
   "outputs": [
    {
     "data": {
      "text/plain": [
       "'Good night!! Hardik'"
      ]
     },
     "execution_count": 44,
     "metadata": {},
     "output_type": "execute_result"
    }
   ],
   "source": [
    "greeting(name=\"Hardik\", msg=\"Good night!!\")"
   ]
  },
  {
   "cell_type": "code",
   "execution_count": 43,
   "id": "342ad9c6-e5bc-4dc5-8c91-b7f3ca80f88c",
   "metadata": {},
   "outputs": [
    {
     "data": {
      "text/plain": [
       "'greetings sachin'"
      ]
     },
     "execution_count": 43,
     "metadata": {},
     "output_type": "execute_result"
    }
   ],
   "source": [
    "greeting(\"greetings\", \"sachin\")"
   ]
  },
  {
   "cell_type": "markdown",
   "id": "1df00d7a-dadc-467d-a23a-b0575232a92f",
   "metadata": {},
   "source": [
    "## concept of namespace\n",
    "\n",
    "- variables used in function definition are only available within function definition `scope`"
   ]
  },
  {
   "cell_type": "code",
   "execution_count": 46,
   "id": "332bf66b-6f2d-4a1a-b1c3-5b8b10e4c066",
   "metadata": {},
   "outputs": [
    {
     "ename": "NameError",
     "evalue": "name 'random' is not defined",
     "output_type": "error",
     "traceback": [
      "\u001b[0;31m---------------------------------------------------------------------------\u001b[0m",
      "\u001b[0;31mNameError\u001b[0m                                 Traceback (most recent call last)",
      "Cell \u001b[0;32mIn [46], line 5\u001b[0m\n\u001b[1;32m      2\u001b[0m     random \u001b[38;5;241m=\u001b[39m \u001b[38;5;124m\"\u001b[39m\u001b[38;5;124mrandom value\u001b[39m\u001b[38;5;124m\"\u001b[39m\n\u001b[1;32m      3\u001b[0m     \u001b[38;5;28;01mreturn\u001b[39;00m msg \u001b[38;5;241m+\u001b[39m \u001b[38;5;124m\"\u001b[39m\u001b[38;5;124m \u001b[39m\u001b[38;5;124m\"\u001b[39m \u001b[38;5;241m+\u001b[39m name\n\u001b[0;32m----> 5\u001b[0m \u001b[38;5;28mprint\u001b[39m(\u001b[43mrandom\u001b[49m)\n",
      "\u001b[0;31mNameError\u001b[0m: name 'random' is not defined"
     ]
    }
   ],
   "source": [
    "def greeting(msg=\"Good morning\", name=\"world!\"):\n",
    "    random = \"random value\"\n",
    "    return msg + \" \" + name\n",
    "\n",
    "print(random)\n"
   ]
  },
  {
   "cell_type": "code",
   "execution_count": 48,
   "id": "18399b2d-e838-4de1-b538-1badf522fa68",
   "metadata": {},
   "outputs": [
    {
     "name": "stdout",
     "output_type": "stream",
     "text": [
      "my custom greeting msg\n",
      "my name goes here\n"
     ]
    }
   ],
   "source": [
    "def greeting(msg=\"Good morning\", name=\"world!\"):\n",
    "    print(msg)\n",
    "    print(name)\n",
    "    \n",
    "\n",
    "greeting(msg=\"my custom greeting msg\", name=\"my name goes here\")\n",
    "`"
   ]
  },
  {
   "cell_type": "markdown",
   "id": "d8eba8fb-6dd6-45cd-989c-a246f9d391c4",
   "metadata": {},
   "source": [
    "## default value is only evaluated once\n",
    "#### if we are using mutable objects as default parameter, function may behave differently"
   ]
  },
  {
   "cell_type": "code",
   "execution_count": 54,
   "id": "a2d1594a-e5eb-45ac-a245-bfb7b8fabcaa",
   "metadata": {},
   "outputs": [],
   "source": [
    "def produce_list(item, list_=[]):\n",
    "    list_.append(item)\n",
    "    return list_"
   ]
  },
  {
   "cell_type": "code",
   "execution_count": 73,
   "id": "de7c2e8c-9262-4ac8-9ee9-d040980280d9",
   "metadata": {},
   "outputs": [
    {
     "data": {
      "text/plain": [
       "[10, 10, 10, 10, 10, 10, 10, 10, 10, 10, 10, 10, 10, 10, 10, 10, 10, 10, 10]"
      ]
     },
     "execution_count": 73,
     "metadata": {},
     "output_type": "execute_result"
    }
   ],
   "source": [
    "output = produce_list(10)\n",
    "output\n",
    "\n",
    "## [10]"
   ]
  },
  {
   "cell_type": "code",
   "execution_count": 74,
   "id": "d7485e71-1458-4d31-b55b-638ccb6d3f0c",
   "metadata": {},
   "outputs": [],
   "source": [
    "def produce_list(item, list_=None):\n",
    "    if list_ is None:\n",
    "        list_ = []\n",
    "    list_.append(item)\n",
    "    return list_"
   ]
  },
  {
   "cell_type": "code",
   "execution_count": 104,
   "id": "3852d3ac-6a08-473c-8244-545bf29aaaed",
   "metadata": {},
   "outputs": [
    {
     "data": {
      "text/plain": [
       "[10]"
      ]
     },
     "execution_count": 104,
     "metadata": {},
     "output_type": "execute_result"
    }
   ],
   "source": [
    "produce_list(10)"
   ]
  }
 ],
 "metadata": {
  "kernelspec": {
   "display_name": "Python 3 (ipykernel)",
   "language": "python",
   "name": "python3"
  },
  "language_info": {
   "codemirror_mode": {
    "name": "ipython",
    "version": 3
   },
   "file_extension": ".py",
   "mimetype": "text/x-python",
   "name": "python",
   "nbconvert_exporter": "python",
   "pygments_lexer": "ipython3",
   "version": "3.10.0"
  }
 },
 "nbformat": 4,
 "nbformat_minor": 5
}
