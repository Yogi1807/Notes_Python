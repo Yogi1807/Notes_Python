{
 "cells": [
  {
   "cell_type": "code",
   "execution_count": null,
   "id": "8bd69145-bff9-4e72-afe5-7f857851c0d3",
   "metadata": {},
   "outputs": [],
   "source": [
    "Cars\n",
    "\n",
    "    - SedanCar\n",
    "    \n",
    "    - HatchbackCar"
   ]
  },
  {
   "cell_type": "markdown",
   "id": "c06c87c1-8ed9-4be7-8320-060ffbb49285",
   "metadata": {},
   "source": [
    "# NOTE\n",
    "\n",
    "- object is parent of every class if no parent class is specified\n",
    "- object is a default parent"
   ]
  },
  {
   "cell_type": "markdown",
   "id": "10cdf692-f10a-4ad0-b360-6d212a0ad55a",
   "metadata": {},
   "source": [
    "### syntax of class\n",
    "\n",
    "```\n",
    "class <class-name>(parent-class):\n",
    "\n",
    "    attr1 = \"\"\n",
    "    attr2 = []\n",
    "    \n",
    "    \n",
    "    # constructor\n",
    "    def __init__(self, param1, param2):\n",
    "        self.param1 = param1    # instance attributes\n",
    "        self.param2 = param2\n",
    "      \n",
    "    # instance method\n",
    "    def method1(self):\n",
    "        return self.param1 + self.param2\n",
    "    \n",
    "       \n",
    "``"
   ]
  },
  {
   "cell_type": "code",
   "execution_count": 2,
   "id": "6fc52dd5-eccb-4dbe-bb1d-ad3138c2ef33",
   "metadata": {},
   "outputs": [],
   "source": [
    "class Robot:\n",
    "    name = \"Jarvis\"  # class attribute\n",
    "    size = 100   # class attribute"
   ]
  },
  {
   "cell_type": "code",
   "execution_count": 4,
   "id": "3451a812-233f-412f-9bf5-675ae45f485e",
   "metadata": {},
   "outputs": [
    {
     "data": {
      "text/plain": [
       "['__class__',\n",
       " '__delattr__',\n",
       " '__dict__',\n",
       " '__dir__',\n",
       " '__doc__',\n",
       " '__eq__',\n",
       " '__format__',\n",
       " '__ge__',\n",
       " '__getattribute__',\n",
       " '__gt__',\n",
       " '__hash__',\n",
       " '__init__',\n",
       " '__init_subclass__',\n",
       " '__le__',\n",
       " '__lt__',\n",
       " '__module__',\n",
       " '__ne__',\n",
       " '__new__',\n",
       " '__reduce__',\n",
       " '__reduce_ex__',\n",
       " '__repr__',\n",
       " '__setattr__',\n",
       " '__sizeof__',\n",
       " '__str__',\n",
       " '__subclasshook__',\n",
       " '__weakref__',\n",
       " 'name',\n",
       " 'size']"
      ]
     },
     "execution_count": 4,
     "metadata": {},
     "output_type": "execute_result"
    }
   ],
   "source": [
    "dir(Robot)"
   ]
  },
  {
   "cell_type": "code",
   "execution_count": null,
   "id": "eb194f05-014d-4b19-b2fc-e8e3fdf9058e",
   "metadata": {},
   "outputs": [],
   "source": [
    "class Robot(object):\n",
    "    name = \"Jarvis\"  # class attribute\n",
    "    size = 100   # class attribute"
   ]
  },
  {
   "cell_type": "code",
   "execution_count": 5,
   "id": "2470810c-3f68-4d0d-81e7-3b5b2de0855c",
   "metadata": {},
   "outputs": [
    {
     "data": {
      "text/plain": [
       "['__class__',\n",
       " '__delattr__',\n",
       " '__dir__',\n",
       " '__doc__',\n",
       " '__eq__',\n",
       " '__format__',\n",
       " '__ge__',\n",
       " '__getattribute__',\n",
       " '__gt__',\n",
       " '__hash__',\n",
       " '__init__',\n",
       " '__init_subclass__',\n",
       " '__le__',\n",
       " '__lt__',\n",
       " '__ne__',\n",
       " '__new__',\n",
       " '__reduce__',\n",
       " '__reduce_ex__',\n",
       " '__repr__',\n",
       " '__setattr__',\n",
       " '__sizeof__',\n",
       " '__str__',\n",
       " '__subclasshook__']"
      ]
     },
     "execution_count": 5,
     "metadata": {},
     "output_type": "execute_result"
    }
   ],
   "source": [
    "class Object:\n",
    "    def __init__(self):\n",
    "        pass"
   ]
  },
  {
   "cell_type": "code",
   "execution_count": 7,
   "id": "b5293afb-c4a7-44bb-be89-0e70ceb243a8",
   "metadata": {},
   "outputs": [],
   "source": [
    "class Cars:\n",
    "    \n",
    "    wheels = 4\n",
    "    capacity = 5"
   ]
  },
  {
   "cell_type": "code",
   "execution_count": 8,
   "id": "432cb353-8ae2-40cd-9794-e9c19b0b04dc",
   "metadata": {},
   "outputs": [],
   "source": [
    "class SedanCar(Cars):\n",
    "    pass"
   ]
  },
  {
   "cell_type": "code",
   "execution_count": 9,
   "id": "e7a4e4d4-e673-416f-9b28-7fa827fa23ca",
   "metadata": {},
   "outputs": [
    {
     "data": {
      "text/plain": [
       "['__class__',\n",
       " '__delattr__',\n",
       " '__dict__',\n",
       " '__dir__',\n",
       " '__doc__',\n",
       " '__eq__',\n",
       " '__format__',\n",
       " '__ge__',\n",
       " '__getattribute__',\n",
       " '__gt__',\n",
       " '__hash__',\n",
       " '__init__',\n",
       " '__init_subclass__',\n",
       " '__le__',\n",
       " '__lt__',\n",
       " '__module__',\n",
       " '__ne__',\n",
       " '__new__',\n",
       " '__reduce__',\n",
       " '__reduce_ex__',\n",
       " '__repr__',\n",
       " '__setattr__',\n",
       " '__sizeof__',\n",
       " '__str__',\n",
       " '__subclasshook__',\n",
       " '__weakref__',\n",
       " 'capacity',\n",
       " 'wheels']"
      ]
     },
     "execution_count": 9,
     "metadata": {},
     "output_type": "execute_result"
    }
   ],
   "source": [
    "dir(SedanCar)"
   ]
  },
  {
   "cell_type": "markdown",
   "id": "5f21e768",
   "metadata": {},
   "source": [
    "## `special methods` in classes\n",
    "\n",
    "- Special methods are also known as `magic methods`\n",
    "\n",
    "- Examples of special methods - `__init__`, `__str__`, `__repr__`, `__del__`\n",
    "\n",
    "    "
   ]
  },
  {
   "cell_type": "markdown",
   "id": "3fa10a2b",
   "metadata": {},
   "source": [
    "\n"
   ]
  },
  {
   "cell_type": "code",
   "execution_count": null,
   "id": "f31bdd7b",
   "metadata": {},
   "outputs": [],
   "source": [
    "class SavingAccount:\n",
    "    minimum_balance = 10000\n",
    "    interest_rate = 4\n",
    "    \n",
    "    def __init__(self, )\n",
    "    \n",
    "    \n",
    "    "
   ]
  },
  {
   "cell_type": "code",
   "execution_count": null,
   "id": "f735e698",
   "metadata": {},
   "outputs": [],
   "source": [
    "class Teacher(object):\n",
    "    pass"
   ]
  }
 ],
 "metadata": {
  "kernelspec": {
   "display_name": "Python 3 (ipykernel)",
   "language": "python",
   "name": "python3"
  },
  "language_info": {
   "codemirror_mode": {
    "name": "ipython",
    "version": 3
   },
   "file_extension": ".py",
   "mimetype": "text/x-python",
   "name": "python",
   "nbconvert_exporter": "python",
   "pygments_lexer": "ipython3",
   "version": "3.10.0"
  }
 },
 "nbformat": 4,
 "nbformat_minor": 5
}
