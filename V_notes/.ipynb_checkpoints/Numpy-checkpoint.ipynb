{
 "cells": [
  {
   "cell_type": "code",
   "execution_count": null,
   "id": "bb965dc8",
   "metadata": {},
   "outputs": [],
   "source": [
    "Numpy >> Numerical python"
   ]
  },
  {
   "cell_type": "code",
   "execution_count": null,
   "id": "fd954fdb",
   "metadata": {},
   "outputs": [],
   "source": [
    "Application:\n",
    "    1.Linear Algebra\n",
    "    2.Statistics\n",
    "    3.Triginometry\n",
    "    4.matrix Calculation\n",
    "    5.Image processing\n",
    "    6.Loga"
   ]
  },
  {
   "cell_type": "markdown",
   "id": "f6d02263",
   "metadata": {},
   "source": [
    "# Numpy Properties"
   ]
  },
  {
   "cell_type": "code",
   "execution_count": null,
   "id": "4830e329",
   "metadata": {},
   "outputs": [],
   "source": [
    "1.It is the collection of homogenoues datatype\n",
    "2.Numpy is faster than list\n",
    "3.Numpy is written in c and C++ (Partilly written)\n",
    "4.C laguage is faster than python\n",
    "\n",
    "\n",
    "Datatype >>numpy.ndarray>> n-Dimentional array"
   ]
  },
  {
   "cell_type": "code",
   "execution_count": 3,
   "id": "3c2f98f7",
   "metadata": {},
   "outputs": [
    {
     "data": {
      "text/plain": [
       "[1, 2, 3, 4, 'python']"
      ]
     },
     "execution_count": 3,
     "metadata": {},
     "output_type": "execute_result"
    }
   ],
   "source": [
    "list1 = [1,2,3,4,\"python\"]\n",
    "list1"
   ]
  },
  {
   "cell_type": "code",
   "execution_count": 4,
   "id": "dad73157",
   "metadata": {},
   "outputs": [
    {
     "data": {
      "text/plain": [
       "list"
      ]
     },
     "execution_count": 4,
     "metadata": {},
     "output_type": "execute_result"
    }
   ],
   "source": [
    "type(list1)"
   ]
  },
  {
   "cell_type": "code",
   "execution_count": 5,
   "id": "966ab4b6",
   "metadata": {},
   "outputs": [],
   "source": [
    "import numpy as np"
   ]
  },
  {
   "cell_type": "code",
   "execution_count": 43,
   "id": "200bf4d7",
   "metadata": {},
   "outputs": [],
   "source": [
    "array1 = np.array([1,2,3,4])"
   ]
  },
  {
   "cell_type": "code",
   "execution_count": 44,
   "id": "12b64f0a",
   "metadata": {},
   "outputs": [
    {
     "data": {
      "text/plain": [
       "array([1, 2, 3, 4])"
      ]
     },
     "execution_count": 44,
     "metadata": {},
     "output_type": "execute_result"
    }
   ],
   "source": [
    "array1"
   ]
  },
  {
   "cell_type": "code",
   "execution_count": 45,
   "id": "41310e43",
   "metadata": {},
   "outputs": [
    {
     "name": "stdout",
     "output_type": "stream",
     "text": [
      "[1 2 3 4]\n"
     ]
    }
   ],
   "source": [
    "print(array1)"
   ]
  },
  {
   "cell_type": "code",
   "execution_count": 46,
   "id": "c8775432",
   "metadata": {},
   "outputs": [
    {
     "data": {
      "text/plain": [
       "numpy.ndarray"
      ]
     },
     "execution_count": 46,
     "metadata": {},
     "output_type": "execute_result"
    }
   ],
   "source": [
    "type(array1)"
   ]
  },
  {
   "cell_type": "code",
   "execution_count": 9,
   "id": "661b151c",
   "metadata": {},
   "outputs": [
    {
     "data": {
      "text/plain": [
       "numpy.ndarray"
      ]
     },
     "execution_count": 9,
     "metadata": {},
     "output_type": "execute_result"
    }
   ],
   "source": [
    "array1 = np.array([1,2,3,4,\"6\"])\n",
    "type(array1)"
   ]
  },
  {
   "cell_type": "code",
   "execution_count": 10,
   "id": "0232e854",
   "metadata": {},
   "outputs": [
    {
     "data": {
      "text/plain": [
       "array(['1', '2', '3', '4', '6'], dtype='<U11')"
      ]
     },
     "execution_count": 10,
     "metadata": {},
     "output_type": "execute_result"
    }
   ],
   "source": [
    "\n",
    "array1"
   ]
  },
  {
   "cell_type": "code",
   "execution_count": 11,
   "id": "4e4cf28f",
   "metadata": {},
   "outputs": [
    {
     "data": {
      "text/plain": [
       "array([1. , 2. , 3. , 4. , 6.5])"
      ]
     },
     "execution_count": 11,
     "metadata": {},
     "output_type": "execute_result"
    }
   ],
   "source": [
    "array1 = np.array([1,2,3,4,6.5])\n",
    "array1"
   ]
  },
  {
   "cell_type": "code",
   "execution_count": 12,
   "id": "18c813fc",
   "metadata": {},
   "outputs": [
    {
     "data": {
      "text/plain": [
       "array([1.+0.j, 2.+0.j, 3.+0.j, 4.+0.j, 6.+4.j])"
      ]
     },
     "execution_count": 12,
     "metadata": {},
     "output_type": "execute_result"
    }
   ],
   "source": [
    "array1 = np.array([1,2,3,4,6+4j])\n",
    "array1"
   ]
  },
  {
   "cell_type": "code",
   "execution_count": 13,
   "id": "641a027a",
   "metadata": {},
   "outputs": [
    {
     "data": {
      "text/plain": [
       "array(['1', '2', '3', '4', '(6+4j)'], dtype='<U64')"
      ]
     },
     "execution_count": 13,
     "metadata": {},
     "output_type": "execute_result"
    }
   ],
   "source": [
    "array1 = np.array([1,'2',3,4,6+4j])\n",
    "array1"
   ]
  },
  {
   "cell_type": "code",
   "execution_count": 14,
   "id": "f6167c94",
   "metadata": {},
   "outputs": [
    {
     "data": {
      "text/plain": [
       "3"
      ]
     },
     "execution_count": 14,
     "metadata": {},
     "output_type": "execute_result"
    }
   ],
   "source": [
    "1+2"
   ]
  },
  {
   "cell_type": "code",
   "execution_count": 15,
   "id": "bf589eb1",
   "metadata": {},
   "outputs": [
    {
     "data": {
      "text/plain": [
       "'12'"
      ]
     },
     "execution_count": 15,
     "metadata": {},
     "output_type": "execute_result"
    }
   ],
   "source": [
    "\"1\"+\"2\""
   ]
  },
  {
   "cell_type": "markdown",
   "id": "fd4c1722",
   "metadata": {},
   "source": [
    "# Type casting in Numpy"
   ]
  },
  {
   "cell_type": "code",
   "execution_count": 17,
   "id": "13da5997",
   "metadata": {},
   "outputs": [
    {
     "data": {
      "text/plain": [
       "array([1, 2, 3, 4, 6])"
      ]
     },
     "execution_count": 17,
     "metadata": {},
     "output_type": "execute_result"
    }
   ],
   "source": [
    "array1 = np.array([1,2,3,4,6.5],dtype = \"int\")\n",
    "array1"
   ]
  },
  {
   "cell_type": "code",
   "execution_count": 18,
   "id": "4fe4b227",
   "metadata": {},
   "outputs": [
    {
     "data": {
      "text/plain": [
       "array([1., 2., 3., 4., 6., 5.])"
      ]
     },
     "execution_count": 18,
     "metadata": {},
     "output_type": "execute_result"
    }
   ],
   "source": [
    "array1 = np.array([1,2,3,4,6,5],dtype = \"float\")\n",
    "array1"
   ]
  },
  {
   "cell_type": "code",
   "execution_count": 19,
   "id": "a59c4b46",
   "metadata": {},
   "outputs": [
    {
     "data": {
      "text/plain": [
       "array([1., 2., 3., 4., 6., 5.])"
      ]
     },
     "execution_count": 19,
     "metadata": {},
     "output_type": "execute_result"
    }
   ],
   "source": [
    "array1 = np.array([1,2,3,4,6,5],dtype = float)\n",
    "array1"
   ]
  },
  {
   "cell_type": "code",
   "execution_count": 20,
   "id": "636590c6",
   "metadata": {},
   "outputs": [
    {
     "data": {
      "text/plain": [
       "array([1.+0.j, 2.+0.j, 3.+0.j, 4.+0.j, 6.+0.j, 5.+0.j])"
      ]
     },
     "execution_count": 20,
     "metadata": {},
     "output_type": "execute_result"
    }
   ],
   "source": [
    "array1 = np.array([1,2,3,4,6,5],dtype = \"complex\")\n",
    "array1"
   ]
  },
  {
   "cell_type": "code",
   "execution_count": null,
   "id": "92fe63a2",
   "metadata": {},
   "outputs": [],
   "source": []
  },
  {
   "cell_type": "code",
   "execution_count": 21,
   "id": "4bb24289",
   "metadata": {},
   "outputs": [
    {
     "data": {
      "text/plain": [
       "array([1.+0.j, 2.+0.j, 3.+0.j, 4.+0.j, 6.+0.j, 5.+2.j])"
      ]
     },
     "execution_count": 21,
     "metadata": {},
     "output_type": "execute_result"
    }
   ],
   "source": [
    "array1 = np.array([1,2,3,4,6,5+2j])\n",
    "array1"
   ]
  },
  {
   "cell_type": "code",
   "execution_count": 31,
   "id": "396ff853",
   "metadata": {},
   "outputs": [
    {
     "ename": "TypeError",
     "evalue": "can't convert complex to float",
     "output_type": "error",
     "traceback": [
      "\u001b[1;31m---------------------------------------------------------------------------\u001b[0m",
      "\u001b[1;31mTypeError\u001b[0m                                 Traceback (most recent call last)",
      "\u001b[1;32m<ipython-input-31-6d3b3cf0208d>\u001b[0m in \u001b[0;36m<module>\u001b[1;34m\u001b[0m\n\u001b[1;32m----> 1\u001b[1;33m \u001b[0marray1\u001b[0m \u001b[1;33m=\u001b[0m \u001b[0mnp\u001b[0m\u001b[1;33m.\u001b[0m\u001b[0marray\u001b[0m\u001b[1;33m(\u001b[0m\u001b[1;33m[\u001b[0m\u001b[1;36m1\u001b[0m\u001b[1;33m,\u001b[0m\u001b[1;36m2\u001b[0m\u001b[1;33m,\u001b[0m\u001b[1;36m3\u001b[0m\u001b[1;33m,\u001b[0m\u001b[1;36m4\u001b[0m\u001b[1;33m,\u001b[0m\u001b[1;36m6\u001b[0m\u001b[1;33m,\u001b[0m\u001b[1;36m5\u001b[0m\u001b[1;33m+\u001b[0m\u001b[1;36m2j\u001b[0m\u001b[1;33m]\u001b[0m\u001b[1;33m,\u001b[0m\u001b[0mdtype\u001b[0m \u001b[1;33m=\u001b[0m \u001b[1;34m\"float\"\u001b[0m\u001b[1;33m)\u001b[0m\u001b[1;33m\u001b[0m\u001b[1;33m\u001b[0m\u001b[0m\n\u001b[0m\u001b[0;32m      2\u001b[0m \u001b[0marray1\u001b[0m\u001b[1;33m\u001b[0m\u001b[1;33m\u001b[0m\u001b[0m\n",
      "\u001b[1;31mTypeError\u001b[0m: can't convert complex to float"
     ]
    }
   ],
   "source": [
    "array1 = np.array([1,2,3,4,6,5+2j],dtype = \"float\")\n",
    "array1"
   ]
  },
  {
   "cell_type": "code",
   "execution_count": 22,
   "id": "4dd5d69e",
   "metadata": {},
   "outputs": [
    {
     "data": {
      "text/plain": [
       "10.0"
      ]
     },
     "execution_count": 22,
     "metadata": {},
     "output_type": "execute_result"
    }
   ],
   "source": [
    "a= 10\n",
    "float(a)"
   ]
  },
  {
   "cell_type": "code",
   "execution_count": 25,
   "id": "317e8de1",
   "metadata": {},
   "outputs": [
    {
     "ename": "TypeError",
     "evalue": "can't convert complex to float",
     "output_type": "error",
     "traceback": [
      "\u001b[1;31m---------------------------------------------------------------------------\u001b[0m",
      "\u001b[1;31mTypeError\u001b[0m                                 Traceback (most recent call last)",
      "\u001b[1;32m<ipython-input-25-4aae2d6a0913>\u001b[0m in \u001b[0;36m<module>\u001b[1;34m\u001b[0m\n\u001b[0;32m      1\u001b[0m \u001b[0ma\u001b[0m\u001b[1;33m=\u001b[0m \u001b[1;36m10.3\u001b[0m\u001b[1;33m+\u001b[0m\u001b[1;36m5j\u001b[0m\u001b[1;33m\u001b[0m\u001b[1;33m\u001b[0m\u001b[0m\n\u001b[1;32m----> 2\u001b[1;33m \u001b[0mfloat\u001b[0m\u001b[1;33m(\u001b[0m\u001b[0ma\u001b[0m\u001b[1;33m)\u001b[0m\u001b[1;33m\u001b[0m\u001b[1;33m\u001b[0m\u001b[0m\n\u001b[0m",
      "\u001b[1;31mTypeError\u001b[0m: can't convert complex to float"
     ]
    }
   ],
   "source": [
    "a= 10.3+5j\n",
    "float(a)"
   ]
  },
  {
   "cell_type": "code",
   "execution_count": 30,
   "id": "74010ec7",
   "metadata": {},
   "outputs": [
    {
     "name": "stdout",
     "output_type": "stream",
     "text": [
      "20\n"
     ]
    }
   ],
   "source": [
    "print(a)"
   ]
  },
  {
   "cell_type": "code",
   "execution_count": 29,
   "id": "417d45fd",
   "metadata": {},
   "outputs": [
    {
     "ename": "NameError",
     "evalue": "name 'b' is not defined",
     "output_type": "error",
     "traceback": [
      "\u001b[1;31m---------------------------------------------------------------------------\u001b[0m",
      "\u001b[1;31mNameError\u001b[0m                                 Traceback (most recent call last)",
      "\u001b[1;32m<ipython-input-29-9fe182de625c>\u001b[0m in \u001b[0;36m<module>\u001b[1;34m\u001b[0m\n\u001b[1;32m----> 1\u001b[1;33m \u001b[0mprint\u001b[0m\u001b[1;33m(\u001b[0m\u001b[0mb\u001b[0m\u001b[1;33m)\u001b[0m\u001b[1;33m\u001b[0m\u001b[1;33m\u001b[0m\u001b[0m\n\u001b[0m\u001b[0;32m      2\u001b[0m \u001b[0mb\u001b[0m\u001b[1;33m=\u001b[0m\u001b[1;36m10\u001b[0m\u001b[1;33m\u001b[0m\u001b[1;33m\u001b[0m\u001b[0m\n",
      "\u001b[1;31mNameError\u001b[0m: name 'b' is not defined"
     ]
    }
   ],
   "source": [
    "print(b)\n",
    "b=10"
   ]
  },
  {
   "cell_type": "code",
   "execution_count": 26,
   "id": "6aee8812",
   "metadata": {},
   "outputs": [
    {
     "name": "stdout",
     "output_type": "stream",
     "text": [
      "10\n"
     ]
    }
   ],
   "source": [
    "a= 10\n",
    "print(a)\n",
    "a=20\n",
    "print(a)"
   ]
  },
  {
   "cell_type": "code",
   "execution_count": 27,
   "id": "ee9bff38",
   "metadata": {},
   "outputs": [
    {
     "name": "stdout",
     "output_type": "stream",
     "text": [
      "10\n",
      "20\n"
     ]
    }
   ],
   "source": [
    "a= 10\n",
    "print(a)\n",
    "a=20\n",
    "print(a)"
   ]
  },
  {
   "cell_type": "code",
   "execution_count": 28,
   "id": "8f292935",
   "metadata": {},
   "outputs": [
    {
     "name": "stdout",
     "output_type": "stream",
     "text": [
      "20\n"
     ]
    }
   ],
   "source": [
    "print(a)"
   ]
  },
  {
   "cell_type": "markdown",
   "id": "01dd690c",
   "metadata": {},
   "source": [
    "# Dimensions in array"
   ]
  },
  {
   "cell_type": "markdown",
   "id": "0084314b",
   "metadata": {},
   "source": [
    "# 1.0-D array"
   ]
  },
  {
   "cell_type": "code",
   "execution_count": 32,
   "id": "eec2d583",
   "metadata": {},
   "outputs": [
    {
     "data": {
      "text/plain": [
       "array(30)"
      ]
     },
     "execution_count": 32,
     "metadata": {},
     "output_type": "execute_result"
    }
   ],
   "source": [
    "array0 = np.array(30)\n",
    "array0"
   ]
  },
  {
   "cell_type": "code",
   "execution_count": 33,
   "id": "2428b932",
   "metadata": {},
   "outputs": [
    {
     "data": {
      "text/plain": [
       "numpy.ndarray"
      ]
     },
     "execution_count": 33,
     "metadata": {},
     "output_type": "execute_result"
    }
   ],
   "source": [
    "type(array0)"
   ]
  },
  {
   "cell_type": "code",
   "execution_count": 34,
   "id": "9330b55a",
   "metadata": {},
   "outputs": [
    {
     "data": {
      "text/plain": [
       "0"
      ]
     },
     "execution_count": 34,
     "metadata": {},
     "output_type": "execute_result"
    }
   ],
   "source": [
    "array0.ndim"
   ]
  },
  {
   "cell_type": "code",
   "execution_count": 35,
   "id": "81f42097",
   "metadata": {},
   "outputs": [
    {
     "name": "stdout",
     "output_type": "stream",
     "text": [
      "Number of dimension of an array: 0\n"
     ]
    }
   ],
   "source": [
    "array0 = np.array(50)\n",
    "array0\n",
    "print(\"Number of dimension of an array:\",array0.ndim)"
   ]
  },
  {
   "cell_type": "markdown",
   "id": "eb1253a6",
   "metadata": {},
   "source": [
    "# 1- D array"
   ]
  },
  {
   "cell_type": "code",
   "execution_count": null,
   "id": "8dbca6df",
   "metadata": {},
   "outputs": [],
   "source": [
    "It is collection of multiple 0-Dimensional array"
   ]
  },
  {
   "cell_type": "code",
   "execution_count": 36,
   "id": "18a3e1e9",
   "metadata": {},
   "outputs": [
    {
     "data": {
      "text/plain": [
       "array([30])"
      ]
     },
     "execution_count": 36,
     "metadata": {},
     "output_type": "execute_result"
    }
   ],
   "source": [
    "array1 = np.array([30])\n",
    "array1"
   ]
  },
  {
   "cell_type": "code",
   "execution_count": 37,
   "id": "9581be40",
   "metadata": {},
   "outputs": [
    {
     "name": "stdout",
     "output_type": "stream",
     "text": [
      "Number of dimension of an array: 1\n"
     ]
    }
   ],
   "source": [
    "print(\"Number of dimension of an array:\",array1.ndim)"
   ]
  },
  {
   "cell_type": "code",
   "execution_count": 38,
   "id": "b0d8eb95",
   "metadata": {},
   "outputs": [
    {
     "data": {
      "text/plain": [
       "array([30, 19])"
      ]
     },
     "execution_count": 38,
     "metadata": {},
     "output_type": "execute_result"
    }
   ],
   "source": [
    "array1 = np.array([30,19])\n",
    "array1"
   ]
  },
  {
   "cell_type": "code",
   "execution_count": 39,
   "id": "884e68b1",
   "metadata": {},
   "outputs": [
    {
     "name": "stdout",
     "output_type": "stream",
     "text": [
      "Number of dimension of an array: 1\n"
     ]
    }
   ],
   "source": [
    "print(\"Number of dimension of an array:\",array1.ndim)"
   ]
  },
  {
   "cell_type": "code",
   "execution_count": 40,
   "id": "1be0c58c",
   "metadata": {},
   "outputs": [
    {
     "name": "stdout",
     "output_type": "stream",
     "text": [
      "Number of dimension of an array: 1\n"
     ]
    }
   ],
   "source": [
    "array1 = np.array([30,19,39,4,2,4,56,3])\n",
    "print(\"Number of dimension of an array:\",array1.ndim)"
   ]
  },
  {
   "cell_type": "code",
   "execution_count": 42,
   "id": "12d8006f",
   "metadata": {},
   "outputs": [
    {
     "name": "stdout",
     "output_type": "stream",
     "text": [
      "[30 19 39  4  2  4 56  3]\n",
      "Number of dimension of an array: 1\n"
     ]
    }
   ],
   "source": [
    "array1 = np.array((30,19,39,4,2,4,56,3))\n",
    "print(array1)\n",
    "print(\"Number of dimension of an array:\",array1.ndim)"
   ]
  },
  {
   "cell_type": "code",
   "execution_count": 51,
   "id": "1305a49f",
   "metadata": {},
   "outputs": [
    {
     "data": {
      "text/plain": [
       "tuple"
      ]
     },
     "execution_count": 51,
     "metadata": {},
     "output_type": "execute_result"
    }
   ],
   "source": [
    "a=(30,)\n",
    "type(a)"
   ]
  },
  {
   "cell_type": "code",
   "execution_count": 47,
   "id": "ef49cbe6",
   "metadata": {},
   "outputs": [
    {
     "name": "stdout",
     "output_type": "stream",
     "text": [
      "30\n",
      "Number of dimension of an array: 0\n"
     ]
    }
   ],
   "source": [
    "array1 = np.array((30))# np.array(30)\n",
    "print(array1)\n",
    "print(\"Number of dimension of an array:\",array1.ndim)"
   ]
  },
  {
   "cell_type": "code",
   "execution_count": 53,
   "id": "97ae68a3",
   "metadata": {},
   "outputs": [
    {
     "name": "stdout",
     "output_type": "stream",
     "text": [
      "[30]\n",
      "Number of dimension of an array: 1\n"
     ]
    }
   ],
   "source": [
    "array1 = np.array((30,))\n",
    "print(array1)\n",
    "print(\"Number of dimension of an array:\",array1.ndim)"
   ]
  },
  {
   "cell_type": "code",
   "execution_count": 52,
   "id": "98db4f1e",
   "metadata": {},
   "outputs": [
    {
     "name": "stdout",
     "output_type": "stream",
     "text": [
      "[30]\n",
      "Number of dimension of an array: 1\n"
     ]
    }
   ],
   "source": [
    "array1 = np.array([30])\n",
    "print(array1)\n",
    "print(\"Number of dimension of an array:\",array1.ndim)"
   ]
  },
  {
   "cell_type": "markdown",
   "id": "cb61d4fa",
   "metadata": {},
   "source": [
    "# 3. 2-D array"
   ]
  },
  {
   "cell_type": "code",
   "execution_count": null,
   "id": "cfdc3e49",
   "metadata": {},
   "outputs": [],
   "source": [
    "It is collection of multiple 1 Dimensional array"
   ]
  },
  {
   "cell_type": "code",
   "execution_count": 55,
   "id": "b300dd2c",
   "metadata": {},
   "outputs": [
    {
     "name": "stdout",
     "output_type": "stream",
     "text": [
      "[[30 38]]\n",
      "Number of dimension of an array: 2\n"
     ]
    }
   ],
   "source": [
    "array1 = np.array([[30,38]])\n",
    "print(array1)\n",
    "print(\"Number of dimension of an array:\",array1.ndim)"
   ]
  },
  {
   "cell_type": "code",
   "execution_count": 56,
   "id": "62efe67d",
   "metadata": {},
   "outputs": [
    {
     "name": "stdout",
     "output_type": "stream",
     "text": [
      "[[30 38]\n",
      " [ 1  2]]\n",
      "Number of dimension of an array: 2\n"
     ]
    }
   ],
   "source": [
    "array1 = np.array([[30,38],[1,2]])\n",
    "print(array1)\n",
    "print(\"Number of dimension of an array:\",array1.ndim)"
   ]
  },
  {
   "cell_type": "code",
   "execution_count": 57,
   "id": "1deb5b4f",
   "metadata": {},
   "outputs": [
    {
     "name": "stdout",
     "output_type": "stream",
     "text": [
      "[[30 38]\n",
      " [ 1  2]\n",
      " [ 4  5]]\n",
      "Number of dimension of an array: 2\n"
     ]
    }
   ],
   "source": [
    "array1 = np.array([[30,38],[1,2],[4,5]])\n",
    "print(array1)\n",
    "print(\"Number of dimension of an array:\",array1.ndim)"
   ]
  },
  {
   "cell_type": "code",
   "execution_count": 58,
   "id": "2bb648b7",
   "metadata": {},
   "outputs": [
    {
     "name": "stdout",
     "output_type": "stream",
     "text": [
      "[list([30, 38]) list([1, 2]) list([4, 5, 5])]\n",
      "Number of dimension of an array: 1\n"
     ]
    },
    {
     "name": "stderr",
     "output_type": "stream",
     "text": [
      "<ipython-input-58-1e2bd6eeaa68>:1: VisibleDeprecationWarning: Creating an ndarray from ragged nested sequences (which is a list-or-tuple of lists-or-tuples-or ndarrays with different lengths or shapes) is deprecated. If you meant to do this, you must specify 'dtype=object' when creating the ndarray.\n",
      "  array1 = np.array([[30,38],[1,2],[4,5,5]])\n"
     ]
    }
   ],
   "source": [
    "array1 = np.array([[30,38],[1,2],[4,5,5]])\n",
    "print(array1)\n",
    "print(\"Number of dimension of an array:\",array1.ndim)"
   ]
  },
  {
   "cell_type": "markdown",
   "id": "71d5687a",
   "metadata": {},
   "source": [
    "# 3-D array"
   ]
  },
  {
   "cell_type": "code",
   "execution_count": null,
   "id": "dbb8a15f",
   "metadata": {},
   "outputs": [],
   "source": [
    "It is collection of multiple 2-D array"
   ]
  },
  {
   "cell_type": "code",
   "execution_count": 59,
   "id": "7628f9f0",
   "metadata": {},
   "outputs": [
    {
     "name": "stdout",
     "output_type": "stream",
     "text": [
      "[[[30 38]\n",
      "  [ 1  2]\n",
      "  [ 4  5]]]\n",
      "Number of dimension of an array: 3\n"
     ]
    }
   ],
   "source": [
    "array1 = np.array([[[30,38],[1,2],[4,5]]])\n",
    "print(array1)\n",
    "print(\"Number of dimension of an array:\",array1.ndim)"
   ]
  },
  {
   "cell_type": "code",
   "execution_count": null,
   "id": "6dec0702",
   "metadata": {},
   "outputs": [],
   "source": []
  }
 ],
 "metadata": {
  "kernelspec": {
   "display_name": "Python 3",
   "language": "python",
   "name": "python3"
  },
  "language_info": {
   "codemirror_mode": {
    "name": "ipython",
    "version": 3
   },
   "file_extension": ".py",
   "mimetype": "text/x-python",
   "name": "python",
   "nbconvert_exporter": "python",
   "pygments_lexer": "ipython3",
   "version": "3.8.8"
  }
 },
 "nbformat": 4,
 "nbformat_minor": 5
}
