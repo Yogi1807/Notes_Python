{
 "cells": [
  {
   "cell_type": "markdown",
   "id": "bcbd4bd5",
   "metadata": {},
   "source": [
    "Write a Python program to take input from user and make a list. Again take second\n",
    "input (element2) from user and find index of the element2 in the created list."
   ]
  },
  {
   "cell_type": "code",
   "execution_count": 4,
   "id": "d6b2d29b",
   "metadata": {},
   "outputs": [
    {
     "name": "stdout",
     "output_type": "stream",
     "text": [
      "please enter values : prashant\n",
      "please enter character : h\n"
     ]
    },
    {
     "data": {
      "text/plain": [
       "4"
      ]
     },
     "execution_count": 4,
     "metadata": {},
     "output_type": "execute_result"
    }
   ],
   "source": [
    "input1 = input(\"please enter values : \")\n",
    "input2 = input(\"please enter character : \")\n",
    "\n",
    "input1 = list(input1)\n",
    "\n",
    "input1.index(input2)"
   ]
  },
  {
   "cell_type": "code",
   "execution_count": 3,
   "id": "3b64d746",
   "metadata": {},
   "outputs": [
    {
     "data": {
      "text/plain": [
       "['p', 'r', 'a', 's', 'h', 'a', 'n', 't']"
      ]
     },
     "execution_count": 3,
     "metadata": {},
     "output_type": "execute_result"
    }
   ],
   "source": [
    "foo = list(\"prashant\")\n",
    "foo"
   ]
  },
  {
   "cell_type": "code",
   "execution_count": null,
   "id": "bf0ae593",
   "metadata": {},
   "outputs": [],
   "source": [
    "dir()"
   ]
  },
  {
   "cell_type": "markdown",
   "id": "da163ca8",
   "metadata": {},
   "source": [
    "Question 17: Write a Python program to find common items between 2 lists"
   ]
  },
  {
   "cell_type": "code",
   "execution_count": 5,
   "id": "8e8d95b8",
   "metadata": {},
   "outputs": [
    {
     "name": "stdout",
     "output_type": "stream",
     "text": [
      "[4, 5]\n"
     ]
    }
   ],
   "source": [
    "foo = [1, 2, 3, 4, 5]\n",
    "bar = [4, 5, 6, 7]\n",
    "\n",
    "# set function\n",
    "# for loop\n",
    "\n",
    "\n",
    "size_foo = len(foo)\n",
    "\n",
    "commons = []\n",
    "\n",
    "i = 0\n",
    "while i < size_foo:\n",
    "    if foo[i] in bar:\n",
    "        commons.append(foo[i])\n",
    "    i += 1\n",
    "\n",
    "print(commons)\n",
    "\n"
   ]
  },
  {
   "cell_type": "markdown",
   "id": "0c633487",
   "metadata": {},
   "source": [
    "Question 12: Write a Python program to find third largest element in the list (only use indexing /\n",
    "slicing)."
   ]
  },
  {
   "cell_type": "code",
   "execution_count": 7,
   "id": "2f638793",
   "metadata": {},
   "outputs": [
    {
     "name": "stdout",
     "output_type": "stream",
     "text": [
      "[2, 6, 12, 31, 45, 45, 70, 90]\n"
     ]
    },
    {
     "data": {
      "text/plain": [
       "45"
      ]
     },
     "execution_count": 7,
     "metadata": {},
     "output_type": "execute_result"
    }
   ],
   "source": [
    "foo = [12, 45, 45, 70, 31, 2, 6, 90]\n",
    "\n",
    "foo.sort()\n",
    "print(foo)\n",
    "foo[-3]"
   ]
  },
  {
   "cell_type": "code",
   "execution_count": 8,
   "id": "a788f2a3",
   "metadata": {},
   "outputs": [
    {
     "name": "stdout",
     "output_type": "stream",
     "text": [
      "[12, 45, 70, 31, 2, 6, 90]\n"
     ]
    }
   ],
   "source": [
    "# To remove duplicate elements\n",
    "\n",
    "visited = []\n",
    "\n",
    "foo = [12, 45, 45, 70, 31, 2, 6, 90]\n",
    "\n",
    "len_foo = len(foo)\n",
    "\n",
    "i = 0\n",
    "while i < len_foo:\n",
    "    if foo[i] not in visited:\n",
    "        visited.append(foo[i])\n",
    "    i += 1\n",
    "    \n",
    "print(visited)"
   ]
  },
  {
   "cell_type": "markdown",
   "id": "16870766",
   "metadata": {},
   "source": [
    "Question 14 - Write a Python program to take 2 inputs from user to create 2 list objects.\n",
    "\n",
    "\n",
    "Insert list1 into list2 at certain index position (call it index1 ). Accessing element in the\n",
    "sub-list based on 3rd input (to be used as index) from the user."
   ]
  },
  {
   "cell_type": "code",
   "execution_count": 15,
   "id": "14155886",
   "metadata": {},
   "outputs": [
    {
     "name": "stdout",
     "output_type": "stream",
     "text": [
      "Please enter first value : shant\n",
      "Please enter second value : prashant\n",
      "['s', 'h', 'a', 'n', 't']\n",
      "['p', 'r', 'a', 's', 'h', 'a', 'n', 't']\n",
      "['p', 'r', 'a', 's', ['s', 'h', 'a', 'n', 't'], 'h', 'a', 'n', 't']\n",
      "Please enter third input :  2\n"
     ]
    },
    {
     "data": {
      "text/plain": [
       "'a'"
      ]
     },
     "execution_count": 15,
     "metadata": {},
     "output_type": "execute_result"
    }
   ],
   "source": [
    "list1 = list(input(\"Please enter first value : \"))\n",
    "list2 = list(input(\"Please enter second value : \"))\n",
    "\n",
    "print(list1)\n",
    "print(list2)\n",
    "\n",
    "index1 = 4\n",
    "\n",
    "list2.insert(index1, list1)\n",
    "\n",
    "print(list2)\n",
    "\n",
    "\n",
    "index2 = int(input(\"Please enter third input :  \"))\n",
    "\n",
    "list2[index1][index2]"
   ]
  },
  {
   "cell_type": "code",
   "execution_count": 17,
   "id": "4ecf7f9c",
   "metadata": {},
   "outputs": [
    {
     "data": {
      "text/plain": [
       "50"
      ]
     },
     "execution_count": 17,
     "metadata": {},
     "output_type": "execute_result"
    }
   ],
   "source": [
    "nested_list = [10, 20, 30, [40, 50], 60]\n",
    "\n",
    "nested_list[3][1]"
   ]
  },
  {
   "cell_type": "code",
   "execution_count": 19,
   "id": "364ac533",
   "metadata": {},
   "outputs": [
    {
     "name": "stdout",
     "output_type": "stream",
     "text": [
      "give me value :12345\n",
      "[1, 2, 3, 4, 5]\n"
     ]
    }
   ],
   "source": [
    "foo = input(\"give me value :\")\n",
    "\n",
    "size_foo = len(foo)\n",
    "\n",
    "commons = []\n",
    "\n",
    "i = 0\n",
    "while i < size_foo:\n",
    "    new_value = int(foo[i])\n",
    "    commons.append(new_value)\n",
    "    i += 1\n",
    "    \n",
    "print(commons)"
   ]
  },
  {
   "cell_type": "markdown",
   "id": "82249f4e",
   "metadata": {},
   "source": [
    "Question 11 :Write a Python program to append a list to the second list."
   ]
  },
  {
   "cell_type": "code",
   "execution_count": 20,
   "id": "90ffcea7",
   "metadata": {},
   "outputs": [
    {
     "data": {
      "text/plain": [
       "[[]]"
      ]
     },
     "execution_count": 20,
     "metadata": {},
     "output_type": "execute_result"
    }
   ],
   "source": [
    "foo = []\n",
    "bar = []\n",
    "\n",
    "foo.append(bar)\n",
    "foo"
   ]
  },
  {
   "cell_type": "markdown",
   "id": "1c27b7c8",
   "metadata": {},
   "source": [
    "Question 16: Write a program to check whether a list contains a sub-list"
   ]
  },
  {
   "cell_type": "code",
   "execution_count": 23,
   "id": "ec3ed4f6",
   "metadata": {},
   "outputs": [
    {
     "name": "stdout",
     "output_type": "stream",
     "text": [
      "the given list contains a sub-list\n"
     ]
    }
   ],
   "source": [
    "# Question 16: Write a program to check whether a list contains a sub-list\n",
    "# using type function\n",
    "\n",
    "\n",
    "ex1 = [1, 2, [\"prashant\", \"rahul\"]]\n",
    "\n",
    "\n",
    "len_ex1 = len(ex1)\n",
    "\n",
    "contains_sublist = False\n",
    "\n",
    "i = 0\n",
    "while i < len_ex1:\n",
    "    element = ex1[i]\n",
    "    \n",
    "    if type(element) == type(list()):\n",
    "        contains_sublist = True\n",
    "        \n",
    "    i += 1\n",
    "    \n",
    "if contains_sublist:\n",
    "    print(\"the given list contains a sub-list\")"
   ]
  },
  {
   "cell_type": "code",
   "execution_count": 34,
   "id": "838d3433",
   "metadata": {},
   "outputs": [
    {
     "name": "stdout",
     "output_type": "stream",
     "text": [
      "the given list contains a sub-list\n"
     ]
    }
   ],
   "source": [
    "# Question 16: Write a program to check whether a list contains a sub-list\n",
    "# using class name\n",
    "ex1 = [1, 2, [\"prashant\", \"rahul\"]]\n",
    "\n",
    "\n",
    "len_ex1 = len(ex1)\n",
    "\n",
    "contains_sublist = False\n",
    "\n",
    "i = 0\n",
    "while i < len_ex1:\n",
    "    element = ex1[i]\n",
    "    \n",
    "    if type(element) == list:\n",
    "        contains_sublist = True\n",
    "        \n",
    "    i += 1\n",
    "    \n",
    "if contains_sublist:\n",
    "    print(\"the given list contains a sub-list\")"
   ]
  },
  {
   "cell_type": "code",
   "execution_count": 25,
   "id": "e135e43f",
   "metadata": {},
   "outputs": [
    {
     "data": {
      "text/plain": [
       "list"
      ]
     },
     "execution_count": 25,
     "metadata": {},
     "output_type": "execute_result"
    }
   ],
   "source": [
    "example1 = [1, 2, 3]\n",
    "\n",
    "\n",
    "type(example1) == type([])"
   ]
  },
  {
   "cell_type": "markdown",
   "id": "022f5515",
   "metadata": {},
   "source": [
    "# `isinstance()`\n",
    "\n",
    "- built in function\n",
    "- takes 2 arguments\n",
    "- first argument object\n",
    "- second argument is data type\n",
    "- output is boolean"
   ]
  },
  {
   "cell_type": "code",
   "execution_count": 27,
   "id": "67fb9fca",
   "metadata": {},
   "outputs": [
    {
     "data": {
      "text/plain": [
       "True"
      ]
     },
     "execution_count": 27,
     "metadata": {},
     "output_type": "execute_result"
    }
   ],
   "source": [
    "example1 = [1, 2, 3]\n",
    "\n",
    "isinstance(example1, list)"
   ]
  },
  {
   "cell_type": "code",
   "execution_count": 28,
   "id": "256ca964",
   "metadata": {},
   "outputs": [
    {
     "data": {
      "text/plain": [
       "True"
      ]
     },
     "execution_count": 28,
     "metadata": {},
     "output_type": "execute_result"
    }
   ],
   "source": [
    "example2 = \"\"\n",
    "\n",
    "isinstance(example2, str)"
   ]
  },
  {
   "cell_type": "code",
   "execution_count": 31,
   "id": "829e4171",
   "metadata": {},
   "outputs": [
    {
     "data": {
      "text/plain": [
       "True"
      ]
     },
     "execution_count": 31,
     "metadata": {},
     "output_type": "execute_result"
    }
   ],
   "source": [
    "example3 = 1000\n",
    "isinstance(example3, int)"
   ]
  },
  {
   "cell_type": "code",
   "execution_count": 33,
   "id": "f99b33af",
   "metadata": {},
   "outputs": [
    {
     "data": {
      "text/plain": [
       "True"
      ]
     },
     "execution_count": 33,
     "metadata": {},
     "output_type": "execute_result"
    }
   ],
   "source": [
    "obj1 = \"prashant\"\n",
    "\n",
    "isinstance(obj1, type(\"\"))"
   ]
  },
  {
   "cell_type": "code",
   "execution_count": null,
   "id": "61813bec",
   "metadata": {},
   "outputs": [],
   "source": [
    "# Question 16: Write a program to check whether a list contains a sub-list\n",
    "# using isinstance function\n",
    "\n",
    "\n",
    "ex1 = [1, 2, [\"prashant\", \"rahul\"]]\n",
    "\n",
    "\n",
    "len_ex1 = len(ex1)\n",
    "\n",
    "contains_sublist = False\n",
    "\n",
    "i = 0\n",
    "while i < len_ex1:\n",
    "    element = ex1[i]\n",
    "    \n",
    "    if isinstance(element, list):\n",
    "        contains_sublist = True\n",
    "        \n",
    "    i += 1\n",
    "    \n",
    "if contains_sublist:\n",
    "    print(\"the given list contains a sub-list\")"
   ]
  },
  {
   "cell_type": "code",
   "execution_count": 37,
   "id": "2bcf70f9",
   "metadata": {},
   "outputs": [
    {
     "name": "stdout",
     "output_type": "stream",
     "text": [
      "0th iteration - virat\n",
      "1th iteration - hardik\n",
      "2th iteration - [100, 50]\n"
     ]
    }
   ],
   "source": [
    "scenario1 = [\"virat\", \"hardik\", [100, 50]]\n",
    "\n",
    "i = 0\n",
    "size = len(scenario1)\n",
    "\n",
    "while i < size:\n",
    "    element = scenario1[i]\n",
    "    print(\"{index}th iteration - {element}\".format(index=i, element=element))\n",
    "    i += 1\n",
    "\n"
   ]
  },
  {
   "cell_type": "code",
   "execution_count": 45,
   "id": "97a3e959",
   "metadata": {},
   "outputs": [
    {
     "name": "stdout",
     "output_type": "stream",
     "text": [
      "given list has NO sublist\n"
     ]
    }
   ],
   "source": [
    "# scenario1 = [\"virat\", \"hardik\", [100, 50]]\n",
    "scenario1 = [\"virat\", \"hardik\", \"dhoni\"]\n",
    "\n",
    "output = []\n",
    "i = 0\n",
    "size = len(scenario1)\n",
    "\n",
    "while i < size:\n",
    "    element = scenario1[i]\n",
    "    if isinstance(element, list):\n",
    "        output.append(element)\n",
    "        \n",
    "    i += 1\n",
    "\n",
    "if output:\n",
    "    print(\"given list contains a sub-list\")\n",
    "    \n",
    "else:\n",
    "    print(\"given list has NO sublist\")\n"
   ]
  },
  {
   "cell_type": "code",
   "execution_count": 42,
   "id": "ef444629",
   "metadata": {},
   "outputs": [
    {
     "name": "stdout",
     "output_type": "stream",
     "text": [
      "its an empty list.....\n"
     ]
    }
   ],
   "source": [
    "if []:\n",
    "    print(\"hello world!\")\n",
    "else:\n",
    "    print(\"its an empty list.....\")"
   ]
  },
  {
   "cell_type": "markdown",
   "id": "cb6340b7",
   "metadata": {},
   "source": [
    "## RULE\n",
    "\n",
    "- empty list is treated as `False`\n",
    "- non-zero integer is treated as `True`\n",
    "- zero is treated as `False`\n",
    "- empty string is treated as `False`\n",
    "- non-empty string is treated as `True`"
   ]
  },
  {
   "cell_type": "code",
   "execution_count": 41,
   "id": "ce93453d",
   "metadata": {},
   "outputs": [
    {
     "name": "stdout",
     "output_type": "stream",
     "text": [
      "its an empty list.....\n"
     ]
    }
   ],
   "source": [
    "if \"\":\n",
    "    print(\"hello world\")\n",
    "    \n",
    "else:\n",
    "    print(\"its an empty string.....\")"
   ]
  },
  {
   "cell_type": "markdown",
   "id": "c7692bd8",
   "metadata": {},
   "source": [
    "15. Write a program to find frequency of an element in the given list"
   ]
  },
  {
   "cell_type": "code",
   "execution_count": 48,
   "id": "e6dcc498",
   "metadata": {},
   "outputs": [
    {
     "name": "stdout",
     "output_type": "stream",
     "text": [
      "virat has occurred 1 times.\n",
      "hardik has occurred 1 times.\n",
      "dhoni has occurred 2 times.\n"
     ]
    }
   ],
   "source": [
    "scenario1 = [\"virat\", \"hardik\", \"dhoni\", \"dhoni\"]\n",
    "\n",
    "visited = []\n",
    "i = 0\n",
    "size = len(scenario1)\n",
    "\n",
    "while i < size:\n",
    "    element = scenario1[i]\n",
    "    if element in visited:\n",
    "        pass\n",
    "    else:\n",
    "        visited.append(element)\n",
    "        frequency = scenario1.count(element)  \n",
    "        print(\"{element} has occurred {frequency} times.\".format(element=element, frequency=frequency))\n",
    "    i +=1"
   ]
  },
  {
   "cell_type": "markdown",
   "id": "2ba11c2b",
   "metadata": {},
   "source": [
    "# `pass` statement"
   ]
  }
 ],
 "metadata": {
  "kernelspec": {
   "display_name": "Python 3 (ipykernel)",
   "language": "python",
   "name": "python3"
  },
  "language_info": {
   "codemirror_mode": {
    "name": "ipython",
    "version": 3
   },
   "file_extension": ".py",
   "mimetype": "text/x-python",
   "name": "python",
   "nbconvert_exporter": "python",
   "pygments_lexer": "ipython3",
   "version": "3.10.0"
  }
 },
 "nbformat": 4,
 "nbformat_minor": 5
}
