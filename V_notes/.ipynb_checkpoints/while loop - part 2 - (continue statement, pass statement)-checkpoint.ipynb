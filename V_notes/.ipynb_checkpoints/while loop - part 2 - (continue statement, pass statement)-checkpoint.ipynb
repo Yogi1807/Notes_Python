{
 "cells": [
  {
   "cell_type": "markdown",
   "id": "948c7cda",
   "metadata": {},
   "source": [
    "# `pass` keyword\n",
    "\n",
    "do nothing"
   ]
  },
  {
   "cell_type": "code",
   "execution_count": null,
   "id": "c71f6b57",
   "metadata": {},
   "outputs": [],
   "source": [
    "pass"
   ]
  },
  {
   "cell_type": "code",
   "execution_count": null,
   "id": "f7fd6772",
   "metadata": {},
   "outputs": [],
   "source": [
    "help(\"keywords\")"
   ]
  },
  {
   "cell_type": "code",
   "execution_count": null,
   "id": "88aba3e6",
   "metadata": {},
   "outputs": [],
   "source": [
    "if \"prashant\":\n",
    "    pass\n",
    "\n",
    "\n",
    "print(\"non-empty list\")\n",
    "    "
   ]
  },
  {
   "cell_type": "code",
   "execution_count": null,
   "id": "394f1b10",
   "metadata": {},
   "outputs": [],
   "source": [
    "scenario1 = [\"virat\", \"hardik\", \"dhoni\", \"dhoni\"]\n",
    "\n",
    "visited = []\n",
    "i = 0\n",
    "size = len(scenario1)\n",
    "\n",
    "while i < size:\n",
    "    element = scenario1[i]\n",
    "    if element in visited:\n",
    "        pass\n",
    "    else:\n",
    "        visited.append(element)\n",
    "        frequency = scenario1.count(element)  \n",
    "        print(\"{element} has occurred {frequency} times.\".format(element=element, frequency=frequency))\n",
    "    i +=1"
   ]
  },
  {
   "cell_type": "markdown",
   "id": "cf935dee",
   "metadata": {},
   "source": [
    "# `continue` statement\n",
    "\n",
    "To skip current iteration"
   ]
  },
  {
   "cell_type": "code",
   "execution_count": 5,
   "id": "6c88164c",
   "metadata": {},
   "outputs": [
    {
     "name": "stdout",
     "output_type": "stream",
     "text": [
      "1\n",
      "2\n",
      "3\n",
      "4\n",
      "5\n",
      "6\n",
      "7\n",
      "9\n",
      "10\n"
     ]
    }
   ],
   "source": [
    "# write a program to print first 10 natural numbers except 8\n",
    "\n",
    "i = 1\n",
    "while i <= 10:\n",
    "    \n",
    "    if i == 8:\n",
    "        i += 1\n",
    "        continue\n",
    "        \n",
    "    print(i)\n",
    "    i += 1\n",
    "    \n"
   ]
  },
  {
   "cell_type": "markdown",
   "id": "1057fae1",
   "metadata": {},
   "source": [
    "# Game of sticks\n",
    "\n",
    "- we have 21 sticks\n",
    "- we have 2 players in the game \n",
    "\n",
    "    - human (user)\n",
    "    - computer\n",
    "    \n",
    "- human can pick any number of sticks between (1-4)\n",
    "- computer can pick any number of sticks between (1-4)\n",
    "\n",
    "RULE \n",
    "- whoever picks last stick looses the game\n",
    "\n",
    "\n",
    "\n",
    "NOTE \n",
    "\n",
    "- we will be using both `break` and `continue` statement"
   ]
  },
  {
   "cell_type": "code",
   "execution_count": 7,
   "id": "0fa01bf6",
   "metadata": {},
   "outputs": [
    {
     "name": "stdout",
     "output_type": "stream",
     "text": [
      "you can pick any number of sticks between (1-4)\n",
      "whoever picks last stick looses the game\n",
      "Please pick sticks between (1-4)10\n",
      "WRONG CHOICE\n",
      "Please pick sticks between (1-4)3\n",
      "computer will take : 2\n",
      "Please pick sticks between (1-4)2\n",
      "computer will take : 3\n",
      "Please pick sticks between (1-4)3\n",
      "computer will take : 2\n",
      "Please pick sticks between (1-4)2\n",
      "computer will take : 3\n",
      "Please pick sticks between (1-4)1\n",
      "\n",
      "** You have LOST the game!!! **\n"
     ]
    }
   ],
   "source": [
    "sticks = 21\n",
    "\n",
    "print(\"you can pick any number of sticks between (1-4)\")\n",
    "print(\"whoever picks last stick looses the game\")\n",
    "\n",
    "while True:\n",
    "    sticks_picked = int(input(\"Please pick sticks between (1-4)\"))\n",
    "    if sticks == 1:\n",
    "        print(\"\\n** You have LOST the game!!! **\")\n",
    "        break\n",
    "        \n",
    "    if sticks_picked >= 5 or sticks_picked <=0:\n",
    "        print(\"WRONG CHOICE\")\n",
    "        continue\n",
    "        \n",
    "    computer_takes = 5 - sticks_picked\n",
    "    print(\"computer will take : {0}\".format(computer_takes))\n",
    "    sticks -= 5\n",
    "    \n",
    "        \n",
    "    "
   ]
  }
 ],
 "metadata": {
  "kernelspec": {
   "display_name": "Python 3 (ipykernel)",
   "language": "python",
   "name": "python3"
  },
  "language_info": {
   "codemirror_mode": {
    "name": "ipython",
    "version": 3
   },
   "file_extension": ".py",
   "mimetype": "text/x-python",
   "name": "python",
   "nbconvert_exporter": "python",
   "pygments_lexer": "ipython3",
   "version": "3.10.0"
  }
 },
 "nbformat": 4,
 "nbformat_minor": 5
}
