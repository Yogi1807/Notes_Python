{
 "cells": [
  {
   "cell_type": "code",
   "execution_count": 1,
   "id": "cd88bcda",
   "metadata": {},
   "outputs": [
    {
     "name": "stdout",
     "output_type": "stream",
     "text": [
      "50000000\n",
      "[0, 232792560, 465585120, 698377680, 931170240]\n"
     ]
    }
   ],
   "source": [
    "num_20 = [x for x in range(1000000000) if x % 20 == 0]\n",
    "print(len(num_20))\n",
    "\n",
    "\n",
    "outlist = []\n",
    "\n",
    "for number in num_20:\n",
    "    flag = True\n",
    "    for i in range(1, 20):\n",
    "        if number % i != 0:\n",
    "            flag = False\n",
    "            break\n",
    "    if flag:\n",
    "        outlist.append(number)\n",
    "        \n",
    "print(outlist)"
   ]
  },
  {
   "cell_type": "code",
   "execution_count": 4,
   "id": "d6b4bec6",
   "metadata": {},
   "outputs": [
    {
     "name": "stdout",
     "output_type": "stream",
     "text": [
      "[5, 7, 13, 29, 35, 65, 91, 145, 203, 377, 455, 1015, 1885, 2639]\n",
      "[5, 7, 13, 29]\n",
      "\n",
      "Largest Prime Factor of  13195 is 29\n"
     ]
    }
   ],
   "source": [
    "n = 13195\n",
    "x = []\n",
    "x_prime = []\n",
    "\n",
    "for i in range(2, n):\n",
    "    if (n % i) == 0:\n",
    "        x.append(i)\n",
    "    \n",
    "\n",
    "for a in x:\n",
    "    c = 0\n",
    "    for j in range(1, a):\n",
    "        if (a % j) == 0:\n",
    "            c += 1\n",
    "    if c == 1:\n",
    "        x_prime.append(a)\n",
    "            \n",
    "print(x)\n",
    "print(x_prime)\n",
    "print(\"\\nLargest Prime Factor of \",n ,\"is\", (x_prime[-1]))"
   ]
  },
  {
   "cell_type": "code",
   "execution_count": 9,
   "id": "a84045de",
   "metadata": {},
   "outputs": [
    {
     "name": "stdout",
     "output_type": "stream",
     "text": [
      "Please enter the number: 13195\n",
      "2639\n",
      "377\n",
      "29\n",
      "The biggest prime number is:  29.0\n"
     ]
    }
   ],
   "source": [
    "num = int(input(\"Please enter the number: \"))\n",
    "\n",
    "i = 2\n",
    "\n",
    "for k in range(0, num):\n",
    "    if i >= num:\n",
    "        break\n",
    "    elif num % i == 0:\n",
    "        num = num/i\n",
    "        print(int(num))\n",
    "    else:\n",
    "        i = i + 1\n",
    "        \n",
    "print(\"The biggest prime number is: \", num)"
   ]
  },
  {
   "cell_type": "code",
   "execution_count": 12,
   "id": "cab3dd4c",
   "metadata": {},
   "outputs": [
    {
     "name": "stdout",
     "output_type": "stream",
     "text": [
      "2639\n",
      "377\n",
      "29\n",
      "1\n",
      "[5, 7, 13, 29]\n"
     ]
    }
   ],
   "source": [
    "num = 13195\n",
    "div = 2\n",
    "foo=[]\n",
    "while(num > 1):\n",
    " \n",
    "    if(num % div == 0):\n",
    "       \n",
    "        num = num/div\n",
    "        print(int(num))\n",
    "        foo.append(div)\n",
    "      \n",
    "    else:\n",
    "        div += 1\n",
    "print(foo)"
   ]
  }
 ],
 "metadata": {
  "kernelspec": {
   "display_name": "Python 3 (ipykernel)",
   "language": "python",
   "name": "python3"
  },
  "language_info": {
   "codemirror_mode": {
    "name": "ipython",
    "version": 3
   },
   "file_extension": ".py",
   "mimetype": "text/x-python",
   "name": "python",
   "nbconvert_exporter": "python",
   "pygments_lexer": "ipython3",
   "version": "3.10.0"
  }
 },
 "nbformat": 4,
 "nbformat_minor": 5
}
