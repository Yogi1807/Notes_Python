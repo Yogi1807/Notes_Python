{
 "cells": [
  {
   "cell_type": "code",
   "execution_count": null,
   "id": "fa2db422-d7db-436f-8709-a706d8ecf065",
   "metadata": {},
   "outputs": [],
   "source": [
    "def greet():\n",
    "    return \"good morning!\"\n"
   ]
  },
  {
   "cell_type": "code",
   "execution_count": null,
   "id": "0ce46fc7-a3c0-48d2-9fc2-9ac2f7ddcc6e",
   "metadata": {},
   "outputs": [],
   "source": [
    "greet()"
   ]
  },
  {
   "cell_type": "code",
   "execution_count": null,
   "id": "5ca55403-523b-459c-89a4-b5ea77dc6e65",
   "metadata": {},
   "outputs": [],
   "source": [
    "def generate_greet():\n",
    "    print(\"5 AM - 11:59 AM\")\n",
    "    yield \"good morning\"\n",
    "    \n",
    "    print(\"12 PM - 5 PM\")\n",
    "    yield \"good afternoon\"\n",
    "    \n",
    "    print(\"5:01 PM - 9:00 PM\")\n",
    "    yield \"good evening\"\n",
    "    \n",
    "    print(\"9:00 PM onwards\")\n",
    "    yield \"good night\""
   ]
  },
  {
   "cell_type": "code",
   "execution_count": null,
   "id": "61255c73-f54d-4575-9bd6-21d878c0451a",
   "metadata": {},
   "outputs": [],
   "source": [
    "iterator = generate_greet()"
   ]
  },
  {
   "cell_type": "code",
   "execution_count": null,
   "id": "c01c3d22-4faf-44e2-8500-526651042a8a",
   "metadata": {},
   "outputs": [],
   "source": [
    "next(iterator)"
   ]
  },
  {
   "cell_type": "code",
   "execution_count": null,
   "id": "ebd01cd0-4f12-4fc8-a9b3-20ba1fb669d7",
   "metadata": {},
   "outputs": [],
   "source": [
    "def counter_generator(low, high):\n",
    "    \n",
    "    while low <= high:\n",
    "        yield low    # state of generator is being suspended\n",
    "        print(f\"low :: {low} ....waiting for next() call\\n\")\n",
    "        low += 1"
   ]
  },
  {
   "cell_type": "code",
   "execution_count": null,
   "id": "1cc15ef3-ab7d-4098-946f-3e7fc61bd94b",
   "metadata": {},
   "outputs": [],
   "source": []
  },
  {
   "cell_type": "code",
   "execution_count": null,
   "id": "1e09d569-887c-43cf-b4ff-dcb0edd36410",
   "metadata": {},
   "outputs": [],
   "source": [
    "for element in counter_generator(15, 20):\n",
    "    print(element)"
   ]
  },
  {
   "cell_type": "code",
   "execution_count": null,
   "id": "16341cc6-224f-49b0-a211-92317364abab",
   "metadata": {},
   "outputs": [],
   "source": [
    "c_obj = counter_generator(5, 10)\n",
    "dir(c_obj)"
   ]
  },
  {
   "cell_type": "markdown",
   "id": "c33dae4b-05d7-430a-a6a8-27f5fd6f726c",
   "metadata": {},
   "source": [
    "### class based `generator`"
   ]
  },
  {
   "cell_type": "markdown",
   "id": "661f2c0d-f71b-4ab5-9f3d-0f0c35f5fbb8",
   "metadata": {},
   "source": [
    "- To create generators using object oriented approach\n",
    "  we can define `__iter__` method that yields an generator objet\n",
    "  \n",
    "  \n",
    "- We created a generator that does not hold any state"
   ]
  },
  {
   "cell_type": "code",
   "execution_count": null,
   "id": "1ced3cae-8d43-4051-b6a5-e3aec968d85a",
   "metadata": {},
   "outputs": [],
   "source": [
    "class CounterGen(object):\n",
    "    def __init__(self, start, end):\n",
    "        self.start = start\n",
    "        self.end = end\n",
    "    \n",
    "    def __iter__(self):\n",
    "        counter = self.start\n",
    "        while self.end >= counter:\n",
    "            yield counter\n",
    "            counter += 1\n",
    "        \n",
    "    "
   ]
  },
  {
   "cell_type": "code",
   "execution_count": null,
   "id": "5ed22fc3-e942-4fe9-9c43-e4cf83b3b11d",
   "metadata": {},
   "outputs": [],
   "source": [
    "gobj = CounterGen(100, 105)"
   ]
  },
  {
   "cell_type": "code",
   "execution_count": null,
   "id": "f96bb16e-1d18-4afa-86e7-26421ef7a10f",
   "metadata": {},
   "outputs": [],
   "source": [
    "for element in gobj:\n",
    "    print(element)"
   ]
  },
  {
   "cell_type": "code",
   "execution_count": null,
   "id": "a5b5d367-dfaa-43f5-9d21-597bbe6c6db6",
   "metadata": {},
   "outputs": [],
   "source": [
    "gobj = CounterGen(100, 105)"
   ]
  },
  {
   "cell_type": "markdown",
   "id": "32ad0fad-315c-440f-b017-7bf0e3195e9a",
   "metadata": {},
   "source": [
    "### fibonacci numbers using generator\n",
    "\n"
   ]
  },
  {
   "cell_type": "code",
   "execution_count": 45,
   "id": "52c19bf9-3ac5-4433-bace-f1ceecba5412",
   "metadata": {},
   "outputs": [],
   "source": [
    "class Fib:\n",
    "    def __init__(self):\n",
    "        self.first, self.second = 0, 1\n",
    "        \n",
    "    def __iter__(self):\n",
    "        while True:\n",
    "            yield self.first\n",
    "            self.first, self.second = self.second, self.first + self.second\n",
    "            \n",
    "            if self.first > 100:\n",
    "                break"
   ]
  },
  {
   "cell_type": "code",
   "execution_count": 3,
   "id": "0749bc7e-5107-400d-91c5-6809df4584ae",
   "metadata": {},
   "outputs": [
    {
     "name": "stdout",
     "output_type": "stream",
     "text": [
      "0\n",
      "1\n",
      "1\n",
      "2\n",
      "3\n",
      "5\n",
      "8\n",
      "13\n",
      "21\n",
      "34\n",
      "55\n",
      "89\n"
     ]
    }
   ],
   "source": [
    "for element in obj:\n",
    "    print(element)"
   ]
  },
  {
   "cell_type": "code",
   "execution_count": 20,
   "id": "e769ba8c-7060-4928-b210-8dbad92115a1",
   "metadata": {},
   "outputs": [],
   "source": [
    "class InfiniteFibIterator:\n",
    "    def __init__(self):\n",
    "        self.first, self.second = 0, 1\n",
    "        \n",
    "    def __iter__(self):\n",
    "        return self\n",
    "    \n",
    "    def __next__(self):\n",
    "        self.first, self.second = self.second, self.first + self.second\n",
    "        return self.first\n",
    "    \n",
    "    "
   ]
  },
  {
   "cell_type": "code",
   "execution_count": 21,
   "id": "5e6e4c23-ac53-4403-8c6b-49f0111fb1a6",
   "metadata": {},
   "outputs": [],
   "source": [
    "fibonacci = InfiniteFibIterator()"
   ]
  },
  {
   "cell_type": "code",
   "execution_count": 42,
   "id": "da73e0ae-514f-4441-94b5-cfb95e6f24cc",
   "metadata": {},
   "outputs": [
    {
     "data": {
      "text/plain": [
       "10946"
      ]
     },
     "execution_count": 42,
     "metadata": {},
     "output_type": "execute_result"
    }
   ],
   "source": [
    "next(fibonacci)"
   ]
  }
 ],
 "metadata": {
  "kernelspec": {
   "display_name": "Python 3 (ipykernel)",
   "language": "python",
   "name": "python3"
  },
  "language_info": {
   "codemirror_mode": {
    "name": "ipython",
    "version": 3
   },
   "file_extension": ".py",
   "mimetype": "text/x-python",
   "name": "python",
   "nbconvert_exporter": "python",
   "pygments_lexer": "ipython3",
   "version": "3.10.0"
  }
 },
 "nbformat": 4,
 "nbformat_minor": 5
}
