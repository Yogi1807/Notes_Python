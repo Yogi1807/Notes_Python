{
 "cells": [
  {
   "cell_type": "code",
   "execution_count": null,
   "id": "266bd682-4105-4e68-9a61-0b0967e58afb",
   "metadata": {},
   "outputs": [],
   "source": [
    "- pep8 \n"
   ]
  },
  {
   "cell_type": "markdown",
   "id": "e752da62-7feb-4eb8-8eb2-85a7b84caebc",
   "metadata": {},
   "source": [
    "### indentation\n",
    "\n",
    "- 4 space indentation \n",
    "- code needs to be consistently indendet with 4 space indentation\n",
    "- never mix tabs and spaces"
   ]
  },
  {
   "cell_type": "code",
   "execution_count": null,
   "id": "3fc40dc5-cfda-48d2-a1f5-be700ae0df8a",
   "metadata": {},
   "outputs": [],
   "source": [
    "large_function(\n",
    "    param1, param2, param3, \n",
    "    param4, param5, param6\n",
    ")"
   ]
  },
  {
   "cell_type": "code",
   "execution_count": null,
   "id": "3aa78b30-3d92-4914-bfd1-3c4a6735567d",
   "metadata": {},
   "outputs": [],
   "source": [
    "long_long_list = [\n",
    "    12, 3, 4, 5, 6,\n",
    "    7, 8, 9, 0, 1, \n",
    "    2, 3, 4, 5, 6, \n",
    "    7\n",
    "]"
   ]
  },
  {
   "cell_type": "markdown",
   "id": "3a64015f-c2f2-4a76-9821-e5c3232a1ac8",
   "metadata": {},
   "source": [
    "### maximum line length\n",
    "\n",
    "- you code line has to be maximum of 80 characters"
   ]
  },
  {
   "cell_type": "code",
   "execution_count": null,
   "id": "603a8f6e-d948-49bd-aa1b-2f04bb68c48b",
   "metadata": {},
   "outputs": [],
   "source": [
    "expression = condition1 and \\\n",
    "condition2 and condition or "
   ]
  },
  {
   "cell_type": "markdown",
   "id": "93e183ba-4784-4e49-9b56-7880cceec389",
   "metadata": {},
   "source": [
    "## Blank lines\n",
    "\n",
    "- you must leave a blank line between 2 function definitions inside a class\n",
    "- you must leave 2 blank lines between 2 function/ class definitions\n",
    "- We can use extra blank to seperate logical grouping inside code\n"
   ]
  },
  {
   "cell_type": "code",
   "execution_count": null,
   "id": "1de445ca-509d-4552-9161-5dd48b4c976f",
   "metadata": {},
   "outputs": [],
   "source": [
    "def sample():\n",
    "    pass\n",
    "\n",
    "\n",
    "def random():\n",
    "    pass"
   ]
  },
  {
   "cell_type": "code",
   "execution_count": null,
   "id": "b60680eb-7bb2-46a4-8345-f4617c18bbf2",
   "metadata": {},
   "outputs": [],
   "source": [
    "class Sample:\n",
    "    pass\n",
    "\n",
    "\n",
    "class Random:\n",
    "    pass"
   ]
  },
  {
   "cell_type": "markdown",
   "id": "9b5a683c-57b4-4130-8263-5aab5dba6a49",
   "metadata": {},
   "source": [
    "## imports\n",
    "\n",
    "- never do absolute imports unless necessary\n",
    "- always do relative import when possible \n",
    "- relative imports save both space and time\n",
    "\n",
    "\n",
    "- build-in module imports should be on top level\n",
    "    - absolute imports (built in)\n",
    "    - relative imports (built in)\n",
    "- third party module imports should be next\n",
    "    - absolute imports (third party)\n",
    "    - relative imports (third party)\n",
    "    \n",
    "- custom modules (user defined) modules imported next"
   ]
  },
  {
   "cell_type": "code",
   "execution_count": null,
   "id": "2ad459cd-ecb7-4a3d-ba09-ebaf9ea42ed3",
   "metadata": {},
   "outputs": [],
   "source": [
    "## absolute import\n",
    "import os"
   ]
  },
  {
   "cell_type": "code",
   "execution_count": null,
   "id": "bffcfa7c-fa82-453e-aaeb-793a35b92e87",
   "metadata": {},
   "outputs": [],
   "source": [
    "## import everything under os module\n",
    "from os import *"
   ]
  },
  {
   "cell_type": "code",
   "execution_count": null,
   "id": "e5e2cbc2-8714-45e5-9bdf-60f26f33ef37",
   "metadata": {},
   "outputs": [],
   "source": [
    "## relative import (because we only need one function from the module)\n",
    "from os import listdir\n"
   ]
  },
  {
   "cell_type": "markdown",
   "id": "3fb8da02-c37b-4278-8630-86ee14b78d39",
   "metadata": {},
   "source": [
    "## whitespaces\n",
    "\n",
    "- always surround operators with a single whitespace\n",
    "- \n"
   ]
  },
  {
   "cell_type": "code",
   "execution_count": null,
   "id": "a8c6805e-1023-4a0a-97f9-52dc8e4cf492",
   "metadata": {},
   "outputs": [],
   "source": [
    "func()"
   ]
  },
  {
   "cell_type": "code",
   "execution_count": null,
   "id": "d12fa35c-ef46-41b3-94c6-713c20244f42",
   "metadata": {},
   "outputs": [],
   "source": [
    "name=\"prashant\""
   ]
  },
  {
   "cell_type": "code",
   "execution_count": null,
   "id": "6a69516a-e166-4cff-a35d-ff9df79f0c8e",
   "metadata": {},
   "outputs": [],
   "source": [
    "name = \"prashant\""
   ]
  },
  {
   "cell_type": "code",
   "execution_count": null,
   "id": "fab7832b-d0ed-4824-aa9d-1c818327715c",
   "metadata": {},
   "outputs": [],
   "source": [
    "if value==True:\n",
    "    print(\"do something\")"
   ]
  },
  {
   "cell_type": "code",
   "execution_count": null,
   "id": "2ab12ce0-88de-47f7-b73d-7c1aa845db90",
   "metadata": {},
   "outputs": [],
   "source": [
    "if value == True:\n",
    "    print(\"do something\")"
   ]
  },
  {
   "cell_type": "code",
   "execution_count": null,
   "id": "87d21a6e-5747-45ce-9081-b3ced1583dc2",
   "metadata": {},
   "outputs": [],
   "source": [
    "if value:\n",
    "    print(\"do something\")"
   ]
  },
  {
   "cell_type": "code",
   "execution_count": null,
   "id": "e5a321b0-e85a-4bd4-a056-628f4fcd4e99",
   "metadata": {},
   "outputs": [],
   "source": [
    "large_function(arg1,arg2,arg3,arg4)"
   ]
  },
  {
   "cell_type": "code",
   "execution_count": null,
   "id": "8e441822-5153-4890-94e3-28ccdf0c925e",
   "metadata": {},
   "outputs": [],
   "source": [
    "large_function(arg1, arg2, arg3, arg4)"
   ]
  },
  {
   "cell_type": "markdown",
   "id": "8c92920d-3616-4a18-b115-9d2930d5af61",
   "metadata": {},
   "source": [
    "## comments\n",
    "\n",
    "- Don't comment the obvious"
   ]
  },
  {
   "cell_type": "markdown",
   "id": "ec6ae89e-cc9c-4f2d-ae0a-cd62caf8415d",
   "metadata": {},
   "source": [
    "## doc-string\n",
    "\n",
    "- module\n",
    "- function\n",
    "- class\n"
   ]
  },
  {
   "cell_type": "markdown",
   "id": "8a888902-566d-4678-95e5-bb328619ece0",
   "metadata": {},
   "source": [
    "## naming conventions\n",
    "\n",
    "- variable ::\n",
    "\n",
    "\n",
    "- functions :: \n",
    "    - function name must be in lower case\n",
    "    \n",
    "- class name::\n",
    "    - class name must be in pascal case format \n",
    "    - first letter of each word must be in capital case.\n",
    "    \n",
    "    \n",
    "### additional rules\n",
    "\n",
    "- do not use `I` as indetifier\n",
    "- do not use `O` as indetifier\n",
    "- do not use `l` as indetifier"
   ]
  },
  {
   "cell_type": "code",
   "execution_count": null,
   "id": "c0f54fd3-0f40-466e-80d8-34f52bc17640",
   "metadata": {},
   "outputs": [],
   "source": [
    "class SavingAccount():\n",
    "    pass"
   ]
  },
  {
   "cell_type": "code",
   "execution_count": null,
   "id": "e6d8f5cf-ff20-4e8f-96ad-1c8903f5e51a",
   "metadata": {},
   "outputs": [],
   "source": [
    "class BankStatement():\n",
    "    pass"
   ]
  },
  {
   "cell_type": "code",
   "execution_count": null,
   "id": "c1be1939-efd3-4237-83fe-4a6f1b4d51ae",
   "metadata": {},
   "outputs": [],
   "source": [
    "class TeacherVelocity():\n",
    "    pass"
   ]
  },
  {
   "cell_type": "markdown",
   "id": "acb184ff-b853-430a-815d-eecc27e65163",
   "metadata": {},
   "source": [
    "# official documentation"
   ]
  },
  {
   "cell_type": "markdown",
   "id": "649c4e8f-55f0-4d76-930b-a2f4b1859ce0",
   "metadata": {},
   "source": [
    "- https://peps.python.org/pep-0008/"
   ]
  }
 ],
 "metadata": {
  "kernelspec": {
   "display_name": "Python 3 (ipykernel)",
   "language": "python",
   "name": "python3"
  },
  "language_info": {
   "codemirror_mode": {
    "name": "ipython",
    "version": 3
   },
   "file_extension": ".py",
   "mimetype": "text/x-python",
   "name": "python",
   "nbconvert_exporter": "python",
   "pygments_lexer": "ipython3",
   "version": "3.10.0"
  }
 },
 "nbformat": 4,
 "nbformat_minor": 5
}
