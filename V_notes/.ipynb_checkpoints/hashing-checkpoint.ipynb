{
 "cells": [
  {
   "cell_type": "markdown",
   "id": "47d1608c",
   "metadata": {},
   "source": [
    "- hashing is creating a unique value for immutable data object\n",
    "\n",
    "- there are multiple algorithms for hashing\n",
    "\n",
    "- a hash calculated by using one of the algorithms\n",
    "\n"
   ]
  },
  {
   "cell_type": "markdown",
   "id": "c586d501",
   "metadata": {},
   "source": [
    "example of algorithms - \n",
    "\n",
    "md5, sha1, sha2, sha256, sha512, rsa"
   ]
  },
  {
   "cell_type": "code",
   "execution_count": 22,
   "id": "84b9d285",
   "metadata": {},
   "outputs": [
    {
     "data": {
      "text/plain": [
       "6144936205176634800"
      ]
     },
     "execution_count": 22,
     "metadata": {},
     "output_type": "execute_result"
    }
   ],
   "source": [
    "hash(\"prashant\")  "
   ]
  },
  {
   "cell_type": "code",
   "execution_count": 34,
   "id": "8ef073a8",
   "metadata": {},
   "outputs": [
    {
     "data": {
      "text/plain": [
       "-2640092796924879332"
      ]
     },
     "execution_count": 34,
     "metadata": {},
     "output_type": "execute_result"
    }
   ],
   "source": [
    "hash(\"india is great\")"
   ]
  },
  {
   "cell_type": "code",
   "execution_count": null,
   "id": "f2daca2f",
   "metadata": {},
   "outputs": [],
   "source": [
    "{\"name\": \"prashant\", \".......\": 10}"
   ]
  },
  {
   "cell_type": "code",
   "execution_count": 35,
   "id": "42359488",
   "metadata": {},
   "outputs": [
    {
     "data": {
      "text/plain": [
       "133146708735736"
      ]
     },
     "execution_count": 35,
     "metadata": {},
     "output_type": "execute_result"
    }
   ],
   "source": [
    "foo = frozenset()\n",
    "hash(foo)"
   ]
  },
  {
   "cell_type": "code",
   "execution_count": 36,
   "id": "e4c01431",
   "metadata": {},
   "outputs": [
    {
     "ename": "TypeError",
     "evalue": "unhashable type: 'set'",
     "output_type": "error",
     "traceback": [
      "\u001b[0;31m---------------------------------------------------------------------------\u001b[0m",
      "\u001b[0;31mTypeError\u001b[0m                                 Traceback (most recent call last)",
      "Cell \u001b[0;32mIn [36], line 2\u001b[0m\n\u001b[1;32m      1\u001b[0m bar \u001b[38;5;241m=\u001b[39m \u001b[38;5;28mset\u001b[39m()\n\u001b[0;32m----> 2\u001b[0m \u001b[38;5;28;43mhash\u001b[39;49m\u001b[43m(\u001b[49m\u001b[43mbar\u001b[49m\u001b[43m)\u001b[49m\n",
      "\u001b[0;31mTypeError\u001b[0m: unhashable type: 'set'"
     ]
    }
   ],
   "source": [
    "bar = set()\n",
    "hash(bar)"
   ]
  }
 ],
 "metadata": {
  "kernelspec": {
   "display_name": "Python 3 (ipykernel)",
   "language": "python",
   "name": "python3"
  },
  "language_info": {
   "codemirror_mode": {
    "name": "ipython",
    "version": 3
   },
   "file_extension": ".py",
   "mimetype": "text/x-python",
   "name": "python",
   "nbconvert_exporter": "python",
   "pygments_lexer": "ipython3",
   "version": "3.10.0"
  }
 },
 "nbformat": 4,
 "nbformat_minor": 5
}
