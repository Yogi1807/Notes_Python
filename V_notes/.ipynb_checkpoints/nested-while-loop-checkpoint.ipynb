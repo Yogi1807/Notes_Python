{
 "cells": [
  {
   "cell_type": "markdown",
   "id": "51f3e1fb",
   "metadata": {},
   "source": [
    "### nested while loop"
   ]
  },
  {
   "cell_type": "markdown",
   "id": "9e194880",
   "metadata": {},
   "source": [
    "#### problem - \n",
    "\n",
    "We have to print arithmatic table"
   ]
  },
  {
   "cell_type": "code",
   "execution_count": 7,
   "id": "47a3efd3",
   "metadata": {},
   "outputs": [
    {
     "name": "stdout",
     "output_type": "stream",
     "text": [
      "table of 1 =>\n",
      "1\n",
      "2\n",
      "3\n",
      "4\n",
      "5\n",
      "6\n",
      "7\n",
      "8\n",
      "9\n",
      "10\n",
      "####################\n",
      "table of 2 =>\n",
      "2\n",
      "4\n",
      "6\n",
      "8\n",
      "10\n",
      "12\n",
      "14\n",
      "16\n",
      "18\n",
      "20\n",
      "####################\n",
      "table of 3 =>\n",
      "3\n",
      "6\n",
      "9\n",
      "12\n",
      "15\n",
      "18\n",
      "21\n",
      "24\n",
      "27\n",
      "30\n",
      "####################\n",
      "table of 4 =>\n",
      "4\n",
      "8\n",
      "12\n",
      "16\n",
      "20\n",
      "24\n",
      "28\n",
      "32\n",
      "36\n",
      "40\n",
      "####################\n",
      "table of 5 =>\n",
      "5\n",
      "10\n",
      "15\n",
      "20\n",
      "25\n",
      "30\n",
      "35\n",
      "40\n",
      "45\n",
      "50\n",
      "####################\n",
      "table of 6 =>\n",
      "6\n",
      "12\n",
      "18\n",
      "24\n",
      "30\n",
      "36\n",
      "42\n",
      "48\n",
      "54\n",
      "60\n",
      "####################\n",
      "table of 7 =>\n",
      "7\n",
      "14\n",
      "21\n",
      "28\n",
      "35\n",
      "42\n",
      "49\n",
      "56\n",
      "63\n",
      "70\n",
      "####################\n",
      "table of 8 =>\n",
      "8\n",
      "16\n",
      "24\n",
      "32\n",
      "40\n",
      "48\n",
      "56\n",
      "64\n",
      "72\n",
      "80\n",
      "####################\n",
      "table of 9 =>\n",
      "9\n",
      "18\n",
      "27\n",
      "36\n",
      "45\n",
      "54\n",
      "63\n",
      "72\n",
      "81\n",
      "90\n",
      "####################\n",
      "table of 10 =>\n",
      "10\n",
      "20\n",
      "30\n",
      "40\n",
      "50\n",
      "60\n",
      "70\n",
      "80\n",
      "90\n",
      "100\n",
      "####################\n"
     ]
    }
   ],
   "source": [
    "i = 1\n",
    "while i < 11:\n",
    "    \n",
    "    print(f\"table of {i} =>\")\n",
    "    \n",
    "    n = 1\n",
    "    while n < 11:\n",
    "        print(n * i)\n",
    "        n += 1\n",
    "        \n",
    "    print(\"####\"*5)\n",
    "    \n",
    "        \n",
    "    i += 1"
   ]
  },
  {
   "cell_type": "code",
   "execution_count": 15,
   "id": "1b4939df",
   "metadata": {},
   "outputs": [
    {
     "name": "stdout",
     "output_type": "stream",
     "text": [
      "\t1\t2\t3\t4\t5\t6\t7\t8\t9\t10\n",
      "\t2\t4\t6\t8\t10\t12\t14\t16\t18\t20\n",
      "\t3\t6\t9\t12\t15\t18\t21\t24\t27\t30\n",
      "\t4\t8\t12\t16\t20\t24\t28\t32\t36\t40\n",
      "\t5\t10\t15\t20\t25\t30\t35\t40\t45\t50\n",
      "\t6\t12\t18\t24\t30\t36\t42\t48\t54\t60\n",
      "\t7\t14\t21\t28\t35\t42\t49\t56\t63\t70\n",
      "\t8\t16\t24\t32\t40\t48\t56\t64\t72\t80\n",
      "\t9\t18\t27\t36\t45\t54\t63\t72\t81\t90\n",
      "\t10\t20\t30\t40\t50\t60\t70\t80\t90\t100\n"
     ]
    }
   ],
   "source": [
    "i = 1\n",
    "while i < 11:\n",
    "    \n",
    "    n = 1\n",
    "    while n < 11:\n",
    "        print(f\"\\t{n * i}\", end=\"\")\n",
    "        n += 1\n",
    "        \n",
    "    print()\n",
    "    i += 1"
   ]
  },
  {
   "cell_type": "code",
   "execution_count": 16,
   "id": "a370843f",
   "metadata": {},
   "outputs": [
    {
     "name": "stdout",
     "output_type": "stream",
     "text": [
      "hello world-------hello prashant\n"
     ]
    }
   ],
   "source": [
    "print(\"hello world\", end=\"-------\")\n",
    "print(\"hello prashant\")"
   ]
  }
 ],
 "metadata": {
  "kernelspec": {
   "display_name": "Python 3 (ipykernel)",
   "language": "python",
   "name": "python3"
  },
  "language_info": {
   "codemirror_mode": {
    "name": "ipython",
    "version": 3
   },
   "file_extension": ".py",
   "mimetype": "text/x-python",
   "name": "python",
   "nbconvert_exporter": "python",
   "pygments_lexer": "ipython3",
   "version": "3.10.0"
  }
 },
 "nbformat": 4,
 "nbformat_minor": 5
}
