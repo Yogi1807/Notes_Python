{
 "cells": [
  {
   "cell_type": "code",
   "execution_count": 3,
   "id": "0e46afa6",
   "metadata": {},
   "outputs": [],
   "source": [
    "employees=[\n",
    "  {\n",
    "    'first_name': 'Asabeneh',\n",
    "    'last_name': 'Yetayeh',\n",
    "    'age': 23,\n",
    "    'country': 'India',\n",
    "    'is_marred': True,\n",
    "    'skills': [\n",
    "      'JavaScript',\n",
    "      'golang',\n",
    "      'Node'\n",
    "    ],\n",
    "    'address': {\n",
    "      'street': 'Space street',\n",
    "      'zipcode': '02210'\n",
    "    }\n",
    "  },\n",
    "  {\n",
    "    'first_name': 'Rahul',\n",
    "    'last_name': 'Dravid',\n",
    "    'age': 56,\n",
    "    'country': 'Pakistan',\n",
    "    'is_marred': False,\n",
    "    'skills': [\n",
    "      'C#',\n",
    "      'React',\n",
    "      'Angular',\n",
    "      'MongoDB',\n",
    "      'Python'\n",
    "    ],\n",
    "    'address': {\n",
    "      'street': 'Space street',\n",
    "      'zipcode': '02210'\n",
    "    }\n",
    "  },\n",
    "  {\n",
    "    'first_name': 'Virat',\n",
    "    'last_name': 'Kohli',\n",
    "    'age': 67,\n",
    "    'country': 'Finland',\n",
    "    'is_marred': True,\n",
    "    'skills': [\n",
    "      'JavaScript',\n",
    "      'React',\n",
    "      'Node',\n",
    "      'MongoDB',\n",
    "      'Python'\n",
    "    ],\n",
    "    'address': {\n",
    "      'street': 'Space street',\n",
    "      'zipcode': '02210'\n",
    "    }\n",
    "  },\n",
    "  {\n",
    "    'first_name': 'Hardik',\n",
    "    'last_name': 'Pandya',\n",
    "    'age': 43,\n",
    "    'country': 'USA',\n",
    "    'is_marred': True,\n",
    "    'skills': [\n",
    "      'JavaScript',\n",
    "      'Azure',\n",
    "      'Snowflake',\n",
    "      'MongoDB'\n",
    "    ],\n",
    "    'address': {\n",
    "      'street': 'Space street',\n",
    "      'zipcode': '02210'\n",
    "    }\n",
    "  },\n",
    "  {\n",
    "    'first_name': 'Mohammad',\n",
    "    'last_name': 'Shami',\n",
    "    'age': 31,\n",
    "    'country': 'England',\n",
    "    'is_marred': False,\n",
    "    'skills': [\n",
    "      'AWS',\n",
    "      'GCP',\n",
    "      'Node',\n",
    "      'MongoDB',\n",
    "      'Python'\n",
    "    ],\n",
    "    'address': {\n",
    "      'street': 'Space street',\n",
    "      'zipcode': '02210'\n",
    "    }\n",
    "  }\n",
    "]"
   ]
  },
  {
   "cell_type": "markdown",
   "id": "34350815",
   "metadata": {},
   "source": [
    "Print the name of employees who have python as skill in the form first_name\n",
    "last_name"
   ]
  },
  {
   "cell_type": "code",
   "execution_count": 4,
   "id": "863d262a",
   "metadata": {},
   "outputs": [
    {
     "data": {
      "text/plain": [
       "5"
      ]
     },
     "execution_count": 4,
     "metadata": {},
     "output_type": "execute_result"
    }
   ],
   "source": [
    "len(employees)"
   ]
  },
  {
   "cell_type": "code",
   "execution_count": 5,
   "id": "ad07ffe2",
   "metadata": {},
   "outputs": [],
   "source": [
    "first = employees[0]"
   ]
  },
  {
   "cell_type": "code",
   "execution_count": 20,
   "id": "815832bf",
   "metadata": {},
   "outputs": [
    {
     "name": "stdout",
     "output_type": "stream",
     "text": [
      "Rahul Dravid\n",
      "Virat Kohli\n",
      "Mohammad Shami\n"
     ]
    },
    {
     "data": {
      "text/plain": [
       "[None, None, None]"
      ]
     },
     "execution_count": 20,
     "metadata": {},
     "output_type": "execute_result"
    }
   ],
   "source": [
    "# iterate on employee data\n",
    "\n",
    "python_devs = []\n",
    "for employee in employees:\n",
    "    \n",
    "    if \"python\".capitalize() in employee.get(\"skills\"):\n",
    "        full_name = \" \".join([employee.get(\"first_name\"), employee.get(\"last_name\")])\n",
    "        python_devs.append(full_name)\n",
    "        \n",
    "[print(name_) for name_ in python_devs]"
   ]
  },
  {
   "cell_type": "code",
   "execution_count": 23,
   "id": "5ce616e3",
   "metadata": {},
   "outputs": [
    {
     "name": "stdout",
     "output_type": "stream",
     "text": [
      "Rahul Dravid\n",
      "Virat Kohli\n",
      "Mohammad Shami\n"
     ]
    }
   ],
   "source": [
    "for employee in employees:\n",
    "    skill_set = employee.get(\"skills\")\n",
    "    if \"Python\" in skill_set:\n",
    "        full_name = employee.get(\"first_name\"), employee.get(\"last_name\")\n",
    "        full_name = \" \".join(full_name)\n",
    "        print(full_name)"
   ]
  },
  {
   "cell_type": "code",
   "execution_count": 22,
   "id": "99e854b9",
   "metadata": {},
   "outputs": [
    {
     "data": {
      "text/plain": [
       "'prashant---------abc'"
      ]
     },
     "execution_count": 22,
     "metadata": {},
     "output_type": "execute_result"
    }
   ],
   "source": [
    "sample = \"prashant\", \"abc\"\n",
    "\n",
    "\"---------\".join(sample)"
   ]
  },
  {
   "cell_type": "code",
   "execution_count": 25,
   "id": "d4ee8907",
   "metadata": {},
   "outputs": [
    {
     "name": "stdout",
     "output_type": "stream",
     "text": [
      "Rahul Dravid\n",
      "Virat Kohli\n",
      "Mohammad Shami\n"
     ]
    }
   ],
   "source": [
    "for i in employees:\n",
    "    if \"Python\" in i[\"skills\"]:\n",
    "        print(i[\"first_name\"],i[\"last_name\"])"
   ]
  }
 ],
 "metadata": {
  "kernelspec": {
   "display_name": "Python 3 (ipykernel)",
   "language": "python",
   "name": "python3"
  },
  "language_info": {
   "codemirror_mode": {
    "name": "ipython",
    "version": 3
   },
   "file_extension": ".py",
   "mimetype": "text/x-python",
   "name": "python",
   "nbconvert_exporter": "python",
   "pygments_lexer": "ipython3",
   "version": "3.10.0"
  }
 },
 "nbformat": 4,
 "nbformat_minor": 5
}
