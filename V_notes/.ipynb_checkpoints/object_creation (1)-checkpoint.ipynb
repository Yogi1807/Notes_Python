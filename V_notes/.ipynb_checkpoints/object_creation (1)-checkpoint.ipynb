{
 "cells": [
  {
   "cell_type": "markdown",
   "id": "c92fa2c5",
   "metadata": {},
   "source": [
    "# NOTE\n",
    "\n",
    "- whenever we create an object of any class two internal methods (special methods) get called \n",
    "\n",
    "    - `__new__`  (first method that gets called) :: creates a new object\n",
    "    - `__init__` (second method that gets called) :: initialization of your object"
   ]
  },
  {
   "cell_type": "markdown",
   "id": "f7fa17c0",
   "metadata": {},
   "source": [
    "## Terminology \n",
    "\n",
    "\n",
    "- `self` - implicit argument used to refer the object itself.\n",
    "- `instance method` :: any method defined under class that has `self` as first argument\n",
    "- `class attribute` :: attributes that are shared among objects of same class\n",
    "- `instance attribute` :: attributes defined under constructor method (`__init__`) and referred using `self`"
   ]
  },
  {
   "cell_type": "markdown",
   "id": "c3421566",
   "metadata": {},
   "source": [
    "#### Understanding `self`"
   ]
  },
  {
   "cell_type": "markdown",
   "id": "2c67fe65",
   "metadata": {},
   "source": [
    "- any method defined under class will have `self` as first (implicit) argument\n",
    "- `self` can be used to access both class attributes and instance attributes"
   ]
  },
  {
   "cell_type": "code",
   "execution_count": null,
   "id": "d8950ae7",
   "metadata": {
    "scrolled": true,
    "tags": []
   },
   "outputs": [],
   "source": [
    "class Point:\n",
    "    description = \"co-ordinates of point\"\n",
    "    \n",
    "    def __init__(self, x, y):\n",
    "        self.x = x  # instance attribute\n",
    "        self.y = y\n",
    "        foo = x + y\n",
    "    \n",
    "    def get_x_asix(self): # instance method\n",
    "        return self.x\n",
    "    \n",
    "    def get_y_axis(self): # instance method\n",
    "        return self.y\n",
    "    \n",
    "    def perform_addition(self):\n",
    "        reutrn self.x + self.y\n",
    "        \n",
    "        \n",
    "\n",
    "p1 = Point(10, 20)\n",
    "\n",
    "print(p1.x)\n",
    "print(p1.get_x_axis())\n",
    "\n",
    "print(p1.y)\n",
    "print(p1.get_y_axis())\n",
    "\n",
    "\n",
    "p2 = Point(30, 40)"
   ]
  },
  {
   "cell_type": "code",
   "execution_count": null,
   "id": "5edb9129",
   "metadata": {},
   "outputs": [],
   "source": [
    "class Robot:\n",
    "    price = 100\n",
    "    size = 10\n",
    "    \n",
    "    def __init__(self, brand, color):\n",
    "        self.brand = brand\n",
    "        self.color = color\n",
    "        \n",
    "    def get_brand(self):  # instance method\n",
    "        return self.brand\n",
    "    \n",
    "    def get_color(self):  # instance method\n",
    "        return self.color.UPPER()\n",
    "    \n",
    "    \n",
    "    \n",
    "r = Robot(\"Apple\", \"White\")\n",
    "\n",
    "# DOT operator to access attributes of class / object\n",
    "\n",
    "\n",
    "# accessing class attribute\n",
    "print(Robot.price)\n",
    "print(Robot.size)\n",
    "\n",
    "\n",
    "# accessing instance attribute\n",
    "r1 = Robot()\n",
    "print(r1.price) # accessing class attributes using object (instance)\n",
    "print(r1.size) # accessing class attributes using object (instance)\n",
    "\n",
    "# To get `brand` (instance attribute) directly\n",
    "print(r1.brand)\n",
    "\n",
    "# To get `brand` (instance attribute) using instance method\n",
    "print(r1.get_brand())"
   ]
  },
  {
   "cell_type": "code",
   "execution_count": 7,
   "id": "c54e17fd",
   "metadata": {},
   "outputs": [],
   "source": [
    "class Employee:\n",
    "    company = \"accenture\"\n",
    "    \n",
    "    # contructor\n",
    "    def __init__(self, salary, skills, designation):\n",
    "        self.sal = salary\n",
    "        self.skillset = skills\n",
    "        self.desig = designation\n",
    "        \n",
    "        \n",
    "    def get_details(self):\n",
    "        details = f\"{self.company} -  \\n{self.sal}, \\n{self.skillset}, \\n{self.desig}\"\n",
    "        return details"
   ]
  },
  {
   "cell_type": "code",
   "execution_count": 13,
   "id": "0a0dc28b",
   "metadata": {},
   "outputs": [
    {
     "data": {
      "text/plain": [
       "['__class__',\n",
       " '__delattr__',\n",
       " '__dict__',\n",
       " '__dir__',\n",
       " '__doc__',\n",
       " '__eq__',\n",
       " '__format__',\n",
       " '__ge__',\n",
       " '__getattribute__',\n",
       " '__gt__',\n",
       " '__hash__',\n",
       " '__init__',\n",
       " '__init_subclass__',\n",
       " '__le__',\n",
       " '__lt__',\n",
       " '__module__',\n",
       " '__ne__',\n",
       " '__new__',\n",
       " '__reduce__',\n",
       " '__reduce_ex__',\n",
       " '__repr__',\n",
       " '__setattr__',\n",
       " '__sizeof__',\n",
       " '__str__',\n",
       " '__subclasshook__',\n",
       " '__weakref__',\n",
       " 'company',\n",
       " 'get_details']"
      ]
     },
     "execution_count": 13,
     "metadata": {},
     "output_type": "execute_result"
    }
   ],
   "source": [
    "dir(Employee)"
   ]
  },
  {
   "cell_type": "code",
   "execution_count": 9,
   "id": "a06f343f",
   "metadata": {},
   "outputs": [
    {
     "name": "stdout",
     "output_type": "stream",
     "text": [
      "accenture -  \n",
      "100, \n",
      "['python', 'database'], \n",
      "software engineer\n"
     ]
    }
   ],
   "source": [
    "emp1 = Employee(100, [\"python\", \"database\"], \"software engineer\")\n",
    "\n",
    "print(emp1.get_details())"
   ]
  },
  {
   "cell_type": "code",
   "execution_count": 12,
   "id": "98ebccd1",
   "metadata": {},
   "outputs": [
    {
     "name": "stdout",
     "output_type": "stream",
     "text": [
      "4389860208\n"
     ]
    }
   ],
   "source": [
    "\"\"\"\n",
    "\n",
    "__new__\n",
    "__init__\n",
    "\n",
    "\"\"\"\n",
    "\n",
    "\n",
    "class Manager:\n",
    "    pass\n",
    "\n",
    "\n",
    "obj = Manager()\n",
    "\n",
    "print(id(obj))\n",
    "\n",
    "\n"
   ]
  },
  {
   "cell_type": "code",
   "execution_count": 14,
   "id": "6084f4a8",
   "metadata": {},
   "outputs": [],
   "source": [
    "class Cricketer:\n",
    "    \"\"\"class to define functionality of cricket players\"\"\"\n",
    "    \n",
    "    fitness = \"yoyo\"  # class attribute\n",
    "    \n",
    "    def __init__(self, name, value):\n",
    "        self.name = name   # instance attribute\n",
    "        self.score = value\n",
    "        \n",
    "        \n",
    "    def get_score(self):  # instance method\n",
    "        return f\"{self.name} has scored {self.score}\"\n",
    "    "
   ]
  },
  {
   "cell_type": "code",
   "execution_count": 17,
   "id": "68c40091",
   "metadata": {},
   "outputs": [
    {
     "name": "stdout",
     "output_type": "stream",
     "text": [
      "Dhoni\n",
      "1000\n",
      "Dhoni has scored 1000\n"
     ]
    }
   ],
   "source": [
    "dhoni_ = Cricketer(\"Dhoni\", 1000)\n",
    "\n",
    "print(dhoni_.name)\n",
    "\n",
    "print(dhoni_.score)\n",
    "\n",
    "\n",
    "print(dhoni_.get_score())"
   ]
  },
  {
   "cell_type": "code",
   "execution_count": 25,
   "id": "4099802a",
   "metadata": {},
   "outputs": [
    {
     "name": "stdout",
     "output_type": "stream",
     "text": [
      "174\n"
     ]
    },
    {
     "data": {
      "text/plain": [
       "174"
      ]
     },
     "execution_count": 25,
     "metadata": {},
     "output_type": "execute_result"
    }
   ],
   "source": [
    "\n",
    "class TicketCollector:\n",
    "    \"\"\"\n",
    "    TicketCollection application\n",
    "    \n",
    "    if height is valid 5$\n",
    "    if age is valid $10\n",
    "    \"\"\"\n",
    "    \n",
    "    game = \"merry-go-round\"  # class attribute\n",
    "\n",
    "    \n",
    "    def __init__(self, height, age, amount=0):\n",
    "        self.height = height   # instance attribute\n",
    "        self.age = age\n",
    "        self.amount = amount\n",
    "        \n",
    "    \n",
    "    def get_final_price(self):  # instance method (method attribute)\n",
    "        if self.height > 150:\n",
    "            self.amount += 5\n",
    "            \n",
    "        if self.age > 12:\n",
    "            self.amount += 10\n",
    "            \n",
    "        return self.game + \" \" + str(self.amount) + \" dollars\"\n",
    "            \n",
    "\n",
    "        \n",
    "        \n",
    "prashant = TicketCollector(174, 29)\n",
    "prashant.get_final_price()\n",
    "\n",
    "\n",
    "print(prashant.height)\n",
    "print(TicketCollector(174, 29).height)"
   ]
  },
  {
   "cell_type": "markdown",
   "id": "c5e2d2a9",
   "metadata": {},
   "source": [
    "### `class attribute` vs `instace attribute` vs `instance method`\n",
    "\n",
    "\n",
    "class attribute\n",
    "\n",
    "\n",
    "- class attributes are defined at class level\n",
    "- we can access class attributes using DOT operator ahead of class name\n",
    "- class attributes are shared between objects of same class\n",
    "\n",
    "\n",
    "\n",
    "instance attribute\n",
    "\n",
    "- owned by objects (specific to instance)\n",
    "- for any 2 distinct objects, instance attrs are different\n",
    "- defined under __init__ method\n",
    "\n",
    "instance method\n",
    "\n",
    "- defined under class and `self` is the first implicit argument\n",
    "\n"
   ]
  },
  {
   "cell_type": "code",
   "execution_count": 33,
   "id": "c075b66b",
   "metadata": {},
   "outputs": [],
   "source": [
    "class Person:\n",
    "    citizenship = \"Indian\"\n",
    "    profession = \"Engineer\"\n",
    "    \n",
    "    \n",
    "    def __init__(self, name, height, age):\n",
    "        self.name = name\n",
    "        self.height = height\n",
    "        self.age = age\n",
    "        \n",
    "        \n",
    "    def get_details(self):\n",
    "        return self.name + \" is \" + (\"tall\" if self.height > 170 else \"short\")\n",
    "    \n",
    "    \n",
    "    def set_height(self):\n",
    "        self.height += 2"
   ]
  },
  {
   "cell_type": "code",
   "execution_count": 37,
   "id": "bd69cdf7",
   "metadata": {},
   "outputs": [
    {
     "name": "stdout",
     "output_type": "stream",
     "text": [
      "174\n",
      "176\n"
     ]
    }
   ],
   "source": [
    "srk = Person(\"Shahrukh\", 174, 57)\n",
    "\n",
    "srk.get_details()\n",
    "\n",
    "\n",
    "srk.citizenship     # instance (object) name\n",
    "Person.profession   # class name\n",
    "\n",
    "\n",
    "Person(\"Shahrukh\", 174, 57).get_details()\n",
    "\n",
    "print(srk.height)\n",
    "srk.set_height()\n",
    "print(srk.height)"
   ]
  },
  {
   "cell_type": "code",
   "execution_count": 32,
   "id": "2291e89d",
   "metadata": {},
   "outputs": [
    {
     "data": {
      "text/plain": [
       "list"
      ]
     },
     "execution_count": 32,
     "metadata": {},
     "output_type": "execute_result"
    }
   ],
   "source": [
    "foo = []\n",
    "\n",
    "type(foo) # `foo` is an object of class `list`"
   ]
  }
 ],
 "metadata": {
  "kernelspec": {
   "display_name": "Python 3 (ipykernel)",
   "language": "python",
   "name": "python3"
  },
  "language_info": {
   "codemirror_mode": {
    "name": "ipython",
    "version": 3
   },
   "file_extension": ".py",
   "mimetype": "text/x-python",
   "name": "python",
   "nbconvert_exporter": "python",
   "pygments_lexer": "ipython3",
   "version": "3.10.0"
  }
 },
 "nbformat": 4,
 "nbformat_minor": 5
}
