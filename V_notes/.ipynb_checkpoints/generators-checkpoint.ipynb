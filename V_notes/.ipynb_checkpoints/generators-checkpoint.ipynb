{
 "cells": [
  {
   "cell_type": "markdown",
   "id": "016b2d28-5766-41e7-b0b1-d0f03b616935",
   "metadata": {},
   "source": [
    "- `Generators` are `Iterators`\n",
    "- It easy way to produce `Iterators`"
   ]
  },
  {
   "cell_type": "markdown",
   "id": "643dd132-ebe2-4ba0-ba09-5c894b4b4a59",
   "metadata": {},
   "source": [
    "- To defined function based generators we have to use `yield` statement instead of `return` statement"
   ]
  },
  {
   "cell_type": "code",
   "execution_count": 4,
   "id": "825cc8a8-df47-4432-a2e7-3c5033a8e3f3",
   "metadata": {},
   "outputs": [],
   "source": [
    "def greet():\n",
    "    yield \"Good morning\""
   ]
  },
  {
   "cell_type": "code",
   "execution_count": 6,
   "id": "d4e465a1-8e92-445d-b37d-4402e4f9c631",
   "metadata": {},
   "outputs": [
    {
     "data": {
      "text/plain": [
       "generator"
      ]
     },
     "execution_count": 6,
     "metadata": {},
     "output_type": "execute_result"
    }
   ],
   "source": [
    "type(greet())"
   ]
  },
  {
   "cell_type": "code",
   "execution_count": 7,
   "id": "91b2f017-778c-40a8-9da5-5241ae31406f",
   "metadata": {},
   "outputs": [
    {
     "name": "stdout",
     "output_type": "stream",
     "text": [
      "Good morning\n"
     ]
    }
   ],
   "source": [
    "for greeting in greet():\n",
    "    print(greeting)"
   ]
  },
  {
   "cell_type": "code",
   "execution_count": 8,
   "id": "b98fcbd0-71c7-442a-9e48-c83cce5d4178",
   "metadata": {},
   "outputs": [],
   "source": [
    "iterator = greet()\n"
   ]
  },
  {
   "cell_type": "code",
   "execution_count": 10,
   "id": "ca52ad4a-efc7-4ddb-96aa-4c6f823c13a1",
   "metadata": {},
   "outputs": [
    {
     "ename": "StopIteration",
     "evalue": "",
     "output_type": "error",
     "traceback": [
      "\u001b[0;31m---------------------------------------------------------------------------\u001b[0m",
      "\u001b[0;31mStopIteration\u001b[0m                             Traceback (most recent call last)",
      "Cell \u001b[0;32mIn [10], line 1\u001b[0m\n\u001b[0;32m----> 1\u001b[0m \u001b[38;5;28;43mnext\u001b[39;49m\u001b[43m(\u001b[49m\u001b[43miterator\u001b[49m\u001b[43m)\u001b[49m\n",
      "\u001b[0;31mStopIteration\u001b[0m: "
     ]
    }
   ],
   "source": [
    "next(iterator)"
   ]
  },
  {
   "cell_type": "code",
   "execution_count": 11,
   "id": "f22bf91b-0e87-4c15-8288-dd60230ce6b3",
   "metadata": {},
   "outputs": [],
   "source": [
    "def greet():\n",
    "    yield \"Good morning\"\n",
    "    yield \"Good afternoon\"\n",
    "    yield \"Good evening\""
   ]
  },
  {
   "cell_type": "code",
   "execution_count": 12,
   "id": "8e0303ef-dce6-44cf-b0b6-ee5a27d6de85",
   "metadata": {},
   "outputs": [],
   "source": [
    "iterator = greet()"
   ]
  },
  {
   "cell_type": "code",
   "execution_count": 16,
   "id": "8a6b8f19-1665-4f9d-a4de-914cb562e6ab",
   "metadata": {},
   "outputs": [
    {
     "ename": "StopIteration",
     "evalue": "",
     "output_type": "error",
     "traceback": [
      "\u001b[0;31m---------------------------------------------------------------------------\u001b[0m",
      "\u001b[0;31mStopIteration\u001b[0m                             Traceback (most recent call last)",
      "Cell \u001b[0;32mIn [16], line 1\u001b[0m\n\u001b[0;32m----> 1\u001b[0m \u001b[38;5;28;43mnext\u001b[39;49m\u001b[43m(\u001b[49m\u001b[43miterator\u001b[49m\u001b[43m)\u001b[49m\n",
      "\u001b[0;31mStopIteration\u001b[0m: "
     ]
    }
   ],
   "source": [
    "next(iterator)"
   ]
  },
  {
   "cell_type": "code",
   "execution_count": 17,
   "id": "3117abdd-76ad-4edc-b661-11505173839e",
   "metadata": {},
   "outputs": [],
   "source": [
    "def counter(lower, higher):\n",
    "    while lower <= higher:\n",
    "        yield lower\n",
    "        lower += 1\n",
    "        "
   ]
  },
  {
   "cell_type": "code",
   "execution_count": 131,
   "id": "ce2afb19-e992-4b7c-bc70-9377b14ce2d6",
   "metadata": {},
   "outputs": [],
   "source": [
    "c_iterator = counter(10, 15)"
   ]
  },
  {
   "cell_type": "code",
   "execution_count": 138,
   "id": "b142502a-be49-42d1-abb9-116bbb39e2e5",
   "metadata": {},
   "outputs": [
    {
     "ename": "StopIteration",
     "evalue": "",
     "output_type": "error",
     "traceback": [
      "\u001b[0;31m---------------------------------------------------------------------------\u001b[0m",
      "\u001b[0;31mStopIteration\u001b[0m                             Traceback (most recent call last)",
      "Cell \u001b[0;32mIn [138], line 1\u001b[0m\n\u001b[0;32m----> 1\u001b[0m \u001b[38;5;28;43mnext\u001b[39;49m\u001b[43m(\u001b[49m\u001b[43mc_iterator\u001b[49m\u001b[43m)\u001b[49m\n",
      "\u001b[0;31mStopIteration\u001b[0m: "
     ]
    }
   ],
   "source": [
    "next(c_iterator)"
   ]
  },
  {
   "cell_type": "code",
   "execution_count": 29,
   "id": "eda35b68-736d-4658-a3d3-7f8ff52da591",
   "metadata": {},
   "outputs": [
    {
     "name": "stdout",
     "output_type": "stream",
     "text": [
      "40\n",
      "41\n",
      "42\n",
      "43\n",
      "44\n",
      "45\n"
     ]
    }
   ],
   "source": [
    "for item in counter(40, 45):\n",
    "    print(item)"
   ]
  },
  {
   "cell_type": "markdown",
   "id": "4046b38f-b526-4ac2-859c-e347efa455e7",
   "metadata": {},
   "source": [
    "### generator to produce infite natural numbers"
   ]
  },
  {
   "cell_type": "code",
   "execution_count": 34,
   "id": "fa0767a6-abe2-4aec-95f0-b8ca32138a95",
   "metadata": {},
   "outputs": [],
   "source": [
    "def infinite_generator(start):\n",
    "    while True:\n",
    "        yield start\n",
    "        start += 1"
   ]
  },
  {
   "cell_type": "code",
   "execution_count": 37,
   "id": "a340a91a-37ca-4b08-b15b-1d0fc7c69d2f",
   "metadata": {},
   "outputs": [
    {
     "data": {
      "text/plain": [
       "generator"
      ]
     },
     "execution_count": 37,
     "metadata": {},
     "output_type": "execute_result"
    }
   ],
   "source": [
    "natural = infinite_generator(1)\n",
    "type(natural)"
   ]
  },
  {
   "cell_type": "code",
   "execution_count": 106,
   "id": "0f3c188c-0e0b-4c4d-8077-7c2eb156645e",
   "metadata": {},
   "outputs": [
    {
     "data": {
      "text/plain": [
       "69"
      ]
     },
     "execution_count": 106,
     "metadata": {},
     "output_type": "execute_result"
    }
   ],
   "source": [
    "next(natural)"
   ]
  },
  {
   "cell_type": "code",
   "execution_count": 108,
   "id": "576959bc-c390-4a6d-822a-547222125ca5",
   "metadata": {},
   "outputs": [
    {
     "name": "stdout",
     "output_type": "stream",
     "text": [
      "10\n",
      "11\n",
      "12\n",
      "13\n",
      "14\n",
      "15\n"
     ]
    }
   ],
   "source": [
    "for item in infinite_generator(10):\n",
    "    print(item)\n",
    "    if item >= 15:\n",
    "        break"
   ]
  },
  {
   "cell_type": "markdown",
   "id": "2c55642c-0ef5-4cb8-b3cb-9ead5f70f598",
   "metadata": {},
   "source": [
    "### use case\n",
    "\n",
    "- with generator / iterator implementation, we can save memory\n",
    "- iterators / generator objects are not re-usable\n",
    "\n",
    "- generator/iterator objects hold the state of object"
   ]
  }
 ],
 "metadata": {
  "kernelspec": {
   "display_name": "Python 3 (ipykernel)",
   "language": "python",
   "name": "python3"
  },
  "language_info": {
   "codemirror_mode": {
    "name": "ipython",
    "version": 3
   },
   "file_extension": ".py",
   "mimetype": "text/x-python",
   "name": "python",
   "nbconvert_exporter": "python",
   "pygments_lexer": "ipython3",
   "version": "3.10.0"
  }
 },
 "nbformat": 4,
 "nbformat_minor": 5
}
