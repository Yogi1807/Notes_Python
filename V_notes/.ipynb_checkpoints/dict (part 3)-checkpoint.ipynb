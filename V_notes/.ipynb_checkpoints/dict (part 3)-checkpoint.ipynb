{
 "cells": [
  {
   "cell_type": "code",
   "execution_count": 1,
   "id": "2a3bdb53",
   "metadata": {},
   "outputs": [
    {
     "data": {
      "text/plain": [
       "['__class__',\n",
       " '__class_getitem__',\n",
       " '__contains__',\n",
       " '__delattr__',\n",
       " '__delitem__',\n",
       " '__dir__',\n",
       " '__doc__',\n",
       " '__eq__',\n",
       " '__format__',\n",
       " '__ge__',\n",
       " '__getattribute__',\n",
       " '__getitem__',\n",
       " '__gt__',\n",
       " '__hash__',\n",
       " '__init__',\n",
       " '__init_subclass__',\n",
       " '__ior__',\n",
       " '__iter__',\n",
       " '__le__',\n",
       " '__len__',\n",
       " '__lt__',\n",
       " '__ne__',\n",
       " '__new__',\n",
       " '__or__',\n",
       " '__reduce__',\n",
       " '__reduce_ex__',\n",
       " '__repr__',\n",
       " '__reversed__',\n",
       " '__ror__',\n",
       " '__setattr__',\n",
       " '__setitem__',\n",
       " '__sizeof__',\n",
       " '__str__',\n",
       " '__subclasshook__',\n",
       " 'clear',\n",
       " 'copy',\n",
       " 'fromkeys',\n",
       " 'get',\n",
       " 'items',\n",
       " 'keys',\n",
       " 'pop',\n",
       " 'popitem',\n",
       " 'setdefault',\n",
       " 'update',\n",
       " 'values']"
      ]
     },
     "execution_count": 1,
     "metadata": {},
     "output_type": "execute_result"
    }
   ],
   "source": [
    "dir(dict)"
   ]
  },
  {
   "cell_type": "markdown",
   "id": "4b93300e",
   "metadata": {},
   "source": [
    "'clear',\n",
    " 'copy',\n",
    " 'fromkeys',\n",
    " 'get',\n",
    " 'items',\n",
    " 'keys',\n",
    " 'pop',\n",
    " 'popitem',\n",
    " 'setdefault',\n",
    " 'update',\n",
    " 'values'"
   ]
  },
  {
   "cell_type": "markdown",
   "id": "3ffb1c19",
   "metadata": {},
   "source": [
    "# `pop()` function\n",
    "\n",
    "- `pop()` function takes single argument\n",
    "- second argument is optional (can be used for default value)\n",
    "\n",
    "\n",
    "### syntax\n",
    "\n",
    "```\n",
    "foo = dict()\n",
    "foo.pop(<key>, <default-value>)\n",
    "```"
   ]
  },
  {
   "cell_type": "code",
   "execution_count": 3,
   "id": "85e9c5ae",
   "metadata": {},
   "outputs": [],
   "source": [
    "company_data = {\n",
    "    \"accenture\": 300000,\n",
    "    \"capgemini\": 200000,\n",
    "    \"credit suisse\": 10000\n",
    "}"
   ]
  },
  {
   "cell_type": "code",
   "execution_count": 5,
   "id": "9c15f0bf",
   "metadata": {},
   "outputs": [
    {
     "data": {
      "text/plain": [
       "300000"
      ]
     },
     "execution_count": 5,
     "metadata": {},
     "output_type": "execute_result"
    }
   ],
   "source": [
    "company_data.pop(\"accenture\")"
   ]
  },
  {
   "cell_type": "code",
   "execution_count": 25,
   "id": "25293476",
   "metadata": {},
   "outputs": [
    {
     "data": {
      "text/plain": [
       "90000"
      ]
     },
     "execution_count": 25,
     "metadata": {},
     "output_type": "execute_result"
    }
   ],
   "source": [
    "company_data.pop(\"LTI\", 90000)"
   ]
  },
  {
   "cell_type": "markdown",
   "id": "7175c3a2",
   "metadata": {},
   "source": [
    "# `popitem()` function"
   ]
  },
  {
   "cell_type": "code",
   "execution_count": 11,
   "id": "7a2788fb",
   "metadata": {},
   "outputs": [],
   "source": [
    "company_data = {\n",
    "    \"accenture\": 300000,\n",
    "    \"capgemini\": 200000,\n",
    "    \"credit suisse\": 10000\n",
    "}\n"
   ]
  },
  {
   "cell_type": "code",
   "execution_count": 19,
   "id": "368c620d",
   "metadata": {},
   "outputs": [
    {
     "ename": "KeyError",
     "evalue": "'popitem(): dictionary is empty'",
     "output_type": "error",
     "traceback": [
      "\u001b[0;31m---------------------------------------------------------------------------\u001b[0m",
      "\u001b[0;31mKeyError\u001b[0m                                  Traceback (most recent call last)",
      "Cell \u001b[0;32mIn [19], line 1\u001b[0m\n\u001b[0;32m----> 1\u001b[0m \u001b[43mcompany_data\u001b[49m\u001b[38;5;241;43m.\u001b[39;49m\u001b[43mpopitem\u001b[49m\u001b[43m(\u001b[49m\u001b[43m)\u001b[49m\n",
      "\u001b[0;31mKeyError\u001b[0m: 'popitem(): dictionary is empty'"
     ]
    }
   ],
   "source": [
    "company_data.popitem()\n"
   ]
  },
  {
   "cell_type": "code",
   "execution_count": 18,
   "id": "a649bf68",
   "metadata": {},
   "outputs": [
    {
     "data": {
      "text/plain": [
       "{}"
      ]
     },
     "execution_count": 18,
     "metadata": {},
     "output_type": "execute_result"
    }
   ],
   "source": [
    "company_data"
   ]
  },
  {
   "cell_type": "markdown",
   "id": "ec708d33",
   "metadata": {},
   "source": [
    "# `get()` function"
   ]
  },
  {
   "cell_type": "code",
   "execution_count": 22,
   "id": "5b6d7817",
   "metadata": {},
   "outputs": [
    {
     "name": "stdout",
     "output_type": "stream",
     "text": [
      "0\n"
     ]
    }
   ],
   "source": [
    "company_data = {\n",
    "    \"accenture\": 300000,\n",
    "    \"capgemini\": 200000,\n",
    "    \"credit suisse\": 10000\n",
    "}\n",
    "\n",
    "# alternative\n",
    "\n",
    "# company_data[\"TCS\"]\n",
    "\n",
    "result = company_data.get(\"TCS\", 0)\n",
    "print(result)"
   ]
  },
  {
   "cell_type": "markdown",
   "id": "862aef79",
   "metadata": {},
   "source": [
    "# `setdefault()`"
   ]
  },
  {
   "cell_type": "code",
   "execution_count": 31,
   "id": "dda9a9c2",
   "metadata": {},
   "outputs": [],
   "source": [
    "company_data = {\n",
    "    \"accenture\": 300000,\n",
    "    \"capgemini\": 200000,\n",
    "    \"credit suisse\": 10000\n",
    "}"
   ]
  },
  {
   "cell_type": "code",
   "execution_count": 28,
   "id": "f4ee1e67",
   "metadata": {},
   "outputs": [
    {
     "name": "stdout",
     "output_type": "stream",
     "text": [
      "{'accenture': 300000, 'capgemini': 200000, 'credit suisse': 10000}\n"
     ]
    }
   ],
   "source": [
    "# if I am using existing key\n",
    "\n",
    "company_data.setdefault(\"accenture\", 400000)\n",
    "print(company_data)"
   ]
  },
  {
   "cell_type": "code",
   "execution_count": 32,
   "id": "c2ffa2e4",
   "metadata": {},
   "outputs": [
    {
     "name": "stdout",
     "output_type": "stream",
     "text": [
      "{'accenture': 300000, 'capgemini': 200000, 'credit suisse': 10000, 'Persistent': 'NA'}\n"
     ]
    }
   ],
   "source": [
    "# what if key does not exist\n",
    "\n",
    "company_data.setdefault(\"Persistent\", \"NA\")\n",
    "print(company_data)\n"
   ]
  },
  {
   "cell_type": "markdown",
   "id": "6f597353",
   "metadata": {},
   "source": [
    "# `update()` function"
   ]
  },
  {
   "cell_type": "code",
   "execution_count": 38,
   "id": "bffd0463",
   "metadata": {},
   "outputs": [
    {
     "name": "stdout",
     "output_type": "stream",
     "text": [
      "{'mumbai': 10, 'pune': 20, 'nashik': 80, 'latur': 50}\n",
      "{'nashik': 80, 'latur': 50}\n"
     ]
    }
   ],
   "source": [
    "d1 = {\"mumbai\": 10, \"pune\": 20}\n",
    "d2 = {\"nashik\": 80, \"latur\": 50}\n",
    "\n",
    "d1.update(d2)\n",
    "\n",
    "print(d1)\n",
    "print(d2)"
   ]
  },
  {
   "cell_type": "code",
   "execution_count": 37,
   "id": "cd959ec4",
   "metadata": {},
   "outputs": [
    {
     "name": "stdout",
     "output_type": "stream",
     "text": [
      "{'mumbai': 10, 'pune': 80, 'latur': 50}\n",
      "{'pune': 80, 'latur': 50}\n"
     ]
    }
   ],
   "source": [
    "d1 = {\"mumbai\": 10, \"pune\": 20}\n",
    "d2 = {\"pune\": 80, \"latur\": 50}\n",
    "\n",
    "d1.update(d2)\n",
    "\n",
    "print(d1)\n",
    "print(d2)"
   ]
  },
  {
   "cell_type": "code",
   "execution_count": 43,
   "id": "a94daf44",
   "metadata": {},
   "outputs": [
    {
     "name": "stdout",
     "output_type": "stream",
     "text": [
      "{'mumbai': 10000, 'pune': 50, 'nashik': 90}\n",
      "{'mumbai': 80, 'pune': 50}\n"
     ]
    }
   ],
   "source": [
    "d1 = {\"mumbai\": 10, \"pune\": 20}\n",
    "d2 = {\"mumbai\": 80, \"pune\": 50}\n",
    "d3 = {\"nashik\": 90, \"mumbai\": 10000}\n",
    "\n",
    "d1.update(d2)\n",
    "d1.update(d3)\n",
    "\n",
    "print(d1)\n",
    "print(d2)"
   ]
  },
  {
   "cell_type": "code",
   "execution_count": 41,
   "id": "fcbb9a95",
   "metadata": {},
   "outputs": [
    {
     "name": "stdout",
     "output_type": "stream",
     "text": [
      "['a', 'b', 1, 2]\n",
      "[1, 2]\n"
     ]
    }
   ],
   "source": [
    "foo = [\"a\", \"b\"]\n",
    "bar = [1, 2]\n",
    "\n",
    "foo.extend(bar)\n",
    "\n",
    "print(foo)\n",
    "print(bar)"
   ]
  },
  {
   "cell_type": "markdown",
   "id": "9c060ffc",
   "metadata": {},
   "source": [
    "# `items()` function\n",
    "\n",
    "- items() function returns an iterable object called `dict_item`\n",
    "- `dict_item` is a collection type object which contains a list-like structure\n",
    "- where key:value pairs is represented as `tuple`"
   ]
  },
  {
   "cell_type": "code",
   "execution_count": 45,
   "id": "e6675d4e",
   "metadata": {},
   "outputs": [
    {
     "data": {
      "text/plain": [
       "dict_items([('accenture', 300000), ('capgemini', 200000), ('credit suisse', 10000)])"
      ]
     },
     "execution_count": 45,
     "metadata": {},
     "output_type": "execute_result"
    }
   ],
   "source": [
    "company_data = {\n",
    "    \"accenture\": 300000,\n",
    "    \"capgemini\": 200000,\n",
    "    \"credit suisse\": 10000\n",
    "}\n",
    "\n",
    "result = company_data.items()\n",
    "result"
   ]
  },
  {
   "cell_type": "code",
   "execution_count": 46,
   "id": "114b0f75",
   "metadata": {},
   "outputs": [
    {
     "data": {
      "text/plain": [
       "dict_items"
      ]
     },
     "execution_count": 46,
     "metadata": {},
     "output_type": "execute_result"
    }
   ],
   "source": [
    "type(result) # `result` is an object of class `dict_items`"
   ]
  }
 ],
 "metadata": {
  "kernelspec": {
   "display_name": "Python 3 (ipykernel)",
   "language": "python",
   "name": "python3"
  },
  "language_info": {
   "codemirror_mode": {
    "name": "ipython",
    "version": 3
   },
   "file_extension": ".py",
   "mimetype": "text/x-python",
   "name": "python",
   "nbconvert_exporter": "python",
   "pygments_lexer": "ipython3",
   "version": "3.10.0"
  }
 },
 "nbformat": 4,
 "nbformat_minor": 5
}
