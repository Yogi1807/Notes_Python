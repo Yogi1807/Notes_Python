{
 "cells": [
  {
   "cell_type": "markdown",
   "id": "3269ee0f",
   "metadata": {},
   "source": [
    "## assignment operator"
   ]
  },
  {
   "cell_type": "code",
   "execution_count": 1,
   "id": "94e53ff9",
   "metadata": {},
   "outputs": [
    {
     "name": "stdout",
     "output_type": "stream",
     "text": [
      "['virat', 'hardik']\n",
      "['virat', 'hardik']\n"
     ]
    }
   ],
   "source": [
    "players1 = [\"virat\", \"hardik\"]\n",
    "players2 = players1\n",
    "\n",
    "print(players1)\n",
    "print(players2)"
   ]
  },
  {
   "cell_type": "code",
   "execution_count": 2,
   "id": "ee3cb05b",
   "metadata": {},
   "outputs": [
    {
     "data": {
      "text/plain": [
       "'hardik'"
      ]
     },
     "execution_count": 2,
     "metadata": {},
     "output_type": "execute_result"
    }
   ],
   "source": [
    "players1.pop()"
   ]
  },
  {
   "cell_type": "code",
   "execution_count": 3,
   "id": "68985ee5",
   "metadata": {},
   "outputs": [
    {
     "data": {
      "text/plain": [
       "['virat']"
      ]
     },
     "execution_count": 3,
     "metadata": {},
     "output_type": "execute_result"
    }
   ],
   "source": [
    "players2"
   ]
  },
  {
   "cell_type": "markdown",
   "id": "190bf829",
   "metadata": {},
   "source": [
    " `players2`  --> [virat, hardik]  <---- `players1`"
   ]
  },
  {
   "cell_type": "markdown",
   "id": "fc689a4b",
   "metadata": {},
   "source": [
    "# `copy()` function (list, dict)\n",
    "\n",
    "- shallow copy"
   ]
  },
  {
   "cell_type": "code",
   "execution_count": 6,
   "id": "81182e08",
   "metadata": {},
   "outputs": [],
   "source": [
    "players1 = [\"virat\", \"hardik\"]\n",
    "players2 = players1.copy()"
   ]
  },
  {
   "cell_type": "code",
   "execution_count": 7,
   "id": "03faab51",
   "metadata": {},
   "outputs": [
    {
     "name": "stdout",
     "output_type": "stream",
     "text": [
      "['virat']\n"
     ]
    }
   ],
   "source": [
    "players1.pop()\n",
    "print(players1)"
   ]
  },
  {
   "cell_type": "code",
   "execution_count": null,
   "id": "ae5e4a65",
   "metadata": {},
   "outputs": [],
   "source": []
  },
  {
   "cell_type": "code",
   "execution_count": 10,
   "id": "4c20edf3",
   "metadata": {},
   "outputs": [
    {
     "data": {
      "text/plain": [
       "['virat', 'hardik']"
      ]
     },
     "execution_count": 10,
     "metadata": {},
     "output_type": "execute_result"
    }
   ],
   "source": [
    "players2"
   ]
  },
  {
   "cell_type": "markdown",
   "id": "0eae997d",
   "metadata": {},
   "source": [
    "\n",
    "\"virat\"   1000000\n",
    "\n",
    "\"hardik\"  2000000\n",
    "\n",
    "\n",
    "players1  --> [\n",
    "                ___\n",
    "                ,\n",
    "                ___\n",
    "              ]\n",
    "              \n",
    "players2  --> [\n",
    "               __\n",
    "                ,\n",
    "               __\n",
    "              ]           "
   ]
  },
  {
   "cell_type": "markdown",
   "id": "610d9261",
   "metadata": {},
   "source": [
    "# deepcopy function\n",
    "\n",
    "- to use `deepcopy` you need to import a module\n",
    "- module is ready-to-use code\n",
    "\n",
    "#### syntax\n",
    "\n",
    "from copy import deepcopy\n",
    "\n"
   ]
  },
  {
   "cell_type": "markdown",
   "id": "faa88d2a",
   "metadata": {},
   "source": [
    "## difference between deepcopy vs shallowcopy\n",
    "\n",
    "- for flat list objects both deepcopy and shallowcopy work same\n",
    "- but for nested list deepcopy operation allocates memory to each element "
   ]
  },
  {
   "cell_type": "code",
   "execution_count": 11,
   "id": "1ae31407",
   "metadata": {},
   "outputs": [],
   "source": [
    "from copy import deepcopy\n",
    "\n",
    "players1 = [\"virat\", \"hardik\"]\n",
    "players2 = deepcopy(players1)"
   ]
  },
  {
   "cell_type": "code",
   "execution_count": 12,
   "id": "ba8b62cf",
   "metadata": {},
   "outputs": [
    {
     "name": "stdout",
     "output_type": "stream",
     "text": [
      "['virat', 'hardik']\n",
      "['virat', 'hardik']\n"
     ]
    }
   ],
   "source": [
    "print(players1)\n",
    "print(players2)"
   ]
  },
  {
   "cell_type": "code",
   "execution_count": 13,
   "id": "c3f72cd4",
   "metadata": {},
   "outputs": [
    {
     "data": {
      "text/plain": [
       "'hardik'"
      ]
     },
     "execution_count": 13,
     "metadata": {},
     "output_type": "execute_result"
    }
   ],
   "source": [
    "players1.pop()"
   ]
  },
  {
   "cell_type": "code",
   "execution_count": 14,
   "id": "4f72d59e",
   "metadata": {},
   "outputs": [
    {
     "name": "stdout",
     "output_type": "stream",
     "text": [
      "['virat']\n",
      "['virat', 'hardik']\n"
     ]
    }
   ],
   "source": [
    "print(players1)\n",
    "print(players2)"
   ]
  },
  {
   "cell_type": "markdown",
   "id": "94afa708",
   "metadata": {},
   "source": [
    "### now lets try with nested list"
   ]
  },
  {
   "cell_type": "code",
   "execution_count": 53,
   "id": "a425adbc",
   "metadata": {},
   "outputs": [],
   "source": [
    "match1 = [\"sachin\", [100, 200]]\n",
    "match2 = match1.copy()"
   ]
  },
  {
   "cell_type": "code",
   "execution_count": 54,
   "id": "7f14b831",
   "metadata": {},
   "outputs": [
    {
     "name": "stdout",
     "output_type": "stream",
     "text": [
      "['sachin', [100, 200]]\n",
      "['sachin', [100, 200]]\n"
     ]
    }
   ],
   "source": [
    "print(match1)\n",
    "print(match2)"
   ]
  },
  {
   "cell_type": "code",
   "execution_count": 59,
   "id": "f6dee136",
   "metadata": {},
   "outputs": [
    {
     "name": "stdout",
     "output_type": "stream",
     "text": [
      "4705004928\n",
      "4705004928\n"
     ]
    },
    {
     "data": {
      "text/plain": [
       "200"
      ]
     },
     "execution_count": 59,
     "metadata": {},
     "output_type": "execute_result"
    }
   ],
   "source": [
    "print(id(match1[1]))\n",
    "print(id(match2[1]))\n",
    "\n",
    "match1[1].pop()"
   ]
  },
  {
   "cell_type": "code",
   "execution_count": 60,
   "id": "120a15a0",
   "metadata": {},
   "outputs": [
    {
     "data": {
      "text/plain": [
       "['sachin', [100]]"
      ]
     },
     "execution_count": 60,
     "metadata": {},
     "output_type": "execute_result"
    }
   ],
   "source": [
    "match2"
   ]
  },
  {
   "cell_type": "markdown",
   "id": "e116231e",
   "metadata": {},
   "source": [
    "##############"
   ]
  },
  {
   "cell_type": "code",
   "execution_count": 56,
   "id": "2ba085fc",
   "metadata": {},
   "outputs": [],
   "source": [
    "from copy import deepcopy\n",
    "\n",
    "matchA = [\"sachin\", [100, 200]]\n",
    "matchB = deepcopy(matchA)"
   ]
  },
  {
   "cell_type": "code",
   "execution_count": 57,
   "id": "10f8359b",
   "metadata": {},
   "outputs": [
    {
     "name": "stdout",
     "output_type": "stream",
     "text": [
      "['sachin', [100, 200]]\n",
      "['sachin', [100, 200]]\n"
     ]
    }
   ],
   "source": [
    "print(matchA)\n",
    "print(matchB)"
   ]
  },
  {
   "cell_type": "code",
   "execution_count": 58,
   "id": "25bb734e",
   "metadata": {},
   "outputs": [
    {
     "name": "stdout",
     "output_type": "stream",
     "text": [
      "4704871872\n",
      "4705205888\n"
     ]
    }
   ],
   "source": [
    "print(id(matchA[1]))\n",
    "print(id(matchB[1]))"
   ]
  },
  {
   "cell_type": "code",
   "execution_count": 61,
   "id": "ac930133",
   "metadata": {},
   "outputs": [
    {
     "data": {
      "text/plain": [
       "200"
      ]
     },
     "execution_count": 61,
     "metadata": {},
     "output_type": "execute_result"
    }
   ],
   "source": [
    "matchA[1].pop()"
   ]
  },
  {
   "cell_type": "code",
   "execution_count": 63,
   "id": "44e4513d",
   "metadata": {},
   "outputs": [
    {
     "data": {
      "text/plain": [
       "['sachin', [100]]"
      ]
     },
     "execution_count": 63,
     "metadata": {},
     "output_type": "execute_result"
    }
   ],
   "source": [
    "matchA"
   ]
  },
  {
   "cell_type": "code",
   "execution_count": 62,
   "id": "be9505eb",
   "metadata": {},
   "outputs": [
    {
     "data": {
      "text/plain": [
       "['sachin', [100, 200]]"
      ]
     },
     "execution_count": 62,
     "metadata": {},
     "output_type": "execute_result"
    }
   ],
   "source": [
    "matchB"
   ]
  }
 ],
 "metadata": {
  "kernelspec": {
   "display_name": "Python 3 (ipykernel)",
   "language": "python",
   "name": "python3"
  },
  "language_info": {
   "codemirror_mode": {
    "name": "ipython",
    "version": 3
   },
   "file_extension": ".py",
   "mimetype": "text/x-python",
   "name": "python",
   "nbconvert_exporter": "python",
   "pygments_lexer": "ipython3",
   "version": "3.10.0"
  }
 },
 "nbformat": 4,
 "nbformat_minor": 5
}
