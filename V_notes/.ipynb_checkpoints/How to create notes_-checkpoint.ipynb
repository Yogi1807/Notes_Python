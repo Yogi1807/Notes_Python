{
 "cells": [
  {
   "cell_type": "markdown",
   "id": "74a1b706",
   "metadata": {},
   "source": [
    "## how do we access daily class notes?\n",
    "\n",
    "- Go to drive\n",
    "- Go to \"daily class notes\"\n",
    "- Download files\n",
    "- Upload in jupyter lab (in folder created by you)"
   ]
  },
  {
   "cell_type": "markdown",
   "id": "84d08020",
   "metadata": {},
   "source": [
    "## How to create your own notes?\n"
   ]
  },
  {
   "cell_type": "markdown",
   "id": "f0192ea6",
   "metadata": {},
   "source": [
    "file formats\n",
    "\n",
    "    - markdown  (extension - .md)\n",
    "    "
   ]
  },
  {
   "cell_type": "code",
   "execution_count": 8,
   "id": "4a4d25b4",
   "metadata": {},
   "outputs": [
    {
     "name": "stdout",
     "output_type": "stream",
     "text": [
      "hello world!\n"
     ]
    }
   ],
   "source": [
    "print(\"hello world!\")"
   ]
  },
  {
   "cell_type": "markdown",
   "id": "44a4e6a2",
   "metadata": {},
   "source": [
    "# Modes of `jupyter notebook`\n",
    "\n",
    "- `write mode`: when cursor is blinking. To enter in write mode from command mode, press `enter` button.\n",
    "\n",
    "\n",
    "- `command mode`:  when you press \"escape\" button while on a cell, you will step into command mode."
   ]
  },
  {
   "cell_type": "markdown",
   "id": "00baf9fc",
   "metadata": {},
   "source": [
    "## Shortcuts to operate on `Jupyter notebook`\n",
    "\n",
    "- `ctrl + enter`: To execute current cell.\n",
    "\n",
    "- `escape`: To step into command mode.\n",
    "\n",
    "- `escape + b` : To create a new cell underneath of current cell.\n",
    "\n",
    "- `escape + m`: To change current cell into `markdown` format.\n",
    "\n",
    "- `escape + y`: To change current cell into `code` format.\n",
    "\n",
    "- `escape + a`: To create a empty cell above current cell.\n",
    "\n",
    "- `ctrl + p`: To convert your Jupyter Notebook into pdf file.\n"
   ]
  },
  {
   "cell_type": "markdown",
   "id": "fedeb83d",
   "metadata": {},
   "source": [
    "### `Markdown` formatting to create notes"
   ]
  },
  {
   "cell_type": "markdown",
   "id": "694a943d",
   "metadata": {},
   "source": [
    "How to create `headers` in markdown?"
   ]
  },
  {
   "cell_type": "markdown",
   "id": "a64a9511",
   "metadata": {},
   "source": [
    "# HEADING 1\n",
    "## HEADING 2\n",
    "### HEADING 3\n",
    "#### HEADING 4\n",
    "##### HEADING 5"
   ]
  },
  {
   "cell_type": "markdown",
   "id": "2210207d",
   "metadata": {},
   "source": [
    "How to create bullet points?\n",
    "\n",
    "- point1\n",
    "- point2\n",
    "- point3"
   ]
  },
  {
   "cell_type": "markdown",
   "id": "c1ab300f",
   "metadata": {},
   "source": [
    "How to write something in bold characters?\n",
    "- use double asterisk (*) character on both side of text"
   ]
  },
  {
   "cell_type": "markdown",
   "id": "fa6faa2a",
   "metadata": {},
   "source": [
    "**THIS**"
   ]
  },
  {
   "cell_type": "markdown",
   "id": "9b43b02b",
   "metadata": {},
   "source": [
    "How to write something in italic characters?\n",
    "- use single asterisk (*) character on both side of text"
   ]
  },
  {
   "cell_type": "markdown",
   "id": "4167ad95",
   "metadata": {},
   "source": [
    "*THIS*"
   ]
  },
  {
   "cell_type": "markdown",
   "id": "374ab4ea",
   "metadata": {},
   "source": [
    "How to write in line code in markdown?\n",
    "\n",
    "- use character backtick (`) on both sides of text."
   ]
  },
  {
   "cell_type": "markdown",
   "id": "84b06e90",
   "metadata": {},
   "source": [
    "- `print()` functions returns None by default"
   ]
  },
  {
   "cell_type": "markdown",
   "id": "d6fa10fe",
   "metadata": {},
   "source": [
    "### My first code in python"
   ]
  },
  {
   "cell_type": "code",
   "execution_count": 7,
   "id": "1583a008",
   "metadata": {},
   "outputs": [
    {
     "name": "stdout",
     "output_type": "stream",
     "text": [
      "hello world\n"
     ]
    }
   ],
   "source": [
    "print(\"hello world\")"
   ]
  }
 ],
 "metadata": {
  "kernelspec": {
   "display_name": "Python 3 (ipykernel)",
   "language": "python",
   "name": "python3"
  },
  "language_info": {
   "codemirror_mode": {
    "name": "ipython",
    "version": 3
   },
   "file_extension": ".py",
   "mimetype": "text/x-python",
   "name": "python",
   "nbconvert_exporter": "python",
   "pygments_lexer": "ipython3",
   "version": "3.10.0"
  }
 },
 "nbformat": 4,
 "nbformat_minor": 5
}
