{
 "cells": [
  {
   "cell_type": "markdown",
   "id": "a14b183d-8bc9-4b6b-8d34-0c10501b66c5",
   "metadata": {},
   "source": [
    "## Types of module\n",
    "\n",
    "- in-built module \n",
    "```\n",
    "    >>> help(\"modules\") \n",
    "```\n",
    "\n",
    "- third-party modules (pypi.org)\n",
    "\n",
    "\n",
    "- user-defined modules\n",
    "\n"
   ]
  },
  {
   "cell_type": "markdown",
   "id": "3dfe881d-387d-45e3-86f1-859fa8c209a0",
   "metadata": {},
   "source": [
    "syntax\n",
    "\n",
    "```\n",
    "\n",
    "# to import entire module \n",
    "\n",
    "import <module-name>\n",
    "\n",
    "\n",
    "# to import anything from module\n",
    "\n",
    "from <module-name> import <func-name>\n",
    "from <module-name> import <class-name>\n",
    "from <module-name> import <variable-name>\n",
    "```"
   ]
  },
  {
   "cell_type": "markdown",
   "id": "f6542dc5-9e04-4680-9467-8ad342f1b8fa",
   "metadata": {},
   "source": [
    "NOTE \n",
    "\n",
    "- It is recommended to import function / classes instead of whole module (to save memory)"
   ]
  },
  {
   "cell_type": "code",
   "execution_count": 2,
   "id": "fdf2aa5e-7c9f-4e0f-938a-e32630a1b758",
   "metadata": {},
   "outputs": [
    {
     "data": {
      "text/plain": [
       "abc.ABC"
      ]
     },
     "execution_count": 2,
     "metadata": {},
     "output_type": "execute_result"
    }
   ],
   "source": [
    "import abc\n",
    "\n",
    "abc.ABC"
   ]
  },
  {
   "cell_type": "code",
   "execution_count": 4,
   "id": "192d517d-3322-4ae4-8f66-72644463aa0c",
   "metadata": {},
   "outputs": [
    {
     "ename": "NameError",
     "evalue": "name 'unix' is not defined",
     "output_type": "error",
     "traceback": [
      "\u001b[0;31m---------------------------------------------------------------------------\u001b[0m",
      "\u001b[0;31mNameError\u001b[0m                                 Traceback (most recent call last)",
      "Cell \u001b[0;32mIn [4], line 1\u001b[0m\n\u001b[0;32m----> 1\u001b[0m \u001b[38;5;241m-\u001b[39m \u001b[43munix\u001b[49m\n\u001b[1;32m      2\u001b[0m \u001b[38;5;241m-\u001b[39m windows\n",
      "\u001b[0;31mNameError\u001b[0m: name 'unix' is not defined"
     ]
    }
   ],
   "source": [
    "- unix\n",
    "\n",
    "    - macos\n",
    "    - linux\n",
    "    \n",
    "    \n",
    "- windows"
   ]
  },
  {
   "cell_type": "code",
   "execution_count": null,
   "id": "6ee289ed-ec5c-4cda-a3cd-8b89ef96dfc7",
   "metadata": {},
   "outputs": [],
   "source": [
    "## PATH\n",
    "\n",
    "- absolute path\n",
    "\n",
    "/Users/prashant/PICT/ (current path)\n",
    "C:\\Users\\Dell> (windows)\n",
    "\n",
    "- relative path\n",
    "\n"
   ]
  },
  {
   "cell_type": "code",
   "execution_count": 5,
   "id": "e64e02e5-b34e-4fe5-86c3-7db4319c3e17",
   "metadata": {},
   "outputs": [
    {
     "data": {
      "text/plain": [
       "['handshake.py',\n",
       " 'import contacts.ipynb',\n",
       " 'random3.txt',\n",
       " '.DS_Store',\n",
       " 'pascals',\n",
       " 'fast_app.py',\n",
       " 'iterator_as_a_class.py',\n",
       " 'class-minimal.py',\n",
       " 'Iter-Deco-Gen',\n",
       " 'ml.py',\n",
       " 'point.py',\n",
       " 'higher-order.py',\n",
       " 'for-loop.py',\n",
       " 'Python Dev Eve Batch.csv',\n",
       " 'bmi.py',\n",
       " '.ssh',\n",
       " 'swapi_project',\n",
       " 'game-of-sticks.py',\n",
       " 'VELOCITY 10Sep',\n",
       " '.ipynb_checkpoints',\n",
       " 'venv',\n",
       " 'main.py',\n",
       " 'random.txt',\n",
       " 'flow_01.md',\n",
       " 'VELOCITY 5Nov',\n",
       " 'sample.txt',\n",
       " '.idea']"
      ]
     },
     "execution_count": 5,
     "metadata": {},
     "output_type": "execute_result"
    }
   ],
   "source": [
    "import os\n",
    "os.listdir(\"/Users/prashant/PICT/\")"
   ]
  }
 ],
 "metadata": {
  "kernelspec": {
   "display_name": "Python 3 (ipykernel)",
   "language": "python",
   "name": "python3"
  },
  "language_info": {
   "codemirror_mode": {
    "name": "ipython",
    "version": 3
   },
   "file_extension": ".py",
   "mimetype": "text/x-python",
   "name": "python",
   "nbconvert_exporter": "python",
   "pygments_lexer": "ipython3",
   "version": "3.10.0"
  }
 },
 "nbformat": 4,
 "nbformat_minor": 5
}
