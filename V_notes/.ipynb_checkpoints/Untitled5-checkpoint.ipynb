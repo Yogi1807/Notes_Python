{
 "cells": [
  {
   "cell_type": "code",
   "execution_count": null,
   "id": "1b45fb9f-3840-49fa-9211-16b6a721a519",
   "metadata": {},
   "outputs": [],
   "source": [
    "num = int(input(\"Please enter the number: \"))\n",
    "\n",
    "i = 2\n",
    "\n",
    "for k in range(0, num):    # [0, 1, 2, 3, 4, 5...., 10]    num = 10\n",
    "    if i >= num:           # num 2 or less than 2\n",
    "        break\n",
    "    elif num % i == 0:     # 10 % 2\n",
    "        num = num/i\n",
    "        print(int(num))\n",
    "    else:\n",
    "        i = i + 1\n",
    "        \n",
    "print(\"The biggest prime number is: \", num)"
   ]
  },
  {
   "cell_type": "code",
   "execution_count": null,
   "id": "2e2053ef-c881-4d32-b4fb-35c33228691b",
   "metadata": {},
   "outputs": [],
   "source": [
    "num = 13195\n",
    "div = 2\n",
    "foo=[]\n",
    "while(num > 1):\n",
    " \n",
    "    if(num % div == 0):\n",
    "       \n",
    "        num = num/div\n",
    "        print(int(num))\n",
    "        foo.append(div)\n",
    "      \n",
    "    else:\n",
    "        div += 1\n",
    "print(foo)"
   ]
  },
  {
   "cell_type": "markdown",
   "id": "3b6e6c0b-6c58-4b70-a819-d4f77560a829",
   "metadata": {},
   "source": [
    "10 \n",
    "\n",
    "smallest    largest \n",
    "...................\n",
    " 2             5 \n",
    " "
   ]
  },
  {
   "cell_type": "code",
   "execution_count": null,
   "id": "48ca5a77-d988-4838-a7d6-5470dbb09f41",
   "metadata": {},
   "outputs": [],
   "source": [
    "# 0,     1,     2,      3,      5,      8,     13,      21,      34,     55, .....\n",
    "\n",
    "# first sec\n",
    "\n",
    "final = []\n",
    "\n",
    "first = 0 \n",
    "second = 1\n",
    "size = 15\n",
    "n = 0\n",
    "\n",
    "while n < size:\n",
    "    if n == 0:\n",
    "        print(first, end=\" \")\n",
    "        final.append(first)\n",
    "    elif n == 1:\n",
    "        print(second, end=\" \")  \n",
    "        final.append(second)\n",
    "    elif n > 1:\n",
    "        next_ = first + second\n",
    "        print(next_, end=\" \")\n",
    "        final.append(next_)\n",
    "        first = second\n",
    "        second = next_\n",
    "    \n",
    "    n += 1\n",
    "    \n",
    "\n",
    "print(f\"\\nTotal numbers - {len(final)}\")"
   ]
  },
  {
   "cell_type": "code",
   "execution_count": 7,
   "id": "8bb57ef5-8599-4ced-9578-4e7da2305070",
   "metadata": {},
   "outputs": [
    {
     "name": "stdin",
     "output_type": "stream",
     "text": [
      "Fibonacci series of ::  15\n"
     ]
    },
    {
     "name": "stdout",
     "output_type": "stream",
     "text": [
      "0 1 1 2 3 5 8 13 21 34 55 89 144 233 377 "
     ]
    }
   ],
   "source": [
    "first = 0\n",
    "second = 1\n",
    "size = int(input(\"Fibonacci series of :: \"))\n",
    "\n",
    "for item in range(0, size):\n",
    "    \n",
    "    # first two values are not auto-generated\n",
    "    if item == 0:\n",
    "        print(first, end=\" \")\n",
    "    elif item == 1:\n",
    "        print(second, end=\" \")\n",
    "        \n",
    "    elif item < size:\n",
    "        next_ = first + second\n",
    "        print(next_, end=\" \")\n",
    "        first = second\n",
    "        second = next_\n"
   ]
  },
  {
   "cell_type": "markdown",
   "id": "642adece-ff06-45c5-aba2-2ee49e154f08",
   "metadata": {},
   "source": [
    "## Fibonacci series using recursion"
   ]
  },
  {
   "cell_type": "code",
   "execution_count": null,
   "id": "f53806dc-0ed3-4c5b-a509-a11ae4c88d6f",
   "metadata": {},
   "outputs": [],
   "source": [
    "# Produce a fibinacci series using size"
   ]
  }
 ],
 "metadata": {
  "kernelspec": {
   "display_name": "Python 3 (ipykernel)",
   "language": "python",
   "name": "python3"
  },
  "language_info": {
   "codemirror_mode": {
    "name": "ipython",
    "version": 3
   },
   "file_extension": ".py",
   "mimetype": "text/x-python",
   "name": "python",
   "nbconvert_exporter": "python",
   "pygments_lexer": "ipython3",
   "version": "3.10.0"
  }
 },
 "nbformat": 4,
 "nbformat_minor": 5
}
