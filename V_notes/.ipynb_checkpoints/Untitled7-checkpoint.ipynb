{
 "cells": [
  {
   "cell_type": "markdown",
   "id": "677a9d36-ee54-4030-9765-e39dc47b2587",
   "metadata": {},
   "source": [
    "- why do we use `self`?\n",
    "\n",
    "- what are method attributes?\n",
    "\n",
    "- instance attributes vs class attributes\n",
    "\n",
    "- `getattr()`\n",
    "\n",
    "- `setattr()`\n",
    "\n",
    "\n",
    "- magic methods, special methods\n"
   ]
  },
  {
   "cell_type": "code",
   "execution_count": null,
   "id": "65f14742-ebc3-4163-b61e-cc32a9af4888",
   "metadata": {},
   "outputs": [],
   "source": [
    "- __new__\n",
    "- __init__"
   ]
  },
  {
   "cell_type": "code",
   "execution_count": 4,
   "id": "86750c3e-e855-4f44-a7b5-4593ac51760b",
   "metadata": {},
   "outputs": [],
   "source": [
    "class Student(object):\n",
    "    \"\"\"\n",
    "    this is a student class\n",
    "    \"\"\"\n",
    "    \n",
    "    pass\n"
   ]
  },
  {
   "cell_type": "code",
   "execution_count": 8,
   "id": "648f7768-b7b2-4b48-bc48-ba961d00e931",
   "metadata": {},
   "outputs": [
    {
     "name": "stdout",
     "output_type": "stream",
     "text": [
      "Help on class Student in module __main__:\n",
      "\n",
      "class Student(builtins.object)\n",
      " |  this is a student class\n",
      " |  \n",
      " |  Data descriptors defined here:\n",
      " |  \n",
      " |  __dict__\n",
      " |      dictionary for instance variables (if defined)\n",
      " |  \n",
      " |  __weakref__\n",
      " |      list of weak references to the object (if defined)\n",
      "\n"
     ]
    }
   ],
   "source": [
    "help(Student)"
   ]
  },
  {
   "cell_type": "code",
   "execution_count": 1,
   "id": "cf7f286c-7d5e-4882-8865-ade28861d163",
   "metadata": {},
   "outputs": [
    {
     "data": {
      "text/plain": [
       "['__class__',\n",
       " '__delattr__',\n",
       " '__dir__',\n",
       " '__doc__',\n",
       " '__eq__',\n",
       " '__format__',\n",
       " '__ge__',\n",
       " '__getattribute__',\n",
       " '__gt__',\n",
       " '__hash__',\n",
       " '__init__',\n",
       " '__init_subclass__',\n",
       " '__le__',\n",
       " '__lt__',\n",
       " '__ne__',\n",
       " '__new__',\n",
       " '__reduce__',\n",
       " '__reduce_ex__',\n",
       " '__repr__',\n",
       " '__setattr__',\n",
       " '__sizeof__',\n",
       " '__str__',\n",
       " '__subclasshook__']"
      ]
     },
     "execution_count": 1,
     "metadata": {},
     "output_type": "execute_result"
    }
   ],
   "source": [
    "dir(object)"
   ]
  }
 ],
 "metadata": {
  "kernelspec": {
   "display_name": "Python 3 (ipykernel)",
   "language": "python",
   "name": "python3"
  },
  "language_info": {
   "codemirror_mode": {
    "name": "ipython",
    "version": 3
   },
   "file_extension": ".py",
   "mimetype": "text/x-python",
   "name": "python",
   "nbconvert_exporter": "python",
   "pygments_lexer": "ipython3",
   "version": "3.10.0"
  }
 },
 "nbformat": 4,
 "nbformat_minor": 5
}
