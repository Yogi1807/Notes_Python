{
 "cells": [
  {
   "cell_type": "markdown",
   "id": "26766b6e-6a55-4abf-8c5c-bdd9fcea50e5",
   "metadata": {},
   "source": [
    "### doubt clearing \n",
    "\n",
    "Problem 17 - \n",
    "\n",
    "Write a Python program to select all the Sundays of a specified year"
   ]
  },
  {
   "cell_type": "code",
   "execution_count": 18,
   "id": "7f03331d-895e-4c10-9500-03a4f9ac9bba",
   "metadata": {},
   "outputs": [],
   "source": [
    "from datetime import date, timedelta\n",
    "\n",
    "\n",
    "def get_all_sundays(year):\n",
    "\n",
    "    first = date(year, 1, 1)\n",
    "    last = date(year, 12, 31)\n",
    "\n",
    "    day = first\n",
    "    sundays = []\n",
    "\n",
    "    while day != last:\n",
    "        day += timedelta(days=1)\n",
    "        if day.strftime(\"%A\") == \"Sunday\":\n",
    "            sundays.append(day)\n",
    "        \n",
    "    return sundays"
   ]
  },
  {
   "cell_type": "code",
   "execution_count": 19,
   "id": "f6830b23-d1e5-459f-9472-9907100ed0f0",
   "metadata": {},
   "outputs": [
    {
     "data": {
      "text/plain": [
       "[datetime.date(2012, 1, 8),\n",
       " datetime.date(2012, 1, 15),\n",
       " datetime.date(2012, 1, 22),\n",
       " datetime.date(2012, 1, 29),\n",
       " datetime.date(2012, 2, 5),\n",
       " datetime.date(2012, 2, 12),\n",
       " datetime.date(2012, 2, 19),\n",
       " datetime.date(2012, 2, 26),\n",
       " datetime.date(2012, 3, 4),\n",
       " datetime.date(2012, 3, 11),\n",
       " datetime.date(2012, 3, 18),\n",
       " datetime.date(2012, 3, 25),\n",
       " datetime.date(2012, 4, 1),\n",
       " datetime.date(2012, 4, 8),\n",
       " datetime.date(2012, 4, 15),\n",
       " datetime.date(2012, 4, 22),\n",
       " datetime.date(2012, 4, 29),\n",
       " datetime.date(2012, 5, 6),\n",
       " datetime.date(2012, 5, 13),\n",
       " datetime.date(2012, 5, 20),\n",
       " datetime.date(2012, 5, 27),\n",
       " datetime.date(2012, 6, 3),\n",
       " datetime.date(2012, 6, 10),\n",
       " datetime.date(2012, 6, 17),\n",
       " datetime.date(2012, 6, 24),\n",
       " datetime.date(2012, 7, 1),\n",
       " datetime.date(2012, 7, 8),\n",
       " datetime.date(2012, 7, 15),\n",
       " datetime.date(2012, 7, 22),\n",
       " datetime.date(2012, 7, 29),\n",
       " datetime.date(2012, 8, 5),\n",
       " datetime.date(2012, 8, 12),\n",
       " datetime.date(2012, 8, 19),\n",
       " datetime.date(2012, 8, 26),\n",
       " datetime.date(2012, 9, 2),\n",
       " datetime.date(2012, 9, 9),\n",
       " datetime.date(2012, 9, 16),\n",
       " datetime.date(2012, 9, 23),\n",
       " datetime.date(2012, 9, 30),\n",
       " datetime.date(2012, 10, 7),\n",
       " datetime.date(2012, 10, 14),\n",
       " datetime.date(2012, 10, 21),\n",
       " datetime.date(2012, 10, 28),\n",
       " datetime.date(2012, 11, 4),\n",
       " datetime.date(2012, 11, 11),\n",
       " datetime.date(2012, 11, 18),\n",
       " datetime.date(2012, 11, 25),\n",
       " datetime.date(2012, 12, 2),\n",
       " datetime.date(2012, 12, 9),\n",
       " datetime.date(2012, 12, 16),\n",
       " datetime.date(2012, 12, 23),\n",
       " datetime.date(2012, 12, 30)]"
      ]
     },
     "execution_count": 19,
     "metadata": {},
     "output_type": "execute_result"
    }
   ],
   "source": []
  },
  {
   "cell_type": "markdown",
   "id": "d84af413-ad9f-4b0f-a86b-637357bdb82a",
   "metadata": {},
   "source": [
    "\n",
    "## what are 3 types of modules?\n",
    "\n",
    "- in-built (os, time, datetime, maths, re, abc, random)\n",
    "- user-defined \n",
    "- third party modules (https://pypi.org/ authorized by python org)"
   ]
  },
  {
   "cell_type": "markdown",
   "id": "cec0d57d-9449-49ae-b53a-c37c725d72f9",
   "metadata": {},
   "source": [
    "## Terminology"
   ]
  },
  {
   "cell_type": "markdown",
   "id": "6a5a6071-40d6-49bb-8902-a30e9ad9e69e",
   "metadata": {},
   "source": [
    "- `pip` :: package manager\n",
    "\n",
    "- package manager has following operations - \n",
    "    - install\n",
    "    - uninstall\n",
    "    - To list installed packages\n",
    "  "
   ]
  },
  {
   "cell_type": "markdown",
   "id": "79b14e05-b83d-4be3-8628-60f93eb84635",
   "metadata": {},
   "source": [
    "- To install any library (module) we go to pypi.org\n",
    "- and search for package\n",
    "\n",
    "\n",
    "requests  :: To send HTTP request to servers\n",
    "\n",
    "\n",
    "\n",
    "requests 2.28.2\n",
    "\n",
    "- `requests` is the package name\n",
    "- `2.28.2` is version\n",
    "\n",
    "\n",
    "To install `requests` package, we need to run following command in \"CMD/ terminal\"\n",
    "\n",
    "`pip install requests`\n",
    "\n",
    "\n",
    "NOTE -\n",
    "\n",
    "- `pip` is package manager\n",
    "- `pip` is also a command line software\n",
    "- all command line softwares need to be run in terminal / CMD\n",
    "- when we do `pip install <package-name>`, pip downloads library files from pypi.org (internet)\n",
    "- To run `pip install` successfully you need to be connected with internet\n",
    "\n"
   ]
  },
  {
   "cell_type": "markdown",
   "id": "6f6502b5-3b9f-4de8-9839-091b6a94f27b",
   "metadata": {},
   "source": [
    "\n",
    "### `import requests`\n",
    "\n",
    "- `requests` library is used to communicate with web servers in HTTP protocol\n",
    "\n"
   ]
  },
  {
   "cell_type": "markdown",
   "id": "5a8e6c99-7e00-4601-9784-2cc9ddffc921",
   "metadata": {},
   "source": [
    "HTTP : HyperText Transfer Protocol\n",
    "Protocol : rules and regulations"
   ]
  },
  {
   "cell_type": "code",
   "execution_count": null,
   "id": "85afcd6c-5b5c-49b0-aa34-1330e3ca3864",
   "metadata": {},
   "outputs": [],
   "source": [
    "https://duckduckgo.com/"
   ]
  },
  {
   "cell_type": "markdown",
   "id": "0e5596cc-933b-4aa0-802d-0d2b35961c01",
   "metadata": {},
   "source": [
    "- how to download `google.com` front page?"
   ]
  },
  {
   "cell_type": "code",
   "execution_count": 6,
   "id": "2be190ca-9f05-4f4a-ab04-76485145e736",
   "metadata": {},
   "outputs": [],
   "source": [
    "import requests\n",
    "\n",
    "response = requests.get(\"https://www.google.com/\")\n",
    "response.content\n",
    "with open(\"google.html\", \"wb\") as foo:\n",
    "    foo.write(response.content)\n"
   ]
  },
  {
   "cell_type": "code",
   "execution_count": 16,
   "id": "cb1e2c20",
   "metadata": {},
   "outputs": [],
   "source": [
    "import requests\n",
    "youtube= requests.get(\"https://www.google.com/search?q=youtube&oq=youtube&aqs=chrome.0.0i271j46i67i131i199i433i465j0i67l5j0i67i131i433j0i67j0i271.3575j0j15&sourceid=chrome&ie=UTF-8\")\n",
    "youtube.content\n",
    "with open (\"youtubefile.txt\",\"wb\") as bar:\n",
    "    bar.write(youtube.content)"
   ]
  },
  {
   "cell_type": "code",
   "execution_count": 5,
   "id": "7b42b92d",
   "metadata": {},
   "outputs": [],
   "source": [
    "import os\n",
    "os.remove(\"mygoogle.html\")"
   ]
  },
  {
   "cell_type": "code",
   "execution_count": 11,
   "id": "f17a98f2-3b67-4126-a799-7a64b2218fdd",
   "metadata": {},
   "outputs": [
    {
     "data": {
      "text/plain": [
       "bytes"
      ]
     },
     "execution_count": 11,
     "metadata": {},
     "output_type": "execute_result"
    }
   ],
   "source": [
    "type(b'prashant')"
   ]
  },
  {
   "cell_type": "code",
   "execution_count": 10,
   "id": "812d8ce7",
   "metadata": {},
   "outputs": [
    {
     "data": {
      "text/plain": [
       "['ConnectTimeout',\n",
       " 'ConnectionError',\n",
       " 'DependencyWarning',\n",
       " 'FileModeWarning',\n",
       " 'HTTPError',\n",
       " 'NullHandler',\n",
       " 'PreparedRequest',\n",
       " 'ReadTimeout',\n",
       " 'Request',\n",
       " 'RequestException',\n",
       " 'RequestsDependencyWarning',\n",
       " 'Response',\n",
       " 'Session',\n",
       " 'Timeout',\n",
       " 'TooManyRedirects',\n",
       " 'URLRequired',\n",
       " '__author__',\n",
       " '__author_email__',\n",
       " '__build__',\n",
       " '__builtins__',\n",
       " '__cached__',\n",
       " '__cake__',\n",
       " '__copyright__',\n",
       " '__description__',\n",
       " '__doc__',\n",
       " '__file__',\n",
       " '__license__',\n",
       " '__loader__',\n",
       " '__name__',\n",
       " '__package__',\n",
       " '__path__',\n",
       " '__spec__',\n",
       " '__title__',\n",
       " '__url__',\n",
       " '__version__',\n",
       " '_check_cryptography',\n",
       " '_internal_utils',\n",
       " 'adapters',\n",
       " 'api',\n",
       " 'auth',\n",
       " 'certs',\n",
       " 'chardet_version',\n",
       " 'charset_normalizer_version',\n",
       " 'check_compatibility',\n",
       " 'codes',\n",
       " 'compat',\n",
       " 'cookies',\n",
       " 'delete',\n",
       " 'exceptions',\n",
       " 'get',\n",
       " 'head',\n",
       " 'hooks',\n",
       " 'logging',\n",
       " 'models',\n",
       " 'options',\n",
       " 'packages',\n",
       " 'patch',\n",
       " 'post',\n",
       " 'put',\n",
       " 'request',\n",
       " 'session',\n",
       " 'sessions',\n",
       " 'ssl',\n",
       " 'status_codes',\n",
       " 'structures',\n",
       " 'urllib3',\n",
       " 'utils',\n",
       " 'warnings']"
      ]
     },
     "execution_count": 10,
     "metadata": {},
     "output_type": "execute_result"
    }
   ],
   "source": [
    "dir(requests)"
   ]
  },
  {
   "cell_type": "code",
   "execution_count": 12,
   "id": "ad7168c6-3207-4d95-9cd1-a6628a1cfdf8",
   "metadata": {},
   "outputs": [
    {
     "data": {
      "text/plain": [
       "str"
      ]
     },
     "execution_count": 12,
     "metadata": {},
     "output_type": "execute_result"
    }
   ],
   "source": [
    "type(\"prashant\")"
   ]
  },
  {
   "cell_type": "code",
   "execution_count": 13,
   "id": "ecec9648-321b-46fc-8ed4-7ded94dde2e7",
   "metadata": {},
   "outputs": [],
   "source": [
    "import os\n",
    "\n",
    "os.mkdir(\"deletelater\")"
   ]
  },
  {
   "cell_type": "code",
   "execution_count": 10,
   "id": "4e0f846c",
   "metadata": {},
   "outputs": [],
   "source": [
    "import requests\n",
    "show=requests.get(\"https://www.facebook.com/\")\n",
    "show.content\n",
    "with open(\"facebook.html\", \"wb\") as f:\n",
    "    f.write(show.content)"
   ]
  },
  {
   "cell_type": "code",
   "execution_count": null,
   "id": "cb6e899f",
   "metadata": {},
   "outputs": [],
   "source": []
  }
 ],
 "metadata": {
  "kernelspec": {
   "display_name": "Python 3 (ipykernel)",
   "language": "python",
   "name": "python3"
  },
  "language_info": {
   "codemirror_mode": {
    "name": "ipython",
    "version": 3
   },
   "file_extension": ".py",
   "mimetype": "text/x-python",
   "name": "python",
   "nbconvert_exporter": "python",
   "pygments_lexer": "ipython3",
   "version": "3.9.7"
  }
 },
 "nbformat": 4,
 "nbformat_minor": 5
}
