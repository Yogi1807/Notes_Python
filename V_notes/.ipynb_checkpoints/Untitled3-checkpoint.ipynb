{
 "cells": [
  {
   "cell_type": "code",
   "execution_count": 1,
   "id": "942a93b6",
   "metadata": {},
   "outputs": [],
   "source": [
    "foo = {10, 20, 30, 40}\n",
    "bar = {30, 40, 60, 70}"
   ]
  },
  {
   "cell_type": "code",
   "execution_count": 2,
   "id": "e1ae9802",
   "metadata": {},
   "outputs": [
    {
     "data": {
      "text/plain": [
       "{30, 40}"
      ]
     },
     "execution_count": 2,
     "metadata": {},
     "output_type": "execute_result"
    }
   ],
   "source": [
    "foo.intersection(bar)"
   ]
  },
  {
   "cell_type": "code",
   "execution_count": 5,
   "id": "9a39ed52",
   "metadata": {},
   "outputs": [
    {
     "data": {
      "text/plain": [
       "{10, 20, 60, 70}"
      ]
     },
     "execution_count": 5,
     "metadata": {},
     "output_type": "execute_result"
    }
   ],
   "source": [
    "result = foo.symmetric_difference(bar)\n",
    "result"
   ]
  },
  {
   "cell_type": "code",
   "execution_count": 6,
   "id": "fa3ca7c4",
   "metadata": {},
   "outputs": [
    {
     "data": {
      "text/plain": [
       "{10, 20, 60, 70}"
      ]
     },
     "execution_count": 6,
     "metadata": {},
     "output_type": "execute_result"
    }
   ],
   "source": [
    "foo.symmetric_difference_update(bar)\n",
    "foo"
   ]
  },
  {
   "cell_type": "code",
   "execution_count": 1,
   "id": "99726e39",
   "metadata": {},
   "outputs": [
    {
     "name": "stdout",
     "output_type": "stream",
     "text": [
      "('yogesh', 'satish')\n",
      "{'edu': 'bsc', 'city': 'pune'}\n"
     ]
    }
   ],
   "source": [
    "def stat(*args,**kwargs):\n",
    "    print(args)\n",
    "    print(kwargs)\n",
    "    \n",
    "stat(\"yogesh\",\"satish\", edu=\"bsc\", city)"
   ]
  },
  {
   "cell_type": "code",
   "execution_count": 9,
   "id": "7d4d0237",
   "metadata": {},
   "outputs": [
    {
     "ename": "AttributeError",
     "evalue": "'_io.TextIOWrapper' object has no attribute 'writeline'",
     "output_type": "error",
     "traceback": [
      "\u001b[1;31m---------------------------------------------------------------------------\u001b[0m",
      "\u001b[1;31mAttributeError\u001b[0m                            Traceback (most recent call last)",
      "\u001b[1;32m~\\AppData\\Local\\Temp/ipykernel_5520/3047347213.py\u001b[0m in \u001b[0;36m<module>\u001b[1;34m\u001b[0m\n\u001b[0;32m      1\u001b[0m \u001b[1;32mwith\u001b[0m \u001b[0mopen\u001b[0m\u001b[1;33m(\u001b[0m\u001b[1;34m\"file.txt\"\u001b[0m\u001b[1;33m,\u001b[0m\u001b[1;34m\"w\"\u001b[0m\u001b[1;33m)\u001b[0m \u001b[1;32mas\u001b[0m \u001b[0mfile\u001b[0m\u001b[1;33m:\u001b[0m\u001b[1;33m\u001b[0m\u001b[1;33m\u001b[0m\u001b[0m\n\u001b[1;32m----> 2\u001b[1;33m     \u001b[0mfile\u001b[0m\u001b[1;33m.\u001b[0m\u001b[0mwriteline\u001b[0m\u001b[1;33m(\u001b[0m\u001b[1;34m\"yogesh\\n\"\u001b[0m\u001b[1;33m)\u001b[0m\u001b[1;33m\u001b[0m\u001b[1;33m\u001b[0m\u001b[0m\n\u001b[0m\u001b[0;32m      3\u001b[0m     \u001b[0mfile\u001b[0m\u001b[1;33m.\u001b[0m\u001b[0mwriteline\u001b[0m\u001b[1;33m(\u001b[0m\u001b[1;34m\"yash\\n\"\u001b[0m\u001b[1;33m)\u001b[0m\u001b[1;33m\u001b[0m\u001b[1;33m\u001b[0m\u001b[0m\n\u001b[0;32m      4\u001b[0m     \u001b[0mfile\u001b[0m\u001b[1;33m.\u001b[0m\u001b[0mwriteline\u001b[0m\u001b[1;33m(\u001b[0m\u001b[1;34m\"ronaldo\\n\"\u001b[0m\u001b[1;33m)\u001b[0m\u001b[1;33m\u001b[0m\u001b[1;33m\u001b[0m\u001b[0m\n\u001b[0;32m      5\u001b[0m     \u001b[0mfile\u001b[0m\u001b[1;33m.\u001b[0m\u001b[0mwriteline\u001b[0m\u001b[1;33m(\u001b[0m\u001b[1;34m\"messi\"\u001b[0m\u001b[1;33m)\u001b[0m\u001b[1;33m\u001b[0m\u001b[1;33m\u001b[0m\u001b[0m\n",
      "\u001b[1;31mAttributeError\u001b[0m: '_io.TextIOWrapper' object has no attribute 'writeline'"
     ]
    }
   ],
   "source": [
    "with open(\"file.txt\",\"w\") as file:\n",
    "    file.writeline(\"yogesh\\n\")\n",
    "    file.writeline(\"yash\\n\")\n",
    "    file.writeline(\"ronaldo\\n\")\n",
    "    file.writeline(\"messi\")"
   ]
  },
  {
   "cell_type": "code",
   "execution_count": 5,
   "id": "5ba71f19",
   "metadata": {},
   "outputs": [
    {
     "name": "stdout",
     "output_type": "stream",
     "text": [
      "[ERROR] file not found \n"
     ]
    }
   ],
   "source": [
    "try:\n",
    "    with open(\"yogesh.txt\",\"r\") as c:\n",
    "        print(c.read())\n",
    "except:\n",
    "    print(\"[ERROR] file not found \")"
   ]
  },
  {
   "cell_type": "code",
   "execution_count": null,
   "id": "ab55689f",
   "metadata": {},
   "outputs": [],
   "source": []
  }
 ],
 "metadata": {
  "kernelspec": {
   "display_name": "Python 3 (ipykernel)",
   "language": "python",
   "name": "python3"
  },
  "language_info": {
   "codemirror_mode": {
    "name": "ipython",
    "version": 3
   },
   "file_extension": ".py",
   "mimetype": "text/x-python",
   "name": "python",
   "nbconvert_exporter": "python",
   "pygments_lexer": "ipython3",
   "version": "3.9.7"
  }
 },
 "nbformat": 4,
 "nbformat_minor": 5
}
