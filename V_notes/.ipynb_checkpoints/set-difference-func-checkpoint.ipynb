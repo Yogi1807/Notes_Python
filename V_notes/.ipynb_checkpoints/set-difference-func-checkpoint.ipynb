{
 "cells": [
  {
   "cell_type": "code",
   "execution_count": 1,
   "id": "e71e9b47",
   "metadata": {},
   "outputs": [
    {
     "data": {
      "text/plain": [
       "{1, 2, 3}"
      ]
     },
     "execution_count": 1,
     "metadata": {},
     "output_type": "execute_result"
    }
   ],
   "source": [
    "foo = {1, 2, 3, 4}\n",
    "bar = {4, 5, 6}\n",
    "\n",
    "foo - bar"
   ]
  },
  {
   "cell_type": "markdown",
   "id": "4054bf0d",
   "metadata": {},
   "source": [
    "- types of functions\n",
    "    - void function\n",
    "    - return function"
   ]
  },
  {
   "cell_type": "code",
   "execution_count": 7,
   "id": "b6a01dc5",
   "metadata": {},
   "outputs": [
    {
     "data": {
      "text/plain": [
       "{1, 2, 3}"
      ]
     },
     "execution_count": 7,
     "metadata": {},
     "output_type": "execute_result"
    }
   ],
   "source": [
    "foo = {1, 2, 3, 4}\n",
    "bar = {4, 5, 6}\n",
    "\n",
    "result = foo.difference(bar)     # return function\n",
    "foo = result\n",
    "result"
   ]
  },
  {
   "cell_type": "code",
   "execution_count": 8,
   "id": "75548a73",
   "metadata": {},
   "outputs": [
    {
     "name": "stdout",
     "output_type": "stream",
     "text": [
      "{1, 2, 3}\n"
     ]
    }
   ],
   "source": [
    "foo = {1, 2, 3, 4}\n",
    "bar = {4, 5, 6}\n",
    "\n",
    "foo.difference_update(bar)  # void function\n",
    "print(foo)"
   ]
  },
  {
   "cell_type": "code",
   "execution_count": 10,
   "id": "0858091b",
   "metadata": {},
   "outputs": [
    {
     "data": {
      "text/plain": [
       "{5, 6}"
      ]
     },
     "execution_count": 10,
     "metadata": {},
     "output_type": "execute_result"
    }
   ],
   "source": [
    "foo = {1, 2, 3, 4}\n",
    "bar = {4, 5, 6}\n",
    "\n",
    "bar.difference(foo)\n",
    "\n",
    "bar - foo"
   ]
  },
  {
   "cell_type": "code",
   "execution_count": 18,
   "id": "80c98d3b",
   "metadata": {},
   "outputs": [],
   "source": [
    "foo = {1, 2, 3, 4}"
   ]
  },
  {
   "cell_type": "code",
   "execution_count": 19,
   "id": "2deefb82",
   "metadata": {},
   "outputs": [
    {
     "data": {
      "text/plain": [
       "1"
      ]
     },
     "execution_count": 19,
     "metadata": {},
     "output_type": "execute_result"
    }
   ],
   "source": [
    "foo.pop()"
   ]
  },
  {
   "cell_type": "code",
   "execution_count": 17,
   "id": "6b98a824",
   "metadata": {},
   "outputs": [
    {
     "name": "stdout",
     "output_type": "stream",
     "text": [
      "Help on built-in function pop:\n",
      "\n",
      "pop(...) method of builtins.set instance\n",
      "    Remove and return an arbitrary set element.\n",
      "    Raises KeyError if the set is empty.\n",
      "\n"
     ]
    }
   ],
   "source": [
    "help(foo.pop)"
   ]
  }
 ],
 "metadata": {
  "kernelspec": {
   "display_name": "Python 3 (ipykernel)",
   "language": "python",
   "name": "python3"
  },
  "language_info": {
   "codemirror_mode": {
    "name": "ipython",
    "version": 3
   },
   "file_extension": ".py",
   "mimetype": "text/x-python",
   "name": "python",
   "nbconvert_exporter": "python",
   "pygments_lexer": "ipython3",
   "version": "3.10.0"
  }
 },
 "nbformat": 4,
 "nbformat_minor": 5
}
