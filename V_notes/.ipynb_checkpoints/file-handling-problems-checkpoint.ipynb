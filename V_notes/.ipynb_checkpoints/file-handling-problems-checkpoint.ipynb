{
 "cells": [
  {
   "cell_type": "code",
   "execution_count": 11,
   "id": "5dd878b2-e22d-47d0-bb81-4756ea426a1a",
   "metadata": {},
   "outputs": [
    {
     "name": "stdout",
     "output_type": "stream",
     "text": [
      "['sachin\\n', 'dhoni\\n', 'rahul\\n', 'sachin\\n', 'rahul\\n', 'player3']\n",
      "['sachin\\n', 'rahul\\n', 'sachin\\n', 'rahul\\n', 'player3']\n"
     ]
    }
   ],
   "source": [
    "with open(\"random.txt\", \"r+\") as foo:\n",
    "    content = foo.readlines()\n",
    "    print(content)\n",
    "    content.remove('dhoni\\n')\n",
    "    print(content)\n",
    "    content.append(\"player3\")\n",
    "    final = \"\".join(content)\n",
    "    foo.write(final)"
   ]
  }
 ],
 "metadata": {
  "kernelspec": {
   "display_name": "Python 3 (ipykernel)",
   "language": "python",
   "name": "python3"
  },
  "language_info": {
   "codemirror_mode": {
    "name": "ipython",
    "version": 3
   },
   "file_extension": ".py",
   "mimetype": "text/x-python",
   "name": "python",
   "nbconvert_exporter": "python",
   "pygments_lexer": "ipython3",
   "version": "3.10.0"
  }
 },
 "nbformat": 4,
 "nbformat_minor": 5
}
