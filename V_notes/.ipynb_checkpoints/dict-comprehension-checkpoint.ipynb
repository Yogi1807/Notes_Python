{
 "cells": [
  {
   "cell_type": "code",
   "execution_count": 4,
   "id": "6ca877ad",
   "metadata": {},
   "outputs": [
    {
     "name": "stdout",
     "output_type": "stream",
     "text": [
      "dict_items([('mumbai', '10 M'), ('pune', '5 M'), ('nashik', '3 M'), ('latur', '1 M')])\n"
     ]
    }
   ],
   "source": [
    "cities = {\n",
    "    \"mumbai\": \"10 M\",\n",
    "    \"pune\": \"5 M\",\n",
    "    \"nashik\": \"3 M\",\n",
    "    \"latur\": \"1 M\"\n",
    "}\n",
    "\n",
    "type(cities)\n",
    "\n",
    "print(cities.items())"
   ]
  },
  {
   "cell_type": "markdown",
   "id": "09f7d3b4",
   "metadata": {},
   "source": [
    "## problem statement\n",
    "swap keys <--> values"
   ]
  },
  {
   "cell_type": "code",
   "execution_count": 8,
   "id": "63cd3ffe",
   "metadata": {},
   "outputs": [
    {
     "name": "stdout",
     "output_type": "stream",
     "text": [
      "{'10 M': 'mumbai', '5 M': 'pune', '3 M': 'nashik', '1 M': 'latur'}\n"
     ]
    }
   ],
   "source": [
    "\n",
    "cities = {\n",
    "    \"mumbai\": \"10 M\",\n",
    "    \"pune\": \"5 M\",\n",
    "    \"nashik\": \"3 M\",\n",
    "    \"latur\": \"1 M\"\n",
    "}\n",
    "\n",
    "\n",
    "output = dict()\n",
    "\n",
    "for city, pops in cities.items():\n",
    "    output[pops] = city\n",
    "    \n",
    "print(output)"
   ]
  },
  {
   "cell_type": "markdown",
   "id": "006d34e6",
   "metadata": {},
   "source": [
    "# `dict` comprehension\n",
    "\n",
    "simplest variation\n",
    "```\n",
    "{<expression> for <itarator-variables> in <dict>.items()}\n",
    "```\n",
    "\n",
    "variation 2\n",
    "\n",
    "```\n",
    "{<expression> for <itarator-variables> in <dict>.items() if <condition>}\n",
    "```\n",
    "\n",
    "variation 3\n",
    "\n",
    "```\n",
    "{<ternary operator> for <itarator-variables> in <dict>.items()}\n",
    "```\n"
   ]
  },
  {
   "cell_type": "code",
   "execution_count": 9,
   "id": "87951ca1",
   "metadata": {},
   "outputs": [
    {
     "data": {
      "text/plain": [
       "{'10 M': 'mumbai', '5 M': 'pune', '3 M': 'nashik', '1 M': 'latur'}"
      ]
     },
     "execution_count": 9,
     "metadata": {},
     "output_type": "execute_result"
    }
   ],
   "source": [
    "{pops: city for city, pops in cities.items()}"
   ]
  },
  {
   "cell_type": "code",
   "execution_count": 10,
   "id": "70f90faa",
   "metadata": {},
   "outputs": [
    {
     "name": "stdout",
     "output_type": "stream",
     "text": [
      "{'sweet': 'mango', 'sour': 'orange'}\n"
     ]
    }
   ],
   "source": [
    "fruits = {\"mango\": \"sweet\", \"orange\": \"sour\"}\n",
    "\n",
    "output = {}\n",
    "\n",
    "for fruit, taste in fruits.items():\n",
    "    output[taste] = fruit\n",
    "    \n",
    "print(output)"
   ]
  },
  {
   "cell_type": "code",
   "execution_count": 11,
   "id": "b210d3a1",
   "metadata": {},
   "outputs": [
    {
     "data": {
      "text/plain": [
       "{'sweet': 'mango', 'sour': 'orange'}"
      ]
     },
     "execution_count": 11,
     "metadata": {},
     "output_type": "execute_result"
    }
   ],
   "source": [
    "{taste: fruit for fruit, taste in fruits.items()}"
   ]
  },
  {
   "cell_type": "markdown",
   "id": "294b3154",
   "metadata": {},
   "source": [
    "## take an example of 10 natural numbers and print odd / even\n",
    "\n",
    "Output should be in dict format where key is number and value is `odd/even`"
   ]
  },
  {
   "cell_type": "code",
   "execution_count": 13,
   "id": "d9367719",
   "metadata": {},
   "outputs": [
    {
     "name": "stdout",
     "output_type": "stream",
     "text": [
      "{2: 'even', 4: 'even', 6: 'even', 8: 'even', 10: 'even'}\n"
     ]
    }
   ],
   "source": [
    "# even numbers only\n",
    "\n",
    "naturals = list(range(1, 11))\n",
    "output = {}\n",
    "\n",
    "for i in naturals:\n",
    "    if i % 2 == 0:\n",
    "        output[i] = \"even\"\n",
    "print(output)"
   ]
  },
  {
   "cell_type": "code",
   "execution_count": 14,
   "id": "17e82d80",
   "metadata": {},
   "outputs": [
    {
     "data": {
      "text/plain": [
       "{2: 'even', 4: 'even', 6: 'even', 8: 'even', 10: 'even'}"
      ]
     },
     "execution_count": 14,
     "metadata": {},
     "output_type": "execute_result"
    }
   ],
   "source": [
    "naturals = list(range(1, 11))\n",
    "\n",
    "{i: \"even\" for i in naturals if i%2 == 0}"
   ]
  },
  {
   "cell_type": "code",
   "execution_count": null,
   "id": "510b1042",
   "metadata": {},
   "outputs": [],
   "source": [
    "# even and odd both"
   ]
  },
  {
   "cell_type": "code",
   "execution_count": 17,
   "id": "1ce9b7ae",
   "metadata": {},
   "outputs": [
    {
     "name": "stdout",
     "output_type": "stream",
     "text": [
      "{1: 'odd', 2: 'even', 3: 'odd', 4: 'even', 5: 'odd', 6: 'even', 7: 'odd', 8: 'even', 9: 'odd', 10: 'even'}\n"
     ]
    }
   ],
   "source": [
    "naturals = list(range(1, 11))\n",
    "\n",
    "output = dict()\n",
    "\n",
    "for i in naturals:\n",
    "    if i % 2 == 0:\n",
    "        output[i] = \"even\"\n",
    "    else:\n",
    "        output[i] = \"odd\"\n",
    "\n",
    "print(output)"
   ]
  },
  {
   "cell_type": "code",
   "execution_count": 20,
   "id": "6861ad11",
   "metadata": {},
   "outputs": [
    {
     "data": {
      "text/plain": [
       "{1: 'odd',\n",
       " 2: 'even',\n",
       " 3: 'odd',\n",
       " 4: 'even',\n",
       " 5: 'odd',\n",
       " 6: 'even',\n",
       " 7: 'odd',\n",
       " 8: 'even',\n",
       " 9: 'odd',\n",
       " 10: 'even'}"
      ]
     },
     "execution_count": 20,
     "metadata": {},
     "output_type": "execute_result"
    }
   ],
   "source": [
    "{i: \"even\" if i % 2 == 0 else \"odd\" for i in naturals}"
   ]
  },
  {
   "cell_type": "code",
   "execution_count": null,
   "id": "f25b67c6",
   "metadata": {},
   "outputs": [],
   "source": [
    "## value is over-written when key is not unique"
   ]
  },
  {
   "cell_type": "code",
   "execution_count": 21,
   "id": "dab9bed0",
   "metadata": {},
   "outputs": [
    {
     "data": {
      "text/plain": [
       "{'sweet': 'banana', 'sour': 'orange'}"
      ]
     },
     "execution_count": 21,
     "metadata": {},
     "output_type": "execute_result"
    }
   ],
   "source": [
    "fruits = {\"mango\": \"sweet\", \"orange\": \"sour\", \"banana\": \"sweet\"}\n",
    "\n",
    "{taste: fruit for fruit, taste in fruits.items()}\n"
   ]
  },
  {
   "cell_type": "markdown",
   "id": "d4ee7a66",
   "metadata": {},
   "source": [
    "### `zip` function"
   ]
  },
  {
   "cell_type": "code",
   "execution_count": 23,
   "id": "ee928da8",
   "metadata": {},
   "outputs": [
    {
     "name": "stdout",
     "output_type": "stream",
     "text": [
      "prashant\n",
      "100\n",
      "\n",
      "rahul\n",
      "90\n",
      "\n",
      "sachin\n",
      "80\n",
      "\n"
     ]
    }
   ],
   "source": [
    "students = [\"prashant\", \"rahul\", \"sachin\"]\n",
    "marks = [100, 90, 80]\n",
    "\n",
    "for student, score in zip(students, marks):\n",
    "    print(student)\n",
    "    print(score)\n",
    "    print()"
   ]
  },
  {
   "cell_type": "code",
   "execution_count": 24,
   "id": "854d5064",
   "metadata": {},
   "outputs": [
    {
     "name": "stdout",
     "output_type": "stream",
     "text": [
      "{'prashant': 100, 'rahul': 90, 'sachin': 80}\n"
     ]
    }
   ],
   "source": [
    "students = [\"prashant\", \"rahul\", \"sachin\"]\n",
    "marks = [100, 90, 80]\n",
    "\n",
    "\n",
    "output = {}\n",
    "for student, score in zip(students, marks):\n",
    "    output[student] = score\n",
    "\n",
    "print(output)"
   ]
  },
  {
   "cell_type": "code",
   "execution_count": 25,
   "id": "a9db1a5e",
   "metadata": {},
   "outputs": [
    {
     "data": {
      "text/plain": [
       "{'prashant': 100, 'rahul': 90, 'sachin': 80}"
      ]
     },
     "execution_count": 25,
     "metadata": {},
     "output_type": "execute_result"
    }
   ],
   "source": [
    "{student: score for student, score in zip(students, marks)}"
   ]
  },
  {
   "cell_type": "markdown",
   "id": "8953eaa3",
   "metadata": {},
   "source": [
    "### numbers and their respective squares as values"
   ]
  },
  {
   "cell_type": "code",
   "execution_count": 28,
   "id": "6c14d7c6",
   "metadata": {},
   "outputs": [
    {
     "data": {
      "text/plain": [
       "{1: 1, 2: 4, 3: 9, 4: 16, 5: 25, 6: 36}"
      ]
     },
     "execution_count": 28,
     "metadata": {},
     "output_type": "execute_result"
    }
   ],
   "source": [
    "numbers = range(1, 7)\n",
    "\n",
    "{number: number **2 for number in numbers}"
   ]
  },
  {
   "cell_type": "markdown",
   "id": "8da6f1b2",
   "metadata": {},
   "source": [
    "### strings and their upper case version as values"
   ]
  },
  {
   "cell_type": "code",
   "execution_count": 29,
   "id": "4c2d9f42",
   "metadata": {},
   "outputs": [
    {
     "data": {
      "text/plain": [
       "{'prashant': 'PRASHANT', 'rahul': 'RAHUL', 'sachin': 'SACHIN'}"
      ]
     },
     "execution_count": 29,
     "metadata": {},
     "output_type": "execute_result"
    }
   ],
   "source": [
    "students = [\"prashant\", \"rahul\", \"sachin\"]\n",
    "\n",
    "{student: student.upper() for student in students}"
   ]
  },
  {
   "cell_type": "markdown",
   "id": "5439f741",
   "metadata": {},
   "source": [
    "### perform square of number only if it is divisible by 5"
   ]
  },
  {
   "cell_type": "code",
   "execution_count": 30,
   "id": "87d210eb",
   "metadata": {},
   "outputs": [
    {
     "data": {
      "text/plain": [
       "{5: 25, 10: 100, 15: 225, 20: 400}"
      ]
     },
     "execution_count": 30,
     "metadata": {},
     "output_type": "execute_result"
    }
   ],
   "source": [
    "numbers = range(1, 21)\n",
    "\n",
    "{number: number **2 for number in numbers if number % 5 ==0}"
   ]
  },
  {
   "cell_type": "markdown",
   "id": "38ec7acf",
   "metadata": {},
   "source": [
    "### perform square of number only if it is divisible by 5 (use `None` as value when number is not divisible by 5)"
   ]
  },
  {
   "cell_type": "code",
   "execution_count": 31,
   "id": "ca9ae9ea",
   "metadata": {},
   "outputs": [
    {
     "data": {
      "text/plain": [
       "{1: None,\n",
       " 2: None,\n",
       " 3: None,\n",
       " 4: None,\n",
       " 5: 25,\n",
       " 6: None,\n",
       " 7: None,\n",
       " 8: None,\n",
       " 9: None,\n",
       " 10: 100,\n",
       " 11: None,\n",
       " 12: None,\n",
       " 13: None,\n",
       " 14: None,\n",
       " 15: 225,\n",
       " 16: None,\n",
       " 17: None,\n",
       " 18: None,\n",
       " 19: None,\n",
       " 20: 400}"
      ]
     },
     "execution_count": 31,
     "metadata": {},
     "output_type": "execute_result"
    }
   ],
   "source": [
    "numbers = range(1, 21)\n",
    "\n",
    "{number: number**2 if number % 5 == 0 else None for number in numbers}"
   ]
  }
 ],
 "metadata": {
  "kernelspec": {
   "display_name": "Python 3 (ipykernel)",
   "language": "python",
   "name": "python3"
  },
  "language_info": {
   "codemirror_mode": {
    "name": "ipython",
    "version": 3
   },
   "file_extension": ".py",
   "mimetype": "text/x-python",
   "name": "python",
   "nbconvert_exporter": "python",
   "pygments_lexer": "ipython3",
   "version": "3.10.0"
  }
 },
 "nbformat": 4,
 "nbformat_minor": 5
}
