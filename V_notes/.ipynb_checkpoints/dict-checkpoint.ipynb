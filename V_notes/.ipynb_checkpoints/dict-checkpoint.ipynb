{
 "cells": [
  {
   "cell_type": "markdown",
   "id": "4be9c3f8",
   "metadata": {},
   "source": [
    "# What is `dict`?\n",
    "\n",
    "- Collection of key value pair separated by comma\n",
    "- The keys of dictionary should immutable data type\n",
    "- Value of dictionary can be any data type\n",
    "- key of the dictionary should be unique"
   ]
  },
  {
   "cell_type": "markdown",
   "id": "c1821a7c",
   "metadata": {},
   "source": [
    "# how to create a `dict`?\n",
    "\n",
    "syntax\n",
    "\n",
    "```\n",
    "var = {\n",
    "    <key1> : <value1>,\n",
    "    <key2> : <value2>,\n",
    "    ...,\n",
    "    ...,\n",
    "    <key_n> : <value_n>\n",
    "}\n",
    "```"
   ]
  },
  {
   "cell_type": "markdown",
   "id": "d1d0d34f",
   "metadata": {},
   "source": [
    "# how to create empty dictionary?"
   ]
  },
  {
   "cell_type": "code",
   "execution_count": 3,
   "id": "46ac3a42",
   "metadata": {},
   "outputs": [
    {
     "data": {
      "text/plain": [
       "dict"
      ]
     },
     "execution_count": 3,
     "metadata": {},
     "output_type": "execute_result"
    }
   ],
   "source": [
    "\n",
    "# how to create empty dictionary?\n",
    "\n",
    "foo = {}\n",
    "type(foo)  # `foo` is an object of class `dict`"
   ]
  },
  {
   "cell_type": "code",
   "execution_count": 4,
   "id": "f79722c0",
   "metadata": {},
   "outputs": [
    {
     "data": {
      "text/plain": [
       "dict"
      ]
     },
     "execution_count": 4,
     "metadata": {},
     "output_type": "execute_result"
    }
   ],
   "source": [
    "\n",
    "# how to create empty dictionary?\n",
    "\n",
    "bar = dict()\n",
    "\n",
    "type(bar) # `bar` is an object of class `dict`"
   ]
  },
  {
   "cell_type": "markdown",
   "id": "f3f1ff71",
   "metadata": {},
   "source": [
    "# dict representation"
   ]
  },
  {
   "cell_type": "code",
   "execution_count": null,
   "id": "2f0e67f4",
   "metadata": {},
   "outputs": [],
   "source": [
    "# how does a dict object looks like?\n",
    "\n",
    "example = {\"virat\": 100, \"hardik\": 50, \"dhoni\": 60}\n",
    "\n",
    "# keys are -   virat, hardik, dhoni\n",
    "# values are - 100,    50,     60\n"
   ]
  },
  {
   "cell_type": "code",
   "execution_count": null,
   "id": "5b9c9528",
   "metadata": {},
   "outputs": [],
   "source": [
    "# 3 matches\n",
    "\n",
    "\n",
    "tournament = {\"virat\": [100, 30, 0], \"hardik\": [40, 0, 10], \"dhoni\": [60, 40]}\n",
    "\n",
    "# keys -      virat,           hardik,           dhoni\n",
    "# values -    [100, 30, 0]     [40, 0, 10]       [60, 40]"
   ]
  },
  {
   "cell_type": "code",
   "execution_count": 5,
   "id": "7d7ad917",
   "metadata": {},
   "outputs": [
    {
     "ename": "TypeError",
     "evalue": "unhashable type: 'list'",
     "output_type": "error",
     "traceback": [
      "\u001b[0;31m---------------------------------------------------------------------------\u001b[0m",
      "\u001b[0;31mTypeError\u001b[0m                                 Traceback (most recent call last)",
      "Cell \u001b[0;32mIn [5], line 1\u001b[0m\n\u001b[0;32m----> 1\u001b[0m tournament1 \u001b[38;5;241m=\u001b[39m {[\u001b[38;5;241m100\u001b[39m, \u001b[38;5;241m20\u001b[39m]: \u001b[38;5;124m\"\u001b[39m\u001b[38;5;124mvirat\u001b[39m\u001b[38;5;124m\"\u001b[39m}\n",
      "\u001b[0;31mTypeError\u001b[0m: unhashable type: 'list'"
     ]
    }
   ],
   "source": [
    "tournament1 = {[100, 20]: \"virat\"}"
   ]
  },
  {
   "cell_type": "code",
   "execution_count": 7,
   "id": "039305b8",
   "metadata": {},
   "outputs": [
    {
     "data": {
      "text/plain": [
       "dict"
      ]
     },
     "execution_count": 7,
     "metadata": {},
     "output_type": "execute_result"
    }
   ],
   "source": [
    "key1 = 100, 20\n",
    "tournament1 = {key1: \"virat\"}\n",
    "type(tournament1)"
   ]
  },
  {
   "cell_type": "code",
   "execution_count": 8,
   "id": "4bf870d4",
   "metadata": {},
   "outputs": [
    {
     "data": {
      "text/plain": [
       "dict"
      ]
     },
     "execution_count": 8,
     "metadata": {},
     "output_type": "execute_result"
    }
   ],
   "source": [
    "value1 = 100, 20   # tuple\n",
    "\n",
    "tournament2 = {\"virat\": value1}\n",
    "\n",
    "type(tournament1)"
   ]
  },
  {
   "cell_type": "markdown",
   "id": "6c397f4c",
   "metadata": {},
   "source": [
    "### immmutable data types\n",
    "\n",
    "- int\n",
    "- float\n",
    "- None\n",
    "- str\n",
    "- tuple\n",
    "\n",
    "\n",
    "#### mutable \n",
    "\n",
    "- list\n"
   ]
  },
  {
   "cell_type": "code",
   "execution_count": 9,
   "id": "f2ffe389",
   "metadata": {},
   "outputs": [
    {
     "data": {
      "text/plain": [
       "dict"
      ]
     },
     "execution_count": 9,
     "metadata": {},
     "output_type": "execute_result"
    }
   ],
   "source": [
    "# lets take int as key and list as value\n",
    "\n",
    "student = {1: [\"prashant\", 30.50, 100], 2: [\"rahul\", 40, 60]}\n",
    "\n",
    "type(student)"
   ]
  },
  {
   "cell_type": "code",
   "execution_count": 11,
   "id": "200607b7",
   "metadata": {},
   "outputs": [
    {
     "data": {
      "text/plain": [
       "dict"
      ]
     },
     "execution_count": 11,
     "metadata": {},
     "output_type": "execute_result"
    }
   ],
   "source": [
    "# lets take str as key and None as value\n",
    "\n",
    "foo = {\"prashant\": None}\n",
    "\n",
    "type(foo)"
   ]
  },
  {
   "cell_type": "code",
   "execution_count": 13,
   "id": "fd68c323",
   "metadata": {},
   "outputs": [
    {
     "data": {
      "text/plain": [
       "dict"
      ]
     },
     "execution_count": 13,
     "metadata": {},
     "output_type": "execute_result"
    }
   ],
   "source": [
    "bar = {None: \"prashant\"}\n",
    "type(bar)"
   ]
  },
  {
   "cell_type": "code",
   "execution_count": 14,
   "id": "30dff6b9",
   "metadata": {},
   "outputs": [
    {
     "data": {
      "text/plain": [
       "dict"
      ]
     },
     "execution_count": 14,
     "metadata": {},
     "output_type": "execute_result"
    }
   ],
   "source": [
    "example3 = {True: \"prshant\"}\n",
    "type(example3)"
   ]
  },
  {
   "cell_type": "code",
   "execution_count": null,
   "id": "883dc849",
   "metadata": {},
   "outputs": [],
   "source": [
    "student = {1: [\"prashant\", 30.50, 100], 2: [\"rahul\", 40, 60]}\n",
    "\n",
    "student = [[\"prashant\", 30.50, 100], [\"rahul\", 40, 60]]"
   ]
  },
  {
   "cell_type": "code",
   "execution_count": 19,
   "id": "b40617ae",
   "metadata": {},
   "outputs": [
    {
     "data": {
      "text/plain": [
       "{1: 'rahul'}"
      ]
     },
     "execution_count": 19,
     "metadata": {},
     "output_type": "execute_result"
    }
   ],
   "source": [
    "student1 = {1: \"prshant\", 1: \"rahul\"}\n",
    "\n",
    "student1"
   ]
  },
  {
   "cell_type": "markdown",
   "id": "895a0c80",
   "metadata": {},
   "source": [
    "# use cases of dict\n",
    "\n",
    "- whenver you want represent complex data\n",
    "- you can perform search operation better"
   ]
  },
  {
   "cell_type": "markdown",
   "id": "69f6c45e",
   "metadata": {},
   "source": [
    "# accessing elements of dict\n",
    "\n",
    "- you can access elements of `dict` using key"
   ]
  },
  {
   "cell_type": "code",
   "execution_count": 20,
   "id": "b68de885",
   "metadata": {},
   "outputs": [
    {
     "data": {
      "text/plain": [
       "['prashant', 30.5, 100]"
      ]
     },
     "execution_count": 20,
     "metadata": {},
     "output_type": "execute_result"
    }
   ],
   "source": [
    "student = {100: [\"prashant\", 30.50, 100], 200: [\"rahul\", 40, 60]}\n",
    "\n",
    "student[100]"
   ]
  },
  {
   "cell_type": "code",
   "execution_count": 21,
   "id": "eb2f0264",
   "metadata": {},
   "outputs": [
    {
     "data": {
      "text/plain": [
       "['rahul', 40, 60]"
      ]
     },
     "execution_count": 21,
     "metadata": {},
     "output_type": "execute_result"
    }
   ],
   "source": [
    "student = {100: [\"prashant\", 30.50, 100], 200: [\"rahul\", 40, 60]}\n",
    "\n",
    "student[200]"
   ]
  },
  {
   "cell_type": "code",
   "execution_count": 22,
   "id": "05031e34",
   "metadata": {},
   "outputs": [
    {
     "data": {
      "text/plain": [
       "['python', 'java']"
      ]
     },
     "execution_count": 22,
     "metadata": {},
     "output_type": "execute_result"
    }
   ],
   "source": [
    "languages = {\n",
    "    \"high_level\": [\"python\", \"java\"],\n",
    "    \"low_level\": [\"assembly\", \"c\"]\n",
    "}\n",
    "\n",
    "languages[\"high_level\"]\n"
   ]
  },
  {
   "cell_type": "code",
   "execution_count": 23,
   "id": "971cc5c5",
   "metadata": {},
   "outputs": [
    {
     "data": {
      "text/plain": [
       "['assembly', 'c']"
      ]
     },
     "execution_count": 23,
     "metadata": {},
     "output_type": "execute_result"
    }
   ],
   "source": [
    "languages = {\n",
    "    \"high_level\": [\"python\", \"java\"],\n",
    "    \"low_level\": [\"assembly\", \"c\"]\n",
    "}\n",
    "\n",
    "languages[\"low_level\"]\n"
   ]
  },
  {
   "cell_type": "code",
   "execution_count": null,
   "id": "649fe481",
   "metadata": {},
   "outputs": [],
   "source": [
    "match_scores = {\"virat\": 100, \"hardik\": 50, \"dhoni\": 90}\n",
    "\n",
    "print(match_scores[\"dhoni\"])\n",
    "\n",
    "print(match_scores[\"hardik\"])"
   ]
  },
  {
   "cell_type": "code",
   "execution_count": 28,
   "id": "ede0c10d",
   "metadata": {},
   "outputs": [
    {
     "data": {
      "text/plain": [
       "list"
      ]
     },
     "execution_count": 28,
     "metadata": {},
     "output_type": "execute_result"
    }
   ],
   "source": [
    "languages = {\n",
    "    \"high_level\": [\"python\", \"java\"],\n",
    "    \"low_level\": [\"assembly\", \"c\"]\n",
    "}\n",
    "\n",
    "result = languages[\"high_level\"]\n",
    "result[0]\n",
    "result[1]\n",
    "\n"
   ]
  },
  {
   "cell_type": "code",
   "execution_count": 32,
   "id": "baa61f4d",
   "metadata": {},
   "outputs": [
    {
     "name": "stdout",
     "output_type": "stream",
     "text": [
      "<class 'dict'>\n",
      "<class 'dict'>\n"
     ]
    },
    {
     "data": {
      "text/plain": [
       "600"
      ]
     },
     "execution_count": 32,
     "metadata": {},
     "output_type": "execute_result"
    }
   ],
   "source": [
    "virat_scores = {\n",
    "    \"world_cup\": 300,\n",
    "    \"asia_cup\": 400,\n",
    "    \"IPL\": 600\n",
    "}\n",
    "\n",
    "print(type(virat_scores))  # `virat_scores` is an object of class `dict`\n",
    "\n",
    "dhoni_scores = {\n",
    "    \"world_cup\": 700,\n",
    "    \"asia_cup\": 500,\n",
    "    \"IPL\": 900\n",
    "}\n",
    "\n",
    "print(type(dhoni_scores)) # `dhoni_scores` is an object of class `dict`\n",
    "\n",
    "\n",
    "# `cricketer` is a `dict` where keys are `str` and values are `dict`\n",
    "\n",
    "cricketer = {\"virat\": virat_scores, \"dhoni\": dhoni_scores}\n",
    "\n",
    "cricketer[\"dhoni\"][\"asia_cup\"]\n",
    "\n",
    "cricketer[\"virat\"][\"IPL\"]"
   ]
  },
  {
   "cell_type": "code",
   "execution_count": 34,
   "id": "ccfd494f",
   "metadata": {},
   "outputs": [
    {
     "name": "stdout",
     "output_type": "stream",
     "text": [
      "{'population': '1 cr', 'area': '40 sqkm', 'mayor': 'abc'}\n",
      "{'population': '0.7 cr', 'area': '30 sqkm', 'mayor': 'xyz'}\n"
     ]
    }
   ],
   "source": [
    "mumbai = {\n",
    "    \"population\": \"1 cr\",\n",
    "    \"area\": \"40 sqkm\",\n",
    "    \"mayor\": \"abc\"\n",
    "}\n",
    "\n",
    "pune = {\n",
    "    \"population\": \"0.7 cr\",\n",
    "    \"area\": \"30 sqkm\",\n",
    "    \"mayor\": \"xyz\"\n",
    "}\n",
    "\n",
    "city_data = {\"capital city\": mumbai, \"education hub\": pune}\n",
    "\n",
    "city_data[\"capital city\"][\"area\"]\n"
   ]
  },
  {
   "cell_type": "code",
   "execution_count": 36,
   "id": "bc0764c8",
   "metadata": {},
   "outputs": [
    {
     "name": "stdout",
     "output_type": "stream",
     "text": [
      "warje\n",
      "warje\n"
     ]
    }
   ],
   "source": [
    "mumbai = {\n",
    "    \"population\": \"1 cr\",\n",
    "    \"area\": \"40 sqkm\",\n",
    "    \"mayor\": \"abc\",\n",
    "    \"suburbs\": [\"andheri\", \"dadar\", \"ghatkopar\"]\n",
    "}\n",
    "\n",
    "pune = {\n",
    "    \"population\": \"0.7 cr\",\n",
    "    \"area\": \"30 sqkm\",\n",
    "    \"mayor\": \"xyz\",\n",
    "    \"suburbs\": [\"kothrud\", \"wakad\", \"shivajinagar\", \"warje\"]\n",
    "}\n",
    "\n",
    "city_data = {\"capital city\": mumbai, \"education hub\": pune}\n",
    "\n",
    "result1 = city_data[\"education hub\"][\"suburbs\"][-1]\n",
    "result2 = city_data[\"education hub\"][\"suburbs\"][3]\n",
    "\n",
    "print(result1)\n",
    "print(result2)"
   ]
  },
  {
   "cell_type": "code",
   "execution_count": 37,
   "id": "1eb4841a",
   "metadata": {},
   "outputs": [
    {
     "ename": "KeyError",
     "evalue": "'ashes'",
     "output_type": "error",
     "traceback": [
      "\u001b[0;31m---------------------------------------------------------------------------\u001b[0m",
      "\u001b[0;31mKeyError\u001b[0m                                  Traceback (most recent call last)",
      "Cell \u001b[0;32mIn [37], line 8\u001b[0m\n\u001b[1;32m      1\u001b[0m virat_scores \u001b[38;5;241m=\u001b[39m {\n\u001b[1;32m      2\u001b[0m     \u001b[38;5;124m\"\u001b[39m\u001b[38;5;124mworld_cup\u001b[39m\u001b[38;5;124m\"\u001b[39m: \u001b[38;5;241m300\u001b[39m,\n\u001b[1;32m      3\u001b[0m     \u001b[38;5;124m\"\u001b[39m\u001b[38;5;124masia_cup\u001b[39m\u001b[38;5;124m\"\u001b[39m: \u001b[38;5;241m400\u001b[39m,\n\u001b[1;32m      4\u001b[0m     \u001b[38;5;124m\"\u001b[39m\u001b[38;5;124mIPL\u001b[39m\u001b[38;5;124m\"\u001b[39m: \u001b[38;5;241m600\u001b[39m\n\u001b[1;32m      5\u001b[0m }\n\u001b[0;32m----> 8\u001b[0m \u001b[43mvirat_scores\u001b[49m\u001b[43m[\u001b[49m\u001b[38;5;124;43m\"\u001b[39;49m\u001b[38;5;124;43mashes\u001b[39;49m\u001b[38;5;124;43m\"\u001b[39;49m\u001b[43m]\u001b[49m\n",
      "\u001b[0;31mKeyError\u001b[0m: 'ashes'"
     ]
    }
   ],
   "source": [
    "virat_scores = {\n",
    "    \"world_cup\": 300,\n",
    "    \"asia_cup\": 400,\n",
    "    \"IPL\": 600\n",
    "}\n",
    "\n",
    "\n",
    "virat_scores[\"ashes\"]"
   ]
  },
  {
   "cell_type": "markdown",
   "id": "6fb67e48",
   "metadata": {},
   "source": [
    "### how to create dictionary from list of tuple? "
   ]
  },
  {
   "cell_type": "code",
   "execution_count": 40,
   "id": "43539368",
   "metadata": {},
   "outputs": [
    {
     "data": {
      "text/plain": [
       "list"
      ]
     },
     "execution_count": 40,
     "metadata": {},
     "output_type": "execute_result"
    }
   ],
   "source": [
    "foo = [\n",
    "    (\"education\", \"pune\"),\n",
    "    (\"capital\", \"mumbai\"),\n",
    "    (\"historical\", \"satara\")\n",
    "]\n",
    "\n",
    "type(foo)"
   ]
  },
  {
   "cell_type": "code",
   "execution_count": 41,
   "id": "844eada9",
   "metadata": {},
   "outputs": [
    {
     "data": {
      "text/plain": [
       "{'education': 'pune', 'capital': 'mumbai', 'historical': 'satara'}"
      ]
     },
     "execution_count": 41,
     "metadata": {},
     "output_type": "execute_result"
    }
   ],
   "source": [
    "# you can convert list of tuples (where tuple is having 2 elements) into dict\n",
    "\n",
    "MH_data = dict(foo)\n",
    "\n",
    "MH_data"
   ]
  },
  {
   "cell_type": "markdown",
   "id": "fdf32ea7",
   "metadata": {},
   "source": [
    "### how to create dictionary using key value pairs? "
   ]
  },
  {
   "cell_type": "code",
   "execution_count": 42,
   "id": "2726573a",
   "metadata": {},
   "outputs": [
    {
     "name": "stdout",
     "output_type": "stream",
     "text": [
      "{'MH': 'mumbai', 'KA': 'bengaluru', 'GOA': 'Panji'}\n"
     ]
    },
    {
     "data": {
      "text/plain": [
       "dict"
      ]
     },
     "execution_count": 42,
     "metadata": {},
     "output_type": "execute_result"
    }
   ],
   "source": [
    "states = dict(MH=\"mumbai\", KA=\"bengaluru\", GOA=\"Panji\")\n",
    "\n",
    "print(states)\n",
    "type(states)"
   ]
  }
 ],
 "metadata": {
  "kernelspec": {
   "display_name": "Python 3 (ipykernel)",
   "language": "python",
   "name": "python3"
  },
  "language_info": {
   "codemirror_mode": {
    "name": "ipython",
    "version": 3
   },
   "file_extension": ".py",
   "mimetype": "text/x-python",
   "name": "python",
   "nbconvert_exporter": "python",
   "pygments_lexer": "ipython3",
   "version": "3.10.0"
  }
 },
 "nbformat": 4,
 "nbformat_minor": 5
}
