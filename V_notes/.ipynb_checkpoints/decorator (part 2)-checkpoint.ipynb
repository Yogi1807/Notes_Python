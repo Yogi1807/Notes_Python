{
 "cells": [
  {
   "cell_type": "code",
   "execution_count": 1,
   "id": "bbe09f0b-d81f-45c3-b0c9-50060a573e77",
   "metadata": {},
   "outputs": [
    {
     "data": {
      "text/plain": [
       "1673972662866571000"
      ]
     },
     "execution_count": 1,
     "metadata": {},
     "output_type": "execute_result"
    }
   ],
   "source": [
    "import time\n",
    "\n",
    "time.time_ns()"
   ]
  },
  {
   "cell_type": "code",
   "execution_count": null,
   "id": "8db91d63-2d54-4656-a3b3-b4aace6c4531",
   "metadata": {},
   "outputs": [],
   "source": [
    "## execution time of any function"
   ]
  },
  {
   "cell_type": "code",
   "execution_count": 3,
   "id": "efb1d616-6c84-4503-ab84-4634724ab97a",
   "metadata": {},
   "outputs": [
    {
     "name": "stdout",
     "output_type": "stream",
     "text": [
      "total exec time :  50000\n"
     ]
    }
   ],
   "source": [
    "def perform_calculation():\n",
    "    start = time.time_ns()  # pre-processing\n",
    "    \n",
    "    [x**2 for x in range(1, 100)]\n",
    "    \n",
    "    end = time.time_ns()    # post-processing\n",
    "    total = end - start\n",
    "    print(\"total exec time : \", total)\n",
    "    \n",
    "    \n",
    "perform_calculation()"
   ]
  },
  {
   "cell_type": "code",
   "execution_count": 21,
   "id": "a851925d-77b5-40eb-8728-1b18fd31c0af",
   "metadata": {},
   "outputs": [],
   "source": [
    "def timeit(func):\n",
    "    print(\"before wrapper function\")\n",
    "    \n",
    "    def wrapper(*args, **kwargs):\n",
    "        print(kwargs)\n",
    "        start = time.time_ns()\n",
    "        result = func(*args, **kwargs)\n",
    "        print(\"[ INFO ] total exec time :: \", time.time_ns() - start)\n",
    "        return result\n",
    "    \n",
    "    \n",
    "    print(\"after wrapper function)\n",
    "    \n",
    "    return wrapper"
   ]
  },
  {
   "cell_type": "code",
   "execution_count": 22,
   "id": "2316b223-d76b-41b8-b932-bf27449c6a76",
   "metadata": {},
   "outputs": [
    {
     "name": "stdout",
     "output_type": "stream",
     "text": [
      "before wrapper function\n",
      "{}\n",
      "[ INFO ] total exec time ::  435000\n"
     ]
    }
   ],
   "source": [
    "@timeit\n",
    "def task1():\n",
    "    [x**2 for x in range(1000)]\n",
    "    \n",
    "    \n",
    "task1()"
   ]
  },
  {
   "cell_type": "code",
   "execution_count": 23,
   "id": "7583cf18-78e3-4209-a2db-5fd6cc689551",
   "metadata": {},
   "outputs": [
    {
     "name": "stdout",
     "output_type": "stream",
     "text": [
      "{}\n",
      "[ INFO ] total exec time ::  463000\n"
     ]
    }
   ],
   "source": [
    "task1()"
   ]
  },
  {
   "cell_type": "code",
   "execution_count": 24,
   "id": "75176ebe-ddfe-4c73-8778-08eead04b178",
   "metadata": {},
   "outputs": [
    {
     "name": "stdout",
     "output_type": "stream",
     "text": [
      "{}\n",
      "[ INFO ] total exec time ::  440000\n"
     ]
    }
   ],
   "source": [
    "task1()"
   ]
  },
  {
   "cell_type": "code",
   "execution_count": 6,
   "id": "de1435eb-7f52-475c-b419-33b2884859d6",
   "metadata": {},
   "outputs": [
    {
     "name": "stdout",
     "output_type": "stream",
     "text": [
      "[ INFO ] total exec time ::  4529000\n"
     ]
    }
   ],
   "source": [
    "@timeit\n",
    "def task2(limit):\n",
    "    [x**2 for x in range(limit)]\n",
    "    \n",
    "    \n",
    "task2(10000)"
   ]
  },
  {
   "cell_type": "code",
   "execution_count": 7,
   "id": "1e5789ae-4da4-4183-a3b1-32006cf705e2",
   "metadata": {},
   "outputs": [
    {
     "name": "stdout",
     "output_type": "stream",
     "text": [
      "[ INFO ] total exec time ::  49103000\n"
     ]
    }
   ],
   "source": [
    "@timeit\n",
    "def task3(start, limit):\n",
    "    [x**2 for x in range(start, limit)]\n",
    "    \n",
    "    \n",
    "task3(100, 100000)"
   ]
  },
  {
   "cell_type": "code",
   "execution_count": 19,
   "id": "a25c9f1e-4675-448a-8b11-52e46df63869",
   "metadata": {},
   "outputs": [
    {
     "name": "stdout",
     "output_type": "stream",
     "text": [
      "{'greeting': 'random'}\n",
      "[ INFO ] total exec time ::  2092657000\n"
     ]
    }
   ],
   "source": [
    "@timeit\n",
    "def task4(start, limit, greeting=\"good morning\"):\n",
    "    [x**2 for x in range(start, limit)]\n",
    "    \n",
    "    \n",
    "task4(100, 10000000, greeting=\"random\")"
   ]
  },
  {
   "cell_type": "code",
   "execution_count": 20,
   "id": "1dd9ef3c-84dc-471f-bfc0-72a54c10971c",
   "metadata": {},
   "outputs": [
    {
     "name": "stdout",
     "output_type": "stream",
     "text": [
      "{'greeting': 'random thing'}\n",
      "{'greeting': 'random thing'}\n",
      "[ INFO ] total exec time ::  5071000\n",
      "[ INFO ] total exec time ::  5097000\n"
     ]
    }
   ],
   "source": [
    "timeit(task4)(10, 10000, greeting=\"random thing\")"
   ]
  },
  {
   "cell_type": "markdown",
   "id": "265d75bb-a62c-40fc-86bb-b5ca341c3d73",
   "metadata": {},
   "source": [
    "### NOTE\n",
    "\n",
    "- pre-processing and post-processing must go within wrapper function\n",
    "- wrapper function executes everytime func call happens\n",
    "- logic in decorator function only executed once when decorated func is defined"
   ]
  },
  {
   "cell_type": "code",
   "execution_count": 37,
   "id": "7d4830e4-4178-48e9-ac6f-d583794d8dbe",
   "metadata": {},
   "outputs": [
    {
     "name": "stdout",
     "output_type": "stream",
     "text": [
      "good morning\n",
      "some email\n",
      "best\n"
     ]
    }
   ],
   "source": [
    "def super_deco(greeting, regards):\n",
    "    print(greeting)\n",
    "    def deco(func):\n",
    "        def wrapper(*args, **kwargs):\n",
    "            result = func(*args, **kwargs)\n",
    "            print(regards)\n",
    "            return result\n",
    "        return wrapper\n",
    "    \n",
    "    \n",
    "    return deco\n",
    "\n",
    "\n",
    "# HOW TO PASS ARGUMENTS TO DECORTOR FUNCTION\n",
    "@super_deco(\"good morning\", \"best\")\n",
    "def email(content):\n",
    "    print(content)\n",
    "\n",
    "          \n",
    "        \n",
    "email(\"some email\")"
   ]
  },
  {
   "cell_type": "code",
   "execution_count": 69,
   "id": "c2ef0637-5656-4165-82a2-ec164ffb0e2f",
   "metadata": {},
   "outputs": [
    {
     "data": {
      "text/plain": [
       "'hello prashant'"
      ]
     },
     "execution_count": 69,
     "metadata": {},
     "output_type": "execute_result"
    }
   ],
   "source": [
    "def greet(func):\n",
    "    def wrapper():\n",
    "        result = \"hello \" + func()\n",
    "        return result\n",
    "    return wrapper\n",
    "   \n",
    "\n",
    "@greet\n",
    "def name():\n",
    "    return \"prashant\"\n",
    "    \n",
    "    \n",
    "name()"
   ]
  },
  {
   "cell_type": "code",
   "execution_count": 68,
   "id": "0836e3a0-938c-4038-9508-d593326def17",
   "metadata": {},
   "outputs": [
    {
     "data": {
      "text/plain": [
       "'hello hello prashant'"
      ]
     },
     "execution_count": 68,
     "metadata": {},
     "output_type": "execute_result"
    }
   ],
   "source": [
    "wrapper_ = greet(name)\n",
    "wrapper_()"
   ]
  }
 ],
 "metadata": {
  "kernelspec": {
   "display_name": "Python 3 (ipykernel)",
   "language": "python",
   "name": "python3"
  },
  "language_info": {
   "codemirror_mode": {
    "name": "ipython",
    "version": 3
   },
   "file_extension": ".py",
   "mimetype": "text/x-python",
   "name": "python",
   "nbconvert_exporter": "python",
   "pygments_lexer": "ipython3",
   "version": "3.10.0"
  }
 },
 "nbformat": 4,
 "nbformat_minor": 5
}
