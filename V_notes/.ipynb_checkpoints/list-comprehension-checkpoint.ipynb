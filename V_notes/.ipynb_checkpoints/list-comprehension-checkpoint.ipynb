{
 "cells": [
  {
   "cell_type": "code",
   "execution_count": 3,
   "id": "a8495bad",
   "metadata": {},
   "outputs": [
    {
     "data": {
      "text/plain": [
       "[1, 2, 3, 4, 5, 6, 7, 8, 9, 10]"
      ]
     },
     "execution_count": 3,
     "metadata": {},
     "output_type": "execute_result"
    }
   ],
   "source": [
    "naturals = list(range(1, 11))\n",
    "naturals"
   ]
  },
  {
   "cell_type": "code",
   "execution_count": 4,
   "id": "aff3617d",
   "metadata": {},
   "outputs": [
    {
     "name": "stdout",
     "output_type": "stream",
     "text": [
      "[1, 4, 9, 16, 25, 36, 49, 64, 81, 100]\n"
     ]
    }
   ],
   "source": [
    "result = []\n",
    "\n",
    "for number in naturals:\n",
    "    result.append(number * number)\n",
    "    \n",
    "print(result)"
   ]
  },
  {
   "cell_type": "markdown",
   "id": "682d6bab",
   "metadata": {},
   "source": [
    "### List comprehension"
   ]
  },
  {
   "cell_type": "code",
   "execution_count": 5,
   "id": "c9c9fd46",
   "metadata": {},
   "outputs": [
    {
     "data": {
      "text/plain": [
       "[1, 4, 9, 16, 25, 36, 49, 64, 81, 100]"
      ]
     },
     "execution_count": 5,
     "metadata": {},
     "output_type": "execute_result"
    }
   ],
   "source": [
    "[number * number for number in naturals]"
   ]
  },
  {
   "cell_type": "markdown",
   "id": "595f4c17",
   "metadata": {},
   "source": [
    "- `list comprehension` is a single line for-loop\n",
    "- its a way of converting multi line for loop into elegant single line code"
   ]
  },
  {
   "cell_type": "markdown",
   "id": "c8565422",
   "metadata": {},
   "source": [
    "NOTE  - use `list comprehension`  as long as your code is `readable`"
   ]
  },
  {
   "cell_type": "markdown",
   "id": "e97c1175",
   "metadata": {},
   "source": [
    "syntax\n",
    "\n",
    "```\n",
    "[<expression> for <iterator-variable> in <sequence>]\n",
    "\n",
    "```\n",
    "\n",
    "```\n",
    "[<expression> for <iterator-variable> in <sequence> if <condition>]\n",
    "```"
   ]
  },
  {
   "cell_type": "markdown",
   "id": "aa9d3f3f",
   "metadata": {},
   "source": [
    "### perform cube of each number in a given list"
   ]
  },
  {
   "cell_type": "code",
   "execution_count": 6,
   "id": "e58bed0b",
   "metadata": {},
   "outputs": [
    {
     "name": "stdout",
     "output_type": "stream",
     "text": [
      "[8, 27, 64, 125, 216]\n"
     ]
    }
   ],
   "source": [
    "foo = [2, 3, 4, 5, 6]\n",
    "\n",
    "result = []\n",
    "for i in foo:\n",
    "    result.append(i**3)\n",
    "    \n",
    "print(result)"
   ]
  },
  {
   "cell_type": "code",
   "execution_count": 7,
   "id": "e72ffa1a",
   "metadata": {},
   "outputs": [
    {
     "data": {
      "text/plain": [
       "[8, 27, 64, 125, 216]"
      ]
     },
     "execution_count": 7,
     "metadata": {},
     "output_type": "execute_result"
    }
   ],
   "source": [
    "[i**3 for i in foo]"
   ]
  },
  {
   "cell_type": "code",
   "execution_count": 8,
   "id": "21d200fe",
   "metadata": {},
   "outputs": [
    {
     "name": "stdout",
     "output_type": "stream",
     "text": [
      "['Dhoni', 'Virat', 'Hardik']\n"
     ]
    }
   ],
   "source": [
    "indian = [\"dhoni\", \"virat\", \"hardik\"]\n",
    "\n",
    "\n",
    "final = []\n",
    "for player in indian:\n",
    "    final.append(player.capitalize())\n",
    "    \n",
    "print(final)"
   ]
  },
  {
   "cell_type": "code",
   "execution_count": 9,
   "id": "c286454d",
   "metadata": {},
   "outputs": [
    {
     "data": {
      "text/plain": [
       "['Dhoni', 'Virat', 'Hardik']"
      ]
     },
     "execution_count": 9,
     "metadata": {},
     "output_type": "execute_result"
    }
   ],
   "source": [
    "[player.capitalize() for player in indian]"
   ]
  },
  {
   "cell_type": "markdown",
   "id": "8c62e6fb",
   "metadata": {},
   "source": [
    "## to find odd numbers"
   ]
  },
  {
   "cell_type": "code",
   "execution_count": 12,
   "id": "1dc29fb5",
   "metadata": {},
   "outputs": [
    {
     "name": "stdout",
     "output_type": "stream",
     "text": [
      "[1, 3, 5, 7, 9]\n"
     ]
    }
   ],
   "source": [
    "naturals = list(range(1, 11))\n",
    "\n",
    "odds = []\n",
    "for number in naturals:\n",
    "    if number % 2 != 0:\n",
    "        odds.append(number)\n",
    "        \n",
    "print(odds)"
   ]
  },
  {
   "cell_type": "code",
   "execution_count": 13,
   "id": "01fa9cf8",
   "metadata": {},
   "outputs": [
    {
     "data": {
      "text/plain": [
       "[1, 3, 5, 7, 9]"
      ]
     },
     "execution_count": 13,
     "metadata": {},
     "output_type": "execute_result"
    }
   ],
   "source": [
    "[number for number in naturals if number % 2 != 0]"
   ]
  },
  {
   "cell_type": "markdown",
   "id": "df098084",
   "metadata": {},
   "source": [
    "## to find even numbers"
   ]
  },
  {
   "cell_type": "code",
   "execution_count": 15,
   "id": "37ab6357",
   "metadata": {},
   "outputs": [
    {
     "name": "stdout",
     "output_type": "stream",
     "text": [
      "[2, 4, 6, 8, 10]\n"
     ]
    }
   ],
   "source": [
    "naturals = list(range(1, 11))\n",
    "\n",
    "evens = []\n",
    "\n",
    "for number in naturals:\n",
    "    if number % 2 == 0:\n",
    "        evens.append(number)\n",
    "        \n",
    "print(evens)"
   ]
  },
  {
   "cell_type": "code",
   "execution_count": 16,
   "id": "fb099c56",
   "metadata": {},
   "outputs": [
    {
     "data": {
      "text/plain": [
       "[2, 4, 6, 8, 10]"
      ]
     },
     "execution_count": 16,
     "metadata": {},
     "output_type": "execute_result"
    }
   ],
   "source": [
    "[number for number in naturals if number % 2 == 0]"
   ]
  },
  {
   "cell_type": "markdown",
   "id": "8739fc97",
   "metadata": {},
   "source": [
    "# Ternary operator\n",
    "\n",
    "- single line `if-else` statement\n",
    "- we must write `else` block if we are using ternary operator\n",
    "\n",
    "syntax \n",
    "\n",
    "```\n",
    "<expression 1> if <condition> else <expression 2>\n",
    "```"
   ]
  },
  {
   "cell_type": "code",
   "execution_count": 18,
   "id": "0c48a87f",
   "metadata": {},
   "outputs": [
    {
     "name": "stdout",
     "output_type": "stream",
     "text": [
      "['1 odd', '2 even', '3 odd', '4 even', '5 odd', '6 even', '7 odd', '8 even', '9 odd', '10 even']\n"
     ]
    }
   ],
   "source": [
    "naturals = list(range(1, 11))\n",
    "\n",
    "result = []\n",
    "for number in naturals:\n",
    "    if number % 2 == 0:\n",
    "        result.append(f\"{number} even\")\n",
    "    else:\n",
    "        result.append(f\"{number} odd\")\n",
    "        \n",
    "print(result)"
   ]
  },
  {
   "cell_type": "code",
   "execution_count": 19,
   "id": "fe3e9098",
   "metadata": {},
   "outputs": [
    {
     "name": "stdout",
     "output_type": "stream",
     "text": [
      "['1 odd', '2 even', '3 odd', '4 even', '5 odd', '6 even', '7 odd', '8 even', '9 odd', '10 even']\n"
     ]
    }
   ],
   "source": [
    "naturals = list(range(1, 11))\n",
    "\n",
    "result = []\n",
    "for number in naturals:\n",
    "    result.append(f\"{number} even\") if number % 2 == 0 else result.append(f\"{number} odd\")\n",
    "        \n",
    "print(result)"
   ]
  },
  {
   "cell_type": "code",
   "execution_count": 21,
   "id": "753bf10d",
   "metadata": {},
   "outputs": [
    {
     "name": "stdout",
     "output_type": "stream",
     "text": [
      "Please enter number: 11\n",
      "odd\n"
     ]
    }
   ],
   "source": [
    "number = int(input(\"Please enter number: \"))\n",
    "\n",
    "result = \"even\" if number % 2 == 0 else \"odd\"\n",
    "\n",
    "print(result)"
   ]
  },
  {
   "cell_type": "code",
   "execution_count": 22,
   "id": "5e19236e",
   "metadata": {},
   "outputs": [
    {
     "name": "stdout",
     "output_type": "stream",
     "text": [
      "Please enter number: 10\n",
      "even\n"
     ]
    }
   ],
   "source": [
    "number = int(input(\"Please enter number: \"))\n",
    "\n",
    "if number % 2 == 0:\n",
    "    result = \"even\"\n",
    "else:\n",
    "    result = \"odd\"\n",
    "\n",
    "print(result)"
   ]
  },
  {
   "cell_type": "code",
   "execution_count": 24,
   "id": "d9d4869b",
   "metadata": {},
   "outputs": [
    {
     "name": "stdout",
     "output_type": "stream",
     "text": [
      "Please enter number: 10\n",
      "even\n"
     ]
    }
   ],
   "source": [
    "number = int(input(\"Please enter number: \"))\n",
    "\n",
    "result = \"even\" if number % 2 == 0 else \"odd\"\n",
    "\n",
    "print(result)"
   ]
  },
  {
   "cell_type": "code",
   "execution_count": 28,
   "id": "82be27d1",
   "metadata": {},
   "outputs": [
    {
     "data": {
      "text/plain": [
       "['1 odd',\n",
       " '2 even',\n",
       " '3 odd',\n",
       " '4 even',\n",
       " '5 odd',\n",
       " '6 even',\n",
       " '7 odd',\n",
       " '8 even',\n",
       " '9 odd',\n",
       " '10 even']"
      ]
     },
     "execution_count": 28,
     "metadata": {},
     "output_type": "execute_result"
    }
   ],
   "source": [
    "naturals = list(range(1, 11))\n",
    "\n",
    "\n",
    "[f\"{number} even\" if number % 2 == 0 else f\"{number} odd\" for number in naturals]"
   ]
  },
  {
   "cell_type": "code",
   "execution_count": 29,
   "id": "07c5f4fb",
   "metadata": {},
   "outputs": [
    {
     "name": "stdout",
     "output_type": "stream",
     "text": [
      "['1 odd', '2 even', '3 odd', '4 even', '5 odd', '6 even', '7 odd', '8 even', '9 odd', '10 even']\n"
     ]
    }
   ],
   "source": [
    "naturals = list(range(1, 11))\n",
    "\n",
    "result = []\n",
    "for number in naturals:\n",
    "    result.append(f\"{number} even\") if number % 2 == 0 else result.append(f\"{number} odd\")\n",
    "        \n",
    "print(result)"
   ]
  },
  {
   "cell_type": "markdown",
   "id": "49af1635",
   "metadata": {},
   "source": [
    "### number is divisible by 5 or not"
   ]
  },
  {
   "cell_type": "code",
   "execution_count": 34,
   "id": "7475132a",
   "metadata": {},
   "outputs": [
    {
     "name": "stdout",
     "output_type": "stream",
     "text": [
      "20 (divisible)\n",
      "40 (divisible)\n",
      "56 (not divisible)\n",
      "90 (divisible)\n",
      "5 (divisible)\n",
      "81 (not divisible)\n",
      "\n",
      "['20 (divisible)', '40 (divisible)', '56 (not divisible)', '90 (divisible)', '5 (divisible)', '81 (not divisible)']\n"
     ]
    }
   ],
   "source": [
    "sample = [20, 40, 56, 90, 5, 81]\n",
    "\n",
    "output = []\n",
    "for element in sample:\n",
    "    if element % 5 == 0:\n",
    "        print(f\"{element} (divisible)\")\n",
    "        output.append(f\"{element} (divisible)\")\n",
    "    else:\n",
    "        print(f\"{element} (not divisible)\")\n",
    "        output.append(f\"{element} (not divisible)\")\n",
    "\n",
    "print()\n",
    "print(output)"
   ]
  },
  {
   "cell_type": "code",
   "execution_count": 37,
   "id": "8c4369d4",
   "metadata": {},
   "outputs": [
    {
     "data": {
      "text/plain": [
       "['20 (divisible)',\n",
       " '40 (divisible)',\n",
       " '56 (not divisible)',\n",
       " '90 (divisible)',\n",
       " '5 (divisible)',\n",
       " '81 (not divisible)']"
      ]
     },
     "execution_count": 37,
     "metadata": {},
     "output_type": "execute_result"
    }
   ],
   "source": [
    "[\n",
    "    f\"{element} (divisible)\" if element % 5 == 0 else f\"{element} (not divisible)\"\n",
    "    for element in sample\n",
    "]"
   ]
  },
  {
   "cell_type": "code",
   "execution_count": 40,
   "id": "36be5318",
   "metadata": {},
   "outputs": [
    {
     "name": "stdout",
     "output_type": "stream",
     "text": [
      "['virat MoM', 'sachin MoM', 'hardik', 'dhoni']\n"
     ]
    }
   ],
   "source": [
    "scores = [\"virat 100\", \"sachin 100\", \"hardik 50\", \"dhoni 60\"]\n",
    "\n",
    "award = \"MoM\"\n",
    "output = []\n",
    "\n",
    "for score in scores:\n",
    "    name = score.split()[0]\n",
    "    \n",
    "    if \"100\" in score:\n",
    "        output.append(name + \" \" + award)\n",
    "        \n",
    "    else:\n",
    "        output.append(name)\n",
    "        \n",
    "print(output)"
   ]
  },
  {
   "cell_type": "code",
   "execution_count": 42,
   "id": "e85b58c4",
   "metadata": {},
   "outputs": [
    {
     "data": {
      "text/plain": [
       "['virat MoM', 'sachin MoM', 'hardik', 'dhoni']"
      ]
     },
     "execution_count": 42,
     "metadata": {},
     "output_type": "execute_result"
    }
   ],
   "source": [
    "[ score.split()[0] + \" \" + \"MoM\" if \"100\" in score else score.split()[0] for score in scores]"
   ]
  },
  {
   "cell_type": "code",
   "execution_count": 44,
   "id": "532ef898",
   "metadata": {},
   "outputs": [
    {
     "name": "stdout",
     "output_type": "stream",
     "text": [
      "['virat MoM', 'sachin MoM', 'hardik', 'dhoni']\n"
     ]
    }
   ],
   "source": [
    "output = []\n",
    "\n",
    "for score in scores:\n",
    "    result = score.split()[0] + \" \" + \"MoM\" if \"100\" in score else score.split()[0]\n",
    "    output.append(result)\n",
    "    \n",
    "    \n",
    "print(output)"
   ]
  },
  {
   "cell_type": "markdown",
   "id": "6b6441f3",
   "metadata": {},
   "source": [
    "### perform square only if number is even and replace odd numbers with `None`"
   ]
  },
  {
   "cell_type": "code",
   "execution_count": 47,
   "id": "9f128447",
   "metadata": {},
   "outputs": [
    {
     "name": "stdout",
     "output_type": "stream",
     "text": [
      "[None, 4, None, 16, None, 36, None, 64, None, 100]\n"
     ]
    }
   ],
   "source": [
    "example = list(range(1, 11))\n",
    "\n",
    "output = []\n",
    "\n",
    "for i in example:\n",
    "    \n",
    "    if i % 2 == 0:\n",
    "        output.append(i**2)\n",
    "        \n",
    "    else:\n",
    "        output.append(None)\n",
    "        \n",
    "print(output)"
   ]
  },
  {
   "cell_type": "code",
   "execution_count": 48,
   "id": "3ea1ee9f",
   "metadata": {},
   "outputs": [
    {
     "data": {
      "text/plain": [
       "[None, 4, None, 16, None, 36, None, 64, None, 100]"
      ]
     },
     "execution_count": 48,
     "metadata": {},
     "output_type": "execute_result"
    }
   ],
   "source": [
    "[i**2 if i % 2 == 0 else None for i in example]"
   ]
  },
  {
   "cell_type": "code",
   "execution_count": 49,
   "id": "d3ed5c3c",
   "metadata": {},
   "outputs": [
    {
     "data": {
      "text/plain": [
       "[4, 16, 36, 64, 100]"
      ]
     },
     "execution_count": 49,
     "metadata": {},
     "output_type": "execute_result"
    }
   ],
   "source": [
    "[i**2 for i in example if i % 2 == 0]"
   ]
  },
  {
   "cell_type": "markdown",
   "id": "277b1e68",
   "metadata": {},
   "source": [
    "# `zip()` function\n",
    "\n",
    "- takes 2 arguments (both iterables)\n",
    "- works only when you've equal sized list\n",
    "- it pairs element from first list with respectively positioned element from second list\n",
    "- returns an iterable"
   ]
  },
  {
   "cell_type": "code",
   "execution_count": 53,
   "id": "636f4296",
   "metadata": {},
   "outputs": [
    {
     "data": {
      "text/plain": [
       "[('virat', 100), ('hardik', 200), ('dhoni', 50), ('raina', 40)]"
      ]
     },
     "execution_count": 53,
     "metadata": {},
     "output_type": "execute_result"
    }
   ],
   "source": [
    "batters = [\"virat\", \"hardik\", \"dhoni\", \"raina\"]\n",
    "scores = [100, 200, 50, 40]\n",
    "\n",
    "\n",
    "result = zip(batters, scores)\n",
    "type(result) # `result` is an object of class `zip`\n",
    "\n",
    "list(result)"
   ]
  },
  {
   "cell_type": "code",
   "execution_count": 54,
   "id": "5d294d0b",
   "metadata": {},
   "outputs": [
    {
     "name": "stdout",
     "output_type": "stream",
     "text": [
      "virat 100\n",
      "hardik 200\n",
      "dhoni 50\n",
      "raina 40\n"
     ]
    }
   ],
   "source": [
    "batters = [\"virat\", \"hardik\", \"dhoni\", \"raina\"]\n",
    "scores = [100, 200, 50, 40]\n",
    "\n",
    "for batter, score in zip(batters, scores):\n",
    "    print(batter, score)\n"
   ]
  },
  {
   "cell_type": "code",
   "execution_count": 57,
   "id": "27ddd830",
   "metadata": {},
   "outputs": [
    {
     "name": "stdout",
     "output_type": "stream",
     "text": [
      "{100: 'virat', 200: 'hardik', 50: 'dhoni', 40: 'raina'}\n"
     ]
    }
   ],
   "source": [
    "# swap keys with values and values with keys\n",
    "\n",
    "match_result = {\"virat\": 100, \"hardik\": 200, \"dhoni\": 50, \"raina\": 40}\n",
    "\n",
    "output = {}\n",
    "\n",
    "for key_, val_ in match_result.items():\n",
    "    output[val_] = key_\n",
    "    \n",
    "print(output)"
   ]
  },
  {
   "cell_type": "markdown",
   "id": "95160c0b",
   "metadata": {},
   "source": [
    "# nested list-comprehension"
   ]
  },
  {
   "cell_type": "code",
   "execution_count": 58,
   "id": "723e8994",
   "metadata": {},
   "outputs": [
    {
     "data": {
      "text/plain": [
       "[1, 4, 9, 16, 25, 36, 49, 64, 81, 100]"
      ]
     },
     "execution_count": 58,
     "metadata": {},
     "output_type": "execute_result"
    }
   ],
   "source": [
    "[x**2 for x in range(1, 11)]"
   ]
  },
  {
   "cell_type": "code",
   "execution_count": 59,
   "id": "444598f9",
   "metadata": {},
   "outputs": [
    {
     "data": {
      "text/plain": [
       "[1, 16, 81, 256, 625, 1296, 2401, 4096, 6561, 10000]"
      ]
     },
     "execution_count": 59,
     "metadata": {},
     "output_type": "execute_result"
    }
   ],
   "source": [
    "[i**2 for i in [x**2 for x in range(1, 11)]]"
   ]
  },
  {
   "cell_type": "code",
   "execution_count": 60,
   "id": "edb62274",
   "metadata": {},
   "outputs": [
    {
     "data": {
      "text/plain": [
       "[1, 256, 6561, 65536, 390625, 1679616, 5764801, 16777216, 43046721, 100000000]"
      ]
     },
     "execution_count": 60,
     "metadata": {},
     "output_type": "execute_result"
    }
   ],
   "source": [
    "[z**2 for z in [i**2 for i in [x**2 for x in range(1, 11)]]]"
   ]
  },
  {
   "cell_type": "code",
   "execution_count": null,
   "id": "e8220f76",
   "metadata": {},
   "outputs": [],
   "source": []
  }
 ],
 "metadata": {
  "kernelspec": {
   "display_name": "Python 3 (ipykernel)",
   "language": "python",
   "name": "python3"
  },
  "language_info": {
   "codemirror_mode": {
    "name": "ipython",
    "version": 3
   },
   "file_extension": ".py",
   "mimetype": "text/x-python",
   "name": "python",
   "nbconvert_exporter": "python",
   "pygments_lexer": "ipython3",
   "version": "3.10.0"
  }
 },
 "nbformat": 4,
 "nbformat_minor": 5
}
