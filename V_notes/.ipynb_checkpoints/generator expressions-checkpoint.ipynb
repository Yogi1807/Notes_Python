{
 "cells": [
  {
   "cell_type": "markdown",
   "id": "ea816830-f0cb-4295-af44-b5807e97caf0",
   "metadata": {},
   "source": [
    "- syntax is similar to list comprehension \n",
    "- just that we use parentheis instead of square brackets"
   ]
  },
  {
   "cell_type": "code",
   "execution_count": 1,
   "id": "99818b0f-9e24-418e-b227-f77e53df7992",
   "metadata": {},
   "outputs": [
    {
     "data": {
      "text/plain": [
       "[1, 4, 9, 16, 25, 36, 49, 64, 81, 100]"
      ]
     },
     "execution_count": 1,
     "metadata": {},
     "output_type": "execute_result"
    }
   ],
   "source": [
    "[x**2 for x in range(1, 11)]"
   ]
  },
  {
   "cell_type": "code",
   "execution_count": 4,
   "id": "4d59253a-7e23-4142-b3fb-c12dc61bdae9",
   "metadata": {},
   "outputs": [],
   "source": [
    "gobj = (x**2 for x in range(1, 11))"
   ]
  },
  {
   "cell_type": "code",
   "execution_count": 6,
   "id": "e2af0e41-61e4-43e5-b279-48d3424c3e39",
   "metadata": {},
   "outputs": [
    {
     "data": {
      "text/plain": [
       "generator"
      ]
     },
     "execution_count": 6,
     "metadata": {},
     "output_type": "execute_result"
    }
   ],
   "source": [
    "type(gobj)"
   ]
  },
  {
   "cell_type": "code",
   "execution_count": 20,
   "id": "a5742960-174a-4ece-aff1-9800dba06816",
   "metadata": {},
   "outputs": [
    {
     "ename": "StopIteration",
     "evalue": "",
     "output_type": "error",
     "traceback": [
      "\u001b[0;31m---------------------------------------------------------------------------\u001b[0m",
      "\u001b[0;31mStopIteration\u001b[0m                             Traceback (most recent call last)",
      "Cell \u001b[0;32mIn [20], line 1\u001b[0m\n\u001b[0;32m----> 1\u001b[0m \u001b[38;5;28;43mnext\u001b[39;49m\u001b[43m(\u001b[49m\u001b[43mgobj\u001b[49m\u001b[43m)\u001b[49m\n",
      "\u001b[0;31mStopIteration\u001b[0m: "
     ]
    }
   ],
   "source": [
    "next(gobj)"
   ]
  },
  {
   "cell_type": "code",
   "execution_count": null,
   "id": "dac847be-20fc-46a6-840b-cd6d6d4fa64a",
   "metadata": {},
   "outputs": [],
   "source": [
    "### if you are reading data from a file"
   ]
  },
  {
   "cell_type": "code",
   "execution_count": 27,
   "id": "9fde9fae-a6f3-4a1e-8950-1507851b268b",
   "metadata": {},
   "outputs": [],
   "source": [
    "linegen = (line for line in open(\"sample.txt\", \"r\"))"
   ]
  },
  {
   "cell_type": "code",
   "execution_count": 28,
   "id": "99a24bf2-fffa-434f-9de9-e1512c8ad983",
   "metadata": {},
   "outputs": [
    {
     "data": {
      "text/plain": [
       "'prashant \\n'"
      ]
     },
     "execution_count": 28,
     "metadata": {},
     "output_type": "execute_result"
    }
   ],
   "source": [
    "next(linegen)"
   ]
  },
  {
   "cell_type": "code",
   "execution_count": 38,
   "id": "86526c86-39ef-4827-9581-d87b67252d73",
   "metadata": {},
   "outputs": [],
   "source": [
    "linegen2 = (line for line in open(\"sample.txt\", \"r\") if line.endswith(\"100\\n\"))"
   ]
  },
  {
   "cell_type": "code",
   "execution_count": 42,
   "id": "2abcd06a-fe48-41b3-84b2-4d4581e1d03c",
   "metadata": {},
   "outputs": [
    {
     "ename": "StopIteration",
     "evalue": "",
     "output_type": "error",
     "traceback": [
      "\u001b[0;31m---------------------------------------------------------------------------\u001b[0m",
      "\u001b[0;31mStopIteration\u001b[0m                             Traceback (most recent call last)",
      "Cell \u001b[0;32mIn [42], line 1\u001b[0m\n\u001b[0;32m----> 1\u001b[0m \u001b[38;5;28;43mnext\u001b[39;49m\u001b[43m(\u001b[49m\u001b[43mlinegen2\u001b[49m\u001b[43m)\u001b[49m\n",
      "\u001b[0;31mStopIteration\u001b[0m: "
     ]
    }
   ],
   "source": [
    "next(linegen2)"
   ]
  },
  {
   "cell_type": "code",
   "execution_count": 43,
   "id": "68d60f7e-58a7-4bdf-a3b5-62aa889c15a5",
   "metadata": {},
   "outputs": [],
   "source": [
    "lines = [line for line in open(\"sample.txt\", \"r\").readlines()]"
   ]
  },
  {
   "cell_type": "code",
   "execution_count": 44,
   "id": "7ee020a9-5cb5-4487-a072-0fdf430419d8",
   "metadata": {},
   "outputs": [
    {
     "data": {
      "text/plain": [
       "['prashant 100\\n', 'velocity 100\\n', 'rahul\\n', 'sachin 100\\n']"
      ]
     },
     "execution_count": 44,
     "metadata": {},
     "output_type": "execute_result"
    }
   ],
   "source": [
    "lines"
   ]
  }
 ],
 "metadata": {
  "kernelspec": {
   "display_name": "Python 3 (ipykernel)",
   "language": "python",
   "name": "python3"
  },
  "language_info": {
   "codemirror_mode": {
    "name": "ipython",
    "version": 3
   },
   "file_extension": ".py",
   "mimetype": "text/x-python",
   "name": "python",
   "nbconvert_exporter": "python",
   "pygments_lexer": "ipython3",
   "version": "3.10.0"
  }
 },
 "nbformat": 4,
 "nbformat_minor": 5
}
