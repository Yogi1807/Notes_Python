{
 "cells": [
  {
   "cell_type": "markdown",
   "id": "6a148f4d",
   "metadata": {},
   "source": [
    "## Numpy"
   ]
  },
  {
   "cell_type": "markdown",
   "id": "78743841",
   "metadata": {},
   "source": [
    "Numerical Python"
   ]
  },
  {
   "cell_type": "raw",
   "id": "48c0c258",
   "metadata": {},
   "source": []
  },
  {
   "cell_type": "code",
   "execution_count": 2,
   "id": "18238c8b",
   "metadata": {},
   "outputs": [],
   "source": [
    "import numpy as np\n",
    "import pandas as pd"
   ]
  },
  {
   "cell_type": "code",
   "execution_count": 3,
   "id": "65e3a23d",
   "metadata": {},
   "outputs": [
    {
     "data": {
      "text/plain": [
       "array(30)"
      ]
     },
     "execution_count": 3,
     "metadata": {},
     "output_type": "execute_result"
    }
   ],
   "source": [
    "array=np.array(30)\n",
    "array"
   ]
  },
  {
   "cell_type": "code",
   "execution_count": 5,
   "id": "3f1c26be",
   "metadata": {},
   "outputs": [
    {
     "data": {
      "text/plain": [
       "array([30, 20, 45])"
      ]
     },
     "execution_count": 5,
     "metadata": {},
     "output_type": "execute_result"
    }
   ],
   "source": [
    "array=np.array([30,20,45])\n",
    "array"
   ]
  },
  {
   "cell_type": "markdown",
   "id": "15df7fd4",
   "metadata": {},
   "source": [
    "### Access items using indexing and slicing"
   ]
  },
  {
   "cell_type": "code",
   "execution_count": 7,
   "id": "e563a20f",
   "metadata": {},
   "outputs": [
    {
     "data": {
      "text/plain": [
       "5"
      ]
     },
     "execution_count": 7,
     "metadata": {},
     "output_type": "execute_result"
    }
   ],
   "source": [
    "list1=[4,3,5,6,7,8]\n",
    "list1[2]"
   ]
  },
  {
   "cell_type": "code",
   "execution_count": 9,
   "id": "66f99def",
   "metadata": {},
   "outputs": [
    {
     "data": {
      "text/plain": [
       "[5, 6, 7]"
      ]
     },
     "execution_count": 9,
     "metadata": {},
     "output_type": "execute_result"
    }
   ],
   "source": [
    "list1=[4,3,5,6,7,8]\n",
    "list1[2:5]"
   ]
  },
  {
   "cell_type": "code",
   "execution_count": 10,
   "id": "204e902f",
   "metadata": {},
   "outputs": [
    {
     "data": {
      "text/plain": [
       "[5, 6, 7]"
      ]
     },
     "execution_count": 10,
     "metadata": {},
     "output_type": "execute_result"
    }
   ],
   "source": [
    "list1=[4,3,5,6,7,8]\n",
    "list1[2:-1]"
   ]
  },
  {
   "cell_type": "code",
   "execution_count": 12,
   "id": "29a52ad1",
   "metadata": {},
   "outputs": [
    {
     "data": {
      "text/plain": [
       "array([4, 3, 5, 6, 7, 8])"
      ]
     },
     "execution_count": 12,
     "metadata": {},
     "output_type": "execute_result"
    }
   ],
   "source": [
    "array1=np.array([4,3,5,6,7,8])\n",
    "array1"
   ]
  },
  {
   "cell_type": "code",
   "execution_count": 13,
   "id": "ae927647",
   "metadata": {},
   "outputs": [
    {
     "data": {
      "text/plain": [
       "5"
      ]
     },
     "execution_count": 13,
     "metadata": {},
     "output_type": "execute_result"
    }
   ],
   "source": [
    "array1[2]"
   ]
  },
  {
   "cell_type": "code",
   "execution_count": 15,
   "id": "3e8ff2c4",
   "metadata": {},
   "outputs": [
    {
     "data": {
      "text/plain": [
       "7"
      ]
     },
     "execution_count": 15,
     "metadata": {},
     "output_type": "execute_result"
    }
   ],
   "source": [
    "array1[4]"
   ]
  },
  {
   "cell_type": "code",
   "execution_count": 18,
   "id": "65e7fc49",
   "metadata": {},
   "outputs": [],
   "source": [
    "array2=np.array([2,3,4,10,20,30])"
   ]
  },
  {
   "cell_type": "code",
   "execution_count": 19,
   "id": "a15f10f0",
   "metadata": {},
   "outputs": [
    {
     "data": {
      "text/plain": [
       "array([ 3,  4, 10])"
      ]
     },
     "execution_count": 19,
     "metadata": {},
     "output_type": "execute_result"
    }
   ],
   "source": [
    "array2[1:4]"
   ]
  },
  {
   "cell_type": "code",
   "execution_count": 21,
   "id": "2589da1e",
   "metadata": {},
   "outputs": [
    {
     "data": {
      "text/plain": [
       "array([10, 20])"
      ]
     },
     "execution_count": 21,
     "metadata": {},
     "output_type": "execute_result"
    }
   ],
   "source": [
    "array2[3:5]"
   ]
  },
  {
   "cell_type": "code",
   "execution_count": 22,
   "id": "f7ce14a2",
   "metadata": {},
   "outputs": [
    {
     "data": {
      "text/plain": [
       "array([10, 20])"
      ]
     },
     "execution_count": 22,
     "metadata": {},
     "output_type": "execute_result"
    }
   ],
   "source": [
    "array2[-3:-1]"
   ]
  },
  {
   "cell_type": "code",
   "execution_count": 23,
   "id": "d8e17527",
   "metadata": {},
   "outputs": [
    {
     "data": {
      "text/plain": [
       "array([10, 20, 30])"
      ]
     },
     "execution_count": 23,
     "metadata": {},
     "output_type": "execute_result"
    }
   ],
   "source": [
    "array2[-3:]"
   ]
  },
  {
   "cell_type": "code",
   "execution_count": 24,
   "id": "92cd8cb7",
   "metadata": {},
   "outputs": [
    {
     "data": {
      "text/plain": [
       "array([ 2,  3,  4, 10, 20, 30, 40, 50])"
      ]
     },
     "execution_count": 24,
     "metadata": {},
     "output_type": "execute_result"
    }
   ],
   "source": [
    "array3=np.array([2,3,4,10,20,30,40,50])\n",
    "array3"
   ]
  },
  {
   "cell_type": "code",
   "execution_count": 25,
   "id": "0ed964bd",
   "metadata": {},
   "outputs": [
    {
     "data": {
      "text/plain": [
       "array([ 3,  4, 10, 20])"
      ]
     },
     "execution_count": 25,
     "metadata": {},
     "output_type": "execute_result"
    }
   ],
   "source": [
    "array3[1:5:1]"
   ]
  },
  {
   "cell_type": "code",
   "execution_count": 26,
   "id": "9e5044a0",
   "metadata": {},
   "outputs": [
    {
     "data": {
      "text/plain": [
       "array([ 3, 10, 30])"
      ]
     },
     "execution_count": 26,
     "metadata": {},
     "output_type": "execute_result"
    }
   ],
   "source": [
    "array3[1:7:2]"
   ]
  },
  {
   "cell_type": "code",
   "execution_count": 28,
   "id": "43034899",
   "metadata": {},
   "outputs": [
    {
     "data": {
      "text/plain": [
       "array([40, 30, 20, 10,  4])"
      ]
     },
     "execution_count": 28,
     "metadata": {},
     "output_type": "execute_result"
    }
   ],
   "source": [
    "array3[6:1:-1]"
   ]
  },
  {
   "cell_type": "code",
   "execution_count": 29,
   "id": "fda8cf33",
   "metadata": {},
   "outputs": [
    {
     "data": {
      "text/plain": [
       "array([40, 20,  4])"
      ]
     },
     "execution_count": 29,
     "metadata": {},
     "output_type": "execute_result"
    }
   ],
   "source": [
    "array3[6:1:-2]"
   ]
  },
  {
   "cell_type": "code",
   "execution_count": 51,
   "id": "66d28bb7",
   "metadata": {},
   "outputs": [
    {
     "data": {
      "text/plain": [
       "array([[ 2,  3,  4],\n",
       "       [10, 20, 30],\n",
       "       [40, 50, 70]])"
      ]
     },
     "execution_count": 51,
     "metadata": {},
     "output_type": "execute_result"
    }
   ],
   "source": [
    "array4=np.array([[2,3,4],[10,20,30],[40,50,70]])\n",
    "array4"
   ]
  },
  {
   "cell_type": "code",
   "execution_count": 49,
   "id": "a6fada31",
   "metadata": {},
   "outputs": [
    {
     "data": {
      "text/plain": [
       "30"
      ]
     },
     "execution_count": 49,
     "metadata": {},
     "output_type": "execute_result"
    }
   ],
   "source": [
    "array4[1,2]"
   ]
  },
  {
   "cell_type": "code",
   "execution_count": 52,
   "id": "d088d063",
   "metadata": {},
   "outputs": [
    {
     "data": {
      "text/plain": [
       "30"
      ]
     },
     "execution_count": 52,
     "metadata": {},
     "output_type": "execute_result"
    }
   ],
   "source": [
    "array4[1][2]"
   ]
  },
  {
   "cell_type": "code",
   "execution_count": 54,
   "id": "e5e4de66",
   "metadata": {},
   "outputs": [
    {
     "data": {
      "text/plain": [
       "40"
      ]
     },
     "execution_count": 54,
     "metadata": {},
     "output_type": "execute_result"
    }
   ],
   "source": [
    "array4[2,0]"
   ]
  },
  {
   "cell_type": "code",
   "execution_count": 55,
   "id": "b64848fc",
   "metadata": {},
   "outputs": [
    {
     "data": {
      "text/plain": [
       "array([[ 2,  3,  4],\n",
       "       [10, 20, 30],\n",
       "       [40, 50, 70]])"
      ]
     },
     "execution_count": 55,
     "metadata": {},
     "output_type": "execute_result"
    }
   ],
   "source": [
    "array4=np.array([[2,3,4],[10,20,30],[40,50,70]])\n",
    "array4"
   ]
  },
  {
   "cell_type": "code",
   "execution_count": null,
   "id": "54ea4d8e",
   "metadata": {},
   "outputs": [],
   "source": [
    "import numpy as np\n",
    "\n",
    "# mine\n",
    "arr = np.array([\n",
    "    [[1, 2, 3], [4, 5, 6]],\n",
    "    [[7, 8, 9], [10, 11, 12]],\n",
    "    [[13, 14, 15], [16, 17, 18]]\n",
    "])\n"
   ]
  },
  {
   "cell_type": "code",
   "execution_count": null,
   "id": "aba9d0ff",
   "metadata": {},
   "outputs": [],
   "source": [
    "element = arr[1, 0, 2]\n",
    "print(element) \n"
   ]
  },
  {
   "cell_type": "code",
   "execution_count": null,
   "id": "81ff09e4",
   "metadata": {},
   "outputs": [],
   "source": [
    "slice1 = arr[1:3, :, :]\n",
    "print(slice1)\n"
   ]
  },
  {
   "cell_type": "code",
   "execution_count": 58,
   "id": "72c205be",
   "metadata": {},
   "outputs": [
    {
     "data": {
      "text/plain": [
       "array([ 4, 30])"
      ]
     },
     "execution_count": 58,
     "metadata": {},
     "output_type": "execute_result"
    }
   ],
   "source": [
    "array4[0:2,2] #0 and 1 row , 2nd column"
   ]
  },
  {
   "cell_type": "code",
   "execution_count": 59,
   "id": "66645440",
   "metadata": {},
   "outputs": [
    {
     "data": {
      "text/plain": [
       "array([ 4, 30, 70])"
      ]
     },
     "execution_count": 59,
     "metadata": {},
     "output_type": "execute_result"
    }
   ],
   "source": [
    "array4[:,2]"
   ]
  },
  {
   "cell_type": "code",
   "execution_count": 60,
   "id": "be48ff93",
   "metadata": {},
   "outputs": [
    {
     "data": {
      "text/plain": [
       "array([ 3, 20, 50])"
      ]
     },
     "execution_count": 60,
     "metadata": {},
     "output_type": "execute_result"
    }
   ],
   "source": [
    "array4[:,1]"
   ]
  },
  {
   "cell_type": "code",
   "execution_count": 62,
   "id": "0473cd10",
   "metadata": {},
   "outputs": [
    {
     "data": {
      "text/plain": [
       "array([[ 2,  3,  4],\n",
       "       [10, 20, 30],\n",
       "       [40, 50, 70]])"
      ]
     },
     "execution_count": 62,
     "metadata": {},
     "output_type": "execute_result"
    }
   ],
   "source": [
    "array4[:,:]"
   ]
  },
  {
   "cell_type": "code",
   "execution_count": 64,
   "id": "5c6c6768",
   "metadata": {},
   "outputs": [
    {
     "data": {
      "text/plain": [
       "array([[10, 20, 30],\n",
       "       [40, 50, 70]])"
      ]
     },
     "execution_count": 64,
     "metadata": {},
     "output_type": "execute_result"
    }
   ],
   "source": [
    "array4[1:]"
   ]
  },
  {
   "cell_type": "code",
   "execution_count": 65,
   "id": "b5e9a64a",
   "metadata": {},
   "outputs": [
    {
     "data": {
      "text/plain": [
       "array([[10, 20],\n",
       "       [40, 50]])"
      ]
     },
     "execution_count": 65,
     "metadata": {},
     "output_type": "execute_result"
    }
   ],
   "source": [
    "array4[1:,:2]"
   ]
  },
  {
   "cell_type": "markdown",
   "id": "203cf518",
   "metadata": {},
   "source": [
    "### Numpy Functions"
   ]
  },
  {
   "cell_type": "markdown",
   "id": "bd2bb096",
   "metadata": {},
   "source": [
    "## 1. Shape"
   ]
  },
  {
   "cell_type": "code",
   "execution_count": 66,
   "id": "a73d741c",
   "metadata": {},
   "outputs": [
    {
     "data": {
      "text/plain": [
       "8"
      ]
     },
     "execution_count": 66,
     "metadata": {},
     "output_type": "execute_result"
    }
   ],
   "source": [
    "array3=np.array([2,3,4,10,20,30,40,50])\n",
    "len(array3)"
   ]
  },
  {
   "cell_type": "code",
   "execution_count": 67,
   "id": "247743be",
   "metadata": {},
   "outputs": [
    {
     "data": {
      "text/plain": [
       "(8,)"
      ]
     },
     "execution_count": 67,
     "metadata": {},
     "output_type": "execute_result"
    }
   ],
   "source": [
    "array3.shape"
   ]
  },
  {
   "cell_type": "code",
   "execution_count": 68,
   "id": "60490450",
   "metadata": {},
   "outputs": [
    {
     "data": {
      "text/plain": [
       "(3, 3)"
      ]
     },
     "execution_count": 68,
     "metadata": {},
     "output_type": "execute_result"
    }
   ],
   "source": [
    "array4=np.array([[2,3,4],[10,20,30],[40,50,70]])\n",
    "array4.shape"
   ]
  },
  {
   "cell_type": "code",
   "execution_count": 71,
   "id": "166bfe7d",
   "metadata": {},
   "outputs": [
    {
     "name": "stdout",
     "output_type": "stream",
     "text": [
      "array1 [ 2  3  4  5  6  7  8 10 20 30 50 60 70]\n",
      "Number of Dimensions : 1\n"
     ]
    }
   ],
   "source": [
    "array1=np.array([2,3,4,5,6,7,8,10,20,30,50,60,70])\n",
    "print('array1',array1)\n",
    "print('Number of Dimensions :',array1.ndim)"
   ]
  },
  {
   "cell_type": "code",
   "execution_count": 72,
   "id": "3a5c931c",
   "metadata": {},
   "outputs": [
    {
     "name": "stdout",
     "output_type": "stream",
     "text": [
      "array1 [[ 2  3  4  5  6  7  8 10 20 30 50 60 70]]\n",
      "Number of Dimensions : 2\n"
     ]
    }
   ],
   "source": [
    "array1=np.array([2,3,4,5,6,7,8,10,20,30,50,60,70],ndmin=2)\n",
    "print('array1',array1)\n",
    "print('Number of Dimensions :',array1.ndim)"
   ]
  },
  {
   "cell_type": "code",
   "execution_count": 73,
   "id": "73bfd445",
   "metadata": {},
   "outputs": [
    {
     "name": "stdout",
     "output_type": "stream",
     "text": [
      "array1 [[[ 2  3  4  5  6  7  8 10 20 30 50 60 70]]]\n",
      "Number of Dimensions : 3\n"
     ]
    }
   ],
   "source": [
    "array1=np.array([2,3,4,5,6,7,8,10,20,30,50,60,70],ndmin=3)\n",
    "print('array1',array1)\n",
    "print('Number of Dimensions :',array1.ndim)"
   ]
  },
  {
   "cell_type": "markdown",
   "id": "ab77fdec",
   "metadata": {},
   "source": [
    "## 2. reshape"
   ]
  },
  {
   "cell_type": "code",
   "execution_count": null,
   "id": "4419aee4",
   "metadata": {},
   "outputs": [],
   "source": [
    "used to convert array into n-D array"
   ]
  },
  {
   "cell_type": "code",
   "execution_count": null,
   "id": "da75d072",
   "metadata": {},
   "outputs": [],
   "source": [
    "There are a lot of functions for changing the shapes of arrays in numpy\n",
    "flatten, ravel and also for rearranging the elements \n",
    "rot90, flip, fliplr, flipud etc.\n",
    "These fall under Intermediate to Advanced section of numpy."
   ]
  },
  {
   "cell_type": "code",
   "execution_count": 76,
   "id": "ab20e39a",
   "metadata": {},
   "outputs": [
    {
     "name": "stdout",
     "output_type": "stream",
     "text": [
      "array1 [ 2  3  4  5  6  7  8 10 20 30 50 60]\n",
      "Number of Dimensions : 1\n",
      "Shape of Array (12,)\n"
     ]
    }
   ],
   "source": [
    "array1=np.array([2,3,4,5,6,7,8,10,20,30,50,60])\n",
    "print('array1',array1)\n",
    "print('Number of Dimensions :',array1.ndim)\n",
    "print('Shape of Array', array1.shape)"
   ]
  },
  {
   "cell_type": "code",
   "execution_count": null,
   "id": "72a0b77d",
   "metadata": {},
   "outputs": [],
   "source": [
    "1*12,2*6,3*4,4*3,6*2,12*1"
   ]
  },
  {
   "cell_type": "code",
   "execution_count": 77,
   "id": "0baf3f3d",
   "metadata": {},
   "outputs": [
    {
     "data": {
      "text/plain": [
       "array([[ 2,  3,  4,  5,  6,  7],\n",
       "       [ 8, 10, 20, 30, 50, 60]])"
      ]
     },
     "execution_count": 77,
     "metadata": {},
     "output_type": "execute_result"
    }
   ],
   "source": [
    "array1.reshape(2,6)  #2 rows, 6 column"
   ]
  },
  {
   "cell_type": "code",
   "execution_count": 79,
   "id": "e66800ea",
   "metadata": {},
   "outputs": [
    {
     "data": {
      "text/plain": [
       "array([[ 2],\n",
       "       [ 3],\n",
       "       [ 4],\n",
       "       [ 5],\n",
       "       [ 6],\n",
       "       [ 7],\n",
       "       [ 8],\n",
       "       [10],\n",
       "       [20],\n",
       "       [30],\n",
       "       [50],\n",
       "       [60]])"
      ]
     },
     "execution_count": 79,
     "metadata": {},
     "output_type": "execute_result"
    }
   ],
   "source": [
    "array1.reshape(12,1) #12 rows, 1 column"
   ]
  },
  {
   "cell_type": "code",
   "execution_count": 80,
   "id": "cdc3f32c",
   "metadata": {},
   "outputs": [
    {
     "data": {
      "text/plain": [
       "array([[ 2,  3,  4,  5],\n",
       "       [ 6,  7,  8, 10],\n",
       "       [20, 30, 50, 60]])"
      ]
     },
     "execution_count": 80,
     "metadata": {},
     "output_type": "execute_result"
    }
   ],
   "source": [
    "array1.reshape(3,4) #3 rows, 4 column"
   ]
  },
  {
   "cell_type": "code",
   "execution_count": 81,
   "id": "1f8a52df",
   "metadata": {},
   "outputs": [
    {
     "data": {
      "text/plain": [
       "array([[ 2,  3,  4],\n",
       "       [ 5,  6,  7],\n",
       "       [ 8, 10, 20],\n",
       "       [30, 50, 60]])"
      ]
     },
     "execution_count": 81,
     "metadata": {},
     "output_type": "execute_result"
    }
   ],
   "source": [
    "array1.reshape(4,3) #4 rows, 3 column"
   ]
  },
  {
   "cell_type": "code",
   "execution_count": 82,
   "id": "bcc14d79",
   "metadata": {},
   "outputs": [
    {
     "name": "stdout",
     "output_type": "stream",
     "text": [
      "array1 [[[ 2  3  4  5  6  7  8 10 20 30 50 60]]]\n",
      "Number of Dimensions : 3\n",
      "Shape of Array (1, 1, 12)\n"
     ]
    }
   ],
   "source": [
    "array1=np.array([2,3,4,5,6,7,8,10,20,30,50,60],ndmin=3)\n",
    "print('array1',array1)\n",
    "print('Number of Dimensions :',array1.ndim)\n",
    "print('Shape of Array', array1.shape)"
   ]
  },
  {
   "cell_type": "code",
   "execution_count": 84,
   "id": "5be10439",
   "metadata": {},
   "outputs": [
    {
     "data": {
      "text/plain": [
       "array([[[ 2,  3],\n",
       "        [ 4,  5],\n",
       "        [ 6,  7]],\n",
       "\n",
       "       [[ 8, 10],\n",
       "        [20, 30],\n",
       "        [50, 60]]])"
      ]
     },
     "execution_count": 84,
     "metadata": {},
     "output_type": "execute_result"
    }
   ],
   "source": [
    "array1.reshape(2,3,2)"
   ]
  },
  {
   "cell_type": "code",
   "execution_count": 85,
   "id": "9ceff45c",
   "metadata": {},
   "outputs": [
    {
     "data": {
      "text/plain": [
       "array([[[ 2,  3],\n",
       "        [ 4,  5],\n",
       "        [ 6,  7],\n",
       "        [ 8, 10],\n",
       "        [20, 30],\n",
       "        [50, 60]]])"
      ]
     },
     "execution_count": 85,
     "metadata": {},
     "output_type": "execute_result"
    }
   ],
   "source": [
    "array1.reshape(1,6,2)"
   ]
  },
  {
   "cell_type": "markdown",
   "id": "968bd1c4",
   "metadata": {},
   "source": [
    "### 3. nditer"
   ]
  },
  {
   "cell_type": "code",
   "execution_count": 87,
   "id": "1706b840",
   "metadata": {},
   "outputs": [
    {
     "name": "stdout",
     "output_type": "stream",
     "text": [
      "array1 [ 2  3  4  5  6  7  8 10 20 30 50 60]\n",
      "2\n",
      "3\n",
      "4\n",
      "5\n",
      "6\n",
      "7\n",
      "8\n",
      "10\n",
      "20\n",
      "30\n",
      "50\n",
      "60\n"
     ]
    }
   ],
   "source": [
    "array1=np.array([2,3,4,5,6,7,8,10,20,30,50,60])\n",
    "print('array1',array1)\n",
    "for i in array1:\n",
    "    print(i)"
   ]
  },
  {
   "cell_type": "code",
   "execution_count": 93,
   "id": "4d0405ac",
   "metadata": {},
   "outputs": [
    {
     "name": "stdout",
     "output_type": "stream",
     "text": [
      "array1\n",
      " [[ 2  3  4]\n",
      " [ 5  6  7]\n",
      " [10 20 30]]\n",
      "row : [2 3 4]\n",
      "row : [5 6 7]\n",
      "row : [10 20 30]\n"
     ]
    }
   ],
   "source": [
    "array1=np.array([[2,3,4],[5,6,7],[10,20,30]])\n",
    "print('array1\\n',array1)\n",
    "for i in array1:\n",
    "    print('row :',i)"
   ]
  },
  {
   "cell_type": "code",
   "execution_count": 94,
   "id": "7471e703",
   "metadata": {},
   "outputs": [
    {
     "name": "stdout",
     "output_type": "stream",
     "text": [
      "array1\n",
      " [[ 2  3  4]\n",
      " [ 5  6  7]\n",
      " [10 20 30]]\n",
      "2\n",
      "3\n",
      "4\n",
      "5\n",
      "6\n",
      "7\n",
      "10\n",
      "20\n",
      "30\n"
     ]
    }
   ],
   "source": [
    "array1=np.array([[2,3,4],[5,6,7],[10,20,30]])\n",
    "print('array1\\n',array1)\n",
    "for i in array1:\n",
    "    for j in i:\n",
    "        print(j)"
   ]
  },
  {
   "cell_type": "code",
   "execution_count": 98,
   "id": "29530c57",
   "metadata": {},
   "outputs": [
    {
     "name": "stdout",
     "output_type": "stream",
     "text": [
      "array1\n",
      " [[ 2  3  4]\n",
      " [ 5  6  7]\n",
      " [10 20 30]]\n",
      "2\n",
      "3\n",
      "4\n",
      "5\n",
      "6\n",
      "7\n",
      "10\n",
      "20\n",
      "30\n"
     ]
    }
   ],
   "source": [
    "array1=np.array([[2,3,4],[5,6,7],[10,20,30]])\n",
    "print('array1\\n',array1)\n",
    "for i in np.nditer(array1):\n",
    "    print(i)"
   ]
  },
  {
   "cell_type": "code",
   "execution_count": 12,
   "id": "a6dab778",
   "metadata": {},
   "outputs": [
    {
     "name": "stdout",
     "output_type": "stream",
     "text": [
      "2\n",
      "4\n",
      "6\n",
      "8\n"
     ]
    }
   ],
   "source": [
    "arr = np.array([[1, 2, 3, 4], [5, 6, 7, 8]])\n",
    "\n",
    "for x in np.nditer(arr[:,::-2]):\n",
    "    print(x)\n"
   ]
  },
  {
   "cell_type": "code",
   "execution_count": 100,
   "id": "41e8bf16",
   "metadata": {},
   "outputs": [
    {
     "name": "stdout",
     "output_type": "stream",
     "text": [
      "0 2\n",
      "1 3\n",
      "2 4\n",
      "3 5\n",
      "4 6\n",
      "5 7\n",
      "6 8\n",
      "7 10\n",
      "8 20\n",
      "9 30\n",
      "10 50\n",
      "11 60\n"
     ]
    }
   ],
   "source": [
    "array1=np.array([2,3,4,5,6,7,8,10,20,30,50,60])\n",
    "for i,val in enumerate(array1):\n",
    "    print(i,val)"
   ]
  },
  {
   "cell_type": "markdown",
   "id": "c8a37769",
   "metadata": {},
   "source": [
    "### 4. np.ndenumerate"
   ]
  },
  {
   "cell_type": "code",
   "execution_count": 101,
   "id": "3aac4b5e",
   "metadata": {},
   "outputs": [
    {
     "name": "stdout",
     "output_type": "stream",
     "text": [
      "array1\n",
      " [[ 2  3  4]\n",
      " [ 5  6  7]\n",
      " [10 20 30]]\n",
      "2\n",
      "3\n",
      "4\n",
      "5\n",
      "6\n",
      "7\n",
      "10\n",
      "20\n",
      "30\n"
     ]
    }
   ],
   "source": [
    "array1=np.array([[2,3,4],[5,6,7],[10,20,30]])\n",
    "print('array1\\n',array1)\n",
    "for i in np.nditer(array1):\n",
    "    print(i)"
   ]
  },
  {
   "cell_type": "code",
   "execution_count": 105,
   "id": "9ee7c07c",
   "metadata": {},
   "outputs": [
    {
     "name": "stdout",
     "output_type": "stream",
     "text": [
      "array1\n",
      " [[ 2  3  4]\n",
      " [ 5  6  7]\n",
      " [10 20 30]]\n",
      "(0, 0) >>   2\n",
      "(0, 1) >>   3\n",
      "(0, 2) >>   4\n",
      "(1, 0) >>   5\n",
      "(1, 1) >>   6\n",
      "(1, 2) >>   7\n",
      "(2, 0) >>   10\n",
      "(2, 1) >>   20\n",
      "(2, 2) >>   30\n"
     ]
    }
   ],
   "source": [
    "print('array1\\n',array1)\n",
    "for i, val in np.ndenumerate(array1):\n",
    "    print(f'{i} >>   {val}')"
   ]
  },
  {
   "cell_type": "code",
   "execution_count": 25,
   "id": "33f3ce5b",
   "metadata": {},
   "outputs": [
    {
     "name": "stdout",
     "output_type": "stream",
     "text": [
      "(0, 0, 0) 1\n",
      "(0, 0, 1) 2\n",
      "(0, 0, 2) 3\n",
      "(0, 0, 3) 4\n",
      "(0, 1, 0) 5\n",
      "(0, 1, 1) 6\n",
      "(0, 1, 2) 7\n",
      "(0, 1, 3) 8\n",
      "(0, 2, 0) 1\n",
      "(0, 2, 1) 2\n",
      "(0, 2, 2) 3\n",
      "(0, 2, 3) 4\n",
      "(0, 3, 0) 5\n",
      "(0, 3, 1) 6\n",
      "(0, 3, 2) 7\n",
      "(0, 3, 3) 8\n"
     ]
    }
   ],
   "source": [
    "import numpy as np\n",
    "\n",
    "arr = np.array([[[1, 2, 3, 4], [5, 6, 7, 8],[1, 2, 3, 4], [5, 6, 7, 8]]])\n",
    "\n",
    "for idx, x in np.ndenumerate(arr):\n",
    "    print(idx, x)"
   ]
  },
  {
   "cell_type": "markdown",
   "id": "49fcea4b",
   "metadata": {},
   "source": [
    "## 5. flatten"
   ]
  },
  {
   "cell_type": "code",
   "execution_count": null,
   "id": "f0505d71",
   "metadata": {},
   "outputs": [],
   "source": [
    "used to convert n-D array into 1-D array"
   ]
  },
  {
   "cell_type": "code",
   "execution_count": 107,
   "id": "0410d0de",
   "metadata": {},
   "outputs": [
    {
     "name": "stdout",
     "output_type": "stream",
     "text": [
      "array1\n",
      " [[ 2  3  4]\n",
      " [ 5  6  7]\n",
      " [10 20 30]]\n"
     ]
    },
    {
     "data": {
      "text/plain": [
       "(3, 3)"
      ]
     },
     "execution_count": 107,
     "metadata": {},
     "output_type": "execute_result"
    }
   ],
   "source": [
    "array1=np.array([[2,3,4],[5,6,7],[10,20,30]])\n",
    "print('array1\\n',array1)\n",
    "array1.shape"
   ]
  },
  {
   "cell_type": "code",
   "execution_count": 108,
   "id": "63a50d76",
   "metadata": {},
   "outputs": [
    {
     "data": {
      "text/plain": [
       "array([ 2,  3,  4,  5,  6,  7, 10, 20, 30])"
      ]
     },
     "execution_count": 108,
     "metadata": {},
     "output_type": "execute_result"
    }
   ],
   "source": [
    "new_array=array1.flatten()\n",
    "new_array"
   ]
  },
  {
   "cell_type": "markdown",
   "id": "7190d2cf",
   "metadata": {},
   "source": [
    "### 6. tolist"
   ]
  },
  {
   "cell_type": "code",
   "execution_count": null,
   "id": "8f178da7",
   "metadata": {},
   "outputs": [],
   "source": [
    "used to convert array into list"
   ]
  },
  {
   "cell_type": "code",
   "execution_count": 110,
   "id": "4edd2014",
   "metadata": {},
   "outputs": [
    {
     "name": "stdout",
     "output_type": "stream",
     "text": [
      "<class 'numpy.ndarray'>\n",
      "<class 'list'>\n"
     ]
    }
   ],
   "source": [
    "array1=np.array([2,3,4,5,6,7,8,10,20,30,50,60])\n",
    "print(type(array1))\n",
    "\n",
    "x=array1.tolist()\n",
    "print(type(x))"
   ]
  },
  {
   "cell_type": "code",
   "execution_count": 111,
   "id": "1e297c1b",
   "metadata": {},
   "outputs": [
    {
     "data": {
      "text/plain": [
       "[2, 3, 4, 5, 6, 7, 8, 10, 20, 30, 50, 60]"
      ]
     },
     "execution_count": 111,
     "metadata": {},
     "output_type": "execute_result"
    }
   ],
   "source": [
    "x"
   ]
  },
  {
   "cell_type": "markdown",
   "id": "622bc5cb",
   "metadata": {},
   "source": [
    "## 7. zeros"
   ]
  },
  {
   "cell_type": "code",
   "execution_count": 114,
   "id": "5520b959",
   "metadata": {},
   "outputs": [
    {
     "data": {
      "text/plain": [
       "array([0, 0, 0, 0, 0, 0, 0, 0, 0, 0])"
      ]
     },
     "execution_count": 114,
     "metadata": {},
     "output_type": "execute_result"
    }
   ],
   "source": [
    "array2=np.zeros(10,dtype=int)\n",
    "array2"
   ]
  },
  {
   "cell_type": "code",
   "execution_count": 115,
   "id": "cbf6b538",
   "metadata": {},
   "outputs": [
    {
     "data": {
      "text/plain": [
       "array([[0, 0, 0, 0, 0],\n",
       "       [0, 0, 0, 0, 0],\n",
       "       [0, 0, 0, 0, 0],\n",
       "       [0, 0, 0, 0, 0]])"
      ]
     },
     "execution_count": 115,
     "metadata": {},
     "output_type": "execute_result"
    }
   ],
   "source": [
    "array2=np.zeros([4,5],dtype=int)\n",
    "array2"
   ]
  },
  {
   "cell_type": "markdown",
   "id": "cc30aa7a",
   "metadata": {},
   "source": [
    "### 8. ones()"
   ]
  },
  {
   "cell_type": "code",
   "execution_count": 116,
   "id": "63ddc322",
   "metadata": {},
   "outputs": [
    {
     "data": {
      "text/plain": [
       "array([[1, 1, 1, 1, 1],\n",
       "       [1, 1, 1, 1, 1],\n",
       "       [1, 1, 1, 1, 1],\n",
       "       [1, 1, 1, 1, 1]])"
      ]
     },
     "execution_count": 116,
     "metadata": {},
     "output_type": "execute_result"
    }
   ],
   "source": [
    "array2=np.ones([4,5],dtype=int)\n",
    "array2"
   ]
  },
  {
   "cell_type": "markdown",
   "id": "edaed03e",
   "metadata": {},
   "source": [
    "### 9. full"
   ]
  },
  {
   "cell_type": "code",
   "execution_count": 117,
   "id": "f6e2f71c",
   "metadata": {},
   "outputs": [
    {
     "data": {
      "text/plain": [
       "array([2, 2, 2, 2, 2, 2, 2, 2, 2, 2])"
      ]
     },
     "execution_count": 117,
     "metadata": {},
     "output_type": "execute_result"
    }
   ],
   "source": [
    "array1=np.full(10,2)\n",
    "array1"
   ]
  },
  {
   "cell_type": "code",
   "execution_count": 118,
   "id": "e085f3c1",
   "metadata": {},
   "outputs": [
    {
     "data": {
      "text/plain": [
       "array([5, 5, 5, 5, 5, 5, 5, 5, 5, 5])"
      ]
     },
     "execution_count": 118,
     "metadata": {},
     "output_type": "execute_result"
    }
   ],
   "source": [
    "array1=np.full(10,5)\n",
    "array1"
   ]
  },
  {
   "cell_type": "code",
   "execution_count": 119,
   "id": "12b3ce91",
   "metadata": {},
   "outputs": [
    {
     "data": {
      "text/plain": [
       "array([0, 0, 0, 0, 0, 0, 0, 0, 0, 0])"
      ]
     },
     "execution_count": 119,
     "metadata": {},
     "output_type": "execute_result"
    }
   ],
   "source": [
    "array1=np.full(10,0)\n",
    "array1"
   ]
  },
  {
   "cell_type": "code",
   "execution_count": 120,
   "id": "0db736e1",
   "metadata": {},
   "outputs": [
    {
     "data": {
      "text/plain": [
       "array([1, 1, 1, 1, 1, 1, 1, 1, 1, 1])"
      ]
     },
     "execution_count": 120,
     "metadata": {},
     "output_type": "execute_result"
    }
   ],
   "source": [
    "array1=np.full(10,1)\n",
    "array1"
   ]
  },
  {
   "cell_type": "code",
   "execution_count": 121,
   "id": "301d5686",
   "metadata": {},
   "outputs": [
    {
     "data": {
      "text/plain": [
       "[11, 12, 13, 14, 15, 16, 17, 18, 19, 20]"
      ]
     },
     "execution_count": 121,
     "metadata": {},
     "output_type": "execute_result"
    }
   ],
   "source": [
    "list(range(11,21))"
   ]
  },
  {
   "cell_type": "code",
   "execution_count": 122,
   "id": "2585bfcc",
   "metadata": {},
   "outputs": [
    {
     "data": {
      "text/plain": [
       "array([11, 12, 13, 14, 15, 16, 17, 18, 19, 20])"
      ]
     },
     "execution_count": 122,
     "metadata": {},
     "output_type": "execute_result"
    }
   ],
   "source": [
    "array=np.arange(11,21)\n",
    "array"
   ]
  },
  {
   "cell_type": "code",
   "execution_count": 123,
   "id": "1ea4f403",
   "metadata": {},
   "outputs": [
    {
     "data": {
      "text/plain": [
       "array([ 1,  3,  5,  7,  9, 11, 13, 15, 17, 19])"
      ]
     },
     "execution_count": 123,
     "metadata": {},
     "output_type": "execute_result"
    }
   ],
   "source": [
    "array=np.arange(1,21,2)\n",
    "array"
   ]
  },
  {
   "cell_type": "code",
   "execution_count": 124,
   "id": "cce22de6",
   "metadata": {},
   "outputs": [
    {
     "data": {
      "text/plain": [
       "array([-6, -5, -4, -3, -2, -1,  0,  1,  2,  3,  4,  5])"
      ]
     },
     "execution_count": 124,
     "metadata": {},
     "output_type": "execute_result"
    }
   ],
   "source": [
    "array=np.arange(-6,6)\n",
    "array"
   ]
  },
  {
   "cell_type": "code",
   "execution_count": 127,
   "id": "986856e1",
   "metadata": {},
   "outputs": [
    {
     "data": {
      "text/plain": [
       "array([[1, 0, 0, 0, 0],\n",
       "       [0, 1, 0, 0, 0],\n",
       "       [0, 0, 1, 0, 0],\n",
       "       [0, 0, 0, 1, 0],\n",
       "       [0, 0, 0, 0, 1]])"
      ]
     },
     "execution_count": 127,
     "metadata": {},
     "output_type": "execute_result"
    }
   ],
   "source": [
    "array=np.eye(5,dtype=int)\n",
    "array"
   ]
  },
  {
   "cell_type": "code",
   "execution_count": 128,
   "id": "e30ba65a",
   "metadata": {},
   "outputs": [
    {
     "data": {
      "text/plain": [
       "array([[1, 0, 0, 0, 0, 0, 0],\n",
       "       [0, 1, 0, 0, 0, 0, 0],\n",
       "       [0, 0, 1, 0, 0, 0, 0],\n",
       "       [0, 0, 0, 1, 0, 0, 0],\n",
       "       [0, 0, 0, 0, 1, 0, 0],\n",
       "       [0, 0, 0, 0, 0, 1, 0],\n",
       "       [0, 0, 0, 0, 0, 0, 1]])"
      ]
     },
     "execution_count": 128,
     "metadata": {},
     "output_type": "execute_result"
    }
   ],
   "source": [
    "array2=np.identity(7,dtype=int) #identity >> no of rows ==no of columns\n",
    "array2"
   ]
  },
  {
   "cell_type": "markdown",
   "id": "f24b9fbe",
   "metadata": {},
   "source": [
    "### 10. random.randint"
   ]
  },
  {
   "cell_type": "code",
   "execution_count": null,
   "id": "73dffe47",
   "metadata": {},
   "outputs": [],
   "source": [
    "used to generate random integers\n",
    "np.random.randint(start_index,end_index,size=1)"
   ]
  },
  {
   "cell_type": "code",
   "execution_count": 138,
   "id": "6365a0b0",
   "metadata": {},
   "outputs": [
    {
     "data": {
      "text/plain": [
       "14"
      ]
     },
     "execution_count": 138,
     "metadata": {},
     "output_type": "execute_result"
    }
   ],
   "source": [
    "array=np.random.randint(10,15)\n",
    "array"
   ]
  },
  {
   "cell_type": "code",
   "execution_count": 142,
   "id": "aabe2434",
   "metadata": {},
   "outputs": [
    {
     "data": {
      "text/plain": [
       "array([89, 90, 95, 29, 14, 29])"
      ]
     },
     "execution_count": 142,
     "metadata": {},
     "output_type": "execute_result"
    }
   ],
   "source": [
    "array=np.random.randint(10,100,6)\n",
    "array"
   ]
  },
  {
   "cell_type": "code",
   "execution_count": 148,
   "id": "fd6f4242",
   "metadata": {},
   "outputs": [
    {
     "data": {
      "text/plain": [
       "array([[86, 82, 95],\n",
       "       [89, 88, 51],\n",
       "       [34, 27, 55],\n",
       "       [45, 82, 43]])"
      ]
     },
     "execution_count": 148,
     "metadata": {},
     "output_type": "execute_result"
    }
   ],
   "source": [
    "array=np.random.randint(10,100,(4,3))\n",
    "array"
   ]
  },
  {
   "cell_type": "code",
   "execution_count": null,
   "id": "acc5d670",
   "metadata": {},
   "outputs": [],
   "source": []
  }
 ],
 "metadata": {
  "kernelspec": {
   "display_name": "Python 3 (ipykernel)",
   "language": "python",
   "name": "python3"
  },
  "language_info": {
   "codemirror_mode": {
    "name": "ipython",
    "version": 3
   },
   "file_extension": ".py",
   "mimetype": "text/x-python",
   "name": "python",
   "nbconvert_exporter": "python",
   "pygments_lexer": "ipython3",
   "version": "3.9.7"
  }
 },
 "nbformat": 4,
 "nbformat_minor": 5
}
