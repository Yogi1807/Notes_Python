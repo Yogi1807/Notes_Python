{
 "cells": [
  {
   "cell_type": "markdown",
   "id": "ffbc069b",
   "metadata": {},
   "source": [
    "## Roll coaster ride ticket collector"
   ]
  },
  {
   "cell_type": "code",
   "execution_count": 3,
   "id": "594f75d1",
   "metadata": {},
   "outputs": [
    {
     "name": "stdout",
     "output_type": "stream",
     "text": [
      "Please enter your height : 174\n",
      "Congratulations, you can ride!!!\n",
      "\n",
      "Please enter your age : 174\n",
      "Item \t\t Price\n",
      "Do you want to take a photo? (Y/N)Y\n",
      "for photo ticket  - $3\n",
      "######################################################################\n",
      "\n",
      "Your total bill is ==> 3\n"
     ]
    }
   ],
   "source": [
    "value = 0\n",
    "photo_price = \"$3\"\n",
    "\n",
    "height  = int(input(\"Please enter your height : \"))\n",
    "\n",
    "if height > 120:\n",
    "    print(\"Congratulations, you can ride!!!\\n\")\n",
    "    age = int(input(\"Please enter your age : \"))\n",
    "    \n",
    "    print(\"Item \\t\\t Price\")\n",
    "    if age < 12:\n",
    "        print(\"for `age < 12` ticket - {0}\".format(\"$5\"))\n",
    "        value += 5\n",
    "    elif age < 18 and age >= 12:\n",
    "        print(\"for `age < 18 and age >= 12` ticket - {0}\".format(\"$12\"))\n",
    "        value += 12\n",
    "    elif age >= 18 and age < 45:\n",
    "        print(\"for `age >= 18 and age < 45` ticket - {0}\".format(\"$7\"))\n",
    "        value += 7\n",
    "    elif age >= 45 and age <=55:\n",
    "        print(\"for `age >= 45 and age <=55` ticket - {0}\".format(\"$0\"))\n",
    "\n",
    "    choice = input(\"Do you want to take a photo? (Y/N)\")\n",
    "    if choice.upper() != \"N\":\n",
    "        print(\"for photo ticket  - {0}\".format(\"$3\"))\n",
    "        value += 3\n",
    "        \n",
    "    print(\"#######\" * 10)\n",
    "    print(\"\\nYour total bill is ==> {bill}\".format(bill=value))\n",
    "    \n",
    "else:\n",
    "    print(\"CANNOT RIDE\")\n",
    "    \n"
   ]
  }
 ],
 "metadata": {
  "kernelspec": {
   "display_name": "Python 3 (ipykernel)",
   "language": "python",
   "name": "python3"
  },
  "language_info": {
   "codemirror_mode": {
    "name": "ipython",
    "version": 3
   },
   "file_extension": ".py",
   "mimetype": "text/x-python",
   "name": "python",
   "nbconvert_exporter": "python",
   "pygments_lexer": "ipython3",
   "version": "3.9.7"
  }
 },
 "nbformat": 4,
 "nbformat_minor": 5
}
