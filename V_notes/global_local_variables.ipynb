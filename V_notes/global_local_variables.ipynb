{
 "cells": [
  {
   "cell_type": "markdown",
   "id": "a4abd0e0-4abd-479b-a6b9-944a922cb904",
   "metadata": {},
   "source": [
    "# `lambda` function\n",
    "\n",
    "- in-line \n",
    "- anonymous function\n",
    "\n",
    "use cases of lambda function\n",
    "\n",
    "- map()\n",
    "- filter()\n",
    "- list comprehension\n",
    "- one time use "
   ]
  },
  {
   "cell_type": "markdown",
   "id": "918b1424-7b2e-43bd-b418-65478cb7d2c4",
   "metadata": {},
   "source": [
    "syntax\n",
    "\n",
    "```\n",
    "lambda <parameters>: <expression>\n",
    "\n",
    "```\n"
   ]
  },
  {
   "cell_type": "code",
   "execution_count": 1,
   "id": "87e7fbf5-6134-4309-bc03-69a3f1e62104",
   "metadata": {},
   "outputs": [
    {
     "name": "stdout",
     "output_type": "stream",
     "text": [
      "\n",
      "Here is a list of the Python keywords.  Enter any keyword to get more help.\n",
      "\n",
      "False               class               from                or\n",
      "None                continue            global              pass\n",
      "True                def                 if                  raise\n",
      "and                 del                 import              return\n",
      "as                  elif                in                  try\n",
      "assert              else                is                  while\n",
      "async               except              lambda              with\n",
      "await               finally             nonlocal            yield\n",
      "break               for                 not                 \n",
      "\n"
     ]
    }
   ],
   "source": [
    "help(\"keywords\")"
   ]
  },
  {
   "cell_type": "code",
   "execution_count": null,
   "id": "28ace20d-8b36-4693-aa38-ff5e88ba9087",
   "metadata": {},
   "outputs": [],
   "source": []
  },
  {
   "cell_type": "markdown",
   "id": "dee6a277-0e35-4508-8ca1-1072ed816276",
   "metadata": {},
   "source": [
    "- `map()` function\n",
    "\n",
    "syntax\n",
    "```\n",
    "map(func, iterator)\n",
    "```"
   ]
  },
  {
   "cell_type": "markdown",
   "id": "07768f9c-9b8f-48ac-a0a3-d51bcba52b5b",
   "metadata": {},
   "source": [
    "- `filter()` function\n",
    "\n",
    "syntax\n",
    "```\n",
    "filter(func, iterator)\n",
    "```"
   ]
  },
  {
   "cell_type": "code",
   "execution_count": 3,
   "id": "f8d1336d-bf9d-45de-8b85-146006c04e75",
   "metadata": {},
   "outputs": [
    {
     "name": "stdout",
     "output_type": "stream",
     "text": [
      "good morning, hardik\n"
     ]
    }
   ],
   "source": [
    "def wish(name):\n",
    "    print(f\"{message}, {name}\")\n",
    "    \n",
    "\n",
    "message = \"good morning\"\n",
    "    \n",
    "wish(\"hardik\")\n",
    "    "
   ]
  },
  {
   "cell_type": "code",
   "execution_count": 5,
   "id": "2ee0f749-8522-4896-b923-061cff77eb50",
   "metadata": {},
   "outputs": [
    {
     "ename": "UnboundLocalError",
     "evalue": "local variable 'message' referenced before assignment",
     "output_type": "error",
     "traceback": [
      "\u001b[0;31m---------------------------------------------------------------------------\u001b[0m",
      "\u001b[0;31mUnboundLocalError\u001b[0m                         Traceback (most recent call last)",
      "Cell \u001b[0;32mIn [5], line 8\u001b[0m\n\u001b[1;32m      3\u001b[0m     message \u001b[38;5;241m=\u001b[39m \u001b[38;5;124m\"\u001b[39m\u001b[38;5;124mgood evening\u001b[39m\u001b[38;5;124m\"\u001b[39m\n\u001b[1;32m      6\u001b[0m message \u001b[38;5;241m=\u001b[39m \u001b[38;5;124m\"\u001b[39m\u001b[38;5;124mhello\u001b[39m\u001b[38;5;124m\"\u001b[39m\n\u001b[0;32m----> 8\u001b[0m \u001b[43mwish\u001b[49m\u001b[43m(\u001b[49m\u001b[38;5;124;43m\"\u001b[39;49m\u001b[38;5;124;43mhardik\u001b[39;49m\u001b[38;5;124;43m\"\u001b[39;49m\u001b[43m)\u001b[49m\n",
      "Cell \u001b[0;32mIn [5], line 2\u001b[0m, in \u001b[0;36mwish\u001b[0;34m(name)\u001b[0m\n\u001b[1;32m      1\u001b[0m \u001b[38;5;28;01mdef\u001b[39;00m \u001b[38;5;21mwish\u001b[39m(name):\n\u001b[0;32m----> 2\u001b[0m     \u001b[38;5;28mprint\u001b[39m(\u001b[38;5;124mf\u001b[39m\u001b[38;5;124m\"\u001b[39m\u001b[38;5;132;01m{\u001b[39;00mmessage\u001b[38;5;132;01m}\u001b[39;00m\u001b[38;5;124m, \u001b[39m\u001b[38;5;132;01m{\u001b[39;00mname\u001b[38;5;132;01m}\u001b[39;00m\u001b[38;5;124m\"\u001b[39m)\n\u001b[1;32m      3\u001b[0m     message \u001b[38;5;241m=\u001b[39m \u001b[38;5;124m\"\u001b[39m\u001b[38;5;124mgood evening\u001b[39m\u001b[38;5;124m\"\u001b[39m\n",
      "\u001b[0;31mUnboundLocalError\u001b[0m: local variable 'message' referenced before assignment"
     ]
    }
   ],
   "source": [
    "def wish(name):\n",
    "    print(f\"{message}, {name}\")\n",
    "    message = \"good evening\"\n",
    "    \n",
    "\n",
    "message = \"hello\"\n",
    "\n",
    "wish(\"hardik\")\n",
    "\n",
    "\n",
    "## UnboundLocalError: local variable 'message' referenced before assignment"
   ]
  },
  {
   "cell_type": "markdown",
   "id": "47336cf5-88f6-49c1-8bc6-e6e022642e24",
   "metadata": {},
   "source": [
    "# Namespace \n",
    "\n",
    "- `namespace` is a way of naming system\n",
    "- `namespace` is a way using which uniqueness of names (of identifiers) is maintained\n",
    "- `namespace` is maintained as dictionary object internally in python\n",
    "\n",
    "\n",
    "Types of namespace\n",
    "\n",
    "- global (whatever is defined at module level)\n",
    "- local (whatever is define within function / class definition)\n",
    "- built-in namespace\n"
   ]
  },
  {
   "cell_type": "code",
   "execution_count": null,
   "id": "a843f579-f1bb-49f1-901f-b10a0f9544c2",
   "metadata": {},
   "outputs": [],
   "source": [
    "file1.py\n",
    "\n",
    "\n",
    "```\n",
    "\n",
    "# global variable\n",
    "foo = \"\"\n",
    "\n",
    "def do_nothing():\n",
    "    bar = 100   # local variable\n",
    "    pass\n",
    "\n",
    "def hello_world():\n",
    "    pass\n",
    "\n",
    "\n",
    "print\n",
    "\n",
    "```"
   ]
  },
  {
   "cell_type": "code",
   "execution_count": 7,
   "id": "cd2e918a-569d-41b4-842c-6f05ebd5f8c4",
   "metadata": {},
   "outputs": [
    {
     "ename": "NameError",
     "evalue": "name 'message_' is not defined",
     "output_type": "error",
     "traceback": [
      "\u001b[0;31m---------------------------------------------------------------------------\u001b[0m",
      "\u001b[0;31mNameError\u001b[0m                                 Traceback (most recent call last)",
      "Cell \u001b[0;32mIn [7], line 5\u001b[0m\n\u001b[1;32m      2\u001b[0m     message_ \u001b[38;5;241m=\u001b[39m \u001b[38;5;124m\"\u001b[39m\u001b[38;5;124mhello world!!!\u001b[39m\u001b[38;5;124m\"\u001b[39m\n\u001b[1;32m      3\u001b[0m     \u001b[38;5;28mprint\u001b[39m(message_)\n\u001b[0;32m----> 5\u001b[0m \u001b[43mmessage_\u001b[49m\n",
      "\u001b[0;31mNameError\u001b[0m: name 'message_' is not defined"
     ]
    }
   ],
   "source": [
    "def hello_world():\n",
    "    message_ = \"hello world!!!\"  # local variable\n",
    "    print(message_)\n",
    "    \n",
    "message_"
   ]
  },
  {
   "cell_type": "markdown",
   "id": "ce1bde7b-c009-491d-92fd-3b9de6f5752b",
   "metadata": {},
   "source": [
    "# `global` variables and `local` variables"
   ]
  },
  {
   "cell_type": "code",
   "execution_count": 9,
   "id": "91a095b1-6f8f-455b-81eb-d95be5fb8d98",
   "metadata": {},
   "outputs": [
    {
     "name": "stdout",
     "output_type": "stream",
     "text": [
      "\n",
      "Here is a list of the Python keywords.  Enter any keyword to get more help.\n",
      "\n",
      "False               class               from                or\n",
      "None                continue            global              pass\n",
      "True                def                 if                  raise\n",
      "and                 del                 import              return\n",
      "as                  elif                in                  try\n",
      "assert              else                is                  while\n",
      "async               except              lambda              with\n",
      "await               finally             nonlocal            yield\n",
      "break               for                 not                 \n",
      "\n"
     ]
    }
   ],
   "source": [
    "help(\"keywords\")"
   ]
  },
  {
   "cell_type": "markdown",
   "id": "c01e7235-7ae0-4492-b1a1-6040397cf33c",
   "metadata": {},
   "source": [
    "# `local` variable\n",
    "\n",
    "if a variable is defined within the function definition (or within the class definition) that is called as local variable"
   ]
  },
  {
   "cell_type": "code",
   "execution_count": 11,
   "id": "0f2bfb01-2927-4f7b-b3a5-b6d18e8be4f5",
   "metadata": {},
   "outputs": [
    {
     "name": "stdout",
     "output_type": "stream",
     "text": [
      "Before function call - 3000\n",
      "Inside of change function - 1000\n",
      "After function call - 3000\n"
     ]
    }
   ],
   "source": [
    "def change(random):\n",
    "    \n",
    "    # local variable\n",
    "    random = 1000\n",
    "    print(f\"Inside of change function - {random}\")   \n",
    "    \n",
    "\n",
    "# global variable\n",
    "random = 3000\n",
    "print(f\"Before function call - {random}\")\n",
    "change(random)\n",
    "print(f\"After function call - {random}\")"
   ]
  },
  {
   "cell_type": "code",
   "execution_count": 13,
   "id": "c9dce746-8042-423e-8f25-066303bc3928",
   "metadata": {},
   "outputs": [
    {
     "name": "stdout",
     "output_type": "stream",
     "text": [
      "Before function call - 3000\n",
      "Inside of change function - 3000\n",
      "After function call - 3000\n"
     ]
    }
   ],
   "source": [
    "# file1.py\n",
    "\n",
    "def change(random):\n",
    "    print(f\"Inside of change function - {random}\")   \n",
    "    \n",
    "\n",
    "# global variable\n",
    "random = 3000\n",
    "print(f\"Before function call - {random}\")\n",
    "change(random)\n",
    "print(f\"After function call - {random}\")"
   ]
  },
  {
   "cell_type": "markdown",
   "id": "7ad29618-34df-4db1-b355-7de050dff1af",
   "metadata": {},
   "source": [
    "### Scope\n",
    "\n",
    "\n",
    "The code block within which certain namespace is accessible\n",
    "\n",
    "- innermost scope is looked-up first\n",
    "- outermost scope is looked-up at last"
   ]
  },
  {
   "cell_type": "code",
   "execution_count": null,
   "id": "9db451c6-abe7-44e3-abfb-2a8cf37c39c2",
   "metadata": {},
   "outputs": [],
   "source": []
  },
  {
   "cell_type": "markdown",
   "id": "c27deab6-7e60-450f-a1f3-a7b59550e026",
   "metadata": {},
   "source": [
    "# `global` variable\n",
    "\n",
    "- any variable declared at module level and referred inside the function definition is a global variable\n",
    "\n",
    "- `global` keyword can be used to access a variable from module level namespace"
   ]
  },
  {
   "cell_type": "code",
   "execution_count": 17,
   "id": "ded3a717-c333-4a6e-8afd-66313a776cfc",
   "metadata": {},
   "outputs": [
    {
     "name": "stdout",
     "output_type": "stream",
     "text": [
      "Before function call - velocity\n",
      "Inside function definition - python\n",
      "After function call - velocity\n"
     ]
    }
   ],
   "source": [
    "def change(example):\n",
    "    example = \"python\"  # local\n",
    "    print(f\"Inside function definition - {example}\")\n",
    "    \n",
    "\n",
    "example = \"velocity\"\n",
    "print(f\"Before function call - {example}\")\n",
    "change(example)\n",
    "print(f\"After function call - {example}\")"
   ]
  },
  {
   "cell_type": "code",
   "execution_count": 19,
   "id": "658b6c4e-21b1-4da8-9b29-b94cf684dac4",
   "metadata": {},
   "outputs": [
    {
     "name": "stdout",
     "output_type": "stream",
     "text": [
      "Before function call - velocity\n",
      "Inside function definition - python\n",
      "After function call - python\n"
     ]
    }
   ],
   "source": [
    "# file1.py\n",
    "\n",
    "def change():\n",
    "    global example\n",
    "    example = \"python\"\n",
    "    print(f\"Inside function definition - {example}\")\n",
    "    \n",
    "\n",
    "example = \"velocity\"\n",
    "print(f\"Before function call - {example}\")\n",
    "change()\n",
    "print(f\"After function call - {example}\")"
   ]
  },
  {
   "cell_type": "code",
   "execution_count": 42,
   "id": "1824d229-2dee-4f0b-b9cd-533fda8fca7b",
   "metadata": {},
   "outputs": [
    {
     "name": "stdout",
     "output_type": "stream",
     "text": [
      "Before func1 call - pune is best\n",
      "within func1 - PUNE IS BEST\n",
      "After func1 call - PUNE IS BEST\n",
      "within func2 - new value\n",
      "value of statement before func1 call - PUNE IS BEST\n"
     ]
    }
   ],
   "source": [
    "# file2.py\n",
    "\n",
    "\n",
    "\"\"\"\n",
    "\n",
    "               global-namespace       func1 local.         func2 local\n",
    "          \n",
    "statement      Pune                                        \"new value\"\n",
    "               Mumbai\n",
    "\n",
    "\"\"\"\n",
    "\n",
    "\n",
    "def func1():    \n",
    "    \n",
    "    global statement\n",
    "    statement = statement.upper()\n",
    "    print(f\"within func1 - {statement}\")\n",
    "    \n",
    "    \n",
    "def func2():\n",
    "    foo = None\n",
    "    bar = \"\"\n",
    "    statement = \"new value\"  # local\n",
    "    print(f\"within func2 - {statement}\")\n",
    "    \n",
    "\n",
    "\n",
    "# global (module-scope)\n",
    "statement = \"pune is best\"\n",
    "\n",
    "print(f\"Before func1 call - {statement}\")\n",
    "func1()\n",
    "print(f\"After func1 call - {statement}\")    \n",
    "func2()\n",
    "print(f\"value of statement before func1 call - {statement}\")  # you will get alter value from `func1`\n"
   ]
  },
  {
   "cell_type": "code",
   "execution_count": 44,
   "id": "dbd6a42d-15ee-4a8a-8acf-461048e7752d",
   "metadata": {},
   "outputs": [
    {
     "name": "stdout",
     "output_type": "stream",
     "text": [
      "before calling func - ['Sachin', 'Rahul']\n",
      "within func - ['Rohit', 'Dhoni']\n",
      "after calling func - ['Sachin', 'Rahul']\n"
     ]
    }
   ],
   "source": [
    "def alter_list():\n",
    "    players = [\"Rohit\", \"Dhoni\"]\n",
    "    print(f\"within func - {players}\")\n",
    "    \n",
    "\n",
    "players = [\"Sachin\", \"Rahul\"]\n",
    "\n",
    "          \n",
    "print(f\"before calling func - {players}\")\n",
    "alter_list()\n",
    "print(f\"after calling func - {players}\")\n"
   ]
  },
  {
   "cell_type": "code",
   "execution_count": 45,
   "id": "f0a95539-baa3-48a4-817c-e7ed71fbbd70",
   "metadata": {},
   "outputs": [
    {
     "name": "stdout",
     "output_type": "stream",
     "text": [
      "before calling func - ['Sachin', 'Rahul']\n",
      "within func - []\n",
      "after calling func - []\n"
     ]
    }
   ],
   "source": [
    "\"\"\"\n",
    "file3.py\n",
    "\n",
    "global_namespace = {\"players\": <value>}\n",
    "\n",
    "func1_namespace = {\"players\": <value>}\n",
    "\n",
    "\n",
    "\"\"\"\n",
    "\n",
    "\n",
    "def alter_list():\n",
    "    global players\n",
    "    players.clear()\n",
    "    print(f\"within func - {players}\")\n",
    "    \n",
    "\n",
    "players = [\"Sachin\", \"Rahul\"]\n",
    "\n",
    "          \n",
    "print(f\"before calling func - {players}\")\n",
    "alter_list()\n",
    "print(f\"after calling func - {players}\")\n"
   ]
  },
  {
   "cell_type": "code",
   "execution_count": 53,
   "id": "fcd2c0f9-423d-4551-ba83-45e87514f580",
   "metadata": {},
   "outputs": [
    {
     "name": "stdout",
     "output_type": "stream",
     "text": [
      "before calling func - 3.14\n",
      "within func - 3.141\n",
      "after calling func - 3.14\n"
     ]
    }
   ],
   "source": [
    "\"\"\"\n",
    "\n",
    "global_namespace = {\"pi\": 3.14}\n",
    "\n",
    "value_of_pi_namespace = {\"pi\": 3.141592}\n",
    "\n",
    "builtin \n",
    "    global \n",
    "        outer func (local)\n",
    "             inner func (local) <-----\n",
    "\n",
    "\"\"\"\n",
    "\n",
    "def outer_func():\n",
    "    \n",
    "    pi = 3.141 \n",
    "\n",
    "    def value_of_pi():\n",
    "        print(f\"within func - {pi}\")\n",
    "        \n",
    "    value_of_pi()\n",
    "    \n",
    "\n",
    "# global\n",
    "pi = 3.14\n",
    "\n",
    "print(f\"before calling func - {pi}\")\n",
    "outer_func()\n",
    "print(f\"after calling func - {pi}\")"
   ]
  },
  {
   "cell_type": "code",
   "execution_count": 55,
   "id": "0a84f628-e207-4220-8c5e-228718a50a73",
   "metadata": {},
   "outputs": [
    {
     "name": "stdout",
     "output_type": "stream",
     "text": [
      "hello\n"
     ]
    }
   ],
   "source": [
    "def simple():\n",
    "    print(word)\n",
    "    \n",
    "    \n",
    "word = \"hello\"\n",
    "simple()\n",
    "\n"
   ]
  },
  {
   "cell_type": "markdown",
   "id": "95dc3432-4acc-43e9-b500-0ee4162ef825",
   "metadata": {},
   "source": [
    "`global` keyword use cases\n",
    "\n",
    "- sometimes at module level we define some configurations\n"
   ]
  },
  {
   "cell_type": "code",
   "execution_count": 59,
   "id": "4814a151-d55f-4f0b-980b-5fa8a77d4948",
   "metadata": {},
   "outputs": [
    {
     "name": "stdout",
     "output_type": "stream",
     "text": [
      "secret\n"
     ]
    },
    {
     "name": "stdin",
     "output_type": "stream",
     "text": [
      "Please choose your password ::   qwerty@123\n"
     ]
    },
    {
     "name": "stdout",
     "output_type": "stream",
     "text": [
      "qwerty@123\n",
      "qwerty@123\n"
     ]
    }
   ],
   "source": [
    "# DB_module.py\n",
    "\n",
    "password = \"secret\"\n",
    "\n",
    "def load_func():\n",
    "    print(password)\n",
    "    \n",
    "\n",
    "def insert_func():\n",
    "    print(password)\n",
    "\n",
    "\n",
    "def reset_password():\n",
    "    global password\n",
    "    password = input(\"Please choose your password ::  \")\n",
    "    \n",
    "    \n",
    "load_func()\n",
    "reset_password()\n",
    "load_func()\n",
    "insert_func()\n",
    "    \n",
    "\n",
    "    "
   ]
  }
 ],
 "metadata": {
  "kernelspec": {
   "display_name": "Python 3 (ipykernel)",
   "language": "python",
   "name": "python3"
  },
  "language_info": {
   "codemirror_mode": {
    "name": "ipython",
    "version": 3
   },
   "file_extension": ".py",
   "mimetype": "text/x-python",
   "name": "python",
   "nbconvert_exporter": "python",
   "pygments_lexer": "ipython3",
   "version": "3.9.7"
  }
 },
 "nbformat": 4,
 "nbformat_minor": 5
}
