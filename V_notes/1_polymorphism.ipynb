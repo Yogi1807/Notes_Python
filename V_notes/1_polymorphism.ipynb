{
 "cells": [
  {
   "cell_type": "markdown",
   "id": "94015f81-6b4c-4fac-beef-5e494078b5fa",
   "metadata": {},
   "source": [
    "## polymorphism\n",
    "\n",
    "- Different forms of same thing.\n",
    "- Python is implicitly polymorphic\n",
    "\n",
    "\n",
    "```\n",
    "- method overloading\n",
    "- method overriding\n",
    "\n",
    "```"
   ]
  },
  {
   "cell_type": "code",
   "execution_count": 4,
   "id": "bc7e82d4-df83-4657-81bf-16c29448cf35",
   "metadata": {},
   "outputs": [],
   "source": [
    "class Currency:\n",
    "    def __init__(self, currency):\n",
    "        self.currency = currency\n",
    "        \n",
    "\n",
    "    def conver_to_usd(self, denominator):\n",
    "        return self.currency / denominator\n",
    "    \n",
    "    \n",
    "class IndianCurrency(Currency):\n",
    "    \n",
    "     def conver_to_usd(self, denominator, mac_index):\n",
    "        return (self.currency / 2) * mac_index\n",
    "    \n",
    "    \n",
    "\n",
    "        \n",
    "        "
   ]
  },
  {
   "cell_type": "code",
   "execution_count": 7,
   "id": "72d76cf6",
   "metadata": {},
   "outputs": [],
   "source": [
    "o=IndianCurrency(90)"
   ]
  },
  {
   "cell_type": "code",
   "execution_count": 8,
   "id": "15e90a3e",
   "metadata": {},
   "outputs": [
    {
     "data": {
      "text/plain": [
       "360.0"
      ]
     },
     "execution_count": 8,
     "metadata": {},
     "output_type": "execute_result"
    }
   ],
   "source": [
    "o.conver_to_usd(80,8)"
   ]
  },
  {
   "cell_type": "code",
   "execution_count": 16,
   "id": "9496deaf",
   "metadata": {},
   "outputs": [
    {
     "data": {
      "text/plain": [
       "80000000"
      ]
     },
     "execution_count": 16,
     "metadata": {},
     "output_type": "execute_result"
    }
   ],
   "source": [
    "class yogesh:\n",
    "    def __init__(self,money):\n",
    "        self.money=money\n",
    "        \n",
    "    def calculation(money, dollor):\n",
    "        return money*dollor\n",
    "    \n",
    "yogesh.calculation(1000000,80)\n",
    "        "
   ]
  },
  {
   "cell_type": "code",
   "execution_count": null,
   "id": "ba1a8f11",
   "metadata": {},
   "outputs": [],
   "source": []
  }
 ],
 "metadata": {
  "kernelspec": {
   "display_name": "Python 3 (ipykernel)",
   "language": "python",
   "name": "python3"
  },
  "language_info": {
   "codemirror_mode": {
    "name": "ipython",
    "version": 3
   },
   "file_extension": ".py",
   "mimetype": "text/x-python",
   "name": "python",
   "nbconvert_exporter": "python",
   "pygments_lexer": "ipython3",
   "version": "3.9.7"
  }
 },
 "nbformat": 4,
 "nbformat_minor": 5
}
