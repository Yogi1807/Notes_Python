{
 "cells": [
  {
   "cell_type": "markdown",
   "id": "a8bd7c1a",
   "metadata": {},
   "source": [
    "variation 1\n",
    "\n",
    "```\n",
    "[expression for <iterator variable> in <iterable> if <condition>]\n",
    "\n",
    "```\n",
    "\n",
    "variation 2\n",
    "\n",
    "```\n",
    "[ <ternary-operator> for  <iterator variable> in <iterable>]\n",
    "```"
   ]
  },
  {
   "cell_type": "code",
   "execution_count": 12,
   "id": "a40cfe4a",
   "metadata": {},
   "outputs": [
    {
     "name": "stdout",
     "output_type": "stream",
     "text": [
      "['banana', 'orange', 'mango', 'kiwi']\n"
     ]
    }
   ],
   "source": [
    "fruits = [\"banana\", \"apple\", \"orange\", \"mango\", \"kiwi\"]\n",
    "\n",
    "output = []\n",
    "for fruit in fruits:\n",
    "    if fruit != \"apple\":\n",
    "        output.append(fruit)\n",
    "        \n",
    "    \n",
    "print(output)"
   ]
  },
  {
   "cell_type": "code",
   "execution_count": 13,
   "id": "9bd668b8",
   "metadata": {},
   "outputs": [
    {
     "data": {
      "text/plain": [
       "['banana', 'orange', 'mango', 'kiwi']"
      ]
     },
     "execution_count": 13,
     "metadata": {},
     "output_type": "execute_result"
    }
   ],
   "source": [
    "[fruit for fruit in fruits\n",
    " \n",
    " "
   ]
  },
  {
   "cell_type": "markdown",
   "id": "fa5eb996",
   "metadata": {},
   "source": [
    "## ternary operator"
   ]
  },
  {
   "cell_type": "code",
   "execution_count": 8,
   "id": "db6024cb",
   "metadata": {},
   "outputs": [
    {
     "name": "stdout",
     "output_type": "stream",
     "text": [
      "please enter fruit name: banana\n",
      "None\n"
     ]
    }
   ],
   "source": [
    "fruit = input(\"please enter fruit name: \")\n",
    "\n",
    "if fruit.startswith(\"a\"):\n",
    "    result = fruit\n",
    "else:\n",
    "    result = None\n",
    "    \n",
    "print(result)"
   ]
  },
  {
   "cell_type": "code",
   "execution_count": 10,
   "id": "c7e8e11a",
   "metadata": {},
   "outputs": [
    {
     "name": "stdout",
     "output_type": "stream",
     "text": [
      "please enter fruit name: banana\n",
      "None\n"
     ]
    }
   ],
   "source": [
    "fruit = input(\"please enter fruit name: \")\n",
    "\n",
    "result = fruit if fruit.startswith(\"a\") else None\n",
    "print(result)"
   ]
  },
  {
   "cell_type": "code",
   "execution_count": 14,
   "id": "b6711523",
   "metadata": {},
   "outputs": [
    {
     "name": "stdout",
     "output_type": "stream",
     "text": [
      "['banana', None, 'orange', 'mango', 'kiwi']\n"
     ]
    }
   ],
   "source": [
    "fruits = [\"banana\", \"apple\", \"orange\", \"mango\", \"kiwi\"]\n",
    "\n",
    "output = []\n",
    "\n",
    "for fruit in fruits:\n",
    "    if not fruit.startswith(\"a\"):\n",
    "        output.append(fruit)\n",
    "    else:\n",
    "        output.append(None)\n",
    "        \n",
    "print(output)\n",
    "        "
   ]
  },
  {
   "cell_type": "code",
   "execution_count": 15,
   "id": "ecb7cd30",
   "metadata": {},
   "outputs": [
    {
     "name": "stdout",
     "output_type": "stream",
     "text": [
      "['banana', None, 'orange', 'mango', 'kiwi']\n"
     ]
    }
   ],
   "source": [
    "fruits = [\"banana\", \"apple\", \"orange\", \"mango\", \"kiwi\"]\n",
    "\n",
    "output = []\n",
    "\n",
    "for fruit in fruits:\n",
    "    output.append(fruit) if not fruit.startswith(\"a\") else output.append(None)\n",
    "        \n",
    "print(output)\n",
    "        "
   ]
  },
  {
   "cell_type": "code",
   "execution_count": 17,
   "id": "bd866e32",
   "metadata": {},
   "outputs": [
    {
     "data": {
      "text/plain": [
       "['banana', None, 'orange', 'mango', 'kiwi']"
      ]
     },
     "execution_count": 17,
     "metadata": {},
     "output_type": "execute_result"
    }
   ],
   "source": [
    "[fruit if not fruit.startswith(\"a\") else None for fruit in fruits]"
   ]
  },
  {
   "cell_type": "code",
   "execution_count": 19,
   "id": "8a523d43",
   "metadata": {},
   "outputs": [
    {
     "data": {
      "text/plain": [
       "['banana', None, 'orange', 'mango', 'kiwi']"
      ]
     },
     "execution_count": 19,
     "metadata": {},
     "output_type": "execute_result"
    }
   ],
   "source": [
    "new_list = [x if x!=\"apple\" else None for x in fruits]\n",
    "new_list"
   ]
  },
  {
   "cell_type": "code",
   "execution_count": 23,
   "id": "53f61101",
   "metadata": {},
   "outputs": [
    {
     "name": "stdout",
     "output_type": "stream",
     "text": [
      "[1, 2, 3, 4, 5]\n",
      "['odd', 'even', 'odd', 'even', 'odd']\n"
     ]
    }
   ],
   "source": [
    "foo = list(range(1, 6))\n",
    "print(foo)\n",
    "\n",
    "result = [\"even\" if i%2 == 0 else \"odd\" for i in foo]\n",
    "print(result)"
   ]
  }
 ],
 "metadata": {
  "kernelspec": {
   "display_name": "Python 3 (ipykernel)",
   "language": "python",
   "name": "python3"
  },
  "language_info": {
   "codemirror_mode": {
    "name": "ipython",
    "version": 3
   },
   "file_extension": ".py",
   "mimetype": "text/x-python",
   "name": "python",
   "nbconvert_exporter": "python",
   "pygments_lexer": "ipython3",
   "version": "3.9.7"
  }
 },
 "nbformat": 4,
 "nbformat_minor": 5
}
