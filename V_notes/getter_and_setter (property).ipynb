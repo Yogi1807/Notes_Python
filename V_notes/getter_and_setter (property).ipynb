{
 "cells": [
  {
   "cell_type": "markdown",
   "id": "310d0883-5938-4a64-a033-7aa11969c2a6",
   "metadata": {},
   "source": [
    "### `property`\n",
    "\n",
    "- in built decorator that provides fine tuned control over protected data attributes.\n",
    "\n"
   ]
  },
  {
   "cell_type": "code",
   "execution_count": 32,
   "id": "d2024c8b-7de6-4cc8-8cca-4edf0d6abc36",
   "metadata": {},
   "outputs": [
    {
     "name": "stdout",
     "output_type": "stream",
     "text": [
      "1.0256410256410255 USD\n"
     ]
    },
    {
     "data": {
      "text/plain": [
       "80"
      ]
     },
     "execution_count": 32,
     "metadata": {},
     "output_type": "execute_result"
    }
   ],
   "source": [
    "class Employee:\n",
    "    company = \"accenture\"\n",
    "    \n",
    "    def __init__(self, name, designation, salary):\n",
    "        self.name = name\n",
    "        self._designation = designation\n",
    "        self.__salary = salary\n",
    "        \n",
    "        \n",
    "    # GETTER\n",
    "    def get_designation(self):\n",
    "        return self._designation\n",
    "    \n",
    "    # SETTER\n",
    "    def set_designation(self, new_designation):\n",
    "        self._designation = new_designation\n",
    "        \n",
    "    @property\n",
    "    def salary(self):    # GETTER\n",
    "        return self.__salary\n",
    "    \n",
    "    @salary.setter      # SETTER\n",
    "    def salary(self, new_value):\n",
    "        self.__salary = new_value\n",
    "\n",
    "    @property\n",
    "    def compensation(self):   # GETTER \n",
    "        return str(self.__salary / 78) + \" USD\"\n",
    "    \n",
    "    @compensation.setter\n",
    "    def compensation(self, new_value):\n",
    "        self.__salary = new_value\n",
    "    \n",
    "    \n",
    "emp1 = Employee(\"Sujit\", \"Executive Director\", 9000000)\n",
    "\n",
    "emp1.compensation = 80   # SET\n",
    "print(emp1.compensation)\n",
    "\n",
    "\n",
    "emp1.salary"
   ]
  },
  {
   "cell_type": "code",
   "execution_count": 12,
   "id": "de217b0f-5aa9-42cd-baf2-ddd100d367f9",
   "metadata": {},
   "outputs": [
    {
     "name": "stdout",
     "output_type": "stream",
     "text": [
      "Sr. Manager\n",
      "1000000\n"
     ]
    }
   ],
   "source": [
    "emp = Employee(\"Mahendra\", \"Sr. Manager\", 1000000)\n",
    "\n",
    "\n",
    "print(emp.get_designation())\n",
    "print(emp.employee_salary)"
   ]
  },
  {
   "cell_type": "code",
   "execution_count": 22,
   "id": "7e476976-902d-48a1-b301-17d108a58f98",
   "metadata": {},
   "outputs": [
    {
     "name": "stdout",
     "output_type": "stream",
     "text": [
      "setter method of `__interest` attribute\n",
      "getter method of `__interest` attribute\n"
     ]
    },
    {
     "data": {
      "text/plain": [
       "5"
      ]
     },
     "execution_count": 22,
     "metadata": {},
     "output_type": "execute_result"
    }
   ],
   "source": [
    "class LoanAccount(object):\n",
    "    bank = \"ICICI\"  # class attribute\n",
    "    \n",
    "    def __init__(self, interest, principal, tenure):\n",
    "        self.tenure = tenure  # public\n",
    "        self._principal = principal   # private\n",
    "        \n",
    "        self.__interest = interest  # protected\n",
    "        \n",
    "    @property              \n",
    "    def interest(self):       # GETTER method\n",
    "        print(\"getter method of `__interest` attribute\")\n",
    "        return self.__interest\n",
    "    \n",
    "    \n",
    "    @interest.setter\n",
    "    def interest(self, new_value):  \n",
    "        print(\"setter method of `__interest` attribute\")\n",
    "        self.__interest = new_value\n",
    "        \n",
    "        \n",
    "home_loan = LoanAccount(7.4, 10000, 12)\n",
    "\n",
    "home_loan.interest = 5\n",
    "\n",
    "home_loan.interest"
   ]
  },
  {
   "cell_type": "markdown",
   "id": "5903b86f-8d2c-48ab-974b-ee2787374ec8",
   "metadata": {},
   "source": [
    "#### VELOCITY student data"
   ]
  },
  {
   "cell_type": "code",
   "execution_count": 42,
   "id": "0ecdd9cf-555a-45ce-9a9e-8754c8984bb6",
   "metadata": {},
   "outputs": [
    {
     "name": "stdout",
     "output_type": "stream",
     "text": [
      "setter method\n",
      "getter method\n"
     ]
    },
    {
     "data": {
      "text/plain": [
       "['prashant', 'rahul']"
      ]
     },
     "execution_count": 42,
     "metadata": {},
     "output_type": "execute_result"
    }
   ],
   "source": [
    "class Course:\n",
    "    course = \"Python development batch\"\n",
    "    \n",
    "    def __init__(self, language, start_date, student_list):\n",
    "        self.start_date = \"5 Nov, 2022\"\n",
    "        self._language = \"Marathi, Hindi, English\"\n",
    "        self.__student_list = student_list  # protected\n",
    "        \n",
    "        \n",
    "    @property\n",
    "    def student_list(self):\n",
    "        print(\"getter method\")\n",
    "        return self.__student_list\n",
    "    \n",
    "    \n",
    "    @student_list.setter\n",
    "    def student_list(self, new_list):\n",
    "        print(\"setter method\")\n",
    "        self.__student_list = new_list\n",
    "    \n",
    "    \n",
    "        \n",
    "        \n",
    "obj = Course(\"Python\", \"10\", [])\n",
    "\n",
    "obj.student_list = [\"prashant\", \"rahul\"]\n",
    "obj.student_list"
   ]
  },
  {
   "cell_type": "code",
   "execution_count": null,
   "id": "31e595dd-660f-4e34-8873-ef645415791c",
   "metadata": {},
   "outputs": [],
   "source": [
    "###"
   ]
  },
  {
   "cell_type": "code",
   "execution_count": 1,
   "id": "d68aeeb4-4f17-480d-a1de-14f6bb018f0b",
   "metadata": {},
   "outputs": [
    {
     "data": {
      "text/plain": [
       "['__class__',\n",
       " '__delattr__',\n",
       " '__dict__',\n",
       " '__dir__',\n",
       " '__doc__',\n",
       " '__eq__',\n",
       " '__format__',\n",
       " '__ge__',\n",
       " '__getattribute__',\n",
       " '__gt__',\n",
       " '__hash__',\n",
       " '__init__',\n",
       " '__init_subclass__',\n",
       " '__le__',\n",
       " '__lt__',\n",
       " '__module__',\n",
       " '__ne__',\n",
       " '__new__',\n",
       " '__reduce__',\n",
       " '__reduce_ex__',\n",
       " '__repr__',\n",
       " '__setattr__',\n",
       " '__sizeof__',\n",
       " '__str__',\n",
       " '__subclasshook__',\n",
       " '__weakref__']"
      ]
     },
     "execution_count": 1,
     "metadata": {},
     "output_type": "execute_result"
    }
   ],
   "source": [
    "class Simple:\n",
    "    pass\n",
    "\n",
    "dir(Simple)"
   ]
  },
  {
   "cell_type": "markdown",
   "id": "15d8ebed-0d74-485d-b018-31db9941d828",
   "metadata": {},
   "source": [
    "## inheritance type\n",
    "\n",
    "- multi-level inheritance\n",
    "- multiple inhertiance\n",
    "\n",
    "\n",
    "- Hierarchical \n",
    "- Hybrid\n",
    "- Simple inheritance\n",
    "\n",
    "\n"
   ]
  },
  {
   "cell_type": "code",
   "execution_count": null,
   "id": "21a7f343-1d87-459c-9d7f-3a5bd0ce9ab6",
   "metadata": {},
   "outputs": [],
   "source": [
    "class Base:\n",
    "    def __init__(self, name, age):\n",
    "        self.name = name\n",
    "        self.age = age\n",
    "        \n",
    "        \n",
    "class Upgrade(Base):\n",
    "    def __init__(self, name, age, profession, salary):\n",
    "        super().__init__(name, age)\n",
    "        self.profession = profession\n",
    "        self.salary = salary\n",
    "        \n",
    "        \n",
    "class SuperUpgrade(Upgrade):\n",
    "    def __init__(self, name, age, profession, salary, designation):\n",
    "        super().__init__(name, age, profession, salary)\n",
    "        self.designation = designation\n",
    "    "
   ]
  },
  {
   "cell_type": "code",
   "execution_count": null,
   "id": "97b7afc3-e7dd-4a96-a6ce-36094fceeb67",
   "metadata": {},
   "outputs": [],
   "source": [
    "class GrandFather:\n",
    "    pass\n",
    "    \n",
    "class GrandMother:\n",
    "    pass\n",
    "\n",
    "\n",
    "class ParentClass(GrandFather, GrandMother):\n",
    "    pass\n",
    "\n",
    "\n",
    "\n",
    "class ChildClass(ParentClass):\n",
    "    pass\n",
    "    \n",
    "    \n",
    "    "
   ]
  },
  {
   "cell_type": "code",
   "execution_count": null,
   "id": "56be1aea-0d17-4391-95b9-1f5ca1b17cda",
   "metadata": {},
   "outputs": [],
   "source": [
    "class SrManager:\n",
    "    pass\n",
    "\n",
    "\n",
    "class TechManager1(SrManager):\n",
    "    pass\n",
    "\n",
    "class ProductManager1(SrManager):\n",
    "    pass\n",
    "\n",
    "\n",
    "class TL(TechManager1, ProductManager1)"
   ]
  }
 ],
 "metadata": {
  "kernelspec": {
   "display_name": "Python 3 (ipykernel)",
   "language": "python",
   "name": "python3"
  },
  "language_info": {
   "codemirror_mode": {
    "name": "ipython",
    "version": 3
   },
   "file_extension": ".py",
   "mimetype": "text/x-python",
   "name": "python",
   "nbconvert_exporter": "python",
   "pygments_lexer": "ipython3",
   "version": "3.9.7"
  }
 },
 "nbformat": 4,
 "nbformat_minor": 5
}
