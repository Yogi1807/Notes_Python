{
 "cells": [
  {
   "cell_type": "markdown",
   "id": "46172d50",
   "metadata": {},
   "source": [
    "# `format` function (associated with `str` object)"
   ]
  },
  {
   "cell_type": "code",
   "execution_count": 2,
   "id": "451b9664",
   "metadata": {},
   "outputs": [],
   "source": [
    "good_news = \"{0} has won over {1} by {2} runs\"\n",
    "\n",
    "bad_news = \"{0} has lost over {1} by {2} runs\""
   ]
  },
  {
   "cell_type": "markdown",
   "id": "6a464266",
   "metadata": {},
   "source": [
    "#### good news"
   ]
  },
  {
   "cell_type": "code",
   "execution_count": 3,
   "id": "5fb13ff8",
   "metadata": {},
   "outputs": [
    {
     "name": "stdout",
     "output_type": "stream",
     "text": [
      "India has won over Pakistan by 100 runs\n"
     ]
    }
   ],
   "source": [
    "print(good_news.format(\"India\", \"Pakistan\", 100))"
   ]
  },
  {
   "cell_type": "markdown",
   "id": "64cb15ff",
   "metadata": {},
   "source": [
    "#### bad news"
   ]
  },
  {
   "cell_type": "code",
   "execution_count": 5,
   "id": "86c4b8a7",
   "metadata": {},
   "outputs": [
    {
     "name": "stdout",
     "output_type": "stream",
     "text": [
      "India has lost over Pakistan by 1 runs\n"
     ]
    }
   ],
   "source": [
    "print(bad_news.format(\"India\", \"Pakistan\", 1))"
   ]
  },
  {
   "cell_type": "markdown",
   "id": "fcbccbf4",
   "metadata": {},
   "source": [
    "# `f-string`"
   ]
  },
  {
   "cell_type": "code",
   "execution_count": 7,
   "id": "c923e271",
   "metadata": {},
   "outputs": [],
   "source": [
    "country1 = \"India\"\n",
    "country2 = \"Pakistan\"\n",
    "runs = 100"
   ]
  },
  {
   "cell_type": "markdown",
   "id": "8aa28dce",
   "metadata": {},
   "source": [
    "#### good_news"
   ]
  },
  {
   "cell_type": "code",
   "execution_count": 8,
   "id": "af3e4151",
   "metadata": {},
   "outputs": [
    {
     "name": "stdout",
     "output_type": "stream",
     "text": [
      "India has won over Pakistan by 100 runs\n"
     ]
    }
   ],
   "source": [
    "good_news = f\"{country1} has won over {country2} by {runs} runs\"\n",
    "print(good_news)"
   ]
  },
  {
   "cell_type": "code",
   "execution_count": 10,
   "id": "ab9d3726",
   "metadata": {},
   "outputs": [
    {
     "name": "stdout",
     "output_type": "stream",
     "text": [
      "prashant has passed and his grade is A\n"
     ]
    }
   ],
   "source": [
    "student_name = \"prashant\"\n",
    "status = \"passed\"\n",
    "grade = \"A\"\n",
    "\n",
    "exam_results = f\"{student_name} has {status} and his grade is {grade}\"\n",
    "print(exam_results)"
   ]
  },
  {
   "cell_type": "code",
   "execution_count": 29,
   "id": "7088be07",
   "metadata": {},
   "outputs": [
    {
     "name": "stdout",
     "output_type": "stream",
     "text": [
      "I love mumbai\n",
      "I love pune\n",
      "I love delhi\n"
     ]
    }
   ],
   "source": [
    "cities = [\"mumbai\", \"pune\", \"delhi\"]\n",
    "\n",
    "size = len(cities)\n",
    "\n",
    "i = 0\n",
    "\n",
    "while i < size:\n",
    "    city = cities[i]\n",
    "    print(f\"I love {city}\")\n",
    "    i += 1\n",
    "    "
   ]
  },
  {
   "cell_type": "code",
   "execution_count": 32,
   "id": "ae2b12ac",
   "metadata": {},
   "outputs": [
    {
     "name": "stdout",
     "output_type": "stream",
     "text": [
      "`twitter` - platform is all about - `microblogging`\n",
      "`facebook` - platform is all about - `social networking`\n",
      "`instagram` - platform is all about - `pictures`\n",
      "`whatsapp` - platform is all about - `instant messaging`\n"
     ]
    }
   ],
   "source": [
    "social_media = [\"twitter\", \"facebook\", \"instagram\", \"whatsapp\"]\n",
    "features = [\"microblogging\", \"social networking\", \"pictures\", \"instant messaging\"]\n",
    "\n",
    "\n",
    "i = 0\n",
    "size = len(social_media)\n",
    "\n",
    "while i < size:\n",
    "    media = social_media[i]\n",
    "    feature = features[i]\n",
    "    statement = f\"`{media}` - platform is all about - `{feature}`\"\n",
    "    print(statement)\n",
    "    i += 1"
   ]
  }
 ],
 "metadata": {
  "kernelspec": {
   "display_name": "Python 3 (ipykernel)",
   "language": "python",
   "name": "python3"
  },
  "language_info": {
   "codemirror_mode": {
    "name": "ipython",
    "version": 3
   },
   "file_extension": ".py",
   "mimetype": "text/x-python",
   "name": "python",
   "nbconvert_exporter": "python",
   "pygments_lexer": "ipython3",
   "version": "3.9.7"
  }
 },
 "nbformat": 4,
 "nbformat_minor": 5
}
