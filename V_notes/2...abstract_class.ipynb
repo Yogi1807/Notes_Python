{
 "cells": [
  {
   "cell_type": "markdown",
   "id": "d998db6b-022c-499b-b1e6-70b4f20c3866",
   "metadata": {},
   "source": [
    "## Abstact class"
   ]
  },
  {
   "cell_type": "code",
   "execution_count": 2,
   "id": "0236979a-cfae-4442-9422-d3ae59c830f1",
   "metadata": {},
   "outputs": [
    {
     "data": {
      "text/plain": [
       "<__main__.AnotherClass at 0x1f578347190>"
      ]
     },
     "execution_count": 2,
     "metadata": {},
     "output_type": "execute_result"
    }
   ],
   "source": [
    "from abc import ABC, abstractmethod\n",
    "\n",
    "\n",
    "class AbstractClass(ABC):\n",
    "    def __init__(self, name):\n",
    "        self.name = name\n",
    "        super().__init__()\n",
    "        \n",
    "    @abstractmethod\n",
    "    def get_details(self):\n",
    "        pass\n",
    "\n",
    "    \n",
    "class AnotherClass(AbstractClass):\n",
    "    def __init__(self, name):\n",
    "        super().__init__(name)\n",
    "        \n",
    "    def get_details(self):\n",
    "        pass\n",
    "\n",
    "\n",
    "AnotherClass(\"prashant\")"
   ]
  },
  {
   "cell_type": "code",
   "execution_count": 1,
   "id": "f145d0b2-82e4-4d6a-a6a4-3c3a0832d011",
   "metadata": {},
   "outputs": [
    {
     "data": {
      "text/plain": [
       "1674577393914636000"
      ]
     },
     "execution_count": 1,
     "metadata": {},
     "output_type": "execute_result"
    }
   ],
   "source": [
    "import time\n",
    "\n",
    "time.time_ns()"
   ]
  },
  {
   "cell_type": "code",
   "execution_count": 14,
   "id": "4013fa73-9a3e-46ff-aebd-7cc48fbec506",
   "metadata": {},
   "outputs": [
    {
     "data": {
      "text/plain": [
       "<__main__.StudentAccount at 0x103ef2d70>"
      ]
     },
     "execution_count": 14,
     "metadata": {},
     "output_type": "execute_result"
    }
   ],
   "source": [
    "from abc import ABC, abstractmethod\n",
    "\n",
    "\n",
    "class Accounts(ABC):\n",
    "    \n",
    "    def __init__(self):\n",
    "        super().__init__()\n",
    "        \n",
    "    @abstractmethod\n",
    "    def interest(self):\n",
    "        pass\n",
    "    \n",
    "    @abstractmethod\n",
    "    def minimum_deposit(self):\n",
    "        pass\n",
    "\n",
    "class SavingAccount(Accounts):\n",
    "    \n",
    "    def __init__(self):\n",
    "        super().__init__()\n",
    "        \n",
    "    def interest(self):\n",
    "        pass\n",
    "    \n",
    "    def minimum_deposit(self):\n",
    "        pass\n",
    "\n",
    "class CurrentAccount(Accounts):\n",
    "    \n",
    "    def __init__(self):\n",
    "        super().__init__()\n",
    "        \n",
    "    def interest(self):\n",
    "        pass\n",
    "    \n",
    "    def minimum_deposit(self):\n",
    "        pass\n",
    "\n",
    "class StudentAccount(Accounts):\n",
    "    def interest(self):\n",
    "        pass\n",
    "    \n",
    "    def minimum_deposit(self):\n",
    "        pass\n",
    "\n",
    "\n",
    "saving = SavingAccount()\n",
    "current = CurrentAccount()\n",
    "student = StudentAccount()\n",
    "student"
   ]
  }
 ],
 "metadata": {
  "kernelspec": {
   "display_name": "Python 3 (ipykernel)",
   "language": "python",
   "name": "python3"
  },
  "language_info": {
   "codemirror_mode": {
    "name": "ipython",
    "version": 3
   },
   "file_extension": ".py",
   "mimetype": "text/x-python",
   "name": "python",
   "nbconvert_exporter": "python",
   "pygments_lexer": "ipython3",
   "version": "3.9.7"
  }
 },
 "nbformat": 4,
 "nbformat_minor": 5
}
