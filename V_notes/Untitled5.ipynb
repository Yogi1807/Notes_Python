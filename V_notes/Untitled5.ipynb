{
 "cells": [
  {
   "cell_type": "code",
   "execution_count": 1,
   "id": "1b45fb9f-3840-49fa-9211-16b6a721a519",
   "metadata": {},
   "outputs": [
    {
     "name": "stdout",
     "output_type": "stream",
     "text": [
      "Please enter the number: 55\n",
      "11\n",
      "The biggest prime number is:  11.0\n"
     ]
    }
   ],
   "source": [
    "num = int(input(\"Please enter the number: \"))\n",
    "\n",
    "i = 2\n",
    "\n",
    "for k in range(0, num):    # [0, 1, 2, 3, 4, 5...., 10]    num = 10\n",
    "    if i >= num:           # num 2 or less than 2\n",
    "        break\n",
    "    elif num % i == 0:     # 10 % 2\n",
    "        num = num/i\n",
    "        print(int(num))\n",
    "    else:\n",
    "        i = i + 1\n",
    "        \n",
    "print(\"The biggest prime number is: \", num)"
   ]
  },
  {
   "cell_type": "code",
   "execution_count": null,
   "id": "2e2053ef-c881-4d32-b4fb-35c33228691b",
   "metadata": {},
   "outputs": [],
   "source": [
    "num = 13195\n",
    "div = 2\n",
    "foo=[]\n",
    "while(num > 1):\n",
    " \n",
    "    if(num % div == 0):\n",
    "       \n",
    "        num = num/div\n",
    "        print(int(num))\n",
    "        foo.append(div)\n",
    "      \n",
    "    else:\n",
    "        div += 1\n",
    "print(foo)"
   ]
  },
  {
   "cell_type": "markdown",
   "id": "3b6e6c0b-6c58-4b70-a819-d4f77560a829",
   "metadata": {},
   "source": [
    "10 \n",
    "\n",
    "smallest    largest \n",
    "...................\n",
    " 2             5 \n",
    " "
   ]
  },
  {
   "cell_type": "code",
   "execution_count": null,
   "id": "48ca5a77-d988-4838-a7d6-5470dbb09f41",
   "metadata": {},
   "outputs": [],
   "source": [
    "# 0,     1,     2,      3,      5,      8,     13,      21,      34,     55, .....\n",
    "\n",
    "# first sec\n",
    "\n",
    "final = []\n",
    "\n",
    "first = 0 \n",
    "second = 1\n",
    "size = 15\n",
    "n = 0\n",
    "\n",
    "while n < size:\n",
    "    if n == 0:\n",
    "        print(first, end=\" \")\n",
    "        final.append(first)\n",
    "    elif n == 1:\n",
    "        print(second, end=\" \")  \n",
    "        final.append(second)\n",
    "    elif n > 1:\n",
    "        next_ = first + second\n",
    "        print(next_, end=\" \")\n",
    "        final.append(next_)\n",
    "        first = second\n",
    "        second = next_\n",
    "    \n",
    "    n += 1\n",
    "    \n",
    "\n",
    "print(f\"\\nTotal numbers - {len(final)}\")"
   ]
  },
  {
   "cell_type": "code",
   "execution_count": 7,
   "id": "8bb57ef5-8599-4ced-9578-4e7da2305070",
   "metadata": {},
   "outputs": [
    {
     "name": "stdin",
     "output_type": "stream",
     "text": [
      "Fibonacci series of ::  15\n"
     ]
    },
    {
     "name": "stdout",
     "output_type": "stream",
     "text": [
      "0 1 1 2 3 5 8 13 21 34 55 89 144 233 377 "
     ]
    }
   ],
   "source": [
    "first = 0\n",
    "second = 1\n",
    "size = int(input(\"Fibonacci series of :: \"))\n",
    "\n",
    "for item in range(0, size):\n",
    "    \n",
    "    # first two values are not auto-generated\n",
    "    if item == 0:\n",
    "        print(first, end=\" \")\n",
    "    elif item == 1:\n",
    "        print(second, end=\" \")\n",
    "        \n",
    "    elif item < size:\n",
    "        next_ = first + second\n",
    "        print(next_, end=\" \")\n",
    "        first = second\n",
    "        second = next_\n"
   ]
  },
  {
   "cell_type": "markdown",
   "id": "642adece-ff06-45c5-aba2-2ee49e154f08",
   "metadata": {},
   "source": [
    "## Fibonacci series using recursion"
   ]
  },
  {
   "cell_type": "code",
   "execution_count": 2,
   "id": "f53806dc-0ed3-4c5b-a509-a11ae4c88d6f",
   "metadata": {},
   "outputs": [],
   "source": [
    "# Produce a fibinacci series using size"
   ]
  },
  {
   "cell_type": "code",
   "execution_count": null,
   "id": "e5e9d688",
   "metadata": {},
   "outputs": [],
   "source": []
  },
  {
   "cell_type": "code",
   "execution_count": null,
   "id": "f304e6ed",
   "metadata": {},
   "outputs": [],
   "source": [
    "\n"
   ]
  },
  {
   "cell_type": "code",
   "execution_count": 14,
   "id": "688bb656",
   "metadata": {},
   "outputs": [
    {
     "name": "stdout",
     "output_type": "stream",
     "text": [
      "I love apple\n",
      "I love banana\n",
      "I love cherry\n"
     ]
    }
   ],
   "source": [
    "def my_function(food):\n",
    "    for x in food:\n",
    "        print(\"I love\",x)\n",
    "\n",
    "fruits = [\"apple\", \"banana\", \"cherry\"]\n",
    "\n",
    "my_function(fruits)"
   ]
  },
  {
   "cell_type": "code",
   "execution_count": 16,
   "id": "c26a6365",
   "metadata": {},
   "outputs": [
    {
     "name": "stdout",
     "output_type": "stream",
     "text": [
      "15\n",
      "25\n",
      "45\n"
     ]
    }
   ],
   "source": [
    "def my_function(x):\n",
    "    print(5 * x)\n",
    "\n",
    "my_function(3)\n",
    "my_function(5)\n",
    "my_function(9)"
   ]
  },
  {
   "cell_type": "code",
   "execution_count": 21,
   "id": "9f303b63",
   "metadata": {},
   "outputs": [
    {
     "name": "stdout",
     "output_type": "stream",
     "text": [
      "hekki\n"
     ]
    }
   ],
   "source": [
    "if 1<2:\n",
    "    pass\n",
    "    print(\"hekki\")\n",
    "else:\n",
    "    \n",
    "    print('hello')"
   ]
  },
  {
   "cell_type": "code",
   "execution_count": 23,
   "id": "98fbd9ac",
   "metadata": {},
   "outputs": [
    {
     "name": "stdout",
     "output_type": "stream",
     "text": [
      "11\n"
     ]
    }
   ],
   "source": []
  },
  {
   "cell_type": "code",
   "execution_count": 19,
   "id": "d2105716",
   "metadata": {},
   "outputs": [
    {
     "name": "stdout",
     "output_type": "stream",
     "text": [
      "\n",
      "\n",
      "Recursion Example Results\n",
      "1\n",
      "3\n",
      "6\n"
     ]
    },
    {
     "data": {
      "text/plain": [
       "6"
      ]
     },
     "execution_count": 19,
     "metadata": {},
     "output_type": "execute_result"
    }
   ],
   "source": [
    "def tri_recursion(k):\n",
    "    if(k > 0):\n",
    "        result = k + tri_recursion(k - 1)\n",
    "        print(result)\n",
    "    else:\n",
    "        result = 0\n",
    "    return result\n",
    "\n",
    "print(\"\\n\\nRecursion Example Results\")\n",
    "tri_recursion(3)"
   ]
  },
  {
   "cell_type": "code",
   "execution_count": 17,
   "id": "9c64e9a6",
   "metadata": {},
   "outputs": [],
   "source": [
    "class o:\n",
    "    pass\n",
    "class a(o):\n",
    "    pass\n",
    "class b(o):\n",
    "    pass\n",
    "class c(o):\n",
    "    pass\n",
    "class x(a,b,c):\n",
    "    pass\n",
    "class y(b,c):\n",
    "    pass\n",
    "class p(x,y):\n",
    "    pass"
   ]
  },
  {
   "cell_type": "code",
   "execution_count": 18,
   "id": "61cfa3b0",
   "metadata": {},
   "outputs": [
    {
     "data": {
      "text/plain": [
       "[__main__.p,\n",
       " __main__.x,\n",
       " __main__.a,\n",
       " __main__.y,\n",
       " __main__.b,\n",
       " __main__.c,\n",
       " __main__.o,\n",
       " object]"
      ]
     },
     "execution_count": 18,
     "metadata": {},
     "output_type": "execute_result"
    }
   ],
   "source": [
    "p.mro()"
   ]
  },
  {
   "cell_type": "code",
   "execution_count": 31,
   "id": "b603086e",
   "metadata": {},
   "outputs": [
    {
     "data": {
      "text/plain": [
       "'pan'"
      ]
     },
     "execution_count": 31,
     "metadata": {},
     "output_type": "execute_result"
    }
   ],
   "source": [
    "class school:\n",
    "    s_name=\"pankaj vidyalaya chopda\"\n",
    "    def __init__(self, name,std):\n",
    "        self.name=name\n",
    "        self.std=std\n",
    "        \n",
    "  #  def getsomething(self):\n",
    "      #  return f\"{self.std}\"\n",
    "    \n",
    "class xyz(school):\n",
    "    def __init__(self, std):\n",
    "        super().__init__(\"pan\", 10)\n",
    "        self.std=std\n",
    "    def getsomething(self):\n",
    "        return f\"{self.name}\"\n",
    "    \n",
    "\n",
    "obj2=xyz(\"pankaj\")\n",
    "obj2.getsomething()"
   ]
  },
  {
   "cell_type": "code",
   "execution_count": 20,
   "id": "1ca83a65",
   "metadata": {},
   "outputs": [
    {
     "data": {
      "text/plain": [
       "\"Car class :: ('TATA', 5)\""
      ]
     },
     "execution_count": 20,
     "metadata": {},
     "output_type": "execute_result"
    }
   ],
   "source": [
    "class Vehicle1(object):\n",
    "    def __init__(self, capacity):\n",
    "        self.capacity = capacity\n",
    "        \n",
    "    def get_details(self):\n",
    "        return f\"Vehicle class :: {self.capacity}\"\n",
    "    \n",
    "    \n",
    "    \n",
    "class Cars1(Vehicle1):\n",
    "    def __init__(self, capacity, brand):\n",
    "        super().__init__(5)\n",
    "        self.brand = brand\n",
    "        \n",
    "    # method overloading\n",
    "    def get_details(self, color, default=\"default-value\"):\n",
    "        return f\"Car class :: {self.brand, self.capacity}\"\n",
    "    \n",
    "    \n",
    "new_cars1 = Cars1(10, \"TATA\")\n",
    "new_cars1.get_details(\"red\")"
   ]
  },
  {
   "cell_type": "code",
   "execution_count": 58,
   "id": "7016a420",
   "metadata": {},
   "outputs": [
    {
     "name": "stdout",
     "output_type": "stream",
     "text": [
      "br\n"
     ]
    }
   ],
   "source": [
    "class bag:\n",
    "    def __init__(self, color):\n",
    "        self.color= color\n",
    "        \n",
    "class carrybag(bag):\n",
    "    def __init__(self,color,br):\n",
    "        super().__init__(color)\n",
    "        self.br=br\n",
    "        print(self.br)\n",
    "    \n",
    "obj=carrybag(\"red\",\"br\")"
   ]
  },
  {
   "cell_type": "code",
   "execution_count": 49,
   "id": "fd86a666",
   "metadata": {},
   "outputs": [
    {
     "name": "stdout",
     "output_type": "stream",
     "text": [
      "{'ram': '8gb', 'storage': '512gb', 'model': 'iphone'}\n"
     ]
    }
   ],
   "source": [
    "class computer:\n",
    "    def __init__(self,ram,storage):\n",
    "        self.ram=ram\n",
    "        self.storage=storage\n",
    "class mobile(computer):\n",
    "    def __init__(self,ram,storage,model):\n",
    "        super().__init__(ram,storage)\n",
    "        self.model= model\n",
    "apple= mobile(\"8gb\",\"512gb\",\"iphone\")\n",
    "print(apple.__dict__)"
   ]
  },
  {
   "cell_type": "code",
   "execution_count": 59,
   "id": "1711e7da",
   "metadata": {},
   "outputs": [
    {
     "data": {
      "text/plain": [
       "'yogesh'"
      ]
     },
     "execution_count": 59,
     "metadata": {},
     "output_type": "execute_result"
    }
   ],
   "source": [
    "class school:\n",
    "    def __init__(self, name):\n",
    "        self.name=name\n",
    "    def __repr__(self):\n",
    "        return self.name\n",
    "obj1= \"yogesh\"\n",
    "obj1"
   ]
  },
  {
   "cell_type": "code",
   "execution_count": 1,
   "id": "286ab5e1",
   "metadata": {},
   "outputs": [
    {
     "name": "stdout",
     "output_type": "stream",
     "text": [
      "(1, 2, 3)\n"
     ]
    }
   ],
   "source": [
    "a=1,\n",
    "b=2,3\n",
    "print(a+b)"
   ]
  },
  {
   "cell_type": "code",
   "execution_count": 2,
   "id": "f515eab6",
   "metadata": {},
   "outputs": [
    {
     "data": {
      "text/plain": [
       "{0, 1, 2, 3, 4, 5, 6, 7, 8, 9}"
      ]
     },
     "execution_count": 2,
     "metadata": {},
     "output_type": "execute_result"
    }
   ],
   "source": [
    "{i for i in range(10)}"
   ]
  },
  {
   "cell_type": "code",
   "execution_count": 28,
   "id": "9ef032ee",
   "metadata": {},
   "outputs": [
    {
     "ename": "IndexError",
     "evalue": "string index out of range",
     "output_type": "error",
     "traceback": [
      "\u001b[1;31m---------------------------------------------------------------------------\u001b[0m",
      "\u001b[1;31mIndexError\u001b[0m                                Traceback (most recent call last)",
      "\u001b[1;32m~\\AppData\\Local\\Temp/ipykernel_7492/2763163602.py\u001b[0m in \u001b[0;36m<module>\u001b[1;34m\u001b[0m\n\u001b[0;32m      1\u001b[0m \u001b[0mstr1\u001b[0m\u001b[1;33m=\u001b[0m \u001b[1;34m\"4657383\"\u001b[0m\u001b[1;33m\u001b[0m\u001b[1;33m\u001b[0m\u001b[0m\n\u001b[1;32m----> 2\u001b[1;33m \u001b[1;33m{\u001b[0m\u001b[0mstr1\u001b[0m\u001b[1;33m[\u001b[0m\u001b[0mi\u001b[0m\u001b[1;33m]\u001b[0m\u001b[1;33m:\u001b[0m\u001b[0mstr1\u001b[0m\u001b[1;33m[\u001b[0m\u001b[0mi\u001b[0m\u001b[1;33m+\u001b[0m\u001b[1;36m1\u001b[0m\u001b[1;33m]\u001b[0m \u001b[1;32mfor\u001b[0m \u001b[0mi\u001b[0m \u001b[1;32min\u001b[0m \u001b[0mrange\u001b[0m\u001b[1;33m(\u001b[0m\u001b[0mlen\u001b[0m\u001b[1;33m(\u001b[0m\u001b[0mstr1\u001b[0m\u001b[1;33m)\u001b[0m\u001b[1;33m)\u001b[0m\u001b[1;33m}\u001b[0m\u001b[1;33m\u001b[0m\u001b[1;33m\u001b[0m\u001b[0m\n\u001b[0m",
      "\u001b[1;32m~\\AppData\\Local\\Temp/ipykernel_7492/2763163602.py\u001b[0m in \u001b[0;36m<dictcomp>\u001b[1;34m(.0)\u001b[0m\n\u001b[0;32m      1\u001b[0m \u001b[0mstr1\u001b[0m\u001b[1;33m=\u001b[0m \u001b[1;34m\"4657383\"\u001b[0m\u001b[1;33m\u001b[0m\u001b[1;33m\u001b[0m\u001b[0m\n\u001b[1;32m----> 2\u001b[1;33m \u001b[1;33m{\u001b[0m\u001b[0mstr1\u001b[0m\u001b[1;33m[\u001b[0m\u001b[0mi\u001b[0m\u001b[1;33m]\u001b[0m\u001b[1;33m:\u001b[0m\u001b[0mstr1\u001b[0m\u001b[1;33m[\u001b[0m\u001b[0mi\u001b[0m\u001b[1;33m+\u001b[0m\u001b[1;36m1\u001b[0m\u001b[1;33m]\u001b[0m \u001b[1;32mfor\u001b[0m \u001b[0mi\u001b[0m \u001b[1;32min\u001b[0m \u001b[0mrange\u001b[0m\u001b[1;33m(\u001b[0m\u001b[0mlen\u001b[0m\u001b[1;33m(\u001b[0m\u001b[0mstr1\u001b[0m\u001b[1;33m)\u001b[0m\u001b[1;33m)\u001b[0m\u001b[1;33m}\u001b[0m\u001b[1;33m\u001b[0m\u001b[1;33m\u001b[0m\u001b[0m\n\u001b[0m",
      "\u001b[1;31mIndexError\u001b[0m: string index out of range"
     ]
    }
   ],
   "source": [
    "str1= \"4657383\"\n",
    "{str1[i]:str1[i+1] for i in range(len(str1))}"
   ]
  },
  {
   "cell_type": "code",
   "execution_count": 27,
   "id": "53788be8",
   "metadata": {},
   "outputs": [
    {
     "data": {
      "text/plain": [
       "{'4': '6', '5': '7', '3': '4'}"
      ]
     },
     "execution_count": 27,
     "metadata": {},
     "output_type": "execute_result"
    }
   ],
   "source": [
    "str1= \"46573834\"\n",
    "{str1[i]:str1[i+1]for i in range(0,len(str1),2)}\n"
   ]
  },
  {
   "cell_type": "code",
   "execution_count": 51,
   "id": "22d144ca",
   "metadata": {},
   "outputs": [
    {
     "name": "stdout",
     "output_type": "stream",
     "text": [
      "{'1': '2', '3': '4', '5': '6', '7': None}\n"
     ]
    }
   ],
   "source": [
    "str1= \"1234567\"\n",
    "bar={}\n",
    "try:\n",
    "    for i in range(0,len(str1),2):\n",
    "        bar[str1[i]]=str1[i+1]\n",
    "        \n",
    "except(IndexError):\n",
    "     bar[str1[i]]=None\n",
    "        \n",
    "finally:\n",
    "    print(bar)\n",
    "    "
   ]
  },
  {
   "cell_type": "code",
   "execution_count": 59,
   "id": "a7abdbf1",
   "metadata": {},
   "outputs": [
    {
     "data": {
      "text/plain": [
       "[0, 1]"
      ]
     },
     "execution_count": 59,
     "metadata": {},
     "output_type": "execute_result"
    }
   ],
   "source": [
    "lis=[1,2,3,4,5]\n",
    "target=3\n",
    "[[j,i] for i in range(len(lis)) for j in range(i) if lis[i]+lis[j]==target][0]"
   ]
  },
  {
   "cell_type": "code",
   "execution_count": 56,
   "id": "00711416",
   "metadata": {},
   "outputs": [
    {
     "data": {
      "text/plain": [
       "[0, 1, 1, 2, 3, 5, 8, 13, 21, 34, 55, 89]"
      ]
     },
     "execution_count": 56,
     "metadata": {},
     "output_type": "execute_result"
    }
   ],
   "source": [
    "foo=[0,1]\n",
    "[foo.append(sum(foo[-2:])) for i in range(10)]\n",
    "foo"
   ]
  },
  {
   "cell_type": "code",
   "execution_count": null,
   "id": "b453fa06",
   "metadata": {},
   "outputs": [],
   "source": [
    "foo=[0,1]\n",
    "sum"
   ]
  },
  {
   "cell_type": "code",
   "execution_count": 60,
   "id": "55365ac4",
   "metadata": {},
   "outputs": [
    {
     "name": "stdout",
     "output_type": "stream",
     "text": [
      "{'1': '2', '2': '3', '3': '4', '4': '5', '5': '6', '6': '7', '7': None}\n"
     ]
    }
   ],
   "source": [
    "str1= \"1234567\"\n",
    "bar={}\n",
    "try:\n",
    "    for i in range(len(str1)):\n",
    "        bar[str1[i]]=str1[i+1]\n",
    "        \n",
    "except(IndexError):\n",
    "     bar[str1[i]]=None\n",
    "        \n",
    "finally:\n",
    "    print(bar)"
   ]
  },
  {
   "cell_type": "code",
   "execution_count": 65,
   "id": "044e694c",
   "metadata": {},
   "outputs": [
    {
     "data": {
      "text/plain": [
       "'5a4b3c2d1e'"
      ]
     },
     "execution_count": 65,
     "metadata": {},
     "output_type": "execute_result"
    }
   ],
   "source": [
    "foo= \"aaaaabbbbcccdde\"\n",
    "bar= sorted(set(foo))\n",
    "s=\"\"\n",
    "for i in bar:\n",
    "    num=foo.count(i)\n",
    "    s+=str(num)+i\n",
    "s"
   ]
  },
  {
   "cell_type": "code",
   "execution_count": 70,
   "id": "e6177e44",
   "metadata": {},
   "outputs": [
    {
     "data": {
      "text/plain": [
       "'5a4b3c2d1e'"
      ]
     },
     "execution_count": 70,
     "metadata": {},
     "output_type": "execute_result"
    }
   ],
   "source": [
    "ba=[str(foo.count(i))+i for i in bar]\n",
    "\"\".join(ba)"
   ]
  },
  {
   "cell_type": "code",
   "execution_count": 104,
   "id": "fdac94de",
   "metadata": {},
   "outputs": [
    {
     "data": {
      "text/plain": [
       "'ADXBZC'"
      ]
     },
     "execution_count": 104,
     "metadata": {},
     "output_type": "execute_result"
    }
   ],
   "source": [
    "foo= \"A3X4Z3\"\n",
    "st=\"\"\n",
    "for i in range(len(foo)):\n",
    "    if foo[i].isalpha():\n",
    "        st+=foo[i]\n",
    "    else:\n",
    "        if ord(foo[i-1])+int(foo[i])>90:\n",
    "            st+=chr(ord(foo[i-1])+int(foo[i])-26)\n",
    "        else:\n",
    "            st+=chr(ord(foo[i-1])+int(foo[i]))\n",
    "            \n",
    "st"
   ]
  },
  {
   "cell_type": "code",
   "execution_count": 102,
   "id": "f97d567b",
   "metadata": {},
   "outputs": [
    {
     "data": {
      "text/plain": [
       "68"
      ]
     },
     "execution_count": 102,
     "metadata": {},
     "output_type": "execute_result"
    }
   ],
   "source": [
    "ord(foo[i-1])+int(foo[i])"
   ]
  },
  {
   "cell_type": "code",
   "execution_count": 72,
   "id": "bcfad4cd",
   "metadata": {},
   "outputs": [
    {
     "data": {
      "text/plain": [
       "72"
      ]
     },
     "execution_count": 72,
     "metadata": {},
     "output_type": "execute_result"
    }
   ],
   "source": [
    "st+=chr(ord(foo[i-1])+int(foo[i]))"
   ]
  },
  {
   "cell_type": "code",
   "execution_count": 95,
   "id": "66205216",
   "metadata": {},
   "outputs": [
    {
     "data": {
      "text/plain": [
       "'A'"
      ]
     },
     "execution_count": 95,
     "metadata": {},
     "output_type": "execute_result"
    }
   ],
   "source": [
    "chr(ord(\"Z\")-25)"
   ]
  },
  {
   "cell_type": "code",
   "execution_count": 101,
   "id": "fc2c968d",
   "metadata": {},
   "outputs": [
    {
     "data": {
      "text/plain": [
       "'A'"
      ]
     },
     "execution_count": 101,
     "metadata": {},
     "output_type": "execute_result"
    }
   ],
   "source": [
    "chr(65)"
   ]
  },
  {
   "cell_type": "code",
   "execution_count": null,
   "id": "c4300464",
   "metadata": {},
   "outputs": [],
   "source": [
    "sizzer \n",
    "\n",
    "foo=\"ABCD\""
   ]
  },
  {
   "cell_type": "code",
   "execution_count": null,
   "id": "41870d3a",
   "metadata": {},
   "outputs": [],
   "source": []
  },
  {
   "cell_type": "code",
   "execution_count": null,
   "id": "2e51cbed",
   "metadata": {},
   "outputs": [],
   "source": []
  }
 ],
 "metadata": {
  "kernelspec": {
   "display_name": "Python 3 (ipykernel)",
   "language": "python",
   "name": "python3"
  },
  "language_info": {
   "codemirror_mode": {
    "name": "ipython",
    "version": 3
   },
   "file_extension": ".py",
   "mimetype": "text/x-python",
   "name": "python",
   "nbconvert_exporter": "python",
   "pygments_lexer": "ipython3",
   "version": "3.9.7"
  }
 },
 "nbformat": 4,
 "nbformat_minor": 5
}
