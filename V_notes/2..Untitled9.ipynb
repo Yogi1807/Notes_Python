{
 "cells": [
  {
   "cell_type": "code",
   "execution_count": 7,
   "id": "4a5a8d5d-a1d9-4f84-8e33-51512da8f5e4",
   "metadata": {},
   "outputs": [
    {
     "name": "stdout",
     "output_type": "stream",
     "text": [
      "display setter (from A)\n",
      "display getter  (from A)\n",
      "4004\n"
     ]
    }
   ],
   "source": [
    "class A:\n",
    "    def __init__(self):\n",
    "        self.__password = 2002   # private attribute\n",
    "        \n",
    "    @property\n",
    "    def password(self):          \n",
    "        print(\"display getter  (from A)\")\n",
    "        return self.__password\n",
    "    \n",
    "    @password.setter\n",
    "    def password(self, pass_):\n",
    "        print(\"display setter (from A)\")\n",
    "        self.__password = pass_\n",
    "        \n",
    "class B(A):\n",
    "    def __init__(self):\n",
    "        self.__password = \"whatever\"\n",
    "        \n",
    "\n",
    "# #  parent - getter\n",
    "# obj_a = A()\n",
    "# print(obj_a.password)\n",
    "# print()\n",
    "\n",
    "# # child - getter\n",
    "# obj_b = B()\n",
    "# print(obj_b.password)\n",
    "# print()\n",
    "\n",
    "\n",
    "# # parent setter\n",
    "# obj_a.password = 5005\n",
    "# print(obj_a.password)\n",
    "# print()\n",
    "\n",
    "# child setter\n",
    "obj_b = B()\n",
    "\n",
    "obj_b.password = 4004\n",
    "print(obj_b.password)"
   ]
  },
  {
   "cell_type": "code",
   "execution_count": 4,
   "id": "80e1ac19-55e5-4f9e-845e-15aff58cb03e",
   "metadata": {},
   "outputs": [
    {
     "ename": "TypeError",
     "evalue": "object.__init__() takes exactly one argument (the instance to initialize)",
     "output_type": "error",
     "traceback": [
      "\u001b[0;31m---------------------------------------------------------------------------\u001b[0m",
      "\u001b[0;31mTypeError\u001b[0m                                 Traceback (most recent call last)",
      "Cell \u001b[0;32mIn [4], line 18\u001b[0m\n\u001b[1;32m     14\u001b[0m         \u001b[38;5;28msuper\u001b[39m(A, \u001b[38;5;28mself\u001b[39m)\u001b[38;5;241m.\u001b[39m\u001b[38;5;21m__init__\u001b[39m(first_)\n\u001b[1;32m     15\u001b[0m         \u001b[38;5;28msuper\u001b[39m(B, \u001b[38;5;28mself\u001b[39m)\u001b[38;5;241m.\u001b[39m\u001b[38;5;21m__init__\u001b[39m(second_)\n\u001b[0;32m---> 18\u001b[0m obj \u001b[38;5;241m=\u001b[39m \u001b[43mC\u001b[49m\u001b[43m(\u001b[49m\u001b[38;5;124;43m\"\u001b[39;49m\u001b[38;5;124;43mPrashant\u001b[39;49m\u001b[38;5;124;43m\"\u001b[39;49m\u001b[43m,\u001b[49m\u001b[43m \u001b[49m\u001b[38;5;124;43m\"\u001b[39;49m\u001b[38;5;124;43mRahul\u001b[39;49m\u001b[38;5;124;43m\"\u001b[39;49m\u001b[43m)\u001b[49m\n\u001b[1;32m     20\u001b[0m obj\n",
      "Cell \u001b[0;32mIn [4], line 15\u001b[0m, in \u001b[0;36mC.__init__\u001b[0;34m(self, first_, second_)\u001b[0m\n\u001b[1;32m     13\u001b[0m \u001b[38;5;28;01mdef\u001b[39;00m \u001b[38;5;21m__init__\u001b[39m(\u001b[38;5;28mself\u001b[39m, first_, second_):\n\u001b[1;32m     14\u001b[0m     \u001b[38;5;28msuper\u001b[39m(A, \u001b[38;5;28mself\u001b[39m)\u001b[38;5;241m.\u001b[39m\u001b[38;5;21m__init__\u001b[39m(first_)\n\u001b[0;32m---> 15\u001b[0m     \u001b[38;5;28;43msuper\u001b[39;49m\u001b[43m(\u001b[49m\u001b[43mB\u001b[49m\u001b[43m,\u001b[49m\u001b[43m \u001b[49m\u001b[38;5;28;43mself\u001b[39;49m\u001b[43m)\u001b[49m\u001b[38;5;241;43m.\u001b[39;49m\u001b[38;5;21;43m__init__\u001b[39;49m\u001b[43m(\u001b[49m\u001b[43msecond_\u001b[49m\u001b[43m)\u001b[49m\n",
      "\u001b[0;31mTypeError\u001b[0m: object.__init__() takes exactly one argument (the instance to initialize)"
     ]
    }
   ],
   "source": [
    "class A(object):\n",
    "    def __init__(self, first):\n",
    "        self.first = first\n",
    "        \n",
    "        \n",
    "\n",
    "class B(object):\n",
    "    def __init__(self, second):\n",
    "        self.second = second\n",
    "\n",
    "\n",
    "class C(A, B):\n",
    "    def __init__(self, first_, second_):\n",
    "        super(A, self).__init__(first_)\n",
    "        super(B, self).__init__(second_)\n",
    "        \n",
    "        \n",
    "obj = C(\"Prashant\", \"Rahul\")\n",
    "\n",
    "obj\n",
    "# print(obj.first)\n",
    "# print(obj.second)\n",
    "\n",
    "\n",
    "        "
   ]
  },
  {
   "cell_type": "code",
   "execution_count": 1,
   "id": "89311fac-ad03-4f12-b90e-fb204ad7d3ad",
   "metadata": {},
   "outputs": [],
   "source": [
    "class Foo:\n",
    "    def __init__(self, name, age):\n",
    "        self.name = name\n",
    "        self.age = age\n",
    "\n",
    "\n",
    "class Bar:\n",
    "    def __init__(self, profession, salary):\n",
    "        self.profession = profession\n",
    "        self.salary = salary\n",
    "\n",
    "\n",
    "class FooBar(Foo, Bar):\n",
    "    def __init__(self, name, age, profession, salary, bar='bar'):\n",
    "        Foo.__init__(self, name, age)  # explicit calls without super\n",
    "        Bar.__init__(self, profession, salary)\n",
    "\n",
    "\n",
    "obj = FooBar(\"prsahant\", 29, \"sr engineer\", 80)\n"
   ]
  },
  {
   "cell_type": "code",
   "execution_count": 5,
   "id": "86c27db0-1230-424a-8377-3dd7fb0a321b",
   "metadata": {},
   "outputs": [
    {
     "ename": "TypeError",
     "evalue": "object.__init__() takes exactly one argument (the instance to initialize)",
     "output_type": "error",
     "traceback": [
      "\u001b[0;31m---------------------------------------------------------------------------\u001b[0m",
      "\u001b[0;31mTypeError\u001b[0m                                 Traceback (most recent call last)",
      "Cell \u001b[0;32mIn [5], line 20\u001b[0m\n\u001b[1;32m     15\u001b[0m         \u001b[38;5;28msuper\u001b[39m()\u001b[38;5;241m.\u001b[39m\u001b[38;5;21m__init__\u001b[39m(name, age)\n\u001b[1;32m     16\u001b[0m         \u001b[38;5;28msuper\u001b[39m(Bar, \u001b[38;5;28mself\u001b[39m)\u001b[38;5;241m.\u001b[39m\u001b[38;5;21m__init__\u001b[39m(profession, salary)\n\u001b[0;32m---> 20\u001b[0m obj \u001b[38;5;241m=\u001b[39m \u001b[43mFooBar\u001b[49m\u001b[43m(\u001b[49m\u001b[38;5;124;43m\"\u001b[39;49m\u001b[38;5;124;43mprsahant\u001b[39;49m\u001b[38;5;124;43m\"\u001b[39;49m\u001b[43m,\u001b[49m\u001b[43m \u001b[49m\u001b[38;5;241;43m29\u001b[39;49m\u001b[43m,\u001b[49m\u001b[43m \u001b[49m\u001b[38;5;124;43m\"\u001b[39;49m\u001b[38;5;124;43msr engineer\u001b[39;49m\u001b[38;5;124;43m\"\u001b[39;49m\u001b[43m,\u001b[49m\u001b[43m \u001b[49m\u001b[38;5;241;43m80\u001b[39;49m\u001b[43m)\u001b[49m\n",
      "Cell \u001b[0;32mIn [5], line 16\u001b[0m, in \u001b[0;36mFooBar.__init__\u001b[0;34m(self, name, age, profession, salary, bar)\u001b[0m\n\u001b[1;32m     14\u001b[0m \u001b[38;5;28;01mdef\u001b[39;00m \u001b[38;5;21m__init__\u001b[39m(\u001b[38;5;28mself\u001b[39m, name, age, profession, salary, bar\u001b[38;5;241m=\u001b[39m\u001b[38;5;124m'\u001b[39m\u001b[38;5;124mbar\u001b[39m\u001b[38;5;124m'\u001b[39m):\n\u001b[1;32m     15\u001b[0m     \u001b[38;5;28msuper\u001b[39m()\u001b[38;5;241m.\u001b[39m\u001b[38;5;21m__init__\u001b[39m(name, age)\n\u001b[0;32m---> 16\u001b[0m     \u001b[38;5;28;43msuper\u001b[39;49m\u001b[43m(\u001b[49m\u001b[43mBar\u001b[49m\u001b[43m,\u001b[49m\u001b[43m \u001b[49m\u001b[38;5;28;43mself\u001b[39;49m\u001b[43m)\u001b[49m\u001b[38;5;241;43m.\u001b[39;49m\u001b[38;5;21;43m__init__\u001b[39;49m\u001b[43m(\u001b[49m\u001b[43mprofession\u001b[49m\u001b[43m,\u001b[49m\u001b[43m \u001b[49m\u001b[43msalary\u001b[49m\u001b[43m)\u001b[49m\n",
      "\u001b[0;31mTypeError\u001b[0m: object.__init__() takes exactly one argument (the instance to initialize)"
     ]
    }
   ],
   "source": [
    "class Foo:\n",
    "    def __init__(self, name, age):\n",
    "        self.name = name\n",
    "        self.age = age\n",
    "\n",
    "\n",
    "class Bar:\n",
    "    def __init__(self, profession, salary):\n",
    "        self.profession = profession\n",
    "        self.salary = salary\n",
    "\n",
    "\n",
    "class FooBar(Foo, Bar):\n",
    "    def __init__(self, name, age, profession, salary, bar='bar'):\n",
    "        super().__init__(name, age)\n",
    "        super(Bar, self).__init__(profession, salary)\n",
    "\n",
    "        \n",
    "\n",
    "obj = FooBar(\"prsahant\", 29, \"sr engineer\", 80)\n"
   ]
  }
 ],
 "metadata": {
  "kernelspec": {
   "display_name": "Python 3 (ipykernel)",
   "language": "python",
   "name": "python3"
  },
  "language_info": {
   "codemirror_mode": {
    "name": "ipython",
    "version": 3
   },
   "file_extension": ".py",
   "mimetype": "text/x-python",
   "name": "python",
   "nbconvert_exporter": "python",
   "pygments_lexer": "ipython3",
   "version": "3.9.7"
  }
 },
 "nbformat": 4,
 "nbformat_minor": 5
}
