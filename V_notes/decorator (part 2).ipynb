{
 "cells": [
  {
   "cell_type": "code",
   "execution_count": 2,
   "id": "bbe09f0b-d81f-45c3-b0c9-50060a573e77",
   "metadata": {},
   "outputs": [
    {
     "data": {
      "text/plain": [
       "1674574387999073600"
      ]
     },
     "execution_count": 2,
     "metadata": {},
     "output_type": "execute_result"
    }
   ],
   "source": [
    "import time\n",
    "\n",
    "time.time_ns()"
   ]
  },
  {
   "cell_type": "code",
   "execution_count": 2,
   "id": "8db91d63-2d54-4656-a3b3-b4aace6c4531",
   "metadata": {},
   "outputs": [],
   "source": [
    "## execution time of any function"
   ]
  },
  {
   "cell_type": "code",
   "execution_count": 3,
   "id": "efb1d616-6c84-4503-ab84-4634724ab97a",
   "metadata": {},
   "outputs": [
    {
     "name": "stdout",
     "output_type": "stream",
     "text": [
      "total exec time :  0\n"
     ]
    }
   ],
   "source": [
    "def perform_calculation():\n",
    "    start = time.time_ns()  # pre-processing\n",
    "    \n",
    "    [x**2 for x in range(1, 100)]\n",
    "    \n",
    "    end = time.time_ns()    # post-processing\n",
    "    total = end - start\n",
    "    print(\"total exec time : \", total)\n",
    "    \n",
    "    \n",
    "perform_calculation()"
   ]
  },
  {
   "cell_type": "code",
   "execution_count": 7,
   "id": "a851925d-77b5-40eb-8728-1b18fd31c0af",
   "metadata": {},
   "outputs": [],
   "source": [
    "def timeit(func):\n",
    "    print(\"before wrapper function\")\n",
    "    \n",
    "    def wrapper(*args, **kwargs):\n",
    "        print(kwargs)\n",
    "        start = time.time_ns()\n",
    "        result = func(*args, **kwargs)\n",
    "        print(\"[ INFO ] total exec time :: \", time.time_ns() - start)\n",
    "        return result\n",
    "    \n",
    "    \n",
    "    print(\"after wrapper function\")\n",
    "    \n",
    "    return wrapper"
   ]
  },
  {
   "cell_type": "code",
   "execution_count": 10,
   "id": "2316b223-d76b-41b8-b932-bf27449c6a76",
   "metadata": {},
   "outputs": [
    {
     "name": "stdout",
     "output_type": "stream",
     "text": [
      "before wrapper function\n",
      "after wrapper function\n",
      "{}\n",
      "[ INFO ] total exec time ::  0\n"
     ]
    }
   ],
   "source": [
    "@timeit\n",
    "def task1():\n",
    "    [x**2 for x in range(1000)]\n",
    "    \n",
    "    \n",
    "task1()"
   ]
  },
  {
   "cell_type": "code",
   "execution_count": 23,
   "id": "7583cf18-78e3-4209-a2db-5fd6cc689551",
   "metadata": {},
   "outputs": [
    {
     "name": "stdout",
     "output_type": "stream",
     "text": [
      "{}\n",
      "[ INFO ] total exec time ::  463000\n"
     ]
    }
   ],
   "source": [
    "task1()"
   ]
  },
  {
   "cell_type": "code",
   "execution_count": 24,
   "id": "75176ebe-ddfe-4c73-8778-08eead04b178",
   "metadata": {},
   "outputs": [
    {
     "name": "stdout",
     "output_type": "stream",
     "text": [
      "{}\n",
      "[ INFO ] total exec time ::  440000\n"
     ]
    }
   ],
   "source": [
    "task1()"
   ]
  },
  {
   "cell_type": "code",
   "execution_count": 6,
   "id": "de1435eb-7f52-475c-b419-33b2884859d6",
   "metadata": {},
   "outputs": [
    {
     "name": "stdout",
     "output_type": "stream",
     "text": [
      "[ INFO ] total exec time ::  4529000\n"
     ]
    }
   ],
   "source": [
    "@timeit\n",
    "def task2(limit):\n",
    "    [x**2 for x in range(limit)]\n",
    "    \n",
    "    \n",
    "task2(10000)"
   ]
  },
  {
   "cell_type": "code",
   "execution_count": 7,
   "id": "1e5789ae-4da4-4183-a3b1-32006cf705e2",
   "metadata": {},
   "outputs": [
    {
     "name": "stdout",
     "output_type": "stream",
     "text": [
      "[ INFO ] total exec time ::  49103000\n"
     ]
    }
   ],
   "source": [
    "@timeit\n",
    "def task3(start, limit):\n",
    "    [x**2 for x in range(start, limit)]\n",
    "    \n",
    "    \n",
    "task3(100, 100000)"
   ]
  },
  {
   "cell_type": "code",
   "execution_count": 19,
   "id": "a25c9f1e-4675-448a-8b11-52e46df63869",
   "metadata": {},
   "outputs": [
    {
     "name": "stdout",
     "output_type": "stream",
     "text": [
      "{'greeting': 'random'}\n",
      "[ INFO ] total exec time ::  2092657000\n"
     ]
    }
   ],
   "source": [
    "@timeit\n",
    "def task4(start, limit, greeting=\"good morning\"):\n",
    "    [x**2 for x in range(start, limit)]\n",
    "    \n",
    "    \n",
    "task4(100, 10000000, greeting=\"random\")"
   ]
  },
  {
   "cell_type": "code",
   "execution_count": 20,
   "id": "1dd9ef3c-84dc-471f-bfc0-72a54c10971c",
   "metadata": {},
   "outputs": [
    {
     "name": "stdout",
     "output_type": "stream",
     "text": [
      "{'greeting': 'random thing'}\n",
      "{'greeting': 'random thing'}\n",
      "[ INFO ] total exec time ::  5071000\n",
      "[ INFO ] total exec time ::  5097000\n"
     ]
    }
   ],
   "source": [
    "timeit(task4)(10, 10000, greeting=\"random thing\")"
   ]
  },
  {
   "cell_type": "markdown",
   "id": "265d75bb-a62c-40fc-86bb-b5ca341c3d73",
   "metadata": {},
   "source": [
    "### NOTE\n",
    "\n",
    "- pre-processing and post-processing must go within wrapper function\n",
    "- wrapper function executes everytime func call happens\n",
    "- logic in decorator function only executed once when decorated func is defined"
   ]
  },
  {
   "cell_type": "code",
   "execution_count": 37,
   "id": "7d4830e4-4178-48e9-ac6f-d583794d8dbe",
   "metadata": {},
   "outputs": [
    {
     "name": "stdout",
     "output_type": "stream",
     "text": [
      "good morning\n",
      "some email\n",
      "best\n"
     ]
    }
   ],
   "source": [
    "def super_deco(greeting, regards):\n",
    "    print(greeting)\n",
    "    def deco(func):\n",
    "        def wrapper(*args, **kwargs):\n",
    "            result = func(*args, **kwargs)\n",
    "            print(regards)\n",
    "            return result\n",
    "        return wrapper\n",
    "    \n",
    "    \n",
    "    return deco\n",
    "\n",
    "\n",
    "# HOW TO PASS ARGUMENTS TO DECORTOR FUNCTION\n",
    "@super_deco(\"good morning\", \"best\")\n",
    "def email(content):\n",
    "    print(content)\n",
    "\n",
    "          \n",
    "        \n",
    "email(\"some email\")"
   ]
  },
  {
   "cell_type": "code",
   "execution_count": 2,
   "id": "c2ef0637-5656-4165-82a2-ec164ffb0e2f",
   "metadata": {},
   "outputs": [
    {
     "data": {
      "text/plain": [
       "'hello prashant'"
      ]
     },
     "execution_count": 2,
     "metadata": {},
     "output_type": "execute_result"
    }
   ],
   "source": [
    "def greet(func):\n",
    "    def wrapper():\n",
    "        result = \"hello \" + func()\n",
    "        return result\n",
    "    return wrapper\n",
    "   \n",
    "\n",
    "@greet\n",
    "def name():\n",
    "    return \"prashant\"\n",
    "    \n",
    "    \n",
    "name()"
   ]
  },
  {
   "cell_type": "code",
   "execution_count": 5,
   "id": "0836e3a0-938c-4038-9508-d593326def17",
   "metadata": {},
   "outputs": [
    {
     "data": {
      "text/plain": [
       "'hello hello prashant'"
      ]
     },
     "execution_count": 5,
     "metadata": {},
     "output_type": "execute_result"
    }
   ],
   "source": [
    "wrapper_ = greet(name)\n",
    "wrapper_()"
   ]
  },
  {
   "cell_type": "code",
   "execution_count": 4,
   "id": "ff6afd59",
   "metadata": {},
   "outputs": [
    {
     "data": {
      "text/plain": [
       "['_STRUCT_TM_ITEMS',\n",
       " '__doc__',\n",
       " '__loader__',\n",
       " '__name__',\n",
       " '__package__',\n",
       " '__spec__',\n",
       " 'altzone',\n",
       " 'asctime',\n",
       " 'ctime',\n",
       " 'daylight',\n",
       " 'get_clock_info',\n",
       " 'gmtime',\n",
       " 'localtime',\n",
       " 'mktime',\n",
       " 'monotonic',\n",
       " 'monotonic_ns',\n",
       " 'perf_counter',\n",
       " 'perf_counter_ns',\n",
       " 'process_time',\n",
       " 'process_time_ns',\n",
       " 'sleep',\n",
       " 'strftime',\n",
       " 'strptime',\n",
       " 'struct_time',\n",
       " 'thread_time',\n",
       " 'thread_time_ns',\n",
       " 'time',\n",
       " 'time_ns',\n",
       " 'timezone',\n",
       " 'tzname']"
      ]
     },
     "execution_count": 4,
     "metadata": {},
     "output_type": "execute_result"
    }
   ],
   "source": [
    "dir(time)"
   ]
  },
  {
   "cell_type": "code",
   "execution_count": 19,
   "id": "71e5729d",
   "metadata": {},
   "outputs": [
    {
     "data": {
      "text/plain": [
       "491.843"
      ]
     },
     "execution_count": 19,
     "metadata": {},
     "output_type": "execute_result"
    }
   ],
   "source": [
    "time.monotonic()\n"
   ]
  },
  {
   "cell_type": "code",
   "execution_count": 27,
   "id": "c1c3a865",
   "metadata": {},
   "outputs": [
    {
     "ename": "TypeError",
     "evalue": "__init__() takes 8 positional arguments but 9 were given",
     "output_type": "error",
     "traceback": [
      "\u001b[1;31m---------------------------------------------------------------------------\u001b[0m",
      "\u001b[1;31mTypeError\u001b[0m                                 Traceback (most recent call last)",
      "\u001b[1;32m~\\AppData\\Local\\Temp/ipykernel_7980/4124079697.py\u001b[0m in \u001b[0;36m<module>\u001b[1;34m\u001b[0m\n\u001b[0;32m     17\u001b[0m         \u001b[0msuper\u001b[0m\u001b[1;33m(\u001b[0m\u001b[1;33m)\u001b[0m\u001b[1;33m.\u001b[0m\u001b[0m__init__\u001b[0m\u001b[1;33m(\u001b[0m\u001b[0ma\u001b[0m\u001b[1;33m,\u001b[0m\u001b[0mb\u001b[0m\u001b[1;33m,\u001b[0m\u001b[0mc\u001b[0m\u001b[1;33m)\u001b[0m\u001b[1;33m\u001b[0m\u001b[1;33m\u001b[0m\u001b[0m\n\u001b[0;32m     18\u001b[0m \u001b[1;33m\u001b[0m\u001b[0m\n\u001b[1;32m---> 19\u001b[1;33m \u001b[0mobj\u001b[0m\u001b[1;33m=\u001b[0m \u001b[0mchild\u001b[0m\u001b[1;33m(\u001b[0m\u001b[1;36m1\u001b[0m\u001b[1;33m,\u001b[0m\u001b[1;36m2\u001b[0m\u001b[1;33m,\u001b[0m\u001b[1;36m3\u001b[0m\u001b[1;33m,\u001b[0m\u001b[1;36m4\u001b[0m\u001b[1;33m,\u001b[0m\u001b[1;36m8\u001b[0m\u001b[1;33m,\u001b[0m\u001b[1;36m5\u001b[0m\u001b[1;33m,\u001b[0m\u001b[1;36m77\u001b[0m\u001b[1;33m,\u001b[0m\u001b[1;36m7\u001b[0m\u001b[1;33m)\u001b[0m\u001b[1;33m\u001b[0m\u001b[1;33m\u001b[0m\u001b[0m\n\u001b[0m\u001b[0;32m     20\u001b[0m \u001b[0mobj\u001b[0m\u001b[1;33m\u001b[0m\u001b[1;33m\u001b[0m\u001b[0m\n",
      "\u001b[1;31mTypeError\u001b[0m: __init__() takes 8 positional arguments but 9 were given"
     ]
    }
   ],
   "source": [
    "class Parent1:\n",
    "    def __init__(self,x,y,z,p):\n",
    "        self.x=x\n",
    "        self.y=y\n",
    "        self.z=z\n",
    "        self.p=p\n",
    "        \n",
    "class Parent2:\n",
    "    def __init__(self, a,b,c):\n",
    "        self.a=a\n",
    "        self.b=b\n",
    "        self.c=c\n",
    "\n",
    "class child(Parent1,Parent2):\n",
    "    def __init__(self, x,y,z,p,a,b,c):\n",
    "        super().__init__(x,y,z,p)\n",
    "        super().__init__(a,b,c)\n",
    "        \n",
    "obj= child(1,2,3,4,8,5,77,7)\n",
    "obj"
   ]
  },
  {
   "cell_type": "code",
   "execution_count": 34,
   "id": "1fb64a9d",
   "metadata": {},
   "outputs": [
    {
     "data": {
      "text/plain": [
       "['.conda',\n",
       " '.condarc',\n",
       " '.continuum',\n",
       " '.idlerc',\n",
       " '.ipynb_checkpoints',\n",
       " '.ipython',\n",
       " '.jupyter',\n",
       " '.matplotlib',\n",
       " '.ms-ad',\n",
       " 'anaconda3',\n",
       " 'AppData',\n",
       " 'Application Data',\n",
       " 'assignment 1.py',\n",
       " 'assignment 2.py',\n",
       " 'assignment 3.py',\n",
       " 'Assignments velocity',\n",
       " 'basics of functions.ipynb',\n",
       " 'Cookies',\n",
       " 'Downloads',\n",
       " 'exercise',\n",
       " 'Frameworks',\n",
       " 'IntelGraphicsProfiles',\n",
       " 'Local Settings',\n",
       " 'mock.txt',\n",
       " 'Music',\n",
       " 'My Documents',\n",
       " 'My notes velocity',\n",
       " 'NetHood',\n",
       " 'notes mock.ipynb',\n",
       " 'NTUSER.DAT',\n",
       " 'ntuser.dat.LOG1',\n",
       " 'ntuser.dat.LOG2',\n",
       " 'NTUSER.DAT{53b39e88-18c4-11ea-a811-000d3aa4692b}.TM.blf',\n",
       " 'NTUSER.DAT{53b39e88-18c4-11ea-a811-000d3aa4692b}.TMContainer00000000000000000001.regtrans-ms',\n",
       " 'NTUSER.DAT{53b39e88-18c4-11ea-a811-000d3aa4692b}.TMContainer00000000000000000002.regtrans-ms',\n",
       " 'ntuser.ini',\n",
       " 'OneDrive',\n",
       " 'Pictures',\n",
       " 'PrintHood',\n",
       " 'problem20.ipynb',\n",
       " 'PycharmProjects',\n",
       " 'Recent',\n",
       " 'Saved Games',\n",
       " 'Searches',\n",
       " 'SendTo',\n",
       " 'Start Menu',\n",
       " 'Templates',\n",
       " 'untitle.ipynb',\n",
       " 'Untitled Folder',\n",
       " 'Untitled Folder 1',\n",
       " 'Untitled.ipynb',\n",
       " 'Untitled1.ipynb',\n",
       " 'Untitled2.ipynb',\n",
       " 'Untitled3.ipynb',\n",
       " 'Untitled4.ipynb',\n",
       " 'Untitled5.ipynb',\n",
       " 'Untitled6.ipynb',\n",
       " 'Untitled7.ipynb',\n",
       " 'velocity notes',\n",
       " 'Videos',\n",
       " 'yo.txt',\n",
       " 'yog.txt']"
      ]
     },
     "execution_count": 34,
     "metadata": {},
     "output_type": "execute_result"
    }
   ],
   "source": [
    "import os\n",
    "os.listdir(r\"C:\\Users\\Shree\")"
   ]
  },
  {
   "cell_type": "code",
   "execution_count": null,
   "id": "f935026f",
   "metadata": {},
   "outputs": [],
   "source": []
  }
 ],
 "metadata": {
  "kernelspec": {
   "display_name": "Python 3 (ipykernel)",
   "language": "python",
   "name": "python3"
  },
  "language_info": {
   "codemirror_mode": {
    "name": "ipython",
    "version": 3
   },
   "file_extension": ".py",
   "mimetype": "text/x-python",
   "name": "python",
   "nbconvert_exporter": "python",
   "pygments_lexer": "ipython3",
   "version": "3.9.7"
  }
 },
 "nbformat": 4,
 "nbformat_minor": 5
}
