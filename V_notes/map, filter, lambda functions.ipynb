{
 "cells": [
  {
   "cell_type": "markdown",
   "id": "0a7d74c7-89b9-4d77-b0c5-ffd8e336508d",
   "metadata": {},
   "source": [
    "# `map()` function\n",
    "\n",
    "- `map()` function is an example in-built of higher order function\n",
    "\n",
    "- `map()` function takes 2 arguments.\n",
    "- first is argument is `function`\n",
    "- second argument is an `iterable`\n",
    "\n",
    "- object in return from `map()` function is an iterator"
   ]
  },
  {
   "cell_type": "code",
   "execution_count": 3,
   "id": "43884ae2-c89f-4c3d-880f-3b74fbbc09b6",
   "metadata": {},
   "outputs": [
    {
     "name": "stdout",
     "output_type": "stream",
     "text": [
      "[8, 8]\n"
     ]
    }
   ],
   "source": [
    "result = map(len, [\"prashant\", \"velocity\"])\n",
    "\n",
    "\n",
    "output = list(result)\n",
    "print(output)\n",
    "\n",
    "for element in result:\n",
    "    print(element)\n",
    "\n",
    "\n"
   ]
  },
  {
   "cell_type": "code",
   "execution_count": 12,
   "id": "1e87d2bd-3241-45ca-a10f-f0bf0ab0c0f7",
   "metadata": {},
   "outputs": [
    {
     "data": {
      "text/plain": [
       "[1, 4, 9, 16, 25, 36, 49, 64, 81]"
      ]
     },
     "execution_count": 12,
     "metadata": {},
     "output_type": "execute_result"
    }
   ],
   "source": [
    "def square(num):\n",
    "    return num ** 2\n",
    "\n",
    "foo = list(range(1, 10))\n",
    "\n",
    "result = map(square, foo)\n",
    "type(result)  # `result` is an object of class `map`\n",
    "\n",
    "list(result)"
   ]
  },
  {
   "cell_type": "markdown",
   "id": "79220811-5359-45a0-8669-717bde984328",
   "metadata": {},
   "source": [
    "### perform a check if number is `even` or `odd`"
   ]
  },
  {
   "cell_type": "code",
   "execution_count": 11,
   "id": "726a42b2-145f-4492-906d-7b2858731967",
   "metadata": {},
   "outputs": [
    {
     "data": {
      "text/plain": [
       "['even', 'odd', 'even', 'odd', 'even', 'odd', 'even', 'odd', 'even', 'odd']"
      ]
     },
     "execution_count": 11,
     "metadata": {},
     "output_type": "execute_result"
    }
   ],
   "source": [
    "def check_even_odd(num):\n",
    "    if num % 2 == 0:\n",
    "        return \"even\"\n",
    "    return \"odd\"\n",
    "\n",
    "\n",
    "example = list(range(4, 14))\n",
    "\n",
    "obj = map(check_even_odd, example)\n",
    "list(obj)\n",
    "\n"
   ]
  },
  {
   "cell_type": "code",
   "execution_count": 20,
   "id": "f8912c43-1504-4551-a4a4-166042d25361",
   "metadata": {},
   "outputs": [
    {
     "data": {
      "text/plain": [
       "['Best of luck hardik', 'Best of luck dhoni', 'Best of luck sachin']"
      ]
     },
     "execution_count": 20,
     "metadata": {},
     "output_type": "execute_result"
    }
   ],
   "source": [
    "def wish(name):\n",
    "    return f\"Best of luck {name}\"\n",
    "\n",
    "\n",
    "players = (\"hardik\", \"dhoni\", \"sachin\")\n",
    "\n",
    "result = map(wish, players)\n",
    "list(result)"
   ]
  },
  {
   "cell_type": "code",
   "execution_count": 1,
   "id": "dd7e2ffa-fd17-4c34-97b8-6098d17a0485",
   "metadata": {},
   "outputs": [],
   "source": [
    "def apply(func, data):\n",
    "    return func(data)"
   ]
  },
  {
   "cell_type": "code",
   "execution_count": 2,
   "id": "33023180-c775-420f-bdad-9f0f2513b504",
   "metadata": {},
   "outputs": [
    {
     "data": {
      "text/plain": [
       "0"
      ]
     },
     "execution_count": 2,
     "metadata": {},
     "output_type": "execute_result"
    }
   ],
   "source": [
    "apply(len, {})"
   ]
  },
  {
   "cell_type": "markdown",
   "id": "188ead85-2880-4c3f-8292-d6829f689b39",
   "metadata": {},
   "source": [
    "# `filter()` function\n",
    "\n",
    "- `filter()` function takes 2 arguments\n",
    "- first argument is `function`\n",
    "- second argument is `iterable`\n",
    "- `filter()` function is higher order function as well\n",
    "- `filter()` function is similar to `map()` function but the argument function must return boolean value\n",
    "- `filter()` function returns an iterator / iterable \n",
    "\n"
   ]
  },
  {
   "cell_type": "markdown",
   "id": "52800c1e-c2fa-48eb-942c-3a57e6811631",
   "metadata": {},
   "source": [
    "NOTE - \n",
    "\n",
    "`iterator` and `iterable` are the objects on which we apply for loop OR we can type caste such objects into collection data type (tuple, list)"
   ]
  },
  {
   "cell_type": "code",
   "execution_count": 22,
   "id": "bbc75582-75d4-4817-bc3b-1fcd211482a6",
   "metadata": {},
   "outputs": [
    {
     "name": "stdout",
     "output_type": "stream",
     "text": [
      "[2, 4, 6, 8, 10]\n"
     ]
    }
   ],
   "source": [
    "def check_even(item):\n",
    "    \"\"\"returns True if number is even number\"\"\"\n",
    "    \n",
    "    return item % 2 == 0\n",
    "\n",
    "\n",
    "\n",
    "nums = list(range(1, 11))\n",
    "evens = []\n",
    "\n",
    "for num in nums:\n",
    "    if check_even(num):\n",
    "        evens.append(num)\n",
    "        \n",
    "print(evens)"
   ]
  },
  {
   "cell_type": "code",
   "execution_count": 25,
   "id": "876f1c07-c047-4ad8-a8e5-82aa2cf35a2e",
   "metadata": {},
   "outputs": [
    {
     "data": {
      "text/plain": [
       "[2, 4, 6, 8, 10]"
      ]
     },
     "execution_count": 25,
     "metadata": {},
     "output_type": "execute_result"
    }
   ],
   "source": [
    "\n",
    "nums = list(range(1, 11))\n",
    "\n",
    "result = filter(check_even, nums)\n",
    "type(result)  # `result` is an object of class `filter`\n",
    "\n",
    "list(result)"
   ]
  },
  {
   "cell_type": "code",
   "execution_count": 13,
   "id": "6d9e9af3-f6e7-4980-840a-23862a74b6d4",
   "metadata": {},
   "outputs": [
    {
     "data": {
      "text/plain": [
       "['Pune', 'Patna', 'Panji', 'Pandharpur']"
      ]
     },
     "execution_count": 13,
     "metadata": {},
     "output_type": "execute_result"
    }
   ],
   "source": [
    "example = [\"Pune\", \"Patna\", \"Panji\", \"Mumbai\", \"Nashik\", \"Pandharpur\"]\n",
    "\n",
    "def city_with_p(city_name):\n",
    "    return city_name.startswith(\"P\")\n",
    "\n",
    "\n",
    "list(filter(city_with_p, example))"
   ]
  },
  {
   "cell_type": "code",
   "execution_count": 27,
   "id": "82b702a7-65aa-45ac-bd2d-eb4bef9aac05",
   "metadata": {},
   "outputs": [
    {
     "data": {
      "text/plain": [
       "['prashant', 'rahul', 'sachin']"
      ]
     },
     "execution_count": 27,
     "metadata": {},
     "output_type": "execute_result"
    }
   ],
   "source": [
    "alphas = [\"prashant\", \"xxxxx\", \"ppppp\", \"rahul\", \"wwwwww\", \"sachin\"]\n",
    "\n",
    "\n",
    "def contains_vowels(name):\n",
    "    vowels = [\"a\", \"e\", \"i\", \"o\", \"u\"]\n",
    "    flag = False\n",
    "    \n",
    "    for char in name:\n",
    "        if char in vowels:\n",
    "            flag = True\n",
    "            break\n",
    "            \n",
    "    return flag\n",
    "\n",
    "\n",
    "list(filter(contains_vowels, alphas))\n",
    "        "
   ]
  },
  {
   "cell_type": "code",
   "execution_count": 30,
   "id": "1f9466c7-d96f-4cd0-af65-b106ffc58319",
   "metadata": {},
   "outputs": [
    {
     "name": "stdout",
     "output_type": "stream",
     "text": [
      "[1, 4, 9, 16, 25, 36, 49, 64, 81, 100]\n",
      "[1, 4, 9, 16, 25, 36, 49, 64, 81, 100]\n"
     ]
    }
   ],
   "source": [
    "# map\n",
    "\n",
    "\n",
    "result_lc = [x**2 for x in range(1, 11)]\n",
    "print(result_lc)\n",
    "\n",
    "def square(num):\n",
    "    return num ** 2\n",
    "    \n",
    "\n",
    "result_map = list(map(square, range(1, 11)))\n",
    "print(result_map)"
   ]
  },
  {
   "cell_type": "code",
   "execution_count": null,
   "id": "186d6361-1f6c-46ce-ae62-b92d20007b86",
   "metadata": {},
   "outputs": [],
   "source": [
    "def <function>(<params>):\n",
    "    <body>"
   ]
  },
  {
   "cell_type": "markdown",
   "id": "26611e5c-d1c6-4f01-8140-be3a6a41aeb5",
   "metadata": {},
   "source": [
    "# Lambda functions\n",
    "\n",
    "\n",
    "- These are also known as `in-line` functions\n",
    "- aka `anonymous` function\n",
    "- aka `function without name`\n",
    "- aka `single line function`\n",
    "\n",
    "\n",
    "use cases\n",
    "\n",
    "- We define lambda functions for one time requirements (no repeated use)"
   ]
  },
  {
   "cell_type": "markdown",
   "id": "5508e449-d79a-4a66-9e66-9a0f84cfc91a",
   "metadata": {},
   "source": [
    "syntax \n",
    "\n",
    "```\n",
    "\n",
    "lambda <params>: <expression>\n",
    "\n",
    "```"
   ]
  },
  {
   "cell_type": "code",
   "execution_count": 34,
   "id": "5a5f359b-537d-4940-8a92-d23a9a6bf976",
   "metadata": {},
   "outputs": [
    {
     "data": {
      "text/plain": [
       "60"
      ]
     },
     "execution_count": 34,
     "metadata": {},
     "output_type": "execute_result"
    }
   ],
   "source": [
    "sum_ = lambda x, y: x + y\n",
    "\n",
    "sum_(20, 40)"
   ]
  },
  {
   "cell_type": "code",
   "execution_count": 48,
   "id": "58ef7160-4dd1-44ce-a81f-340ad579e487",
   "metadata": {},
   "outputs": [
    {
     "data": {
      "text/plain": [
       "90"
      ]
     },
     "execution_count": 48,
     "metadata": {},
     "output_type": "execute_result"
    }
   ],
   "source": [
    "(lambda x, y: x + y)(40, 50)"
   ]
  },
  {
   "cell_type": "code",
   "execution_count": 32,
   "id": "397ea83a-d4a4-494b-a7ef-13575cd24088",
   "metadata": {},
   "outputs": [
    {
     "data": {
      "text/plain": [
       "function"
      ]
     },
     "execution_count": 32,
     "metadata": {},
     "output_type": "execute_result"
    }
   ],
   "source": [
    "type(lambda x, y: x + y)  "
   ]
  },
  {
   "cell_type": "code",
   "execution_count": 35,
   "id": "89cfeb6a-daf5-411e-a3a2-57314ffe85d3",
   "metadata": {},
   "outputs": [
    {
     "data": {
      "text/plain": [
       "<function __main__.<lambda>(x)>"
      ]
     },
     "execution_count": 35,
     "metadata": {},
     "output_type": "execute_result"
    }
   ],
   "source": [
    "lambda x: x ** 2"
   ]
  },
  {
   "cell_type": "code",
   "execution_count": 37,
   "id": "9d3fd083-801d-4938-884b-37997d7bc58e",
   "metadata": {},
   "outputs": [
    {
     "data": {
      "text/plain": [
       "[1, 4, 9, 16, 25, 36, 49, 64, 81, 100]"
      ]
     },
     "execution_count": 37,
     "metadata": {},
     "output_type": "execute_result"
    }
   ],
   "source": [
    "result = map(lambda x: x ** 2, range(1, 11))\n",
    "list(result)"
   ]
  },
  {
   "cell_type": "code",
   "execution_count": 1,
   "id": "45b5cd5e-c16e-4606-86b4-d32d626c5b76",
   "metadata": {},
   "outputs": [],
   "source": [
    "even_odd = lambda x: \"even\" if x % 2 == 0 else \"odd\""
   ]
  },
  {
   "cell_type": "code",
   "execution_count": 42,
   "id": "0c5c5743-44ba-4319-ada7-38d208e70e75",
   "metadata": {},
   "outputs": [
    {
     "data": {
      "text/plain": [
       "['odd', 'even', 'odd', 'even', 'odd', 'even', 'odd', 'even', 'odd', 'even']"
      ]
     },
     "execution_count": 42,
     "metadata": {},
     "output_type": "execute_result"
    }
   ],
   "source": [
    "res = map(\n",
    "    even_odd,\n",
    "    range(1, 11)\n",
    ")\n",
    "list(res)"
   ]
  },
  {
   "cell_type": "code",
   "execution_count": 43,
   "id": "e8121e70-62bf-4bcb-ad11-a0efe01f7034",
   "metadata": {},
   "outputs": [],
   "source": [
    "func = lambda a, b, c: a + b + c"
   ]
  },
  {
   "cell_type": "code",
   "execution_count": 44,
   "id": "8adcd120-62b6-497b-b5cc-e188e4367f9a",
   "metadata": {},
   "outputs": [
    {
     "data": {
      "text/plain": [
       "6"
      ]
     },
     "execution_count": 44,
     "metadata": {},
     "output_type": "execute_result"
    }
   ],
   "source": [
    "func(1, 2, 3)"
   ]
  },
  {
   "cell_type": "code",
   "execution_count": 45,
   "id": "5fa28a97-7259-424a-b15b-ba2df3058fbc",
   "metadata": {},
   "outputs": [],
   "source": [
    "even_check = lambda x: True if x % 2 == 0 else False"
   ]
  },
  {
   "cell_type": "code",
   "execution_count": 46,
   "id": "4baf5d8c-477d-4f90-8351-b97fb9bf3490",
   "metadata": {},
   "outputs": [
    {
     "data": {
      "text/plain": [
       "[2, 4, 6, 8, 10]"
      ]
     },
     "execution_count": 46,
     "metadata": {},
     "output_type": "execute_result"
    }
   ],
   "source": [
    "res = filter(even_check, range(1, 11))\n",
    "list(res)"
   ]
  },
  {
   "cell_type": "markdown",
   "id": "0f63891f-aaa0-42b0-ac67-9e6f548f1861",
   "metadata": {},
   "source": [
    "## lambda function in list comprehension"
   ]
  },
  {
   "cell_type": "code",
   "execution_count": 52,
   "id": "698f41bf-334a-42ac-bfc5-a9b7be45d4e7",
   "metadata": {},
   "outputs": [
    {
     "data": {
      "text/plain": [
       "[1, 8, 27, 64, 125, 216, 343, 512, 729, 1000]"
      ]
     },
     "execution_count": 52,
     "metadata": {},
     "output_type": "execute_result"
    }
   ],
   "source": [
    "cube = lambda x: x**3\n",
    "\n",
    "[cube(x) for x in range(1, 11)]"
   ]
  }
 ],
 "metadata": {
  "kernelspec": {
   "display_name": "Python 3 (ipykernel)",
   "language": "python",
   "name": "python3"
  },
  "language_info": {
   "codemirror_mode": {
    "name": "ipython",
    "version": 3
   },
   "file_extension": ".py",
   "mimetype": "text/x-python",
   "name": "python",
   "nbconvert_exporter": "python",
   "pygments_lexer": "ipython3",
   "version": "3.11.0"
  }
 },
 "nbformat": 4,
 "nbformat_minor": 5
}
