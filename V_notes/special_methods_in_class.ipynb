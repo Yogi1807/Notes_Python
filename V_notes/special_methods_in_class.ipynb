{
 "cells": [
  {
   "cell_type": "markdown",
   "id": "79d17d69-a4ea-4f2f-b1f4-c899032d9f29",
   "metadata": {},
   "source": [
    "## special method `repr`"
   ]
  },
  {
   "cell_type": "code",
   "execution_count": 20,
   "id": "68a77a65-1874-42f3-9a58-9b643cb7ffa5",
   "metadata": {},
   "outputs": [],
   "source": [
    "class Point:\n",
    "    \n",
    "    description = \"represents co-ordinates of point\"\n",
    "    \n",
    "    def __init__(self, x, y):\n",
    "        self.x = x\n",
    "        self.y = y\n",
    "        \n",
    "    # method over-riding\n",
    "    def __repr__(self):\n",
    "        return f\"Point :: ({self.x}, {self.y})\"\n",
    "        \n",
    "    "
   ]
  },
  {
   "cell_type": "code",
   "execution_count": 35,
   "id": "e45f2cd1-68da-4b64-ab26-53cdffb0bdc0",
   "metadata": {},
   "outputs": [
    {
     "data": {
      "text/plain": [
       "'Point :: (10, 20)'"
      ]
     },
     "execution_count": 35,
     "metadata": {},
     "output_type": "execute_result"
    }
   ],
   "source": [
    "p2 = Point(10, 20)\n",
    "repr(p2)"
   ]
  },
  {
   "cell_type": "markdown",
   "id": "28979bd9-391e-4db4-965a-9eb14d3c9f75",
   "metadata": {},
   "source": [
    "# in-built `repr()`\n",
    "\n",
    "- `repr()` funtion returns value returned by `obj.__repr__()`"
   ]
  },
  {
   "cell_type": "code",
   "execution_count": 21,
   "id": "8d833c49-2bd2-4d03-b938-a11236e5c570",
   "metadata": {},
   "outputs": [
    {
     "data": {
      "text/plain": [
       "Point :: (10, 20)"
      ]
     },
     "execution_count": 21,
     "metadata": {},
     "output_type": "execute_result"
    }
   ],
   "source": [
    "p1 = Point(10, 20)\n",
    "\n",
    "p1"
   ]
  },
  {
   "cell_type": "code",
   "execution_count": 1,
   "id": "4ea97ff0-e7ae-47e8-b5e4-91cecbe14d9e",
   "metadata": {},
   "outputs": [],
   "source": [
    "class Student(object):\n",
    "    description = \"student data of XYZ school\"\n",
    "    \n",
    "    def __init__(self, name, marks, subject):\n",
    "        self.name_ = name\n",
    "        self.marks_ = marks\n",
    "        self.subject_ = subject\n",
    "        \n",
    "    # method overriding\n",
    "    def __repr__(self):\n",
    "        return f\"{self.name_} :: {self.subject_} ({self.marks_})\"\n",
    "        "
   ]
  },
  {
   "cell_type": "code",
   "execution_count": 4,
   "id": "6dbe337c-0751-4341-b51c-183665d67e1c",
   "metadata": {},
   "outputs": [
    {
     "data": {
      "text/plain": [
       "prashant :: maths (100)"
      ]
     },
     "execution_count": 4,
     "metadata": {},
     "output_type": "execute_result"
    }
   ],
   "source": [
    "prash = Student(\"prashant\", 100, \"maths\")\n",
    "\n",
    "prash"
   ]
  },
  {
   "cell_type": "markdown",
   "id": "fcca742c-c56d-45b5-b356-2c677428a3ff",
   "metadata": {},
   "source": [
    "## inheritance\n",
    "\n",
    "\n",
    "- parents class :: base-class,  super-class\n",
    "- child class :: derived-class, sub-class, \n"
   ]
  },
  {
   "cell_type": "markdown",
   "id": "2b6a97e7-6014-4cc3-8512-6980da483f6d",
   "metadata": {},
   "source": [
    "## syntax\n",
    "\n",
    "```\n",
    "\n",
    "class Parent-class:\n",
    "    def __init__(self, param1):\n",
    "        self.parent_attr1 = param1\n",
    "        \n",
    "\n",
    "    \n",
    "class Child-class(Parent-class):\n",
    "    def __init__(self, param1, param2):\n",
    "        super().__init__(param1)\n",
    "        self.child_attr2 = param2\n",
    "\n",
    "```"
   ]
  },
  {
   "cell_type": "code",
   "execution_count": null,
   "id": "37af4285-9284-4b73-a692-8ff18963e45c",
   "metadata": {},
   "outputs": [],
   "source": [
    "class CustomList(list):\n",
    "    \n",
    "    def append_two(self, num1, num2):\n",
    "        self.append(num1)\n",
    "        self.append(num2)"
   ]
  },
  {
   "cell_type": "code",
   "execution_count": null,
   "id": "72de5130-a740-4fb7-a8be-b0ae903c702b",
   "metadata": {},
   "outputs": [],
   "source": [
    "obj = CustomList()\n",
    "\n",
    "obj.append_two(1, 2)"
   ]
  },
  {
   "cell_type": "code",
   "execution_count": null,
   "id": "ccef3e27-22bf-4e45-a62e-dc7d40086105",
   "metadata": {},
   "outputs": [],
   "source": [
    "obj"
   ]
  },
  {
   "cell_type": "code",
   "execution_count": null,
   "id": "1f87bb81-9579-49fd-8fde-f0379c10df49",
   "metadata": {},
   "outputs": [],
   "source": [
    "dir(obj)"
   ]
  },
  {
   "cell_type": "markdown",
   "id": "f320890e-b7f5-4218-b587-95ab33bab098",
   "metadata": {},
   "source": [
    "## inheritance - example 2\n",
    "\n",
    "\n",
    "- In below example, all child class methods are implementing `get_details()` method.\n",
    "- If you comment out `get_details()` from child class parent's `get_details()` method will be called.\n",
    "\n",
    "- when function signature of child class and parent class is matching, we call it method overriding.\n"
   ]
  },
  {
   "cell_type": "code",
   "execution_count": 5,
   "id": "8e0c0313-87bf-4b26-b68e-e7fa13f67c10",
   "metadata": {},
   "outputs": [
    {
     "data": {
      "text/plain": [
       "'person name is - rahul'"
      ]
     },
     "execution_count": 5,
     "metadata": {},
     "output_type": "execute_result"
    }
   ],
   "source": [
    "class Person(object):\n",
    "    \"\"\"\n",
    "    layout for defining a person\n",
    "    \"\"\"\n",
    "    \n",
    "    def __init__(self, name):\n",
    "        self.name = name\n",
    "        \n",
    "    def get_details(self):  # method attribute (instance method)\n",
    "        return f\"person name is - {self.name}\"\n",
    "    \n",
    "    \n",
    "    \n",
    "Person(\"prashant\").get_details()\n",
    "\n",
    "p1 = Person(\"rahul\")\n",
    "\n",
    "\n",
    "# `self` represents object\n",
    "Person.get_details(p1)"
   ]
  },
  {
   "cell_type": "code",
   "execution_count": 7,
   "id": "d881e14f-a01f-4b16-994e-945ab4b0386b",
   "metadata": {},
   "outputs": [
    {
     "data": {
      "text/plain": [
       "'Teacher class :: rahul (data science)'"
      ]
     },
     "execution_count": 7,
     "metadata": {},
     "output_type": "execute_result"
    }
   ],
   "source": [
    "class Person(object):\n",
    "    \"\"\"\n",
    "    layout for defining a person\n",
    "    \"\"\"\n",
    "    \n",
    "    def __init__(self, name, gender):\n",
    "        self.name = name\n",
    "        self.gender = gender\n",
    "        \n",
    "    def get_details(self):  # method attribute (instance method)\n",
    "        return f\"person name is - {self.name}\"\n",
    "    \n",
    "    \n",
    "\n",
    "class Student(Person):\n",
    "    \"\"\"\n",
    "    `Student` is inheriting properties from its parent class `Person`\n",
    "    \"\"\"\n",
    "    \n",
    "    def __init__(self, name, gender, branch, year):\n",
    "        super().__init__(name, gender)\n",
    "        self.name_ = name\n",
    "        self.branch_ = branch\n",
    "        self.year_ = year\n",
    "        \n",
    "    def get_details(self):\n",
    "        statement = f\"{self.name_} studies in {self.branch_}, year :: {self.year_}\"\n",
    "        return statement\n",
    "\n",
    "    \n",
    "    \n",
    "class Teacher(Person):\n",
    "    \"\"\"\n",
    "    \"\"\"\n",
    "    \n",
    "    def __init__(self, name, gender, subject):\n",
    "        super().__init__(name, gender)\n",
    "        self.subject = subject\n",
    "    \n",
    "    \n",
    "    def get_details(self):\n",
    "         return f\"Teacher class :: {self.name} ({self.subject})\"\n",
    "        \n",
    "\n",
    "        \n",
    "student1 = Student(\"prashant\", \"male\", \"IT\", 2015)\n",
    "student1.get_details()\n",
    "\n",
    "teacher1 = Teacher(\"rahul\", \"male\", \"data science\")\n",
    "teacher1.get_details()"
   ]
  },
  {
   "cell_type": "markdown",
   "id": "8c4c8fd2-91e0-4bb3-97c2-e9ef00af8a28",
   "metadata": {},
   "source": [
    "## inheritance - example 3\n",
    "\n",
    "- multi-level inheritance"
   ]
  },
  {
   "cell_type": "code",
   "execution_count": 1,
   "id": "ff710554-b9e0-426a-a325-7cb47fcd683c",
   "metadata": {},
   "outputs": [
    {
     "data": {
      "text/plain": [
       "\"Sedan class :: ('Suzuki', 5, 20)\""
      ]
     },
     "execution_count": 1,
     "metadata": {},
     "output_type": "execute_result"
    }
   ],
   "source": [
    "class Vehicle(object):\n",
    "    def __init__(self, capacity):\n",
    "        self.capacity = capacity\n",
    "        \n",
    "    def get_details(self):\n",
    "        return f\"Vehicle class :: {self.capacity}\"\n",
    "    \n",
    "    \n",
    "    \n",
    "class Cars(Vehicle):\n",
    "    def __init__(self, capacity, brand):\n",
    "        super().__init__(5)\n",
    "        self.brand = brand\n",
    "        \n",
    "    def get_details(self):\n",
    "        return f\"Car class :: {self.brand, self.capacity}\"\n",
    "    \n",
    "    \n",
    "\n",
    "class Sedan(Cars):\n",
    "    def __init__(self, capacity, brand, mileage):\n",
    "        super().__init__(capacity, brand)\n",
    "        self.mileage = mileage\n",
    "        \n",
    "    def get_details(self):\n",
    "        return f\"Sedan class :: {self.brand, self.capacity, self.mileage}\"\n",
    "    \n",
    "    \n",
    "\n",
    "swift_dezire = Sedan(4, \"Suzuki\", 20)\n",
    "swift_dezire.get_details()"
   ]
  },
  {
   "cell_type": "markdown",
   "id": "a509484a-9522-46e1-8011-253ecb441d25",
   "metadata": {},
   "source": [
    "# `del` keyword\n"
   ]
  },
  {
   "cell_type": "code",
   "execution_count": 28,
   "id": "d4a21dd4-b9ed-44cc-8eb8-1d5f08db7c23",
   "metadata": {},
   "outputs": [
    {
     "ename": "NameError",
     "evalue": "name 'foo' is not defined",
     "output_type": "error",
     "traceback": [
      "\u001b[0;31m---------------------------------------------------------------------------\u001b[0m",
      "\u001b[0;31mNameError\u001b[0m                                 Traceback (most recent call last)",
      "Cell \u001b[0;32mIn [28], line 8\u001b[0m\n\u001b[1;32m      3\u001b[0m \u001b[38;5;28mtype\u001b[39m(foo)  \u001b[38;5;66;03m# `foo` is an object of class `str` \u001b[39;00m\n\u001b[1;32m      6\u001b[0m \u001b[38;5;28;01mdel\u001b[39;00m foo\n\u001b[0;32m----> 8\u001b[0m \u001b[43mfoo\u001b[49m\n",
      "\u001b[0;31mNameError\u001b[0m: name 'foo' is not defined"
     ]
    }
   ],
   "source": [
    "foo = \"prashant\"\n",
    "\n",
    "type(foo)  # `foo` is an object of class `str` \n",
    "\n",
    "\n",
    "del foo  # destroy\n",
    "\n",
    "foo"
   ]
  },
  {
   "cell_type": "code",
   "execution_count": 30,
   "id": "33e1c7c6-fd3f-4d6e-956f-ad08861cc60e",
   "metadata": {},
   "outputs": [
    {
     "ename": "NameError",
     "evalue": "name 'obj' is not defined",
     "output_type": "error",
     "traceback": [
      "\u001b[0;31m---------------------------------------------------------------------------\u001b[0m",
      "\u001b[0;31mNameError\u001b[0m                                 Traceback (most recent call last)",
      "Cell \u001b[0;32mIn [30], line 11\u001b[0m\n\u001b[1;32m      7\u001b[0m \u001b[38;5;28mtype\u001b[39m(obj)  \u001b[38;5;66;03m# `obj` is an object of class `simple`\u001b[39;00m\n\u001b[1;32m      9\u001b[0m \u001b[38;5;28;01mdel\u001b[39;00m obj\n\u001b[0;32m---> 11\u001b[0m \u001b[43mobj\u001b[49m\n",
      "\u001b[0;31mNameError\u001b[0m: name 'obj' is not defined"
     ]
    }
   ],
   "source": [
    "class Simple:\n",
    "    pass\n",
    "\n",
    "\n",
    "obj = Simple()\n",
    "\n",
    "type(obj)  # `obj` is an object of class `simple`\n",
    "\n",
    "del obj\n",
    "\n",
    "obj"
   ]
  },
  {
   "cell_type": "code",
   "execution_count": null,
   "id": "5b6918d2-121d-49ee-a9e9-a0cf4ed20d6a",
   "metadata": {},
   "outputs": [],
   "source": []
  }
 ],
 "metadata": {
  "kernelspec": {
   "display_name": "Python 3 (ipykernel)",
   "language": "python",
   "name": "python3"
  },
  "language_info": {
   "codemirror_mode": {
    "name": "ipython",
    "version": 3
   },
   "file_extension": ".py",
   "mimetype": "text/x-python",
   "name": "python",
   "nbconvert_exporter": "python",
   "pygments_lexer": "ipython3",
   "version": "3.9.7"
  }
 },
 "nbformat": 4,
 "nbformat_minor": 5
}
