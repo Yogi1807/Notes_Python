{
 "cells": [
  {
   "cell_type": "code",
   "execution_count": 1,
   "id": "716bd22a-a66d-4ec6-bf9c-a6c1ea13b361",
   "metadata": {},
   "outputs": [
    {
     "data": {
      "text/plain": [
       "100"
      ]
     },
     "execution_count": 1,
     "metadata": {},
     "output_type": "execute_result"
    }
   ],
   "source": [
    "def high(func, value):     # Higher-order function\n",
    "    return func(value)     # func = square, value = 10 => square(10)\n",
    "\n",
    "\n",
    "def square(num):           # Normal function\n",
    "    return num ** 2\n",
    "\n",
    "\n",
    "result = high(square, 10)          # Function call \n",
    "result"
   ]
  },
  {
   "cell_type": "code",
   "execution_count": 2,
   "id": "3124dddc-c9ec-461b-9e95-e54410a67a30",
   "metadata": {},
   "outputs": [
    {
     "name": "stdout",
     "output_type": "stream",
     "text": [
      "Good morning\n",
      "\n",
      "daily notes have been updated\n",
      "\n",
      "Best regards\n",
      "Prashant\n"
     ]
    }
   ],
   "source": [
    "def make_it_email(greeting, salutation):\n",
    "    def internal(content):\n",
    "        email = greeting + \"\\n\\n\" + content + \"\\n\\n\" + salutation\n",
    "        return email\n",
    "    return internal\n",
    "\n",
    "\n",
    "morning_mailer = make_it_email(\"Good morning\", \"Best regards\\nPrashant\")\n",
    "result = morning_mailer(\"daily notes have been updated\")\n",
    "print(result)"
   ]
  },
  {
   "cell_type": "code",
   "execution_count": null,
   "id": "5b098f60-f541-40ac-845d-18fe5253fd86",
   "metadata": {},
   "outputs": [],
   "source": [
    "def internal(content):\n",
    "    email = greeting + \"\\n\\n\" + content + \"\\n\\n\" + salutation\n",
    "    return email\n",
    "\n"
   ]
  },
  {
   "cell_type": "markdown",
   "id": "ac5a78cf-1ce7-46f8-9845-33a953ddc279",
   "metadata": {},
   "source": [
    "### Decorators\n",
    "\n",
    "- decorator is an higher order function \n",
    "- decorator is used to change behaviour of an existing function\n",
    "- decorator function is used to do some kind of pre-processing and post-processing"
   ]
  },
  {
   "cell_type": "markdown",
   "id": "2eff7390-6c02-4c5d-93ec-224e87bee246",
   "metadata": {},
   "source": [
    "### SYNTAX"
   ]
  },
  {
   "cell_type": "code",
   "execution_count": null,
   "id": "0ab495c4-3d22-444a-b6f3-43e56216288b",
   "metadata": {},
   "outputs": [],
   "source": [
    "def my_decorator(func):       #  <- decorator function\n",
    "    def wrapper(num1, num2):\n",
    "        result = func(num1, num2)\n",
    "        return result\n",
    "    return wrapper"
   ]
  },
  {
   "cell_type": "code",
   "execution_count": 4,
   "id": "43179303-8212-43ff-9761-bb8a244d437c",
   "metadata": {},
   "outputs": [
    {
     "name": "stdout",
     "output_type": "stream",
     "text": [
      "Hello\n",
      "today's session is at 9 PM\n",
      "Thanks\n",
      "\n",
      "\n",
      "END OF EMAIL\n"
     ]
    }
   ],
   "source": [
    "def make_it_email(func):       # <-- decorator function\n",
    "    def email_wrapper(greeting, regards):    # <-- wrapper function\n",
    "        \n",
    "        greeting = \"Hello\"\n",
    "        regards = \"Thanks\"\n",
    "        # before func execution LOGIC\n",
    "        result = func(greeting, regards)\n",
    "        \n",
    "        print(\"\\n\\nEND OF EMAIL\")\n",
    "        # after func execution LOGIC\n",
    "        \n",
    "        return result\n",
    "    return email_wrapper\n",
    "\n",
    "\n",
    "@make_it_email    # <-- decoration\n",
    "def sample_email(greeting, regards):    # <-- decorated function\n",
    "    print(greeting)\n",
    "    print(\"today's session is at 9 PM\")\n",
    "    print(regards)\n",
    "    \n",
    "    \n",
    "sample_email(\"Good morning\", \"Best luck\")"
   ]
  },
  {
   "cell_type": "code",
   "execution_count": 13,
   "id": "d49130d7-f749-4d68-b659-487bca759fba",
   "metadata": {},
   "outputs": [
    {
     "name": "stdout",
     "output_type": "stream",
     "text": [
      "BOARDS EXAM\n",
      "TOTAL MARKS - 90\n",
      "PASS\n"
     ]
    }
   ],
   "source": [
    "def mydecorator(func_):    #  decorator function\n",
    "    def wrapper(marks_):\n",
    "        \n",
    "        print(\"BOARDS EXAM\")    # pre-processing logic\n",
    "        \n",
    "        result = func_(marks_)  # actual func call\n",
    "        \n",
    "        if marks_ > 40:        # post-processing logic\n",
    "            print(\"PASS\")\n",
    "        else:\n",
    "            print(\"FAIL\")\n",
    "    \n",
    "    return wrapper   # decorator function always returns wrapper func\n",
    "    \n",
    "        \n",
    "\n",
    "@mydecorator\n",
    "def get_results(marks):\n",
    "    print(f\"TOTAL MARKS - {marks}\")\n",
    "\n",
    "\n",
    "\n",
    "get_results(90)\n"
   ]
  },
  {
   "cell_type": "code",
   "execution_count": 28,
   "id": "87eeab98-07e4-45ff-9b00-cced941473c8",
   "metadata": {},
   "outputs": [
    {
     "name": "stdout",
     "output_type": "stream",
     "text": [
      "30\n"
     ]
    }
   ],
   "source": [
    "def process(func):\n",
    "    def wrapper(num1, num2):\n",
    "        # pre-processing\n",
    "        func(num1, num2)\n",
    "        # post-processing\n",
    "        \n",
    "    return wrapper \n",
    "\n",
    "\n",
    "@process\n",
    "def add(a, b):\n",
    "    result = a + b\n",
    "    print(result)\n",
    "\n",
    "\n",
    "add(10, 20)\n"
   ]
  },
  {
   "cell_type": "code",
   "execution_count": 19,
   "id": "df1ae555-0c8e-40d7-9b6a-ff101b2e24c3",
   "metadata": {},
   "outputs": [
    {
     "name": "stdout",
     "output_type": "stream",
     "text": [
      "30\n"
     ]
    }
   ],
   "source": [
    "process(add)(10, 20)"
   ]
  },
  {
   "cell_type": "code",
   "execution_count": 21,
   "id": "e52ced31-5097-42e6-8a37-98ce9fab5cc5",
   "metadata": {},
   "outputs": [
    {
     "name": "stdout",
     "output_type": "stream",
     "text": [
      "190\n"
     ]
    }
   ],
   "source": [
    "wrapper_func = process(add)\n",
    "wrapper_func(90, 100)"
   ]
  },
  {
   "cell_type": "markdown",
   "id": "e63fae7f-8288-4561-828b-431b37c31d05",
   "metadata": {},
   "source": [
    "### why do we use decorator???\n",
    "\n",
    "\n",
    "use case\n",
    "- authentication (mysql)"
   ]
  },
  {
   "cell_type": "code",
   "execution_count": 33,
   "id": "3920fe32-dc25-4c24-b093-4642c429ad4c",
   "metadata": {},
   "outputs": [
    {
     "ename": "TypeError",
     "evalue": "authenticate.<locals>.wrapper() takes 2 positional arguments but 3 were given",
     "output_type": "error",
     "traceback": [
      "\u001b[0;31m---------------------------------------------------------------------------\u001b[0m",
      "\u001b[0;31mTypeError\u001b[0m                                 Traceback (most recent call last)",
      "Cell \u001b[0;32mIn [33], line 31\u001b[0m\n\u001b[1;32m     25\u001b[0m \u001b[38;5;129m@authenticate\u001b[39m\n\u001b[1;32m     26\u001b[0m \u001b[38;5;28;01mdef\u001b[39;00m \u001b[38;5;21mbalance_check\u001b[39m(account, time, date, transfer):\n\u001b[1;32m     27\u001b[0m     \u001b[38;5;28;01mreturn\u001b[39;00m \u001b[38;5;28;01mNone\u001b[39;00m\n\u001b[0;32m---> 31\u001b[0m \u001b[43mwithdrawl\u001b[49m\u001b[43m(\u001b[49m\u001b[38;5;241;43m10000\u001b[39;49m\u001b[43m,\u001b[49m\u001b[43m \u001b[49m\u001b[38;5;241;43m100\u001b[39;49m\u001b[43m,\u001b[49m\u001b[43m \u001b[49m\u001b[38;5;124;43m\"\u001b[39;49m\u001b[38;5;124;43mprashant\u001b[39;49m\u001b[38;5;124;43m\"\u001b[39;49m\u001b[43m)\u001b[49m\n",
      "\u001b[0;31mTypeError\u001b[0m: authenticate.<locals>.wrapper() takes 2 positional arguments but 3 were given"
     ]
    }
   ],
   "source": [
    "def authenticate(func):\n",
    "    def wrapper(bal_, amount):\n",
    "        # pre-process\n",
    "        print(\"DB chack for use is successful\")\n",
    "        result = func(bal_, amount)\n",
    "        print(f\"remaining balance is :: {result}\")\n",
    "        return result\n",
    "    return wrapper\n",
    "\n",
    "\n",
    "@authenticate\n",
    "def withdrawl(balance, amt):\n",
    "    balance = balance - amt\n",
    "    print(f\"withdrawl of {amt} is done\")\n",
    "    return balance\n",
    "\n",
    "\n",
    "@authenticate\n",
    "def deposite(balance, amt, account):\n",
    "    balance = balance - amt\n",
    "    print(f\"withdrawl of {amt} is done\")\n",
    "    return balance\n",
    "\n",
    "\n",
    "@authenticate\n",
    "def balance_check(account, time, date, transfer):\n",
    "    return None\n",
    "\n",
    "\n",
    "\n",
    "withdrawl(10000, 100, \"prashant\")"
   ]
  },
  {
   "cell_type": "code",
   "execution_count": 2,
   "id": "43cb3d61-62b3-4f36-807a-d7683efb271a",
   "metadata": {},
   "outputs": [
    {
     "name": "stdout",
     "output_type": "stream",
     "text": [
      "DB chack for use is successful\n",
      "withdrawl of 100 is done\n",
      "remaining balance is :: 9900\n",
      "DB chack for use is successful\n",
      "withdrawl of 30 is done\n",
      "remaining balance is :: -20\n",
      "DB chack for use is successful\n",
      "remaining balance is :: None\n"
     ]
    }
   ],
   "source": [
    "def authenticate(func):\n",
    "    def wrapper(*args, **kwargs):\n",
    "        # pre-process\n",
    "        print(\"DB chack for use is successful\")\n",
    "        result = func(*args, **kwargs)\n",
    "        print(f\"remaining balance is :: {result}\")\n",
    "        return result\n",
    "    return wrapper\n",
    "\n",
    "\n",
    "@authenticate\n",
    "def withdrawl(balance, amt):\n",
    "    balance = balance - amt\n",
    "    print(f\"withdrawl of {amt} is done\")\n",
    "    return balance\n",
    "\n",
    "\n",
    "@authenticate\n",
    "def deposite(balance, amt, account):\n",
    "    balance = balance - amt\n",
    "    print(f\"withdrawl of {amt} is done\")\n",
    "    return balance\n",
    "\n",
    "\n",
    "@authenticate\n",
    "def balance_check(account, time, date, transfer):\n",
    "    return None\n",
    "\n",
    "\n",
    "\n",
    "withdrawl(10000, 100)\n",
    "\n",
    "deposite(10, 30, 20)\n",
    "\n",
    "balance_check(10, 40, 50, 60)\n"
   ]
  },
  {
   "cell_type": "code",
   "execution_count": null,
   "id": "0421a470",
   "metadata": {},
   "outputs": [],
   "source": []
  }
 ],
 "metadata": {
  "kernelspec": {
   "display_name": "Python 3 (ipykernel)",
   "language": "python",
   "name": "python3"
  },
  "language_info": {
   "codemirror_mode": {
    "name": "ipython",
    "version": 3
   },
   "file_extension": ".py",
   "mimetype": "text/x-python",
   "name": "python",
   "nbconvert_exporter": "python",
   "pygments_lexer": "ipython3",
   "version": "3.9.7"
  }
 },
 "nbformat": 4,
 "nbformat_minor": 5
}
