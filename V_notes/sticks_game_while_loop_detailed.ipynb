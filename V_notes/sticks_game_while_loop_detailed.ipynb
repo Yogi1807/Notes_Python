{
 "cells": [
  {
   "cell_type": "markdown",
   "id": "2ef1b045",
   "metadata": {},
   "source": [
    "Problem \n",
    "\n",
    "-----------\n",
    "\n",
    "\n",
    "calculate the sum of digits of a number given by user\n",
    "\n",
    "\n",
    "INPUT : 123     OUTPUT : 6\n",
    "\n"
   ]
  },
  {
   "cell_type": "code",
   "execution_count": 16,
   "id": "7ba73e1b",
   "metadata": {},
   "outputs": [
    {
     "name": "stdout",
     "output_type": "stream",
     "text": [
      "Please enter input : 379\n",
      "19\n"
     ]
    }
   ],
   "source": [
    "foo = input(\"Please enter input : \")\n",
    "\n",
    "bar = list(foo)\n",
    "len_bar = len(bar)\n",
    "i = 0\n",
    "\n",
    "result = 0\n",
    "\n",
    "while i < len_bar:   \n",
    "    element = bar[i]\n",
    "    element = int(element)\n",
    "    result = result + element\n",
    "    i = i + 1\n",
    "print(result)"
   ]
  },
  {
   "cell_type": "code",
   "execution_count": 22,
   "id": "5b1d3dfb",
   "metadata": {
    "scrolled": false
   },
   "outputs": [
    {
     "name": "stdout",
     "output_type": "stream",
     "text": [
      "Please enter input : 654\n",
      "iteration - 0 =>\n",
      "element - 6,  type(element) - <class 'str'>\n",
      "element - 6,  type(element) - <class 'int'>\n",
      "\n",
      "iteration - 1 =>\n",
      "element - 5,  type(element) - <class 'str'>\n",
      "element - 5,  type(element) - <class 'int'>\n",
      "\n",
      "iteration - 2 =>\n",
      "element - 4,  type(element) - <class 'str'>\n",
      "element - 4,  type(element) - <class 'int'>\n",
      "\n",
      "15\n"
     ]
    }
   ],
   "source": [
    "foo = input(\"Please enter input : \")\n",
    "\n",
    "bar = list(foo)\n",
    "\n",
    "\n",
    "len_bar = len(bar)    # initialization\n",
    "i = 0                 # initialization\n",
    "\n",
    "result = []           # initialization\n",
    "\n",
    "while i < len_bar:   \n",
    "    element = bar[i]       \n",
    "    \n",
    "    print(\"iteration - {0} =>\".format(i))\n",
    "    print(\"element - {0},  type(element) - {1}\".format(element, type(element)))\n",
    "    element = int(element)  \n",
    "    print(\"element - {0},  type(element) - {1}\".format(element, type(element)))\n",
    "    \n",
    "    print()\n",
    "    result.append(element)  \n",
    "    i = i + 1\n",
    "    \n",
    "    \n",
    "final = sum(result)\n",
    "print(final)"
   ]
  },
  {
   "cell_type": "code",
   "execution_count": 19,
   "id": "cf483b08",
   "metadata": {},
   "outputs": [
    {
     "name": "stdout",
     "output_type": "stream",
     "text": [
      "x - prashant,  type(x) - <class 'str'>\n"
     ]
    }
   ],
   "source": [
    "x = \"prashant\"\n",
    "\n",
    "\n",
    "print(\"x - {0},  type(x) - {1}\".format(x, type(x)))"
   ]
  },
  {
   "cell_type": "code",
   "execution_count": 8,
   "id": "46c37f26",
   "metadata": {},
   "outputs": [
    {
     "name": "stdout",
     "output_type": "stream",
     "text": [
      "['4', '5', '6']\n"
     ]
    },
    {
     "data": {
      "text/plain": [
       "3"
      ]
     },
     "execution_count": 8,
     "metadata": {},
     "output_type": "execute_result"
    }
   ],
   "source": [
    "result = list(\"456\")\n",
    "print(result)\n",
    "len(result)"
   ]
  },
  {
   "cell_type": "markdown",
   "id": "9a0c4229",
   "metadata": {},
   "source": [
    "- we have 21 sticks\n",
    "- we have 2 players in the game \n",
    "\n",
    "    - human (user)\n",
    "    - computer\n",
    "    \n",
    "- human can pick any number of sticks between (1-4)\n",
    "- computer can pick any number of sticks between (1-4)\n",
    "\n",
    "RULE \n",
    "- whoever picks last stick looses the game"
   ]
  },
  {
   "cell_type": "code",
   "execution_count": null,
   "id": "16c7f850",
   "metadata": {},
   "outputs": [],
   "source": [
    "\"\"\"\n",
    "TO WRITE MULTI - LINE COMMENT IN PYTHON\n",
    "\n",
    "3 4 2 1 5\n",
    "\n",
    "\n",
    "Iteration           remaining sticks    user sticks.    computer sticks\n",
    "------------------------------------------------------------------------\n",
    "1                    16                  3                2\n",
    "2                    11                  4                1\n",
    "3                    6                   2                3\n",
    "4                    1                   1                4\n",
    "5                    0                   4                NA\n",
    "\"\"\"\n",
    "\n",
    "sticks = 21\n",
    "\n",
    "while True:\n",
    "    sticks_taken = input(\"Please pick sticks (1-4) : \")\n",
    "    \n",
    "    if sticks == 1:\n",
    "        print(\"LOOSER - you are looser!!!\")\n",
    "        break\n",
    "    \n",
    "    \n",
    "    if sticks_taken >= 5 or sticks_taken <= 0:\n",
    "        print(\"WRONG CHOICE. Please enter value between 1 and 4\")\n",
    "        continue\n",
    "        \n",
    "    computer = 5 - sticks_taken\n",
    "    \n",
    "    sticks = sticks - 5\n",
    "\n",
    "\n"
   ]
  },
  {
   "cell_type": "code",
   "execution_count": 26,
   "id": "7fd98c06",
   "metadata": {},
   "outputs": [
    {
     "name": "stdout",
     "output_type": "stream",
     "text": [
      "prashant\n"
     ]
    },
    {
     "ename": "TypeError",
     "evalue": "'str' object is not callable",
     "output_type": "error",
     "traceback": [
      "\u001b[0;31m---------------------------------------------------------------------------\u001b[0m",
      "\u001b[0;31mTypeError\u001b[0m                                 Traceback (most recent call last)",
      "Cell \u001b[0;32mIn [26], line 4\u001b[0m\n\u001b[1;32m      1\u001b[0m \u001b[38;5;28mlist\u001b[39m \u001b[38;5;241m=\u001b[39m \u001b[38;5;124m\"\u001b[39m\u001b[38;5;124mprashant\u001b[39m\u001b[38;5;124m\"\u001b[39m\n\u001b[1;32m      2\u001b[0m \u001b[38;5;28mprint\u001b[39m(\u001b[38;5;28mlist\u001b[39m)\n\u001b[0;32m----> 4\u001b[0m \u001b[38;5;28;43mlist\u001b[39;49m\u001b[43m(\u001b[49m\u001b[38;5;28;43mlist\u001b[39;49m\u001b[43m)\u001b[49m\n",
      "\u001b[0;31mTypeError\u001b[0m: 'str' object is not callable"
     ]
    }
   ],
   "source": [
    "list = \"prashant\"\n",
    "print(list)\n",
    "\n",
    "list(list)"
   ]
  },
  {
   "cell_type": "code",
   "execution_count": 29,
   "id": "c7300f0e",
   "metadata": {},
   "outputs": [
    {
     "name": "stdout",
     "output_type": "stream",
     "text": [
      "prashant\n"
     ]
    }
   ],
   "source": [
    "match = \"prashant\"\n",
    "print(match)"
   ]
  },
  {
   "cell_type": "code",
   "execution_count": 30,
   "id": "816f7f5f",
   "metadata": {},
   "outputs": [
    {
     "name": "stdout",
     "output_type": "stream",
     "text": [
      "\n",
      "Here is a list of the Python keywords.  Enter any keyword to get more help.\n",
      "\n",
      "False               class               from                or\n",
      "None                continue            global              pass\n",
      "True                def                 if                  raise\n",
      "and                 del                 import              return\n",
      "as                  elif                in                  try\n",
      "assert              else                is                  while\n",
      "async               except              lambda              with\n",
      "await               finally             nonlocal            yield\n",
      "break               for                 not                 \n",
      "\n"
     ]
    }
   ],
   "source": [
    "help(\"keywords\")"
   ]
  }
 ],
 "metadata": {
  "kernelspec": {
   "display_name": "Python 3 (ipykernel)",
   "language": "python",
   "name": "python3"
  },
  "language_info": {
   "codemirror_mode": {
    "name": "ipython",
    "version": 3
   },
   "file_extension": ".py",
   "mimetype": "text/x-python",
   "name": "python",
   "nbconvert_exporter": "python",
   "pygments_lexer": "ipython3",
   "version": "3.9.7"
  }
 },
 "nbformat": 4,
 "nbformat_minor": 5
}
