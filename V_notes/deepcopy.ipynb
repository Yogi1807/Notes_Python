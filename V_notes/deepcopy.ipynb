{
 "cells": [
  {
   "cell_type": "code",
   "execution_count": 1,
   "id": "11f2ae53",
   "metadata": {},
   "outputs": [],
   "source": [
    "from copy import deepcopy\n",
    "\n",
    "states_A = [\"MH\", [\"PUNE\", \"MUMBAI\"]]\n",
    "states_B = deepcopy(states_A)"
   ]
  },
  {
   "cell_type": "code",
   "execution_count": 2,
   "id": "2440f2c0",
   "metadata": {},
   "outputs": [
    {
     "name": "stdout",
     "output_type": "stream",
     "text": [
      "['MH', ['PUNE', 'MUMBAI']]\n",
      "['MH', ['PUNE', 'MUMBAI']]\n"
     ]
    }
   ],
   "source": [
    "print(states_A)\n",
    "print(states_B)"
   ]
  },
  {
   "cell_type": "code",
   "execution_count": 3,
   "id": "f654c682",
   "metadata": {},
   "outputs": [
    {
     "name": "stdout",
     "output_type": "stream",
     "text": [
      "2308943548672\n",
      "2308943548928\n"
     ]
    }
   ],
   "source": [
    "print(id(states_A[1]))\n",
    "print(id(states_B[1]))"
   ]
  },
  {
   "cell_type": "code",
   "execution_count": 4,
   "id": "47e9c268",
   "metadata": {},
   "outputs": [],
   "source": [
    "states_A[1].append(\"NASHIK\")"
   ]
  },
  {
   "cell_type": "code",
   "execution_count": 5,
   "id": "f98ed0d4",
   "metadata": {},
   "outputs": [
    {
     "name": "stdout",
     "output_type": "stream",
     "text": [
      "['MH', ['PUNE', 'MUMBAI', 'NASHIK']]\n",
      "['MH', ['PUNE', 'MUMBAI']]\n"
     ]
    }
   ],
   "source": [
    "print(states_A)\n",
    "print(states_B)"
   ]
  }
 ],
 "metadata": {
  "kernelspec": {
   "display_name": "Python 3 (ipykernel)",
   "language": "python",
   "name": "python3"
  },
  "language_info": {
   "codemirror_mode": {
    "name": "ipython",
    "version": 3
   },
   "file_extension": ".py",
   "mimetype": "text/x-python",
   "name": "python",
   "nbconvert_exporter": "python",
   "pygments_lexer": "ipython3",
   "version": "3.9.7"
  }
 },
 "nbformat": 4,
 "nbformat_minor": 5
}
