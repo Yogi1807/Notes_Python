{
 "cells": [
  {
   "cell_type": "markdown",
   "id": "845537ad",
   "metadata": {},
   "source": [
    "- we have 21 sticks\n",
    "- we have 2 players in the game \n",
    "\n",
    "    - human (user)\n",
    "    - computer\n",
    "    \n",
    "- human can pick any number of sticks between (1-4)\n",
    "- computer can pick any number of sticks between (1-4)\n",
    "\n",
    "RULE \n",
    "- whoever picks last stick looses the game"
   ]
  },
  {
   "cell_type": "code",
   "execution_count": 2,
   "id": "e3ffb99a",
   "metadata": {},
   "outputs": [
    {
     "name": "stdout",
     "output_type": "stream",
     "text": [
      "please pick sticks : 200000\n",
      "WRONG CHOICE\n",
      "please pick sticks : 2\n",
      "computer has taken 3 sticks\n",
      "please pick sticks : 3\n",
      "computer has taken 2 sticks\n",
      "please pick sticks : 3\n",
      "computer has taken 2 sticks\n",
      "please pick sticks : 4\n",
      "computer has taken 1 sticks\n",
      "please pick sticks : 5\n",
      "[ LOOSER ] you're a looser!!!!!\n"
     ]
    }
   ],
   "source": [
    "sticks = 21\n",
    "\n",
    "\n",
    "while True:\n",
    "    sticks_taken = int(input(\"please pick sticks : \"))\n",
    "    \n",
    "    if sticks == 1:\n",
    "        print(\"[ LOOSER ] you're a looser!!!!!\")\n",
    "        break\n",
    "    \n",
    "    if sticks_taken >= 5 or sticks_taken <= 0:\n",
    "        print(\"WRONG CHOICE\")\n",
    "        continue\n",
    "        \n",
    "    computer_takes = 5 - sticks_taken\n",
    "    print(\"computer has taken {0} sticks\".format(computer_takes))\n",
    "        \n",
    "    sticks = sticks - 5\n",
    "    \n",
    " "
   ]
  },
  {
   "cell_type": "code",
   "execution_count": null,
   "id": "c30f19d9",
   "metadata": {},
   "outputs": [],
   "source": [
    "while True:     # starting point of while loop\n",
    "    \n",
    "    password = input(\"Please tell me password to break this loop : \")\n",
    "    if password == \"qwerty@123\":\n",
    "        break\n",
    "        \n",
    "    print(\"good morning\")    # end of while loop\n",
    "    \n",
    "print(\"now you're out of the loop\")\n",
    "    "
   ]
  },
  {
   "cell_type": "code",
   "execution_count": 1,
   "id": "3240580a",
   "metadata": {},
   "outputs": [
    {
     "name": "stdout",
     "output_type": "stream",
     "text": [
      "Please tell me password to get secret message : psafkafa\n",
      "sorry, you cannot access this confidential data\n",
      "Please tell me password to get secret message : sfafa\n",
      "sorry, you cannot access this confidential data\n",
      "Please tell me password to get secret message : qwerty@123\n",
      "secret message\n",
      "Do you want to continue or break? (type Y/N) : N\n",
      "now you're out of the loop\n"
     ]
    }
   ],
   "source": [
    "while True:     # starting point of while loop\n",
    "    \n",
    "    password = input(\"Please tell me password to get secret message : \")\n",
    "    if password == \"qwerty@123\":\n",
    "        print(\"secret message\")\n",
    "        choice = input(\"Do you want to continue or break? (type Y/N) : \")\n",
    "        if choice.upper() == \"Y\":\n",
    "            continue\n",
    "        elif choice.upper() == \"N\":\n",
    "            break\n",
    "    print(\"sorry, you cannot access this confidential data\")    # end of while loop\n",
    "    \n",
    "print(\"now you're out of the loop\")\n",
    "    "
   ]
  },
  {
   "cell_type": "markdown",
   "id": "571a684b",
   "metadata": {},
   "source": [
    "- Always use 4 space indentation\n",
    "- Never mix tabs and spaces\n",
    "- One blank line between code blocks\n",
    "- Two blank lines between class definitions"
   ]
  }
 ],
 "metadata": {
  "kernelspec": {
   "display_name": "Python 3 (ipykernel)",
   "language": "python",
   "name": "python3"
  },
  "language_info": {
   "codemirror_mode": {
    "name": "ipython",
    "version": 3
   },
   "file_extension": ".py",
   "mimetype": "text/x-python",
   "name": "python",
   "nbconvert_exporter": "python",
   "pygments_lexer": "ipython3",
   "version": "3.9.7"
  }
 },
 "nbformat": 4,
 "nbformat_minor": 5
}
