{
 "cells": [
  {
   "cell_type": "markdown",
   "id": "94577bf8-8303-49a6-904d-1f6b7d0d2fe1",
   "metadata": {},
   "source": [
    "# what is class?\n",
    "\n",
    "- category\n",
    "- layout of object\n",
    "- design of object\n",
    "- prototype of an object\n",
    "\n"
   ]
  },
  {
   "cell_type": "markdown",
   "id": "bb355590-b690-4f41-891e-2ef5cadadd38",
   "metadata": {},
   "source": [
    "# what is object?\n",
    "\n",
    "\n",
    "- object is an instance of a class\n",
    "- any real world entity\n",
    "- object is a runtime entity of a class definition\n",
    "- objects have a behavior (functions) and have certain data (attributes) to describe itself "
   ]
  },
  {
   "cell_type": "markdown",
   "id": "f46ead3b-7eb1-4607-ba3b-3226977163a1",
   "metadata": {},
   "source": [
    "## terminology\n",
    "\n",
    "- class ::\n",
    "- object ::\n",
    "- attributes :: data / functions associated with class. aka properties.\n",
    "\n",
    "- super-class :: aka parent class, base-class\n",
    "- child-class :: aka sub-class, derived-class, inherited class"
   ]
  },
  {
   "cell_type": "markdown",
   "id": "d617f10d-64ad-4849-9b01-6131d291abd9",
   "metadata": {},
   "source": [
    "Human \n",
    "\n",
    "    - sachin\n",
    "    - modi\n",
    "    \n",
    "\n",
    "Fruit (class)\n",
    "\n",
    "    - Banana (objects)\n",
    "    - Mango\n",
    "    - Orange "
   ]
  },
  {
   "cell_type": "markdown",
   "id": "b6f78009-0a5e-4cab-b85a-3635cf9e1c21",
   "metadata": {},
   "source": [
    "#### python is both procedural and object oriented programming langugage\n",
    "\n",
    "- functions (aka procedures, methods, co-routines, macro)\n",
    "- OOPS"
   ]
  },
  {
   "cell_type": "markdown",
   "id": "518bb46c-a05b-47eb-b586-c48736199424",
   "metadata": {},
   "source": [
    "## why do we write classes?\n",
    "\n",
    "- object oriented programming is all about bundling code with data\n",
    "- you can create your own data structures\n",
    "- match your data structure choice with your data\n",
    "- to reduce complexity of code "
   ]
  },
  {
   "cell_type": "markdown",
   "id": "bf096bdc-75ac-42c9-928f-3c6a8d999027",
   "metadata": {},
   "source": [
    "Fruit (class)\n",
    "\n",
    "- edible    # data \n",
    "- price\n",
    "- size\n",
    "\n",
    "- get_size()\n",
    "- get_color()\n",
    "    \n",
    "    \n",
    "    - Banana (object)\n",
    "        - yellow color\n",
    "        - sweet\n",
    "        \n",
    "        - peel_cover()\n",
    "    \n",
    "    \n",
    "\n"
   ]
  },
  {
   "cell_type": "code",
   "execution_count": null,
   "id": "bc18d88f-ccec-49d6-a369-c630fc1880b0",
   "metadata": {},
   "outputs": [],
   "source": [
    "Library (class)\n",
    "\n",
    "    - public shelves\n",
    "    - private shelves\n",
    "    \n",
    "    - get_books()\n",
    "    - get_specific_author_books()\n",
    "        "
   ]
  },
  {
   "cell_type": "code",
   "execution_count": 1,
   "id": "92da069e-abc4-4bb5-bca9-daffcf566993",
   "metadata": {},
   "outputs": [
    {
     "data": {
      "text/plain": [
       "100"
      ]
     },
     "execution_count": 1,
     "metadata": {},
     "output_type": "execute_result"
    }
   ],
   "source": [
    "class Robot:\n",
    "    name = \"Jarvis\"  # class attribute\n",
    "    size = 100   # class attribute\n",
    "    \n",
    "\n",
    "# how to create an object?\n",
    "r = Robot()\n",
    "\n",
    "\n",
    "# To access attributes we use DOT operator\n",
    "r.name\n",
    "r.size"
   ]
  },
  {
   "cell_type": "code",
   "execution_count": 3,
   "id": "7423a1a5-9270-4f87-bc41-4de74cd1ee00",
   "metadata": {},
   "outputs": [
    {
     "data": {
      "text/plain": [
       "['__class__',\n",
       " '__delattr__',\n",
       " '__dict__',\n",
       " '__dir__',\n",
       " '__doc__',\n",
       " '__eq__',\n",
       " '__format__',\n",
       " '__ge__',\n",
       " '__getattribute__',\n",
       " '__gt__',\n",
       " '__hash__',\n",
       " '__init__',\n",
       " '__init_subclass__',\n",
       " '__le__',\n",
       " '__lt__',\n",
       " '__module__',\n",
       " '__ne__',\n",
       " '__new__',\n",
       " '__reduce__',\n",
       " '__reduce_ex__',\n",
       " '__repr__',\n",
       " '__setattr__',\n",
       " '__sizeof__',\n",
       " '__str__',\n",
       " '__subclasshook__',\n",
       " '__weakref__',\n",
       " 'name',\n",
       " 'size']"
      ]
     },
     "execution_count": 3,
     "metadata": {},
     "output_type": "execute_result"
    }
   ],
   "source": [
    "dir(r)"
   ]
  },
  {
   "cell_type": "markdown",
   "id": "64c58562-1e6c-4ee2-ac4f-5d6b0ec0fe6d",
   "metadata": {},
   "source": [
    "# `getattr()` function\n",
    "\n",
    "- takes first argument as `object`\n",
    "- takes second argument as `attribute name`\n",
    "- takes third argument optionally and third arg is default value"
   ]
  },
  {
   "cell_type": "code",
   "execution_count": 3,
   "id": "393e2666-2307-4a51-94fa-f007c5b9ed6a",
   "metadata": {},
   "outputs": [
    {
     "data": {
      "text/plain": [
       "'Jarvis'"
      ]
     },
     "execution_count": 3,
     "metadata": {},
     "output_type": "execute_result"
    }
   ],
   "source": [
    "getattr(r, \"name\")"
   ]
  },
  {
   "cell_type": "code",
   "execution_count": 8,
   "id": "d1b7688e-509f-460f-ba20-3fd0227b5d72",
   "metadata": {},
   "outputs": [
    {
     "data": {
      "text/plain": [
       "100"
      ]
     },
     "execution_count": 8,
     "metadata": {},
     "output_type": "execute_result"
    }
   ],
   "source": [
    "getattr(r, \"size\")"
   ]
  },
  {
   "cell_type": "code",
   "execution_count": 9,
   "id": "ea42a5af-24cf-4da2-bfab-a0d37c35388f",
   "metadata": {},
   "outputs": [
    {
     "data": {
      "text/plain": [
       "'black'"
      ]
     },
     "execution_count": 9,
     "metadata": {},
     "output_type": "execute_result"
    }
   ],
   "source": [
    "getattr(r, \"color\", \"black\")"
   ]
  },
  {
   "cell_type": "code",
   "execution_count": 16,
   "id": "4f2de54e-8c8a-4188-981b-08d3167b377b",
   "metadata": {},
   "outputs": [
    {
     "data": {
      "text/plain": [
       "__main__.Robot"
      ]
     },
     "execution_count": 16,
     "metadata": {},
     "output_type": "execute_result"
    }
   ],
   "source": [
    "type(r) # `r` is an object of class `robot`"
   ]
  },
  {
   "cell_type": "code",
   "execution_count": 5,
   "id": "4a3c29ea-33c7-4d71-ae7f-02d71a0bdc03",
   "metadata": {},
   "outputs": [
    {
     "data": {
      "text/plain": [
       "{}"
      ]
     },
     "execution_count": 5,
     "metadata": {},
     "output_type": "execute_result"
    }
   ],
   "source": [
    "r.__dict__"
   ]
  },
  {
   "cell_type": "code",
   "execution_count": 20,
   "id": "6ca8118c-f1fb-47fe-ae14-d016bbff408d",
   "metadata": {},
   "outputs": [
    {
     "data": {
      "text/plain": [
       "['__class__',\n",
       " '__delattr__',\n",
       " '__dict__',\n",
       " '__dir__',\n",
       " '__doc__',\n",
       " '__eq__',\n",
       " '__format__',\n",
       " '__ge__',\n",
       " '__getattribute__',\n",
       " '__gt__',\n",
       " '__hash__',\n",
       " '__init__',\n",
       " '__init_subclass__',\n",
       " '__le__',\n",
       " '__lt__',\n",
       " '__module__',\n",
       " '__ne__',\n",
       " '__new__',\n",
       " '__reduce__',\n",
       " '__reduce_ex__',\n",
       " '__repr__',\n",
       " '__setattr__',\n",
       " '__sizeof__',\n",
       " '__str__',\n",
       " '__subclasshook__',\n",
       " '__weakref__',\n",
       " 'name',\n",
       " 'size']"
      ]
     },
     "execution_count": 20,
     "metadata": {},
     "output_type": "execute_result"
    }
   ],
   "source": [
    "dir(r)"
   ]
  },
  {
   "cell_type": "markdown",
   "id": "c0df7e5b-63ca-45ce-a50c-256e7cd98ece",
   "metadata": {},
   "source": [
    "### you can use internal attribute called `__dict__` to get class attributes"
   ]
  },
  {
   "cell_type": "code",
   "execution_count": 19,
   "id": "560f2387-71d6-4790-9066-6403111bba60",
   "metadata": {},
   "outputs": [
    {
     "data": {
      "text/plain": [
       "mappingproxy({'__module__': '__main__',\n",
       "              'name': 'Jarvis',\n",
       "              'size': 100,\n",
       "              '__dict__': <attribute '__dict__' of 'Robot' objects>,\n",
       "              '__weakref__': <attribute '__weakref__' of 'Robot' objects>,\n",
       "              '__doc__': None})"
      ]
     },
     "execution_count": 19,
     "metadata": {},
     "output_type": "execute_result"
    }
   ],
   "source": [
    "Robot.__dict__"
   ]
  },
  {
   "cell_type": "code",
   "execution_count": 23,
   "id": "a299d01d-1d4f-440c-aaaa-8ff2c549c0c0",
   "metadata": {},
   "outputs": [
    {
     "data": {
      "text/plain": [
       "{}"
      ]
     },
     "execution_count": 23,
     "metadata": {},
     "output_type": "execute_result"
    }
   ],
   "source": [
    "r.__dict__"
   ]
  },
  {
   "cell_type": "code",
   "execution_count": 22,
   "id": "c6f18fc4-6864-475c-b6e0-7c0790c00ba8",
   "metadata": {},
   "outputs": [
    {
     "data": {
      "text/plain": [
       "['__class__',\n",
       " '__delattr__',\n",
       " '__dict__',\n",
       " '__dir__',\n",
       " '__doc__',\n",
       " '__eq__',\n",
       " '__format__',\n",
       " '__ge__',\n",
       " '__getattribute__',\n",
       " '__gt__',\n",
       " '__hash__',\n",
       " '__init__',\n",
       " '__init_subclass__',\n",
       " '__le__',\n",
       " '__lt__',\n",
       " '__module__',\n",
       " '__ne__',\n",
       " '__new__',\n",
       " '__reduce__',\n",
       " '__reduce_ex__',\n",
       " '__repr__',\n",
       " '__setattr__',\n",
       " '__sizeof__',\n",
       " '__str__',\n",
       " '__subclasshook__',\n",
       " '__weakref__',\n",
       " 'name',\n",
       " 'size']"
      ]
     },
     "execution_count": 22,
     "metadata": {},
     "output_type": "execute_result"
    }
   ],
   "source": [
    "dir(Robot)"
   ]
  },
  {
   "cell_type": "markdown",
   "id": "4d15e29d-ac14-4186-82d6-79c198e24080",
   "metadata": {},
   "source": [
    "## feature of OOPS\n",
    "\n",
    "- constructor\n",
    "- abstraction \n",
    "- encapsulation\n",
    "- inheritance\n",
    "- polymorphism\n",
    "\n",
    "\n"
   ]
  },
  {
   "cell_type": "markdown",
   "id": "95cfad6d-cb6b-4c84-ab2f-0623f6a5787b",
   "metadata": {},
   "source": [
    "human (super-class)\n",
    "\n",
    "    - trader (sub-class)\n",
    "    - engineer (sub-class)\n",
    "        - civil_engineer (sub-class)\n",
    "        - electrical engineer (sub-class)\n",
    "    - doctor (class)\n",
    "    - actor (class)"
   ]
  },
  {
   "cell_type": "markdown",
   "id": "ecdb755a-30c9-4c1d-8759-5ce4e13a5038",
   "metadata": {},
   "source": [
    "grand-father (super)\n",
    "    - father (sub-class)\n",
    "        - grand-child (sub-class)"
   ]
  },
  {
   "cell_type": "markdown",
   "id": "0f518cf9-a6eb-45e5-8c00-3e44ea48e1fa",
   "metadata": {},
   "source": [
    "## constructor"
   ]
  },
  {
   "cell_type": "markdown",
   "id": "0a5a7b3b-a6aa-45bc-8bc0-f15b0dd78f96",
   "metadata": {},
   "source": [
    "- we use a special method called `__init__` to define a `contructor`\n",
    "- any function that we defined under class is called as `method`\n",
    "- first implicit argument to any method defined under class is `self`\n",
    "\n",
    "- `__init__` is a special name used to constructor\n",
    "- constructor is a method used to instantiate an object"
   ]
  },
  {
   "cell_type": "code",
   "execution_count": 1,
   "id": "5a1452cb-8819-4990-88d6-a5f03e3766e8",
   "metadata": {},
   "outputs": [
    {
     "name": "stdout",
     "output_type": "stream",
     "text": [
      "100\n",
      "banana\n",
      "100\n",
      "apple\n"
     ]
    }
   ],
   "source": [
    "class Fruit:     # start of class definition\n",
    "    price = 100  # class attributes\n",
    "    size = 10   # class attributes\n",
    "    \n",
    "    def __init__(self, name, color, taste):\n",
    "        self.name = name   # instance attributes\n",
    "        self.color = color  # instance attributes\n",
    "        self.taste = taste  # instance attributes    # end of class definition\n",
    "\n",
    "    \n",
    "obj1 = Fruit(\"banana\", \"yellow\", \"sweet\")\n",
    "print(obj1.price)\n",
    "print(obj1.name)\n",
    "\n",
    "\n",
    "obj2 = Fruit(\"apple\", \"red\", \"sweet\")\n",
    "print(obj2.price)\n",
    "print(obj2.name)\n"
   ]
  },
  {
   "cell_type": "code",
   "execution_count": 10,
   "id": "e01c90e7-f6e0-4a4f-882d-2427411adf9d",
   "metadata": {},
   "outputs": [
    {
     "data": {
      "text/plain": [
       "['__class__',\n",
       " '__delattr__',\n",
       " '__dict__',\n",
       " '__dir__',\n",
       " '__doc__',\n",
       " '__eq__',\n",
       " '__format__',\n",
       " '__ge__',\n",
       " '__getattribute__',\n",
       " '__gt__',\n",
       " '__hash__',\n",
       " '__init__',\n",
       " '__init_subclass__',\n",
       " '__le__',\n",
       " '__lt__',\n",
       " '__module__',\n",
       " '__ne__',\n",
       " '__new__',\n",
       " '__reduce__',\n",
       " '__reduce_ex__',\n",
       " '__repr__',\n",
       " '__setattr__',\n",
       " '__sizeof__',\n",
       " '__str__',\n",
       " '__subclasshook__',\n",
       " '__weakref__',\n",
       " 'color',\n",
       " 'name',\n",
       " 'price',\n",
       " 'size',\n",
       " 'taste']"
      ]
     },
     "execution_count": 10,
     "metadata": {},
     "output_type": "execute_result"
    }
   ],
   "source": [
    "banana_obj = Fruit(\"banana\", \"yellow\", \"sweet\")\n",
    "dir(banana_obj)\n"
   ]
  },
  {
   "cell_type": "markdown",
   "id": "fcbcb498-770c-4ef5-8b4a-6b186bcccfe0",
   "metadata": {},
   "source": [
    "\n",
    "## understand `self`\n",
    "\n",
    "- `self` is a special argument\n",
    "- `self` is a refernce to an particular object \n",
    "- every method that we define under class must have `self` as first argument"
   ]
  },
  {
   "cell_type": "code",
   "execution_count": 11,
   "id": "8e44178c-5342-4458-b326-6b44a9ac34af",
   "metadata": {},
   "outputs": [
    {
     "name": "stdout",
     "output_type": "stream",
     "text": [
      "alto800\n",
      "Seltos\n",
      "4\n",
      "4\n"
     ]
    },
    {
     "data": {
      "text/plain": [
       "int"
      ]
     },
     "execution_count": 11,
     "metadata": {},
     "output_type": "execute_result"
    }
   ],
   "source": [
    "class Car:\n",
    "    wheels = 4  # class attribute\n",
    "    steering = 1 # class attribute\n",
    "    \n",
    "    def __init__(abc, brand, model, price):   # constructor method\n",
    "        abc.brand = brand  # instance attribute\n",
    "        abc.model = model  # instance attribute\n",
    "        abc.price = price  # instance attribute\n",
    "        \n",
    "        \n",
    "\n",
    "prashant_car = Car(\"Maruti\", \"alto800\", 400000)\n",
    "rahul_car = Car(\"Kia\", \"Seltos\", 1500000)\n",
    "\n",
    "\n",
    "print(prashant_car.model)\n",
    "print(rahul_car.model)\n",
    "\n",
    "\n",
    "print(prashant_car.wheels)\n",
    "print(rahul_car.wheels)\n",
    "\n",
    "\n",
    "type(rahul_car.price)\n"
   ]
  },
  {
   "cell_type": "markdown",
   "id": "f7190be2-a62b-434d-bd33-1d7db5cf2b1c",
   "metadata": {},
   "source": [
    "# `__new__` method and `__init__` method"
   ]
  },
  {
   "cell_type": "markdown",
   "id": "198bb34c-7473-4865-8314-e1fa16681099",
   "metadata": {},
   "source": [
    "- `__new__` & `__init__` are special methods.\n",
    "- Also known as magic methods\n",
    "- `__new__` method gets automatically called whenever we create instance of a class.\n",
    "- `__init__` method instantiates the object\n",
    "- `__init__` is also called as constructor method"
   ]
  },
  {
   "cell_type": "markdown",
   "id": "cc72e583-ec36-44a1-908c-f98f65fda87b",
   "metadata": {},
   "source": [
    "### NOTE\n",
    "\n",
    "## class attribute vs instance attribute.  (IMPORTANT INTERVIEW QUESTION)\n",
    "\n",
    "- class attributes are shared between multiple objects of same class.\n",
    "- class attributes are common among objects\n",
    "- you can access class attribute by using DOT operator on class name and on object name **both**\n",
    "\n",
    "\n",
    "- instance attributes are associated with each instance of a class.\n",
    "- instance attributes are owned by objects\n",
    "- instance attributes can be accessed only using object name"
   ]
  },
  {
   "cell_type": "code",
   "execution_count": 57,
   "id": "2747974d-9643-43d1-9f43-650d5919fe15",
   "metadata": {},
   "outputs": [
    {
     "data": {
      "text/plain": [
       "'BLR royal challengers'"
      ]
     },
     "execution_count": 57,
     "metadata": {},
     "output_type": "execute_result"
    }
   ],
   "source": [
    "class CricketTeam:\n",
    "    players = 11   # class attribute\n",
    "    \n",
    "    def __init__(self, team_name, jersy_color, captain_name, opening_score, middle_order_score, coach=\"rahul dravid\"):\n",
    "        self.team_name = team_name + \" royal challengers\"  # instance attribute\n",
    "        self.jersy = jersy_color  # instance attribute\n",
    "        self.captain = captain_name # instance attribute\n",
    "        self.total_score = opening_score + middle_order_score\n",
    "        self.coach = coach\n",
    "\n",
    "\n",
    "team_india = CricketTeam(\"BLR\", \"blue\", \"rohit\", 90, 100)\n",
    "\n",
    "team_india.players \n",
    "\n",
    "team_india.jersy\n",
    "team_india.captain\n",
    "team_india.total_score\n",
    "team_india.coach\n",
    "\n",
    "team_india.team_name\n",
    "\n",
    "    "
   ]
  },
  {
   "cell_type": "code",
   "execution_count": 63,
   "id": "83599b5d-5fa5-4cb8-80a8-df58209e91b5",
   "metadata": {},
   "outputs": [
    {
     "data": {
      "text/plain": [
       "'nashik'"
      ]
     },
     "execution_count": 63,
     "metadata": {},
     "output_type": "execute_result"
    }
   ],
   "source": [
    "class City:\n",
    "    \n",
    "    # class attribute\n",
    "    state = \"Maharashtra\"\n",
    "    country = \"India\"\n",
    "    \n",
    "\n",
    "    def __init__(self, name, population, sub_urbs=[], area=\"10 sqkm\"):\n",
    "        \n",
    "        # instance attribute\n",
    "        self.name = name \n",
    "        self.population = population\n",
    "        self.suburbs = sub_urbs\n",
    "        self.area = area\n",
    "        \n",
    "        \n",
    "mumbai_obj = City(\"mumbai\", \"2 cr\", [\"dadar\", \"andheri\"])\n",
    "\n",
    "mumbai_obj.suburbs\n",
    "\n",
    "City.state\n",
    "mumbai_obj.state\n",
    "\n",
    "\n",
    "\n",
    "City(\"nashik\", \"2 M\").name\n",
    "    "
   ]
  }
 ],
 "metadata": {
  "kernelspec": {
   "display_name": "Python 3 (ipykernel)",
   "language": "python",
   "name": "python3"
  },
  "language_info": {
   "codemirror_mode": {
    "name": "ipython",
    "version": 3
   },
   "file_extension": ".py",
   "mimetype": "text/x-python",
   "name": "python",
   "nbconvert_exporter": "python",
   "pygments_lexer": "ipython3",
   "version": "3.9.7"
  }
 },
 "nbformat": 4,
 "nbformat_minor": 5
}
