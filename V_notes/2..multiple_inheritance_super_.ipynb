{
 "cells": [
  {
   "cell_type": "markdown",
   "id": "a79418e3-138b-46d0-bc5d-9b62ace4451f",
   "metadata": {},
   "source": [
    "### Instantiating child class in case multiple inheritance"
   ]
  },
  {
   "cell_type": "code",
   "execution_count": 3,
   "id": "d0a11af5-9bba-438b-9020-c9795d103686",
   "metadata": {},
   "outputs": [
    {
     "name": "stdout",
     "output_type": "stream",
     "text": [
      "Prashant\n",
      "29\n",
      "Sr. Engineer\n",
      "80909\n"
     ]
    }
   ],
   "source": [
    "class Foo:\n",
    "    def __init__(self, name, age):\n",
    "        self.name = name\n",
    "        self.age = age\n",
    "\n",
    "\n",
    "class Bar:\n",
    "    def __init__(self, profession, salary):\n",
    "        self.profession = profession\n",
    "        self.salary = salary\n",
    "        \n",
    "        \n",
    "        \n",
    "class FooBar(Foo, Bar):\n",
    "    def __init__(self, name, age, profession, salary):\n",
    "        Foo.__init__(self, name, age)\n",
    "        Bar.__init__(self, profession, salary)\n",
    "        \n",
    "        \n",
    "obj = FooBar(\"Prashant\", 29, \"Sr. Engineer\", 80909)\n",
    "print(obj.name)\n",
    "print(obj.age)\n",
    "print(obj.profession)\n",
    "print(obj.salary)\n"
   ]
  },
  {
   "cell_type": "code",
   "execution_count": 5,
   "id": "d463729d-540a-4108-af4f-7fd985f41633",
   "metadata": {},
   "outputs": [
    {
     "data": {
      "text/plain": [
       "<__main__.FooBar at 0x1053e7220>"
      ]
     },
     "execution_count": 5,
     "metadata": {},
     "output_type": "execute_result"
    }
   ],
   "source": [
    "class Foo:\n",
    "    def __init__(self, name, age):\n",
    "        self.name = name\n",
    "        self.age = age\n",
    "\n",
    "\n",
    "class Bar:\n",
    "    def __init__(self, profession, salary):\n",
    "        self.profession = profession\n",
    "        self.salary = salary\n",
    "        \n",
    "        \n",
    "class FooBar(Foo, Bar):\n",
    "    def __init__(self, name, age, profession, salary):\n",
    "        super(FooBar, self).__init__(age, age)\n",
    "        \n",
    "\n",
    "FooBar(\"name\", \"age\", \"profession\", \"salary\")\n"
   ]
  },
  {
   "cell_type": "code",
   "execution_count": 38,
   "id": "9a02976a-2450-4b74-ad70-2eb7e8c8bd65",
   "metadata": {},
   "outputs": [
    {
     "name": "stdout",
     "output_type": "stream",
     "text": [
      "GrandParent class details - grand_parent_name\n"
     ]
    },
    {
     "data": {
      "text/plain": [
       "[__main__.Child,\n",
       " __main__.Father,\n",
       " __main__.Mother,\n",
       " __main__.GrandParent,\n",
       " object]"
      ]
     },
     "execution_count": 38,
     "metadata": {},
     "output_type": "execute_result"
    }
   ],
   "source": [
    "class GrandParent:\n",
    "    def __init__(self, name):\n",
    "        self.name1 = name\n",
    "        \n",
    "    def get_details(self):\n",
    "        print(f\"GrandParent class details - {self.name1}\")\n",
    "        \n",
    "        \n",
    "class Father(GrandParent):\n",
    "    def __init__(self, name, name_):\n",
    "        GrandParent.__init__(self, name_)\n",
    "        self.name2 = name\n",
    "        \n",
    "    # method over-riding\n",
    "#     def get_details(self):\n",
    "#         print(f\"Father class details - {self.name2}\")\n",
    "        \n",
    "        \n",
    "class Mother(GrandParent):\n",
    "    def __init__(self, name):\n",
    "        self.name3 = name\n",
    "        \n",
    "    # method-overriding\n",
    "    # def get_details(self):\n",
    "    #     print(f\"Mother class details - {self.name3}\")\n",
    "\n",
    "\n",
    "class Child(Father, Mother):\n",
    "    def __init__(self, name1, name2, name3):\n",
    "        Father.__init__(self, name1, name3)\n",
    "        Mother.__init__(self, name2)     \n",
    "    \n",
    "    # method over-riding\n",
    "    # def get_details(self):\n",
    "    #     print(\"Child class details\")\n",
    "        \n",
    "        \n",
    "obj = Child(\"father_name\", \"mother_name\", \"grand_parent_name\")\n",
    "obj.get_details()\n",
    "Child.mro()\n",
    "        "
   ]
  }
 ],
 "metadata": {
  "kernelspec": {
   "display_name": "Python 3 (ipykernel)",
   "language": "python",
   "name": "python3"
  },
  "language_info": {
   "codemirror_mode": {
    "name": "ipython",
    "version": 3
   },
   "file_extension": ".py",
   "mimetype": "text/x-python",
   "name": "python",
   "nbconvert_exporter": "python",
   "pygments_lexer": "ipython3",
   "version": "3.10.0"
  }
 },
 "nbformat": 4,
 "nbformat_minor": 5
}
