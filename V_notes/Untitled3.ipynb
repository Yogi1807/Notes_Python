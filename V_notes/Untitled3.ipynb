{
 "cells": [
  {
   "cell_type": "code",
   "execution_count": 1,
   "id": "942a93b6",
   "metadata": {},
   "outputs": [],
   "source": [
    "foo = {10, 20, 30, 40}\n",
    "bar = {30, 40, 60, 70}"
   ]
  },
  {
   "cell_type": "code",
   "execution_count": 2,
   "id": "e1ae9802",
   "metadata": {},
   "outputs": [
    {
     "data": {
      "text/plain": [
       "{30, 40}"
      ]
     },
     "execution_count": 2,
     "metadata": {},
     "output_type": "execute_result"
    }
   ],
   "source": [
    "foo.intersection(bar)"
   ]
  },
  {
   "cell_type": "code",
   "execution_count": 5,
   "id": "9a39ed52",
   "metadata": {},
   "outputs": [
    {
     "data": {
      "text/plain": [
       "{10, 20, 60, 70}"
      ]
     },
     "execution_count": 5,
     "metadata": {},
     "output_type": "execute_result"
    }
   ],
   "source": [
    "result = foo.symmetric_difference(bar)\n",
    "result"
   ]
  },
  {
   "cell_type": "code",
   "execution_count": 6,
   "id": "fa3ca7c4",
   "metadata": {},
   "outputs": [
    {
     "data": {
      "text/plain": [
       "{10, 20, 60, 70}"
      ]
     },
     "execution_count": 6,
     "metadata": {},
     "output_type": "execute_result"
    }
   ],
   "source": [
    "foo.symmetric_difference_update(bar)\n",
    "foo"
   ]
  },
  {
   "cell_type": "code",
   "execution_count": 1,
   "id": "99726e39",
   "metadata": {},
   "outputs": [
    {
     "name": "stdout",
     "output_type": "stream",
     "text": [
      "('yogesh', 'satish')\n",
      "{'edu': 'bsc', 'city': 'pune'}\n"
     ]
    }
   ],
   "source": [
    "def stat(*args,**kwargs):\n",
    "    print(args)\n",
    "    print(kwargs)\n",
    "    \n",
    "stat(\"yogesh\",\"satish\", edu=\"bsc\", city)"
   ]
  },
  {
   "cell_type": "code",
   "execution_count": 10,
   "id": "13fecbbf",
   "metadata": {},
   "outputs": [],
   "source": [
    "with open(\"file.txt\",\"w\") as file:\n",
    "    file.writelines(\"yogesh\\n\")\n",
    "    file.writelines(\"yash\\n\")\n",
    "    file.writelines(\"ronaldo\\n\")\n",
    "    file.writelines(\"messi\")"
   ]
  },
  {
   "cell_type": "code",
   "execution_count": 15,
   "id": "5ba71f19",
   "metadata": {},
   "outputs": [
    {
     "name": "stdout",
     "output_type": "stream",
     "text": [
      "yogesh\n",
      "yash\n",
      "ronaldo\n",
      "messi\n"
     ]
    }
   ],
   "source": [
    "try:\n",
    "    with open(\"file.txt\",\"r\") as c:\n",
    "        print(c.read())\n",
    "except FileNotFoundError as E:\n",
    "    print(f\"[ERROR] file not found-->{E} \")"
   ]
  },
  {
   "cell_type": "code",
   "execution_count": 21,
   "id": "5a423df2",
   "metadata": {},
   "outputs": [
    {
     "data": {
      "text/plain": [
       "'YogeshPatil'"
      ]
     },
     "execution_count": 21,
     "metadata": {},
     "output_type": "execute_result"
    }
   ],
   "source": [
    "class tenth:\n",
    "    def __init__(self,name,div):\n",
    "        self.__name = name\n",
    "        self.div = div\n",
    "        \n",
    "    def get_name(self):\n",
    "        return self.__name\n",
    "    \n",
    "    def set_name(self, new_name):\n",
    "        self.name= new_name\n",
    "        \n",
    "class B(tenth):\n",
    "    def __init__(self,name,div,principle):\n",
    "        super().__init__(name,div)\n",
    "        self.principle=principle\n",
    "    \n",
    "    def get_name(self):\n",
    "        return self.principle\n",
    "    \n",
    "    def set_name(self, new_princi):\n",
    "        self.principle= new_princi\n",
    "        \n",
    "        \n",
    "        \n",
    "        \n",
    "        \n",
    "        \n",
    "obj= B(\"yogesh\".title(),\"B\",\"vr\")\n",
    "obj.get_name()\n",
    "obj.set_name(\"YogeshPatil\")\n",
    "obj.get_name()"
   ]
  },
  {
   "cell_type": "code",
   "execution_count": null,
   "id": "715ab49f",
   "metadata": {},
   "outputs": [],
   "source": []
  }
 ],
 "metadata": {
  "kernelspec": {
   "display_name": "Python 3 (ipykernel)",
   "language": "python",
   "name": "python3"
  },
  "language_info": {
   "codemirror_mode": {
    "name": "ipython",
    "version": 3
   },
   "file_extension": ".py",
   "mimetype": "text/x-python",
   "name": "python",
   "nbconvert_exporter": "python",
   "pygments_lexer": "ipython3",
   "version": "3.9.7"
  }
 },
 "nbformat": 4,
 "nbformat_minor": 5
}
