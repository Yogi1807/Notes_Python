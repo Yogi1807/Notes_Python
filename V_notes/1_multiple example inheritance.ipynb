{
 "cells": [
  {
   "cell_type": "code",
   "execution_count": 24,
   "id": "6a6ab201-c2e4-4f78-847b-65fa78f9bdaf",
   "metadata": {},
   "outputs": [
    {
     "name": "stdout",
     "output_type": "stream",
     "text": [
      "this is Shape class constructor\n",
      "this is Circle class constructor\n"
     ]
    },
    {
     "data": {
      "text/plain": [
       "<__main__.CircleShape at 0x1f3c9d8ff40>"
      ]
     },
     "execution_count": 24,
     "metadata": {},
     "output_type": "execute_result"
    }
   ],
   "source": [
    "class Shape:\n",
    "    \"\"\"super class of all the classes\"\"\"\n",
    "    \n",
    "    unit = \"meters\"   # class attribute\n",
    "\n",
    "    def __init__(self, name, area=0, color=\"yellow\"):\n",
    "    \n",
    "        print(\"this is Shape class constructor\")\n",
    "        self.name = name\n",
    "        self._area = area    # protected\n",
    "        self.__color = color\n",
    "        \n",
    "    def convert_dimension_to_cm(self, dimension):\n",
    "        if self.unit == \"meters\":\n",
    "            return dimension * 100\n",
    "        \n",
    "        \n",
    "class Circle:\n",
    "    def __init__(self, diameter, a, b, c, d):\n",
    "        print(\"this is Circle class constructor\")\n",
    "        self.diameter = diameter\n",
    "        \n",
    "    def convert_dimension_to_cm(self):\n",
    "        return self.diameter * 100\n",
    "    \n",
    "    \n",
    "    \n",
    "class CircleShape(Shape, Circle):\n",
    "    def __init__(self, name, diameter, another, area, color, x, y):\n",
    "        Shape.__init__(self, name)\n",
    "        Circle.__init__(self, name, diameter, another, area, color)\n",
    "        self.x = x\n",
    "        self.y = y\n",
    "        \n",
    "        \n",
    "        \n",
    "        \n",
    "\n",
    "first = CircleShape(\"my_cirle\", 50, 40, \"blue\", \"another\", 90, 80)\n",
    "first\n",
    "        "
   ]
  },
  {
   "cell_type": "code",
   "execution_count": 3,
   "id": "df801ac7-3f54-4bb4-b491-a506d2889193",
   "metadata": {},
   "outputs": [
    {
     "data": {
      "text/plain": [
       "['_Shape__color',\n",
       " '__class__',\n",
       " '__delattr__',\n",
       " '__dict__',\n",
       " '__dir__',\n",
       " '__doc__',\n",
       " '__eq__',\n",
       " '__format__',\n",
       " '__ge__',\n",
       " '__getattribute__',\n",
       " '__gt__',\n",
       " '__hash__',\n",
       " '__init__',\n",
       " '__init_subclass__',\n",
       " '__le__',\n",
       " '__lt__',\n",
       " '__module__',\n",
       " '__ne__',\n",
       " '__new__',\n",
       " '__reduce__',\n",
       " '__reduce_ex__',\n",
       " '__repr__',\n",
       " '__setattr__',\n",
       " '__sizeof__',\n",
       " '__str__',\n",
       " '__subclasshook__',\n",
       " '__weakref__',\n",
       " '_area',\n",
       " 'name',\n",
       " 'unit']"
      ]
     },
     "execution_count": 3,
     "metadata": {},
     "output_type": "execute_result"
    }
   ],
   "source": [
    "obj = Shape(\"triangle\")\n",
    "dir(obj)"
   ]
  },
  {
   "cell_type": "code",
   "execution_count": 80,
   "id": "515c0711",
   "metadata": {},
   "outputs": [
    {
     "data": {
      "text/plain": [
       "<__main__.Triangle at 0x1f3c9eb54c0>"
      ]
     },
     "execution_count": 80,
     "metadata": {},
     "output_type": "execute_result"
    }
   ],
   "source": [
    "class shape:\n",
    "    def __init__(self,side,v,a=60,b=90):\n",
    "        self.side=side\n",
    "        self.v=v\n",
    "       \n",
    "class size:\n",
    "    def __init__(self,size,a,b,f):\n",
    "        self.size=size\n",
    "        self.k=a\n",
    "        self.h=b\n",
    "        self.f=f\n",
    "        \n",
    "      \n",
    "\n",
    "        \n",
    "        \n",
    "class Triangle(shape,size):\n",
    "    def __init__(self,side,v,size,a,b,f,area):\n",
    "        super().__init__(side,v)\n",
    "        super().__init__(size,a,b,f)\n",
    "        self.area=area\n",
    "obj1= Triangle(2,3,7,4,8,9,7)\n",
    "obj1\n",
    "        "
   ]
  },
  {
   "cell_type": "code",
   "execution_count": null,
   "id": "213004e0",
   "metadata": {},
   "outputs": [],
   "source": []
  },
  {
   "cell_type": "code",
   "execution_count": 56,
   "id": "76731ffe",
   "metadata": {},
   "outputs": [
    {
     "ename": "TypeError",
     "evalue": "__init__() missing 1 required positional argument: 'y'",
     "output_type": "error",
     "traceback": [
      "\u001b[1;31m---------------------------------------------------------------------------\u001b[0m",
      "\u001b[1;31mTypeError\u001b[0m                                 Traceback (most recent call last)",
      "\u001b[1;32m~\\AppData\\Local\\Temp/ipykernel_11868/2043256364.py\u001b[0m in \u001b[0;36m<module>\u001b[1;34m\u001b[0m\n\u001b[0;32m     41\u001b[0m \u001b[1;33m\u001b[0m\u001b[0m\n\u001b[0;32m     42\u001b[0m \u001b[1;33m\u001b[0m\u001b[0m\n\u001b[1;32m---> 43\u001b[1;33m \u001b[0mfirst\u001b[0m \u001b[1;33m=\u001b[0m \u001b[0mCircleShape\u001b[0m\u001b[1;33m(\u001b[0m\u001b[1;34m\"my_cirle\"\u001b[0m\u001b[1;33m,\u001b[0m \u001b[1;36m50\u001b[0m\u001b[1;33m,\u001b[0m \u001b[1;36m40\u001b[0m\u001b[1;33m,\u001b[0m \u001b[1;34m\"blue\"\u001b[0m\u001b[1;33m,\u001b[0m \u001b[1;34m\"another\"\u001b[0m\u001b[1;33m,\u001b[0m \u001b[1;36m90\u001b[0m\u001b[1;33m,\u001b[0m \u001b[1;36m80\u001b[0m\u001b[1;33m)\u001b[0m\u001b[1;33m\u001b[0m\u001b[1;33m\u001b[0m\u001b[0m\n\u001b[0m\u001b[0;32m     44\u001b[0m \u001b[0mfirst\u001b[0m\u001b[1;33m\u001b[0m\u001b[1;33m\u001b[0m\u001b[0m\n\u001b[0;32m     45\u001b[0m \u001b[1;33m\u001b[0m\u001b[0m\n",
      "\u001b[1;31mTypeError\u001b[0m: __init__() missing 1 required positional argument: 'y'"
     ]
    }
   ],
   "source": [
    "class Shape:\n",
    "    \"\"\"super class of all the classes\"\"\"\n",
    "    \n",
    "    unit = \"meters\"   # class attribute\n",
    "\n",
    "    def __init__(self, name, area=0, color=\"yellow\"):\n",
    "    \n",
    "        print(\"this is Shape class constructor\")\n",
    "        self.name = name\n",
    "        self._area = area    # protected\n",
    "        self.__color = color\n",
    "        \n",
    "    def convert_dimension_to_cm(self, dimension):\n",
    "        if self.unit == \"meters\":\n",
    "            return dimension * 100\n",
    "        \n",
    "        \n",
    "class Circle:\n",
    "    def __init__(self, diameter, a, b, c):\n",
    "        print(\"this is Circle class constructor\")\n",
    "        self.diameter = diameter\n",
    "        self.a=a\n",
    "        self.b=b\n",
    "        self.c=c\n",
    "    \n",
    "        \n",
    "    def convert_dimension_to_cm(self):\n",
    "        return self.diameter * 100\n",
    "    \n",
    "    \n",
    "    \n",
    "class CircleShape(Shape, Circle):\n",
    "    def __init__(self, name, diameter, a, b, c, d, x, y):\n",
    "        super(). __init__(name)\n",
    "        super(). __init__(diameter, a, b, c)\n",
    "        self.x = x\n",
    "        self.y = y\n",
    "        \n",
    "        \n",
    "        \n",
    "        \n",
    "\n",
    "first = CircleShape(\"my_cirle\", 50, 40, \"blue\", \"another\", 90, 80)\n",
    "first\n",
    "        "
   ]
  },
  {
   "cell_type": "code",
   "execution_count": 55,
   "id": "9e00e680",
   "metadata": {},
   "outputs": [
    {
     "name": "stdout",
     "output_type": "stream",
     "text": [
      "this is Shape class constructor\n"
     ]
    },
    {
     "ename": "TypeError",
     "evalue": "__init__() takes from 2 to 4 positional arguments but 6 were given",
     "output_type": "error",
     "traceback": [
      "\u001b[1;31m---------------------------------------------------------------------------\u001b[0m",
      "\u001b[1;31mTypeError\u001b[0m                                 Traceback (most recent call last)",
      "\u001b[1;32m~\\AppData\\Local\\Temp/ipykernel_11868/1970370647.py\u001b[0m in \u001b[0;36m<module>\u001b[1;34m\u001b[0m\n\u001b[0;32m     37\u001b[0m \u001b[1;33m\u001b[0m\u001b[0m\n\u001b[0;32m     38\u001b[0m \u001b[1;33m\u001b[0m\u001b[0m\n\u001b[1;32m---> 39\u001b[1;33m \u001b[0mfirst\u001b[0m \u001b[1;33m=\u001b[0m \u001b[0mCircleShape\u001b[0m\u001b[1;33m(\u001b[0m\u001b[1;34m\"my_cirle\"\u001b[0m\u001b[1;33m,\u001b[0m \u001b[1;36m50\u001b[0m\u001b[1;33m,\u001b[0m \u001b[1;36m40\u001b[0m\u001b[1;33m,\u001b[0m \u001b[1;34m\"blue\"\u001b[0m\u001b[1;33m,\u001b[0m \u001b[1;34m\"another\"\u001b[0m\u001b[1;33m,\u001b[0m \u001b[1;36m90\u001b[0m\u001b[1;33m,\u001b[0m \u001b[1;36m80\u001b[0m\u001b[1;33m)\u001b[0m\u001b[1;33m\u001b[0m\u001b[1;33m\u001b[0m\u001b[0m\n\u001b[0m\u001b[0;32m     40\u001b[0m \u001b[0mfirst\u001b[0m\u001b[1;33m\u001b[0m\u001b[1;33m\u001b[0m\u001b[0m\n\u001b[0;32m     41\u001b[0m \u001b[1;33m\u001b[0m\u001b[0m\n",
      "\u001b[1;32m~\\AppData\\Local\\Temp/ipykernel_11868/1970370647.py\u001b[0m in \u001b[0;36m__init__\u001b[1;34m(self, name, diameter, another, area, color, x, y)\u001b[0m\n\u001b[0;32m     29\u001b[0m     \u001b[1;32mdef\u001b[0m \u001b[0m__init__\u001b[0m\u001b[1;33m(\u001b[0m\u001b[0mself\u001b[0m\u001b[1;33m,\u001b[0m \u001b[0mname\u001b[0m\u001b[1;33m,\u001b[0m \u001b[0mdiameter\u001b[0m\u001b[1;33m,\u001b[0m \u001b[0manother\u001b[0m\u001b[1;33m,\u001b[0m \u001b[0marea\u001b[0m\u001b[1;33m,\u001b[0m \u001b[0mcolor\u001b[0m\u001b[1;33m,\u001b[0m \u001b[0mx\u001b[0m\u001b[1;33m,\u001b[0m \u001b[0my\u001b[0m\u001b[1;33m)\u001b[0m\u001b[1;33m:\u001b[0m\u001b[1;33m\u001b[0m\u001b[1;33m\u001b[0m\u001b[0m\n\u001b[0;32m     30\u001b[0m         \u001b[0msuper\u001b[0m\u001b[1;33m(\u001b[0m\u001b[1;33m)\u001b[0m\u001b[1;33m.\u001b[0m\u001b[0m__init__\u001b[0m\u001b[1;33m(\u001b[0m \u001b[0mname\u001b[0m\u001b[1;33m)\u001b[0m\u001b[1;33m\u001b[0m\u001b[1;33m\u001b[0m\u001b[0m\n\u001b[1;32m---> 31\u001b[1;33m         \u001b[0msuper\u001b[0m\u001b[1;33m(\u001b[0m\u001b[1;33m)\u001b[0m\u001b[1;33m.\u001b[0m\u001b[0m__init__\u001b[0m\u001b[1;33m(\u001b[0m \u001b[0mname\u001b[0m\u001b[1;33m,\u001b[0m \u001b[0mdiameter\u001b[0m\u001b[1;33m,\u001b[0m \u001b[0manother\u001b[0m\u001b[1;33m,\u001b[0m \u001b[0marea\u001b[0m\u001b[1;33m,\u001b[0m \u001b[0mcolor\u001b[0m\u001b[1;33m)\u001b[0m\u001b[1;33m\u001b[0m\u001b[1;33m\u001b[0m\u001b[0m\n\u001b[0m\u001b[0;32m     32\u001b[0m         \u001b[0mself\u001b[0m\u001b[1;33m.\u001b[0m\u001b[0mx\u001b[0m \u001b[1;33m=\u001b[0m \u001b[0mx\u001b[0m\u001b[1;33m\u001b[0m\u001b[1;33m\u001b[0m\u001b[0m\n\u001b[0;32m     33\u001b[0m         \u001b[0mself\u001b[0m\u001b[1;33m.\u001b[0m\u001b[0my\u001b[0m \u001b[1;33m=\u001b[0m \u001b[0my\u001b[0m\u001b[1;33m\u001b[0m\u001b[1;33m\u001b[0m\u001b[0m\n",
      "\u001b[1;31mTypeError\u001b[0m: __init__() takes from 2 to 4 positional arguments but 6 were given"
     ]
    }
   ],
   "source": [
    "class Shape:\n",
    "    \"\"\"super class of all the classes\"\"\"\n",
    "    \n",
    "    unit = \"meters\"   # class attribute\n",
    "\n",
    "    def __init__(self, name, area=0, color=\"yellow\"):\n",
    "    \n",
    "        print(\"this is Shape class constructor\")\n",
    "        self.name = name\n",
    "        self._area = area    # protected\n",
    "        self.__color = color\n",
    "        \n",
    "    def convert_dimension_to_cm(self, dimension):\n",
    "        if self.unit == \"meters\":\n",
    "            return dimension * 100\n",
    "        \n",
    "        \n",
    "class Circle:\n",
    "    def __init__(self, diameter, a, b, c, d):\n",
    "        print(\"this is Circle class constructor\")\n",
    "        self.diameter = diameter\n",
    "        \n",
    "    def convert_dimension_to_cm(self):\n",
    "        return self.diameter * 100\n",
    "    \n",
    "    \n",
    "    \n",
    "class CircleShape(Shape, Circle):\n",
    "    def __init__(self, name, diameter, another, area, color, x, y):\n",
    "        super().__init__( name)\n",
    "        super().__init__( name, diameter, another, area, color)\n",
    "        self.x = x\n",
    "        self.y = y\n",
    "        \n",
    "        \n",
    "        \n",
    "        \n",
    "\n",
    "first = CircleShape(\"my_cirle\", 50, 40, \"blue\", \"another\", 90, 80)\n",
    "first\n",
    "        "
   ]
  },
  {
   "cell_type": "code",
   "execution_count": null,
   "id": "feea4aec",
   "metadata": {},
   "outputs": [],
   "source": []
  }
 ],
 "metadata": {
  "kernelspec": {
   "display_name": "Python 3 (ipykernel)",
   "language": "python",
   "name": "python3"
  },
  "language_info": {
   "codemirror_mode": {
    "name": "ipython",
    "version": 3
   },
   "file_extension": ".py",
   "mimetype": "text/x-python",
   "name": "python",
   "nbconvert_exporter": "python",
   "pygments_lexer": "ipython3",
   "version": "3.9.7"
  }
 },
 "nbformat": 4,
 "nbformat_minor": 5
}
