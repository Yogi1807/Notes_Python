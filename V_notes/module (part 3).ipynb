{
 "cells": [
  {
   "cell_type": "markdown",
   "id": "e23b3968-4d24-4fcf-ac60-f2bbe06e6d32",
   "metadata": {},
   "source": [
    "### how to create new project in pycharm?\n",
    "\n",
    "- select project location & project name and go with default settings and create.\n",
    "\n",
    "\n"
   ]
  },
  {
   "cell_type": "markdown",
   "id": "93bec37d-7efa-42a8-adc7-91af812727b0",
   "metadata": {},
   "source": [
    "### how to run script in pycharm?"
   ]
  },
  {
   "cell_type": "markdown",
   "id": "e7e7ca4e-448c-482b-8b3f-664b0b18671b",
   "metadata": {},
   "source": [
    "\"\"\"\n",
    "1. right click and run\n",
    "2. go to run tab and select `run <filename>`\n",
    "3. python <filename> in \"terminal (pycharm)\"\n",
    "\"\"\"\n",
    "\n",
    "print(\"hello world!\")\n"
   ]
  },
  {
   "cell_type": "markdown",
   "id": "edcba412-331a-432e-85bb-b323b0117084",
   "metadata": {},
   "source": [
    "## What is module?\n",
    "\n",
    "- Any code that is re-usable and sharable is called as module.\n",
    "\n",
    "\n",
    "- Python code can be written in interpreter and in file\n",
    "- when we execute code in interpreter its line-by-line execution\n",
    "- when we write code in file its a complete file execution at once.\n",
    "\n",
    "- If we want to break a large project into multiple files we can do that with the help of modules\n",
    "- module is nothing but collection of functions, classes and constants that can be imported and re-used elsewhere."
   ]
  },
  {
   "cell_type": "markdown",
   "id": "4f39b646-e7b1-4ad4-9310-cf0a9a8af70e",
   "metadata": {},
   "source": [
    "## project structure\n",
    "\n",
    "\n",
    "```\n",
    "first_project    (project directory)\n",
    "\n",
    "    - testmodule1.py   (shareable module - file containing Python code)\n",
    "    - testmodule2.py   (shareable module - file containing Python code)\n",
    "    - testmodule3.py   (shareable module - file containing Python code)\n",
    "    - entrypoint.py  (entrypoint)\n",
    "\n",
    "```\n",
    "\n",
    "STEPS - \n",
    "Step 1 - create a project with default settings in pycharm\n",
    "Step 2 - remove content of `entrypoint.py` file and replace with https://paste.centos.org/view/d0db3b1a\n",
    "Step 3 - create a new file by right clicking on project name (select python file)\n",
    "Step 4 - add code from following - \n",
    "\n",
    "https://paste.centos.org/view/7d9d9341\n",
    "\n",
    "Step 5 - execute main.py file using terminal (`python entrypoint.py`)"
   ]
  },
  {
   "cell_type": "markdown",
   "id": "4ae6ba82-a589-4038-af74-8bb1de7d7f65",
   "metadata": {},
   "source": [
    "## Entrypoint\n",
    "\n",
    "\n",
    "```\n",
    "first_project    (project directory)\n",
    "\n",
    "    - testmodule1.py   (shareable module - file containing Python code)\n",
    "    - testmodule2.py   (shareable module - file containing Python code)\n",
    "    - testmodule3.py   (shareable module - file containing Python code)\n",
    "    - entrypoint.py  (entrypoint)\n",
    "\n",
    "```\n",
    "\n",
    "- In above project, how do we define entrypoint of our project?\n",
    "\n",
    "- Python uses a global variable `__name__` to identify current module.\n",
    "\n",
    "\n",
    "- How do we execute python script? `python <filename.py>`\n",
    "- If we execute a file as an entrypoint ( meaning `python <filename.py>` )\n",
    "  then that particular file will have value of `__name__` as `__main__`\n",
    "\n"
   ]
  },
  {
   "cell_type": "markdown",
   "id": "3bfeed2a-7402-497a-8a23-eff7af52445b",
   "metadata": {},
   "source": [
    "## entrypoint clause - `if __name__ == \"__main__\":`\n",
    "\n",
    "- In Python, any module can be imported into other\n",
    "- In a project setup, we need one file as entrypoint\n",
    "- As a convention we denote the main file (entrypoint) with entrypoint clause (as follows -)\n",
    "\n",
    "```\n",
    "if __name__ == \"__main__\":\n",
    "\n",
    "    # differnet function calls\n",
    "    # and main logic goes here\n",
    "\n",
    "```\n",
    "\n",
    "- We use entrypoint clause in module code so that function calls/ statements in module code do not get executed (accidentally)\n",
    "  because of imports ( in other files)"
   ]
  }
 ],
 "metadata": {
  "kernelspec": {
   "display_name": "Python 3 (ipykernel)",
   "language": "python",
   "name": "python3"
  },
  "language_info": {
   "codemirror_mode": {
    "name": "ipython",
    "version": 3
   },
   "file_extension": ".py",
   "mimetype": "text/x-python",
   "name": "python",
   "nbconvert_exporter": "python",
   "pygments_lexer": "ipython3",
   "version": "3.9.7"
  }
 },
 "nbformat": 4,
 "nbformat_minor": 5
}
