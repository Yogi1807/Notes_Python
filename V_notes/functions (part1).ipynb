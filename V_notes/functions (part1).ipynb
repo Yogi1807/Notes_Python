{
 "cells": [
  {
   "cell_type": "markdown",
   "id": "e0262f1a-3f28-4027-b581-17b78332ca7a",
   "metadata": {},
   "source": [
    "# function\n",
    "\n",
    "- void function\n",
    "- return function"
   ]
  },
  {
   "cell_type": "code",
   "execution_count": 2,
   "id": "b1f08395-7549-40a8-b3ac-276ee363a703",
   "metadata": {},
   "outputs": [
    {
     "name": "stdout",
     "output_type": "stream",
     "text": [
      "\n",
      "Here is a list of the Python keywords.  Enter any keyword to get more help.\n",
      "\n",
      "False               class               from                or\n",
      "None                continue            global              pass\n",
      "True                def                 if                  raise\n",
      "and                 del                 import              return\n",
      "as                  elif                in                  try\n",
      "assert              else                is                  while\n",
      "async               except              lambda              with\n",
      "await               finally             nonlocal            yield\n",
      "break               for                 not                 \n",
      "\n"
     ]
    }
   ],
   "source": [
    "help(\"keywords\")"
   ]
  },
  {
   "cell_type": "markdown",
   "id": "25e95914-efea-422f-9d3a-b1166dd93ba2",
   "metadata": {},
   "source": [
    "syntax\n",
    "\n",
    "```\n",
    "def <function-name>(<params>):\n",
    "    statement1\n",
    "    statement2\n",
    "    ...\n",
    "    statementn\n",
    "\n",
    "```"
   ]
  },
  {
   "cell_type": "markdown",
   "id": "52d92b6f-a5ac-46db-a8d5-71653ac7ba98",
   "metadata": {},
   "source": [
    "## why do we define functions?\n",
    "\n",
    "- DRY principle\n",
    "- modularity : not repeating code again and again"
   ]
  },
  {
   "cell_type": "markdown",
   "id": "e4ba08d4-0b53-4bd9-bf57-fda5bda26f7e",
   "metadata": {},
   "source": [
    "### terminology\n",
    "\n",
    "parameters :: when defining a function inputs are called as parameters\n",
    "arguments :: when calling the function inputs are arguments"
   ]
  },
  {
   "cell_type": "markdown",
   "id": "65426809-aaaf-4fd7-acbb-13256355b09c",
   "metadata": {},
   "source": [
    "### void function"
   ]
  },
  {
   "cell_type": "code",
   "execution_count": 2,
   "id": "a0e3481b-046f-4966-83c7-5b9ac514d2ca",
   "metadata": {},
   "outputs": [
    {
     "name": "stdout",
     "output_type": "stream",
     "text": [
      "11\n",
      "function ends here\n",
      "out of the function\n"
     ]
    }
   ],
   "source": [
    "# when defining a function inputs are called as parameters\n",
    "def perform_addition(num1, num2):  # void function def starts here\n",
    "    result = num1 + num2\n",
    "    print(result)\n",
    "    print(\"function ends here\")  # void function def ends here\n",
    "perform_addition(5,6)    \n",
    "print(\"out of the function\")"
   ]
  },
  {
   "cell_type": "code",
   "execution_count": 7,
   "id": "6d6a0f12-2d74-4ed4-8fdd-fe82a86c3438",
   "metadata": {},
   "outputs": [
    {
     "name": "stdout",
     "output_type": "stream",
     "text": [
      "30\n"
     ]
    },
    {
     "data": {
      "text/plain": [
       "NoneType"
      ]
     },
     "execution_count": 7,
     "metadata": {},
     "output_type": "execute_result"
    }
   ],
   "source": [
    "# when calling the function inputs are arguments\n",
    "result = perform_addition(10, 20)\n",
    "type(result)"
   ]
  },
  {
   "cell_type": "code",
   "execution_count": 13,
   "id": "77f615b7-d0ab-41a7-b33c-89db19d6a63e",
   "metadata": {},
   "outputs": [],
   "source": [
    "def concat_(str1, str2):\n",
    "    result = str1 + str2\n"
   ]
  },
  {
   "cell_type": "code",
   "execution_count": 14,
   "id": "103c78f1-99f4-4bcd-b40c-69d4644c80c5",
   "metadata": {},
   "outputs": [
    {
     "data": {
      "text/plain": [
       "NoneType"
      ]
     },
     "execution_count": 14,
     "metadata": {},
     "output_type": "execute_result"
    }
   ],
   "source": [
    "type(concat_(\"prashant\", \" velocity\"))"
   ]
  },
  {
   "cell_type": "markdown",
   "id": "9d6f3723-64b3-41d2-8130-928de095ca60",
   "metadata": {},
   "source": [
    "### `return` type function"
   ]
  },
  {
   "cell_type": "code",
   "execution_count": null,
   "id": "a0e356a7-ac65-466d-a56a-eae684d73bd9",
   "metadata": {},
   "outputs": [],
   "source": [
    "def perform_addition(num1, num2):  # void function\n",
    "    result = num1 + num2\n",
    "    return result"
   ]
  },
  {
   "cell_type": "code",
   "execution_count": 22,
   "id": "5a745325-d9fb-40b3-ba65-a4516f1e874f",
   "metadata": {},
   "outputs": [
    {
     "name": "stdout",
     "output_type": "stream",
     "text": [
      "500\n"
     ]
    }
   ],
   "source": [
    "perform_addition(200, 300)"
   ]
  },
  {
   "cell_type": "code",
   "execution_count": 23,
   "id": "77cf3570-a986-4216-aad0-b494ec24ab58",
   "metadata": {},
   "outputs": [],
   "source": [
    "def concat_(str1, str2):  # function definition starts here\n",
    "    result = str1 + str2\n",
    "    return result  # function def ends here\n",
    "    \n",
    "concat_(\"prashant\", \" velocity\")"
   ]
  },
  {
   "cell_type": "markdown",
   "id": "aff7c6bb",
   "metadata": {},
   "source": [
    "### in-built functions\n",
    "\n",
    "- type\n",
    "- print\n",
    "- dir\n",
    "- help\n",
    "- int\n",
    "- float\n",
    "- str\n",
    "- sorted\n",
    "- reversed\n",
    "- sum\n",
    "- max\n",
    "- min\n",
    "- any\n",
    "- all\n",
    "- input\n",
    "- zip\n",
    "- isinstance\n",
    "- id\n",
    "- hash\n",
    "- enumerate\n",
    "- range\n",
    "- len\n",
    "- "
   ]
  },
  {
   "cell_type": "markdown",
   "id": "b780df42-842c-40ba-8cc7-60f91f0020d9",
   "metadata": {},
   "source": [
    "### function to check if length of data is larger than given size"
   ]
  },
  {
   "cell_type": "code",
   "execution_count": 26,
   "id": "c0d7de02-e1eb-41ca-b222-5a6aa675f221",
   "metadata": {},
   "outputs": [
    {
     "data": {
      "text/plain": [
       "True"
      ]
     },
     "execution_count": 26,
     "metadata": {},
     "output_type": "execute_result"
    }
   ],
   "source": [
    "# arguments are un-packed into parameters (in the same order)\n",
    "\n",
    "\n",
    "maxsize = 5\n",
    "sentence = \"python is awesome!\"\n",
    "\n",
    "def greater(data, max_):\n",
    "    result = len(data) > max_\n",
    "    return result\n",
    "\n",
    "\n",
    "foo = greater(sentence, maxsize)\n",
    "foo"
   ]
  },
  {
   "cell_type": "code",
   "execution_count": null,
   "id": "a4e16f8c-6246-4764-820d-d0204558339d",
   "metadata": {},
   "outputs": [],
   "source": [
    "# arguments are un-packed into parameters (in the same order)\n",
    "\n",
    "\n",
    "maxsize = 5\n",
    "sentence = \"python is awesome!\"\n",
    "\n",
    "\n",
    "# function definition\n",
    "def greater(data, max_):\n",
    "    result = len(data) > max_\n",
    "    return result\n",
    "\n",
    "\n",
    "# function call\n",
    "foo = greater(sentence, maxsize)\n",
    "foo"
   ]
  },
  {
   "cell_type": "markdown",
   "id": "a58b8cd1-ed0e-4d82-9093-5506bbec3be8",
   "metadata": {},
   "source": [
    "### convert degree fareignheit to celcius\n",
    "(32°F − 32) × 5/9 = 0°C\n"
   ]
  },
  {
   "cell_type": "code",
   "execution_count": 1,
   "id": "72ce006b-b8f6-41c3-ae9e-5e98c8dff43b",
   "metadata": {},
   "outputs": [
    {
     "data": {
      "text/plain": [
       "0"
      ]
     },
     "execution_count": 1,
     "metadata": {},
     "output_type": "execute_result"
    }
   ],
   "source": [
    "# return function\n",
    "\n",
    "def f_to_c(temp_f):\n",
    "    result = (temp_f - 32) * (5/9)\n",
    "    return int(result)\n",
    "\n",
    "f_to_c(32)"
   ]
  },
  {
   "cell_type": "code",
   "execution_count": 30,
   "id": "959083f3-0393-4109-901d-5f0defcc7f86",
   "metadata": {},
   "outputs": [
    {
     "name": "stdout",
     "output_type": "stream",
     "text": [
      "0\n"
     ]
    }
   ],
   "source": [
    "# void function\n",
    "\n",
    "def f_to_c(temp_f):\n",
    "    result = (temp_f - 32) * (5/9)\n",
    "    print(int(result))\n",
    "    \n",
    "\n",
    "f_to_c(32)\n"
   ]
  },
  {
   "cell_type": "code",
   "execution_count": 15,
   "id": "3de5747c-f9b0-4de0-9a69-d65383c8e5b8",
   "metadata": {},
   "outputs": [
    {
     "ename": "IndentationError",
     "evalue": "expected an indented block (Temp/ipykernel_2284/819431565.py, line 5)",
     "output_type": "error",
     "traceback": [
      "\u001b[1;36m  File \u001b[1;32m\"C:\\Users\\Shree\\AppData\\Local\\Temp/ipykernel_2284/819431565.py\"\u001b[1;36m, line \u001b[1;32m5\u001b[0m\n\u001b[1;33m    store_db(arg1, arg2, arg3)\u001b[0m\n\u001b[1;37m    ^\u001b[0m\n\u001b[1;31mIndentationError\u001b[0m\u001b[1;31m:\u001b[0m expected an indented block\n"
     ]
    }
   ],
   "source": [
    "def store_db(param1, param2, param3):\n",
    "    # store into database -----\n",
    "    \n",
    "    \n",
    "store_db(arg1, arg2, arg3)\n",
    "    "
   ]
  },
  {
   "cell_type": "code",
   "execution_count": 32,
   "id": "4b09e2c7-d259-4c7d-998c-71884697e50b",
   "metadata": {},
   "outputs": [
    {
     "name": "stdout",
     "output_type": "stream",
     "text": [
      "hello world\n"
     ]
    },
    {
     "data": {
      "text/plain": [
       "NoneType"
      ]
     },
     "execution_count": 32,
     "metadata": {},
     "output_type": "execute_result"
    }
   ],
   "source": [
    "result = print(\"hello world\")\n",
    "type(result)"
   ]
  },
  {
   "cell_type": "code",
   "execution_count": null,
   "id": "626195a6-4f2c-4bb3-8017-1d6490d01fd3",
   "metadata": {},
   "outputs": [],
   "source": []
  }
 ],
 "metadata": {
  "kernelspec": {
   "display_name": "Python 3 (ipykernel)",
   "language": "python",
   "name": "python3"
  },
  "language_info": {
   "codemirror_mode": {
    "name": "ipython",
    "version": 3
   },
   "file_extension": ".py",
   "mimetype": "text/x-python",
   "name": "python",
   "nbconvert_exporter": "python",
   "pygments_lexer": "ipython3",
   "version": "3.9.7"
  }
 },
 "nbformat": 4,
 "nbformat_minor": 5
}
