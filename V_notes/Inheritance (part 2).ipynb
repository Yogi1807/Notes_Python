{
 "cells": [
  {
   "cell_type": "markdown",
   "id": "2e6eea15-91d0-4e0f-be97-3774d453733d",
   "metadata": {},
   "source": [
    "## method `overriding` vs `overloading`\n",
    "\n",
    "\n",
    "- `method overriding`\n",
    "\n",
    "when function signature in both parent-class and child-class is same.\n",
    "\n",
    "\n",
    "- `method overloading`\n",
    "\n",
    "when you've similar function name in both parent and child class but additional number of parameters in child class\n",
    "\n",
    "function signature will have different number of parameters\n"
   ]
  },
  {
   "cell_type": "code",
   "execution_count": 1,
   "id": "fa66b39b-0014-4a41-af6b-e13ca582380a",
   "metadata": {},
   "outputs": [],
   "source": [
    "class Vehicle(object):\n",
    "    def __init__(self, capacity):\n",
    "        self.capacity = capacity\n",
    "        \n",
    "    def get_details(self, default=\"default-value\"):\n",
    "        return f\"Vehicle class :: {self.capacity}\"\n",
    "    \n",
    "    \n",
    "    \n",
    "class Cars(Vehicle):\n",
    "    def __init__(self, capacity, brand):\n",
    "        super().__init__(5)\n",
    "        self.brand = brand\n",
    "        \n",
    "    def get_details(self):\n",
    "        return f\"Car class :: {self.brand, self.capacity}\"\n",
    "    "
   ]
  },
  {
   "cell_type": "code",
   "execution_count": 3,
   "id": "3103dabe-055c-4c8d-9de2-164d61d688dc",
   "metadata": {},
   "outputs": [
    {
     "ename": "TypeError",
     "evalue": "get_details() got an unexpected keyword argument 'default'",
     "output_type": "error",
     "traceback": [
      "\u001b[1;31m---------------------------------------------------------------------------\u001b[0m",
      "\u001b[1;31mTypeError\u001b[0m                                 Traceback (most recent call last)",
      "\u001b[1;32m~\\AppData\\Local\\Temp/ipykernel_1940/977043486.py\u001b[0m in \u001b[0;36m<module>\u001b[1;34m\u001b[0m\n\u001b[0;32m      3\u001b[0m \u001b[0mcar_obj\u001b[0m\u001b[1;33m.\u001b[0m\u001b[0mget_details\u001b[0m\u001b[1;33m(\u001b[0m\u001b[1;33m)\u001b[0m\u001b[1;33m\u001b[0m\u001b[1;33m\u001b[0m\u001b[0m\n\u001b[0;32m      4\u001b[0m \u001b[1;33m\u001b[0m\u001b[0m\n\u001b[1;32m----> 5\u001b[1;33m \u001b[0mcar_obj\u001b[0m\u001b[1;33m.\u001b[0m\u001b[0mget_details\u001b[0m\u001b[1;33m(\u001b[0m\u001b[0mdefault\u001b[0m\u001b[1;33m=\u001b[0m\u001b[1;34m\"some random default\"\u001b[0m\u001b[1;33m)\u001b[0m\u001b[1;33m\u001b[0m\u001b[1;33m\u001b[0m\u001b[0m\n\u001b[0m",
      "\u001b[1;31mTypeError\u001b[0m: get_details() got an unexpected keyword argument 'default'"
     ]
    }
   ],
   "source": [
    "car_obj = Cars(5, \"Hyundai\")\n",
    "\n",
    "car_obj.get_details()\n",
    "\n",
    "car_obj.get_details(default=\"some random default\")"
   ]
  },
  {
   "cell_type": "code",
   "execution_count": 5,
   "id": "107f0a02-f6db-465d-85bd-d92a6b4183e9",
   "metadata": {},
   "outputs": [
    {
     "data": {
      "text/plain": [
       "\"Car class :: ('TATA', 5)\""
      ]
     },
     "execution_count": 5,
     "metadata": {},
     "output_type": "execute_result"
    }
   ],
   "source": [
    "class Vehicle1(object):\n",
    "    def __init__(self, capacity):\n",
    "        self.capacity = capacity\n",
    "        \n",
    "    def get_details(self):\n",
    "        return f\"Vehicle class :: {self.capacity}\"\n",
    "    \n",
    "    \n",
    "    \n",
    "class Cars1(Vehicle):\n",
    "    def __init__(self, capacity, brand):\n",
    "        super().__init__(5)\n",
    "        self.brand = brand\n",
    "        \n",
    "    # method overloading\n",
    "    def get_details(self, color, default=\"default-value\"):\n",
    "        return f\"Car class :: {self.brand, self.capacity}\"\n",
    "    \n",
    "    \n",
    "new_cars1 = Cars1(10, \"TATA\")\n",
    "new_cars1.get_details(\"red\")"
   ]
  },
  {
   "cell_type": "markdown",
   "id": "433309d8-8184-4c88-9b27-cd8ce4543f24",
   "metadata": {},
   "source": [
    "# Multiple inheritance\n",
    "\n",
    "- when child class is inherited from multiple base classes"
   ]
  },
  {
   "cell_type": "markdown",
   "id": "ed00c4bc-5353-4ebe-aed3-442e6412877e",
   "metadata": {},
   "source": [
    "#### syntax\n",
    "\n",
    "```\n",
    "\n",
    "class ChildClass(Base1, Base2)\n",
    "    pass\n",
    "```"
   ]
  },
  {
   "cell_type": "markdown",
   "id": "adfc4f48-b79b-4bf1-9ee2-b72472239889",
   "metadata": {},
   "source": [
    "### MRO (Method Resolution Order)\n",
    "\n",
    "- dynamic linear search algorithm\n",
    "- C3 linearization algorithm  [python3 onwards have this algo, it resolve diamond problem]\n",
    "\n",
    "\n",
    "- DFLR (Depth First, Left to Right)   [older version of Python] \n"
   ]
  },
  {
   "cell_type": "code",
   "execution_count": 12,
   "id": "74d25851-d862-4197-8f54-ee8d6a3423ee",
   "metadata": {},
   "outputs": [
    {
     "name": "stdout",
     "output_type": "stream",
     "text": [
      "short\n",
      "brown\n"
     ]
    }
   ],
   "source": [
    "class Mother:\n",
    "    def __init__(self):\n",
    "        self.height = \"tall\"\n",
    "        self.color = \"white\"\n",
    "    pass\n",
    "        \n",
    "        \n",
    "class Father:\n",
    "    def __init__(self):\n",
    "        self.height = \"short\"\n",
    "        self.color = \"brown\"\n",
    "\n",
    "\n",
    "class ChildClass(Mother, Father):\n",
    "    def __init__(self):\n",
    "        self.height = \"medium\"\n",
    "        self.color = \"black\"\n",
    "\n",
    "\n",
    "\n",
    "child_obj = ChildClass()\n",
    "\n",
    "print(child_obj.height)\n",
    "print(child_obj.color)"
   ]
  },
  {
   "cell_type": "markdown",
   "id": "2a31628a-6b66-482a-b695-33953f1e5287",
   "metadata": {},
   "source": [
    "#### 3 level hierarchy "
   ]
  },
  {
   "cell_type": "code",
   "execution_count": 23,
   "id": "5ffeb5d5-909e-47c2-9e9b-62effd9dd0fe",
   "metadata": {},
   "outputs": [
    {
     "data": {
      "text/plain": [
       "'Person class'"
      ]
     },
     "execution_count": 23,
     "metadata": {},
     "output_type": "execute_result"
    }
   ],
   "source": [
    "class Person:\n",
    "    def get_details(self):\n",
    "        return \"Person class\"\n",
    "    \n",
    "    \n",
    "class GrandFather_Mother(Person):\n",
    "    # def get_details(self):\n",
    "    #     return \"GrandFather_Mother class\"\n",
    "    pass\n",
    "\n",
    "    \n",
    "class GrandFather_Father(Person):\n",
    "    # def get_details(self):\n",
    "    #     return \"GrandFather_Father class\"\n",
    "    pass\n",
    "\n",
    "\n",
    "class Mother(GrandFather_Mother):\n",
    "    def __init__(self):\n",
    "        self.height = \"tall\"\n",
    "        self.color = \"white\"\n",
    "    \n",
    "        \n",
    "        \n",
    "class Father(GrandFather_Father):\n",
    "    def __init__(self):\n",
    "        self.height = \"short\"\n",
    "        self.color = \"brown\"\n",
    "\n",
    "\n",
    "class ChildClass(Mother, Father):\n",
    "    def __init__(self):\n",
    "        self.height = \"medium\"\n",
    "        self.color = \"black\"\n",
    "\n",
    "        \n",
    "child_obj = ChildClass()\n",
    "child_obj.get_details()\n",
    "\n"
   ]
  },
  {
   "cell_type": "code",
   "execution_count": 24,
   "id": "23805e93-fbf8-4220-8631-96d62c2d2c9c",
   "metadata": {},
   "outputs": [
    {
     "data": {
      "text/plain": [
       "[__main__.ChildClass,\n",
       " __main__.Mother,\n",
       " __main__.GrandFather_Mother,\n",
       " __main__.Father,\n",
       " __main__.GrandFather_Father,\n",
       " __main__.Person,\n",
       " object]"
      ]
     },
     "execution_count": 24,
     "metadata": {},
     "output_type": "execute_result"
    }
   ],
   "source": [
    "ChildClass.mro()"
   ]
  },
  {
   "cell_type": "code",
   "execution_count": null,
   "id": "ee3066a8-e76f-4f1c-ba1b-8bfc3077a0fb",
   "metadata": {},
   "outputs": [],
   "source": []
  },
  {
   "cell_type": "code",
   "execution_count": 17,
   "id": "7c15eca4-c2eb-4105-868d-b680ce0eac42",
   "metadata": {},
   "outputs": [
    {
     "name": "stdout",
     "output_type": "stream",
     "text": [
      "GrandParent class\n"
     ]
    }
   ],
   "source": [
    "class GrandParent:\n",
    "    def get_details(self):\n",
    "        print(\"GrandParent class\")\n",
    "        \n",
    "        \n",
    "class Mother(GrandParent):\n",
    "    def __init__(self):\n",
    "        self.height = \"tall\"\n",
    "        self.color = \"white\"\n",
    "        \n",
    "        \n",
    "class Father(GrandParent):\n",
    "    def __init__(self):\n",
    "        self.height = \"short\"\n",
    "        self.color = \"brown\"\n",
    "        \n",
    "        \n",
    "class Child(Mother, Father):\n",
    "    pass\n",
    "\n",
    "\n",
    "obj = Child()\n",
    "obj.get_details()\n",
    "        "
   ]
  },
  {
   "cell_type": "code",
   "execution_count": 21,
   "id": "5007c984-b8e3-4531-a636-9629a22cc152",
   "metadata": {},
   "outputs": [
    {
     "data": {
      "text/plain": [
       "['__class__',\n",
       " '__delattr__',\n",
       " '__dict__',\n",
       " '__dir__',\n",
       " '__doc__',\n",
       " '__eq__',\n",
       " '__format__',\n",
       " '__ge__',\n",
       " '__getattribute__',\n",
       " '__gt__',\n",
       " '__hash__',\n",
       " '__init__',\n",
       " '__init_subclass__',\n",
       " '__le__',\n",
       " '__lt__',\n",
       " '__module__',\n",
       " '__ne__',\n",
       " '__new__',\n",
       " '__reduce__',\n",
       " '__reduce_ex__',\n",
       " '__repr__',\n",
       " '__setattr__',\n",
       " '__sizeof__',\n",
       " '__str__',\n",
       " '__subclasshook__',\n",
       " '__weakref__',\n",
       " 'get_details']"
      ]
     },
     "execution_count": 21,
     "metadata": {},
     "output_type": "execute_result"
    }
   ],
   "source": [
    "obj = Child()\n",
    "\n",
    "dir(Child)"
   ]
  },
  {
   "cell_type": "code",
   "execution_count": 22,
   "id": "45673aa6-12a0-4757-b46b-0173ef30b3c3",
   "metadata": {},
   "outputs": [
    {
     "data": {
      "text/plain": [
       "[__main__.Child,\n",
       " __main__.Mother,\n",
       " __main__.Father,\n",
       " __main__.GrandParent,\n",
       " object]"
      ]
     },
     "execution_count": 22,
     "metadata": {},
     "output_type": "execute_result"
    }
   ],
   "source": [
    "Child.mro()"
   ]
  }
 ],
 "metadata": {
  "kernelspec": {
   "display_name": "Python 3 (ipykernel)",
   "language": "python",
   "name": "python3"
  },
  "language_info": {
   "codemirror_mode": {
    "name": "ipython",
    "version": 3
   },
   "file_extension": ".py",
   "mimetype": "text/x-python",
   "name": "python",
   "nbconvert_exporter": "python",
   "pygments_lexer": "ipython3",
   "version": "3.9.7"
  }
 },
 "nbformat": 4,
 "nbformat_minor": 5
}
