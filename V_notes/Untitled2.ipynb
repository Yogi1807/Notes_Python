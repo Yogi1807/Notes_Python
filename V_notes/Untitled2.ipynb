{
 "cells": [
  {
   "cell_type": "code",
   "execution_count": 1,
   "id": "7a1fb534",
   "metadata": {},
   "outputs": [
    {
     "data": {
      "text/plain": [
       "['__class__',\n",
       " '__class_getitem__',\n",
       " '__contains__',\n",
       " '__delattr__',\n",
       " '__delitem__',\n",
       " '__dir__',\n",
       " '__doc__',\n",
       " '__eq__',\n",
       " '__format__',\n",
       " '__ge__',\n",
       " '__getattribute__',\n",
       " '__getitem__',\n",
       " '__gt__',\n",
       " '__hash__',\n",
       " '__init__',\n",
       " '__init_subclass__',\n",
       " '__ior__',\n",
       " '__iter__',\n",
       " '__le__',\n",
       " '__len__',\n",
       " '__lt__',\n",
       " '__ne__',\n",
       " '__new__',\n",
       " '__or__',\n",
       " '__reduce__',\n",
       " '__reduce_ex__',\n",
       " '__repr__',\n",
       " '__reversed__',\n",
       " '__ror__',\n",
       " '__setattr__',\n",
       " '__setitem__',\n",
       " '__sizeof__',\n",
       " '__str__',\n",
       " '__subclasshook__',\n",
       " 'clear',\n",
       " 'copy',\n",
       " 'fromkeys',\n",
       " 'get',\n",
       " 'items',\n",
       " 'keys',\n",
       " 'pop',\n",
       " 'popitem',\n",
       " 'setdefault',\n",
       " 'update',\n",
       " 'values']"
      ]
     },
     "execution_count": 1,
     "metadata": {},
     "output_type": "execute_result"
    }
   ],
   "source": [
    "foo = dict()\n",
    "dir(foo)"
   ]
  },
  {
   "cell_type": "markdown",
   "id": "0a23eb16",
   "metadata": {},
   "source": [
    "'clear',\n",
    " 'copy',\n",
    " 'fromkeys',\n",
    " 'get',\n",
    " 'items',\n",
    " 'keys',\n",
    " 'pop',\n",
    " 'popitem',\n",
    " 'setdefault',\n",
    " 'update',\n",
    " 'values']"
   ]
  },
  {
   "cell_type": "code",
   "execution_count": 2,
   "id": "9f298d6e",
   "metadata": {},
   "outputs": [
    {
     "name": "stdout",
     "output_type": "stream",
     "text": [
      "Help on method_descriptor:\n",
      "\n",
      "clear(...)\n",
      "    D.clear() -> None.  Remove all items from D.\n",
      "\n"
     ]
    }
   ],
   "source": [
    "help(dict.clear)"
   ]
  },
  {
   "cell_type": "code",
   "execution_count": 3,
   "id": "f9cd5ac5",
   "metadata": {},
   "outputs": [
    {
     "name": "stdout",
     "output_type": "stream",
     "text": [
      "Help on method_descriptor:\n",
      "\n",
      "copy(...)\n",
      "    D.copy() -> a shallow copy of D\n",
      "\n"
     ]
    }
   ],
   "source": [
    "help(dict.copy)"
   ]
  },
  {
   "cell_type": "code",
   "execution_count": 4,
   "id": "5e341c85",
   "metadata": {},
   "outputs": [
    {
     "name": "stdout",
     "output_type": "stream",
     "text": [
      "Help on built-in function fromkeys:\n",
      "\n",
      "fromkeys(iterable, value=None, /) method of builtins.type instance\n",
      "    Create a new dictionary with keys from iterable and values set to value.\n",
      "\n"
     ]
    }
   ],
   "source": [
    "help(dict.fromkeys)"
   ]
  },
  {
   "cell_type": "code",
   "execution_count": 5,
   "id": "d9eb7cfe",
   "metadata": {},
   "outputs": [],
   "source": [
    "company_data = {\n",
    "    \"accenture\": 300000,\n",
    "    \"capgemini\": 200000,\n",
    "    \"credit suisse\": 10000\n",
    "}"
   ]
  },
  {
   "cell_type": "code",
   "execution_count": 7,
   "id": "4e36308f",
   "metadata": {},
   "outputs": [
    {
     "data": {
      "text/plain": [
       "300000"
      ]
     },
     "execution_count": 7,
     "metadata": {},
     "output_type": "execute_result"
    }
   ],
   "source": [
    "company_data.pop(\"accenture\")"
   ]
  },
  {
   "cell_type": "code",
   "execution_count": 8,
   "id": "2c8d0333",
   "metadata": {},
   "outputs": [],
   "source": [
    "company_data = {\n",
    "    \"accenture\": 300000,\n",
    "    \"capgemini\": 200000,\n",
    "    \"credit suisse\": 10000\n",
    "}"
   ]
  },
  {
   "cell_type": "code",
   "execution_count": 13,
   "id": "2697df19",
   "metadata": {},
   "outputs": [
    {
     "ename": "KeyError",
     "evalue": "'popitem(): dictionary is empty'",
     "output_type": "error",
     "traceback": [
      "\u001b[0;31m---------------------------------------------------------------------------\u001b[0m",
      "\u001b[0;31mKeyError\u001b[0m                                  Traceback (most recent call last)",
      "Cell \u001b[0;32mIn [13], line 1\u001b[0m\n\u001b[0;32m----> 1\u001b[0m \u001b[43mcompany_data\u001b[49m\u001b[38;5;241;43m.\u001b[39;49m\u001b[43mpopitem\u001b[49m\u001b[43m(\u001b[49m\u001b[43m)\u001b[49m\n",
      "\u001b[0;31mKeyError\u001b[0m: 'popitem(): dictionary is empty'"
     ]
    }
   ],
   "source": [
    "company_data.popitem()"
   ]
  },
  {
   "cell_type": "code",
   "execution_count": 12,
   "id": "492c6373",
   "metadata": {},
   "outputs": [
    {
     "data": {
      "text/plain": [
       "{}"
      ]
     },
     "execution_count": 12,
     "metadata": {},
     "output_type": "execute_result"
    }
   ],
   "source": [
    "company_data"
   ]
  },
  {
   "cell_type": "code",
   "execution_count": 14,
   "id": "42abc45c",
   "metadata": {},
   "outputs": [],
   "source": [
    "mumbai = {\n",
    "    \"population\": \"1 cr\",\n",
    "    \"area\": \"40 sqkm\",\n",
    "    \"mayor\": \"abc\",\n",
    "    \"suburbs\": [\"andheri\", \"dadar\", \"ghatkopar\"]\n",
    "}\n",
    "\n",
    "pune = {\n",
    "    \"population\": \"0.7 cr\",\n",
    "    \"area\": \"30 sqkm\",\n",
    "    \"mayor\": \"xyz\",\n",
    "    \"suburbs\": [\"kothrud\", \"wakad\", \"shivajinagar\", \"warje\"]\n",
    "}\n",
    "\n",
    "city_data = {\"capital city\": mumbai, \"education hub\": pune}\n",
    "\n",
    "city_data[\"education hub\"][\"suburbs\"].append(\"hadapsar\")"
   ]
  },
  {
   "cell_type": "code",
   "execution_count": 17,
   "id": "0d6f68d3",
   "metadata": {},
   "outputs": [
    {
     "data": {
      "text/plain": [
       "'wakad'"
      ]
     },
     "execution_count": 17,
     "metadata": {},
     "output_type": "execute_result"
    }
   ],
   "source": [
    "city_data[\"education hub\"][\"suburbs\"][1]"
   ]
  },
  {
   "cell_type": "code",
   "execution_count": 1,
   "id": "af41ac11",
   "metadata": {},
   "outputs": [
    {
     "data": {
      "text/plain": [
       "['__add__',\n",
       " '__class__',\n",
       " '__contains__',\n",
       " '__delattr__',\n",
       " '__dir__',\n",
       " '__doc__',\n",
       " '__eq__',\n",
       " '__format__',\n",
       " '__ge__',\n",
       " '__getattribute__',\n",
       " '__getitem__',\n",
       " '__getnewargs__',\n",
       " '__gt__',\n",
       " '__hash__',\n",
       " '__init__',\n",
       " '__init_subclass__',\n",
       " '__iter__',\n",
       " '__le__',\n",
       " '__len__',\n",
       " '__lt__',\n",
       " '__mod__',\n",
       " '__mul__',\n",
       " '__ne__',\n",
       " '__new__',\n",
       " '__reduce__',\n",
       " '__reduce_ex__',\n",
       " '__repr__',\n",
       " '__rmod__',\n",
       " '__rmul__',\n",
       " '__setattr__',\n",
       " '__sizeof__',\n",
       " '__str__',\n",
       " '__subclasshook__',\n",
       " 'capitalize',\n",
       " 'casefold',\n",
       " 'center',\n",
       " 'count',\n",
       " 'encode',\n",
       " 'endswith',\n",
       " 'expandtabs',\n",
       " 'find',\n",
       " 'format',\n",
       " 'format_map',\n",
       " 'index',\n",
       " 'isalnum',\n",
       " 'isalpha',\n",
       " 'isascii',\n",
       " 'isdecimal',\n",
       " 'isdigit',\n",
       " 'isidentifier',\n",
       " 'islower',\n",
       " 'isnumeric',\n",
       " 'isprintable',\n",
       " 'isspace',\n",
       " 'istitle',\n",
       " 'isupper',\n",
       " 'join',\n",
       " 'ljust',\n",
       " 'lower',\n",
       " 'lstrip',\n",
       " 'maketrans',\n",
       " 'partition',\n",
       " 'removeprefix',\n",
       " 'removesuffix',\n",
       " 'replace',\n",
       " 'rfind',\n",
       " 'rindex',\n",
       " 'rjust',\n",
       " 'rpartition',\n",
       " 'rsplit',\n",
       " 'rstrip',\n",
       " 'split',\n",
       " 'splitlines',\n",
       " 'startswith',\n",
       " 'strip',\n",
       " 'swapcase',\n",
       " 'title',\n",
       " 'translate',\n",
       " 'upper',\n",
       " 'zfill']"
      ]
     },
     "execution_count": 1,
     "metadata": {},
     "output_type": "execute_result"
    }
   ],
   "source": [
    "dir(\"\")"
   ]
  },
  {
   "cell_type": "markdown",
   "id": "a8941a01",
   "metadata": {},
   "source": [
    "- ['capitalize',\n",
    " 'casefold',\n",
    " 'center',\n",
    " 'count',\n",
    " 'encode',\n",
    " 'endswith',\n",
    " 'expandtabs',\n",
    " 'find',\n",
    " 'format',\n",
    " 'format_map',\n",
    " 'index',\n",
    " 'isalnum',\n",
    " 'isalpha',\n",
    " 'isascii',\n",
    " 'isdecimal',\n",
    " 'isdigit',\n",
    " 'isidentifier',\n",
    " 'islower',\n",
    " 'isnumeric',\n",
    " 'isprintable',\n",
    " 'isspace',\n",
    " 'istitle',\n",
    " 'isupper',\n",
    " 'join',\n",
    " 'ljust',\n",
    " 'lower',\n",
    " 'lstrip',\n",
    " 'maketrans',\n",
    " 'partition',\n",
    " 'removeprefix',\n",
    " 'removesuffix',\n",
    " 'replace',\n",
    " 'rfind',\n",
    " 'rindex',\n",
    " 'rjust',\n",
    " 'rpartition',\n",
    " 'rsplit',\n",
    " 'rstrip',\n",
    " 'split',\n",
    " 'splitlines',\n",
    " 'startswith',\n",
    " 'strip',\n",
    " 'swapcase',\n",
    " 'title',\n",
    " 'translate',\n",
    " 'upper',\n",
    " 'zfill']\n",
    "​\n"
   ]
  },
  {
   "cell_type": "code",
   "execution_count": 10,
   "id": "01f4dc00",
   "metadata": {},
   "outputs": [
    {
     "data": {
      "text/plain": [
       "'yogesh****'"
      ]
     },
     "execution_count": 10,
     "metadata": {},
     "output_type": "execute_result"
    }
   ],
   "source": [
    "\"yogesh\".ljust(10,\"*\")"
   ]
  },
  {
   "cell_type": "code",
   "execution_count": 9,
   "id": "41dd14fb",
   "metadata": {},
   "outputs": [
    {
     "data": {
      "text/plain": [
       "{'name': 'Vishal', 'Salary': 76000, 'Age': 25}"
      ]
     },
     "execution_count": 9,
     "metadata": {},
     "output_type": "execute_result"
    }
   ],
   "source": [
    "person={\"name\":\"Vishal\",\"Salary\":76000}\n",
    "\n",
    "person.setdefault(\"Age\",25)\n",
    "person\n"
   ]
  },
  {
   "cell_type": "code",
   "execution_count": 2,
   "id": "879af3f3",
   "metadata": {},
   "outputs": [
    {
     "name": "stdout",
     "output_type": "stream",
     "text": [
      "0\n"
     ]
    }
   ],
   "source": [
    "lst=(0,1,2,3,4,5,6,7,8,9)\n",
    "zero,one,two,three,four,five,six,seven,eight,nine=lst\n",
    "print(zero)"
   ]
  },
  {
   "cell_type": "code",
   "execution_count": 5,
   "id": "06f16683",
   "metadata": {},
   "outputs": [
    {
     "name": "stdout",
     "output_type": "stream",
     "text": [
      "6\n"
     ]
    }
   ],
   "source": [
    "digit=int(input())\n",
    "if digit==0:\n",
    "    print(zero)"
   ]
  },
  {
   "cell_type": "code",
   "execution_count": null,
   "id": "93f41ffa",
   "metadata": {},
   "outputs": [],
   "source": []
  },
  {
   "cell_type": "code",
   "execution_count": 15,
   "id": "5eade9ec",
   "metadata": {},
   "outputs": [
    {
     "data": {
      "text/plain": [
       "['python', 'math', 'cricket']"
      ]
     },
     "execution_count": 15,
     "metadata": {},
     "output_type": "execute_result"
    }
   ],
   "source": [
    "class Tybsc:\n",
    "    Teacher1=\"vikas\"    #class attributes\n",
    "    Teacher2=\"nilesh\"    \n",
    "    Teacher3=\"boxwala\"    \n",
    "    Teacher4=\"aditi\"    \n",
    "    Teacher5=\"shinde\"\n",
    "    \n",
    "    \n",
    "    def __init__(self, name, marks, *skills):\n",
    "        self.name= name\n",
    "        self.marks= marks     #instance attribute\n",
    "        self.skills=[i for i in skills]\n",
    "        \n",
    "student1= Tybsc(\"dnyanesh\", 100, \"maths\",\"python\",\"c++\" )\n",
    "student2= Tybsc(\"yash\",99,\"math\",\"machine learning\")\n",
    "student3= Tybsc(\"yogesh\",98,\"python\",\"math\",\"cricket\")\n",
    "\n",
    "student3.skills"
   ]
  },
  {
   "cell_type": "code",
   "execution_count": 17,
   "id": "bed5bfee",
   "metadata": {},
   "outputs": [
    {
     "data": {
      "text/plain": [
       "'vikas'"
      ]
     },
     "execution_count": 17,
     "metadata": {},
     "output_type": "execute_result"
    }
   ],
   "source": [
    "Tybsc.Teacher1"
   ]
  },
  {
   "cell_type": "code",
   "execution_count": 7,
   "id": "4cb50bc9",
   "metadata": {},
   "outputs": [
    {
     "name": "stdout",
     "output_type": "stream",
     "text": [
      "0\n",
      "Juice is on the way..\n",
      " glass number 1.. take\n",
      " glass number 2.. take\n",
      " glass number 3.. take\n",
      "3\n",
      "**************************************************\n",
      "3\n",
      "Juice is on the way..\n",
      " glass number 1.. take\n",
      " glass number 2.. take\n",
      " glass number 3.. take\n",
      " glass number 4.. take\n",
      " glass number 5.. take\n",
      "8\n",
      "**************************************************\n",
      "8\n",
      "Juice is on the way..\n",
      " glass number 1.. take\n",
      " glass number 2.. take\n",
      " glass number 3.. take\n",
      " glass number 4.. take\n",
      " glass number 5.. take\n",
      " glass number 6.. take\n",
      " glass number 7.. take\n",
      " glass number 8.. take\n",
      " glass number 9.. take\n",
      " glass number 10.. take\n",
      " glass number 11.. take\n",
      " glass number 12.. take\n",
      " glass number 13.. take\n",
      " glass number 14.. take\n",
      " glass number 15.. take\n",
      "23\n"
     ]
    }
   ],
   "source": [
    "class Juice:\n",
    "    counter=0\n",
    "    def __init__(self,name):\n",
    "        self.name= name\n",
    "    \n",
    "    @staticmethod\n",
    "    def making_juice( how_many):\n",
    "        print(Juice.counter)\n",
    "        print(\"Juice is on the way..\")\n",
    "        for i in range(1,how_many+1):\n",
    "            Juice.total(i)\n",
    "    @staticmethod\n",
    "    def total(g):\n",
    "        print (f\" glass number {g}.. take\")\n",
    "        Juice.counter+=1\n",
    "Juice(\"hg\").making_juice(3)\n",
    "print(Juice.counter)\n",
    "print(\"*\"*50)\n",
    "Juice(\"hg\").making_juice(5)\n",
    "print(Juice.counter)\n",
    "print(\"*\"*50)\n",
    "Juice(\"hg\").making_juice(15)\n",
    "print(Juice.counter)\n"
   ]
  },
  {
   "cell_type": "code",
   "execution_count": null,
   "id": "3ea3edfa",
   "metadata": {},
   "outputs": [],
   "source": []
  },
  {
   "cell_type": "code",
   "execution_count": 14,
   "id": "032345de",
   "metadata": {},
   "outputs": [
    {
     "data": {
      "text/plain": [
       "10000000"
      ]
     },
     "execution_count": 14,
     "metadata": {},
     "output_type": "execute_result"
    }
   ],
   "source": [
    "class Teacher:\n",
    "    def __init__(self, name, salary):\n",
    "        self.name= name\n",
    "        self.__salary= salary\n",
    "    \n",
    "    @property\n",
    "    def get_salary(self):\n",
    "        return self.__salary\n",
    "    \n",
    "    @get_salary.setter\n",
    "    def set_salary(self,new):\n",
    "        self.__salary= new\n",
    "        \n",
    "class Dr(Teacher):\n",
    "    def __init__(self,name,salary,sub,specialist):\n",
    "        super().__init__(name,salary)\n",
    "        self.sub=sub\n",
    "        self.specialist=specialist\n",
    "        \n",
    "        \n",
    "Yogesh = Dr(\"Yogesh\", 10000000,\"Anatomy\", \"Gynac\")\n",
    "Yogesh.get_salary\n",
    "# Yogesh.set_salary=110000000000\n",
    "# Yogesh.get_salary\n",
    "        "
   ]
  },
  {
   "cell_type": "code",
   "execution_count": null,
   "id": "987485cb",
   "metadata": {},
   "outputs": [],
   "source": []
  }
 ],
 "metadata": {
  "kernelspec": {
   "display_name": "Python 3 (ipykernel)",
   "language": "python",
   "name": "python3"
  },
  "language_info": {
   "codemirror_mode": {
    "name": "ipython",
    "version": 3
   },
   "file_extension": ".py",
   "mimetype": "text/x-python",
   "name": "python",
   "nbconvert_exporter": "python",
   "pygments_lexer": "ipython3",
   "version": "3.9.7"
  }
 },
 "nbformat": 4,
 "nbformat_minor": 5
}
