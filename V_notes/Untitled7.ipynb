{
 "cells": [
  {
   "cell_type": "markdown",
   "id": "677a9d36-ee54-4030-9765-e39dc47b2587",
   "metadata": {},
   "source": [
    "- why do we use `self`?\n",
    "\n",
    "- what are method attributes?\n",
    "\n",
    "- instance attributes vs class attributes\n",
    "\n",
    "- `getattr()`\n",
    "\n",
    "- `setattr()`\n",
    "\n",
    "\n",
    "- magic methods, special methods\n"
   ]
  },
  {
   "cell_type": "code",
   "execution_count": null,
   "id": "65f14742-ebc3-4163-b61e-cc32a9af4888",
   "metadata": {},
   "outputs": [],
   "source": [
    "- __new__\n",
    "- __init__"
   ]
  },
  {
   "cell_type": "code",
   "execution_count": 4,
   "id": "86750c3e-e855-4f44-a7b5-4593ac51760b",
   "metadata": {},
   "outputs": [],
   "source": [
    "class Student(object):\n",
    "    \"\"\"\n",
    "    this is a student class\n",
    "    \"\"\"\n",
    "    \n",
    "    pass\n"
   ]
  },
  {
   "cell_type": "code",
   "execution_count": 8,
   "id": "648f7768-b7b2-4b48-bc48-ba961d00e931",
   "metadata": {},
   "outputs": [
    {
     "name": "stdout",
     "output_type": "stream",
     "text": [
      "Help on class Student in module __main__:\n",
      "\n",
      "class Student(builtins.object)\n",
      " |  this is a student class\n",
      " |  \n",
      " |  Data descriptors defined here:\n",
      " |  \n",
      " |  __dict__\n",
      " |      dictionary for instance variables (if defined)\n",
      " |  \n",
      " |  __weakref__\n",
      " |      list of weak references to the object (if defined)\n",
      "\n"
     ]
    }
   ],
   "source": [
    "help(Student)"
   ]
  },
  {
   "cell_type": "code",
   "execution_count": 1,
   "id": "cf7f286c-7d5e-4882-8865-ade28861d163",
   "metadata": {},
   "outputs": [
    {
     "data": {
      "text/plain": [
       "['__class__',\n",
       " '__delattr__',\n",
       " '__dir__',\n",
       " '__doc__',\n",
       " '__eq__',\n",
       " '__format__',\n",
       " '__ge__',\n",
       " '__getattribute__',\n",
       " '__gt__',\n",
       " '__hash__',\n",
       " '__init__',\n",
       " '__init_subclass__',\n",
       " '__le__',\n",
       " '__lt__',\n",
       " '__ne__',\n",
       " '__new__',\n",
       " '__reduce__',\n",
       " '__reduce_ex__',\n",
       " '__repr__',\n",
       " '__setattr__',\n",
       " '__sizeof__',\n",
       " '__str__',\n",
       " '__subclasshook__']"
      ]
     },
     "execution_count": 1,
     "metadata": {},
     "output_type": "execute_result"
    }
   ],
   "source": [
    "dir(object)"
   ]
  },
  {
   "cell_type": "code",
   "execution_count": 3,
   "id": "225a9dc9",
   "metadata": {},
   "outputs": [
    {
     "name": "stdout",
     "output_type": "stream",
     "text": [
      "Help on built-in function getattr in module builtins:\n",
      "\n",
      "getattr(...)\n",
      "    getattr(object, name[, default]) -> value\n",
      "    \n",
      "    Get a named attribute from an object; getattr(x, 'y') is equivalent to x.y.\n",
      "    When a default argument is given, it is returned when the attribute doesn't\n",
      "    exist; without it, an exception is raised in that case.\n",
      "\n"
     ]
    }
   ],
   "source": [
    "help(getattr)"
   ]
  },
  {
   "cell_type": "code",
   "execution_count": 11,
   "id": "df554b61",
   "metadata": {},
   "outputs": [
    {
     "name": "stdout",
     "output_type": "stream",
     "text": [
      "<__main__.MyDate object at 0x0000025A1B842310>\n",
      "<__main__.MyDate object at 0x0000025A1B842C10>\n"
     ]
    }
   ],
   "source": [
    "class MyDate(object):\n",
    "    def __init__(self, d=0, m=0, y=0):\n",
    "        self.day = d\n",
    "        self.month = m\n",
    "        self.year = y\n",
    "    @classmethod\n",
    "    def from_string(cls, date_as_string):\n",
    "        dd, mm, yy = map(int, date_as_string.split(\"-\"))\n",
    "        date = cls(dd, mm, yy)\n",
    "        return date\n",
    "string_date = \"11-09-2012\"\n",
    "day, month, year = map(int, string_date.split(\"-\"))\n",
    "date1 = MyDate(day, month, year)\n",
    "date2 = MyDate.from_string(\"11-09-2012\")\n",
    "print(date1)\n",
    "print(date2)\n"
   ]
  },
  {
   "cell_type": "code",
   "execution_count": 24,
   "id": "c5fbeb39",
   "metadata": {},
   "outputs": [
    {
     "name": "stdout",
     "output_type": "stream",
     "text": [
      "(<class '__main__.Robot'>, 0)\n",
      "(<class '__main__.Robot'>, 1)\n",
      "(<class '__main__.Robot'>, 2)\n"
     ]
    }
   ],
   "source": [
    "class Robot:\n",
    "    __counter = 0\n",
    "    def __init__(self):\n",
    "        Robot.__counter += 1\n",
    "\n",
    "    @classmethod\n",
    "    def robot_instances(cls):\n",
    "        return cls, Robot.__counter\n",
    "    \n",
    "if __name__ == \"__main__\":\n",
    "    print(Robot.robot_instances())\n",
    "\n",
    "x = Robot()\n",
    "print(x.robot_instances())\n",
    "# creating another object and checking impact\n",
    "y = Robot()\n",
    "print(x.robot_instances())\n",
    "#print(Robot.robot_instances())\n"
   ]
  },
  {
   "cell_type": "code",
   "execution_count": 39,
   "id": "b5b12d8d",
   "metadata": {},
   "outputs": [],
   "source": [
    "class Apple:\n",
    "    _counter = 0\n",
    "    @staticmethod\n",
    "    def about_apple():\n",
    "        print('Apple is good for you.')\n",
    "# note you can still access other member of the class\n",
    "# but you have to use the class instance\n",
    "# which is not very nice, because you have repeat yourself\n",
    "#\n",
    "# For example:\n",
    "# @staticmethod\n",
    "# print('Number of apples have been juiced: %s' % Apple._counter)\n",
    "#\n",
    "# @classmethod\n",
    "# print('Number of apples have been juiced: %s' % cls._counter)\n",
    "#\n",
    "# @classmethod is especially useful when you move\n",
    "# your function to another class,\n",
    "# You don't have to rename the referenced class\n",
    "    @classmethod\n",
    "    def make_apple_juice(cls, number_of_apples):\n",
    "        print('Making juice:')\n",
    "        for i in range(1,number_of_apples+1):\n",
    "            cls._juice_this(i)\n",
    "    @classmethod\n",
    "    def _juice_this(cls, apple):\n",
    "        print('Juicing apple %d...'  %apple)\n",
    "        cls._counter += 1\n"
   ]
  },
  {
   "cell_type": "code",
   "execution_count": 40,
   "id": "5b955dc0",
   "metadata": {},
   "outputs": [
    {
     "name": "stdout",
     "output_type": "stream",
     "text": [
      "Making juice:\n",
      "Juicing apple 1...\n",
      "Juicing apple 2...\n",
      "Juicing apple 3...\n"
     ]
    }
   ],
   "source": [
    "Apple.make_apple_juice(3)"
   ]
  },
  {
   "cell_type": "code",
   "execution_count": 38,
   "id": "5ca72d57",
   "metadata": {},
   "outputs": [
    {
     "name": "stdout",
     "output_type": "stream",
     "text": [
      "Employee Name: Dhiman and Age: 25\n",
      "Employee Name: Subhas and Age: 23\n",
      "True\n",
      "False\n"
     ]
    }
   ],
   "source": [
    "from datetime import date as dt\n",
    "class Employee:\n",
    "    def __init__(self, name, age):\n",
    "        self.name = name\n",
    "        self.age = age\n",
    "    @staticmethod\n",
    "    def isAdult(age):\n",
    "        if age > 18:\n",
    "            return True\n",
    "        else:\n",
    "            return False\n",
    "    @classmethod\n",
    "    def emp_from_year(emp_class, name, year):\n",
    "        return emp_class(name, dt.today().year - year)\n",
    "    def __str__(self):\n",
    "        return \"Employee Name: {} and Age: {}\".format(self.name, self.age)\n",
    "e1 = Employee(\"Dhiman\", 25)\n",
    "print(e1)\n",
    "e2 = Employee.emp_from_year(\"Subhas\", 2000)\n",
    "print(e2)\n",
    "print(Employee.isAdult(25))\n",
    "print(Employee.isAdult(16))"
   ]
  },
  {
   "cell_type": "code",
   "execution_count": 3,
   "id": "ad752757",
   "metadata": {},
   "outputs": [
    {
     "ename": "SyntaxError",
     "evalue": "invalid syntax (Temp/ipykernel_9928/2393565767.py, line 16)",
     "output_type": "error",
     "traceback": [
      "\u001b[1;36m  File \u001b[1;32m\"C:\\Users\\Shree\\AppData\\Local\\Temp/ipykernel_9928/2393565767.py\"\u001b[1;36m, line \u001b[1;32m16\u001b[0m\n\u001b[1;33m    print(flask --app run)\u001b[0m\n\u001b[1;37m                      ^\u001b[0m\n\u001b[1;31mSyntaxError\u001b[0m\u001b[1;31m:\u001b[0m invalid syntax\n"
     ]
    }
   ],
   "source": [
    "import json\n",
    "from flask import Flask, Response\n",
    "# Application instantiation\n",
    "app = Flask(__name__)\n",
    "# app.route to bind URL to the function\n",
    "@app.route('/')\n",
    "def hello_world():\n",
    "    response_obj = {\n",
    "    \"status\": \"success\",\n",
    "    \"message\": \"Hello, world!!!\"\n",
    "    }\n",
    "    return Response(json.dumps(response_obj),\n",
    "            status=200,\n",
    "            mimetype=\"application/json\"\n",
    "            )\n"
   ]
  },
  {
   "cell_type": "code",
   "execution_count": 1,
   "id": "adad65eb",
   "metadata": {},
   "outputs": [
    {
     "name": "stdout",
     "output_type": "stream",
     "text": [
      "aWESOME is cODING \n",
      "Coding IS Awesome\n"
     ]
    }
   ],
   "source": [
    "bar = input()\n",
    "new_bar = bar.split()\n",
    "new_bar.reverse()\n",
    "new_ = \" \".join(new_bar)\n",
    "print(new_.swapcase())"
   ]
  },
  {
   "cell_type": "code",
   "execution_count": null,
   "id": "aaef35db",
   "metadata": {},
   "outputs": [],
   "source": []
  }
 ],
 "metadata": {
  "kernelspec": {
   "display_name": "Python 3 (ipykernel)",
   "language": "python",
   "name": "python3"
  },
  "language_info": {
   "codemirror_mode": {
    "name": "ipython",
    "version": 3
   },
   "file_extension": ".py",
   "mimetype": "text/x-python",
   "name": "python",
   "nbconvert_exporter": "python",
   "pygments_lexer": "ipython3",
   "version": "3.9.7"
  }
 },
 "nbformat": 4,
 "nbformat_minor": 5
}
