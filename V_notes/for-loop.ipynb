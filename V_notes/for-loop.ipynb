{
 "cells": [
  {
   "cell_type": "code",
   "execution_count": 1,
   "id": "b9efd295",
   "metadata": {},
   "outputs": [],
   "source": [
    "foo = [\"prashant\", \"sachin\", \"dhoni\"]"
   ]
  },
  {
   "cell_type": "markdown",
   "id": "0240a006",
   "metadata": {},
   "source": [
    "## for loops\n",
    "\n",
    "- definite loop\n",
    "- collection controlled loop\n",
    "\n",
    "\n",
    "Python syntax\n",
    "\n",
    "```\n",
    "for <iterator-variable> in <sequence>:\n",
    "    <statement1>\n",
    "    <statement2>\n",
    "    ...\n",
    "    <statementn>\n",
    "    \n",
    "else:\n",
    "    print(\"whenever loop ends normally (without break)\")\n",
    "\n",
    "```\n",
    "\n"
   ]
  },
  {
   "cell_type": "markdown",
   "id": "8260a972",
   "metadata": {},
   "source": [
    "Java/CPP for loop syntax\n",
    "\n",
    "```\n",
    "for (i=0; i < 100; i--) {\n",
    "    # for loop logic\n",
    "}\n",
    "```"
   ]
  },
  {
   "cell_type": "markdown",
   "id": "9215f653",
   "metadata": {},
   "source": [
    "#### iterating on list using for loop"
   ]
  },
  {
   "cell_type": "code",
   "execution_count": 6,
   "id": "37bb4bb8",
   "metadata": {},
   "outputs": [
    {
     "name": "stdout",
     "output_type": "stream",
     "text": [
      "prashant\n",
      "sachin\n",
      "dhoni\n",
      "whenever loop ends normally (without break)\n"
     ]
    }
   ],
   "source": [
    "foo = [\"prashant\", \"sachin\", \"dhoni\"]\n",
    "\n",
    "for i in foo:\n",
    "    print(i)\n",
    "else:\n",
    "    print(\"whenever loop ends normally (without break)\")"
   ]
  },
  {
   "cell_type": "markdown",
   "id": "f0bfdafa",
   "metadata": {},
   "source": [
    "#### iterating on string using for loop"
   ]
  },
  {
   "cell_type": "code",
   "execution_count": 7,
   "id": "1c02d433",
   "metadata": {},
   "outputs": [
    {
     "name": "stdout",
     "output_type": "stream",
     "text": [
      "p r a s h a n t "
     ]
    }
   ],
   "source": [
    "\n",
    "for char in \"prashant\":\n",
    "    print(char, end = \" \")\n",
    "    "
   ]
  },
  {
   "cell_type": "code",
   "execution_count": 5,
   "id": "711ab728",
   "metadata": {},
   "outputs": [
    {
     "name": "stdout",
     "output_type": "stream",
     "text": [
      "p\n",
      "r\n",
      "a\n",
      "s\n",
      "h\n",
      "a\n",
      "n\n",
      "t\n"
     ]
    }
   ],
   "source": [
    "\n",
    "for char in \"prashant\":\n",
    "    print(char)\n",
    "    "
   ]
  },
  {
   "cell_type": "markdown",
   "id": "3d6deb03",
   "metadata": {},
   "source": [
    "#### iterating on tuple using for loop"
   ]
  },
  {
   "cell_type": "code",
   "execution_count": 8,
   "id": "2b61984e",
   "metadata": {},
   "outputs": [
    {
     "name": "stdout",
     "output_type": "stream",
     "text": [
      "prashant\n",
      "sachin\n",
      "dhoni\n",
      "whenever loop ends normally (without break)\n"
     ]
    }
   ],
   "source": [
    "foo = (\"prashant\", \"sachin\", \"dhoni\")\n",
    "\n",
    "for i in foo:\n",
    "    print(i)\n",
    "else:\n",
    "    print(\"whenever loop ends normally (without break)\")"
   ]
  },
  {
   "cell_type": "code",
   "execution_count": 11,
   "id": "541237f4",
   "metadata": {},
   "outputs": [
    {
     "data": {
      "text/plain": [
       "dict_items([('virat', 100), ('hardik', 40), ('dhoni', 90)])"
      ]
     },
     "execution_count": 11,
     "metadata": {},
     "output_type": "execute_result"
    }
   ],
   "source": [
    "cricketers = {\"virat\": 100, \"hardik\": 40, \"dhoni\": 90}\n",
    "\n",
    "result = cricketers.items()\n",
    "type(result) # result is an object of class `dict_items`\n",
    "\n",
    "result"
   ]
  },
  {
   "cell_type": "markdown",
   "id": "43ad1b81",
   "metadata": {},
   "source": [
    "## iterating on dict using for loop"
   ]
  },
  {
   "cell_type": "code",
   "execution_count": 12,
   "id": "fdc11ab0",
   "metadata": {},
   "outputs": [
    {
     "name": "stdout",
     "output_type": "stream",
     "text": [
      "virat\n",
      "100\n",
      "\n",
      "hardik\n",
      "40\n",
      "\n",
      "dhoni\n",
      "90\n",
      "\n"
     ]
    }
   ],
   "source": [
    "cricketers = {\"virat\": 100, \"hardik\": 40, \"dhoni\": 90}\n",
    "\n",
    "for key_, val_ in cricketers.items():\n",
    "    print(key_)\n",
    "    print(val_)\n",
    "    print()"
   ]
  },
  {
   "cell_type": "code",
   "execution_count": 13,
   "id": "10ebb0f8",
   "metadata": {},
   "outputs": [
    {
     "name": "stdout",
     "output_type": "stream",
     "text": [
      "('virat', 100)\n",
      "('hardik', 40)\n",
      "('dhoni', 90)\n"
     ]
    }
   ],
   "source": [
    "cricketers = {\"virat\": 100, \"hardik\": 40, \"dhoni\": 90}\n",
    "\n",
    "for pair in cricketers.items():\n",
    "    print(pair)"
   ]
  },
  {
   "cell_type": "code",
   "execution_count": null,
   "id": "5fb83f1b",
   "metadata": {},
   "outputs": [],
   "source": [
    "pair = ('virat', 100)\n",
    "\n",
    "key_, val_ = pair"
   ]
  },
  {
   "cell_type": "markdown",
   "id": "494a334c",
   "metadata": {},
   "source": [
    "## iterating on set using for loop"
   ]
  },
  {
   "cell_type": "code",
   "execution_count": 14,
   "id": "b5df6217",
   "metadata": {},
   "outputs": [
    {
     "name": "stdout",
     "output_type": "stream",
     "text": [
      "1\n",
      "2\n",
      "3\n",
      "4\n"
     ]
    }
   ],
   "source": [
    "foo = {1, 2, 3, 4}\n",
    "for i in foo:\n",
    "    print(i)"
   ]
  },
  {
   "cell_type": "markdown",
   "id": "ca36e79a",
   "metadata": {},
   "source": [
    "# There 2 kinds for loops\n",
    "\n",
    "- collection type data stucture \n",
    "- iterator object"
   ]
  },
  {
   "cell_type": "markdown",
   "id": "6ba5580d",
   "metadata": {},
   "source": [
    "# `range()` function\n",
    "\n",
    "\n",
    "- `range(start, stop, step)`\n",
    "- `start` is inclusive (by default 0)\n",
    "- `stop` is exclusive (must argument)\n",
    "- `step` is optional argument\n",
    "- range function returns an `iterator` object\n",
    "- `iterator` objects are objects on which we can apply `for-loop`"
   ]
  },
  {
   "cell_type": "code",
   "execution_count": 19,
   "id": "a75b52b1",
   "metadata": {},
   "outputs": [
    {
     "data": {
      "text/plain": [
       "range"
      ]
     },
     "execution_count": 19,
     "metadata": {},
     "output_type": "execute_result"
    }
   ],
   "source": [
    "obj = range(1, 11, 2)\n",
    "type(obj) # `obj` is an object of class `range`"
   ]
  },
  {
   "cell_type": "code",
   "execution_count": 90,
   "id": "24e76e33",
   "metadata": {},
   "outputs": [
    {
     "name": "stdout",
     "output_type": "stream",
     "text": [
      "0\n",
      "1\n",
      "2\n",
      "3\n",
      "4\n"
     ]
    }
   ],
   "source": [
    "for i in range(5):\n",
    "    print(i)"
   ]
  },
  {
   "cell_type": "code",
   "execution_count": 91,
   "id": "89160f84",
   "metadata": {},
   "outputs": [
    {
     "data": {
      "text/plain": [
       "[0, 1, 2, 3, 4]"
      ]
     },
     "execution_count": 91,
     "metadata": {},
     "output_type": "execute_result"
    }
   ],
   "source": [
    "list(range(5))"
   ]
  },
  {
   "cell_type": "markdown",
   "id": "6269d9f9",
   "metadata": {},
   "source": [
    "#### type casting range object in list"
   ]
  },
  {
   "cell_type": "code",
   "execution_count": 23,
   "id": "5ca7e6a9",
   "metadata": {},
   "outputs": [
    {
     "name": "stdout",
     "output_type": "stream",
     "text": [
      "<class 'list'>\n",
      "[1, 3, 5, 7, 9]\n"
     ]
    }
   ],
   "source": [
    "obj = range(1, 11, 2)\n",
    "\n",
    "output = list(obj) # type casting range object in list\n",
    "\n",
    "print(type(output))\n",
    "print(output)"
   ]
  },
  {
   "cell_type": "code",
   "execution_count": 18,
   "id": "394756c9",
   "metadata": {},
   "outputs": [
    {
     "name": "stdout",
     "output_type": "stream",
     "text": [
      "1\n",
      "3\n",
      "5\n",
      "7\n",
      "9\n"
     ]
    }
   ],
   "source": [
    "for element in obj:\n",
    "    print(element)"
   ]
  },
  {
   "cell_type": "code",
   "execution_count": 25,
   "id": "7d332ca7",
   "metadata": {},
   "outputs": [
    {
     "name": "stdout",
     "output_type": "stream",
     "text": [
      "0\n",
      "1\n",
      "2\n",
      "3\n",
      "4\n",
      "5\n",
      "6\n",
      "7\n",
      "8\n",
      "9\n"
     ]
    }
   ],
   "source": [
    "for i in range(0, 10):\n",
    "    print(i)"
   ]
  },
  {
   "cell_type": "code",
   "execution_count": 26,
   "id": "d4fd1eb3",
   "metadata": {},
   "outputs": [
    {
     "name": "stdout",
     "output_type": "stream",
     "text": [
      "0\n",
      "1\n",
      "2\n",
      "3\n",
      "4\n",
      "5\n",
      "6\n",
      "7\n",
      "8\n",
      "9\n"
     ]
    }
   ],
   "source": [
    "for i in range(10):\n",
    "    print(i)"
   ]
  },
  {
   "cell_type": "code",
   "execution_count": 27,
   "id": "645d2826",
   "metadata": {},
   "outputs": [
    {
     "data": {
      "text/plain": [
       "[1, 4, 7, 10]"
      ]
     },
     "execution_count": 27,
     "metadata": {},
     "output_type": "execute_result"
    }
   ],
   "source": [
    "list(range(1, 11, 3))"
   ]
  },
  {
   "cell_type": "markdown",
   "id": "da599ff8",
   "metadata": {},
   "source": [
    "# `enumerate()` function\n",
    "\n",
    "- enumerate(iterable, start)\n",
    "- returns an iterable\n",
    "- we can iterate on value returned by `enumerate()` function"
   ]
  },
  {
   "cell_type": "code",
   "execution_count": 62,
   "id": "95136457",
   "metadata": {
    "scrolled": true
   },
   "outputs": [
    {
     "name": "stdout",
     "output_type": "stream",
     "text": [
      "10\n",
      "apple\n",
      "\n",
      "11\n",
      "mi\n",
      "\n",
      "12\n",
      "vivo\n",
      "\n",
      "13\n",
      "samsung\n",
      "\n",
      "14\n",
      "oneplus\n",
      "\n"
     ]
    }
   ],
   "source": [
    "brands = (\"apple\", \"mi\", \"vivo\", \"samsung\", \"oneplus\")\n",
    "\n",
    "for i, brand_name in enumerate(brands, 10):\n",
    "    print(i)\n",
    "    print(brand_name)\n",
    "    print()"
   ]
  },
  {
   "cell_type": "code",
   "execution_count": 61,
   "id": "1df13b01",
   "metadata": {},
   "outputs": [
    {
     "name": "stdout",
     "output_type": "stream",
     "text": [
      "10\n",
      "apple\n",
      "\n",
      "11\n",
      "mi\n",
      "\n",
      "12\n",
      "vivo\n",
      "\n",
      "13\n",
      "samsung\n",
      "\n",
      "14\n",
      "oneplus\n",
      "\n"
     ]
    }
   ],
   "source": [
    "brands = [\"apple\", \"mi\", \"vivo\", \"samsung\", \"oneplus\"]\n",
    "\n",
    "for i, brand_name in enumerate(brands, 10):\n",
    "    print(i)\n",
    "    print(brand_name)\n",
    "    print()"
   ]
  },
  {
   "cell_type": "code",
   "execution_count": 28,
   "id": "5c59bbb1",
   "metadata": {},
   "outputs": [
    {
     "name": "stdout",
     "output_type": "stream",
     "text": [
      "python\n",
      "java\n",
      "javascript\n",
      "c\n",
      "cpp\n"
     ]
    }
   ],
   "source": [
    "languages = [\"python\", \"java\", \"javascript\", \"c\", \"cpp\"]\n",
    "\n",
    "for lang in languages:\n",
    "    print(lang)\n",
    "    "
   ]
  },
  {
   "cell_type": "code",
   "execution_count": 31,
   "id": "f393cd7f",
   "metadata": {},
   "outputs": [
    {
     "name": "stdout",
     "output_type": "stream",
     "text": [
      "(0, 'python')\n",
      "(1, 'java')\n",
      "(2, 'javascript')\n",
      "(3, 'c')\n",
      "(4, 'cpp')\n"
     ]
    }
   ],
   "source": [
    "languages = [\"python\", \"java\", \"javascript\", \"c\", \"cpp\"]\n",
    "\n",
    "result = enumerate(languages)\n",
    "type(result) # `result` is an object of class `enumerate`\n",
    "\n",
    "\n",
    "for item in result:\n",
    "    print(item)\n",
    "    "
   ]
  },
  {
   "cell_type": "code",
   "execution_count": 32,
   "id": "30dfa93d",
   "metadata": {},
   "outputs": [
    {
     "name": "stdout",
     "output_type": "stream",
     "text": [
      "0\n",
      "python\n",
      "\n",
      "1\n",
      "java\n",
      "\n",
      "2\n",
      "javascript\n",
      "\n",
      "3\n",
      "c\n",
      "\n",
      "4\n",
      "cpp\n",
      "\n"
     ]
    }
   ],
   "source": [
    "languages = [\"python\", \"java\", \"javascript\", \"c\", \"cpp\"]\n",
    "\n",
    "result = enumerate(languages)\n",
    "type(result) # `result` is an object of class `enumerate`\n",
    "\n",
    "\n",
    "for index_, value_ in result:\n",
    "    print(index_)\n",
    "    print(value_)\n",
    "    print()\n",
    "    "
   ]
  },
  {
   "cell_type": "code",
   "execution_count": 35,
   "id": "9329152a",
   "metadata": {},
   "outputs": [
    {
     "name": "stdout",
     "output_type": "stream",
     "text": [
      "0 100\n",
      "1 101\n",
      "2 102\n",
      "3 103\n",
      "4 104\n",
      "5 105\n",
      "6 106\n",
      "7 107\n",
      "8 108\n",
      "9 109\n"
     ]
    }
   ],
   "source": [
    "foo = list(range(100, 110))\n",
    "foo\n",
    "\n",
    "for index_, value_ in enumerate(foo):\n",
    "    print(index_, value_)"
   ]
  },
  {
   "cell_type": "code",
   "execution_count": 39,
   "id": "eaf25c3b",
   "metadata": {},
   "outputs": [
    {
     "name": "stdout",
     "output_type": "stream",
     "text": [
      "0 Mumbai\n",
      "1 Delhi\n",
      "2 Pune\n",
      "3 Nashik\n"
     ]
    }
   ],
   "source": [
    "cities = [\"mumbai\", \"delhi\", \"pune\", \"nashik\"]\n",
    "\n",
    "for index_, value_ in enumerate(cities):\n",
    "    print(index_, value_.capitalize())"
   ]
  },
  {
   "cell_type": "code",
   "execution_count": 40,
   "id": "2168a618",
   "metadata": {},
   "outputs": [
    {
     "data": {
      "text/plain": [
       "dict_keys(['mumbai', 'Pune', 'Nashik', 'Latur'])"
      ]
     },
     "execution_count": 40,
     "metadata": {},
     "output_type": "execute_result"
    }
   ],
   "source": [
    "cities = {\n",
    "    \"mumbai\": \"10M\", \"Pune\": \"7M\",\n",
    "    \"Nashik\": \"1M\", \"Latur\": \"0.5M\"\n",
    "}\n",
    "\n",
    "cities.keys()"
   ]
  },
  {
   "cell_type": "code",
   "execution_count": 41,
   "id": "7e062db0",
   "metadata": {},
   "outputs": [
    {
     "name": "stdout",
     "output_type": "stream",
     "text": [
      "mumbai\n",
      "Pune\n",
      "Nashik\n",
      "Latur\n"
     ]
    }
   ],
   "source": [
    "cities = {\n",
    "    \"mumbai\": \"10M\", \"Pune\": \"7M\",\n",
    "    \"Nashik\": \"1M\", \"Latur\": \"0.5M\"\n",
    "}\n",
    "\n",
    "for city_names in cities.keys():\n",
    "    print(city_names)\n"
   ]
  },
  {
   "cell_type": "code",
   "execution_count": 43,
   "id": "525eb7c4",
   "metadata": {},
   "outputs": [
    {
     "name": "stdout",
     "output_type": "stream",
     "text": [
      "10M\n",
      "7M\n",
      "1M\n",
      "0.5M\n"
     ]
    }
   ],
   "source": [
    "cities = {\n",
    "    \"mumbai\": \"10M\", \"Pune\": \"7M\",\n",
    "    \"Nashik\": \"1M\", \"Latur\": \"0.5M\"\n",
    "}\n",
    "\n",
    "for city_name in cities.values():\n",
    "    print(city_name)\n"
   ]
  },
  {
   "cell_type": "code",
   "execution_count": 55,
   "id": "bc09fc5c",
   "metadata": {},
   "outputs": [
    {
     "name": "stdout",
     "output_type": "stream",
     "text": [
      "mumbai => 10M\n",
      "Pune => 7M\n",
      "Nashik => 1M\n",
      "Latur => 0.5M\n"
     ]
    }
   ],
   "source": [
    "cities = {\n",
    "    \"mumbai\": \"10M\", \"Pune\": \"7M\",\n",
    "    \"Nashik\": \"1M\", \"Latur\": \"0.5M\"\n",
    "}\n",
    "\n",
    "for city_name, population in cities.items():\n",
    "    print(f\"{city_name} => {population}\")\n"
   ]
  },
  {
   "cell_type": "code",
   "execution_count": 64,
   "id": "a138d3b6",
   "metadata": {},
   "outputs": [
    {
     "name": "stdout",
     "output_type": "stream",
     "text": [
      "dict_keys(['accenture', 'tata motors'])\n",
      "dict_values([{'python': 100, 'java': 200, 'cpp': 50}, {'suv': 100, 'sedan': 50}])\n"
     ]
    }
   ],
   "source": [
    "employee_database = {\n",
    "    \n",
    "    \"accenture\": {\n",
    "        \"python\": 100,\n",
    "        \"java\": 200,\n",
    "        \"cpp\": 50\n",
    "    },\n",
    "    \n",
    "    \"tata motors\": {\n",
    "        \"suv\": 100,\n",
    "        \"sedan\": 50\n",
    "    }\n",
    "}\n",
    "\n",
    "keys_ = employee_database.keys()\n",
    "print(keys_)\n",
    "values_ = employee_database.values()\n",
    "print(values_)"
   ]
  },
  {
   "cell_type": "code",
   "execution_count": 65,
   "id": "cad68d6d",
   "metadata": {},
   "outputs": [
    {
     "name": "stdout",
     "output_type": "stream",
     "text": [
      "accenture\n",
      "tata motors\n"
     ]
    }
   ],
   "source": [
    "for key in keys_:\n",
    "    print(key)"
   ]
  },
  {
   "cell_type": "code",
   "execution_count": 66,
   "id": "7028bb62",
   "metadata": {},
   "outputs": [
    {
     "name": "stdout",
     "output_type": "stream",
     "text": [
      "{'python': 100, 'java': 200, 'cpp': 50}\n",
      "{'suv': 100, 'sedan': 50}\n"
     ]
    }
   ],
   "source": [
    "for value in values_:\n",
    "    print(value)"
   ]
  },
  {
   "cell_type": "code",
   "execution_count": 67,
   "id": "42083c47",
   "metadata": {},
   "outputs": [
    {
     "data": {
      "text/plain": [
       "dict_items([('accenture', {'python': 100, 'java': 200, 'cpp': 50}), ('tata motors', {'suv': 100, 'sedan': 50})])"
      ]
     },
     "execution_count": 67,
     "metadata": {},
     "output_type": "execute_result"
    }
   ],
   "source": [
    "employee_database.items()"
   ]
  },
  {
   "cell_type": "code",
   "execution_count": 72,
   "id": "36fee7e6",
   "metadata": {},
   "outputs": [
    {
     "name": "stdout",
     "output_type": "stream",
     "text": [
      "accenture\n",
      "python => 100\n",
      "java => 200\n",
      "cpp => 50\n",
      "###############\n",
      "tata motors\n",
      "suv => 100\n",
      "sedan => 50\n",
      "###############\n"
     ]
    }
   ],
   "source": [
    "for key_, val_ in employee_database.items():\n",
    "    print(key_)\n",
    "    for inner_key, inner_val in val_.items():\n",
    "        print(f\"{inner_key} => {inner_val}\")\n",
    "    print(\"###\"*5)\n",
    "        \n",
    "    \n",
    "    "
   ]
  },
  {
   "cell_type": "markdown",
   "id": "4efa2b29",
   "metadata": {},
   "source": [
    "# nested for loop"
   ]
  },
  {
   "cell_type": "code",
   "execution_count": 75,
   "id": "9d7296e7",
   "metadata": {},
   "outputs": [
    {
     "name": "stdout",
     "output_type": "stream",
     "text": [
      "** sachin goes for handshake **\n",
      "sachin handshakes babar\n",
      "sachin handshakes rizwan\n",
      "sachin handshakes shahid\n",
      "\n",
      "** dhoni goes for handshake **\n",
      "dhoni handshakes babar\n",
      "dhoni handshakes rizwan\n",
      "dhoni handshakes shahid\n",
      "\n",
      "** chahal goes for handshake **\n",
      "chahal handshakes babar\n",
      "chahal handshakes rizwan\n",
      "chahal handshakes shahid\n",
      "\n",
      "** virat goes for handshake **\n",
      "virat handshakes babar\n",
      "virat handshakes rizwan\n",
      "virat handshakes shahid\n",
      "\n"
     ]
    }
   ],
   "source": [
    "### handshake\n",
    "\n",
    "india = [\"sachin\", \"dhoni\", \"chahal\", \"virat\"]\n",
    "\n",
    "pak = [\"babar\", \"rizwan\", \"shahid\"]\n",
    "\n",
    "\n",
    "for indian in india:\n",
    "    \n",
    "    print(f\"** {indian} goes for handshake **\")\n",
    "    \n",
    "    for pakistani in pak:\n",
    "        print(f\"{indian} handshakes {pakistani}\")\n",
    "        \n",
    "    print()\n",
    "        "
   ]
  },
  {
   "cell_type": "markdown",
   "id": "404ebe1c",
   "metadata": {},
   "source": [
    "## `break` and `continue` statements"
   ]
  },
  {
   "cell_type": "code",
   "execution_count": 82,
   "id": "97d5b4d2",
   "metadata": {},
   "outputs": [
    {
     "name": "stdout",
     "output_type": "stream",
     "text": [
      "sachin\n",
      "dhoni\n",
      "chahal\n",
      "virat\n",
      "DONE\n"
     ]
    }
   ],
   "source": [
    "india = [\"sachin\", \"dhoni\", \"chahal\", \"virat\", \"sehwag\", \"hardik\", \"krunal\"]\n",
    "\n",
    "for player in india:\n",
    "    print(player)\n",
    "    if player == \"virat\":\n",
    "        break   \n",
    "else:\n",
    "    print(\"DONE\")"
   ]
  },
  {
   "cell_type": "code",
   "execution_count": 77,
   "id": "e28b2f89",
   "metadata": {},
   "outputs": [
    {
     "name": "stdout",
     "output_type": "stream",
     "text": [
      "sachin\n",
      "dhoni\n",
      "chahal\n",
      "virat\n",
      "sehwag\n",
      "hardik\n",
      "krunal\n",
      "DONE\n"
     ]
    }
   ],
   "source": [
    "india = [\"sachin\", \"dhoni\", \"chahal\", \"virat\", \"sehwag\", \"hardik\", \"krunal\"]\n",
    "\n",
    "for player in india:\n",
    "    print(player)\n",
    "\n",
    "else:\n",
    "    print(\"DONE\")"
   ]
  },
  {
   "cell_type": "code",
   "execution_count": 80,
   "id": "32576c50",
   "metadata": {},
   "outputs": [
    {
     "name": "stdout",
     "output_type": "stream",
     "text": [
      "10K to sachin\n",
      "10K to dhoni\n",
      "10K to chahal\n",
      "10K to virat\n",
      "10K to hardik\n",
      "10K to krunal\n"
     ]
    }
   ],
   "source": [
    "india = [\"sachin\", \"dhoni\", \"chahal\", \"virat\", \"sehwag\", \"hardik\", \"krunal\"]\n",
    "\n",
    "for player in india:\n",
    "    \n",
    "    if player == \"sehwag\":\n",
    "        continue\n",
    "        \n",
    "    print(f\"10K to {player}\")"
   ]
  },
  {
   "cell_type": "markdown",
   "id": "51488845",
   "metadata": {},
   "source": [
    "## fibonacci series using `for` loop\n",
    "\n",
    "\n",
    "0,    1,    1,   2,    3,     5,    8,   13,    21, .....\n",
    "\n",
    "\n",
    "frst  sec\n",
    "\n",
    "      frst  sec\n",
    "      \n",
    "            frst  sec\n",
    "\n",
    "\n"
   ]
  },
  {
   "cell_type": "code",
   "execution_count": 100,
   "id": "8dc037a2",
   "metadata": {},
   "outputs": [
    {
     "name": "stdout",
     "output_type": "stream",
     "text": [
      "how many elements you want? 5\n",
      "0 1 1 2 3 \n",
      "total - 5\n"
     ]
    }
   ],
   "source": [
    "limit = int(input(\"how many elements you want? \"))\n",
    "\n",
    "first = 0\n",
    "second = 1\n",
    "\n",
    "output = []\n",
    "\n",
    "if limit <= 0:\n",
    "    print(\"The requested series is - \", first)\n",
    "elif limit == 1:\n",
    "    print(f\"The requested series is - {first}, {second}\")\n",
    "else:\n",
    "    print(f\"{first} {second}\", end=\" \")\n",
    "    for i in range(2, limit):\n",
    "        next_ = first + second\n",
    "        print(next_, end = \" \")\n",
    "        output.append(next_)\n",
    "        first = second\n",
    "        second = next_\n",
    "\n",
    "\n",
    "print(f\"\\ntotal - {len(output) + 2}\")"
   ]
  },
  {
   "cell_type": "code",
   "execution_count": 92,
   "id": "74f796aa",
   "metadata": {},
   "outputs": [
    {
     "data": {
      "text/plain": [
       "range(2, 8)"
      ]
     },
     "execution_count": 92,
     "metadata": {},
     "output_type": "execute_result"
    }
   ],
   "source": [
    "range(2, 8)"
   ]
  },
  {
   "cell_type": "code",
   "execution_count": 93,
   "id": "a2a49b3a",
   "metadata": {},
   "outputs": [
    {
     "data": {
      "text/plain": [
       "[2, 3, 4, 5, 6, 7]"
      ]
     },
     "execution_count": 93,
     "metadata": {},
     "output_type": "execute_result"
    }
   ],
   "source": [
    "list(range(2, 8))"
   ]
  },
  {
   "cell_type": "code",
   "execution_count": 95,
   "id": "2f4f711f",
   "metadata": {},
   "outputs": [
    {
     "name": "stdout",
     "output_type": "stream",
     "text": [
      "2\n",
      "3\n",
      "4\n",
      "5\n",
      "6\n",
      "7\n"
     ]
    }
   ],
   "source": [
    "for element in range(2, 8):\n",
    "    print(element)"
   ]
  }
 ],
 "metadata": {
  "kernelspec": {
   "display_name": "Python 3 (ipykernel)",
   "language": "python",
   "name": "python3"
  },
  "language_info": {
   "codemirror_mode": {
    "name": "ipython",
    "version": 3
   },
   "file_extension": ".py",
   "mimetype": "text/x-python",
   "name": "python",
   "nbconvert_exporter": "python",
   "pygments_lexer": "ipython3",
   "version": "3.10.0"
  }
 },
 "nbformat": 4,
 "nbformat_minor": 5
}
