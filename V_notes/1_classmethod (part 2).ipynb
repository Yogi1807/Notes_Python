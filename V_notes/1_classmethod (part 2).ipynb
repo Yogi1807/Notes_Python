{
 "cells": [
  {
   "cell_type": "markdown",
   "id": "c4080e70-56b4-41ca-b8e0-ac94efe38941",
   "metadata": {},
   "source": [
    "\n",
    "- `@classmethod` is used to the data that is bound to class and class alone\n",
    "- `@classmethod` is a built in decorator. \n",
    "- We use this decorator on top of method defined in the class and first implicit argument is `cls`\n",
    "\n",
    "- `cls` is the first parameter in `classmethod`\n",
    "- and `cls` is reference to the class\n",
    "\n",
    "- `@classmethod` can be called using both class name and object name\n"
   ]
  },
  {
   "cell_type": "markdown",
   "id": "fabdd909-6fd4-4611-a96e-d3b90a769358",
   "metadata": {},
   "source": [
    "## Why do use class method?\n",
    "\n",
    "- `@classmethod` is used because we don't want to redundantly use class name inside the class definition\n",
    "\n"
   ]
  },
  {
   "cell_type": "code",
   "execution_count": 8,
   "id": "3d053bb3-8a4c-427a-adc4-325a433eabc6",
   "metadata": {},
   "outputs": [
    {
     "data": {
      "text/plain": [
       "'random'"
      ]
     },
     "execution_count": 8,
     "metadata": {},
     "output_type": "execute_result"
    }
   ],
   "source": [
    "class Sample:\n",
    "    first = \"random\"    # class attribute\n",
    "    \n",
    "    @classmethod\n",
    "    def get_first(cls):\n",
    "        return cls.first  \n",
    "    \n",
    "    \n",
    "class ChildSample(Sample):\n",
    "    \n",
    "    def get_parent_data(self):\n",
    "        self.get_first()\n",
    "    \n",
    "    \n",
    "obj = ChildSample()\n",
    "\n",
    "obj.get_first()"
   ]
  },
  {
   "cell_type": "markdown",
   "id": "414d3549-206f-4aa4-838c-01223bac99f4",
   "metadata": {},
   "source": [
    "# Factory methods\n",
    "\n",
    "when we want to create instance of a class using some pre-processing"
   ]
  },
  {
   "cell_type": "code",
   "execution_count": 11,
   "id": "9dd593f3-a05b-4a65-aeb1-67c7d69a9576",
   "metadata": {},
   "outputs": [
    {
     "data": {
      "text/plain": [
       "<__main__.MyDate at 0x103736830>"
      ]
     },
     "execution_count": 11,
     "metadata": {},
     "output_type": "execute_result"
    }
   ],
   "source": [
    "class MyDate(object):\n",
    "    \n",
    "    def __init__(self, day, month, year):\n",
    "        self.day = day\n",
    "        self.month = month\n",
    "        self.year = year\n",
    "        \n",
    "        \n",
    "date1 = MyDate(\"31\", \"12\", \"2022\")\n",
    "date1\n",
    "\n",
    "# data\n",
    "my_string1 = \"21-01-2023\"\n",
    "\n",
    "dd, mm, yy = my_string1.split(\"-\")\n",
    "\n",
    "date2 = MyDate(dd, mm, yy)\n",
    "date2"
   ]
  },
  {
   "cell_type": "markdown",
   "id": "c1e6cd4d-f93a-4cd0-a6ed-fa541b716414",
   "metadata": {},
   "source": [
    "### using `@classmethod`"
   ]
  },
  {
   "cell_type": "code",
   "execution_count": 1,
   "id": "52636366-b09a-417d-b3a2-99eb175c64a3",
   "metadata": {},
   "outputs": [
    {
     "name": "stdout",
     "output_type": "stream",
     "text": [
      "<__main__.MyDate object at 0x0000017621BD4FD0>\n",
      "<__main__.MyDate object at 0x0000017621BD82E0>\n"
     ]
    }
   ],
   "source": [
    "class MyDate(object):\n",
    "    \n",
    "    def __init__(self, day, month, year):\n",
    "        self.day = day\n",
    "        self.month = month\n",
    "        self.year = year\n",
    "        \n",
    "    @classmethod        # factory method\n",
    "    def from_hyphen_string(cls, str_date):\n",
    "        dd, mm, yy = str_date.split(\"-\")\n",
    "        return cls(dd, mm, yy)\n",
    "    \n",
    "    \n",
    "    @classmethod\n",
    "    def from_slash_string(cls, str_date):\n",
    "        dd, mm, yy = str_date.split(\"/\")\n",
    "        return cls(dd, mm, yy)\n",
    "        \n",
    "        \n",
    "        \n",
    "\n",
    "my_string1 = \"21-01-2023\"\n",
    "date1 = MyDate.from_hyphen_string(my_string1)\n",
    "print(date1)\n",
    "\n",
    "\n",
    "my_string2 = \"21/01/2023\"\n",
    "date2 = MyDate.from_slash_string(my_string2)\n",
    "print(date2)"
   ]
  },
  {
   "cell_type": "markdown",
   "id": "388b0466-f17a-4c57-a203-c909ba071300",
   "metadata": {},
   "source": [
    "### staticmethod vs classmethod\n",
    "\n",
    "\n",
    "#### syntactical diff\n",
    "\n",
    "- staticmethod does not have implicit parameter as `self`  (@staticmethod)\n",
    "- classmethod have first implicit argument as `cls`  (@classmethod)\n",
    "\n",
    "\n",
    "\n",
    "#### logical diff\n",
    "- staticmethod is defined in a class as utility method \n",
    "- its inside the class just to logic attach method to the class\n",
    "\n",
    "\n",
    "- classmethod as factory method (if we want to do some kind of pre-processing before creating object)\n",
    "- if we want to manipulate class attributes\n",
    "\n",
    "\n",
    "\n",
    "\n"
   ]
  }
 ],
 "metadata": {
  "kernelspec": {
   "display_name": "Python 3 (ipykernel)",
   "language": "python",
   "name": "python3"
  },
  "language_info": {
   "codemirror_mode": {
    "name": "ipython",
    "version": 3
   },
   "file_extension": ".py",
   "mimetype": "text/x-python",
   "name": "python",
   "nbconvert_exporter": "python",
   "pygments_lexer": "ipython3",
   "version": "3.9.7"
  }
 },
 "nbformat": 4,
 "nbformat_minor": 5
}
