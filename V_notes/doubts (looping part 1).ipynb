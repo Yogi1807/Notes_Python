{
 "cells": [
  {
   "cell_type": "markdown",
   "id": "4ee476a7",
   "metadata": {},
   "source": [
    "problem 17 : first repeated character in given string"
   ]
  },
  {
   "cell_type": "code",
   "execution_count": 1,
   "id": "d340c0de",
   "metadata": {},
   "outputs": [
    {
     "name": "stdout",
     "output_type": "stream",
     "text": [
      "p\n",
      "r\n",
      "a\n",
      "s\n",
      "h\n",
      "a\n",
      "n\n",
      "t\n"
     ]
    }
   ],
   "source": [
    "for char in \"prashant\":\n",
    "    print(char)"
   ]
  },
  {
   "cell_type": "code",
   "execution_count": 2,
   "id": "d2bb559a",
   "metadata": {},
   "outputs": [
    {
     "name": "stdout",
     "output_type": "stream",
     "text": [
      "please enter value : prashant\n",
      "a\n"
     ]
    }
   ],
   "source": [
    "value = input(\"please enter value : \")  # prashant\n",
    "\n",
    "visited = []  # [p, r, a, s, h, a]\n",
    "\n",
    "output = None\n",
    "\n",
    "for char in value:\n",
    "    if char in visited:\n",
    "        output = char\n",
    "        break\n",
    "    else:\n",
    "        visited.append(char)\n",
    "        \n",
    "print(output)"
   ]
  },
  {
   "cell_type": "markdown",
   "id": "f3b1976f",
   "metadata": {},
   "source": [
    "problem 2 : second most repeated charater"
   ]
  },
  {
   "cell_type": "code",
   "execution_count": 18,
   "id": "9cb0e59c",
   "metadata": {},
   "outputs": [
    {
     "name": "stdout",
     "output_type": "stream",
     "text": [
      "aaaabbbbcccc\n",
      "{'a': 4, 'b': 4, 'c': 4}\n",
      "[4]\n",
      "[4, 4, 4]\n",
      "[4]\n"
     ]
    },
    {
     "ename": "IndexError",
     "evalue": "list index out of range",
     "output_type": "error",
     "traceback": [
      "\u001b[1;31m---------------------------------------------------------------------------\u001b[0m",
      "\u001b[1;31mIndexError\u001b[0m                                Traceback (most recent call last)",
      "\u001b[1;32m~\\AppData\\Local\\Temp/ipykernel_9036/3751187395.py\u001b[0m in \u001b[0;36m<module>\u001b[1;34m\u001b[0m\n\u001b[0;32m     24\u001b[0m \u001b[0ma\u001b[0m\u001b[1;33m.\u001b[0m\u001b[0mreverse\u001b[0m\u001b[1;33m(\u001b[0m\u001b[1;33m)\u001b[0m\u001b[1;33m\u001b[0m\u001b[1;33m\u001b[0m\u001b[0m\n\u001b[0;32m     25\u001b[0m \u001b[1;32mfor\u001b[0m \u001b[0mch\u001b[0m \u001b[1;32min\u001b[0m \u001b[0mtrack\u001b[0m\u001b[1;33m:\u001b[0m\u001b[1;33m\u001b[0m\u001b[1;33m\u001b[0m\u001b[0m\n\u001b[1;32m---> 26\u001b[1;33m     \u001b[1;32mif\u001b[0m \u001b[0mtrack\u001b[0m\u001b[1;33m[\u001b[0m\u001b[0mch\u001b[0m\u001b[1;33m]\u001b[0m\u001b[1;33m==\u001b[0m\u001b[0ma\u001b[0m\u001b[1;33m[\u001b[0m\u001b[1;36m1\u001b[0m\u001b[1;33m]\u001b[0m\u001b[1;33m:\u001b[0m\u001b[1;33m\u001b[0m\u001b[1;33m\u001b[0m\u001b[0m\n\u001b[0m\u001b[0;32m     27\u001b[0m         \u001b[0mprint\u001b[0m\u001b[1;33m(\u001b[0m\u001b[1;34mf\"the second most occurence chracter is {ch} occuring {track[ch]}\"\u001b[0m\u001b[1;33m)\u001b[0m\u001b[1;33m\u001b[0m\u001b[1;33m\u001b[0m\u001b[0m\n",
      "\u001b[1;31mIndexError\u001b[0m: list index out of range"
     ]
    }
   ],
   "source": [
    "value = input()\n",
    "track = {}\n",
    "\n",
    "for char in value:\n",
    "    if char in track:\n",
    "        track[char] += 1\n",
    "    else:\n",
    "        track[char] = 1\n",
    "        \n",
    "print(track)\n",
    "\n",
    "result = list(track.values())\n",
    "result.sort()\n",
    "print(list(set(result)))\n",
    "list2=[]\n",
    "for character in track:\n",
    "    list2.append(track[character])\n",
    "list2.sort\n",
    "list2.reverse()\n",
    "print(list2)\n",
    "a=list(set(list2))\n",
    "print(a)\n",
    "a.sort()\n",
    "a.reverse()\n",
    "for ch in track:\n",
    "    if track[ch]==a[1]:\n",
    "        print(f\"the second most occurence chracter is {ch} occuring {track[ch]}\")"
   ]
  },
  {
   "cell_type": "code",
   "execution_count": null,
   "id": "e080eb48",
   "metadata": {},
   "outputs": [],
   "source": [
    "value = input()\n",
    "track = {}\n",
    "\n",
    "for char in value:\n",
    "    if char in track:\n",
    "        track[char] += 1\n",
    "    else:\n",
    "        track[char] = 1\n",
    "        \n",
    "print(track)\n",
    "\n",
    "result = list(track.values())\n",
    "result.sort()\n",
    "a= (list(set(result)))\n",
    "\n",
    "for ch in track:\n",
    "    if track[ch]==a[-2]:\n",
    "        print(f\"the second most occurence chracter is {ch} occuring {track[ch]}\")"
   ]
  },
  {
   "cell_type": "code",
   "execution_count": 10,
   "id": "e4818761",
   "metadata": {},
   "outputs": [
    {
     "name": "stdout",
     "output_type": "stream",
     "text": [
      "please enter value : prashant\n",
      "{1: 't', 2: 'a'}\n"
     ]
    },
    {
     "data": {
      "text/plain": [
       "'t'"
      ]
     },
     "execution_count": 10,
     "metadata": {},
     "output_type": "execute_result"
    }
   ],
   "source": [
    "value = input(\"please enter value : \")  # prashant\n",
    "\n",
    "track = {}  # {count : char}\n",
    "\n",
    "for char in value:\n",
    "    count_ = value.count(char)\n",
    "    if count_ in track:\n",
    "        track[count_] = char\n",
    "    else:\n",
    "        track[count_] = char\n",
    "        \n",
    "print(track)\n",
    "\n",
    "result = list(track.keys())\n",
    "result.sort()\n",
    "second_most = result[-2]\n",
    "\n",
    "track[second_most]\n",
    "\n"
   ]
  },
  {
   "cell_type": "code",
   "execution_count": 12,
   "id": "57c2c212",
   "metadata": {},
   "outputs": [
    {
     "name": "stdout",
     "output_type": "stream",
     "text": [
      "please enter value : prashant\n",
      "1\n",
      "1\n"
     ]
    }
   ],
   "source": [
    "highest = 0\n",
    "second_most = 0\n",
    "\n",
    "value = input(\"please enter value : \") \n",
    "\n",
    "visited = []\n",
    "\n",
    "for char in value:\n",
    "    \n",
    "    if char in visited:\n",
    "        second_most = highest\n",
    "        highest += 1\n",
    "    else:\n",
    "        visited.append(char)\n",
    "        \n",
    "        \n",
    "print(highest)\n",
    "print(second_most)"
   ]
  },
  {
   "cell_type": "markdown",
   "id": "bc30169d",
   "metadata": {},
   "source": [
    "#### Q3.Write a program to calculate grade of players based on their collective performance in a 3 different cricket series.\n",
    "- Rules:\n",
    "- A grade : one who scores more than 300 runs\n",
    "- B grade : one who scores between 200 and 300 runs\n",
    "- C grade : one who scores between 100 and 200 runs\n",
    "- D grade : one who scores less than 100\n",
    "\n",
    "```\n",
    "performances = {\n",
    "\"asia-cup\": {\n",
    "\"virat\": 100,\n",
    "\"rohit\": 200,\n",
    "\"hardik\": 50,\n",
    "\"surya\": 0,\n",
    "\"chahal\": 10,\n",
    "\"arshdeep\": 5,\n",
    "\"bumrah\": 1\n",
    "},\n",
    "\"aus-series\": {\n",
    "\"virat\": 5,\n",
    "\"rohit\": 39,\n",
    "\"hardik\": 47,\n",
    "\"surya\":128,\n",
    "\"chahal\": 0,\n",
    "\"arshdeep\": 90,\n",
    "\"bumrah\": 4\n",
    "},\n",
    "\"world-cup\": {\n",
    "\"virat\": 95,\n",
    "\"rohit\": 339,\n",
    "\"hardik\": 137,\n",
    "\"surya\": 196,\n",
    "\"chahal\": 91,\n",
    "\"arshdeep\": 89,\n",
    "\"bumrah\": 40\n",
    "}\n",
    "}\n",
    "\n",
    "```"
   ]
  },
  {
   "cell_type": "code",
   "execution_count": 14,
   "id": "cd8c0612",
   "metadata": {},
   "outputs": [],
   "source": [
    "performances = {\n",
    "\"asia-cup\": {\n",
    "\"virat\": 100,\n",
    "\"rohit\": 200,\n",
    "\"hardik\": 50,\n",
    "\"surya\": 0,\n",
    "\"chahal\": 10,\n",
    "\"arshdeep\": 5,\n",
    "\"bumrah\": 1\n",
    "},\n",
    "\"aus-series\": {\n",
    "\"virat\": 5,\n",
    "\"rohit\": 39,\n",
    "\"hardik\": 47,\n",
    "\"surya\":128,\n",
    "\"chahal\": 0,\n",
    "\"arshdeep\": 90,\n",
    "\"bumrah\": 4\n",
    "},\n",
    "\"world-cup\": {\n",
    "\"virat\": 95,\n",
    "\"rohit\": 339,\n",
    "\"hardik\": 137,\n",
    "\"surya\": 196,\n",
    "\"chahal\": 91,\n",
    "\"arshdeep\": 89,\n",
    "\"bumrah\": 40\n",
    "}\n",
    "}"
   ]
  },
  {
   "cell_type": "code",
   "execution_count": 27,
   "id": "4c7cc383",
   "metadata": {},
   "outputs": [
    {
     "name": "stdout",
     "output_type": "stream",
     "text": [
      "{'virat': 200, 'rohit': 578, 'hardik': 234, 'surya': 324, 'chahal': 101, 'arshdeep': 184, 'bumrah': 45}\n"
     ]
    }
   ],
   "source": [
    "\n",
    "result = {}\n",
    "\n",
    "for tournament in performances:\n",
    "    data = performances.get(tournament)\n",
    "    for player, score in data.items():\n",
    "        if player in result:\n",
    "            result[player] += score\n",
    "        else:\n",
    "            result[player] = score\n",
    "        \n",
    "print(result)"
   ]
  },
  {
   "cell_type": "code",
   "execution_count": 24,
   "id": "1fd21a27",
   "metadata": {},
   "outputs": [
    {
     "name": "stdout",
     "output_type": "stream",
     "text": [
      "asia-cup\n",
      "aus-series\n",
      "world-cup\n"
     ]
    }
   ],
   "source": [
    "for tournament in performances.keys():\n",
    "    print(tournament)"
   ]
  },
  {
   "cell_type": "code",
   "execution_count": 28,
   "id": "4c7d2c31",
   "metadata": {},
   "outputs": [
    {
     "name": "stdout",
     "output_type": "stream",
     "text": [
      "{'virat': 200, 'rohit': 578, 'hardik': 234, 'surya': 324, 'chahal': 101, 'arshdeep': 184, 'bumrah': 45}\n",
      "virat => B grade\n",
      "rohit => A grade\n",
      "hardik => B grade\n",
      "surya => A grade\n",
      "chahal => C grade\n",
      "arshdeep => C grade\n",
      "bumrah => D grade\n"
     ]
    }
   ],
   "source": [
    "scores = {}\n",
    "\n",
    "for tournament in performances:\n",
    "    data = performances.get(tournament)\n",
    "    for player, score in data.items():\n",
    "        if player in scores:\n",
    "            scores[player] += score\n",
    "        else:\n",
    "            scores[player] = score\n",
    "            \n",
    "print(scores)\n",
    "\n",
    "for player, total in scores.items():\n",
    "    if total >=300:\n",
    "        print(f\"{player} => A grade\")\n",
    "    elif total >=200 and total < 300:\n",
    "        print(f\"{player} => B grade\")\n",
    "    elif total >=100 and total < 200:\n",
    "        print(f\"{player} => C grade\")\n",
    "    else:\n",
    "        print(f\"{player} => D grade\")\n",
    "        "
   ]
  },
  {
   "cell_type": "code",
   "execution_count": null,
   "id": "18a1b96e",
   "metadata": {},
   "outputs": [],
   "source": []
  }
 ],
 "metadata": {
  "kernelspec": {
   "display_name": "Python 3 (ipykernel)",
   "language": "python",
   "name": "python3"
  },
  "language_info": {
   "codemirror_mode": {
    "name": "ipython",
    "version": 3
   },
   "file_extension": ".py",
   "mimetype": "text/x-python",
   "name": "python",
   "nbconvert_exporter": "python",
   "pygments_lexer": "ipython3",
   "version": "3.9.7"
  }
 },
 "nbformat": 4,
 "nbformat_minor": 5
}
