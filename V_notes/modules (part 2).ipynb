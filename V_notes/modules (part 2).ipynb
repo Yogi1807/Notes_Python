{
 "cells": [
  {
   "cell_type": "markdown",
   "id": "ef865373-1e89-4d6f-809f-61809d8dded9",
   "metadata": {},
   "source": [
    "### What are 3 different types of modules\n",
    "\n",
    "- user-defined (developer creates these modules)\n",
    "- in-built modules (https://docs.python.org/3/py-modindex.html)\n",
    "- third-party modules (https://pypi.org/)"
   ]
  },
  {
   "cell_type": "markdown",
   "id": "e058369a-4c1f-471b-9ab4-fbfa6111908b",
   "metadata": {},
   "source": [
    "# What is module?\n",
    "\n",
    "- DRY \n",
    "- re-usable code is great, but sharable is better.\n",
    "- module is collection of code that can be shared.\n",
    "- module allow developers to organise code for optimal sharing."
   ]
  },
  {
   "cell_type": "markdown",
   "id": "396338fc-3859-4614-bbba-4de93851adb2",
   "metadata": {},
   "source": [
    "### pycharm installation istructions\n",
    "\n",
    "- Go to https://www.jetbrains.com/pycharm/download/\n",
    "- Download \"community\" edition\n",
    "- "
   ]
  },
  {
   "cell_type": "code",
   "execution_count": 3,
   "id": "4682b04e-df65-4e7b-b01d-a96f49b2d6ea",
   "metadata": {},
   "outputs": [
    {
     "data": {
      "text/plain": [
       "['.localized', 'Shared', 'prashant']"
      ]
     },
     "execution_count": 3,
     "metadata": {},
     "output_type": "execute_result"
    }
   ],
   "source": [
    "import os\n",
    "\n",
    "os.listdir(\"/Users\")"
   ]
  },
  {
   "cell_type": "code",
   "execution_count": 4,
   "id": "ff4d0985-4dcc-4fb0-87ed-3fa032fd9188",
   "metadata": {},
   "outputs": [
    {
     "data": {
      "text/plain": [
       "'/Users/prashant/PICT/VELOCITY 5Nov'"
      ]
     },
     "execution_count": 4,
     "metadata": {},
     "output_type": "execute_result"
    }
   ],
   "source": [
    "import os\n",
    "os.getcwd()"
   ]
  },
  {
   "cell_type": "code",
   "execution_count": 5,
   "id": "e17a478d-1222-49f7-8ad3-87248f6ab043",
   "metadata": {},
   "outputs": [
    {
     "data": {
      "text/plain": [
       "posix.uname_result(sysname='Darwin', nodename='Prashants-MacBook-Pro-2.local', release='22.1.0', version='Darwin Kernel Version 22.1.0: Sun Oct  9 20:14:30 PDT 2022; root:xnu-8792.41.9~2/RELEASE_ARM64_T8103', machine='arm64')"
      ]
     },
     "execution_count": 5,
     "metadata": {},
     "output_type": "execute_result"
    }
   ],
   "source": [
    "import os\n",
    "os.uname()"
   ]
  },
  {
   "cell_type": "code",
   "execution_count": 1,
   "id": "1718dc46",
   "metadata": {},
   "outputs": [
    {
     "ename": "AttributeError",
     "evalue": "module 'os' has no attribute 'uname'",
     "output_type": "error",
     "traceback": [
      "\u001b[1;31m---------------------------------------------------------------------------\u001b[0m",
      "\u001b[1;31mAttributeError\u001b[0m                            Traceback (most recent call last)",
      "\u001b[1;32m~\\AppData\\Local\\Temp/ipykernel_2836/1640935123.py\u001b[0m in \u001b[0;36m<module>\u001b[1;34m\u001b[0m\n\u001b[0;32m      1\u001b[0m \u001b[1;32mimport\u001b[0m \u001b[0mos\u001b[0m\u001b[1;33m\u001b[0m\u001b[1;33m\u001b[0m\u001b[0m\n\u001b[1;32m----> 2\u001b[1;33m \u001b[0mos\u001b[0m\u001b[1;33m.\u001b[0m\u001b[0muname\u001b[0m\u001b[1;33m(\u001b[0m\u001b[1;33m)\u001b[0m\u001b[1;33m\u001b[0m\u001b[1;33m\u001b[0m\u001b[0m\n\u001b[0m",
      "\u001b[1;31mAttributeError\u001b[0m: module 'os' has no attribute 'uname'"
     ]
    }
   ],
   "source": [
    "import os\n",
    "os.uname()"
   ]
  },
  {
   "cell_type": "markdown",
   "id": "3d6fb6d1-9a17-4373-a8a9-aa4401da146e",
   "metadata": {},
   "source": [
    "## absolute import"
   ]
  },
  {
   "cell_type": "code",
   "execution_count": 6,
   "id": "e03a9dbb-05c4-4c60-85f3-aa0f406c4136",
   "metadata": {},
   "outputs": [
    {
     "data": {
      "text/plain": [
       "datetime.datetime(2023, 1, 25, 21, 28, 15, 280494)"
      ]
     },
     "execution_count": 6,
     "metadata": {},
     "output_type": "execute_result"
    }
   ],
   "source": [
    "import datetime     # absolute import\n",
    "datetime.datetime.now()"
   ]
  },
  {
   "cell_type": "markdown",
   "id": "08af19df-014e-42d0-9080-f1a9b9ee0571",
   "metadata": {},
   "source": [
    "## relative import"
   ]
  },
  {
   "cell_type": "code",
   "execution_count": 10,
   "id": "31d4fac4-2bae-4ebe-b37a-0fbaec3896ca",
   "metadata": {},
   "outputs": [
    {
     "data": {
      "text/plain": [
       "datetime.datetime(2023, 1, 25, 21, 30, 6, 943846)"
      ]
     },
     "execution_count": 10,
     "metadata": {},
     "output_type": "execute_result"
    }
   ],
   "source": [
    "from datetime import datetime\n",
    "\n",
    "datetime.now()"
   ]
  },
  {
   "cell_type": "markdown",
   "id": "14e4caa4-ab3a-45bb-88f8-2edb63563bdc",
   "metadata": {},
   "source": [
    "### constants"
   ]
  },
  {
   "cell_type": "code",
   "execution_count": 11,
   "id": "de50d3b6-8cec-4c5a-945b-b19ab5c07dc6",
   "metadata": {},
   "outputs": [
    {
     "data": {
      "text/plain": [
       "3.141592653589793"
      ]
     },
     "execution_count": 11,
     "metadata": {},
     "output_type": "execute_result"
    }
   ],
   "source": [
    "import math\n",
    "math.pi"
   ]
  },
  {
   "cell_type": "code",
   "execution_count": 12,
   "id": "6806e2ec-3029-49f5-a278-fc79ad76609c",
   "metadata": {},
   "outputs": [
    {
     "data": {
      "text/plain": [
       "['__doc__',\n",
       " '__file__',\n",
       " '__loader__',\n",
       " '__name__',\n",
       " '__package__',\n",
       " '__spec__',\n",
       " 'acos',\n",
       " 'acosh',\n",
       " 'asin',\n",
       " 'asinh',\n",
       " 'atan',\n",
       " 'atan2',\n",
       " 'atanh',\n",
       " 'ceil',\n",
       " 'comb',\n",
       " 'copysign',\n",
       " 'cos',\n",
       " 'cosh',\n",
       " 'degrees',\n",
       " 'dist',\n",
       " 'e',\n",
       " 'erf',\n",
       " 'erfc',\n",
       " 'exp',\n",
       " 'expm1',\n",
       " 'fabs',\n",
       " 'factorial',\n",
       " 'floor',\n",
       " 'fmod',\n",
       " 'frexp',\n",
       " 'fsum',\n",
       " 'gamma',\n",
       " 'gcd',\n",
       " 'hypot',\n",
       " 'inf',\n",
       " 'isclose',\n",
       " 'isfinite',\n",
       " 'isinf',\n",
       " 'isnan',\n",
       " 'isqrt',\n",
       " 'lcm',\n",
       " 'ldexp',\n",
       " 'lgamma',\n",
       " 'log',\n",
       " 'log10',\n",
       " 'log1p',\n",
       " 'log2',\n",
       " 'modf',\n",
       " 'nan',\n",
       " 'nextafter',\n",
       " 'perm',\n",
       " 'pi',\n",
       " 'pow',\n",
       " 'prod',\n",
       " 'radians',\n",
       " 'remainder',\n",
       " 'sin',\n",
       " 'sinh',\n",
       " 'sqrt',\n",
       " 'tan',\n",
       " 'tanh',\n",
       " 'tau',\n",
       " 'trunc',\n",
       " 'ulp']"
      ]
     },
     "execution_count": 12,
     "metadata": {},
     "output_type": "execute_result"
    }
   ],
   "source": [
    "dir(math)"
   ]
  },
  {
   "cell_type": "code",
   "execution_count": 13,
   "id": "d216cd57-6961-4bf7-9bb7-e504aa1081a0",
   "metadata": {},
   "outputs": [
    {
     "data": {
      "text/plain": [
       "3.0"
      ]
     },
     "execution_count": 13,
     "metadata": {},
     "output_type": "execute_result"
    }
   ],
   "source": [
    "math.sqrt(9)"
   ]
  },
  {
   "cell_type": "code",
   "execution_count": 20,
   "id": "fc57619f-ac0c-4704-8d95-65ea60c11fba",
   "metadata": {},
   "outputs": [
    {
     "data": {
      "text/plain": [
       "720"
      ]
     },
     "execution_count": 20,
     "metadata": {},
     "output_type": "execute_result"
    }
   ],
   "source": [
    "math.factorial(6)   # 6 * 5 * 4 * 3 * 2 * 1"
   ]
  },
  {
   "cell_type": "code",
   "execution_count": 21,
   "id": "a4d8a322-0ed6-4ceb-b2a2-8a304713fd36",
   "metadata": {},
   "outputs": [
    {
     "data": {
      "text/plain": [
       "720"
      ]
     },
     "execution_count": 21,
     "metadata": {},
     "output_type": "execute_result"
    }
   ],
   "source": [
    "6 * 5 * 4 * 3 * 2 * 1"
   ]
  },
  {
   "cell_type": "code",
   "execution_count": null,
   "id": "5211831f-916d-4691-884e-c92e696ed999",
   "metadata": {},
   "outputs": [],
   "source": [
    "import math\n",
    "\n",
    "from math import factorial, pi, sqrt  # ideal way\n",
    "\n",
    "###\n",
    "\n",
    "from math import *"
   ]
  },
  {
   "cell_type": "code",
   "execution_count": 22,
   "id": "80137530-ec30-41b1-b270-d6be4c67398f",
   "metadata": {},
   "outputs": [
    {
     "data": {
      "text/plain": [
       "3.141592653589793"
      ]
     },
     "execution_count": 22,
     "metadata": {},
     "output_type": "execute_result"
    }
   ],
   "source": [
    "import math\n",
    "\n",
    "math.pi"
   ]
  },
  {
   "cell_type": "code",
   "execution_count": 23,
   "id": "266eceaa-ba2c-4b65-9f8d-01416a8b9850",
   "metadata": {},
   "outputs": [
    {
     "data": {
      "text/plain": [
       "3.141592653589793"
      ]
     },
     "execution_count": 23,
     "metadata": {},
     "output_type": "execute_result"
    }
   ],
   "source": [
    "from math import *\n",
    "\n",
    "pi"
   ]
  },
  {
   "cell_type": "code",
   "execution_count": 18,
   "id": "457f86d1-2182-459c-b17e-84e539ca4b91",
   "metadata": {},
   "outputs": [
    {
     "name": "stdout",
     "output_type": "stream",
     "text": [
      "Help on built-in function factorial in module math:\n",
      "\n",
      "factorial(x, /)\n",
      "    Find x!.\n",
      "    \n",
      "    Raise a ValueError if x is negative or non-integral.\n",
      "\n"
     ]
    }
   ],
   "source": [
    "help(math.factorial)"
   ]
  },
  {
   "cell_type": "markdown",
   "id": "e98e50e0-994b-49e4-a6f8-62cdb2bc9fdc",
   "metadata": {},
   "source": [
    "### how to generate random numbers between 1-10?"
   ]
  },
  {
   "cell_type": "code",
   "execution_count": 74,
   "id": "9324083f-2d7c-4007-8f33-07d5e36b0c0c",
   "metadata": {},
   "outputs": [
    {
     "data": {
      "text/plain": [
       "72"
      ]
     },
     "execution_count": 74,
     "metadata": {},
     "output_type": "execute_result"
    }
   ],
   "source": [
    "import random\n",
    "\n",
    "random.randint(1, 100)"
   ]
  },
  {
   "cell_type": "code",
   "execution_count": 75,
   "id": "48f4955f-6dcf-4a7a-b70b-953daec16480",
   "metadata": {},
   "outputs": [
    {
     "data": {
      "text/plain": [
       "['CLOCK_MONOTONIC',\n",
       " 'CLOCK_MONOTONIC_RAW',\n",
       " 'CLOCK_PROCESS_CPUTIME_ID',\n",
       " 'CLOCK_REALTIME',\n",
       " 'CLOCK_THREAD_CPUTIME_ID',\n",
       " 'CLOCK_UPTIME_RAW',\n",
       " '_STRUCT_TM_ITEMS',\n",
       " '__doc__',\n",
       " '__loader__',\n",
       " '__name__',\n",
       " '__package__',\n",
       " '__spec__',\n",
       " 'altzone',\n",
       " 'asctime',\n",
       " 'clock_getres',\n",
       " 'clock_gettime',\n",
       " 'clock_gettime_ns',\n",
       " 'clock_settime',\n",
       " 'clock_settime_ns',\n",
       " 'ctime',\n",
       " 'daylight',\n",
       " 'get_clock_info',\n",
       " 'gmtime',\n",
       " 'localtime',\n",
       " 'mktime',\n",
       " 'monotonic',\n",
       " 'monotonic_ns',\n",
       " 'perf_counter',\n",
       " 'perf_counter_ns',\n",
       " 'process_time',\n",
       " 'process_time_ns',\n",
       " 'sleep',\n",
       " 'strftime',\n",
       " 'strptime',\n",
       " 'struct_time',\n",
       " 'thread_time',\n",
       " 'thread_time_ns',\n",
       " 'time',\n",
       " 'time_ns',\n",
       " 'timezone',\n",
       " 'tzname',\n",
       " 'tzset']"
      ]
     },
     "execution_count": 75,
     "metadata": {},
     "output_type": "execute_result"
    }
   ],
   "source": [
    "import time\n",
    "\n",
    "dir(time)"
   ]
  },
  {
   "cell_type": "code",
   "execution_count": 79,
   "id": "0b144cb2-534f-4761-98ee-d386d75e629e",
   "metadata": {},
   "outputs": [
    {
     "data": {
      "text/plain": [
       "1674663035.7243671"
      ]
     },
     "execution_count": 79,
     "metadata": {},
     "output_type": "execute_result"
    }
   ],
   "source": [
    "\n",
    "time.time()"
   ]
  },
  {
   "cell_type": "code",
   "execution_count": 80,
   "id": "3d109f31-862e-4e38-9465-cc0cbdf89d98",
   "metadata": {},
   "outputs": [
    {
     "data": {
      "text/plain": [
       "['MAXYEAR',\n",
       " 'MINYEAR',\n",
       " '__all__',\n",
       " '__builtins__',\n",
       " '__cached__',\n",
       " '__doc__',\n",
       " '__file__',\n",
       " '__loader__',\n",
       " '__name__',\n",
       " '__package__',\n",
       " '__spec__',\n",
       " 'date',\n",
       " 'datetime',\n",
       " 'datetime_CAPI',\n",
       " 'sys',\n",
       " 'time',\n",
       " 'timedelta',\n",
       " 'timezone',\n",
       " 'tzinfo']"
      ]
     },
     "execution_count": 80,
     "metadata": {},
     "output_type": "execute_result"
    }
   ],
   "source": [
    "import datetime\n",
    "\n",
    "\n",
    "dir(datetime)"
   ]
  },
  {
   "cell_type": "code",
   "execution_count": 88,
   "id": "5de76066-dee3-4dcf-aea8-32605953d936",
   "metadata": {},
   "outputs": [
    {
     "data": {
      "text/plain": [
       "datetime.datetime"
      ]
     },
     "execution_count": 88,
     "metadata": {},
     "output_type": "execute_result"
    }
   ],
   "source": [
    "from datetime import datetime\n",
    "\n",
    "result = datetime.now()\n",
    "type(result)   # `result` is an object of class `datetime`"
   ]
  },
  {
   "cell_type": "code",
   "execution_count": 104,
   "id": "8ba5a66d-aff6-4ea2-b22a-402a6dc7fbbf",
   "metadata": {},
   "outputs": [
    {
     "data": {
      "text/plain": [
       "datetime.date(2023, 1, 25)"
      ]
     },
     "execution_count": 104,
     "metadata": {},
     "output_type": "execute_result"
    }
   ],
   "source": [
    "import datetime\n",
    "result = datetime.date(2023, 1, 25)\n",
    "result.strftime()"
   ]
  },
  {
   "cell_type": "markdown",
   "id": "0ba738a1-78d7-44b6-9836-b61a7ea0ab63",
   "metadata": {},
   "source": [
    "## datetime module conversion chart \n",
    "\n",
    "- `str` to `datetime objects`\n",
    "- `datetime` objects to `str`\n",
    "\n",
    "https://docs.python.org/3/library/datetime.html#strftime-and-strptime-format-codes\n",
    "\n",
    "- `datetime.datetime.strftime` returns a string from datetimeobject\n",
    "- `ddatetime.datetime.strptime` returns `datetime` object from string"
   ]
  },
  {
   "cell_type": "markdown",
   "id": "71f482f3-b383-48be-a32f-0a319eebe8df",
   "metadata": {},
   "source": [
    "### how to get string from datetime object?"
   ]
  },
  {
   "cell_type": "code",
   "execution_count": 119,
   "id": "ce46e497-e1bf-4e2d-afde-82d6e2d69515",
   "metadata": {},
   "outputs": [
    {
     "name": "stdout",
     "output_type": "stream",
     "text": [
      "2023-01-25 21:59:47.687662\n",
      "25/01/2023 Wednesday\n",
      "25-01-2023 Wed\n",
      "25-01-23 Wed\n",
      "25-01-23, (January --- Wed)\n"
     ]
    }
   ],
   "source": [
    "import datetime\n",
    "\n",
    "obj = datetime.datetime.now()\n",
    "print(obj)\n",
    "\n",
    "print(obj.strftime(\"%d/%m/%Y %A\"))\n",
    "print(obj.strftime(\"%d-%m-%Y %a\"))\n",
    "print(obj.strftime(\"%d-%m-%y %a\"))\n",
    "print(obj.strftime(\"%d-%m-%y, (%B --- %a)\"))\n"
   ]
  },
  {
   "cell_type": "markdown",
   "id": "8e996c8b-20dc-459c-95b7-e5c46d62e428",
   "metadata": {},
   "source": [
    "## how to get `datetime` object from `string` object?"
   ]
  },
  {
   "cell_type": "code",
   "execution_count": 129,
   "id": "d1828d78-f9e8-4c0c-a6d9-363f7300ab2d",
   "metadata": {},
   "outputs": [
    {
     "data": {
      "text/plain": [
       "datetime.datetime(2023, 1, 25, 0, 0)"
      ]
     },
     "execution_count": 129,
     "metadata": {},
     "output_type": "execute_result"
    }
   ],
   "source": [
    "import datetime\n",
    "\n",
    "obj = datetime.datetime.now()\n",
    "foo = obj.strftime(\"%d/%m/%Y %A\")\n",
    "foo\n",
    "\n",
    "result = datetime.datetime.strptime(foo, \"%d/%m/%Y %A\")\n",
    "result"
   ]
  },
  {
   "cell_type": "markdown",
   "id": "c4b1b2db-f66e-4ad4-8fc8-4fe8371b7a1c",
   "metadata": {},
   "source": [
    "### how to create a `directory`?\n",
    "\n"
   ]
  },
  {
   "cell_type": "markdown",
   "id": "3f2ec687-9edb-4473-ab76-2963871a8b92",
   "metadata": {},
   "source": [
    "### linux commands\n",
    "\n",
    "- cd :: change directory\n",
    "- mkdir :: to create new directory\n",
    "- ls :: to list content under a given directory"
   ]
  },
  {
   "cell_type": "code",
   "execution_count": 123,
   "id": "b7afafa1-fb07-4878-a7ab-97f58930c83c",
   "metadata": {},
   "outputs": [],
   "source": [
    "import os\n",
    "\n",
    "# how to know where I am?\n",
    "os.getcwd()\n",
    "\n",
    "# how to create a new directory or folder here?\n",
    "os.mkdir(\"sample\")\n",
    "\n",
    "\n",
    "\n"
   ]
  }
 ],
 "metadata": {
  "kernelspec": {
   "display_name": "Python 3 (ipykernel)",
   "language": "python",
   "name": "python3"
  },
  "language_info": {
   "codemirror_mode": {
    "name": "ipython",
    "version": 3
   },
   "file_extension": ".py",
   "mimetype": "text/x-python",
   "name": "python",
   "nbconvert_exporter": "python",
   "pygments_lexer": "ipython3",
   "version": "3.9.7"
  }
 },
 "nbformat": 4,
 "nbformat_minor": 5
}
