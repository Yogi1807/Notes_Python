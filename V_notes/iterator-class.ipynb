{
 "cells": [
  {
   "cell_type": "markdown",
   "id": "38530401-1b9f-4b76-a0b0-d7024f17cf6d",
   "metadata": {},
   "source": [
    "## NOTE\n",
    "\n",
    "- `for-loop` internally uses `iter()` and `next()` methods.\n",
    "- special method `__iter__()` can be used to implement iterator"
   ]
  },
  {
   "cell_type": "markdown",
   "id": "488cd4f4-8c7d-45e3-a00f-a5827afd6157",
   "metadata": {},
   "source": [
    "## class-based iterators"
   ]
  },
  {
   "cell_type": "markdown",
   "id": "9cfac84f-4f16-4328-9287-1d2007235e87",
   "metadata": {},
   "source": [
    "- We use `iterator-protocol` to implement class based iterators.\n",
    "\n",
    "- In `iterator-protocol`, we must implement 2 internal methods (special methods)\n",
    "\n",
    "    - `__iter__()` :: must return the object itself.\n",
    "    - `__next__()` :: it should return next value from the itarator. If no more elements are left, raise `StopIteration` exception"
   ]
  },
  {
   "cell_type": "code",
   "execution_count": 1,
   "id": "f3aebd22-c350-4b0b-ba98-e7eb93d75998",
   "metadata": {},
   "outputs": [],
   "source": [
    "class Counter:\n",
    "    \n",
    "    def __init__(self, lower, upper):    # constructor method\n",
    "        self.current = lower - 1    # instance attributes\n",
    "        self.high = upper\n",
    "        \n",
    "    def __iter__(self):\n",
    "        return self\n",
    "    \n",
    "    def __next__(self):\n",
    "        if self.current >= self.high:\n",
    "            raise StopIteration   # `raise` statement is used to raise exception in-line\n",
    "        else:    \n",
    "            self.current += 1\n",
    "            return self.current\n",
    "        \n",
    "        \n"
   ]
  },
  {
   "cell_type": "code",
   "execution_count": 2,
   "id": "b1e05575-503f-4cc0-8efd-42bcc151ef8c",
   "metadata": {},
   "outputs": [],
   "source": [
    "iterator_obj = Counter(1, 5)"
   ]
  },
  {
   "cell_type": "code",
   "execution_count": 9,
   "id": "5b33d5f0-8192-41bc-855d-f0fa8b4ef049",
   "metadata": {},
   "outputs": [
    {
     "ename": "StopIteration",
     "evalue": "",
     "output_type": "error",
     "traceback": [
      "\u001b[1;31m---------------------------------------------------------------------------\u001b[0m",
      "\u001b[1;31mStopIteration\u001b[0m                             Traceback (most recent call last)",
      "\u001b[1;32m~\\AppData\\Local\\Temp/ipykernel_6296/3777100014.py\u001b[0m in \u001b[0;36m<module>\u001b[1;34m\u001b[0m\n\u001b[1;32m----> 1\u001b[1;33m \u001b[0mnext\u001b[0m\u001b[1;33m(\u001b[0m\u001b[0miterator_obj\u001b[0m\u001b[1;33m)\u001b[0m\u001b[1;33m\u001b[0m\u001b[1;33m\u001b[0m\u001b[0m\n\u001b[0m",
      "\u001b[1;32m~\\AppData\\Local\\Temp/ipykernel_6296/936269203.py\u001b[0m in \u001b[0;36m__next__\u001b[1;34m(self)\u001b[0m\n\u001b[0;32m     10\u001b[0m     \u001b[1;32mdef\u001b[0m \u001b[0m__next__\u001b[0m\u001b[1;33m(\u001b[0m\u001b[0mself\u001b[0m\u001b[1;33m)\u001b[0m\u001b[1;33m:\u001b[0m\u001b[1;33m\u001b[0m\u001b[1;33m\u001b[0m\u001b[0m\n\u001b[0;32m     11\u001b[0m         \u001b[1;32mif\u001b[0m \u001b[0mself\u001b[0m\u001b[1;33m.\u001b[0m\u001b[0mcurrent\u001b[0m \u001b[1;33m>=\u001b[0m \u001b[0mself\u001b[0m\u001b[1;33m.\u001b[0m\u001b[0mhigh\u001b[0m\u001b[1;33m:\u001b[0m\u001b[1;33m\u001b[0m\u001b[1;33m\u001b[0m\u001b[0m\n\u001b[1;32m---> 12\u001b[1;33m             \u001b[1;32mraise\u001b[0m \u001b[0mStopIteration\u001b[0m   \u001b[1;31m# `raise` statement is used to raise exception in-line\u001b[0m\u001b[1;33m\u001b[0m\u001b[1;33m\u001b[0m\u001b[0m\n\u001b[0m\u001b[0;32m     13\u001b[0m         \u001b[1;32melse\u001b[0m\u001b[1;33m:\u001b[0m\u001b[1;33m\u001b[0m\u001b[1;33m\u001b[0m\u001b[0m\n\u001b[0;32m     14\u001b[0m             \u001b[0mself\u001b[0m\u001b[1;33m.\u001b[0m\u001b[0mcurrent\u001b[0m \u001b[1;33m+=\u001b[0m \u001b[1;36m1\u001b[0m\u001b[1;33m\u001b[0m\u001b[1;33m\u001b[0m\u001b[0m\n",
      "\u001b[1;31mStopIteration\u001b[0m: "
     ]
    }
   ],
   "source": [
    "next(iterator_obj)"
   ]
  },
  {
   "cell_type": "code",
   "execution_count": 9,
   "id": "1e4d6e85-c1a6-4ba3-8302-a249ea28a93a",
   "metadata": {},
   "outputs": [
    {
     "name": "stdout",
     "output_type": "stream",
     "text": [
      "1\n",
      "2\n",
      "3\n",
      "4\n",
      "5\n",
      "6\n",
      "7\n",
      "8\n",
      "9\n",
      "10\n"
     ]
    }
   ],
   "source": [
    "c = Counter(1, 10)\n",
    "\n",
    "for element in c:\n",
    "    print(element)"
   ]
  },
  {
   "cell_type": "code",
   "execution_count": 10,
   "id": "ec96d2ff-8eae-4fe4-9406-18ffadda44c5",
   "metadata": {},
   "outputs": [],
   "source": [
    "class Simple:\n",
    "    \n",
    "    def __repr__(self):\n",
    "        return \"whatever\""
   ]
  },
  {
   "cell_type": "code",
   "execution_count": 11,
   "id": "a73984a9-1c21-4134-844b-7b7b4500aa5b",
   "metadata": {},
   "outputs": [
    {
     "data": {
      "text/plain": [
       "'whatever'"
      ]
     },
     "execution_count": 11,
     "metadata": {},
     "output_type": "execute_result"
    }
   ],
   "source": [
    "repr(Simple())"
   ]
  },
  {
   "cell_type": "code",
   "execution_count": 10,
   "id": "a3e8365f-f935-49fe-a73f-e9a2f63794be",
   "metadata": {},
   "outputs": [],
   "source": [
    "class Counter:\n",
    "    \n",
    "    def __init__(self, iterable):    # constructor method\n",
    "        self.iterable = iterable\n",
    "        self.iter_obj = iter(iterable)\n",
    "        \n",
    "    def __iter__(self):\n",
    "        return self\n",
    "    \n",
    "    def __next__(self):\n",
    "        next_value = next(self.iter_obj)\n",
    "        return next_value\n",
    "\n",
    "            "
   ]
  },
  {
   "cell_type": "code",
   "execution_count": 11,
   "id": "11246e10-d366-4cea-9135-ad9355dfe83f",
   "metadata": {},
   "outputs": [
    {
     "data": {
      "text/plain": [
       "__main__.Counter"
      ]
     },
     "execution_count": 11,
     "metadata": {},
     "output_type": "execute_result"
    }
   ],
   "source": [
    "c = Counter(\"abcdefg\")\n",
    "type(c)"
   ]
  },
  {
   "cell_type": "code",
   "execution_count": 19,
   "id": "22f0b50e-fd11-4752-b77a-3bbbe389ea2d",
   "metadata": {},
   "outputs": [
    {
     "ename": "StopIteration",
     "evalue": "",
     "output_type": "error",
     "traceback": [
      "\u001b[1;31m---------------------------------------------------------------------------\u001b[0m",
      "\u001b[1;31mStopIteration\u001b[0m                             Traceback (most recent call last)",
      "\u001b[1;32m~\\AppData\\Local\\Temp/ipykernel_6296/1173204873.py\u001b[0m in \u001b[0;36m<module>\u001b[1;34m\u001b[0m\n\u001b[1;32m----> 1\u001b[1;33m \u001b[0mnext\u001b[0m\u001b[1;33m(\u001b[0m\u001b[0mc\u001b[0m\u001b[1;33m)\u001b[0m\u001b[1;33m\u001b[0m\u001b[1;33m\u001b[0m\u001b[0m\n\u001b[0m",
      "\u001b[1;32m~\\AppData\\Local\\Temp/ipykernel_6296/3000425059.py\u001b[0m in \u001b[0;36m__next__\u001b[1;34m(self)\u001b[0m\n\u001b[0;32m      9\u001b[0m \u001b[1;33m\u001b[0m\u001b[0m\n\u001b[0;32m     10\u001b[0m     \u001b[1;32mdef\u001b[0m \u001b[0m__next__\u001b[0m\u001b[1;33m(\u001b[0m\u001b[0mself\u001b[0m\u001b[1;33m)\u001b[0m\u001b[1;33m:\u001b[0m\u001b[1;33m\u001b[0m\u001b[1;33m\u001b[0m\u001b[0m\n\u001b[1;32m---> 11\u001b[1;33m         \u001b[0mnext_value\u001b[0m \u001b[1;33m=\u001b[0m \u001b[0mnext\u001b[0m\u001b[1;33m(\u001b[0m\u001b[0mself\u001b[0m\u001b[1;33m.\u001b[0m\u001b[0miter_obj\u001b[0m\u001b[1;33m)\u001b[0m\u001b[1;33m\u001b[0m\u001b[1;33m\u001b[0m\u001b[0m\n\u001b[0m\u001b[0;32m     12\u001b[0m         \u001b[1;32mreturn\u001b[0m \u001b[0mnext_value\u001b[0m\u001b[1;33m\u001b[0m\u001b[1;33m\u001b[0m\u001b[0m\n\u001b[0;32m     13\u001b[0m \u001b[1;33m\u001b[0m\u001b[0m\n",
      "\u001b[1;31mStopIteration\u001b[0m: "
     ]
    }
   ],
   "source": [
    "next(c)"
   ]
  },
  {
   "cell_type": "code",
   "execution_count": 3,
   "id": "4fd8e718-6286-40f3-85e6-1067be88ad99",
   "metadata": {},
   "outputs": [
    {
     "name": "stdout",
     "output_type": "stream",
     "text": [
      "a\n",
      "b\n",
      "c\n",
      "d\n",
      "e\n",
      "f\n",
      "g\n"
     ]
    }
   ],
   "source": [
    "c = Counter(\"abcdefg\")\n",
    "\n",
    "for element in c:\n",
    "    print(element)"
   ]
  },
  {
   "cell_type": "markdown",
   "id": "5d2aa37e-b90a-45c5-99b3-d8ec74c063b5",
   "metadata": {},
   "source": [
    "## use-case\n",
    "\n"
   ]
  },
  {
   "cell_type": "code",
   "execution_count": 6,
   "id": "68a3e2e0-26c0-40ea-b14c-f8a104eec647",
   "metadata": {},
   "outputs": [
    {
     "name": "stdout",
     "output_type": "stream",
     "text": [
      "hello, Dhoni\n",
      "hello, Modi\n",
      "hello, Sachin\n",
      "hello, Rahul\n"
     ]
    }
   ],
   "source": [
    "def greet(name):\n",
    "    return f\"hello, {name}\"\n",
    "\n",
    "\n",
    "population = [\"Dhoni\", \"Modi\", \"Sachin\", \"Rahul\"]\n",
    "\n",
    "person_iter = iter(population)\n",
    "\n",
    "\n",
    "while person_iter:\n",
    "    try:\n",
    "        person = next(person_iter)\n",
    "        print(greet(person))\n",
    "    except StopIteration:\n",
    "        break\n",
    "    \n",
    "\n"
   ]
  },
  {
   "cell_type": "code",
   "execution_count": null,
   "id": "1c322de2-aa33-4359-9e82-9031cfa746fb",
   "metadata": {},
   "outputs": [],
   "source": [
    "population = [\"Dhoni\", \"Modi\", \"Sachin\", \"Rahul\"]\n",
    "\n",
    "\n",
    "\n",
    "for person in population:\n",
    "    processed = logic(person)\n",
    "    print(processed)"
   ]
  },
  {
   "cell_type": "code",
   "execution_count": null,
   "id": "bdb25963-43cf-4ebb-b4c1-aca2fff2c2d6",
   "metadata": {},
   "outputs": [],
   "source": [
    "client = next(population) "
   ]
  },
  {
   "cell_type": "code",
   "execution_count": null,
   "id": "55e1dd87",
   "metadata": {},
   "outputs": [],
   "source": []
  }
 ],
 "metadata": {
  "kernelspec": {
   "display_name": "Python 3 (ipykernel)",
   "language": "python",
   "name": "python3"
  },
  "language_info": {
   "codemirror_mode": {
    "name": "ipython",
    "version": 3
   },
   "file_extension": ".py",
   "mimetype": "text/x-python",
   "name": "python",
   "nbconvert_exporter": "python",
   "pygments_lexer": "ipython3",
   "version": "3.9.7"
  }
 },
 "nbformat": 4,
 "nbformat_minor": 5
}
