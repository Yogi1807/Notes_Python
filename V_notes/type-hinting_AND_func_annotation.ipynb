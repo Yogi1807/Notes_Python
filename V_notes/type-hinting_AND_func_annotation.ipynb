{
 "cells": [
  {
   "cell_type": "code",
   "execution_count": null,
   "id": "061fecab-506b-4aa9-ad64-ba5805b5116b",
   "metadata": {},
   "outputs": [],
   "source": [
    "class FirstClass:\n",
    "    pass\n",
    "\n",
    "\n",
    "class SecondClass:\n",
    "    pass\n",
    "\n",
    "\n",
    "\n",
    "\n",
    "class Sample:\n",
    "    def get_details(self):\n",
    "        pass\n",
    "    \n",
    "    def set_details(self):\n",
    "        pass"
   ]
  },
  {
   "cell_type": "markdown",
   "id": "d4133f78-f635-4e0d-9a93-f29cabc878f6",
   "metadata": {},
   "source": [
    "#### `statically typed` vs `dynamically typed`"
   ]
  },
  {
   "cell_type": "markdown",
   "id": "679409d9-3f32-497f-aa72-11a04c282d4a",
   "metadata": {},
   "source": [
    "# Type annotation\n",
    "\n",
    "\n",
    "- Type annotation is not a concrete rule\n",
    "- We use type annotation for `in-code` documentation\n",
    "- Type annotation can benefit us when using IDE by providing hints/ prompts"
   ]
  },
  {
   "cell_type": "code",
   "execution_count": 1,
   "id": "c9f03257-a300-48ef-9524-d7ceeba3c62e",
   "metadata": {},
   "outputs": [
    {
     "data": {
      "text/plain": [
       "30"
      ]
     },
     "execution_count": 1,
     "metadata": {},
     "output_type": "execute_result"
    }
   ],
   "source": [
    "def perform_addition(first, second):\n",
    "    return first + second\n",
    "\n",
    "\n",
    "perform_addition(10, 20)\n"
   ]
  },
  {
   "cell_type": "code",
   "execution_count": 3,
   "id": "60d3c98b-81b0-46e4-a061-24d0928c46a4",
   "metadata": {},
   "outputs": [
    {
     "data": {
      "text/plain": [
       "'prashant velocity'"
      ]
     },
     "execution_count": 3,
     "metadata": {},
     "output_type": "execute_result"
    }
   ],
   "source": [
    "def perform_addition(first: int, second: int) -> int:\n",
    "    return first + second\n",
    "\n",
    "result1 = perform_addition(10, 30)\n",
    "result2 = perform_addition(\"prashant\", \" velocity\")\n",
    "print(result1)\n",
    "print(result2)"
   ]
  },
  {
   "cell_type": "code",
   "execution_count": 6,
   "id": "44da34c8-c0f7-431b-b515-2bd84710aa86",
   "metadata": {},
   "outputs": [
    {
     "name": "stdout",
     "output_type": "stream",
     "text": [
      "Hi, \n",
      "\n",
      "Daily class notes are updated. \n",
      "\n",
      "best, \n",
      "Prashant \n",
      "\n",
      "1 Feb-2023\n"
     ]
    }
   ],
   "source": [
    "def write_email(\n",
    "    date, \n",
    "    text, \n",
    "    salutation=\"Hi\", \n",
    "    signature=\"best, \\nPrashant\"\n",
    "):\n",
    "    \"\"\"writes an email based on whatever text\"\"\"\n",
    "    \n",
    "    print(f\"{salutation}, \\n\\n{text} \\n\\n{signature} \\n\\n{date}\")\n",
    "\n",
    "\n",
    "write_email(\"1 Feb-2023\", \"Daily class notes are updated.\")"
   ]
  },
  {
   "cell_type": "markdown",
   "id": "9754fa11-8853-429c-9ff2-237b371638d6",
   "metadata": {},
   "source": [
    "### type annotation"
   ]
  },
  {
   "cell_type": "code",
   "execution_count": 8,
   "id": "01e6689f-74e9-4157-9846-7b7679b5ec94",
   "metadata": {},
   "outputs": [
    {
     "name": "stdout",
     "output_type": "stream",
     "text": [
      "Hi, \n",
      "\n",
      "Daily class notes are updated. \n",
      "\n",
      "best, \n",
      "Prashant \n",
      "\n",
      "1 Feb-2023\n"
     ]
    }
   ],
   "source": [
    "from datetime import date\n",
    "\n",
    "def write_email(\n",
    "    date: date, \n",
    "    text: str, \n",
    "    salutation: str = \"Hi\", \n",
    "    signature: str = \"best, \\nPrashant\"\n",
    "):\n",
    "    \"\"\"writes an email based on whatever text\"\"\"\n",
    "    \n",
    "    print(f\"{salutation}, \\n\\n{text} \\n\\n{signature} \\n\\n{date}\")\n",
    "\n",
    "\n",
    "write_email(\"1 Feb-2023\", \"Daily class notes are updated.\")"
   ]
  },
  {
   "cell_type": "markdown",
   "id": "16d791aa-19fa-474e-8cf4-beff41cf74f8",
   "metadata": {},
   "source": [
    "## how to resolve \"invalid python interpreter\" error in pycharm?\n",
    "\n",
    "- step 1: Click on pycharm and go to preferences\n",
    "- Step 2: Go to `project: <project name>`\n",
    "- Step 3: Click on `python interpreter`\n",
    "- Step 4: Gear ICON and `ADD` button\n",
    "- Step 5: Go with the default selection and click on `OK` button\n",
    "\n",
    "\n",
    "## How to fix error in pycharm terminal on windows?\n",
    "\n",
    "`file` -> `settings` -> `tools` -> `terminal` -> `shell path` -> `cmd.exe` (from dropdown)\n",
    "\n",
    "\n",
    "## doc-string in pycharm?\n",
    "\n",
    "- step 1: Click on pycharm and go to preferences\n",
    "- Step 2: Go to `tools` -> `python integrated tools` \n",
    "- Step 3: Go to dropdown under docstrings and choose `google`\n",
    "\n",
    "\n",
    "# Type annotation\n",
    "- when we specify data types of params in function definition it is called as \n",
    "`type annotation`\n",
    "\n",
    "# Function annotation\n",
    "- when we specify return type of a function it is called as \n",
    "`function annotation`\n",
    "\n",
    "\n",
    "\n",
    "## formats of docstrings\n",
    "\n",
    "- restructured text\n",
    "- google (Prashant's favourite)\n",
    "- numpy\n",
    "\n",
    "\n",
    "## Google Python code style guide\n",
    "- https://google.github.io/styleguide/pyguide.html\n",
    "\n",
    "\n",
    "```text\n",
    "\n",
    "\n",
    "second_project  (project root directory)\n",
    "    - main.py (entrypoint)\n",
    "    - MyModule (package)\n",
    "        - __init__.py\n",
    "        - submodule1.py\n",
    "        - submodule2.py\n",
    "```"
   ]
  },
  {
   "cell_type": "code",
   "execution_count": 4,
   "id": "6a641c6b",
   "metadata": {},
   "outputs": [
    {
     "data": {
      "text/plain": [
       "4"
      ]
     },
     "execution_count": 4,
     "metadata": {},
     "output_type": "execute_result"
    }
   ],
   "source": [
    "import os\n",
    "bar = os.listdir()\n",
    "li = [i for  i in bar if i.endswith(\"txt\")]\n",
    "len(li)"
   ]
  },
  {
   "cell_type": "code",
   "execution_count": 3,
   "id": "4b7da0a9",
   "metadata": {
    "scrolled": true
   },
   "outputs": [
    {
     "data": {
      "text/plain": [
       "'C:\\\\Users\\\\Shree\\\\velocity notes'"
      ]
     },
     "execution_count": 3,
     "metadata": {},
     "output_type": "execute_result"
    }
   ],
   "source": [
    "os.getcwd()"
   ]
  },
  {
   "cell_type": "code",
   "execution_count": 8,
   "id": "bd2f75fe",
   "metadata": {},
   "outputs": [
    {
     "data": {
      "text/plain": [
       "[' module.ipynb',\n",
       " '.ipynb_checkpoints',\n",
       " '26jan.ipynb',\n",
       " 'Built in function.ipynb',\n",
       " 'Dictionary (Dict).ipynb',\n",
       " 'ExtraToday.ipynb',\n",
       " 'for remeber.ipynb',\n",
       " 'Indicing and Slicing.ipynb',\n",
       " 'list attributes.ipynb',\n",
       " 'My Music',\n",
       " 'My Pictures',\n",
       " 'My Videos',\n",
       " 'operators in python.ipynb',\n",
       " 'practice.ipynb',\n",
       " 'Python data types.ipynb',\n",
       " 'Set and Frozenset.ipynb',\n",
       " 'Shallow copy and Deep copy.ipynb',\n",
       " 'string attributes.ipynb',\n",
       " 'The que i should revise.ipynb',\n",
       " 'ticket generator.ipynb']"
      ]
     },
     "execution_count": 8,
     "metadata": {},
     "output_type": "execute_result"
    }
   ],
   "source": [
    "os.listdir('C:\\\\Users\\\\Shree\\\\My notes velocity\\\\')"
   ]
  },
  {
   "cell_type": "code",
   "execution_count": 11,
   "id": "514d2d20",
   "metadata": {},
   "outputs": [],
   "source": [
    "import numpy as np\n",
    "\n",
    "foo= np.array([[2,3,4],[4,3,2],[6,7,8]])\n",
    "b=foo.T"
   ]
  },
  {
   "cell_type": "code",
   "execution_count": 12,
   "id": "141d1825",
   "metadata": {},
   "outputs": [
    {
     "data": {
      "text/plain": [
       "array([[2, 4, 6],\n",
       "       [3, 3, 7],\n",
       "       [4, 2, 8]])"
      ]
     },
     "execution_count": 12,
     "metadata": {},
     "output_type": "execute_result"
    }
   ],
   "source": [
    "b"
   ]
  },
  {
   "cell_type": "code",
   "execution_count": 1,
   "id": "d7fea3e7",
   "metadata": {},
   "outputs": [
    {
     "name": "stdout",
     "output_type": "stream",
     "text": [
      "The Zen of Python, by Tim Peters\n",
      "\n",
      "Beautiful is better than ugly.\n",
      "Explicit is better than implicit.\n",
      "Simple is better than complex.\n",
      "Complex is better than complicated.\n",
      "Flat is better than nested.\n",
      "Sparse is better than dense.\n",
      "Readability counts.\n",
      "Special cases aren't special enough to break the rules.\n",
      "Although practicality beats purity.\n",
      "Errors should never pass silently.\n",
      "Unless explicitly silenced.\n",
      "In the face of ambiguity, refuse the temptation to guess.\n",
      "There should be one-- and preferably only one --obvious way to do it.\n",
      "Although that way may not be obvious at first unless you're Dutch.\n",
      "Now is better than never.\n",
      "Although never is often better than *right* now.\n",
      "If the implementation is hard to explain, it's a bad idea.\n",
      "If the implementation is easy to explain, it may be a good idea.\n",
      "Namespaces are one honking great idea -- let's do more of those!\n"
     ]
    }
   ],
   "source": [
    "import this"
   ]
  },
  {
   "cell_type": "code",
   "execution_count": null,
   "id": "d332182b",
   "metadata": {},
   "outputs": [],
   "source": []
  }
 ],
 "metadata": {
  "kernelspec": {
   "display_name": "Python 3 (ipykernel)",
   "language": "python",
   "name": "python3"
  },
  "language_info": {
   "codemirror_mode": {
    "name": "ipython",
    "version": 3
   },
   "file_extension": ".py",
   "mimetype": "text/x-python",
   "name": "python",
   "nbconvert_exporter": "python",
   "pygments_lexer": "ipython3",
   "version": "3.9.7"
  }
 },
 "nbformat": 4,
 "nbformat_minor": 5
}
