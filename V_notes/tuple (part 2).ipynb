{
 "cells": [
  {
   "cell_type": "markdown",
   "id": "97961c68",
   "metadata": {},
   "source": [
    "- Homogeneous \n",
    "- Heterogeneous"
   ]
  },
  {
   "cell_type": "code",
   "execution_count": 1,
   "id": "55a6342f",
   "metadata": {},
   "outputs": [
    {
     "data": {
      "text/plain": [
       "['__add__',\n",
       " '__class__',\n",
       " '__class_getitem__',\n",
       " '__contains__',\n",
       " '__delattr__',\n",
       " '__delitem__',\n",
       " '__dir__',\n",
       " '__doc__',\n",
       " '__eq__',\n",
       " '__format__',\n",
       " '__ge__',\n",
       " '__getattribute__',\n",
       " '__getitem__',\n",
       " '__gt__',\n",
       " '__hash__',\n",
       " '__iadd__',\n",
       " '__imul__',\n",
       " '__init__',\n",
       " '__init_subclass__',\n",
       " '__iter__',\n",
       " '__le__',\n",
       " '__len__',\n",
       " '__lt__',\n",
       " '__mul__',\n",
       " '__ne__',\n",
       " '__new__',\n",
       " '__reduce__',\n",
       " '__reduce_ex__',\n",
       " '__repr__',\n",
       " '__reversed__',\n",
       " '__rmul__',\n",
       " '__setattr__',\n",
       " '__setitem__',\n",
       " '__sizeof__',\n",
       " '__str__',\n",
       " '__subclasshook__',\n",
       " 'append',\n",
       " 'clear',\n",
       " 'copy',\n",
       " 'count',\n",
       " 'extend',\n",
       " 'index',\n",
       " 'insert',\n",
       " 'pop',\n",
       " 'remove',\n",
       " 'reverse',\n",
       " 'sort']"
      ]
     },
     "execution_count": 1,
     "metadata": {},
     "output_type": "execute_result"
    }
   ],
   "source": [
    "dir(list)"
   ]
  },
  {
   "cell_type": "markdown",
   "id": "a6b924b3",
   "metadata": {},
   "source": [
    " 'append',\n",
    " 'clear',\n",
    " 'copy',\n",
    " 'count',\n",
    " 'extend',\n",
    " 'index',\n",
    " 'insert',\n",
    " 'pop',\n",
    " 'remove',\n",
    " 'reverse',\n",
    " 'sort']"
   ]
  },
  {
   "cell_type": "markdown",
   "id": "3e5d6e94",
   "metadata": {},
   "source": [
    "'count',\n",
    " 'index'"
   ]
  },
  {
   "cell_type": "markdown",
   "id": "58b3b9eb",
   "metadata": {},
   "source": [
    "## tuple packing and tuple un-packing"
   ]
  },
  {
   "cell_type": "code",
   "execution_count": 8,
   "id": "753c8541",
   "metadata": {},
   "outputs": [
    {
     "name": "stdout",
     "output_type": "stream",
     "text": [
      "('virat', 'rahul', 'dhoni')\n"
     ]
    }
   ],
   "source": [
    "example1 = (\"virat\", \"rahul\", \"dhoni\")\n",
    "\n",
    "print(example1)"
   ]
  },
  {
   "cell_type": "code",
   "execution_count": 9,
   "id": "343efeba",
   "metadata": {},
   "outputs": [
    {
     "name": "stdout",
     "output_type": "stream",
     "text": [
      "virat\n",
      "rahul\n",
      "dhoni\n"
     ]
    }
   ],
   "source": [
    "player1, player2, player3 = example1\n",
    "\n",
    "print(player1)\n",
    "print(player2)\n",
    "print(player3)"
   ]
  },
  {
   "cell_type": "code",
   "execution_count": 13,
   "id": "87ae9b61",
   "metadata": {},
   "outputs": [
    {
     "name": "stdout",
     "output_type": "stream",
     "text": [
      "('pune',)\n"
     ]
    }
   ],
   "source": [
    "cities = \"pune\", \n",
    "\n",
    "random = cities\n",
    "\n",
    "\n",
    "print(random)"
   ]
  },
  {
   "cell_type": "code",
   "execution_count": 14,
   "id": "b1dbda7e",
   "metadata": {},
   "outputs": [
    {
     "name": "stdout",
     "output_type": "stream",
     "text": [
      "pune\n",
      "mumbai\n"
     ]
    }
   ],
   "source": [
    "cities = \"pune\", \"mumbai\"\n",
    "\n",
    "random1, random2 = cities\n",
    "\n",
    "\n",
    "print(random1)\n",
    "print(random2)"
   ]
  },
  {
   "cell_type": "code",
   "execution_count": 19,
   "id": "54b7b2c6",
   "metadata": {},
   "outputs": [
    {
     "data": {
      "text/plain": [
       "tuple"
      ]
     },
     "execution_count": 19,
     "metadata": {},
     "output_type": "execute_result"
    }
   ],
   "source": [
    "suburbs = \"kothrud\", \"shivajinagar\", \"hadapsar\"\n",
    "\n",
    "ex1, ex2, ex3 = suburbs\n",
    "\n",
    "new_tuple = ex1, ex2, ex3\n",
    "\n",
    "type(new_tuple)"
   ]
  },
  {
   "cell_type": "code",
   "execution_count": 17,
   "id": "8bfb8f9a",
   "metadata": {},
   "outputs": [
    {
     "name": "stdout",
     "output_type": "stream",
     "text": [
      "3\n"
     ]
    },
    {
     "ename": "ValueError",
     "evalue": "not enough values to unpack (expected 4, got 3)",
     "output_type": "error",
     "traceback": [
      "\u001b[0;31m---------------------------------------------------------------------------\u001b[0m",
      "\u001b[0;31mValueError\u001b[0m                                Traceback (most recent call last)",
      "Cell \u001b[0;32mIn [17], line 6\u001b[0m\n\u001b[1;32m      1\u001b[0m suburbs \u001b[38;5;241m=\u001b[39m \u001b[38;5;124m\"\u001b[39m\u001b[38;5;124mkothrud\u001b[39m\u001b[38;5;124m\"\u001b[39m, \u001b[38;5;124m\"\u001b[39m\u001b[38;5;124mshivajinagar\u001b[39m\u001b[38;5;124m\"\u001b[39m, \u001b[38;5;124m\"\u001b[39m\u001b[38;5;124mhadapsar\u001b[39m\u001b[38;5;124m\"\u001b[39m\n\u001b[1;32m      3\u001b[0m \u001b[38;5;28mprint\u001b[39m(\u001b[38;5;28mlen\u001b[39m(suburbs))\n\u001b[0;32m----> 6\u001b[0m ex1, ex2, ex3, ex4 \u001b[38;5;241m=\u001b[39m suburbs\n",
      "\u001b[0;31mValueError\u001b[0m: not enough values to unpack (expected 4, got 3)"
     ]
    }
   ],
   "source": [
    "suburbs = \"kothrud\", \"shivajinagar\", \"hadapsar\"\n",
    "\n",
    "print(len(suburbs))\n",
    "\n",
    "\n",
    "ex1, ex2, ex3, ex4 = suburbs"
   ]
  },
  {
   "cell_type": "code",
   "execution_count": null,
   "id": "cd6f86b7",
   "metadata": {},
   "outputs": [],
   "source": []
  },
  {
   "cell_type": "markdown",
   "id": "53af56f9",
   "metadata": {},
   "source": [
    "## swapping"
   ]
  },
  {
   "cell_type": "code",
   "execution_count": null,
   "id": "d2b289ed",
   "metadata": {},
   "outputs": [],
   "source": [
    "foo = \"prashant\"\n",
    "bar = \"rahul\"\n",
    "\n",
    "print(foo)\n",
    "print(bar)"
   ]
  },
  {
   "cell_type": "code",
   "execution_count": 5,
   "id": "2696db52",
   "metadata": {},
   "outputs": [
    {
     "name": "stdout",
     "output_type": "stream",
     "text": [
      "rahul\n",
      "prashant\n"
     ]
    }
   ],
   "source": [
    "foo = \"prashant\"\n",
    "bar = \"rahul\"\n",
    "\n",
    "temp = foo\n",
    "foo = bar\n",
    "bar = temp\n",
    "\n",
    "print(foo)\n",
    "print(bar)"
   ]
  },
  {
   "cell_type": "code",
   "execution_count": 7,
   "id": "28b8cf18",
   "metadata": {},
   "outputs": [
    {
     "name": "stdout",
     "output_type": "stream",
     "text": [
      "200\n",
      "100\n"
     ]
    }
   ],
   "source": [
    "# Python \n",
    "\n",
    "foo = 100\n",
    "bar = 200\n",
    "\n",
    "foo, bar = bar, foo\n",
    "\n",
    "print(foo)\n",
    "print(bar)"
   ]
  },
  {
   "cell_type": "code",
   "execution_count": null,
   "id": "8c3ade14",
   "metadata": {},
   "outputs": [],
   "source": []
  }
 ],
 "metadata": {
  "kernelspec": {
   "display_name": "Python 3 (ipykernel)",
   "language": "python",
   "name": "python3"
  },
  "language_info": {
   "codemirror_mode": {
    "name": "ipython",
    "version": 3
   },
   "file_extension": ".py",
   "mimetype": "text/x-python",
   "name": "python",
   "nbconvert_exporter": "python",
   "pygments_lexer": "ipython3",
   "version": "3.9.7"
  }
 },
 "nbformat": 4,
 "nbformat_minor": 5
}
