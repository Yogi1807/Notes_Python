{
 "cells": [
  {
   "cell_type": "markdown",
   "id": "f7f9e186-1436-4ab3-ab89-eca61c253ee5",
   "metadata": {},
   "source": [
    "### function classification based on return type\n",
    "\n",
    "- void\n",
    "- return"
   ]
  },
  {
   "cell_type": "markdown",
   "id": "5a7c8cc3-e831-4066-bfdf-8e6c0990ff5e",
   "metadata": {},
   "source": [
    "#### function classfication based who defines them\n",
    "\n",
    "- user defined \n",
    "- built-in function"
   ]
  },
  {
   "cell_type": "markdown",
   "id": "01dde11c-f7e9-41c9-8a79-aacc44d66ab9",
   "metadata": {},
   "source": [
    "### why do we define functions?\n",
    "\n",
    "- re-usability\n",
    "- repeating code is bad idea (DRY)\n",
    "- modularity"
   ]
  },
  {
   "cell_type": "markdown",
   "id": "6af4a012-b190-487f-b681-ede70b4f8617",
   "metadata": {},
   "source": [
    "### procedural programming\n",
    "\n",
    "- functions\n",
    "- methods\n",
    "- routines\n",
    "- macros\n",
    "- procedure\n",
    "\n"
   ]
  },
  {
   "cell_type": "markdown",
   "id": "77f17712-2dd3-4c01-9379-d7baaf2cae6c",
   "metadata": {},
   "source": [
    "### minimal function"
   ]
  },
  {
   "cell_type": "code",
   "execution_count": 1,
   "id": "892681f5-c0e0-4d47-bf38-23ad9fd4d142",
   "metadata": {},
   "outputs": [],
   "source": [
    "def do_nothing():\n",
    "    pass     # do nothing"
   ]
  },
  {
   "cell_type": "code",
   "execution_count": 2,
   "id": "1e92f158-8644-434a-81ae-a6787f262857",
   "metadata": {},
   "outputs": [],
   "source": [
    "do_nothing()"
   ]
  },
  {
   "cell_type": "markdown",
   "id": "1e73ae9f-1225-4a90-85f9-b8e01ce10279",
   "metadata": {},
   "source": [
    "#### terminology\n",
    "\n",
    "parameters :: input to the function definition\n",
    "arguments :: input to function calling\n"
   ]
  },
  {
   "cell_type": "markdown",
   "id": "7a0b910d-35de-4327-a7b3-229bc390c64d",
   "metadata": {},
   "source": [
    "## everything in python is an object"
   ]
  },
  {
   "cell_type": "code",
   "execution_count": 5,
   "id": "21277212-f553-41e8-b00c-1a68efe617cd",
   "metadata": {},
   "outputs": [],
   "source": [
    "def do_nothing():  # funtion def starts\n",
    "    pass  # function def ends"
   ]
  },
  {
   "cell_type": "code",
   "execution_count": null,
   "id": "08dd82b1-8bd7-4dd1-aaa2-5a9bb8784e47",
   "metadata": {},
   "outputs": [],
   "source": [
    "type(do_nothing)  # `do_nothing` is an object of class `function`"
   ]
  },
  {
   "cell_type": "markdown",
   "id": "9770b350-1dfc-4492-a6c5-41ad14791774",
   "metadata": {},
   "source": [
    "### `help()` function"
   ]
  },
  {
   "cell_type": "code",
   "execution_count": 10,
   "id": "0f09e471-2321-4d35-b490-119fd5561642",
   "metadata": {},
   "outputs": [
    {
     "name": "stdout",
     "output_type": "stream",
     "text": [
      "Help on function do_nothing in module __main__:\n",
      "\n",
      "do_nothing()\n",
      "\n"
     ]
    }
   ],
   "source": [
    "help(do_nothing)"
   ]
  },
  {
   "cell_type": "markdown",
   "id": "23b2bd1f-81e1-4881-9405-2e32929e924c",
   "metadata": {},
   "source": [
    "## doc-string\n",
    "\n",
    "- A multi-line comment that is written under `function signature`, usually used to describe the function\n",
    "\n",
    "\n",
    "##### why do we write doc-string?\n",
    "\n",
    "- `in-code` documentation\n",
    "- developer documentation"
   ]
  },
  {
   "cell_type": "markdown",
   "id": "b9ba1b4e-6e84-43e6-a81a-80c4b1926fb7",
   "metadata": {},
   "source": [
    "##### how do we write multi-line comment in python?\n",
    "\n",
    "\"\"\"\n",
    "this is a multi-line comment.\n",
    "I can write another line\n",
    "\"\"\""
   ]
  },
  {
   "cell_type": "code",
   "execution_count": 12,
   "id": "3727454d-4ea7-48ae-bf55-d206694f74a2",
   "metadata": {},
   "outputs": [
    {
     "name": "stdout",
     "output_type": "stream",
     "text": [
      "Help on function do_nothing in module __main__:\n",
      "\n",
      "do_nothing()\n",
      "    This function does nothing. Most useless function I have ever seen\n",
      "\n"
     ]
    }
   ],
   "source": [
    "def do_nothing():\n",
    "    \"\"\"This function does nothing. Most useless function I have ever seen\"\"\"\n",
    "    pass\n",
    "\n",
    "\n",
    "help(do_nothing)"
   ]
  },
  {
   "cell_type": "code",
   "execution_count": 18,
   "id": "464c953e-21c4-4fbf-84b5-a9e4ceb0c286",
   "metadata": {},
   "outputs": [],
   "source": [
    "def do_square(num):\n",
    "    \"\"\"\n",
    "    returns square of given number.\n",
    "\n",
    "    Args:\n",
    "        num (int): the number of which square is to be performed.\n",
    "    \"\"\"\n",
    "    \n",
    "    print(\"hello\", end=\" \")\n",
    "    print(\"world\")\n",
    "          \n",
    "    \"\"\"\n",
    "    this is my multiline comment\n",
    "    comment 2\n",
    "    comment 3\n",
    "    \"\"\"\n",
    "    return num ** 2"
   ]
  },
  {
   "cell_type": "code",
   "execution_count": 19,
   "id": "b7705cd9-2107-4e6e-8fd0-640d83d7bbd7",
   "metadata": {},
   "outputs": [
    {
     "name": "stdout",
     "output_type": "stream",
     "text": [
      "hello world\n"
     ]
    },
    {
     "data": {
      "text/plain": [
       "49"
      ]
     },
     "execution_count": 19,
     "metadata": {},
     "output_type": "execute_result"
    }
   ],
   "source": [
    "do_square(7)"
   ]
  },
  {
   "cell_type": "code",
   "execution_count": 20,
   "id": "89dcac80-f205-4ad8-a64f-2b0ac872c25b",
   "metadata": {},
   "outputs": [
    {
     "name": "stdout",
     "output_type": "stream",
     "text": [
      "Help on function do_square in module __main__:\n",
      "\n",
      "do_square(num)\n",
      "    returns square of given number.\n",
      "    \n",
      "    Args:\n",
      "        num (int): the number of which square is to be performed.\n",
      "\n"
     ]
    }
   ],
   "source": [
    "help(do_square)"
   ]
  },
  {
   "cell_type": "code",
   "execution_count": 30,
   "id": "b6975f76-d615-4d9d-8e18-ab4b38da59f9",
   "metadata": {},
   "outputs": [
    {
     "name": "stdin",
     "output_type": "stream",
     "text": [
      "please enter your height (in meters) :  1\n",
      "please enter your weight (in kg) :  1\n"
     ]
    },
    {
     "name": "stdout",
     "output_type": "stream",
     "text": [
      "1.0\n",
      "Very severely underweight\n",
      "Help on function analyze_bmi in module __main__:\n",
      "\n",
      "analyze_bmi(bmi_value)\n",
      "    returns a message based on bmi calculation\n",
      "\n"
     ]
    }
   ],
   "source": [
    "\n",
    "\n",
    "# function definition\n",
    "def bmi(height_, weight_):\n",
    "    \"\"\"\n",
    "    returns `bmi` value based on height and weight using standard formula\n",
    "    \n",
    "    Args:\n",
    "        height_ (int): height in meters\n",
    "        weight_ (int): weight in kgs\n",
    "    \"\"\"\n",
    "    \n",
    "    return weight_ / height_ ** 2\n",
    "\n",
    "\n",
    "height = float(input(\"please enter your height (in meters) : \"))\n",
    "weight = float(input(\"please enter your weight (in kg) : \"))\n",
    "\n",
    "\n",
    "# function call\n",
    "result = bmi(height, weight)\n",
    "print(result)\n",
    "\n",
    "\n",
    "def analyze_bmi(bmi_value):\n",
    "    \"\"\"\n",
    "    returns a message based on bmi calculation\n",
    "    \"\"\"\n",
    "    \n",
    "    if bmi_value < 15:\n",
    "        print(\"Very severely underweight\")\n",
    "    elif bmi_value < 18.5:\n",
    "        print(\"Underweight\")\n",
    "    elif bmi_value < 25:\n",
    "        print(\"normal\")\n",
    "    elif bmi_value < 30:\n",
    "        print(\"overweight\")\n",
    "    else:\n",
    "        print(\"very overweight\")\n",
    "        \n",
    "        \n",
    "analyze_bmi(result)\n",
    "help(analyze_bmi)"
   ]
  },
  {
   "cell_type": "code",
   "execution_count": null,
   "id": "7a6ddee6-3485-4d10-bdfc-7437b6208ab4",
   "metadata": {},
   "outputs": [],
   "source": [
    "\"\"\"\n",
    "bmi_value < 15  => \"Very severely underweight\"\n",
    "bmi_value < 18.5 => \"Underweight\"\n",
    "bmi_value < 25 => normal \n",
    "bmi_value < 30 => overweight\n",
    "bmi_value > 30 => very overweight\n",
    "\"\"\""
   ]
  },
  {
   "cell_type": "markdown",
   "id": "9b37f7be-5456-4eff-a552-d6079ac9cfc0",
   "metadata": {},
   "source": [
    "### types of params\n",
    "\n",
    "- positional params\n",
    "- keyword params"
   ]
  },
  {
   "cell_type": "code",
   "execution_count": null,
   "id": "9ae4e9fc-4869-4c14-9d9d-68529c75e4ae",
   "metadata": {},
   "outputs": [],
   "source": [
    "def my_func(param1, param2, param3, key_1=value_1):\n",
    "    pass\n",
    "\n",
    "\n",
    "my_func(arg2, arg1, arg3)\n",
    "\n",
    "\n",
    "    "
   ]
  },
  {
   "cell_type": "markdown",
   "id": "4753cf7f-a3a9-4633-986a-7cc499dabbdb",
   "metadata": {},
   "source": [
    "## function that can only take positional argument"
   ]
  },
  {
   "cell_type": "code",
   "execution_count": 3,
   "id": "a2d5a583-9127-4776-ac0d-5174efada4da",
   "metadata": {},
   "outputs": [
    {
     "ename": "TypeError",
     "evalue": "perform_addition() got some positional-only arguments passed as keyword arguments: 'num1, num2'",
     "output_type": "error",
     "traceback": [
      "\u001b[1;31m---------------------------------------------------------------------------\u001b[0m",
      "\u001b[1;31mTypeError\u001b[0m                                 Traceback (most recent call last)",
      "\u001b[1;32m~\\AppData\\Local\\Temp/ipykernel_5752/1176746473.py\u001b[0m in \u001b[0;36m<module>\u001b[1;34m\u001b[0m\n\u001b[0;32m      3\u001b[0m \u001b[1;33m\u001b[0m\u001b[0m\n\u001b[0;32m      4\u001b[0m \u001b[1;33m\u001b[0m\u001b[0m\n\u001b[1;32m----> 5\u001b[1;33m \u001b[0mperform_addition\u001b[0m\u001b[1;33m(\u001b[0m\u001b[0mnum1\u001b[0m\u001b[1;33m=\u001b[0m\u001b[1;36m10\u001b[0m\u001b[1;33m,\u001b[0m \u001b[0mnum2\u001b[0m\u001b[1;33m=\u001b[0m\u001b[1;36m20\u001b[0m\u001b[1;33m)\u001b[0m\u001b[1;33m\u001b[0m\u001b[1;33m\u001b[0m\u001b[0m\n\u001b[0m",
      "\u001b[1;31mTypeError\u001b[0m: perform_addition() got some positional-only arguments passed as keyword arguments: 'num1, num2'"
     ]
    }
   ],
   "source": [
    "def perform_addition(num1, num2, /):\n",
    "    return num1 + num2\n",
    "\n",
    "\n",
    "perform_addition(num1=10, num2=20)"
   ]
  },
  {
   "cell_type": "code",
   "execution_count": 5,
   "id": "f8964a4c-1843-40e0-b081-741b3644be1f",
   "metadata": {},
   "outputs": [
    {
     "data": {
      "text/plain": [
       "130"
      ]
     },
     "execution_count": 5,
     "metadata": {},
     "output_type": "execute_result"
    }
   ],
   "source": [
    "def perform_addition(num1, num2, /):\n",
    "    return num1 + num2\n",
    "\n",
    "perform_addition(60, 70)"
   ]
  },
  {
   "cell_type": "markdown",
   "id": "e9c6bad1-1d6c-4c00-8f84-66418c57baab",
   "metadata": {},
   "source": [
    "## function that can only take keyword argument"
   ]
  },
  {
   "cell_type": "code",
   "execution_count": 41,
   "id": "79fe2c72-c013-4763-a13c-dee0e21dcc30",
   "metadata": {},
   "outputs": [
    {
     "data": {
      "text/plain": [
       "'good morning prashant'"
      ]
     },
     "execution_count": 41,
     "metadata": {},
     "output_type": "execute_result"
    }
   ],
   "source": [
    "def greetings(*, msg=\"hello\", name=\"world\"):\n",
    "    return msg + \" \" + name\n",
    "\n",
    "\n",
    "greetings(msg=\"good morning\", name=\"prashant\")"
   ]
  },
  {
   "cell_type": "code",
   "execution_count": 42,
   "id": "2e97fc8d-72e9-4c52-b6be-2072767ce4cd",
   "metadata": {},
   "outputs": [
    {
     "ename": "TypeError",
     "evalue": "greetings() takes 0 positional arguments but 2 were given",
     "output_type": "error",
     "traceback": [
      "\u001b[0;31m---------------------------------------------------------------------------\u001b[0m",
      "\u001b[0;31mTypeError\u001b[0m                                 Traceback (most recent call last)",
      "Cell \u001b[0;32mIn [42], line 5\u001b[0m\n\u001b[1;32m      1\u001b[0m \u001b[38;5;28;01mdef\u001b[39;00m \u001b[38;5;21mgreetings\u001b[39m(\u001b[38;5;241m*\u001b[39m, msg\u001b[38;5;241m=\u001b[39m\u001b[38;5;124m\"\u001b[39m\u001b[38;5;124mhello\u001b[39m\u001b[38;5;124m\"\u001b[39m, name\u001b[38;5;241m=\u001b[39m\u001b[38;5;124m\"\u001b[39m\u001b[38;5;124mworld\u001b[39m\u001b[38;5;124m\"\u001b[39m):\n\u001b[1;32m      2\u001b[0m     \u001b[38;5;28;01mreturn\u001b[39;00m msg \u001b[38;5;241m+\u001b[39m \u001b[38;5;124m\"\u001b[39m\u001b[38;5;124m \u001b[39m\u001b[38;5;124m\"\u001b[39m \u001b[38;5;241m+\u001b[39m name\n\u001b[0;32m----> 5\u001b[0m \u001b[43mgreetings\u001b[49m\u001b[43m(\u001b[49m\u001b[38;5;124;43m\"\u001b[39;49m\u001b[38;5;124;43mgood morning\u001b[39;49m\u001b[38;5;124;43m\"\u001b[39;49m\u001b[43m,\u001b[49m\u001b[43m \u001b[49m\u001b[38;5;124;43m\"\u001b[39;49m\u001b[38;5;124;43mprashant\u001b[39;49m\u001b[38;5;124;43m\"\u001b[39;49m\u001b[43m)\u001b[49m\n",
      "\u001b[0;31mTypeError\u001b[0m: greetings() takes 0 positional arguments but 2 were given"
     ]
    }
   ],
   "source": [
    "def greetings(*, msg=\"hello\", name=\"world\"):\n",
    "    return msg + \" \" + name\n",
    "\n",
    "\n",
    "greetings(\"good morning\", \"prashant\")"
   ]
  },
  {
   "cell_type": "markdown",
   "id": "48ad7786-1250-43d3-ac49-cbbf127dca57",
   "metadata": {},
   "source": [
    "### function that takes both positional and keyword args"
   ]
  },
  {
   "cell_type": "code",
   "execution_count": 4,
   "id": "ab57db6c-429f-4b9b-8d1d-4182e5e9958b",
   "metadata": {},
   "outputs": [
    {
     "data": {
      "text/plain": [
       "200.0"
      ]
     },
     "execution_count": 4,
     "metadata": {},
     "output_type": "execute_result"
    }
   ],
   "source": [
    "def area_of_tringle(height, base=20):\n",
    "    \"\"\"\n",
    "    doc-string\n",
    "    \"\"\"\n",
    "    \n",
    "    return (height * base / 2)\n",
    "\n",
    "\n",
    "area_of_tringle(10)\n",
    "\n",
    "area_of_tringle(10, 49)\n",
    "\n",
    "area_of_tringle(10, base=40)\n"
   ]
  },
  {
   "cell_type": "markdown",
   "id": "d5495694-68d0-424c-8c6a-ab217b242aff",
   "metadata": {},
   "source": [
    "### Higher order function\n",
    "\n",
    "- higher order function is a function that takes another function as an argument\n",
    "- higher order function can also return another function as output\n"
   ]
  },
  {
   "cell_type": "code",
   "execution_count": 3,
   "id": "661ed6b0-290f-4463-85c2-817fa175696c",
   "metadata": {},
   "outputs": [
    {
     "name": "stdout",
     "output_type": "stream",
     "text": [
      "{'name': 'virat'}\n"
     ]
    }
   ],
   "source": [
    "def print_dict(data, func):\n",
    "    \"\"\"\n",
    "    prints dictionary elements using a function called `func`\n",
    "    \"\"\"\n",
    "    \n",
    "    return func(data)\n",
    "\n",
    "\n",
    "sample = {\"name\": \"virat\"}\n",
    "\n",
    "\n",
    "# function-call\n",
    "print_dict(sample, print)\n",
    "    "
   ]
  },
  {
   "cell_type": "code",
   "execution_count": 44,
   "id": "449e5d93-27a3-48c1-869f-827236fd0bfe",
   "metadata": {},
   "outputs": [
    {
     "data": {
      "text/plain": [
       "builtin_function_or_method"
      ]
     },
     "execution_count": 44,
     "metadata": {},
     "output_type": "execute_result"
    }
   ],
   "source": [
    "type(print)"
   ]
  },
  {
   "cell_type": "code",
   "execution_count": 5,
   "id": "8ecf251e-2714-4864-bc7d-287359fd0753",
   "metadata": {},
   "outputs": [
    {
     "name": "stdout",
     "output_type": "stream",
     "text": [
      "type of `data` variable is :: <class 'str'>\n"
     ]
    }
   ],
   "source": [
    "def get_type(data, func):\n",
    "    \n",
    "    result = func(data)\n",
    "    print(f\"type of `data` variable is :: {result}\")\n",
    "          \n",
    "\n",
    "get_type(\"\", type)\n",
    "    "
   ]
  },
  {
   "cell_type": "code",
   "execution_count": 7,
   "id": "e7e30c3f-4f30-45f1-8a6d-9abe71c97816",
   "metadata": {},
   "outputs": [
    {
     "name": "stdout",
     "output_type": "stream",
     "text": [
      "4\n"
     ]
    }
   ],
   "source": [
    "def find_length(obj, func):\n",
    "    result = func(obj)\n",
    "    print(result)\n",
    "    \n",
    "\n",
    "elements = [1, 2, 3, 4]\n",
    "\n",
    "find_length(elements, len)"
   ]
  },
  {
   "cell_type": "code",
   "execution_count": 49,
   "id": "47454039-9012-4848-bcf1-b38234a2b737",
   "metadata": {},
   "outputs": [
    {
     "name": "stdout",
     "output_type": "stream",
     "text": [
      "100\n"
     ]
    }
   ],
   "source": [
    "def perform_square(num):\n",
    "    return num * num\n",
    "\n",
    "\n",
    "def new_perform_square(element, func):\n",
    "    result = func(element)\n",
    "    print(result)\n",
    "    \n",
    "    \n",
    "new_perform_square(10, perform_square)\n",
    "\n",
    "\n"
   ]
  },
  {
   "cell_type": "code",
   "execution_count": 51,
   "id": "555f5940-f9be-46be-80c4-e1681cdf7952",
   "metadata": {},
   "outputs": [
    {
     "data": {
      "text/plain": [
       "['__class__',\n",
       " '__class_getitem__',\n",
       " '__contains__',\n",
       " '__delattr__',\n",
       " '__delitem__',\n",
       " '__dir__',\n",
       " '__doc__',\n",
       " '__eq__',\n",
       " '__format__',\n",
       " '__ge__',\n",
       " '__getattribute__',\n",
       " '__getitem__',\n",
       " '__gt__',\n",
       " '__hash__',\n",
       " '__init__',\n",
       " '__init_subclass__',\n",
       " '__ior__',\n",
       " '__iter__',\n",
       " '__le__',\n",
       " '__len__',\n",
       " '__lt__',\n",
       " '__ne__',\n",
       " '__new__',\n",
       " '__or__',\n",
       " '__reduce__',\n",
       " '__reduce_ex__',\n",
       " '__repr__',\n",
       " '__reversed__',\n",
       " '__ror__',\n",
       " '__setattr__',\n",
       " '__setitem__',\n",
       " '__sizeof__',\n",
       " '__str__',\n",
       " '__subclasshook__',\n",
       " 'clear',\n",
       " 'copy',\n",
       " 'fromkeys',\n",
       " 'get',\n",
       " 'items',\n",
       " 'keys',\n",
       " 'pop',\n",
       " 'popitem',\n",
       " 'setdefault',\n",
       " 'update',\n",
       " 'values']"
      ]
     },
     "execution_count": 51,
     "metadata": {},
     "output_type": "execute_result"
    }
   ],
   "source": [
    "def get_attributes(func, data):\n",
    "    return func(data)\n",
    "\n",
    "get_attributes(dir, {})\n",
    "    "
   ]
  },
  {
   "cell_type": "markdown",
   "id": "e5c50e43-d422-4f16-a1e0-ddc5c8ff3a07",
   "metadata": {},
   "source": [
    "### simple example of function returning a function"
   ]
  },
  {
   "cell_type": "code",
   "execution_count": 7,
   "id": "c03c5921-fcf0-4f61-9460-2270435ad306",
   "metadata": {},
   "outputs": [
    {
     "data": {
      "text/plain": [
       "105"
      ]
     },
     "execution_count": 7,
     "metadata": {},
     "output_type": "execute_result"
    }
   ],
   "source": [
    "def give_me_five():\n",
    "    \n",
    "    def addfive(x):\n",
    "        return x + 5\n",
    "    \n",
    "    return addfive\n",
    "\n",
    "\n",
    "func = give_me_five()\n",
    "        \n",
    "func(100)"
   ]
  },
  {
   "cell_type": "code",
   "execution_count": 9,
   "id": "fd696b83-4f5d-42ef-aec0-e71943d4a58c",
   "metadata": {},
   "outputs": [],
   "source": [
    "def give_me_adder(num):\n",
    "    def internal(x):\n",
    "        return x + num\n",
    "    return internal\n"
   ]
  },
  {
   "cell_type": "code",
   "execution_count": 10,
   "id": "9fe2bd35-b2c0-4640-8875-c1a6d02b809e",
   "metadata": {},
   "outputs": [
    {
     "data": {
      "text/plain": [
       "110"
      ]
     },
     "execution_count": 10,
     "metadata": {},
     "output_type": "execute_result"
    }
   ],
   "source": [
    "adder_of_10 = give_me_adder(10)\n",
    "adder_of_10(100)"
   ]
  },
  {
   "cell_type": "code",
   "execution_count": 62,
   "id": "987ea323-1f44-42dc-b08c-9d9b3638af49",
   "metadata": {},
   "outputs": [
    {
     "data": {
      "text/plain": [
       "94"
      ]
     },
     "execution_count": 62,
     "metadata": {},
     "output_type": "execute_result"
    }
   ],
   "source": [
    "adder_of_4 = give_me_adder(4)\n",
    "adder_of_4(90)"
   ]
  },
  {
   "cell_type": "code",
   "execution_count": null,
   "id": "0eeeee25-7c94-4134-8800-ed08085cdd45",
   "metadata": {},
   "outputs": [],
   "source": [
    "def exponent"
   ]
  },
  {
   "cell_type": "code",
   "execution_count": 16,
   "id": "9d243f2e-2c4c-4c38-8b81-f1a50c1a62dc",
   "metadata": {},
   "outputs": [
    {
     "data": {
      "text/plain": [
       "['clear',\n",
       " 'copy',\n",
       " 'fromkeys',\n",
       " 'get',\n",
       " 'items',\n",
       " 'keys',\n",
       " 'pop',\n",
       " 'popitem',\n",
       " 'setdefault',\n",
       " 'update',\n",
       " 'values']"
      ]
     },
     "execution_count": 16,
     "metadata": {},
     "output_type": "execute_result"
    }
   ],
   "source": [
    "def get_attributes(data):\n",
    "    def skip_dunders(data):\n",
    "        output = []\n",
    "        attributes = dir(data)\n",
    "        for attr in attributes:\n",
    "            if not attr.startswith(\"__\") and not attr.endswith(\"__\"):\n",
    "                output.append(attr)\n",
    "        return output\n",
    "    return skip_dunders\n",
    "\n",
    "\n",
    "func=get_attributes({})\n",
    "func({})\n",
    "    "
   ]
  },
  {
   "cell_type": "code",
   "execution_count": null,
   "id": "716d311c-dbb1-4c1c-ac49-4e78d52bba28",
   "metadata": {},
   "outputs": [],
   "source": [
    "def adder_of_10(num):\n",
    "    return num + 10\n",
    "\n",
    "\n",
    "def adder_of_8(num):\n",
    "    return num + 8"
   ]
  },
  {
   "cell_type": "code",
   "execution_count": 63,
   "id": "b87b8bc9-1872-4a03-9d02-060242cb5867",
   "metadata": {},
   "outputs": [
    {
     "data": {
      "text/plain": [
       "120"
      ]
     },
     "execution_count": 63,
     "metadata": {},
     "output_type": "execute_result"
    }
   ],
   "source": [
    "def make_an_adder(num):\n",
    "    def internal(x):\n",
    "        return x + num\n",
    "    return internal\n",
    "\n",
    "func100 = make_an_adder(100)\n",
    "func100(20)"
   ]
  },
  {
   "cell_type": "code",
   "execution_count": 64,
   "id": "6ae577e0-b161-420e-b6ae-20e68d34b60f",
   "metadata": {},
   "outputs": [
    {
     "data": {
      "text/plain": [
       "70"
      ]
     },
     "execution_count": 64,
     "metadata": {},
     "output_type": "execute_result"
    }
   ],
   "source": [
    "func50 = make_an_adder(50)\n",
    "func50(20)"
   ]
  },
  {
   "cell_type": "code",
   "execution_count": 9,
   "id": "7eae7dee-cfe2-4714-a5bc-8b8e9735c148",
   "metadata": {},
   "outputs": [],
   "source": [
    "def make_exponent(exponent):\n",
    "    def internal(any_):\n",
    "        return any_ ** exponent\n",
    "    return internal\n"
   ]
  },
  {
   "cell_type": "code",
   "execution_count": 10,
   "id": "9a3d6810-e9ec-4dee-a968-45a2875a0756",
   "metadata": {},
   "outputs": [
    {
     "data": {
      "text/plain": [
       "64"
      ]
     },
     "execution_count": 10,
     "metadata": {},
     "output_type": "execute_result"
    }
   ],
   "source": [
    "make_exponent(2)(7)\n",
    "\n",
    "######################\n",
    "\n",
    "name_ = make_exponent(2)\n",
    "name_(8)\n"
   ]
  },
  {
   "cell_type": "code",
   "execution_count": 11,
   "id": "a37ee01c-b859-4a82-9b49-e1639e1879be",
   "metadata": {},
   "outputs": [],
   "source": [
    "square_func = make_exponent(2)\n",
    "cube_func = make_exponent(3)"
   ]
  },
  {
   "cell_type": "code",
   "execution_count": 67,
   "id": "483b2e2b-8ed2-4aa3-90e4-2897664904cc",
   "metadata": {},
   "outputs": [
    {
     "data": {
      "text/plain": [
       "100"
      ]
     },
     "execution_count": 67,
     "metadata": {},
     "output_type": "execute_result"
    }
   ],
   "source": [
    "square_func(10)"
   ]
  },
  {
   "cell_type": "code",
   "execution_count": 68,
   "id": "2353fbba-1114-4abe-9f0e-841fb45dace2",
   "metadata": {},
   "outputs": [
    {
     "data": {
      "text/plain": [
       "49"
      ]
     },
     "execution_count": 68,
     "metadata": {},
     "output_type": "execute_result"
    }
   ],
   "source": [
    "square_func(7)"
   ]
  },
  {
   "cell_type": "code",
   "execution_count": 69,
   "id": "4a06f05e-bfb2-4bcf-b13c-73ce1c20b5d2",
   "metadata": {},
   "outputs": [
    {
     "data": {
      "text/plain": [
       "36"
      ]
     },
     "execution_count": 69,
     "metadata": {},
     "output_type": "execute_result"
    }
   ],
   "source": [
    "square_func(6)"
   ]
  },
  {
   "cell_type": "code",
   "execution_count": 71,
   "id": "a3097d5b-3650-4b0e-864a-c5653f16144f",
   "metadata": {},
   "outputs": [
    {
     "data": {
      "text/plain": [
       "27"
      ]
     },
     "execution_count": 71,
     "metadata": {},
     "output_type": "execute_result"
    }
   ],
   "source": [
    "cube_func(3)"
   ]
  },
  {
   "cell_type": "code",
   "execution_count": 72,
   "id": "1914bb57-f272-4753-b515-ed20ff0a1109",
   "metadata": {},
   "outputs": [
    {
     "data": {
      "text/plain": [
       "8"
      ]
     },
     "execution_count": 72,
     "metadata": {},
     "output_type": "execute_result"
    }
   ],
   "source": [
    "cube_func(2)"
   ]
  },
  {
   "cell_type": "code",
   "execution_count": 73,
   "id": "a4ea3f64-445f-4d10-9103-9bbccb667ad7",
   "metadata": {},
   "outputs": [
    {
     "name": "stdout",
     "output_type": "stream",
     "text": [
      "hello world\n",
      "hello world\n",
      "hello world\n"
     ]
    }
   ],
   "source": [
    "def hello():\n",
    "    print(\"hello world\")\n",
    "\n",
    "\n",
    "say_hello = hello\n",
    "wish_world = hello\n",
    "\n",
    "\n",
    "hello()\n",
    "say_hello()\n",
    "wish_world()\n"
   ]
  },
  {
   "cell_type": "code",
   "execution_count": 79,
   "id": "d4e4a785-54cd-49f1-ace8-422b86076dfc",
   "metadata": {},
   "outputs": [
    {
     "data": {
      "text/plain": [
       "2640"
      ]
     },
     "execution_count": 79,
     "metadata": {},
     "output_type": "execute_result"
    }
   ],
   "source": [
    "## first thing\n",
    "first = sum([x**2 for x in range(1, 11)])\n",
    "\n",
    "# second part\n",
    "second = sum(list(range(1, 11))) ** 2\n",
    "\n",
    "second - first"
   ]
  },
  {
   "cell_type": "code",
   "execution_count": null,
   "id": "3bcbfda0",
   "metadata": {},
   "outputs": [],
   "source": []
  }
 ],
 "metadata": {
  "kernelspec": {
   "display_name": "Python 3 (ipykernel)",
   "language": "python",
   "name": "python3"
  },
  "language_info": {
   "codemirror_mode": {
    "name": "ipython",
    "version": 3
   },
   "file_extension": ".py",
   "mimetype": "text/x-python",
   "name": "python",
   "nbconvert_exporter": "python",
   "pygments_lexer": "ipython3",
   "version": "3.9.7"
  }
 },
 "nbformat": 4,
 "nbformat_minor": 5
}
