{
 "cells": [
  {
   "cell_type": "markdown",
   "id": "e14a5949-a285-4bf0-8d87-41ac6dba8fe7",
   "metadata": {},
   "source": [
    "## Module\n",
    "\n",
    "- set of files\n",
    "\n",
    "\n",
    "## package\n",
    "\n",
    "-  directory containing python code and a empty file called `__init__.py`\n",
    "\n"
   ]
  },
  {
   "cell_type": "markdown",
   "id": "c297a88d-be9d-434d-8019-353f2a4345b9",
   "metadata": {},
   "source": [
    "# project structure\n",
    "\n",
    "### MyProject (project root directory)\n",
    "\n",
    "    - main.py  (entrypoint)\n",
    "    - testmodule1.py (module1)\n",
    "    - testmodule2.py (module2)\n",
    "    "
   ]
  },
  {
   "cell_type": "markdown",
   "id": "5f983d85-b8b7-4c78-9fd2-12e4fc5ae886",
   "metadata": {},
   "source": [
    "## Package Structure\n",
    "\n",
    "MyProject (project root)\n",
    "\n",
    "    -\n",
    "    -\n",
    "    - entrypoint2.py  (another entrypoint)\n",
    "    - MyPackage  (package directory)\n",
    "\n",
    "        - __init__.py\n",
    "        - file1.py\n",
    "        - file2.py\n"
   ]
  },
  {
   "cell_type": "code",
   "execution_count": null,
   "id": "6546e52f-4998-4a2c-8ba6-2ab99ffa438f",
   "metadata": {},
   "outputs": [],
   "source": []
  },
  {
   "cell_type": "markdown",
   "id": "779648ab-76c6-4b98-bfd5-0ea3264e7112",
   "metadata": {},
   "source": [
    "## steps to create your own package\n",
    "\n",
    "- step 1: right click on project root -> new -> python package. Name the package as \"MyPackage\"\n",
    "- step 2: right click on \"MyProject\" -> new -> python file (file1.py and file2.py)\n",
    "- step 3: right click on project root -> new -> python file. Name the file as `entrypoint2.py`"
   ]
  },
  {
   "cell_type": "markdown",
   "id": "c58d6676-8b93-4467-91c3-daf6c1292449",
   "metadata": {},
   "source": [
    "## command line application\n",
    "\n",
    "\n",
    "\n",
    "#### types of softwares\n",
    "\n",
    "- system softwares\n",
    "- application softwares\n",
    "\n",
    "\n",
    "#### types of application\n",
    "\n",
    "- Desktop application (GUI)\n",
    "- web application (backend + frontend)\n",
    "- command line application (command line interface)\n",
    "    \n",
    "    - any software that can be executed on command line (terminal) is called as command line application\n",
    "    - also known as CLI tool\n",
    "    - CLI (Command Line Interface)\n",
    "\n",
    "\n",
    "command line interface examples\n",
    "\n",
    "- windows - CMD\n",
    "- linux - terminal  (shell - zsh, shell, ksh)\n",
    "- macos - terminal  (shell - zsh, shell, ksh)"
   ]
  },
  {
   "cell_type": "code",
   "execution_count": null,
   "id": "3593572c-f8ce-4514-abfa-b9b678528951",
   "metadata": {},
   "outputs": [],
   "source": []
  },
  {
   "cell_type": "markdown",
   "id": "be7c5f03-6493-428c-8f0f-84697f027d0d",
   "metadata": {},
   "source": [
    "#### linux command pattern\n",
    "\n",
    "- linux commands are command line application\n",
    "\n",
    "<command> <options>"
   ]
  },
  {
   "cell_type": "code",
   "execution_count": 2,
   "id": "4202b86f-d917-483a-9b9e-9432312a0684",
   "metadata": {},
   "outputs": [
    {
     "data": {
      "text/plain": [
       "['/Library/Frameworks/Python.framework/Versions/3.10/lib/python3.10/site-packages/ipykernel_launcher.py',\n",
       " '-f',\n",
       " '/Users/prashant/Library/Jupyter/runtime/kernel-b0431b62-711b-4529-b4d6-3081e6575f75.json']"
      ]
     },
     "execution_count": 2,
     "metadata": {},
     "output_type": "execute_result"
    }
   ],
   "source": [
    "import sys\n",
    "\n",
    "sys.argv"
   ]
  },
  {
   "cell_type": "code",
   "execution_count": 3,
   "id": "2cbec580",
   "metadata": {},
   "outputs": [
    {
     "data": {
      "text/plain": [
       "['C:\\\\Users\\\\Shree\\\\anaconda3\\\\lib\\\\site-packages\\\\ipykernel_launcher.py',\n",
       " '-f',\n",
       " 'C:\\\\Users\\\\Shree\\\\AppData\\\\Roaming\\\\jupyter\\\\runtime\\\\kernel-a19555cb-2e83-4d77-9db7-65a356b84611.json']"
      ]
     },
     "execution_count": 3,
     "metadata": {},
     "output_type": "execute_result"
    }
   ],
   "source": [
    "import sys\n",
    "\n",
    "sys.argv"
   ]
  },
  {
   "cell_type": "code",
   "execution_count": 7,
   "id": "668374cb",
   "metadata": {},
   "outputs": [],
   "source": [
    "import sys\n",
    "\n",
    "\n",
    "def greetings(name, msg):\n",
    "    return f\"Hello {name}, {msg}!!!\"\n",
    "\n",
    "\n",
    "\n",
    "    first_arg = sys.argv[1]\n",
    "    second_arg = sys.argv[2]\n",
    "    result = greetings(first_arg, second_arg)\n",
    "    print(result)\n"
   ]
  },
  {
   "cell_type": "code",
   "execution_count": 9,
   "id": "498991c2",
   "metadata": {},
   "outputs": [
    {
     "name": "stdout",
     "output_type": "stream",
     "text": [
      "Hello World\n",
      "Bye\n"
     ]
    }
   ],
   "source": [
    "print(\"Hello World\")\n",
    "# sys.exit()\n",
    "print(\"Bye\")"
   ]
  },
  {
   "cell_type": "code",
   "execution_count": 10,
   "id": "8a261406",
   "metadata": {},
   "outputs": [
    {
     "data": {
      "text/plain": [
       "['C:\\\\Users\\\\Shree\\\\velocity notes',\n",
       " 'C:\\\\Users\\\\Shree\\\\anaconda3\\\\python39.zip',\n",
       " 'C:\\\\Users\\\\Shree\\\\anaconda3\\\\DLLs',\n",
       " 'C:\\\\Users\\\\Shree\\\\anaconda3\\\\lib',\n",
       " 'C:\\\\Users\\\\Shree\\\\anaconda3',\n",
       " '',\n",
       " 'C:\\\\Users\\\\Shree\\\\anaconda3\\\\lib\\\\site-packages',\n",
       " 'C:\\\\Users\\\\Shree\\\\anaconda3\\\\lib\\\\site-packages\\\\locket-0.2.1-py3.9.egg',\n",
       " 'C:\\\\Users\\\\Shree\\\\anaconda3\\\\lib\\\\site-packages\\\\win32',\n",
       " 'C:\\\\Users\\\\Shree\\\\anaconda3\\\\lib\\\\site-packages\\\\win32\\\\lib',\n",
       " 'C:\\\\Users\\\\Shree\\\\anaconda3\\\\lib\\\\site-packages\\\\Pythonwin',\n",
       " 'C:\\\\Users\\\\Shree\\\\anaconda3\\\\lib\\\\site-packages\\\\IPython\\\\extensions',\n",
       " 'C:\\\\Users\\\\Shree\\\\.ipython']"
      ]
     },
     "execution_count": 10,
     "metadata": {},
     "output_type": "execute_result"
    }
   ],
   "source": [
    "sys.path"
   ]
  },
  {
   "cell_type": "code",
   "execution_count": 11,
   "id": "c669d317",
   "metadata": {},
   "outputs": [
    {
     "data": {
      "text/plain": [
       "'win32'"
      ]
     },
     "execution_count": 11,
     "metadata": {},
     "output_type": "execute_result"
    }
   ],
   "source": [
    "sys.platform"
   ]
  },
  {
   "cell_type": "code",
   "execution_count": 12,
   "id": "5b1a5a55",
   "metadata": {},
   "outputs": [
    {
     "data": {
      "text/plain": [
       "'C:\\\\Users\\\\Shree\\\\anaconda3\\\\python.exe'"
      ]
     },
     "execution_count": 12,
     "metadata": {},
     "output_type": "execute_result"
    }
   ],
   "source": [
    "sys.executable"
   ]
  },
  {
   "cell_type": "code",
   "execution_count": 15,
   "id": "600a4ee0",
   "metadata": {},
   "outputs": [
    {
     "data": {
      "text/plain": [
       "'Copyright (c) 2001-2021 Python Software Foundation.\\nAll Rights Reserved.\\n\\nCopyright (c) 2000 BeOpen.com.\\nAll Rights Reserved.\\n\\nCopyright (c) 1995-2001 Corporation for National Research Initiatives.\\nAll Rights Reserved.\\n\\nCopyright (c) 1991-1995 Stichting Mathematisch Centrum, Amsterdam.\\nAll Rights Reserved.'"
      ]
     },
     "execution_count": 15,
     "metadata": {},
     "output_type": "execute_result"
    }
   ],
   "source": [
    "sys.copyright"
   ]
  },
  {
   "cell_type": "code",
   "execution_count": null,
   "id": "5fff8fd6",
   "metadata": {},
   "outputs": [],
   "source": []
  }
 ],
 "metadata": {
  "kernelspec": {
   "display_name": "Python 3 (ipykernel)",
   "language": "python",
   "name": "python3"
  },
  "language_info": {
   "codemirror_mode": {
    "name": "ipython",
    "version": 3
   },
   "file_extension": ".py",
   "mimetype": "text/x-python",
   "name": "python",
   "nbconvert_exporter": "python",
   "pygments_lexer": "ipython3",
   "version": "3.9.7"
  }
 },
 "nbformat": 4,
 "nbformat_minor": 5
}
