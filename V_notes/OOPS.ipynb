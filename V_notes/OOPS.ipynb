{
 "cells": [
  {
   "cell_type": "markdown",
   "id": "86855223-b99c-44c0-9d50-74ca4c6166d1",
   "metadata": {},
   "source": [
    "### OOPS :: Object Oriented Programming Structure\n",
    "\n",
    "NOTE: everything in Python is an object"
   ]
  },
  {
   "cell_type": "markdown",
   "id": "5d87b114-811c-483f-9511-741c871aab19",
   "metadata": {},
   "source": [
    "class vs object\n",
    "\n",
    "\n",
    "class\n",
    "\n",
    "    - category\n",
    "    - general category of any data type\n",
    "    - class is a definition of object\n",
    "    - class is a blueprint to create an object\n",
    "    - class is a layout for an object\n",
    "\n",
    "\n",
    "object \n",
    "    \n",
    "    - instance\n",
    "    - specific example of certain category"
   ]
  },
  {
   "cell_type": "code",
   "execution_count": null,
   "id": "621385f8-9888-4abd-a8e4-8370f4cd1f8b",
   "metadata": {},
   "outputs": [],
   "source": [
    "Human ::  \n",
    "    \n",
    "    - 2 eyes\n",
    "    - 2 legs\n",
    "    - hairs\n",
    "    - 2 hands\n",
    "    \n",
    "    \n",
    "    \n",
    "    \n",
    "     sachin, modi, messi\n"
   ]
  },
  {
   "cell_type": "code",
   "execution_count": null,
   "id": "2b43329a-fd81-4f71-9cb5-14be5c81e576",
   "metadata": {},
   "outputs": [],
   "source": [
    "saving_account\n",
    "\n",
    "    - interest_rate\n",
    "    - minimum_deposite\n",
    "    \n",
    "    \n",
    "account_num_11111\n",
    "\n",
    "account_num_22222"
   ]
  },
  {
   "cell_type": "code",
   "execution_count": 2,
   "id": "8c04a2aa-ef53-4628-a1d0-e14c9b6447da",
   "metadata": {},
   "outputs": [
    {
     "data": {
      "text/plain": [
       "list"
      ]
     },
     "execution_count": 2,
     "metadata": {},
     "output_type": "execute_result"
    }
   ],
   "source": [
    "foo = [1, 2, 3, 4]\n",
    "\n",
    "type(foo)  # `foo` is an object of class `list`"
   ]
  },
  {
   "cell_type": "code",
   "execution_count": null,
   "id": "b56e1fe8-0350-4575-845f-4513f362a1b8",
   "metadata": {},
   "outputs": [],
   "source": [
    "DOG\n",
    "    - size\n",
    "    - age\n",
    "    - color\n",
    "    \n",
    "    \n",
    "GermanShephard\n",
    "    - hairs = furry\n",
    "    \n",
    "\n",
    "Pug \n",
    "    - \n",
    "    \n",
    "    \n"
   ]
  },
  {
   "cell_type": "markdown",
   "id": "b9143689-e33e-4ce4-91e5-83dcc88441b0",
   "metadata": {},
   "source": [
    "### minimal class syntax"
   ]
  },
  {
   "cell_type": "markdown",
   "id": "1b432ae9-a500-4b34-bf66-8c7bb99089f2",
   "metadata": {},
   "source": [
    "```\n",
    "class <class-name>:\n",
    "    pass\n",
    "\n",
    "```"
   ]
  },
  {
   "cell_type": "code",
   "execution_count": 3,
   "id": "2ccce475-df9c-4fb1-a575-c0fdb9501d2b",
   "metadata": {},
   "outputs": [],
   "source": [
    "class MyClass:\n",
    "    pass"
   ]
  },
  {
   "cell_type": "markdown",
   "id": "0919a0de-a48b-4107-aabb-d1c167e46c9e",
   "metadata": {},
   "source": [
    "### how to create object of minimal class?"
   ]
  },
  {
   "cell_type": "code",
   "execution_count": 6,
   "id": "c0aa9281-4b73-4f52-96b4-9c69221e3dac",
   "metadata": {},
   "outputs": [
    {
     "data": {
      "text/plain": [
       "__main__.MyClass"
      ]
     },
     "execution_count": 6,
     "metadata": {},
     "output_type": "execute_result"
    }
   ],
   "source": [
    "obj1 = MyClass()\n",
    "\n",
    "type(obj1)   # `obj1` is an object of class `MyClass`"
   ]
  },
  {
   "cell_type": "markdown",
   "id": "920e6893-f4d0-4a8c-b1a5-a7af4c230b74",
   "metadata": {},
   "source": [
    "## terminology\n",
    "\n",
    "- class:\n",
    "- object:\n",
    "- instance:\n",
    "- attributes: data associated with class"
   ]
  },
  {
   "cell_type": "markdown",
   "id": "bdb9fdf0-86ba-45f6-a827-8cd4e8c6f6d5",
   "metadata": {},
   "source": [
    "#### how to create class with class attributes?"
   ]
  },
  {
   "cell_type": "code",
   "execution_count": 8,
   "id": "66210169-8406-48b7-8246-218035503d5d",
   "metadata": {},
   "outputs": [],
   "source": [
    "class Point:\n",
    "    x = 10    \n",
    "    y = 10\n",
    "    "
   ]
  },
  {
   "cell_type": "markdown",
   "id": "08733457-5596-4140-bfb5-218585695cdd",
   "metadata": {},
   "source": [
    "#### how to create object of a class?"
   ]
  },
  {
   "cell_type": "code",
   "execution_count": 11,
   "id": "db014339-d8cc-4f71-9561-6da71536acaf",
   "metadata": {},
   "outputs": [
    {
     "data": {
      "text/plain": [
       "__main__.Point"
      ]
     },
     "execution_count": 11,
     "metadata": {},
     "output_type": "execute_result"
    }
   ],
   "source": [
    "obj = Point()\n",
    "\n",
    "type(obj)   # `obj` is an object of class `Point`"
   ]
  },
  {
   "cell_type": "markdown",
   "id": "0dc26f84-1fef-40a9-8c21-659536f6448a",
   "metadata": {},
   "source": [
    "#### how to access class attributes of a class?"
   ]
  },
  {
   "cell_type": "code",
   "execution_count": 12,
   "id": "91a71db7-c9cf-409d-bec3-12ac732fc41c",
   "metadata": {},
   "outputs": [
    {
     "data": {
      "text/plain": [
       "10"
      ]
     },
     "execution_count": 12,
     "metadata": {},
     "output_type": "execute_result"
    }
   ],
   "source": [
    "obj.x"
   ]
  },
  {
   "cell_type": "code",
   "execution_count": 13,
   "id": "37ebbad9-f7f6-4cc3-a999-21e12e05d2c5",
   "metadata": {},
   "outputs": [
    {
     "data": {
      "text/plain": [
       "10"
      ]
     },
     "execution_count": 13,
     "metadata": {},
     "output_type": "execute_result"
    }
   ],
   "source": [
    "obj.y"
   ]
  },
  {
   "cell_type": "code",
   "execution_count": 14,
   "id": "ec6d1817-72db-4757-bb7a-b4ee1dbaf5ed",
   "metadata": {},
   "outputs": [
    {
     "data": {
      "text/plain": [
       "['__class__',\n",
       " '__delattr__',\n",
       " '__dict__',\n",
       " '__dir__',\n",
       " '__doc__',\n",
       " '__eq__',\n",
       " '__format__',\n",
       " '__ge__',\n",
       " '__getattribute__',\n",
       " '__gt__',\n",
       " '__hash__',\n",
       " '__init__',\n",
       " '__init_subclass__',\n",
       " '__le__',\n",
       " '__lt__',\n",
       " '__module__',\n",
       " '__ne__',\n",
       " '__new__',\n",
       " '__reduce__',\n",
       " '__reduce_ex__',\n",
       " '__repr__',\n",
       " '__setattr__',\n",
       " '__sizeof__',\n",
       " '__str__',\n",
       " '__subclasshook__',\n",
       " '__weakref__',\n",
       " 'x',\n",
       " 'y']"
      ]
     },
     "execution_count": 14,
     "metadata": {},
     "output_type": "execute_result"
    }
   ],
   "source": [
    "dir(obj)"
   ]
  },
  {
   "cell_type": "code",
   "execution_count": 21,
   "id": "04b72668-5059-4871-90cf-a1214e40ef98",
   "metadata": {},
   "outputs": [
    {
     "name": "stdout",
     "output_type": "stream",
     "text": [
      "<class '__main__.Teacher'>\n",
      "['name', 'subject']\n",
      "prashant\n",
      "python\n"
     ]
    }
   ],
   "source": [
    "class Teacher:\n",
    "    name = \"prashant\"\n",
    "    subject = \"python\"\n",
    "    \n",
    "    \n",
    "t = Teacher()\n",
    "data_type = type(t) # `t` is an object of class `Teacher`\n",
    "print(data_type)\n",
    "\n",
    "# how to access attributes of object\n",
    "result = [attr for attr in dir(t) if not attr.startswith(\"__\")]\n",
    "print(result)\n",
    "\n",
    "# how to access class-attributes using DOT operator\n",
    "print(t.name)\n",
    "print(t.subject)\n",
    "\n",
    "    "
   ]
  }
 ],
 "metadata": {
  "kernelspec": {
   "display_name": "Python 3 (ipykernel)",
   "language": "python",
   "name": "python3"
  },
  "language_info": {
   "codemirror_mode": {
    "name": "ipython",
    "version": 3
   },
   "file_extension": ".py",
   "mimetype": "text/x-python",
   "name": "python",
   "nbconvert_exporter": "python",
   "pygments_lexer": "ipython3",
   "version": "3.9.7"
  }
 },
 "nbformat": 4,
 "nbformat_minor": 5
}
