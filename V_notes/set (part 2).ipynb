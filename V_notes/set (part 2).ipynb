{
 "cells": [
  {
   "cell_type": "markdown",
   "id": "c4caf11b",
   "metadata": {},
   "source": [
    "- set is `mutable`\n",
    "- set is `unordered`\n",
    "- set contains `unique`\n",
    "- elements of set are `immutable`\n",
    "- set does not support `indexing` or `slicing`"
   ]
  },
  {
   "cell_type": "markdown",
   "id": "df64a097",
   "metadata": {},
   "source": [
    "use cases \n",
    "\n",
    "- faster membership check\n",
    "- to remove duplicates"
   ]
  },
  {
   "cell_type": "code",
   "execution_count": null,
   "id": "d4df5c12",
   "metadata": {},
   "outputs": [],
   "source": [
    "foo = set()"
   ]
  },
  {
   "cell_type": "code",
   "execution_count": 20,
   "id": "12d9e3c3",
   "metadata": {},
   "outputs": [],
   "source": [
    "foo = {1, 2, 3}"
   ]
  },
  {
   "cell_type": "code",
   "execution_count": 21,
   "id": "c971caed",
   "metadata": {},
   "outputs": [],
   "source": [
    "foo = [2, 4, 5, 6, 6, 7]\n",
    "foo = list(set(foo))"
   ]
  },
  {
   "cell_type": "code",
   "execution_count": 22,
   "id": "1dcf2eb8",
   "metadata": {},
   "outputs": [
    {
     "data": {
      "text/plain": [
       "[2, 4, 5, 6, 7]"
      ]
     },
     "execution_count": 22,
     "metadata": {},
     "output_type": "execute_result"
    }
   ],
   "source": [
    "foo"
   ]
  },
  {
   "cell_type": "markdown",
   "id": "ee06108a",
   "metadata": {},
   "source": [
    "'add',\n",
    " 'clear',\n",
    " 'copy',\n",
    " 'difference',\n",
    " 'difference_update',\n",
    " 'discard',\n",
    " 'intersection',\n",
    " 'intersection_update',\n",
    " 'isdisjoint',\n",
    " 'issubset',\n",
    " 'issuperset',\n",
    " 'pop',\n",
    " 'remove',\n",
    " 'symmetric_difference',\n",
    " 'symmetric_difference_update',\n",
    " 'union',\n",
    " 'update']"
   ]
  },
  {
   "cell_type": "markdown",
   "id": "5b2161e9",
   "metadata": {},
   "source": [
    "## `add` function\n",
    "\n"
   ]
  },
  {
   "cell_type": "code",
   "execution_count": 2,
   "id": "74abd86a",
   "metadata": {},
   "outputs": [
    {
     "data": {
      "text/plain": [
       "{1}"
      ]
     },
     "execution_count": 2,
     "metadata": {},
     "output_type": "execute_result"
    }
   ],
   "source": [
    "foo = set()\n",
    "\n",
    "foo.add(1)\n",
    "foo"
   ]
  },
  {
   "cell_type": "code",
   "execution_count": 2,
   "id": "570fc0cd",
   "metadata": {},
   "outputs": [
    {
     "name": "stdout",
     "output_type": "stream",
     "text": [
      "Help on method_descriptor:\n",
      "\n",
      "add(...)\n",
      "    Add an element to a set.\n",
      "    \n",
      "    This has no effect if the element is already present.\n",
      "\n"
     ]
    }
   ],
   "source": [
    "help(set.add)"
   ]
  },
  {
   "cell_type": "markdown",
   "id": "af02a788",
   "metadata": {},
   "source": [
    "## `remove` function"
   ]
  },
  {
   "cell_type": "code",
   "execution_count": 4,
   "id": "a471ed51",
   "metadata": {},
   "outputs": [
    {
     "data": {
      "text/plain": [
       "{1, 3}"
      ]
     },
     "execution_count": 4,
     "metadata": {},
     "output_type": "execute_result"
    }
   ],
   "source": [
    "example = {1, 2, 3}\n",
    "\n",
    "example.remove(2)\n",
    "example"
   ]
  },
  {
   "cell_type": "markdown",
   "id": "3f26df62",
   "metadata": {},
   "source": [
    "## `discard` function"
   ]
  },
  {
   "cell_type": "code",
   "execution_count": 24,
   "id": "06fc82c1",
   "metadata": {},
   "outputs": [
    {
     "data": {
      "text/plain": [
       "{1, 2, 3}"
      ]
     },
     "execution_count": 24,
     "metadata": {},
     "output_type": "execute_result"
    }
   ],
   "source": [
    "example = {1, 2, 3}\n",
    "example.discard(4)\n",
    "example"
   ]
  },
  {
   "cell_type": "code",
   "execution_count": 7,
   "id": "95e1e3f1",
   "metadata": {},
   "outputs": [
    {
     "ename": "KeyError",
     "evalue": "4",
     "output_type": "error",
     "traceback": [
      "\u001b[0;31m---------------------------------------------------------------------------\u001b[0m",
      "\u001b[0;31mKeyError\u001b[0m                                  Traceback (most recent call last)",
      "Cell \u001b[0;32mIn [7], line 2\u001b[0m\n\u001b[1;32m      1\u001b[0m example \u001b[38;5;241m=\u001b[39m {\u001b[38;5;241m1\u001b[39m, \u001b[38;5;241m2\u001b[39m, \u001b[38;5;241m3\u001b[39m}\n\u001b[0;32m----> 2\u001b[0m \u001b[43mexample\u001b[49m\u001b[38;5;241;43m.\u001b[39;49m\u001b[43mremove\u001b[49m\u001b[43m(\u001b[49m\u001b[38;5;241;43m4\u001b[39;49m\u001b[43m)\u001b[49m\n",
      "\u001b[0;31mKeyError\u001b[0m: 4"
     ]
    }
   ],
   "source": [
    "example = {1, 2, 3}\n",
    "example.remove(4)"
   ]
  },
  {
   "cell_type": "markdown",
   "id": "2126ec84",
   "metadata": {},
   "source": [
    "# `pop()` function\n",
    "\n"
   ]
  },
  {
   "cell_type": "code",
   "execution_count": 16,
   "id": "509348c4",
   "metadata": {},
   "outputs": [],
   "source": [
    "example = {1, 2, 3, True, False, 10.300, \"prashant\"}\n"
   ]
  },
  {
   "cell_type": "code",
   "execution_count": 17,
   "id": "89b56f8a",
   "metadata": {},
   "outputs": [
    {
     "data": {
      "text/plain": [
       "False"
      ]
     },
     "execution_count": 17,
     "metadata": {},
     "output_type": "execute_result"
    }
   ],
   "source": [
    "example.pop()"
   ]
  },
  {
   "cell_type": "code",
   "execution_count": 19,
   "id": "09b4ece7",
   "metadata": {},
   "outputs": [
    {
     "name": "stdout",
     "output_type": "stream",
     "text": [
      "Help on method_descriptor:\n",
      "\n",
      "pop(...)\n",
      "    Remove and return an arbitrary set element.\n",
      "    Raises KeyError if the set is empty.\n",
      "\n"
     ]
    }
   ],
   "source": [
    "help(set.pop)"
   ]
  },
  {
   "cell_type": "code",
   "execution_count": 8,
   "id": "6897278a",
   "metadata": {
    "scrolled": true
   },
   "outputs": [
    {
     "name": "stdout",
     "output_type": "stream",
     "text": [
      "Help on method_descriptor:\n",
      "\n",
      "discard(...)\n",
      "    Remove an element from a set if it is a member.\n",
      "    \n",
      "    If the element is not a member, do nothing.\n",
      "\n"
     ]
    }
   ],
   "source": [
    "help(set.discard)"
   ]
  },
  {
   "cell_type": "markdown",
   "id": "39fa5632",
   "metadata": {},
   "source": [
    "# `clear` function"
   ]
  },
  {
   "cell_type": "code",
   "execution_count": 5,
   "id": "0393c0d6",
   "metadata": {},
   "outputs": [
    {
     "data": {
      "text/plain": [
       "set()"
      ]
     },
     "execution_count": 5,
     "metadata": {},
     "output_type": "execute_result"
    }
   ],
   "source": [
    "example = {1, 2, 3}\n",
    "example.clear()\n",
    "example"
   ]
  },
  {
   "cell_type": "markdown",
   "id": "e7f0c368",
   "metadata": {},
   "source": [
    "## `copy()` function\n",
    "\n",
    "\n",
    "- shallow copy\n",
    "    \n",
    "    - shallow copy copies references of objects that are already created in memory\n",
    "\n",
    "    - in case of flat list shallow and deepcopy work similar\n",
    "    \n",
    "- deepcopy \n",
    "\n",
    "    - allocates memory to each object in the collection\n",
    "    - in case of nested list, even nested list gets a new `id()`\n",
    "\n"
   ]
  },
  {
   "cell_type": "code",
   "execution_count": 34,
   "id": "0248abb0",
   "metadata": {},
   "outputs": [
    {
     "data": {
      "text/plain": [
       "{1, 2, 3}"
      ]
     },
     "execution_count": 34,
     "metadata": {},
     "output_type": "execute_result"
    }
   ],
   "source": [
    "example1 = {1, 2, 3}\n",
    "example2 = example1.copy()\n",
    "example2"
   ]
  },
  {
   "cell_type": "markdown",
   "id": "bde728cb",
   "metadata": {},
   "source": [
    "# set theory operations\n",
    "\n"
   ]
  },
  {
   "cell_type": "markdown",
   "id": "85ddd733",
   "metadata": {},
   "source": [
    "\n",
    "# `isdisjoint` function\n",
    "\n",
    "- two sets are called disjoint sets when no element is common"
   ]
  },
  {
   "cell_type": "code",
   "execution_count": 18,
   "id": "3e4bf4f9",
   "metadata": {},
   "outputs": [
    {
     "data": {
      "text/plain": [
       "True"
      ]
     },
     "execution_count": 18,
     "metadata": {},
     "output_type": "execute_result"
    }
   ],
   "source": [
    "foo = {2, 3, 4, 5}\n",
    "bar = {6, 7, 8, 9}\n",
    "\n",
    "foo.isdisjoint(bar)"
   ]
  },
  {
   "cell_type": "code",
   "execution_count": 36,
   "id": "2e016ede",
   "metadata": {},
   "outputs": [
    {
     "data": {
      "text/plain": [
       "False"
      ]
     },
     "execution_count": 36,
     "metadata": {},
     "output_type": "execute_result"
    }
   ],
   "source": [
    "foo = {2, 3, 4}\n",
    "bar = {2, 6, 7, 8, 9}\n",
    "\n",
    "foo.isdisjoint(bar)"
   ]
  },
  {
   "cell_type": "markdown",
   "id": "ac5394ec",
   "metadata": {},
   "source": [
    "## `issubset`\n",
    "\n",
    "- operator `<=`\n",
    "\n",
    "syntax\n",
    "\n",
    "```\n",
    "    subset1 <= superset1\n",
    "```\n",
    "\n",
    "\n",
    "- `set1` is called subset of `set2` if all elements in `set1` are present in `set2`"
   ]
  },
  {
   "cell_type": "code",
   "execution_count": 38,
   "id": "0dfcb3c8",
   "metadata": {},
   "outputs": [
    {
     "data": {
      "text/plain": [
       "True"
      ]
     },
     "execution_count": 38,
     "metadata": {},
     "output_type": "execute_result"
    }
   ],
   "source": [
    "set1 = {2, 3, 4}\n",
    "set2 = {2, 6, 7, 8, 9, 3, 4}\n",
    "\n",
    "set1.issubset(set2)\n"
   ]
  },
  {
   "cell_type": "code",
   "execution_count": 46,
   "id": "6ddbdf4b",
   "metadata": {},
   "outputs": [
    {
     "data": {
      "text/plain": [
       "True"
      ]
     },
     "execution_count": 46,
     "metadata": {},
     "output_type": "execute_result"
    }
   ],
   "source": [
    "set1 = {2, 3, 4}\n",
    "set2 = {2, 6, 7, 8, 9, 3, 4}\n",
    "\n",
    "set1 <= set2"
   ]
  },
  {
   "cell_type": "markdown",
   "id": "d7165ff9",
   "metadata": {},
   "source": [
    "every set is subset of itself\n"
   ]
  },
  {
   "cell_type": "code",
   "execution_count": 48,
   "id": "3e2f32fe",
   "metadata": {},
   "outputs": [
    {
     "data": {
      "text/plain": [
       "True"
      ]
     },
     "execution_count": 48,
     "metadata": {},
     "output_type": "execute_result"
    }
   ],
   "source": [
    "set1 = {2, 3, 4}\n",
    "set2 = {2, 3, 4}\n",
    "\n",
    "set1.issubset(set2)\n",
    "set1 <= set2"
   ]
  },
  {
   "cell_type": "code",
   "execution_count": 39,
   "id": "2e847d09",
   "metadata": {},
   "outputs": [
    {
     "data": {
      "text/plain": [
       "True"
      ]
     },
     "execution_count": 39,
     "metadata": {},
     "output_type": "execute_result"
    }
   ],
   "source": [
    "velocity1 = {\"prashant\", \"rahul\", \"vijay\"}\n",
    "python_velocity2 = {\"prashant\", \"rahul\"}\n",
    "\n",
    "python_velocity2.issubset(velocity1)"
   ]
  },
  {
   "cell_type": "code",
   "execution_count": 49,
   "id": "ae69642f",
   "metadata": {},
   "outputs": [
    {
     "data": {
      "text/plain": [
       "True"
      ]
     },
     "execution_count": 49,
     "metadata": {},
     "output_type": "execute_result"
    }
   ],
   "source": [
    "velocity1 = {\"prashant\", \"rahul\", \"vijay\"}\n",
    "python_velocity2 = {\"prashant\", \"rahul\"}\n",
    "\n",
    "python_velocity2 <= velocity1\n"
   ]
  },
  {
   "cell_type": "code",
   "execution_count": 50,
   "id": "7b6f8d90",
   "metadata": {},
   "outputs": [
    {
     "data": {
      "text/plain": [
       "True"
      ]
     },
     "execution_count": 50,
     "metadata": {},
     "output_type": "execute_result"
    }
   ],
   "source": [
    "city = {\"mumbai\", \"thane\", \"pune\"}\n",
    "\n",
    "district_places = {\"mumbai\", \"thane\", \"pune\", \"latur\"}\n",
    "\n",
    "city <= district_places"
   ]
  },
  {
   "cell_type": "code",
   "execution_count": 45,
   "id": "af456767",
   "metadata": {},
   "outputs": [
    {
     "data": {
      "text/plain": [
       "True"
      ]
     },
     "execution_count": 45,
     "metadata": {},
     "output_type": "execute_result"
    }
   ],
   "source": [
    "city.issubset(district_places)"
   ]
  },
  {
   "cell_type": "markdown",
   "id": "af616e80",
   "metadata": {},
   "source": [
    "## `issuperset()` function\n",
    "\n",
    "- "
   ]
  },
  {
   "cell_type": "code",
   "execution_count": 51,
   "id": "50ec60e4",
   "metadata": {},
   "outputs": [
    {
     "data": {
      "text/plain": [
       "True"
      ]
     },
     "execution_count": 51,
     "metadata": {},
     "output_type": "execute_result"
    }
   ],
   "source": [
    "city = {\"mumbai\", \"thane\", \"pune\"}\n",
    "\n",
    "district_places = {\"mumbai\", \"thane\", \"pune\", \"latur\"}\n",
    "\n",
    "district_places.issuperset(city)"
   ]
  },
  {
   "cell_type": "code",
   "execution_count": 52,
   "id": "98db2918",
   "metadata": {},
   "outputs": [
    {
     "data": {
      "text/plain": [
       "True"
      ]
     },
     "execution_count": 52,
     "metadata": {},
     "output_type": "execute_result"
    }
   ],
   "source": [
    "city = {\"mumbai\", \"thane\", \"pune\"}\n",
    "\n",
    "district_places = {\"mumbai\", \"thane\", \"pune\", \"latur\"}\n",
    "\n",
    "district_places >= city"
   ]
  },
  {
   "cell_type": "code",
   "execution_count": 54,
   "id": "41dffc5f",
   "metadata": {},
   "outputs": [
    {
     "data": {
      "text/plain": [
       "True"
      ]
     },
     "execution_count": 54,
     "metadata": {},
     "output_type": "execute_result"
    }
   ],
   "source": [
    "set1 = {2, 3, 4}\n",
    "set2 = {2, 6, 7, 8, 9, 3, 4}\n",
    "\n",
    "set2 >= set1"
   ]
  },
  {
   "cell_type": "code",
   "execution_count": 53,
   "id": "f8946d1e",
   "metadata": {},
   "outputs": [
    {
     "data": {
      "text/plain": [
       "True"
      ]
     },
     "execution_count": 53,
     "metadata": {},
     "output_type": "execute_result"
    }
   ],
   "source": [
    "set1 = {2, 3, 4}\n",
    "set2 = {2, 6, 7, 8, 9, 3, 4}\n",
    "\n",
    "set2.issuperset(set1)"
   ]
  },
  {
   "cell_type": "markdown",
   "id": "e5cdfb00",
   "metadata": {},
   "source": [
    "## `union` \n",
    "\n",
    "- union of set1 and set2 is when all element of both set are together\n",
    "- `|` pipe operator"
   ]
  },
  {
   "cell_type": "code",
   "execution_count": 59,
   "id": "45b08bf2",
   "metadata": {},
   "outputs": [
    {
     "name": "stdout",
     "output_type": "stream",
     "text": [
      "{2, 3, 4}\n",
      "{3, 4, 5, 6}\n",
      "{2, 3, 4, 5, 6}\n"
     ]
    }
   ],
   "source": [
    "set1 = {2, 3, 4}\n",
    "set2 = {3, 4, 5, 6}\n",
    "\n",
    "set3 = set1.union(set2)\n",
    "\n",
    "print(set1)\n",
    "print(set2)\n",
    "print(set3)"
   ]
  },
  {
   "cell_type": "code",
   "execution_count": 62,
   "id": "b0f40eb6",
   "metadata": {},
   "outputs": [
    {
     "name": "stdout",
     "output_type": "stream",
     "text": [
      "{2, 3, 4}\n",
      "{3, 4, 5, 6}\n",
      "{8, 5, 6, 7}\n",
      "{2, 3, 4, 5, 6, 7, 8}\n"
     ]
    }
   ],
   "source": [
    "set1 = {2, 3, 4}\n",
    "set2 = {3, 4, 5, 6}\n",
    "set3 = {5, 6, 7, 8}\n",
    "\n",
    "set4 = set1.union(set2, set3)\n",
    "\n",
    "print(set1)\n",
    "print(set2)\n",
    "print(set3)\n",
    "print(set4)"
   ]
  },
  {
   "cell_type": "code",
   "execution_count": 61,
   "id": "da0e5978",
   "metadata": {},
   "outputs": [
    {
     "data": {
      "text/plain": [
       "{2, 3, 4, 5, 6, 7, 8}"
      ]
     },
     "execution_count": 61,
     "metadata": {},
     "output_type": "execute_result"
    }
   ],
   "source": [
    "{2, 3, 4} | {3, 4, 5, 6} | {5, 6, 7, 8}"
   ]
  },
  {
   "cell_type": "markdown",
   "id": "e11f0f4d",
   "metadata": {},
   "source": [
    "## `intersection()` function\n",
    "\n",
    "- `&` operator\n",
    "\n",
    "\n",
    "- a set is a called intersection set only when its all elements are present in both `set1` and `set2`"
   ]
  },
  {
   "cell_type": "code",
   "execution_count": 65,
   "id": "478e2a41",
   "metadata": {},
   "outputs": [
    {
     "data": {
      "text/plain": [
       "{3, 4}"
      ]
     },
     "execution_count": 65,
     "metadata": {},
     "output_type": "execute_result"
    }
   ],
   "source": [
    "set1 = {2, 3, 4}\n",
    "set2 = {3, 4, 5, 6}\n",
    "set3 = {3, 4, 5, 6, 7, 8}\n",
    "\n",
    "\n",
    "set4 = set1.intersection(set2, set3)\n",
    "set4"
   ]
  },
  {
   "cell_type": "code",
   "execution_count": 67,
   "id": "2b0d5bc1",
   "metadata": {},
   "outputs": [
    {
     "data": {
      "text/plain": [
       "{3, 4}"
      ]
     },
     "execution_count": 67,
     "metadata": {},
     "output_type": "execute_result"
    }
   ],
   "source": [
    "set1 = {2, 3, 4}\n",
    "set2 = {3, 4, 5, 6}\n",
    "set3 = {3, 4, 5, 6, 7, 8}\n",
    "\n",
    "\n",
    "set1 & set2 & set3\n"
   ]
  },
  {
   "cell_type": "code",
   "execution_count": 66,
   "id": "33b3d08e",
   "metadata": {},
   "outputs": [
    {
     "data": {
      "text/plain": [
       "{'pune'}"
      ]
     },
     "execution_count": 66,
     "metadata": {},
     "output_type": "execute_result"
    }
   ],
   "source": [
    "city = {\"mumbai\", \"thane\", \"pune\"}\n",
    "\n",
    "district_places = {\"mumbai\", \"thane\", \"pune\", \"latur\"}\n",
    "\n",
    "mh_cities = {\"pune\", \"nagpur\"}\n",
    "\n",
    "city.intersection(district_places, mh_cities)"
   ]
  },
  {
   "cell_type": "code",
   "execution_count": 70,
   "id": "9a0a2004",
   "metadata": {},
   "outputs": [
    {
     "data": {
      "text/plain": [
       "set()"
      ]
     },
     "execution_count": 70,
     "metadata": {},
     "output_type": "execute_result"
    }
   ],
   "source": [
    "city = {\"mumbai\", \"thane\", \"pune\"}\n",
    "\n",
    "district_places = {\"mumbai\", \"thane\", \"pune\", \"latur\"}\n",
    "\n",
    "mh_cities = {\"pune\", \"nagpur\"}\n",
    "\n",
    "city & district_places & mh_cities & set()"
   ]
  },
  {
   "cell_type": "markdown",
   "id": "994e98d4",
   "metadata": {},
   "source": [
    "# `intersection_update` function\n",
    "\n",
    "- `&=` operator"
   ]
  },
  {
   "cell_type": "code",
   "execution_count": 114,
   "id": "3711cfa1",
   "metadata": {},
   "outputs": [
    {
     "name": "stdout",
     "output_type": "stream",
     "text": [
      "Help on method_descriptor:\n",
      "\n",
      "intersection_update(...)\n",
      "    Update a set with the intersection of itself and another.\n",
      "\n"
     ]
    }
   ],
   "source": [
    "help(set.intersection_update)"
   ]
  },
  {
   "cell_type": "code",
   "execution_count": 117,
   "id": "cbf19c12",
   "metadata": {},
   "outputs": [
    {
     "name": "stdout",
     "output_type": "stream",
     "text": [
      "None\n",
      "{5, 6}\n"
     ]
    }
   ],
   "source": [
    "foo = {1, 2, 3, 5, 6}\n",
    "bar = {4, 5, 6, 7, 8}\n",
    "\n",
    "result = foo.intersection_update(bar)\n",
    "print(result)\n",
    "print(foo)"
   ]
  },
  {
   "cell_type": "code",
   "execution_count": 116,
   "id": "b2e6257a",
   "metadata": {},
   "outputs": [
    {
     "data": {
      "text/plain": [
       "{5, 6}"
      ]
     },
     "execution_count": 116,
     "metadata": {},
     "output_type": "execute_result"
    }
   ],
   "source": [
    "foo = {1, 2, 3, 5, 6}\n",
    "bar = {4, 5, 6, 7, 8}\n",
    "result = foo.intersection(bar)\n",
    "result"
   ]
  },
  {
   "cell_type": "markdown",
   "id": "f3b861e7",
   "metadata": {},
   "source": [
    "- `intersection` is a return function\n",
    "\n",
    "- `intersection_update` is a void function and it will update the object itself."
   ]
  },
  {
   "cell_type": "markdown",
   "id": "37684df2",
   "metadata": {},
   "source": [
    "# `difference` set\n",
    "\n",
    "\n",
    "- `-` operator\n",
    "\n",
    "- elements present in `set1` and not present in `set2`"
   ]
  },
  {
   "cell_type": "code",
   "execution_count": 71,
   "id": "8d85ca41",
   "metadata": {},
   "outputs": [
    {
     "data": {
      "text/plain": [
       "{2}"
      ]
     },
     "execution_count": 71,
     "metadata": {},
     "output_type": "execute_result"
    }
   ],
   "source": [
    "set1 = {2, 3, 4}\n",
    "set2 = {3, 4, 5, 6}\n",
    "\n",
    "set1.difference(set2)\n"
   ]
  },
  {
   "cell_type": "code",
   "execution_count": 80,
   "id": "0d8714ad",
   "metadata": {},
   "outputs": [
    {
     "data": {
      "text/plain": [
       "{2}"
      ]
     },
     "execution_count": 80,
     "metadata": {},
     "output_type": "execute_result"
    }
   ],
   "source": [
    "set1 = {2, 3, 4}\n",
    "set2 = {3, 4, 5, 6}\n",
    "\n",
    "set1 - set2\n"
   ]
  },
  {
   "cell_type": "code",
   "execution_count": 72,
   "id": "8ec10352",
   "metadata": {},
   "outputs": [
    {
     "data": {
      "text/plain": [
       "{5, 6}"
      ]
     },
     "execution_count": 72,
     "metadata": {},
     "output_type": "execute_result"
    }
   ],
   "source": [
    "set1 = {2, 3, 4}\n",
    "set2 = {3, 4, 5, 6}\n",
    "\n",
    "set2.difference(set1)\n"
   ]
  },
  {
   "cell_type": "code",
   "execution_count": 81,
   "id": "89bb5d75",
   "metadata": {},
   "outputs": [
    {
     "data": {
      "text/plain": [
       "{5, 6}"
      ]
     },
     "execution_count": 81,
     "metadata": {},
     "output_type": "execute_result"
    }
   ],
   "source": [
    "set1 = {2, 3, 4}\n",
    "set2 = {3, 4, 5, 6}\n",
    "\n",
    "set2 - set1"
   ]
  },
  {
   "cell_type": "code",
   "execution_count": 73,
   "id": "ad466eb5",
   "metadata": {},
   "outputs": [
    {
     "data": {
      "text/plain": [
       "set()"
      ]
     },
     "execution_count": 73,
     "metadata": {},
     "output_type": "execute_result"
    }
   ],
   "source": [
    "city = {\"mumbai\", \"thane\", \"pune\"}\n",
    "\n",
    "district_places = {\"mumbai\", \"thane\", \"pune\", \"latur\"}\n",
    "\n",
    "mh_cities = {\"pune\", \"nagpur\"}\n",
    "\n",
    "city.difference(district_places)"
   ]
  },
  {
   "cell_type": "code",
   "execution_count": 82,
   "id": "71103803",
   "metadata": {},
   "outputs": [
    {
     "data": {
      "text/plain": [
       "set()"
      ]
     },
     "execution_count": 82,
     "metadata": {},
     "output_type": "execute_result"
    }
   ],
   "source": [
    "city = {\"mumbai\", \"thane\", \"pune\"}\n",
    "\n",
    "district_places = {\"mumbai\", \"thane\", \"pune\", \"latur\"}\n",
    "\n",
    "mh_cities = {\"pune\", \"nagpur\"}\n",
    "\n",
    "city - district_places"
   ]
  },
  {
   "cell_type": "code",
   "execution_count": 77,
   "id": "1903b016",
   "metadata": {},
   "outputs": [
    {
     "data": {
      "text/plain": [
       "{'latur'}"
      ]
     },
     "execution_count": 77,
     "metadata": {},
     "output_type": "execute_result"
    }
   ],
   "source": [
    "city = {\"mumbai\", \"thane\", \"pune\"}\n",
    "\n",
    "district_places = {\"mumbai\", \"thane\", \"pune\", \"latur\"}\n",
    "\n",
    "mh_cities = {\"pune\", \"nagpur\"}\n",
    "\n",
    "district_places.difference(city, mh_cities)"
   ]
  },
  {
   "cell_type": "code",
   "execution_count": 83,
   "id": "b33d7e01",
   "metadata": {},
   "outputs": [
    {
     "data": {
      "text/plain": [
       "{'latur'}"
      ]
     },
     "execution_count": 83,
     "metadata": {},
     "output_type": "execute_result"
    }
   ],
   "source": [
    "city = {\"mumbai\", \"thane\", \"pune\"}\n",
    "\n",
    "district_places = {\"mumbai\", \"thane\", \"pune\", \"latur\"}\n",
    "\n",
    "mh_cities = {\"pune\", \"nagpur\"}\n",
    "\n",
    "district_places - city - mh_cities"
   ]
  },
  {
   "cell_type": "code",
   "execution_count": 78,
   "id": "95c2c07e",
   "metadata": {},
   "outputs": [
    {
     "data": {
      "text/plain": [
       "{6}"
      ]
     },
     "execution_count": 78,
     "metadata": {},
     "output_type": "execute_result"
    }
   ],
   "source": [
    "set1 = {2, 3, 4}\n",
    "set2 = {3, 4, 5, 6}\n",
    "set3 = {4, 5, 10, 20, 60}\n",
    "\n",
    "set2.difference(set1, set3)\n"
   ]
  },
  {
   "cell_type": "code",
   "execution_count": 79,
   "id": "85c4f61a",
   "metadata": {},
   "outputs": [
    {
     "data": {
      "text/plain": [
       "{2, 40}"
      ]
     },
     "execution_count": 79,
     "metadata": {},
     "output_type": "execute_result"
    }
   ],
   "source": [
    "set1 = {2, 3, 4, 6, 10, 40, 60}\n",
    "set2 = {3, 4, 5, 6}\n",
    "set3 = {4, 5, 10, 20, 60}\n",
    "\n",
    "set1.difference(set2, set3)\n"
   ]
  },
  {
   "cell_type": "code",
   "execution_count": 84,
   "id": "d4f5b675",
   "metadata": {},
   "outputs": [
    {
     "data": {
      "text/plain": [
       "{2, 40}"
      ]
     },
     "execution_count": 84,
     "metadata": {},
     "output_type": "execute_result"
    }
   ],
   "source": [
    "set1 = {2, 3, 4, 6, 10, 40, 60}\n",
    "set2 = {3, 4, 5, 6}\n",
    "set3 = {4, 5, 10, 20, 60}\n",
    "\n",
    "set1 - set2 - set3\n"
   ]
  },
  {
   "cell_type": "markdown",
   "id": "8df18bd3",
   "metadata": {},
   "source": [
    "## `symmetric difference`\n",
    "\n",
    "- `^` operator\n",
    "- elements present either in `set1` or in `set2` but not in both"
   ]
  },
  {
   "cell_type": "code",
   "execution_count": 85,
   "id": "e88af008",
   "metadata": {},
   "outputs": [
    {
     "data": {
      "text/plain": [
       "{1, 2, 3, 4, 7}"
      ]
     },
     "execution_count": 85,
     "metadata": {},
     "output_type": "execute_result"
    }
   ],
   "source": [
    "example1 = {1, 2, 3, 4, 5, 6}\n",
    "example2 = {5, 6, 7}\n",
    "\n",
    "result = example1.symmetric_difference(example2)\n",
    "result"
   ]
  },
  {
   "cell_type": "markdown",
   "id": "ff9702a7",
   "metadata": {},
   "source": [
    "## `symmetric_difference_update`\n",
    "\n",
    "- `^=` operator"
   ]
  },
  {
   "cell_type": "code",
   "execution_count": 124,
   "id": "126858e2",
   "metadata": {},
   "outputs": [
    {
     "name": "stdout",
     "output_type": "stream",
     "text": [
      "{1, 2, 3, 4, 7}\n",
      "None\n"
     ]
    }
   ],
   "source": [
    "\n",
    "example1 = {1, 2, 3, 4, 5, 6}\n",
    "example2 = {5, 6, 7}\n",
    "\n",
    "result = example1.symmetric_difference_update(example2)\n",
    "print(example1)\n",
    "print(result)\n",
    "\n"
   ]
  },
  {
   "cell_type": "code",
   "execution_count": 88,
   "id": "cab36f76",
   "metadata": {},
   "outputs": [
    {
     "data": {
      "text/plain": [
       "{1, 2, 3, 4, 7}"
      ]
     },
     "execution_count": 88,
     "metadata": {},
     "output_type": "execute_result"
    }
   ],
   "source": [
    "example1 = {1, 2, 3, 4, 5, 6}\n",
    "example2 = {5, 6, 7}\n",
    "\n",
    "example1 ^ example2"
   ]
  },
  {
   "cell_type": "code",
   "execution_count": 87,
   "id": "afa2d604",
   "metadata": {},
   "outputs": [
    {
     "data": {
      "text/plain": [
       "{'chennai', 'delhi', 'hyderabad', 'kolhapur', 'latur', 'mumbai', 'nashik'}"
      ]
     },
     "execution_count": 87,
     "metadata": {},
     "output_type": "execute_result"
    }
   ],
   "source": [
    "cities = {\"mumbai\", \"pune\", \"delhi\", \"chennai\", \"hyderabad\"}\n",
    "mh_cities = {\"pune\", \"nashik\", \"latur\", \"kolhapur\"}\n",
    "\n",
    "cities.symmetric_difference(mh_cities)"
   ]
  },
  {
   "cell_type": "code",
   "execution_count": 89,
   "id": "20ae146f",
   "metadata": {},
   "outputs": [
    {
     "data": {
      "text/plain": [
       "{'chennai', 'delhi', 'hyderabad', 'kolhapur', 'latur', 'mumbai', 'nashik'}"
      ]
     },
     "execution_count": 89,
     "metadata": {},
     "output_type": "execute_result"
    }
   ],
   "source": [
    "cities = {\"mumbai\", \"pune\", \"delhi\", \"chennai\", \"hyderabad\"}\n",
    "mh_cities = {\"pune\", \"nashik\", \"latur\", \"kolhapur\"}\n",
    "\n",
    "cities ^ mh_cities"
   ]
  },
  {
   "cell_type": "code",
   "execution_count": 93,
   "id": "a763c45c",
   "metadata": {},
   "outputs": [
    {
     "data": {
      "text/plain": [
       "set()"
      ]
     },
     "execution_count": 93,
     "metadata": {},
     "output_type": "execute_result"
    }
   ],
   "source": [
    "foo = set([1, 2, 3])\n",
    "bar = set([1, 3, 2])\n",
    "foo ^ bar"
   ]
  },
  {
   "cell_type": "markdown",
   "id": "1dbeb224",
   "metadata": {},
   "source": [
    "## `difference_update`\n",
    "\n",
    "- `-=`\n"
   ]
  },
  {
   "cell_type": "code",
   "execution_count": 119,
   "id": "681dcf79",
   "metadata": {},
   "outputs": [
    {
     "data": {
      "text/plain": [
       "{1, 2, 3, 4}"
      ]
     },
     "execution_count": 119,
     "metadata": {},
     "output_type": "execute_result"
    }
   ],
   "source": [
    "example1 = {1, 2, 3, 4, 5, 6}\n",
    "example2 = {5, 6, 7}\n",
    "\n",
    "result = example1.difference(example2)\n",
    "result"
   ]
  },
  {
   "cell_type": "code",
   "execution_count": 120,
   "id": "4b1baf8a",
   "metadata": {},
   "outputs": [
    {
     "name": "stdout",
     "output_type": "stream",
     "text": [
      "None\n",
      "{1, 2, 3, 4}\n"
     ]
    }
   ],
   "source": [
    "result = example1.difference_update(example2)\n",
    "print(result)\n",
    "print(example1)"
   ]
  },
  {
   "cell_type": "markdown",
   "id": "746c89d2",
   "metadata": {},
   "source": [
    "## `update()` function\n",
    "\n",
    "- "
   ]
  },
  {
   "cell_type": "code",
   "execution_count": 103,
   "id": "849b29a7",
   "metadata": {},
   "outputs": [
    {
     "name": "stdout",
     "output_type": "stream",
     "text": [
      "{1, 2, 3, 4, 5}\n"
     ]
    }
   ],
   "source": [
    "foo = {1, 2, 4}\n",
    "bar = {1, 2, 3, 4, 5}\n",
    "\n",
    "foo.update(bar)\n",
    "print(foo)"
   ]
  },
  {
   "cell_type": "code",
   "execution_count": 105,
   "id": "2d59b334",
   "metadata": {},
   "outputs": [
    {
     "data": {
      "text/plain": [
       "{'chennai',\n",
       " 'delhi',\n",
       " 'hyderabad',\n",
       " 'kolhapur',\n",
       " 'latur',\n",
       " 'mumbai',\n",
       " 'nashik',\n",
       " 'pune'}"
      ]
     },
     "execution_count": 105,
     "metadata": {},
     "output_type": "execute_result"
    }
   ],
   "source": [
    "cities = {\"mumbai\", \"pune\", \"delhi\", \"chennai\", \"hyderabad\"}\n",
    "mh_cities = {\"pune\", \"nashik\", \"latur\", \"kolhapur\"}\n",
    "\n",
    "cities.update(mh_cities)\n",
    "cities"
   ]
  },
  {
   "cell_type": "markdown",
   "id": "c8113871",
   "metadata": {},
   "source": [
    "## difference between update and union\n",
    "\n",
    "- update (`void` function)\n",
    "- union (`return` function)"
   ]
  },
  {
   "cell_type": "markdown",
   "id": "7d88d321",
   "metadata": {},
   "source": []
  }
 ],
 "metadata": {
  "kernelspec": {
   "display_name": "Python 3 (ipykernel)",
   "language": "python",
   "name": "python3"
  },
  "language_info": {
   "codemirror_mode": {
    "name": "ipython",
    "version": 3
   },
   "file_extension": ".py",
   "mimetype": "text/x-python",
   "name": "python",
   "nbconvert_exporter": "python",
   "pygments_lexer": "ipython3",
   "version": "3.9.7"
  }
 },
 "nbformat": 4,
 "nbformat_minor": 5
}
