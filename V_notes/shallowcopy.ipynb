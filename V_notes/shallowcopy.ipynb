{
 "cells": [
  {
   "cell_type": "code",
   "execution_count": 1,
   "id": "2e5a2523",
   "metadata": {},
   "outputs": [],
   "source": [
    "states_A = [\"MH\", [\"PUNE\", \"MUMBAI\"]]\n",
    "states_B = states_A.copy()"
   ]
  },
  {
   "cell_type": "code",
   "execution_count": 2,
   "id": "a8988a48",
   "metadata": {},
   "outputs": [
    {
     "name": "stdout",
     "output_type": "stream",
     "text": [
      "['MH', ['PUNE', 'MUMBAI']]\n",
      "['MH', ['PUNE', 'MUMBAI']]\n"
     ]
    }
   ],
   "source": [
    "print(states_A)\n",
    "print(states_B)"
   ]
  },
  {
   "cell_type": "code",
   "execution_count": 3,
   "id": "8b882a81",
   "metadata": {},
   "outputs": [
    {
     "name": "stdout",
     "output_type": "stream",
     "text": [
      "4354409600\n",
      "4354409600\n"
     ]
    }
   ],
   "source": [
    "print(id(states_A[1]))\n",
    "print(id(states_B[1]))"
   ]
  },
  {
   "cell_type": "code",
   "execution_count": 4,
   "id": "033dfe6b",
   "metadata": {},
   "outputs": [],
   "source": [
    "states_A[1].append(\"NASHIK\")"
   ]
  },
  {
   "cell_type": "code",
   "execution_count": 5,
   "id": "09080184",
   "metadata": {},
   "outputs": [
    {
     "name": "stdout",
     "output_type": "stream",
     "text": [
      "['MH', ['PUNE', 'MUMBAI', 'NASHIK']]\n",
      "['MH', ['PUNE', 'MUMBAI', 'NASHIK']]\n"
     ]
    }
   ],
   "source": [
    "print(states_A)\n",
    "print(states_B)"
   ]
  }
 ],
 "metadata": {
  "kernelspec": {
   "display_name": "Python 3 (ipykernel)",
   "language": "python",
   "name": "python3"
  },
  "language_info": {
   "codemirror_mode": {
    "name": "ipython",
    "version": 3
   },
   "file_extension": ".py",
   "mimetype": "text/x-python",
   "name": "python",
   "nbconvert_exporter": "python",
   "pygments_lexer": "ipython3",
   "version": "3.9.7"
  }
 },
 "nbformat": 4,
 "nbformat_minor": 5
}
