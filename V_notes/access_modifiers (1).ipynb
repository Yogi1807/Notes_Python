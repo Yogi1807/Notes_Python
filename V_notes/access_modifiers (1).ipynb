{
 "cells": [
  {
   "cell_type": "markdown",
   "id": "6de463fa-95cb-427f-859b-f0b259abbce8",
   "metadata": {},
   "source": [
    "## Inheritance"
   ]
  },
  {
   "cell_type": "markdown",
   "id": "9829169c-43b0-46d9-85cc-de0b127c3835",
   "metadata": {},
   "source": [
    "## Encapsulation\n",
    "\n",
    "- way of providing details on how data can be accessed.\n",
    "\n",
    "\n",
    "#### Access modifiers\n",
    "\n",
    "- public  \n",
    "- private \n",
    "- protected"
   ]
  },
  {
   "cell_type": "code",
   "execution_count": 1,
   "id": "2d498324-4532-4815-9691-06c6e0838a15",
   "metadata": {},
   "outputs": [],
   "source": [
    "class Employee:\n",
    "    company = \"Accenture\"\n",
    "    \n",
    "    def __init__(self, name, designation, salary):\n",
    "        self.name = name    # public\n",
    "        self._designation = designation # private\n",
    "        \n",
    "        # confidentials\n",
    "        self.__salary = salary  # protected\n",
    "        \n",
    "        \n",
    "    # Getter METHOD\n",
    "    def get_designation(self):\n",
    "        return self._designation\n",
    "    \n",
    "    \n",
    "    # Setter METHOD\n",
    "    def set_designation(self, new_designation):\n",
    "        self._designation = new_designation"
   ]
  },
  {
   "cell_type": "code",
   "execution_count": 3,
   "id": "d5ea37ce-49c5-449a-9121-baccdf9acecc",
   "metadata": {},
   "outputs": [
    {
     "name": "stdout",
     "output_type": "stream",
     "text": [
      "Virat Kohli\n",
      "Sr. Manager\n"
     ]
    },
    {
     "ename": "AttributeError",
     "evalue": "'Employee' object has no attribute '__salary'",
     "output_type": "error",
     "traceback": [
      "\u001b[0;31m---------------------------------------------------------------------------\u001b[0m",
      "\u001b[0;31mAttributeError\u001b[0m                            Traceback (most recent call last)",
      "Cell \u001b[0;32mIn [3], line 4\u001b[0m\n\u001b[1;32m      2\u001b[0m \u001b[38;5;28mprint\u001b[39m(virat\u001b[38;5;241m.\u001b[39mname)\n\u001b[1;32m      3\u001b[0m \u001b[38;5;28mprint\u001b[39m(virat\u001b[38;5;241m.\u001b[39m_designation)\n\u001b[0;32m----> 4\u001b[0m \u001b[38;5;28mprint\u001b[39m(\u001b[43mvirat\u001b[49m\u001b[38;5;241;43m.\u001b[39;49m\u001b[43m__salary\u001b[49m)\n",
      "\u001b[0;31mAttributeError\u001b[0m: 'Employee' object has no attribute '__salary'"
     ]
    }
   ],
   "source": [
    "virat = Employee(\"Virat Kohli\", \"Sr. Manager\", 1000000)\n",
    "print(virat.name)\n",
    "print(virat._designation)\n",
    "print(virat.__salary)\n",
    "\n"
   ]
  },
  {
   "cell_type": "markdown",
   "id": "099de950-134f-45c8-8231-3980261a1ef9",
   "metadata": {},
   "source": [
    "## getter and setter methods\n",
    "\n",
    "- getter method that allow us to access instance attribute\n",
    "- setter method that allows us to set value of instance attribute"
   ]
  },
  {
   "cell_type": "code",
   "execution_count": 31,
   "id": "8ee21aea-c8c6-43a8-a9f9-577f51e8b136",
   "metadata": {},
   "outputs": [],
   "source": [
    "class Person():\n",
    "    def __init__(self, name):\n",
    "        self._name = name  # instance attribute (private)\n",
    "        \n",
    "    def get_name(self):\n",
    "        return self._name\n",
    "    \n",
    "            \n",
    "    def set_name(self, first_name):\n",
    "        self._name = first_name\n",
    "        \n",
    "        \n",
    "class Child(Person):\n",
    "    def __init__(self, name):\n",
    "        super().__init__(name)\n",
    "        \n",
    "    def give_me_name(self):\n",
    "        print(f\"My name is {self._name}\")\n",
    "        \n",
    "    def set_name(self, first_name):\n",
    "        self._name = first_name\n",
    "        "
   ]
  },
  {
   "cell_type": "code",
   "execution_count": 16,
   "id": "ad23c8e5-49f4-4e9c-ab0c-cf4327864826",
   "metadata": {},
   "outputs": [
    {
     "name": "stdout",
     "output_type": "stream",
     "text": [
      "Prashant\n",
      "Rahul\n"
     ]
    }
   ],
   "source": [
    "## DOT operator\n",
    "print(Person(\"Prashant\")._name)\n",
    "\n",
    "## GETTER method\n",
    "print(Person(\"Rahul\").get_name())\n"
   ]
  },
  {
   "cell_type": "code",
   "execution_count": 23,
   "id": "0cae06c9-7cb9-4f79-b324-ad0c5be14239",
   "metadata": {},
   "outputs": [
    {
     "name": "stdout",
     "output_type": "stream",
     "text": [
      "Prashant\n",
      "My name is rahul\n"
     ]
    }
   ],
   "source": [
    "## DOT operator\n",
    "print(Child(\"Prashant\")._name)\n",
    "\n",
    "\n",
    "## GETTER method\n",
    "Child(\"rahul\").give_me_name()\n"
   ]
  },
  {
   "cell_type": "code",
   "execution_count": 33,
   "id": "e2d71bc5-5e37-4d6f-be8b-754927927d66",
   "metadata": {},
   "outputs": [
    {
     "name": "stdout",
     "output_type": "stream",
     "text": [
      "hardik\n",
      "hardik\n",
      "\n",
      "mahendra singh\n",
      "mahendra singh\n"
     ]
    }
   ],
   "source": [
    "p1 = Person(\"hardik\")\n",
    "print(p1._name)\n",
    "print(p1.get_name())\n",
    "\n",
    "print()\n",
    "## SETTER method\n",
    "p1._name = \"dhoni\"\n",
    "p1.set_name(\"mahendra singh\")\n",
    "print(p1._name)\n",
    "print(p1.get_name())"
   ]
  },
  {
   "cell_type": "markdown",
   "id": "fa52ff88-4e57-4b52-9fd0-7b04463b792a",
   "metadata": {},
   "source": [
    "## `__setattr__` magic method"
   ]
  },
  {
   "cell_type": "code",
   "execution_count": 84,
   "id": "eb0aab8e-8e34-4528-9b8e-a4550d8425d4",
   "metadata": {},
   "outputs": [],
   "source": [
    "class Random:\n",
    "    def __init__(self, name, address):\n",
    "        self.__dict__[\"_internal\"] = {\"name\": name, \"addr\": address}\n",
    "        \n",
    "    def __getattr__(self, attr):\n",
    "        print(\"to access internal attribute\")\n",
    "        return self._internal[attr]\n",
    "        "
   ]
  },
  {
   "cell_type": "code",
   "execution_count": 85,
   "id": "49d9bde7-5f11-4ad9-985f-28f45c70dfdd",
   "metadata": {},
   "outputs": [
    {
     "name": "stdout",
     "output_type": "stream",
     "text": [
      "to access internal attribute\n",
      "prashant\n",
      "to access internal attribute\n",
      "pune\n"
     ]
    }
   ],
   "source": [
    "r1 = Random(\"prashant\", \"pune\")\n",
    "\n",
    "print(r1.name)\n",
    "print(r1.addr)\n",
    "\n"
   ]
  },
  {
   "cell_type": "code",
   "execution_count": 119,
   "id": "f86d328e-160c-432b-ab61-04de3e7f0dd2",
   "metadata": {},
   "outputs": [
    {
     "name": "stdout",
     "output_type": "stream",
     "text": [
      "setting attribute here\n"
     ]
    }
   ],
   "source": [
    "class Employee:\n",
    "    company = \"Accenture\"\n",
    "    \n",
    "    def __init__(self, emp_name):\n",
    "        self.__dict__[\"name\"] = emp_name\n",
    "        \n",
    "        \n",
    "    def __setattr__(self, attr, value):\n",
    "        print(\"setting attribute here\")\n",
    "        self.__dict__[attr] = value\n",
    "        \n",
    "\n",
    "obj = Employee(\"Ashwin\")\n",
    "\n",
    "obj.__dict__\n",
    "\n",
    "obj.designation = \"sr manager\"\n",
    "\n"
   ]
  },
  {
   "cell_type": "code",
   "execution_count": 115,
   "id": "038a18d1-f987-4097-b47b-463a30f76d78",
   "metadata": {},
   "outputs": [
    {
     "name": "stdout",
     "output_type": "stream",
     "text": [
      "{'profession': 'engineer'}\n"
     ]
    },
    {
     "data": {
      "text/plain": [
       "'SALARY'"
      ]
     },
     "execution_count": 115,
     "metadata": {},
     "output_type": "execute_result"
    }
   ],
   "source": [
    "class Sample:\n",
    "    def __init__(self):\n",
    "        self.profession = \"engineer\"\n",
    "        \n",
    "        \n",
    "    def __getattr__(self, attr):\n",
    "        return attr.upper()\n",
    "    \n",
    "    \n",
    "obj = Sample()\n",
    "print(obj.__dict__)\n",
    "\n",
    "\n",
    "obj.salary"
   ]
  },
  {
   "cell_type": "code",
   "execution_count": 139,
   "id": "494b7957-86c1-42b3-8da9-39d731c3e837",
   "metadata": {},
   "outputs": [],
   "source": [
    "class Point:\n",
    "    \n",
    "    \n",
    "    def __init__(self, x_value, y_value):\n",
    "        self.x = x_value\n",
    "        self.y = y_value\n",
    "        \n",
    "        \n",
    "    def __str__(self):\n",
    "        return \"Point with x axis and y axis\"\n",
    "\n",
    "    def __repr__(self):\n",
    "        return f\"<Point({self.x}, {self.y})>\""
   ]
  },
  {
   "cell_type": "code",
   "execution_count": 142,
   "id": "1bc48add-32ea-4f05-953e-c47c50be2c60",
   "metadata": {},
   "outputs": [
    {
     "data": {
      "text/plain": [
       "<Point(10, 30)>"
      ]
     },
     "execution_count": 142,
     "metadata": {},
     "output_type": "execute_result"
    }
   ],
   "source": [
    "ex1 = Point(10, 30)\n",
    "ex1\n"
   ]
  },
  {
   "cell_type": "code",
   "execution_count": 144,
   "id": "ceb85a60-2bde-46d3-b58a-7e601b35e5d9",
   "metadata": {},
   "outputs": [
    {
     "data": {
      "text/plain": [
       "<map at 0x106d03580>"
      ]
     },
     "execution_count": 144,
     "metadata": {},
     "output_type": "execute_result"
    }
   ],
   "source": [
    "map(dir, [])"
   ]
  },
  {
   "cell_type": "code",
   "execution_count": 13,
   "id": "ee792ebb-07e6-49ae-ad6d-a881aac6cec4",
   "metadata": {},
   "outputs": [
    {
     "name": "stdout",
     "output_type": "stream",
     "text": [
      "use of in operator brings me here\n",
      "<class 'tuple'>\n"
     ]
    },
    {
     "data": {
      "text/plain": [
       "False"
      ]
     },
     "execution_count": 13,
     "metadata": {},
     "output_type": "execute_result"
    }
   ],
   "source": [
    "class Person:\n",
    "    \n",
    "    def __init__(self, name):\n",
    "        self.name = name\n",
    "\n",
    "\n",
    "class StudentList(Person):\n",
    "    def __init__(self, name, branch, year):\n",
    "        super().__init__(name)\n",
    "        self.branch = branch\n",
    "        self.year = year\n",
    "        self.combined = self.name\n",
    "        \n",
    "    def get_details(self):\n",
    "        return f\"DETAILS :: {self.name}, {self.branch}, {self.year}\"\n",
    "    \n",
    "    def __contains__(self, name_):\n",
    "        print(\"use of in operator brings me here\")\n",
    "        print(type(name_))\n",
    "        return self.name + self.branch == (name_,  \"CSE\")\n",
    "    \n",
    "    \n",
    "\n",
    "student_obj = StudentList(\"prashant\", \"CSE\", 2022)\n",
    "\n",
    "\n",
    "(\"prashant\", \"rahul\") in student_obj\n",
    "    "
   ]
  },
  {
   "cell_type": "code",
   "execution_count": 153,
   "id": "50acb5e6-3067-497d-90b6-10a05281f11b",
   "metadata": {},
   "outputs": [
    {
     "data": {
      "text/plain": [
       "['__class__',\n",
       " '__delattr__',\n",
       " '__dir__',\n",
       " '__doc__',\n",
       " '__eq__',\n",
       " '__format__',\n",
       " '__ge__',\n",
       " '__getattribute__',\n",
       " '__gt__',\n",
       " '__hash__',\n",
       " '__init__',\n",
       " '__init_subclass__',\n",
       " '__le__',\n",
       " '__lt__',\n",
       " '__ne__',\n",
       " '__new__',\n",
       " '__reduce__',\n",
       " '__reduce_ex__',\n",
       " '__repr__',\n",
       " '__setattr__',\n",
       " '__sizeof__',\n",
       " '__str__',\n",
       " '__subclasshook__']"
      ]
     },
     "execution_count": 153,
     "metadata": {},
     "output_type": "execute_result"
    }
   ],
   "source": [
    "dir(object)"
   ]
  },
  {
   "cell_type": "code",
   "execution_count": 163,
   "id": "749332ae-d498-4c43-b1b4-d3b4b692ed74",
   "metadata": {},
   "outputs": [],
   "source": [
    "class Item:\n",
    "    def __init__(self, num):\n",
    "        self.num = num\n",
    "        \n",
    "    def __add__(self, another_item):\n",
    "        print(\"custom string concatenation\")\n",
    "        return Item(another_item.num + self.num)\n",
    "    \n",
    "    "
   ]
  },
  {
   "cell_type": "code",
   "execution_count": 164,
   "id": "305c85ee-1608-4f06-91b3-e11687cdd4a0",
   "metadata": {},
   "outputs": [
    {
     "name": "stdout",
     "output_type": "stream",
     "text": [
      "custom string concatenation\n",
      " Velocity Python\n"
     ]
    }
   ],
   "source": [
    "first_ = Item(\" Python\")\n",
    "second_ = Item(\" Velocity\")\n",
    "\n",
    "third_ = first_ + second_\n",
    "print(third_.num)\n"
   ]
  },
  {
   "cell_type": "code",
   "execution_count": null,
   "id": "3828ec66",
   "metadata": {},
   "outputs": [],
   "source": []
  }
 ],
 "metadata": {
  "kernelspec": {
   "display_name": "Python 3 (ipykernel)",
   "language": "python",
   "name": "python3"
  },
  "language_info": {
   "codemirror_mode": {
    "name": "ipython",
    "version": 3
   },
   "file_extension": ".py",
   "mimetype": "text/x-python",
   "name": "python",
   "nbconvert_exporter": "python",
   "pygments_lexer": "ipython3",
   "version": "3.9.7"
  }
 },
 "nbformat": 4,
 "nbformat_minor": 5
}
