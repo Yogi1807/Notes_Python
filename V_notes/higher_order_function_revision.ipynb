{
 "cells": [
  {
   "cell_type": "code",
   "execution_count": 2,
   "id": "39ec5026-c635-41a0-b9dc-9aa140cce68e",
   "metadata": {},
   "outputs": [],
   "source": [
    "def max_item(collection_, func):\n",
    "    return func(collection_)\n",
    "\n",
    "\n"
   ]
  },
  {
   "cell_type": "code",
   "execution_count": 3,
   "id": "413eafd0-3683-4392-b73f-f4ca9c43ec97",
   "metadata": {},
   "outputs": [
    {
     "data": {
      "text/plain": [
       "3"
      ]
     },
     "execution_count": 3,
     "metadata": {},
     "output_type": "execute_result"
    }
   ],
   "source": [
    "foo = [1, 2, 3]\n",
    "max_func = max\n",
    "\n",
    "max_item(foo, max_func)"
   ]
  },
  {
   "cell_type": "code",
   "execution_count": 11,
   "id": "bab6e425-02de-4d33-9abe-6efc245f40cc",
   "metadata": {},
   "outputs": [],
   "source": [
    "def max_item(collection_):\n",
    "    def internal():\n",
    "        return max(collection_)\n",
    "    return internal"
   ]
  },
  {
   "cell_type": "code",
   "execution_count": 13,
   "id": "526fcfe8-4326-4907-bc78-5b5640865a72",
   "metadata": {},
   "outputs": [
    {
     "data": {
      "text/plain": [
       "3"
      ]
     },
     "execution_count": 13,
     "metadata": {},
     "output_type": "execute_result"
    }
   ],
   "source": [
    "foo = [1, 2, 3]\n",
    "\n",
    "get_max_value = max_item(foo)\n",
    "\n",
    "get_max_value()"
   ]
  },
  {
   "cell_type": "code",
   "execution_count": 6,
   "id": "c292d072-5576-4910-9984-2d7ff002bb2d",
   "metadata": {},
   "outputs": [
    {
     "data": {
      "text/plain": [
       "function"
      ]
     },
     "execution_count": 6,
     "metadata": {},
     "output_type": "execute_result"
    }
   ],
   "source": [
    "foo = [1, 2, 3]\n",
    "\n",
    "get_max_value = max_item(foo)\n",
    "type(get_max_value)"
   ]
  },
  {
   "cell_type": "code",
   "execution_count": 7,
   "id": "84032c3a-6445-4084-ba21-2caf7577f450",
   "metadata": {},
   "outputs": [
    {
     "data": {
      "text/plain": [
       "3"
      ]
     },
     "execution_count": 7,
     "metadata": {},
     "output_type": "execute_result"
    }
   ],
   "source": [
    "get_max_value()"
   ]
  },
  {
   "cell_type": "code",
   "execution_count": 15,
   "id": "d81207dc-0a7c-478d-8771-e7e684c3d027",
   "metadata": {},
   "outputs": [],
   "source": [
    "def describe_attr(item):\n",
    "    def call_dir():\n",
    "        return dir(item)\n",
    "    \n",
    "    result = call_dir()\n",
    "    return result"
   ]
  },
  {
   "cell_type": "code",
   "execution_count": 16,
   "id": "62231616-df0f-48b5-8e36-6df08cb67c80",
   "metadata": {},
   "outputs": [
    {
     "data": {
      "text/plain": [
       "['__class__',\n",
       " '__class_getitem__',\n",
       " '__contains__',\n",
       " '__delattr__',\n",
       " '__delitem__',\n",
       " '__dir__',\n",
       " '__doc__',\n",
       " '__eq__',\n",
       " '__format__',\n",
       " '__ge__',\n",
       " '__getattribute__',\n",
       " '__getitem__',\n",
       " '__gt__',\n",
       " '__hash__',\n",
       " '__init__',\n",
       " '__init_subclass__',\n",
       " '__ior__',\n",
       " '__iter__',\n",
       " '__le__',\n",
       " '__len__',\n",
       " '__lt__',\n",
       " '__ne__',\n",
       " '__new__',\n",
       " '__or__',\n",
       " '__reduce__',\n",
       " '__reduce_ex__',\n",
       " '__repr__',\n",
       " '__reversed__',\n",
       " '__ror__',\n",
       " '__setattr__',\n",
       " '__setitem__',\n",
       " '__sizeof__',\n",
       " '__str__',\n",
       " '__subclasshook__',\n",
       " 'clear',\n",
       " 'copy',\n",
       " 'fromkeys',\n",
       " 'get',\n",
       " 'items',\n",
       " 'keys',\n",
       " 'pop',\n",
       " 'popitem',\n",
       " 'setdefault',\n",
       " 'update',\n",
       " 'values']"
      ]
     },
     "execution_count": 16,
     "metadata": {},
     "output_type": "execute_result"
    }
   ],
   "source": [
    "describe_attr(dict)"
   ]
  },
  {
   "cell_type": "code",
   "execution_count": 17,
   "id": "7ece107b-7712-40ac-bbae-ebff162016b7",
   "metadata": {},
   "outputs": [],
   "source": [
    "def describe_attr(item):\n",
    "    def call_dir():\n",
    "        return dir(item)\n",
    "    return call_dir"
   ]
  },
  {
   "cell_type": "code",
   "execution_count": 19,
   "id": "f56a42e1-026b-4e5b-845c-e9a235b0923b",
   "metadata": {},
   "outputs": [
    {
     "data": {
      "text/plain": [
       "['__class__',\n",
       " '__class_getitem__',\n",
       " '__contains__',\n",
       " '__delattr__',\n",
       " '__delitem__',\n",
       " '__dir__',\n",
       " '__doc__',\n",
       " '__eq__',\n",
       " '__format__',\n",
       " '__ge__',\n",
       " '__getattribute__',\n",
       " '__getitem__',\n",
       " '__gt__',\n",
       " '__hash__',\n",
       " '__init__',\n",
       " '__init_subclass__',\n",
       " '__ior__',\n",
       " '__iter__',\n",
       " '__le__',\n",
       " '__len__',\n",
       " '__lt__',\n",
       " '__ne__',\n",
       " '__new__',\n",
       " '__or__',\n",
       " '__reduce__',\n",
       " '__reduce_ex__',\n",
       " '__repr__',\n",
       " '__reversed__',\n",
       " '__ror__',\n",
       " '__setattr__',\n",
       " '__setitem__',\n",
       " '__sizeof__',\n",
       " '__str__',\n",
       " '__subclasshook__',\n",
       " 'clear',\n",
       " 'copy',\n",
       " 'fromkeys',\n",
       " 'get',\n",
       " 'items',\n",
       " 'keys',\n",
       " 'pop',\n",
       " 'popitem',\n",
       " 'setdefault',\n",
       " 'update',\n",
       " 'values']"
      ]
     },
     "execution_count": 19,
     "metadata": {},
     "output_type": "execute_result"
    }
   ],
   "source": [
    "describe_attr(dict)()"
   ]
  },
  {
   "cell_type": "code",
   "execution_count": 20,
   "id": "e8023260-a37f-4ab5-b04c-43006c4473c3",
   "metadata": {},
   "outputs": [],
   "source": [
    "def get_type():\n",
    "    return type"
   ]
  },
  {
   "cell_type": "code",
   "execution_count": 22,
   "id": "5c11a63e-1b5c-4c6a-ae9f-742530c64221",
   "metadata": {},
   "outputs": [
    {
     "data": {
      "text/plain": [
       "str"
      ]
     },
     "execution_count": 22,
     "metadata": {},
     "output_type": "execute_result"
    }
   ],
   "source": [
    "get_type()(\"\")"
   ]
  },
  {
   "cell_type": "code",
   "execution_count": 23,
   "id": "6eb07745-603b-41b8-8299-2edd7ab9390c",
   "metadata": {},
   "outputs": [],
   "source": [
    "def get_len():\n",
    "    return len"
   ]
  },
  {
   "cell_type": "code",
   "execution_count": 25,
   "id": "128fe674-78d8-4258-896e-c4e8b6fe543d",
   "metadata": {},
   "outputs": [
    {
     "data": {
      "text/plain": [
       "0"
      ]
     },
     "execution_count": 25,
     "metadata": {},
     "output_type": "execute_result"
    }
   ],
   "source": [
    "get_len()([])"
   ]
  },
  {
   "cell_type": "code",
   "execution_count": 29,
   "id": "0f787058-3c26-431f-bfae-16b80c643556",
   "metadata": {},
   "outputs": [],
   "source": [
    "def get_exponent(exponent):\n",
    "    def internal(num):\n",
    "        return num ** exponent\n",
    "    \n",
    "    return internal"
   ]
  },
  {
   "cell_type": "code",
   "execution_count": 30,
   "id": "7432db4e-d013-4de8-b707-ee3d38aa30c7",
   "metadata": {},
   "outputs": [
    {
     "data": {
      "text/plain": [
       "<function __main__.get_exponent.<locals>.internal(num)>"
      ]
     },
     "execution_count": 30,
     "metadata": {},
     "output_type": "execute_result"
    }
   ],
   "source": [
    "get_exponent(3)"
   ]
  },
  {
   "cell_type": "code",
   "execution_count": 32,
   "id": "71ae7667-c24b-4fb5-a4d0-ff944be1b793",
   "metadata": {},
   "outputs": [
    {
     "data": {
      "text/plain": [
       "125"
      ]
     },
     "execution_count": 32,
     "metadata": {},
     "output_type": "execute_result"
    }
   ],
   "source": [
    "foo = get_exponent(3)\n",
    "foo(5)"
   ]
  },
  {
   "cell_type": "code",
   "execution_count": 34,
   "id": "8877ff7e-fb07-40db-aad0-9ebe1c317b60",
   "metadata": {},
   "outputs": [],
   "source": [
    "def create_an_adder(num):\n",
    "    def internal(x):\n",
    "        return num + x\n",
    "    return internal"
   ]
  },
  {
   "cell_type": "code",
   "execution_count": 35,
   "id": "f1bae733-72ba-494f-87fa-15506820fd79",
   "metadata": {},
   "outputs": [],
   "source": [
    "adder_5 = create_an_adder(5)"
   ]
  },
  {
   "cell_type": "code",
   "execution_count": 36,
   "id": "a68511bd-a513-48d5-af35-0617198e75b8",
   "metadata": {},
   "outputs": [
    {
     "data": {
      "text/plain": [
       "85"
      ]
     },
     "execution_count": 36,
     "metadata": {},
     "output_type": "execute_result"
    }
   ],
   "source": [
    "adder_5(80)"
   ]
  },
  {
   "cell_type": "code",
   "execution_count": 38,
   "id": "bc86d65c-a351-4528-9934-be194212f46b",
   "metadata": {},
   "outputs": [],
   "source": [
    "def notification(time):\n",
    "    def internal(msg):\n",
    "        return f\"{time} - {msg}\"\n",
    "    return internal"
   ]
  },
  {
   "cell_type": "code",
   "execution_count": 39,
   "id": "57111cd2-437e-41b9-a475-6bb4f4554cfd",
   "metadata": {},
   "outputs": [
    {
     "data": {
      "text/plain": [
       "<function __main__.notification.<locals>.internal(msg)>"
      ]
     },
     "execution_count": 39,
     "metadata": {},
     "output_type": "execute_result"
    }
   ],
   "source": [
    "func = notification(\"5 PM\")\n",
    "func"
   ]
  },
  {
   "cell_type": "code",
   "execution_count": 40,
   "id": "cd79108f-3ce8-4aab-899c-83d7b329058a",
   "metadata": {},
   "outputs": [
    {
     "data": {
      "text/plain": [
       "'5 PM - Today there is no session'"
      ]
     },
     "execution_count": 40,
     "metadata": {},
     "output_type": "execute_result"
    }
   ],
   "source": [
    "func(\"Today there is no session\")"
   ]
  },
  {
   "cell_type": "code",
   "execution_count": 48,
   "id": "f971b837-da66-4063-877b-2c57d134b499",
   "metadata": {},
   "outputs": [],
   "source": [
    "def notification_maker(msg, time):\n",
    "    def internal_1():\n",
    "        msg_list = msg.split()   # [\"Today\", \"there\", \"is\", .....]\n",
    "        return [word.capitalize() for word in msg_list]\n",
    "    \n",
    "    final_msg_list = internal_1()\n",
    "    \n",
    "    def final_msg():\n",
    "        return time + \" \" + \" \".join(final_msg_list)\n",
    "    \n",
    "    return final_msg\n",
    "        "
   ]
  },
  {
   "cell_type": "code",
   "execution_count": 49,
   "id": "d1f33101-f2e8-4bd9-95f9-31587c744f9b",
   "metadata": {},
   "outputs": [],
   "source": [
    "message = \"Today there is no session\"\n",
    "time = \"9:00 PM IST\"\n",
    "func = notification_maker(message, time)"
   ]
  },
  {
   "cell_type": "code",
   "execution_count": 50,
   "id": "5c0abd23-a689-482b-a791-a097f36a20ff",
   "metadata": {},
   "outputs": [
    {
     "data": {
      "text/plain": [
       "'9:00 PM IST Today There Is No Session'"
      ]
     },
     "execution_count": 50,
     "metadata": {},
     "output_type": "execute_result"
    }
   ],
   "source": [
    "func()"
   ]
  }
 ],
 "metadata": {
  "kernelspec": {
   "display_name": "Python 3 (ipykernel)",
   "language": "python",
   "name": "python3"
  },
  "language_info": {
   "codemirror_mode": {
    "name": "ipython",
    "version": 3
   },
   "file_extension": ".py",
   "mimetype": "text/x-python",
   "name": "python",
   "nbconvert_exporter": "python",
   "pygments_lexer": "ipython3",
   "version": "3.10.0"
  }
 },
 "nbformat": 4,
 "nbformat_minor": 5
}
