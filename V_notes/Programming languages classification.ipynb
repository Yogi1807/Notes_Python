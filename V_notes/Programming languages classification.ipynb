{
 "cells": [
  {
   "cell_type": "markdown",
   "id": "f35e7700",
   "metadata": {},
   "source": [
    "Programming language   =>    Binary  (1 and 0)"
   ]
  },
  {
   "cell_type": "markdown",
   "id": "12204b67",
   "metadata": {},
   "source": [
    "Apolo Spaceship\n",
    "\n",
    "Mobile Application  => spaceship 100x"
   ]
  },
  {
   "cell_type": "markdown",
   "id": "4c64abbe",
   "metadata": {},
   "source": [
    "## Categorization of programming languages\n",
    "\n",
    "- High level \n",
    "\n",
    "    - More understandable by human\n",
    "    - Harder to convert into binary\n",
    "    \n",
    "    Example,\n",
    "    \n",
    "        python\n",
    "        java\n",
    "        golang\n",
    "        javascript\n",
    "    \n",
    "- Low level \n",
    "    - less understandable by human\n",
    "    - easier to convert into binary\n",
    "    \n",
    "    Example, \n",
    "    \n",
    "        assembly language, \n",
    "        c "
   ]
  },
  {
   "cell_type": "code",
   "execution_count": null,
   "id": "7541345b",
   "metadata": {},
   "outputs": [],
   "source": []
  },
  {
   "cell_type": "code",
   "execution_count": null,
   "id": "4fff33f9",
   "metadata": {},
   "outputs": [],
   "source": []
  }
 ],
 "metadata": {
  "kernelspec": {
   "display_name": "Python 3 (ipykernel)",
   "language": "python",
   "name": "python3"
  },
  "language_info": {
   "codemirror_mode": {
    "name": "ipython",
    "version": 3
   },
   "file_extension": ".py",
   "mimetype": "text/x-python",
   "name": "python",
   "nbconvert_exporter": "python",
   "pygments_lexer": "ipython3",
   "version": "3.9.7"
  }
 },
 "nbformat": 4,
 "nbformat_minor": 5
}
