{
 "cells": [
  {
   "cell_type": "markdown",
   "id": "94048eb0",
   "metadata": {},
   "source": [
    "### `split` function\n",
    "\n",
    "- input (`str`)\n",
    "- output (`list`)"
   ]
  },
  {
   "cell_type": "markdown",
   "id": "58903517",
   "metadata": {},
   "source": [
    "### `join` function\n",
    "\n",
    "- input (`list`)\n",
    "- output (`str`)"
   ]
  },
  {
   "cell_type": "markdown",
   "id": "d8dbca4a",
   "metadata": {},
   "source": [
    "### basic data types\n",
    "\n",
    "- str\n",
    "- float\n",
    "- bool\n",
    "- None\n",
    "- int\n",
    "\n",
    "\n"
   ]
  },
  {
   "cell_type": "markdown",
   "id": "6becefaf",
   "metadata": {},
   "source": [
    "### Structured data types \n",
    "\n",
    "- list  (`list()`)\n",
    "- tuple (`tuple()`)\n",
    "- set\n",
    "- frozenset\n",
    "- dict"
   ]
  },
  {
   "cell_type": "markdown",
   "id": "a63fe603",
   "metadata": {},
   "source": [
    "# list\n",
    "\n",
    "- heterogeneous\n",
    "- homogeneous\n",
    "\n",
    "\n",
    "- Definition\n",
    "\n",
    "List is a collection of heterogeneous data type elements (not necessarily unique)"
   ]
  },
  {
   "cell_type": "markdown",
   "id": "4cbf5839",
   "metadata": {},
   "source": [
    "# how to create a list?"
   ]
  },
  {
   "cell_type": "code",
   "execution_count": 2,
   "id": "8de19fe8",
   "metadata": {},
   "outputs": [
    {
     "data": {
      "text/plain": [
       "list"
      ]
     },
     "execution_count": 2,
     "metadata": {},
     "output_type": "execute_result"
    }
   ],
   "source": [
    "# to create empty list\n",
    "foo = []\n",
    "type(foo)  # `foo` is an object of class `list`"
   ]
  },
  {
   "cell_type": "code",
   "execution_count": 3,
   "id": "cc5aa1dc",
   "metadata": {},
   "outputs": [
    {
     "data": {
      "text/plain": [
       "[]"
      ]
     },
     "execution_count": 3,
     "metadata": {},
     "output_type": "execute_result"
    }
   ],
   "source": [
    "# to create empty list\n",
    "bar = list()\n",
    "bar"
   ]
  },
  {
   "cell_type": "code",
   "execution_count": 6,
   "id": "4a3cab3e",
   "metadata": {},
   "outputs": [
    {
     "data": {
      "text/plain": [
       "list"
      ]
     },
     "execution_count": 6,
     "metadata": {},
     "output_type": "execute_result"
    }
   ],
   "source": [
    "# how to create list with elements?\n",
    "\n",
    "example = [\"prashant\", \"rahul\", \"virat\", \"hardik\"]\n",
    "type(example) # `example` is an object of class `list`"
   ]
  },
  {
   "cell_type": "code",
   "execution_count": 1,
   "id": "a0724edd",
   "metadata": {
    "scrolled": false
   },
   "outputs": [
    {
     "data": {
      "text/plain": [
       "['__add__',\n",
       " '__class__',\n",
       " '__class_getitem__',\n",
       " '__contains__',\n",
       " '__delattr__',\n",
       " '__delitem__',\n",
       " '__dir__',\n",
       " '__doc__',\n",
       " '__eq__',\n",
       " '__format__',\n",
       " '__ge__',\n",
       " '__getattribute__',\n",
       " '__getitem__',\n",
       " '__gt__',\n",
       " '__hash__',\n",
       " '__iadd__',\n",
       " '__imul__',\n",
       " '__init__',\n",
       " '__init_subclass__',\n",
       " '__iter__',\n",
       " '__le__',\n",
       " '__len__',\n",
       " '__lt__',\n",
       " '__mul__',\n",
       " '__ne__',\n",
       " '__new__',\n",
       " '__reduce__',\n",
       " '__reduce_ex__',\n",
       " '__repr__',\n",
       " '__reversed__',\n",
       " '__rmul__',\n",
       " '__setattr__',\n",
       " '__setitem__',\n",
       " '__sizeof__',\n",
       " '__str__',\n",
       " '__subclasshook__',\n",
       " 'append',\n",
       " 'clear',\n",
       " 'copy',\n",
       " 'count',\n",
       " 'extend',\n",
       " 'index',\n",
       " 'insert',\n",
       " 'pop',\n",
       " 'remove',\n",
       " 'reverse',\n",
       " 'sort']"
      ]
     },
     "execution_count": 1,
     "metadata": {},
     "output_type": "execute_result"
    }
   ],
   "source": [
    "foo = [\"prashant\", \"100\", 2500, 30.20, True]\n",
    "dir(foo)"
   ]
  },
  {
   "cell_type": "markdown",
   "id": "b4a2920d",
   "metadata": {},
   "source": [
    "## functions of `list`\n",
    "\n",
    "'append',\n",
    " 'clear',\n",
    " 'copy',\n",
    " 'count',\n",
    " 'extend',\n",
    " 'index',\n",
    " 'insert',\n",
    " 'pop',\n",
    " 'remove',\n",
    " 'reverse',\n",
    " 'sort'"
   ]
  },
  {
   "cell_type": "markdown",
   "id": "39c436f8",
   "metadata": {},
   "source": [
    "### `in-place` functions\n",
    "\n",
    "`list` functions change the original object itself and hence are called as `in-place` functions"
   ]
  },
  {
   "cell_type": "markdown",
   "id": "81632407",
   "metadata": {},
   "source": [
    "categorization of functions\n",
    "\n",
    "- void function   (by default returns `None`)\n",
    "- return function "
   ]
  },
  {
   "cell_type": "markdown",
   "id": "fa8cd049",
   "metadata": {},
   "source": [
    "## append function"
   ]
  },
  {
   "cell_type": "code",
   "execution_count": 16,
   "id": "7a97afa7",
   "metadata": {},
   "outputs": [
    {
     "data": {
      "text/plain": [
       "['Mumbai', 'Latur', 'Pune', 'Delhi', 'Jaipur']"
      ]
     },
     "execution_count": 16,
     "metadata": {},
     "output_type": "execute_result"
    }
   ],
   "source": [
    "cities = [\"Mumbai\", \"Latur\", \"Pune\", \"Delhi\"]\n",
    "cities.append(\"Jaipur\")\n",
    "cities"
   ]
  },
  {
   "cell_type": "code",
   "execution_count": 13,
   "id": "2446e250",
   "metadata": {},
   "outputs": [
    {
     "data": {
      "text/plain": [
       "['Mumbai', 'Latur', 'Pune', 'Delhi', 'Jaipur']"
      ]
     },
     "execution_count": 13,
     "metadata": {},
     "output_type": "execute_result"
    }
   ],
   "source": [
    "cities"
   ]
  },
  {
   "cell_type": "code",
   "execution_count": 11,
   "id": "d199bf49",
   "metadata": {},
   "outputs": [
    {
     "name": "stdout",
     "output_type": "stream",
     "text": [
      "Help on built-in function append:\n",
      "\n",
      "append(object, /) method of builtins.list instance\n",
      "    Append object to the end of the list.\n",
      "\n"
     ]
    }
   ],
   "source": [
    "help(cities.append)"
   ]
  },
  {
   "cell_type": "code",
   "execution_count": 17,
   "id": "d7b70a93",
   "metadata": {},
   "outputs": [],
   "source": [
    "countries = [\"usa\", \"india\", \"aus\", \"uk\"]"
   ]
  },
  {
   "cell_type": "code",
   "execution_count": 25,
   "id": "4c29d4da",
   "metadata": {},
   "outputs": [],
   "source": [
    "countries.append(\"pakistan\")"
   ]
  },
  {
   "cell_type": "code",
   "execution_count": 26,
   "id": "06471956",
   "metadata": {},
   "outputs": [
    {
     "data": {
      "text/plain": [
       "['usa',\n",
       " 'india',\n",
       " 'aus',\n",
       " 'uk',\n",
       " 'pakistan',\n",
       " 'pakistan',\n",
       " 'pakistan',\n",
       " 'pakistan',\n",
       " 'pakistan',\n",
       " 'pakistan',\n",
       " 'pakistan']"
      ]
     },
     "execution_count": 26,
     "metadata": {},
     "output_type": "execute_result"
    }
   ],
   "source": [
    "countries"
   ]
  },
  {
   "cell_type": "code",
   "execution_count": 28,
   "id": "87833b06",
   "metadata": {},
   "outputs": [],
   "source": [
    "cricketers = [\"virat\", \"hardik\", \"sachin\"]"
   ]
  },
  {
   "cell_type": "code",
   "execution_count": 31,
   "id": "845e978a",
   "metadata": {},
   "outputs": [],
   "source": [
    "cricketers.append(\"dhoni\")"
   ]
  },
  {
   "cell_type": "code",
   "execution_count": 32,
   "id": "b2149b49",
   "metadata": {},
   "outputs": [
    {
     "data": {
      "text/plain": [
       "['virat', 'hardik', 'sachin', 'dhoni', 'dhoni', 'dhoni']"
      ]
     },
     "execution_count": 32,
     "metadata": {},
     "output_type": "execute_result"
    }
   ],
   "source": [
    "cricketers"
   ]
  },
  {
   "cell_type": "markdown",
   "id": "ed7a1c39",
   "metadata": {},
   "source": [
    "## `clear` function"
   ]
  },
  {
   "cell_type": "code",
   "execution_count": 37,
   "id": "aff0e343",
   "metadata": {},
   "outputs": [
    {
     "data": {
      "text/plain": [
       "[]"
      ]
     },
     "execution_count": 37,
     "metadata": {},
     "output_type": "execute_result"
    }
   ],
   "source": [
    "politicians = [\"modi\", \"shah\", \"gadkari\", \"shinde\"]\n",
    "\n",
    "politicians.clear()\n",
    "politicians"
   ]
  },
  {
   "cell_type": "code",
   "execution_count": 38,
   "id": "67624437",
   "metadata": {},
   "outputs": [
    {
     "data": {
      "text/plain": [
       "[]"
      ]
     },
     "execution_count": 38,
     "metadata": {},
     "output_type": "execute_result"
    }
   ],
   "source": [
    "student_record = [\"prashant\", \"100\", 21]\n",
    "student_record.clear()\n",
    "student_record"
   ]
  },
  {
   "cell_type": "markdown",
   "id": "c8a38b0a",
   "metadata": {},
   "source": [
    "## copy function\n",
    "\n",
    "- shallow copy"
   ]
  },
  {
   "cell_type": "code",
   "execution_count": 39,
   "id": "0ba24734",
   "metadata": {},
   "outputs": [
    {
     "data": {
      "text/plain": [
       "['lenovo', 'dell', 'apple']"
      ]
     },
     "execution_count": 39,
     "metadata": {},
     "output_type": "execute_result"
    }
   ],
   "source": [
    "brands = [\"lenovo\", \"dell\", \"apple\"]\n",
    "laptops = brands.copy()\n",
    "laptops"
   ]
  },
  {
   "cell_type": "code",
   "execution_count": 40,
   "id": "2e633ecb",
   "metadata": {},
   "outputs": [
    {
     "name": "stdout",
     "output_type": "stream",
     "text": [
      "Help on built-in function copy:\n",
      "\n",
      "copy() method of builtins.list instance\n",
      "    Return a shallow copy of the list.\n",
      "\n"
     ]
    }
   ],
   "source": [
    "help(brands.copy)"
   ]
  },
  {
   "cell_type": "code",
   "execution_count": 54,
   "id": "80620c8c",
   "metadata": {},
   "outputs": [
    {
     "name": "stdout",
     "output_type": "stream",
     "text": [
      "['messi', 'ronaldo', 'sunil']\n",
      "['messi', 'ronaldo', 'sunil', 'xyz']\n"
     ]
    }
   ],
   "source": [
    "footballers = [\"messi\", \"ronaldo\", \"sunil\"]\n",
    "international = footballers.copy()\n",
    "international.append(\"xyz\")\n",
    "print(footballers)\n",
    "print(international)"
   ]
  },
  {
   "cell_type": "code",
   "execution_count": 1,
   "id": "7b3c09d0",
   "metadata": {},
   "outputs": [
    {
     "name": "stdout",
     "output_type": "stream",
     "text": [
      "['abc']\n",
      "['abc']\n"
     ]
    }
   ],
   "source": [
    "foo = []\n",
    "bar = foo\n",
    "\n",
    "foo.append(\"abc\")\n",
    "print(foo)\n",
    "print(bar)"
   ]
  },
  {
   "cell_type": "code",
   "execution_count": 47,
   "id": "cf897661",
   "metadata": {},
   "outputs": [
    {
     "data": {
      "text/plain": [
       "['jupyter', 'earth', 'marse', 'moon']"
      ]
     },
     "execution_count": 47,
     "metadata": {},
     "output_type": "execute_result"
    }
   ],
   "source": [
    "planets = [\"jupyter\", \"earth\", \"marse\"]\n",
    "foo = planets\n",
    "\n",
    "foo.append(\"moon\")\n",
    "\n",
    "planets"
   ]
  },
  {
   "cell_type": "markdown",
   "id": "e2deded5",
   "metadata": {},
   "source": [
    "# extend function\n",
    "\n",
    "- extend functions needs a list object as input\n",
    "- it updates existing list elements with additional elements from input list"
   ]
  },
  {
   "cell_type": "code",
   "execution_count": 60,
   "id": "1890492d",
   "metadata": {},
   "outputs": [
    {
     "data": {
      "text/plain": [
       "['lenovo', 'dell', 'apple', 'samsung', 'vivo']"
      ]
     },
     "execution_count": 60,
     "metadata": {},
     "output_type": "execute_result"
    }
   ],
   "source": [
    "store1 = [\"lenovo\", \"dell\", \"apple\"]\n",
    "\n",
    "store2 = [\"samsung\", \"vivo\"]\n",
    "\n",
    "result = store1.extend(store2)\n",
    "\n",
    "store1"
   ]
  },
  {
   "cell_type": "markdown",
   "id": "d0e24d17",
   "metadata": {},
   "source": [
    "### NOTE - `list` is a ordered data structure"
   ]
  },
  {
   "cell_type": "markdown",
   "id": "8983fa20",
   "metadata": {},
   "source": [
    "### `index` function"
   ]
  },
  {
   "cell_type": "code",
   "execution_count": 62,
   "id": "e3469d87",
   "metadata": {},
   "outputs": [],
   "source": [
    "foo = [True, False, \"random\", 100.30, 9000]\n",
    "\n",
    "    #.  0.     1.     2.        3.     4`"
   ]
  },
  {
   "cell_type": "code",
   "execution_count": 66,
   "id": "b83c57ce",
   "metadata": {},
   "outputs": [
    {
     "data": {
      "text/plain": [
       "4"
      ]
     },
     "execution_count": 66,
     "metadata": {},
     "output_type": "execute_result"
    }
   ],
   "source": [
    "foo.index(9000)"
   ]
  },
  {
   "cell_type": "code",
   "execution_count": 67,
   "id": "dffc6505",
   "metadata": {},
   "outputs": [
    {
     "name": "stdout",
     "output_type": "stream",
     "text": [
      "Help on built-in function index:\n",
      "\n",
      "index(value, start=0, stop=9223372036854775807, /) method of builtins.list instance\n",
      "    Return first index of value.\n",
      "    \n",
      "    Raises ValueError if the value is not present.\n",
      "\n"
     ]
    }
   ],
   "source": [
    "help(foo.index)"
   ]
  },
  {
   "cell_type": "code",
   "execution_count": 68,
   "id": "7d6973b4",
   "metadata": {},
   "outputs": [
    {
     "data": {
      "text/plain": [
       "0"
      ]
     },
     "execution_count": 68,
     "metadata": {},
     "output_type": "execute_result"
    }
   ],
   "source": [
    "cities = [\"mumbai\", \"mumbai\", \"pune\", \"mumbai\"]\n",
    "cities.index(\"mumbai\")"
   ]
  },
  {
   "cell_type": "code",
   "execution_count": 153,
   "id": "3e81a6a7",
   "metadata": {},
   "outputs": [
    {
     "data": {
      "text/plain": [
       "0"
      ]
     },
     "execution_count": 153,
     "metadata": {},
     "output_type": "execute_result"
    }
   ],
   "source": [
    "cities.index(\"mumbai\")"
   ]
  },
  {
   "cell_type": "markdown",
   "id": "afa759fa",
   "metadata": {},
   "source": [
    "## `insert` function\n",
    "\n",
    "- takes 2 arguments\n",
    "- first argument has to be index position\n",
    "- second argument has to be object you want to insert"
   ]
  },
  {
   "cell_type": "code",
   "execution_count": 69,
   "id": "d32225a5",
   "metadata": {},
   "outputs": [
    {
     "name": "stdout",
     "output_type": "stream",
     "text": [
      "Help on built-in function insert:\n",
      "\n",
      "insert(index, object, /) method of builtins.list instance\n",
      "    Insert object before index.\n",
      "\n"
     ]
    }
   ],
   "source": [
    "help([].insert)"
   ]
  },
  {
   "cell_type": "code",
   "execution_count": 2,
   "id": "0392ab20",
   "metadata": {},
   "outputs": [
    {
     "data": {
      "text/plain": [
       "['kothrud', 'shivajinagar', 'hadapsar', 'pimpari']"
      ]
     },
     "execution_count": 2,
     "metadata": {},
     "output_type": "execute_result"
    }
   ],
   "source": [
    "suburbs = [\"kothrud\", \"shivajinagar\", \"hadapsar\"]\n",
    "\n",
    "         #. 0.           1              2\n",
    "suburbs.insert( 3,\"pimpari\")\n",
    "suburbs"
   ]
  },
  {
   "cell_type": "code",
   "execution_count": 75,
   "id": "faf3df90",
   "metadata": {},
   "outputs": [
    {
     "data": {
      "text/plain": [
       "['karthik', 'shahrukh', 'salman', 'hritik', 'ajay', 'yash']"
      ]
     },
     "execution_count": 75,
     "metadata": {},
     "output_type": "execute_result"
    }
   ],
   "source": [
    "actors = [\"shahrukh\", \"salman\", \"hritik\", \"ajay\", \"yash\"]\n",
    "actors.insert(0, \"karthik\")\n",
    "actors"
   ]
  },
  {
   "cell_type": "markdown",
   "id": "e13cc959",
   "metadata": {},
   "source": [
    "## `pop` function\n",
    "\n",
    "- `pop` function works on principle \"LIFO\"\n",
    "- LIFO - Last In First Out\n",
    "- you can invoke `pop` function without any arguments"
   ]
  },
  {
   "cell_type": "markdown",
   "id": "33179a08",
   "metadata": {},
   "source": [
    "## stack of books\n",
    "\n",
    "\n",
    "c++\n",
    "c\n",
    "java\n",
    "python"
   ]
  },
  {
   "cell_type": "code",
   "execution_count": 89,
   "id": "281d4282",
   "metadata": {},
   "outputs": [
    {
     "data": {
      "text/plain": [
       "['apple', 'samsung', 'oppo', 'vivo']"
      ]
     },
     "execution_count": 89,
     "metadata": {},
     "output_type": "execute_result"
    }
   ],
   "source": [
    "mobiles = [\"apple\"]    \n",
    "mobiles.append(\"samsung\")\n",
    "mobiles.append(\"oppo\")\n",
    "mobiles.append(\"vivo\")\n",
    "mobiles"
   ]
  },
  {
   "cell_type": "code",
   "execution_count": 90,
   "id": "03084224",
   "metadata": {},
   "outputs": [
    {
     "data": {
      "text/plain": [
       "'oppo'"
      ]
     },
     "execution_count": 90,
     "metadata": {},
     "output_type": "execute_result"
    }
   ],
   "source": [
    "mobiles.pop(2) # pop-out"
   ]
  },
  {
   "cell_type": "code",
   "execution_count": 91,
   "id": "19caac85",
   "metadata": {},
   "outputs": [
    {
     "data": {
      "text/plain": [
       "['apple', 'samsung', 'vivo']"
      ]
     },
     "execution_count": 91,
     "metadata": {},
     "output_type": "execute_result"
    }
   ],
   "source": [
    "mobiles"
   ]
  },
  {
   "cell_type": "markdown",
   "id": "87f280a7",
   "metadata": {},
   "source": [
    "## stack implementation\n",
    "\n",
    "- append (to push elements in the stack)\n",
    "- pop    (to take out last element from stack)"
   ]
  },
  {
   "cell_type": "markdown",
   "id": "83bcef8d",
   "metadata": {},
   "source": [
    "## `remove` function"
   ]
  },
  {
   "cell_type": "code",
   "execution_count": 95,
   "id": "182979e5",
   "metadata": {},
   "outputs": [
    {
     "name": "stdout",
     "output_type": "stream",
     "text": [
      "Help on built-in function remove:\n",
      "\n",
      "remove(value, /) method of builtins.list instance\n",
      "    Remove first occurrence of value.\n",
      "    \n",
      "    Raises ValueError if the value is not present.\n",
      "\n"
     ]
    }
   ],
   "source": [
    "random = [\"prashant\", \"rahul\", \"sachin\"]\n",
    "help(random.remove)"
   ]
  },
  {
   "cell_type": "code",
   "execution_count": 96,
   "id": "1b4069f6",
   "metadata": {},
   "outputs": [],
   "source": [
    "random.remove(\"rahul\")"
   ]
  },
  {
   "cell_type": "code",
   "execution_count": 97,
   "id": "695c909b",
   "metadata": {},
   "outputs": [
    {
     "data": {
      "text/plain": [
       "['prashant', 'sachin']"
      ]
     },
     "execution_count": 97,
     "metadata": {},
     "output_type": "execute_result"
    }
   ],
   "source": [
    "random"
   ]
  },
  {
   "cell_type": "markdown",
   "id": "706c3b9a",
   "metadata": {},
   "source": [
    "### `reverse` function"
   ]
  },
  {
   "cell_type": "code",
   "execution_count": 100,
   "id": "4c151850",
   "metadata": {},
   "outputs": [
    {
     "data": {
      "text/plain": [
       "['prashant', 4, 3, 2, 1]"
      ]
     },
     "execution_count": 100,
     "metadata": {},
     "output_type": "execute_result"
    }
   ],
   "source": [
    "foo = [1, 2, 3, 4, \"prashant\"]\n",
    "foo.reverse()\n",
    "\n",
    "foo"
   ]
  },
  {
   "cell_type": "code",
   "execution_count": 101,
   "id": "15a49b51",
   "metadata": {},
   "outputs": [
    {
     "name": "stdout",
     "output_type": "stream",
     "text": [
      "Help on built-in function reverse:\n",
      "\n",
      "reverse() method of builtins.list instance\n",
      "    Reverse *IN PLACE*.\n",
      "\n"
     ]
    }
   ],
   "source": [
    "help(foo.reverse)"
   ]
  },
  {
   "cell_type": "markdown",
   "id": "8d3ee5ee",
   "metadata": {},
   "source": [
    "## `sort` function\n",
    "\n",
    "- by default sorts the list in ascending order"
   ]
  },
  {
   "cell_type": "code",
   "execution_count": 104,
   "id": "90606c09",
   "metadata": {},
   "outputs": [
    {
     "data": {
      "text/plain": [
       "[10, 20, 30, 40, 50, 60]"
      ]
     },
     "execution_count": 104,
     "metadata": {},
     "output_type": "execute_result"
    }
   ],
   "source": [
    "foo = [30, 40, 20, 10, 50, 60]\n",
    "foo.sort()\n",
    "\n",
    "foo"
   ]
  },
  {
   "cell_type": "code",
   "execution_count": 105,
   "id": "390549f6",
   "metadata": {},
   "outputs": [
    {
     "data": {
      "text/plain": [
       "['a', 'b', 'c']"
      ]
     },
     "execution_count": 105,
     "metadata": {},
     "output_type": "execute_result"
    }
   ],
   "source": [
    "bar = [\"b\", \"c\", \"a\"]\n",
    "bar.sort()\n",
    "bar"
   ]
  },
  {
   "cell_type": "code",
   "execution_count": 3,
   "id": "94a639e8",
   "metadata": {},
   "outputs": [
    {
     "data": {
      "text/plain": [
       "['aa', 'ab', 'ac']"
      ]
     },
     "execution_count": 3,
     "metadata": {},
     "output_type": "execute_result"
    }
   ],
   "source": [
    "random = [\"ab\", \"ac\", \"aa\"]\n",
    "random.sort()\n",
    "\n",
    "random"
   ]
  },
  {
   "cell_type": "code",
   "execution_count": 107,
   "id": "b685f0db",
   "metadata": {},
   "outputs": [
    {
     "name": "stdout",
     "output_type": "stream",
     "text": [
      "Help on built-in function sort:\n",
      "\n",
      "sort(*, key=None, reverse=False) method of builtins.list instance\n",
      "    Sort the list in ascending order and return None.\n",
      "    \n",
      "    The sort is in-place (i.e. the list itself is modified) and stable (i.e. the\n",
      "    order of two equal elements is maintained).\n",
      "    \n",
      "    If a key function is given, apply it once to each list item and sort them,\n",
      "    ascending or descending, according to their function values.\n",
      "    \n",
      "    The reverse flag can be set to sort in descending order.\n",
      "\n"
     ]
    }
   ],
   "source": [
    "help(random.sort)"
   ]
  },
  {
   "cell_type": "code",
   "execution_count": 108,
   "id": "14bd1f97",
   "metadata": {},
   "outputs": [
    {
     "data": {
      "text/plain": [
       "['ac', 'ab', 'aa']"
      ]
     },
     "execution_count": 108,
     "metadata": {},
     "output_type": "execute_result"
    }
   ],
   "source": [
    "random = [\"ab\", \"ac\", \"aa\"]\n",
    "random.sort(reverse=True)\n",
    "\n",
    "random"
   ]
  },
  {
   "cell_type": "code",
   "execution_count": 109,
   "id": "d5eab969",
   "metadata": {},
   "outputs": [
    {
     "data": {
      "text/plain": [
       "[60, 50, 40, 30, 20, 10]"
      ]
     },
     "execution_count": 109,
     "metadata": {},
     "output_type": "execute_result"
    }
   ],
   "source": [
    "foo = [30, 40, 20, 10, 50, 60]\n",
    "foo.sort(reverse=True)\n",
    "\n",
    "foo"
   ]
  },
  {
   "cell_type": "code",
   "execution_count": 111,
   "id": "2fbdd1dd",
   "metadata": {},
   "outputs": [
    {
     "ename": "TypeError",
     "evalue": "'<' not supported between instances of 'int' and 'str'",
     "output_type": "error",
     "traceback": [
      "\u001b[0;31m---------------------------------------------------------------------------\u001b[0m",
      "\u001b[0;31mTypeError\u001b[0m                                 Traceback (most recent call last)",
      "Cell \u001b[0;32mIn [111], line 5\u001b[0m\n\u001b[1;32m      1\u001b[0m \u001b[38;5;66;03m# we cannot compare `int` with `str`\u001b[39;00m\n\u001b[1;32m      4\u001b[0m example \u001b[38;5;241m=\u001b[39m [\u001b[38;5;124m\"\u001b[39m\u001b[38;5;124mprashant\u001b[39m\u001b[38;5;124m\"\u001b[39m, \u001b[38;5;241m40\u001b[39m]\n\u001b[0;32m----> 5\u001b[0m \u001b[43mexample\u001b[49m\u001b[38;5;241;43m.\u001b[39;49m\u001b[43msort\u001b[49m\u001b[43m(\u001b[49m\u001b[43m)\u001b[49m\n",
      "\u001b[0;31mTypeError\u001b[0m: '<' not supported between instances of 'int' and 'str'"
     ]
    }
   ],
   "source": [
    "# we cannot compare `int` with `str`\n",
    "\n",
    "\n",
    "example = [\"prashant\", 40]\n",
    "example.sort()"
   ]
  },
  {
   "cell_type": "code",
   "execution_count": 132,
   "id": "d6ba61a8",
   "metadata": {},
   "outputs": [],
   "source": [
    "foo = [1,2,3,4,5]"
   ]
  },
  {
   "cell_type": "code",
   "execution_count": 138,
   "id": "7707ac9c",
   "metadata": {},
   "outputs": [
    {
     "ename": "IndexError",
     "evalue": "pop from empty list",
     "output_type": "error",
     "traceback": [
      "\u001b[0;31m---------------------------------------------------------------------------\u001b[0m",
      "\u001b[0;31mIndexError\u001b[0m                                Traceback (most recent call last)",
      "Cell \u001b[0;32mIn [138], line 1\u001b[0m\n\u001b[0;32m----> 1\u001b[0m \u001b[43mfoo\u001b[49m\u001b[38;5;241;43m.\u001b[39;49m\u001b[43mpop\u001b[49m\u001b[43m(\u001b[49m\u001b[43m)\u001b[49m\n",
      "\u001b[0;31mIndexError\u001b[0m: pop from empty list"
     ]
    }
   ],
   "source": [
    "foo.pop()"
   ]
  },
  {
   "cell_type": "code",
   "execution_count": 143,
   "id": "4a879587",
   "metadata": {},
   "outputs": [
    {
     "name": "stdout",
     "output_type": "stream",
     "text": [
      "['prashant', 0.5, 13413513, ['foo', 'bar', 60, 0.3747]]\n"
     ]
    }
   ],
   "source": [
    "x = [\"prashant\", 0.50, 13413513, [\"foo\", \"bar\", 60, 0.3747]]\n",
    "    #.  0.        1.     2.        3\n",
    "                                  # 0.     1.    2.    3  \n",
    "        \n",
    "print(x)"
   ]
  },
  {
   "cell_type": "code",
   "execution_count": 4,
   "id": "6759a006",
   "metadata": {},
   "outputs": [
    {
     "name": "stdout",
     "output_type": "stream",
     "text": [
      "please enter radius: 10\n",
      "314.0\n"
     ]
    }
   ],
   "source": [
    "r = int(input(\"please enter radius: \"))\n",
    "\n",
    "square_of_radius = r * r\n",
    "result = 3.14 * square_of_radius\n",
    "print(result)"
   ]
  },
  {
   "cell_type": "code",
   "execution_count": 148,
   "id": "6d08f54d",
   "metadata": {},
   "outputs": [
    {
     "data": {
      "text/plain": [
       "list"
      ]
     },
     "execution_count": 148,
     "metadata": {},
     "output_type": "execute_result"
    }
   ],
   "source": [
    "list = [\"prashant\"]\n",
    "type(list)  # `list` is an object of class `list`"
   ]
  },
  {
   "cell_type": "code",
   "execution_count": 5,
   "id": "cfc91e6e",
   "metadata": {},
   "outputs": [
    {
     "data": {
      "text/plain": [
       "[]"
      ]
     },
     "execution_count": 5,
     "metadata": {},
     "output_type": "execute_result"
    }
   ],
   "source": [
    "foo = list()\n",
    "foo"
   ]
  },
  {
   "cell_type": "code",
   "execution_count": 150,
   "id": "6c6a6566",
   "metadata": {},
   "outputs": [
    {
     "data": {
      "text/plain": [
       "True"
      ]
     },
     "execution_count": 150,
     "metadata": {},
     "output_type": "execute_result"
    }
   ],
   "source": [
    "\"a\" in \"prashant\""
   ]
  },
  {
   "cell_type": "code",
   "execution_count": 4,
   "id": "44a68c8b",
   "metadata": {},
   "outputs": [
    {
     "name": "stdout",
     "output_type": "stream",
     "text": [
      "Help on built-in function count:\n",
      "\n",
      "count(value, /) method of builtins.list instance\n",
      "    Return number of occurrences of value.\n",
      "\n"
     ]
    }
   ],
   "source": [
    "help([].count)"
   ]
  },
  {
   "cell_type": "code",
   "execution_count": null,
   "id": "4dbc1f0a",
   "metadata": {},
   "outputs": [],
   "source": []
  }
 ],
 "metadata": {
  "kernelspec": {
   "display_name": "Python 3 (ipykernel)",
   "language": "python",
   "name": "python3"
  },
  "language_info": {
   "codemirror_mode": {
    "name": "ipython",
    "version": 3
   },
   "file_extension": ".py",
   "mimetype": "text/x-python",
   "name": "python",
   "nbconvert_exporter": "python",
   "pygments_lexer": "ipython3",
   "version": "3.9.7"
  }
 },
 "nbformat": 4,
 "nbformat_minor": 5
}
