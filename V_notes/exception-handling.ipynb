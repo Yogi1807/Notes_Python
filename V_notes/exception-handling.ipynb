{
 "cells": [
  {
   "cell_type": "markdown",
   "id": "287bc254-ce33-451e-a85a-910f8e629a0b",
   "metadata": {},
   "source": [
    "# Exception\n",
    "\n",
    "- KeyError\n",
    "- IndexError\n",
    "- ValueError\n",
    "- NameError\n",
    "\n"
   ]
  },
  {
   "cell_type": "markdown",
   "id": "860cf6d1-e987-471a-8c43-2f37d347ec35",
   "metadata": {},
   "source": [
    "# Exception (super-class) \n",
    "    - KeyError  (sub-class)\n",
    "    - IndexError\n",
    "    - ValueError\n",
    "    - NameError"
   ]
  },
  {
   "cell_type": "markdown",
   "id": "b6dd30b0-4a3c-44aa-a8a5-07335397d09b",
   "metadata": {},
   "source": [
    "## categorization of exception\n",
    "\n",
    "- `in-built` exceptions\n",
    "- `user-defined` exceptions"
   ]
  },
  {
   "cell_type": "code",
   "execution_count": null,
   "id": "209cc16c-d69f-4d2d-86f1-79e4445a5abf",
   "metadata": {},
   "outputs": [],
   "source": [
    "print(foo)"
   ]
  },
  {
   "cell_type": "markdown",
   "id": "33e16749-d606-476d-a916-ee1df4181e1b",
   "metadata": {},
   "source": [
    "# syntax\n",
    "\n",
    "```\n",
    "try:\n",
    "    statement1\n",
    "    statement2\n",
    "    ....\n",
    "    statementn\n",
    "\n",
    "except <ExceptionName>:\n",
    "    # logic to be evaluated in case `ExceptionName` occurs\n",
    "    \n",
    "finally:\n",
    "    # code that executes whatever happens in try-except\n",
    "\n",
    "```"
   ]
  },
  {
   "cell_type": "code",
   "execution_count": 2,
   "id": "4d9daa52-c266-4d2d-847e-ba7561ff4eee",
   "metadata": {},
   "outputs": [],
   "source": [
    "def get_int():\n",
    "    number = int(input(\"enter a numeric value :: \"))\n",
    "    return number"
   ]
  },
  {
   "cell_type": "code",
   "execution_count": null,
   "id": "2a815d57-de99-4043-9c37-83af14288bfa",
   "metadata": {},
   "outputs": [
    {
     "name": "stdout",
     "output_type": "stream",
     "text": [
      "enter a numeric value :: 34\n",
      "34\n",
      "enter a numeric value :: yogesh\n",
      "[ ERROR ] WRONG CHOICE\n",
      "enter a numeric value :: 65\n",
      "65\n"
     ]
    }
   ],
   "source": [
    "while True:\n",
    "    try:\n",
    "        print(get_int())\n",
    "    except ValueError:\n",
    "        print(\"[ ERROR ] WRONG CHOICE\")"
   ]
  },
  {
   "cell_type": "code",
   "execution_count": 4,
   "id": "693fa0d5-fcb3-4864-8ead-373f19a2ec1f",
   "metadata": {},
   "outputs": [
    {
     "name": "stdout",
     "output_type": "stream",
     "text": [
      "enter a numeric value :: yojvv\n",
      "[ ERROR ] WRONG CHOICE = invalid literal for int() with base 10: 'yojvv'\n"
     ]
    }
   ],
   "source": [
    "try:\n",
    "    print(get_int())\n",
    "except ValueError as ve:\n",
    "    print(f\"[ ERROR ] WRONG CHOICE = {ve}\")"
   ]
  },
  {
   "cell_type": "code",
   "execution_count": 5,
   "id": "5473721c-8c99-4b37-a8d2-532f1be94181",
   "metadata": {},
   "outputs": [
    {
     "name": "stdout",
     "output_type": "stream",
     "text": [
      "enter a numeric value :: yiyg\n",
      "[ ERROR ] unknown exception\n"
     ]
    }
   ],
   "source": [
    "try:\n",
    "    print(get_int())\n",
    "except:\n",
    "    print(\"[ ERROR ] unknown exception\")"
   ]
  },
  {
   "cell_type": "code",
   "execution_count": 15,
   "id": "41512762-768c-4250-95b0-3732044e10dd",
   "metadata": {},
   "outputs": [
    {
     "name": "stdin",
     "output_type": "stream",
     "text": [
      "enter a numeric value ::  safa\n"
     ]
    },
    {
     "name": "stdout",
     "output_type": "stream",
     "text": [
      "[ ERROR ] unknown exception - invalid literal for int() with base 10: 'safa'\n"
     ]
    }
   ],
   "source": [
    "try:\n",
    "    print(get_int())\n",
    "except Exception as e:\n",
    "    print(f\"[ ERROR ] unknown exception - {e}\")"
   ]
  },
  {
   "cell_type": "code",
   "execution_count": 6,
   "id": "49bff5c1-7092-4db8-a674-763aafc902c5",
   "metadata": {},
   "outputs": [
    {
     "name": "stdout",
     "output_type": "stream",
     "text": [
      "[ ERROR ] please get film_data.txt first and store in film_data.txt. Error details - [Errno 2] No such file or directory: 'film_data.txt'\n"
     ]
    }
   ],
   "source": [
    "try:\n",
    "    file_path = \"film_data.txt\"\n",
    "    with open(file_path) as fp:\n",
    "        data = fp.read()\n",
    "        print(data)\n",
    "        \n",
    "except FileNotFoundError as ex:\n",
    "    print(f\"[ ERROR ] please get film_data.txt first and store in {file_path}. Error details - {ex}\")\n",
    "    with open(file_path, \"w\") as fp:\n",
    "        data = fp.write(\"Film Name - avengers, ....etc.\")\n",
    "    \n",
    "        "
   ]
  },
  {
   "cell_type": "code",
   "execution_count": 10,
   "id": "c87ad3a0",
   "metadata": {},
   "outputs": [
    {
     "name": "stdout",
     "output_type": "stream",
     "text": [
      "[ ERROR ] please get film_data.txt first and store in film_data1.txt. Error details - [Errno 2] No such file or directory: 'film_data1.txt'\n"
     ]
    }
   ],
   "source": [
    "try:\n",
    "    file_path = \"film_data1.txt\"\n",
    "    with open(file_path) as fp:\n",
    "        data = fp.read()\n",
    "        print(data)\n",
    "        \n",
    "except FileNotFoundError as ex:\n",
    "    print(f\"[ ERROR ] please get film_data.txt first and store in {file_path}. Error details - {ex}\")\n",
    "    with open(file_path, \"w\") as fp:\n",
    "        data = fp.write(\"Film Name - avengers, ....etc.\")\n",
    "    \n",
    "        "
   ]
  },
  {
   "cell_type": "code",
   "execution_count": 12,
   "id": "af3b9e80-1f8b-477e-b211-a80951371a76",
   "metadata": {},
   "outputs": [
    {
     "name": "stdout",
     "output_type": "stream",
     "text": [
      "denominator cannot be zero. ERROR - integer division or modulo by zero\n"
     ]
    }
   ],
   "source": [
    "def divide_numbers(num1, num2):\n",
    "    try:\n",
    "        result = num1 // num2\n",
    "        return result\n",
    "    except ZeroDivisionError as ex:\n",
    "        print(f\"denominator cannot be zero. ERROR - {ex}\")\n",
    "        \n",
    "              \n",
    "divide_numbers(10, 0)"
   ]
  },
  {
   "cell_type": "markdown",
   "id": "5a3360c3-038b-4efd-b4cd-6242f353e80f",
   "metadata": {},
   "source": [
    "## how to handle multiple except clauses"
   ]
  },
  {
   "cell_type": "code",
   "execution_count": 13,
   "id": "74008bc9-dcee-43f7-b99b-d60bb981a8ee",
   "metadata": {},
   "outputs": [
    {
     "name": "stdout",
     "output_type": "stream",
     "text": [
      "incompatible data. ERROR DETAILS - invalid literal for int() with base 10: 'Film Name - avengers, ....etc.'\n"
     ]
    }
   ],
   "source": [
    "try:\n",
    "    \n",
    "    with open(\"film_data1.txt\") as foo:\n",
    "        for line in foo.readlines():\n",
    "            int(line)\n",
    "    \n",
    "except FileNotFoundError as ex1:\n",
    "    print(\"please get film_data first. ERROR DETAILS - {ex1}\".format(ex1=ex1))\n",
    "    \n",
    "except ValueError as ex2:\n",
    "    print(\"incompatible data. ERROR DETAILS - {ex2}\".format(ex2=ex2))\n",
    "    \n",
    "except:\n",
    "    print(\"unexpected exception\")"
   ]
  },
  {
   "cell_type": "markdown",
   "id": "78391cb1-236c-41bc-88d4-15d2cbe73816",
   "metadata": {},
   "source": [
    "## finally block\n",
    "\n",
    "- finally block executes in all circumstances (whether the exception is caught or not)\n",
    "- finally block is used for clean-up activity\n",
    "\n",
    "Use cases - \n",
    "\n",
    "- for open files or for open database connections we use finally block to close open files/connections"
   ]
  },
  {
   "cell_type": "code",
   "execution_count": 37,
   "id": "ea34de02-d983-4be5-b129-2c1b9fcb3f66",
   "metadata": {},
   "outputs": [
    {
     "name": "stdout",
     "output_type": "stream",
     "text": [
      "closing file in all circumstances\n"
     ]
    }
   ],
   "source": [
    "try:\n",
    "    \n",
    "    foo = open(\"film_data.txt\")\n",
    "    for line in foo.readlines():\n",
    "        int(line)\n",
    "    foo.close()\n",
    "    \n",
    "except FileNotFoundError as ex1:\n",
    "    print(\"please get film_data first. ERROR DETAILS - {ex1}\".format(ex1=ex1))\n",
    "    \n",
    "except ValueError as ex2:\n",
    "    print(\"incompatible data. ERROR DETAILS - {ex2}\".format(ex2=ex2))\n",
    "    \n",
    "except:\n",
    "    print(\"unexpected exception\")\n",
    "    \n",
    "finally:\n",
    "    foo.close()\n",
    "    print(\"closing file in all circumstances\")"
   ]
  },
  {
   "cell_type": "markdown",
   "id": "01bbb100-810a-46cb-8dd5-0be1b7602791",
   "metadata": {},
   "source": [
    "#### how to write multiple exceptions in single line\n",
    "#### how to have single handling for multiple exceptions"
   ]
  },
  {
   "cell_type": "code",
   "execution_count": 28,
   "id": "1612832d-a436-4542-b52a-13695b2787df",
   "metadata": {},
   "outputs": [
    {
     "name": "stdout",
     "output_type": "stream",
     "text": [
      "expected exception. ERROR details - [Errno 2] No such file or directory: 'film_data1.txt'\n"
     ]
    }
   ],
   "source": [
    "try:\n",
    "    \n",
    "    with open(\"film_data1.txt\") as foo:\n",
    "        for line in foo.readlines():\n",
    "            int(line)\n",
    "    \n",
    "except (FileNotFoundError, ValueError) as ex1:\n",
    "    print(f\"expected exception. ERROR details - {ex1}\")\n",
    "\n",
    "except:\n",
    "    print(\"unexpected exception\")"
   ]
  },
  {
   "cell_type": "markdown",
   "id": "a4c32c9a-6c21-4a35-8a56-234cb9cb0f45",
   "metadata": {},
   "source": [
    "# `raise` statement"
   ]
  },
  {
   "cell_type": "code",
   "execution_count": 14,
   "id": "deb4a7ea-b5e7-47c6-965c-d8e58a52d884",
   "metadata": {},
   "outputs": [
    {
     "name": "stdout",
     "output_type": "stream",
     "text": [
      "Please enter data : yihh\n"
     ]
    },
    {
     "ename": "KeyError",
     "evalue": "'Key is not found'",
     "output_type": "error",
     "traceback": [
      "\u001b[1;31m---------------------------------------------------------------------------\u001b[0m",
      "\u001b[1;31mKeyError\u001b[0m                                  Traceback (most recent call last)",
      "\u001b[1;32m~\\AppData\\Local\\Temp/ipykernel_2184/4059239774.py\u001b[0m in \u001b[0;36m<module>\u001b[1;34m\u001b[0m\n\u001b[0;32m      3\u001b[0m \u001b[1;33m\u001b[0m\u001b[0m\n\u001b[0;32m      4\u001b[0m \u001b[1;32mif\u001b[0m \u001b[0mdata\u001b[0m\u001b[1;33m.\u001b[0m\u001b[0mislower\u001b[0m\u001b[1;33m(\u001b[0m\u001b[1;33m)\u001b[0m\u001b[1;33m:\u001b[0m\u001b[1;33m\u001b[0m\u001b[1;33m\u001b[0m\u001b[0m\n\u001b[1;32m----> 5\u001b[1;33m     \u001b[1;32mraise\u001b[0m \u001b[0mKeyError\u001b[0m\u001b[1;33m(\u001b[0m\u001b[1;34m\"Key is not found\"\u001b[0m\u001b[1;33m)\u001b[0m\u001b[1;33m\u001b[0m\u001b[1;33m\u001b[0m\u001b[0m\n\u001b[0m\u001b[0;32m      6\u001b[0m \u001b[1;33m\u001b[0m\u001b[0m\n\u001b[0;32m      7\u001b[0m \u001b[1;32melse\u001b[0m\u001b[1;33m:\u001b[0m\u001b[1;33m\u001b[0m\u001b[1;33m\u001b[0m\u001b[0m\n",
      "\u001b[1;31mKeyError\u001b[0m: 'Key is not found'"
     ]
    }
   ],
   "source": [
    "data = input(\"Please enter data : \")\n",
    "\n",
    "\n",
    "if data.islower():\n",
    "    raise ValueError(\"custom message\")\n",
    "    \n",
    "else:\n",
    "    print(\"the data is correct\")\n",
    "    "
   ]
  },
  {
   "cell_type": "code",
   "execution_count": 34,
   "id": "357d378b-7c97-41cb-bab9-3aab9971099b",
   "metadata": {},
   "outputs": [
    {
     "ename": "SyntaxError",
     "evalue": "Sorry, my fault!!! (<string>)",
     "output_type": "error",
     "traceback": [
      "Traceback \u001b[0;36m(most recent call last)\u001b[0m:\n",
      "\u001b[0m  File \u001b[1;32m/Library/Frameworks/Python.framework/Versions/3.10/lib/python3.10/site-packages/IPython/core/interactiveshell.py:3378\u001b[0m in \u001b[1;35mrun_code\u001b[0m\n    exec(code_obj, self.user_global_ns, self.user_ns)\u001b[0m\n",
      "\u001b[0;36m  Cell \u001b[0;32mIn [34], line 1\u001b[0;36m\n\u001b[0;31m    raise SyntaxError(\"Sorry, my fault!!!\")\u001b[0;36m\n",
      "\u001b[0;36m  File \u001b[0;32m<string>\u001b[0;36m\u001b[0m\n\u001b[0;31mSyntaxError\u001b[0m\u001b[0;31m:\u001b[0m Sorry, my fault!!!\n"
     ]
    }
   ],
   "source": [
    "raise SyntaxError(\"Sorry, my fault!!!\")"
   ]
  },
  {
   "cell_type": "code",
   "execution_count": 16,
   "id": "69914c66",
   "metadata": {},
   "outputs": [
    {
     "name": "stdout",
     "output_type": "stream",
     "text": [
      "573838\n"
     ]
    },
    {
     "ename": "ValueError",
     "evalue": "Number not in 10 digit",
     "output_type": "error",
     "traceback": [
      "\u001b[1;31m---------------------------------------------------------------------------\u001b[0m",
      "\u001b[1;31mValueError\u001b[0m                                Traceback (most recent call last)",
      "\u001b[1;32m~\\AppData\\Local\\Temp/ipykernel_2184/1752469227.py\u001b[0m in \u001b[0;36m<module>\u001b[1;34m\u001b[0m\n\u001b[0;32m      1\u001b[0m \u001b[0mfoo\u001b[0m\u001b[1;33m=\u001b[0m\u001b[0minput\u001b[0m\u001b[1;33m(\u001b[0m\u001b[1;33m)\u001b[0m\u001b[1;33m\u001b[0m\u001b[1;33m\u001b[0m\u001b[0m\n\u001b[0;32m      2\u001b[0m \u001b[1;32mif\u001b[0m \u001b[0mlen\u001b[0m\u001b[1;33m(\u001b[0m\u001b[0mfoo\u001b[0m\u001b[1;33m)\u001b[0m\u001b[1;33m!=\u001b[0m\u001b[1;36m10\u001b[0m\u001b[1;33m:\u001b[0m\u001b[1;33m\u001b[0m\u001b[1;33m\u001b[0m\u001b[0m\n\u001b[1;32m----> 3\u001b[1;33m     \u001b[1;32mraise\u001b[0m \u001b[0mValueError\u001b[0m\u001b[1;33m(\u001b[0m\u001b[1;34m\"Number not in 10 digit\"\u001b[0m\u001b[1;33m)\u001b[0m\u001b[1;33m\u001b[0m\u001b[1;33m\u001b[0m\u001b[0m\n\u001b[0m\u001b[0;32m      4\u001b[0m \u001b[1;32melse\u001b[0m\u001b[1;33m:\u001b[0m\u001b[1;33m\u001b[0m\u001b[1;33m\u001b[0m\u001b[0m\n\u001b[0;32m      5\u001b[0m     \u001b[0mprint\u001b[0m\u001b[1;33m(\u001b[0m\u001b[1;34m\"call\"\u001b[0m\u001b[1;33m)\u001b[0m\u001b[1;33m\u001b[0m\u001b[1;33m\u001b[0m\u001b[0m\n",
      "\u001b[1;31mValueError\u001b[0m: Number not in 10 digit"
     ]
    }
   ],
   "source": [
    "foo=input()\n",
    "if len(foo)!=10:\n",
    "    raise ValueError(\"Number not in 10 digit\")\n",
    "else:\n",
    "    print(\"call\")\n"
   ]
  },
  {
   "cell_type": "code",
   "execution_count": 20,
   "id": "b9dce0a4-ce93-4b44-8148-0c383fb7c67e",
   "metadata": {},
   "outputs": [
    {
     "name": "stdout",
     "output_type": "stream",
     "text": [
      "please enter data : re\n",
      "value should either be `int` or `float`\n",
      "whether exceptions occurs or not... this line will be printed.\n"
     ]
    }
   ],
   "source": [
    "try:\n",
    "    x = float(input(\"please enter data : \"))\n",
    "    foo = 1.0 / x\n",
    "    print(foo)\n",
    "                    \n",
    "except ValueError:\n",
    "    print(\"value should either be `int` or `float`\")\n",
    "except ZeroDivisionError:\n",
    "    print(\"demonitor cannot be zero\")\n",
    "\n",
    "finally:\n",
    "    print(\"whether exceptions occurs or not... this line will be printed.\")"
   ]
  },
  {
   "cell_type": "markdown",
   "id": "d9834252-8128-4009-91e2-158a25f327f0",
   "metadata": {},
   "source": [
    "## optinal `else` block in `try-except`\n",
    "\n",
    "- this is not a popular use case\n",
    "- `else` block is always placed after `except` block\n",
    "- `else` block will only execute when `try` block does not produce any exceptions."
   ]
  },
  {
   "cell_type": "code",
   "execution_count": 19,
   "id": "93e686fd-22fa-47dc-8178-845337895cd0",
   "metadata": {},
   "outputs": [
    {
     "ename": "ValueError",
     "evalue": "invalid literal for int() with base 10: 'Film Name - avengers, ....etc.'",
     "output_type": "error",
     "traceback": [
      "\u001b[1;31m---------------------------------------------------------------------------\u001b[0m",
      "\u001b[1;31mValueError\u001b[0m                                Traceback (most recent call last)",
      "\u001b[1;32m~\\AppData\\Local\\Temp/ipykernel_2184/1735270211.py\u001b[0m in \u001b[0;36m<module>\u001b[1;34m\u001b[0m\n\u001b[0;32m      9\u001b[0m \u001b[1;32melse\u001b[0m\u001b[1;33m:\u001b[0m\u001b[1;33m\u001b[0m\u001b[1;33m\u001b[0m\u001b[0m\n\u001b[0;32m     10\u001b[0m     \u001b[1;32mfor\u001b[0m \u001b[0mline\u001b[0m \u001b[1;32min\u001b[0m \u001b[0mfp1\u001b[0m\u001b[1;33m.\u001b[0m\u001b[0mreadlines\u001b[0m\u001b[1;33m(\u001b[0m\u001b[1;33m)\u001b[0m\u001b[1;33m:\u001b[0m\u001b[1;33m\u001b[0m\u001b[1;33m\u001b[0m\u001b[0m\n\u001b[1;32m---> 11\u001b[1;33m         \u001b[0mresult\u001b[0m \u001b[1;33m=\u001b[0m \u001b[0mint\u001b[0m\u001b[1;33m(\u001b[0m\u001b[0mline\u001b[0m\u001b[1;33m)\u001b[0m\u001b[1;33m\u001b[0m\u001b[1;33m\u001b[0m\u001b[0m\n\u001b[0m\u001b[0;32m     12\u001b[0m         \u001b[0mprint\u001b[0m\u001b[1;33m(\u001b[0m\u001b[0mresult\u001b[0m\u001b[1;33m)\u001b[0m\u001b[1;33m\u001b[0m\u001b[1;33m\u001b[0m\u001b[0m\n",
      "\u001b[1;31mValueError\u001b[0m: invalid literal for int() with base 10: 'Film Name - avengers, ....etc.'"
     ]
    }
   ],
   "source": [
    "file_path = \"film_data.txt\"\n",
    "\n",
    "try: \n",
    "    fp1 = open(file_path)\n",
    "except FileNotFoundError as ex1:\n",
    "    print(\"Please get the film data first.\")\n",
    "except ValueError as ex2:\n",
    "    print(\"imcompatible data\")\n",
    "    \n",
    "else:\n",
    "    for line in fp1.readlines():\n",
    "        result = int(line)\n",
    "        print(result)"
   ]
  },
  {
   "cell_type": "code",
   "execution_count": null,
   "id": "26975f9a",
   "metadata": {},
   "outputs": [],
   "source": []
  }
 ],
 "metadata": {
  "kernelspec": {
   "display_name": "Python 3 (ipykernel)",
   "language": "python",
   "name": "python3"
  },
  "language_info": {
   "codemirror_mode": {
    "name": "ipython",
    "version": 3
   },
   "file_extension": ".py",
   "mimetype": "text/x-python",
   "name": "python",
   "nbconvert_exporter": "python",
   "pygments_lexer": "ipython3",
   "version": "3.9.7"
  }
 },
 "nbformat": 4,
 "nbformat_minor": 5
}
