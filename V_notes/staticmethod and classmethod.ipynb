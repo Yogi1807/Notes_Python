{
 "cells": [
  {
   "cell_type": "code",
   "execution_count": 4,
   "id": "03fc93c7-a543-4697-95d5-a9d4cc5bc318",
   "metadata": {},
   "outputs": [],
   "source": [
    "class Sample:\n",
    "    \n",
    "    company_name = \"Accenture\"\n",
    "    \n",
    "    def __init__(self, name):\n",
    "        self.name = name\n",
    "        \n",
    "    def get_name(self):    # instance method \n",
    "        return self.name"
   ]
  },
  {
   "cell_type": "code",
   "execution_count": 10,
   "id": "289d2661-c438-413b-804b-24273055a6fb",
   "metadata": {},
   "outputs": [],
   "source": [
    "obj = Sample(\"Prashant\")\n",
    "# dir(obj)\n",
    "\n",
    "## 'company_name', 'get_name', 'name'"
   ]
  },
  {
   "cell_type": "code",
   "execution_count": 11,
   "id": "64c3de3d-0467-4bd9-85f9-7a38a0de66e8",
   "metadata": {},
   "outputs": [],
   "source": [
    "# dir(Sample)\n",
    "\n",
    "# get_name, company_name"
   ]
  },
  {
   "cell_type": "markdown",
   "id": "7965d591-b889-45ab-9b62-f0eb70e8d8eb",
   "metadata": {},
   "source": [
    "## NOTE\n",
    "\n",
    "- To bundle data and functions as a single unit"
   ]
  },
  {
   "cell_type": "code",
   "execution_count": 1,
   "id": "cf59241b-49e1-41f7-bd8b-84230b82bd70",
   "metadata": {},
   "outputs": [
    {
     "data": {
      "text/plain": [
       "4"
      ]
     },
     "execution_count": 1,
     "metadata": {},
     "output_type": "execute_result"
    }
   ],
   "source": [
    "class Shape:\n",
    "    def __init__(self, dimensions):\n",
    "        self.dimensions = dimensions  # instance attribute\n",
    "        \n",
    "    def normal_insance_method(self):\n",
    "        return self.dimensions\n",
    "    \n",
    "    @staticmethod\n",
    "    def cm_to_meter(param1):\n",
    "        return param1 / 100\n",
    "        \n",
    "    \n",
    "    \n",
    "        \n",
    "square = Shape(4)\n",
    "\n",
    "square.normal_insance_method()\n",
    "        \n",
    "    \n",
    "    "
   ]
  },
  {
   "cell_type": "markdown",
   "id": "24785190-4067-4cae-afb3-08abaf223e23",
   "metadata": {},
   "source": [
    "## staticmethod\n",
    "\n",
    "- To write staticmethod, we use in-built decorator `@staticmethod`\n",
    "- `@staticmethod` does NOT have `self` as parameter\n",
    "- `@staticmethod` does not have any dependency on data associated with class\n",
    "\n",
    "\n",
    "- We can access staticmethod using object name and class name\n"
   ]
  },
  {
   "cell_type": "markdown",
   "id": "af4133ee-cbb4-4402-96dc-925822cf9eb1",
   "metadata": {},
   "source": [
    "## use cases of static method\n",
    "\n",
    "- `@staticmethod` is a utility method\n",
    "- `@staticmethod` if function is logically attached to a class but not with the data"
   ]
  },
  {
   "cell_type": "markdown",
   "id": "ca3b39f7-dd50-4ee6-b328-70a577d351fb",
   "metadata": {},
   "source": [
    "- instance method\n",
    "    when we want to access data associated with class\n",
    "    \n",
    "- static method\n",
    "    when we do not have to access any data associated with class"
   ]
  },
  {
   "cell_type": "code",
   "execution_count": 1,
   "id": "cf7865e8-1c44-4f32-80d9-32d0334071ff",
   "metadata": {},
   "outputs": [],
   "source": [
    "class LoanApplication:\n",
    "    \n",
    "    def __init__(self, principal, interest, tenure):\n",
    "        self.princi = principal\n",
    "        self.interest = interest\n",
    "        self.tenure = tenure\n",
    "        \n",
    "    def monthly_interest(self):\n",
    "        return (self.princi * self.interest) / 12\n",
    "    \n",
    "    @staticmethod\n",
    "    def convert_tenure_to_days(years):\n",
    "        return years * 12 * 30\n",
    "        \n",
    "        \n",
    "    "
   ]
  },
  {
   "cell_type": "code",
   "execution_count": 2,
   "id": "27ea0901-05c1-4d60-aa66-294214024469",
   "metadata": {},
   "outputs": [
    {
     "name": "stdout",
     "output_type": "stream",
     "text": [
      "True\n",
      "False\n",
      "True\n",
      "True\n"
     ]
    }
   ],
   "source": [
    "class Employee:\n",
    "    \n",
    "    def __init__(self, name, age):\n",
    "        self.name = name\n",
    "        self.age = age\n",
    "        \n",
    "    @staticmethod\n",
    "    def is_adult(years):\n",
    "        if years > 18:\n",
    "            return True\n",
    "        return False\n",
    "    \n",
    "    def get_salary_v1(self):\n",
    "        age_ = self.age\n",
    "        return self.is_adult(age_)\n",
    "    \n",
    "    def get_salary_v2(self):\n",
    "        age_ = self.age\n",
    "        return Employee.is_adult(age_)\n",
    "    \n",
    "\n",
    "    \n",
    "emp1 = Employee(\"Prashant\", 29)\n",
    "\n",
    "# NOTE - OUTSIDE THE CLASS\n",
    "# We can access staticmethod using both object name and class name\n",
    "\n",
    "print(emp1.is_adult(90))\n",
    "print(Employee.is_adult(10))\n",
    "\n",
    "\n",
    "### NOTE - INSIDE THE CLASS\n",
    "# We can access staticmethod using both object name and class name\n",
    "\n",
    "\n",
    "emp2 = Employee(\"Rahul\", 28)\n",
    "print(emp2.get_salary_v1())\n",
    "print(emp2.get_salary_v2())\n",
    "\n",
    "        "
   ]
  },
  {
   "cell_type": "code",
   "execution_count": 3,
   "id": "7e92c027-b329-4477-b1a2-69b3906e1eeb",
   "metadata": {},
   "outputs": [
    {
     "ename": "TypeError",
     "evalue": "__init__() missing 1 required positional argument: 'profession'",
     "output_type": "error",
     "traceback": [
      "\u001b[1;31m---------------------------------------------------------------------------\u001b[0m",
      "\u001b[1;31mTypeError\u001b[0m                                 Traceback (most recent call last)",
      "\u001b[1;32m~\\AppData\\Local\\Temp/ipykernel_12732/3108596009.py\u001b[0m in \u001b[0;36m<module>\u001b[1;34m\u001b[0m\n\u001b[0;32m     36\u001b[0m \u001b[0mp1\u001b[0m\u001b[1;33m.\u001b[0m\u001b[0mget_details\u001b[0m\u001b[1;33m(\u001b[0m\u001b[1;33m)\u001b[0m\u001b[1;33m\u001b[0m\u001b[1;33m\u001b[0m\u001b[0m\n\u001b[0;32m     37\u001b[0m \u001b[1;33m\u001b[0m\u001b[0m\n\u001b[1;32m---> 38\u001b[1;33m \u001b[0mt1\u001b[0m \u001b[1;33m=\u001b[0m \u001b[0mTeacher\u001b[0m\u001b[1;33m(\u001b[0m\u001b[1;34m\"Rahul\"\u001b[0m\u001b[1;33m,\u001b[0m \u001b[1;36m28\u001b[0m\u001b[1;33m)\u001b[0m\u001b[1;33m\u001b[0m\u001b[1;33m\u001b[0m\u001b[0m\n\u001b[0m\u001b[0;32m     39\u001b[0m \u001b[0mt1\u001b[0m\u001b[1;33m.\u001b[0m\u001b[0mis_adult\u001b[0m\u001b[1;33m(\u001b[0m\u001b[1;36m90\u001b[0m\u001b[1;33m)\u001b[0m\u001b[1;33m\u001b[0m\u001b[1;33m\u001b[0m\u001b[0m\n",
      "\u001b[1;31mTypeError\u001b[0m: __init__() missing 1 required positional argument: 'profession'"
     ]
    }
   ],
   "source": [
    "class Person:\n",
    "    \"\"\" super class of all the professions \"\"\"\n",
    "    \n",
    "    color = \"white\"\n",
    "    height = \"1.74 meters\"\n",
    "    \n",
    "    \n",
    "    def __init__(self, name, age):\n",
    "        self.name = name\n",
    "        self.age = age\n",
    "        \n",
    "    @staticmethod\n",
    "    def is_adult(years):\n",
    "        if years > 18:\n",
    "            return True\n",
    "        return False   \n",
    "        \n",
    "    def get_details(self):\n",
    "        return f\"{self.name} ({self.age})\"\n",
    "    \n",
    "    def name_color(self):\n",
    "        return self.name + Person.color\n",
    "    \n",
    "    \n",
    "\n",
    "class Teacher(Person):\n",
    "    def __init__(self, name, age, profession):\n",
    "        super().__init__(name, age)\n",
    "        self.profession = profession\n",
    "            \n",
    "    \n",
    "\n",
    "    \n",
    "\n",
    "p1 = Person(\"Prashant\", 29)\n",
    "p1.get_details()\n",
    "\n",
    "t1 = Teacher(\"Rahul\", 28)\n",
    "t1.is_adult(90)\n"
   ]
  },
  {
   "cell_type": "markdown",
   "id": "8eb78488-0b68-4770-a2ec-a75bcb119de4",
   "metadata": {},
   "source": [
    "\n",
    "\n",
    "\n",
    "\n",
    "\n",
    "## classmethod\n",
    "\n",
    "- DRY (Do not Repeat Yourself)\n",
    "\n",
    "\n",
    "- `@classmethod` can be defined using decorator called `@classmethod`\n",
    "- `@classmethod` will always have first argument as `cls`\n",
    "- `cls` is reference to class itself.\n",
    "\n",
    "- `@classmethod` is bound to class (NOT to the object)"
   ]
  },
  {
   "cell_type": "code",
   "execution_count": 10,
   "id": "bbb2ce31-1f3a-4b68-b747-8c6ded6a492f",
   "metadata": {},
   "outputs": [
    {
     "name": "stdout",
     "output_type": "stream",
     "text": [
      "purple\n",
      "white\n"
     ]
    },
    {
     "data": {
      "text/plain": [
       "'Red'"
      ]
     },
     "execution_count": 10,
     "metadata": {},
     "output_type": "execute_result"
    }
   ],
   "source": [
    "class Person:\n",
    "    \"\"\" super class of all the professions \"\"\"\n",
    "    \n",
    "    color = \"white\"   \n",
    "    height = \"1.74 meters\"\n",
    "    \n",
    "    def __init__(self, name, age):\n",
    "        self.name = name\n",
    "        self.age = age\n",
    "\n",
    "    def name_color(self):\n",
    "        return self.name + \" \" + Person.color\n",
    "    \n",
    "#     @classmethod\n",
    "#     def update_color(cls):\n",
    "#         cls.color = \"black\"\n",
    "        \n",
    "        \n",
    "    \n",
    "p3 = Person(\"Virat\", 32)\n",
    "p3.name_color()\n",
    "\n",
    "\n",
    "p4 = Person(\"Rahul\", 34)\n",
    "# p4.update_color()\n",
    "p4.color\n",
    "p4.color = \"purple\"\n",
    "print(p4.color)\n",
    "print(Person.color)\n",
    "Person.color = \"Red\"\n",
    "p3.color"
   ]
  },
  {
   "cell_type": "markdown",
   "id": "69d06442-5237-48a7-9b5e-c438ead8788b",
   "metadata": {},
   "source": [
    "### accessing `classmethod` outside and inside the class"
   ]
  },
  {
   "cell_type": "code",
   "execution_count": 34,
   "id": "0a533272-6693-4a89-99d1-6decec5b445e",
   "metadata": {},
   "outputs": [
    {
     "name": "stdout",
     "output_type": "stream",
     "text": [
      "3\n",
      "3\n"
     ]
    },
    {
     "data": {
      "text/plain": [
       "3"
      ]
     },
     "execution_count": 34,
     "metadata": {},
     "output_type": "execute_result"
    }
   ],
   "source": [
    "class Robot:\n",
    "    \"\"\"This class is Robot Factory\"\"\"\n",
    "    \n",
    "    \n",
    "    counter = 0\n",
    "    \n",
    "    def __init__(self):   # constructor, instance method\n",
    "        Robot.counter += 1\n",
    "    \n",
    "    @classmethod\n",
    "    def robot_count(cls):\n",
    "        return cls.counter\n",
    "    \n",
    "    def get_count(self):\n",
    "        return self.robot_count()\n",
    "    \n",
    "    \n",
    "r1 = Robot()\n",
    "r2 = Robot()\n",
    "r3 = Robot()\n",
    "\n",
    "print(Robot.counter)\n",
    "print(Robot.robot_count())\n",
    "\n",
    "## NOTE - OUTSIDE THE CLASS\n",
    "# classmethod can be accessed using both class name and object name\n",
    "r1.robot_count()\n",
    "\n",
    "# NOTE - INSIDE THE CLASS\n",
    "# classmethod can be accessed using both class name and object name\n",
    "r1.get_count()\n",
    "    "
   ]
  },
  {
   "cell_type": "code",
   "execution_count": 37,
   "id": "76d8cd77-f41c-408c-a0df-8e4811e3a8be",
   "metadata": {},
   "outputs": [
    {
     "data": {
      "text/plain": [
       "0.6410256410256411"
      ]
     },
     "execution_count": 37,
     "metadata": {},
     "output_type": "execute_result"
    }
   ],
   "source": [
    "class JuiceMaker:\n",
    "    \n",
    "    rate = 50\n",
    "    income = 0\n",
    "    \n",
    "    def __init__(self, fruit):\n",
    "        self.fruit = fruit\n",
    "\n",
    "    @classmethod\n",
    "    def sale_juice(cls):\n",
    "        cls.income += cls.rate\n",
    "        \n",
    "    def milkshake(self):\n",
    "        return self.fruit + \"milkshake\"\n",
    "    \n",
    "    @staticmethod\n",
    "    def convert_in_dollar(amount):\n",
    "        return amount / 78\n",
    "    \n",
    "\n",
    "j1 = JuiceMaker(\"Prashant\")\n",
    "j1.sale_juice()\n",
    "j1.income\n",
    "\n",
    "JuiceMaker.convert_in_dollar(j1.income)\n",
    "    \n",
    "        \n",
    "        \n",
    "        \n",
    "        "
   ]
  }
 ],
 "metadata": {
  "kernelspec": {
   "display_name": "Python 3 (ipykernel)",
   "language": "python",
   "name": "python3"
  },
  "language_info": {
   "codemirror_mode": {
    "name": "ipython",
    "version": 3
   },
   "file_extension": ".py",
   "mimetype": "text/x-python",
   "name": "python",
   "nbconvert_exporter": "python",
   "pygments_lexer": "ipython3",
   "version": "3.9.7"
  }
 },
 "nbformat": 4,
 "nbformat_minor": 5
}
